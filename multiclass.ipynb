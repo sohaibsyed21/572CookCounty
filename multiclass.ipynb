{
 "cells": [
  {
   "cell_type": "code",
   "execution_count": 1,
   "metadata": {},
   "outputs": [],
   "source": [
    "#Created by Chris Chen, Tinh Cao, Shashank Parameswaran, Zainab Hasnain, Sohaib Syed, From IIT\n",
    "#For debug please contact chriserdou123@gmail.com\n",
    "import pandas as pd\n",
    "import numpy as np\n",
    "import matplotlib.pyplot as plt\n",
    "import seaborn as sns\n",
    "import time\n",
    "from datetime import datetime"
   ]
  },
  {
   "cell_type": "code",
   "execution_count": 2,
   "metadata": {},
   "outputs": [
    {
     "name": "stderr",
     "output_type": "stream",
     "text": [
      "/usr/local/lib/python2.7/site-packages/IPython/core/interactiveshell.py:2714: DtypeWarning: Columns (9) have mixed types. Specify dtype option on import or set low_memory=False.\n",
      "  interactivity=interactivity, compiler=compiler, result=result)\n",
      "Skipping line 1528882: expected 81 fields, saw 83\n",
      "\n",
      "/usr/local/lib/python2.7/site-packages/IPython/core/interactiveshell.py:2714: DtypeWarning: Columns (9,21,25,31,44,67) have mixed types. Specify dtype option on import or set low_memory=False.\n",
      "  interactivity=interactivity, compiler=compiler, result=result)\n"
     ]
    }
   ],
   "source": [
    "#In target's source field input the location of the data you want to predict\n",
    "#In df1 to df4's source field input the location of the previous 4 years. If 2022 is target year, then input 2017-2021\n",
    "#Header, InstDates for respective files\n",
    "#target1stDate for target year 1st installment due date\n",
    "#targetYear format for the year of the target dataset\n",
    "\n",
    "#The location formats and targetYear variable should be close to the ones listed below\n",
    "\n",
    "target = pd.read_csv('/Users/harrisonchen/Desktop/CCTO Property/2021.rpt',sep='|',header=None,dtype = {1: str, 8: str, 15: str, 40: str, 41: str, 53: str, 54:str},error_bad_lines=False)\n",
    "\n",
    "df1 = pd.read_csv('/Users/harrisonchen/Desktop/CCTO Property/2017.rpt',sep='|',header=None,dtype = {1: str, 8: str, 15: str, 40: str, 41: str, 53: str, 54:str},error_bad_lines=False)\n",
    "df2 = pd.read_csv('/Users/harrisonchen/Desktop/CCTO Property/2018.rpt',sep='|',header=None,dtype = {1: str, 8: str, 15: str, 40: str, 41: str, 53: str, 54:str},error_bad_lines=False)\n",
    "df3 = pd.read_csv('/Users/harrisonchen/Desktop/CCTO Property/2019.rpt',sep='|',header=None,dtype = {1: str, 8: str, 15: str, 40: str, 41: str, 53: str, 54:str},error_bad_lines=False)\n",
    "df4 = pd.read_csv('/Users/harrisonchen/Desktop/CCTO Property/2020.rpt',sep='|',header=None,dtype = {1: str, 8: str, 15: str, 40: str, 41: str, 53: str, 54:str},error_bad_lines=False)\n",
    "\n",
    "header = pd.read_csv('/Users/harrisonchen/Desktop/CCTO Property/Header.rpt', sep='|', header=None)\n",
    "instDates = pd.read_csv(\"/Users/harrisonchen/Desktop/CCTO Property/InstDates.csv\")\n",
    "\n",
    "targetYear = 2021"
   ]
  },
  {
   "cell_type": "code",
   "execution_count": 3,
   "metadata": {},
   "outputs": [],
   "source": [
    "head = header.iloc[0].to_list()\n",
    "df1 = df1.dropna()\n",
    "df2 = df2.dropna()\n",
    "df3 = df3.dropna()\n",
    "df4 = df4.dropna()\n",
    "target = target.dropna()\n",
    "\n",
    "df1.columns = head\n",
    "df2.columns = head\n",
    "df3.columns = head\n",
    "df4.columns = head\n",
    "target.columns = head"
   ]
  },
  {
   "cell_type": "code",
   "execution_count": 4,
   "metadata": {},
   "outputs": [
    {
     "data": {
      "text/plain": [
       "7461906"
      ]
     },
     "execution_count": 4,
     "metadata": {},
     "output_type": "execute_result"
    }
   ],
   "source": [
    "df1 = df1[['PIN','TaxStatus','HomeownerExempt', 'SeniorExempt','SeniorFreezeExempt', 'LongtimeHomeownersExempt',\n",
    "            'TaxType', 'BillYear', 'BillType','AdjustedAmountDue1','TaxAmountDue1','InterestAmountDue1','CostAmountDue1',\n",
    "            'TotalAmountDue1','LastPaymentDate1','LastPaymentSource1','OriginalTaxDue2','AdjustedTaxDue2','TaxAmountDue2',\n",
    "            'InterestAmountDue2','CostAmountDue2','TotalAmountDue2','LastPaymentDate2','LastPaymentSource2','CofENumber',\n",
    "            'PastTaxSaleStatus','EqualizedEvaluation','AssessedValuation','TaxRate','CondemnationStatus', 'MunicipalAcquisitionStatus',\n",
    "            'AcquisitionStatus', 'ExemptStatus', 'BankruptStatus','RefundStatus', 'LastPaymentReceivedAmount1',\n",
    "            'LastPaymentReceivedAmount2','HomeownerExemptAmount', 'SeniorExemptAmount','SeniorFreezeExemptAmount', 'LongtimeHomeownersExemptAmount',\n",
    "            'VeteranExempt','TaxDueEstimated1']]\n",
    "df2 = df2[['PIN','TaxStatus','HomeownerExempt', 'SeniorExempt','SeniorFreezeExempt', 'LongtimeHomeownersExempt',\n",
    "            'TaxType', 'BillYear', 'BillType','AdjustedAmountDue1','TaxAmountDue1','InterestAmountDue1','CostAmountDue1',\n",
    "            'TotalAmountDue1','LastPaymentDate1','LastPaymentSource1','OriginalTaxDue2','AdjustedTaxDue2','TaxAmountDue2',\n",
    "            'InterestAmountDue2','CostAmountDue2','TotalAmountDue2','LastPaymentDate2','LastPaymentSource2','CofENumber',\n",
    "            'PastTaxSaleStatus','EqualizedEvaluation','AssessedValuation','TaxRate','CondemnationStatus', 'MunicipalAcquisitionStatus',\n",
    "            'AcquisitionStatus', 'ExemptStatus', 'BankruptStatus','RefundStatus', 'LastPaymentReceivedAmount1',\n",
    "            'LastPaymentReceivedAmount2','HomeownerExemptAmount', 'SeniorExemptAmount','SeniorFreezeExemptAmount', 'LongtimeHomeownersExemptAmount',\n",
    "            'VeteranExempt','TaxDueEstimated1']]\n",
    "df3 = df3[['PIN','TaxStatus','HomeownerExempt', 'SeniorExempt','SeniorFreezeExempt', 'LongtimeHomeownersExempt',\n",
    "            'TaxType', 'BillYear', 'BillType','AdjustedAmountDue1','TaxAmountDue1','InterestAmountDue1','CostAmountDue1',\n",
    "            'TotalAmountDue1','LastPaymentDate1','LastPaymentSource1','OriginalTaxDue2','AdjustedTaxDue2','TaxAmountDue2',\n",
    "            'InterestAmountDue2','CostAmountDue2','TotalAmountDue2','LastPaymentDate2','LastPaymentSource2','CofENumber',\n",
    "            'PastTaxSaleStatus','EqualizedEvaluation','AssessedValuation','TaxRate','CondemnationStatus', 'MunicipalAcquisitionStatus',\n",
    "            'AcquisitionStatus', 'ExemptStatus', 'BankruptStatus','RefundStatus', 'LastPaymentReceivedAmount1',\n",
    "            'LastPaymentReceivedAmount2','HomeownerExemptAmount', 'SeniorExemptAmount','SeniorFreezeExemptAmount', 'LongtimeHomeownersExemptAmount',\n",
    "            'VeteranExempt','TaxDueEstimated1']]\n",
    "df4 = df4[['PIN','TaxStatus','HomeownerExempt', 'SeniorExempt','SeniorFreezeExempt', 'LongtimeHomeownersExempt',\n",
    "            'TaxType', 'BillYear', 'BillType','AdjustedAmountDue1','TaxAmountDue1','InterestAmountDue1','CostAmountDue1',\n",
    "            'TotalAmountDue1','LastPaymentDate1','LastPaymentSource1','OriginalTaxDue2','AdjustedTaxDue2','TaxAmountDue2',\n",
    "            'InterestAmountDue2','CostAmountDue2','TotalAmountDue2','LastPaymentDate2','LastPaymentSource2','CofENumber',\n",
    "            'PastTaxSaleStatus','EqualizedEvaluation','AssessedValuation','TaxRate','CondemnationStatus', 'MunicipalAcquisitionStatus',\n",
    "            'AcquisitionStatus', 'ExemptStatus', 'BankruptStatus','RefundStatus', 'LastPaymentReceivedAmount1',\n",
    "            'LastPaymentReceivedAmount2','HomeownerExemptAmount', 'SeniorExemptAmount','SeniorFreezeExemptAmount', 'LongtimeHomeownersExemptAmount',\n",
    "            'VeteranExempt','TaxDueEstimated1']]\n",
    "target = target[['PIN','TaxStatus','HomeownerExempt', 'SeniorExempt','SeniorFreezeExempt', 'LongtimeHomeownersExempt',\n",
    "            'TaxType', 'BillYear', 'BillType','AdjustedAmountDue1','TaxAmountDue1','InterestAmountDue1','CostAmountDue1',\n",
    "            'TotalAmountDue1','LastPaymentDate1','LastPaymentSource1','OriginalTaxDue2','AdjustedTaxDue2','TaxAmountDue2',\n",
    "            'InterestAmountDue2','CostAmountDue2','TotalAmountDue2','LastPaymentDate2','LastPaymentSource2','CofENumber',\n",
    "            'PastTaxSaleStatus','EqualizedEvaluation','AssessedValuation','TaxRate','CondemnationStatus', 'MunicipalAcquisitionStatus',\n",
    "            'AcquisitionStatus', 'ExemptStatus', 'BankruptStatus','RefundStatus', 'LastPaymentReceivedAmount1',\n",
    "            'LastPaymentReceivedAmount2','HomeownerExemptAmount', 'SeniorExemptAmount','SeniorFreezeExemptAmount', 'LongtimeHomeownersExemptAmount',\n",
    "            'VeteranExempt','TaxDueEstimated1']]\n",
    "\n",
    "tail1 = instDates.tail(1)['Year'].values[0] - targetYear + 5\n",
    "dates = instDates.tail(tail1)\n",
    "df1['PmtDue1'] = dates['Inst1'].iloc[0]\n",
    "df2['PmtDue1'] = dates['Inst1'].iloc[1]\n",
    "df3['PmtDue1'] = dates['Inst1'].iloc[2]\n",
    "df4['PmtDue1'] = dates['Inst1'].iloc[3]\n",
    "df1['PmtDue2'] = dates['Inst2'].iloc[0]\n",
    "df2['PmtDue2'] = dates['Inst2'].iloc[1]\n",
    "df3['PmtDue2'] = dates['Inst2'].iloc[2]\n",
    "df4['PmtDue2'] = dates['Inst2'].iloc[3]\n",
    "target['PmtDue1'] = dates['Inst1'].iloc[4]\n",
    "\n",
    "y5 = pd.concat([df1,df2,df3,df4])\n",
    "len(y5)\n"
   ]
  },
  {
   "cell_type": "code",
   "execution_count": 5,
   "metadata": {},
   "outputs": [
    {
     "data": {
      "text/plain": [
       "7095242"
      ]
     },
     "execution_count": 5,
     "metadata": {},
     "output_type": "execute_result"
    }
   ],
   "source": [
    "y5['Location']= y5['PIN'].str[0:2]\n",
    "target['Location']= target['PIN'].str[0:2]\n",
    "y5 = y5[y5['TaxStatus']!=1]\n",
    "target = target[target['TaxStatus']!=1]\n",
    "len(y5)"
   ]
  },
  {
   "cell_type": "code",
   "execution_count": 6,
   "metadata": {},
   "outputs": [
    {
     "data": {
      "text/plain": [
       "6914851"
      ]
     },
     "execution_count": 6,
     "metadata": {},
     "output_type": "execute_result"
    }
   ],
   "source": [
    "y5 = y5[(y5['AdjustedAmountDue1']!=0) | (y5['AdjustedTaxDue2']!=0)]\n",
    "target = target[(target['AdjustedAmountDue1']!=0) | (target['AdjustedTaxDue2']!=0)]\n",
    "len(y5)"
   ]
  },
  {
   "cell_type": "code",
   "execution_count": 7,
   "metadata": {},
   "outputs": [
    {
     "data": {
      "text/plain": [
       "3846223"
      ]
     },
     "execution_count": 7,
     "metadata": {},
     "output_type": "execute_result"
    }
   ],
   "source": [
    "df1=1\n",
    "df2=1\n",
    "df3=1\n",
    "df4=1\n",
    "\n",
    "y5 = y5[(y5['LastPaymentSource2'] != '600') &(y5['LastPaymentSource2'] != '527') & (y5['LastPaymentSource2'] != '800') &\n",
    "       (y5['LastPaymentSource2'] != '802') & (y5['LastPaymentSource2'] != '830')]\n",
    "target = target[(target['LastPaymentSource2'] != '600') &(target['LastPaymentSource2'] != '527') & (target['LastPaymentSource2'] != '800') &\n",
    "       (target['LastPaymentSource2'] != '802') & (target['LastPaymentSource2'] != '830')]\n",
    "len(y5)"
   ]
  },
  {
   "cell_type": "code",
   "execution_count": 8,
   "metadata": {},
   "outputs": [
    {
     "data": {
      "text/plain": [
       "3701926"
      ]
     },
     "execution_count": 8,
     "metadata": {},
     "output_type": "execute_result"
    }
   ],
   "source": [
    "y5 = y5[(y5['LastPaymentSource1'] != '600') &(y5['LastPaymentSource1'] != '527') & (y5['LastPaymentSource1'] != '800') &\n",
    "       (y5['LastPaymentSource1'] != '802') & (y5['LastPaymentSource1'] != '830')]\n",
    "target = target[(target['LastPaymentSource1'] != '600') &(target['LastPaymentSource1'] != '527') & (target['LastPaymentSource1'] != '800') &\n",
    "       (target['LastPaymentSource1'] != '802') & (target['LastPaymentSource1'] != '830')]\n",
    "len(y5)"
   ]
  },
  {
   "cell_type": "code",
   "execution_count": 9,
   "metadata": {},
   "outputs": [],
   "source": [
    "\n",
    "y5 = y5[y5['LastPaymentDate1']!='00000000']\n",
    "y5 = y5[y5['LastPaymentDate2']!='00000000']\n",
    "target = target[target['LastPaymentDate1']!='00000000']\n",
    "\n",
    "\n",
    "y5['LastPaymentDate1'] = pd.to_datetime(y5['LastPaymentDate1'], format='%m%d%Y')\n",
    "y5['LastPaymentDate2'] = pd.to_datetime(y5['LastPaymentDate2'], format='%m%d%Y')\n",
    "target['LastPaymentDate1'] = pd.to_datetime(target['LastPaymentDate1'], format='%m%d%Y')\n",
    "\n",
    "\n",
    "y5['PmtDue1'] = pd.to_datetime(y5['PmtDue1'], format='%Y-%m-%d')\n",
    "y5['PmtDue2'] = pd.to_datetime(y5['PmtDue2'], format='%Y-%m-%d')\n",
    "target['PmtDue1'] = pd.to_datetime(target['PmtDue1'], format='%Y-%m-%d')\n",
    "\n",
    "\n",
    "y5['DiffPmt1'] = (y5['LastPaymentDate1'] - y5['PmtDue1']).dt.days\n",
    "y5['DiffPmt2'] = (y5['LastPaymentDate2'] - y5['PmtDue2']).dt.days\n",
    "target['DiffPmt1'] = (target['LastPaymentDate1'] - target['PmtDue1']).dt.days\n"
   ]
  },
  {
   "cell_type": "code",
   "execution_count": 10,
   "metadata": {},
   "outputs": [],
   "source": [
    "y5['BillType'] = y5['BillType'].astype(str)\n",
    "y5['CofENumber'] = y5['CofENumber'].astype(str)\n",
    "target['BillType'] = target['BillType'].astype(str)\n",
    "target['CofENumber'] = target['CofENumber'].astype(str)\n",
    "\n",
    "y5 = y5.drop('SeniorFreezeExempt',axis=1)\n",
    "target = target.drop('SeniorFreezeExempt',axis=1)\n",
    "\n",
    "y5['AdjustedAmountDue1'] = y5['AdjustedAmountDue1'].astype(float)\n",
    "y5['AdjustedTaxDue2'] = y5['AdjustedTaxDue2'].astype(float)\n",
    "y5['PastTaxSaleStatus'] = y5['PastTaxSaleStatus'].map({'Y': 1, 'N': 0})\n",
    "y5['LastPaymentReceivedAmount1'] = y5['LastPaymentReceivedAmount1'].astype(float)\n",
    "target['AdjustedAmountDue1'] = target['AdjustedAmountDue1'].astype(float)\n",
    "target['AdjustedTaxDue2'] = target['AdjustedTaxDue2'].astype(float)\n",
    "target['PastTaxSaleStatus'] = target['PastTaxSaleStatus'].map({'Y': 1, 'N': 0})\n",
    "target['LastPaymentReceivedAmount1'] = target['LastPaymentReceivedAmount1'].astype(float)\n",
    "\n",
    "y5[\"CofENumber\"] = y5['CofENumber'].astype(float)\n",
    "y5.loc[y5[\"CofENumber\"] == 0, \"CofENumber\"] = 0\n",
    "y5.loc[y5[\"CofENumber\"] != 0, \"CofENumber\"] = 1\n",
    "y5[\"CofENumber\"] = y5['CofENumber'].astype(int)\n",
    "target[\"CofENumber\"] = target['CofENumber'].astype(float)\n",
    "target.loc[target[\"CofENumber\"] == 0, \"CofENumber\"] = 0\n",
    "target.loc[target[\"CofENumber\"] != 0, \"CofENumber\"] = 1\n",
    "target[\"CofENumber\"] = target['CofENumber'].astype(int)\n",
    "\n",
    "y5.loc[y5[\"HomeownerExempt\"] > 0, \"HomeownerExempt\"] = 1\n",
    "y5.loc[y5[\"SeniorExempt\"] > 0, \"SeniorExempt\"] = 1\n",
    "y5.loc[y5[\"LongtimeHomeownersExempt\"] > 0, \"LongtimeHomeownersExempt\"] = 1\n",
    "y5 = y5.drop(['LastPaymentDate1','LastPaymentDate2','PmtDue1','PmtDue2'],axis=1)\n",
    "y5.loc[y5[\"ExemptStatus\"] > 0, \"ExemptStatus\"] = 1\n",
    "y5.loc[y5[\"VeteranExempt\"] > 0, \"VeteranExempt\"] = 1\n",
    "target.loc[target[\"HomeownerExempt\"] > 0, \"HomeownerExempt\"] = 1\n",
    "target.loc[target[\"SeniorExempt\"] > 0, \"SeniorExempt\"] = 1\n",
    "target.loc[target[\"LongtimeHomeownersExempt\"] > 0, \"LongtimeHomeownersExempt\"] = 1\n",
    "target = target.drop(['LastPaymentDate1','LastPaymentDate2','PmtDue1'],axis=1)\n",
    "target.loc[target[\"ExemptStatus\"] > 0, \"ExemptStatus\"] = 1\n",
    "target.loc[target[\"VeteranExempt\"] > 0, \"VeteranExempt\"] = 1\n",
    "\n",
    "y5 = y5.drop(['EqualizedEvaluation','TaxAmountDue1','TaxAmountDue2','OriginalTaxDue2'],axis=1)\n",
    "y5 = y5.astype({\"SeniorExempt\":'int',\"LongtimeHomeownersExempt\":'int',\"BillYear\":'int',\"CondemnationStatus\":'int',\n",
    "               \"MunicipalAcquisitionStatus\":'int',\"AcquisitionStatus\":'int',\"ExemptStatus\":'int',\"BankruptStatus\":'int',\n",
    "               \"VeteranExempt\":'int'}) \n",
    "target = target.drop(['EqualizedEvaluation','TaxAmountDue1','TaxAmountDue2','OriginalTaxDue2'],axis=1)\n",
    "target = target.astype({\"SeniorExempt\":'int',\"LongtimeHomeownersExempt\":'int',\"BillYear\":'int',\"CondemnationStatus\":'int',\n",
    "               \"MunicipalAcquisitionStatus\":'int',\"AcquisitionStatus\":'int',\"ExemptStatus\":'int',\"BankruptStatus\":'int',\n",
    "               \"VeteranExempt\":'int'}) "
   ]
  },
  {
   "cell_type": "code",
   "execution_count": 11,
   "metadata": {},
   "outputs": [
    {
     "data": {
      "text/plain": [
       "674477"
      ]
     },
     "execution_count": 11,
     "metadata": {},
     "output_type": "execute_result"
    }
   ],
   "source": [
    "yr5 = y5[y5['DiffPmt2'] > 0]\n",
    "yr5 = yr5[yr5['DiffPmt2'] < 500]\n",
    "len(yr5)"
   ]
  },
  {
   "cell_type": "code",
   "execution_count": 12,
   "metadata": {},
   "outputs": [
    {
     "data": {
      "text/plain": [
       "366836"
      ]
     },
     "execution_count": 12,
     "metadata": {},
     "output_type": "execute_result"
    }
   ],
   "source": [
    "yr5 = yr5[yr5['DiffPmt1'] > 0]\n",
    "yr5 = yr5[yr5['DiffPmt1'] < 680]\n",
    "target = target[target['DiffPmt1'] > 0]\n",
    "target = target[target['DiffPmt1'] < 680]\n",
    "len(yr5)"
   ]
  },
  {
   "cell_type": "code",
   "execution_count": 13,
   "metadata": {},
   "outputs": [
    {
     "data": {
      "text/plain": [
       "array(['TaxStatus', 'HomeownerExempt', 'SeniorExempt',\n",
       "       'LongtimeHomeownersExempt', 'TaxType', 'BillYear', 'BillType',\n",
       "       'AdjustedAmountDue1', 'InterestAmountDue1', 'CostAmountDue1',\n",
       "       'TotalAmountDue1', 'LastPaymentSource1', 'AdjustedTaxDue2',\n",
       "       'InterestAmountDue2', 'CostAmountDue2', 'TotalAmountDue2',\n",
       "       'CofENumber', 'PastTaxSaleStatus', 'AssessedValuation', 'TaxRate',\n",
       "       'CondemnationStatus', 'MunicipalAcquisitionStatus',\n",
       "       'AcquisitionStatus', 'ExemptStatus', 'BankruptStatus',\n",
       "       'RefundStatus', 'LastPaymentReceivedAmount1',\n",
       "       'HomeownerExemptAmount', 'SeniorExemptAmount',\n",
       "       'SeniorFreezeExemptAmount', 'LongtimeHomeownersExemptAmount',\n",
       "       'VeteranExempt', 'TaxDueEstimated1', 'Location', 'DiffPmt1',\n",
       "       'DiffPmt2'], dtype=object)"
      ]
     },
     "execution_count": 13,
     "metadata": {},
     "output_type": "execute_result"
    }
   ],
   "source": [
    "yr5 = yr5.drop(['LastPaymentSource2','LastPaymentReceivedAmount2'], axis=1)\n",
    "yr5 = yr5.drop('PIN',axis=1)\n",
    "target = target.drop(['LastPaymentSource2','LastPaymentReceivedAmount2'], axis=1)\n",
    "target1 = target.drop('PIN', axis=1)\n",
    "yr5.columns.values"
   ]
  },
  {
   "cell_type": "code",
   "execution_count": 14,
   "metadata": {},
   "outputs": [
    {
     "name": "stdout",
     "output_type": "stream",
     "text": [
      "(366836, 36)\n",
      "(157765, 35)\n"
     ]
    }
   ],
   "source": [
    "yr5['BillYear'] = yr5['BillYear']-2017\n",
    "yr5.loc[yr5[\"BillYear\"] < 0, \"BillYear\"] = 0\n",
    "\n",
    "target1['BillYear'] = target1['BillYear']-2017\n",
    "target1.loc[target1[\"BillYear\"] < 0, \"BillYear\"] = 0\n",
    "\n",
    "print(yr5.shape)\n",
    "print(target1.shape)"
   ]
  },
  {
   "cell_type": "code",
   "execution_count": 15,
   "metadata": {},
   "outputs": [],
   "source": [
    "yr5['LateLabel'] = 1\n",
    "yr5.loc[yr5[\"DiffPmt2\"] > 18, \"LateLabel\"] = 2\n",
    "yr5.loc[yr5[\"DiffPmt2\"] > 36, \"LateLabel\"] = 3\n",
    "yr5.loc[yr5[\"DiffPmt2\"] > 72, \"LateLabel\"] = 4\n",
    "yr5.loc[yr5[\"DiffPmt2\"] > 108, \"LateLabel\"] = 5\n",
    "yr5.loc[yr5[\"DiffPmt2\"] > 144, \"LateLabel\"] = 6\n",
    "yr5.loc[yr5[\"DiffPmt2\"] > 180, \"LateLabel\"] = 7\n",
    "yr5.loc[yr5[\"DiffPmt2\"] > 216, \"LateLabel\"] = 8\n",
    "yr5.loc[yr5[\"DiffPmt2\"] > 252, \"LateLabel\"] = 9\n",
    "yr5.loc[yr5[\"DiffPmt2\"] > 288, \"LateLabel\"] = 10"
   ]
  },
  {
   "cell_type": "code",
   "execution_count": 16,
   "metadata": {},
   "outputs": [],
   "source": [
    "from sklearn.model_selection import train_test_split\n",
    "\n",
    "X_train, X_test, y_train, y_test = train_test_split(yr5.drop(['DiffPmt2','LateLabel'],axis=1), yr5['LateLabel'],\n",
    "                                                    test_size=0.2, random_state=42,stratify=yr5['LateLabel'])"
   ]
  },
  {
   "cell_type": "code",
   "execution_count": 17,
   "metadata": {
    "scrolled": true
   },
   "outputs": [
    {
     "name": "stdout",
     "output_type": "stream",
     "text": [
      "RandomForestClassifier(bootstrap=True, class_weight=None, criterion='entropy',\n",
      "            max_depth=26, max_features='auto', max_leaf_nodes=None,\n",
      "            min_impurity_decrease=0.0, min_impurity_split=None,\n",
      "            min_samples_leaf=1, min_samples_split=2,\n",
      "            min_weight_fraction_leaf=0.0, n_estimators=700, n_jobs=None,\n",
      "            oob_score=False, random_state=None, verbose=0,\n",
      "            warm_start=False)\n",
      "('train data accuracy: ', 0.9112475636185206)\n",
      "('test data accuracy: ', 0.5688583578671901)\n",
      "('Execution time in Min: ', 16.950168999036155)\n"
     ]
    }
   ],
   "source": [
    "from sklearn.ensemble import RandomForestClassifier\n",
    "\n",
    "st = time.time()\n",
    "rfc = RandomForestClassifier(max_depth=26,n_estimators=700, criterion='entropy')\n",
    "rfc.fit(X_train,y_train)\n",
    "print(rfc)\n",
    "print('train data accuracy: ', rfc.score(X_train,y_train))\n",
    "print('test data accuracy: ', rfc.score(X_test,y_test))\n",
    "et = time.time()\n",
    "print('Execution time in Min: ', (et-st)/60)"
   ]
  },
  {
   "cell_type": "code",
   "execution_count": 18,
   "metadata": {},
   "outputs": [
    {
     "data": {
      "text/plain": [
       "Text(0.5,0,'Random Forest Feature Importance')"
      ]
     },
     "execution_count": 18,
     "metadata": {},
     "output_type": "execute_result"
    },
    {
     "data": {
      "image/png": "[encoded data removed]",
      "text/plain": [
       "<Figure size 432x288 with 1 Axes>"
      ]
     },
     "metadata": {
      "needs_background": "light"
     },
     "output_type": "display_data"
    }
   ],
   "source": [
    "sorted_idx = rfc.feature_importances_.argsort()\n",
    "imp = pd.DataFrame()\n",
    "imp['col'] = yr5.drop(['DiffPmt2','LateLabel'],axis=1).columns[sorted_idx]\n",
    "imp['imp'] = rfc.feature_importances_[sorted_idx]\n",
    "imp = imp.sort_values('imp',ascending=False)\n",
    "finalimp = imp.head(15).sort_values('imp',ascending=True)\n",
    "plt.barh(finalimp['col'],finalimp['imp'])\n",
    "plt.xlabel(\"Random Forest Feature Importance\")"
   ]
  },
  {
   "cell_type": "code",
   "execution_count": 19,
   "metadata": {},
   "outputs": [],
   "source": [
    "pred = rfc.predict(X_test)"
   ]
  },
  {
   "cell_type": "code",
   "execution_count": 20,
   "metadata": {},
   "outputs": [],
   "source": [
    "from sklearn.metrics import confusion_matrix\n",
    "cm = confusion_matrix(y_test,pred)\n",
    "df = pd.DataFrame(cm,\n",
    "                 index = ['  1','  2','  3','  4','  5','  6','  7','  8','  9','  10'],\n",
    "                 columns = ['1','2','3','4','5','6','7','8','9','10'])"
   ]
  },
  {
   "cell_type": "code",
   "execution_count": 21,
   "metadata": {},
   "outputs": [
    {
     "data": {
      "image/png": "[encoded data removed]",
      "text/plain": [
       "<Figure size 864x720 with 2 Axes>"
      ]
     },
     "metadata": {
      "needs_background": "light"
     },
     "output_type": "display_data"
    }
   ],
   "source": [
    "plt.figure(figsize=(12,10))\n",
    "sns.heatmap(df,annot=True,fmt='g',cmap = sns.diverging_palette(230, 20, as_cmap=True))\n",
    "plt.xlabel('Predicted')\n",
    "plt.ylabel('Actual')\n",
    "plt.show()"
   ]
  },
  {
   "cell_type": "code",
   "execution_count": 22,
   "metadata": {},
   "outputs": [
    {
     "name": "stdout",
     "output_type": "stream",
     "text": [
      "Recall Values                Predicted\n",
      "          1      2      3      4      5      6      7      8      9     10\n",
      "  1  41.51% 13.88% 41.49%  2.22%  0.19%  0.16%  0.10%  0.09%  0.10%  0.26%\n",
      "  2  11.89% 54.53% 30.80%  1.99%  0.12%  0.07%  0.06%  0.02%  0.22%  0.30%\n",
      "  3  11.30% 12.85% 71.80%  3.14%  0.28%  0.19%  0.05%  0.05%  0.15%  0.18%\n",
      "  4   8.12%  7.49% 38.16% 45.07%  0.37%  0.22%  0.13%  0.08%  0.10%  0.26%\n",
      "  5   8.06%  6.68% 35.86%  6.99% 41.00%  0.43%  0.21%  0.16%  0.23%  0.37%\n",
      "  6   8.20%  6.42% 27.49%  5.63%  2.57% 48.05%  0.38%  0.32%  0.18%  0.77%\n",
      "  7   4.43%  5.57% 23.96%  3.91%  1.94%  2.66% 56.03%  0.63%  0.31%  0.56%\n",
      "  8   3.53%  4.67% 19.67%  4.16%  2.56%  2.56%  4.32% 56.53%  0.57%  1.43%\n",
      "  9   1.72%  4.94% 12.98%  2.47%  1.01%  1.33%  1.89%  2.92% 68.82%  1.91%\n",
      "  10  4.63%  3.39% 11.73%  2.00%  1.12%  1.27%  1.50%  1.45%  1.22% 71.69%\n"
     ]
    }
   ],
   "source": [
    "row = df.div(df.sum(axis=1), axis=0)\n",
    "row = row.to_string(formatters={\n",
    "    '1': '{:,.2%}'.format,\n",
    "    '2': '{:,.2%}'.format,\n",
    "    '3': '{:,.2%}'.format,\n",
    "    '4': '{:,.2%}'.format,\n",
    "    '5': '{:,.2%}'.format,\n",
    "    '6': '{:,.2%}'.format,\n",
    "    '7': '{:,.2%}'.format,\n",
    "    '8': '{:,.2%}'.format,\n",
    "    '9': '{:,.2%}'.format,\n",
    "    '10': '{:,.2%}'.format\n",
    "})\n",
    "print(\"Recall Values                Predicted\")\n",
    "print(row)"
   ]
  },
  {
   "cell_type": "code",
   "execution_count": 23,
   "metadata": {},
   "outputs": [
    {
     "name": "stdout",
     "output_type": "stream",
     "text": [
      "Precision Values              Predicted\n",
      "          1      2      3      4      5      6      7      8      9     10\n",
      "  1  38.77%  9.51% 12.50%  2.91%  0.59%  0.50%  0.27%  0.29%  0.23%  0.34%\n",
      "  2  16.82% 56.62% 14.06%  3.96%  0.59%  0.35%  0.24%  0.12%  0.79%  0.58%\n",
      "  3  17.97% 14.99% 36.82%  7.02%  1.54%  1.00%  0.24%  0.29%  0.58%  0.40%\n",
      "  4   8.54%  5.79% 12.96% 66.63%  1.35%  0.77%  0.41%  0.29%  0.26%  0.39%\n",
      "  5   4.53%  2.76%  6.50%  5.52% 78.70%  0.81%  0.34%  0.33%  0.32%  0.29%\n",
      "  6   4.22%  2.42%  4.57%  4.07%  4.51% 81.98%  0.58%  0.58%  0.23%  0.55%\n",
      "  7   2.30%  2.12%  4.01%  2.85%  3.44%  4.57% 85.30%  1.16%  0.41%  0.40%\n",
      "  8   1.52%  1.47%  2.73%  2.51%  3.76%  3.65%  5.44% 86.43%  0.61%  0.85%\n",
      "  9   0.93%  1.96%  2.26%  1.87%  1.86%  2.38%  2.99%  5.61% 93.63%  1.44%\n",
      "  10  4.39%  2.37%  3.59%  2.67%  3.64%  4.00%  4.19%  4.91%  2.92% 94.76%\n"
     ]
    }
   ],
   "source": [
    "column = df.div(df.sum(axis=0), axis=1)\n",
    "column = column.to_string(formatters={\n",
    "    '1': '{:,.2%}'.format,\n",
    "    '2': '{:,.2%}'.format,\n",
    "    '3': '{:,.2%}'.format,\n",
    "    '4': '{:,.2%}'.format,\n",
    "    '5': '{:,.2%}'.format,\n",
    "    '6': '{:,.2%}'.format,\n",
    "    '7': '{:,.2%}'.format,\n",
    "    '8': '{:,.2%}'.format,\n",
    "    '9': '{:,.2%}'.format,\n",
    "    '10': '{:,.2%}'.format\n",
    "})\n",
    "print(\"Precision Values              Predicted\")\n",
    "print(column)"
   ]
  },
  {
   "cell_type": "code",
   "execution_count": 24,
   "metadata": {
    "scrolled": false
   },
   "outputs": [],
   "source": [
    "target['PredictionClassLabel'] = rfc.predict(target1)\n",
    "target['PredictionResult'] = '1 - 18 days late'\n",
    "target.loc[target[\"PredictionClassLabel\"] == 2, \"PredictionResult\"] = '19 - 36 days late'\n",
    "target.loc[target[\"PredictionClassLabel\"] == 3, \"PredictionResult\"] = '37 - 72 days late'\n",
    "target.loc[target[\"PredictionClassLabel\"] == 4, \"PredictionResult\"] = '73 - 108 days late'\n",
    "target.loc[target[\"PredictionClassLabel\"] == 5, \"PredictionResult\"] = '109 - 144 days late'\n",
    "target.loc[target[\"PredictionClassLabel\"] == 6, \"PredictionResult\"] = '145 - 180 days late'\n",
    "target.loc[target[\"PredictionClassLabel\"] == 7, \"PredictionResult\"] = '181 - 216 days late'\n",
    "target.loc[target[\"PredictionClassLabel\"] == 8, \"PredictionResult\"] = '217 - 252 days late'\n",
    "target.loc[target[\"PredictionClassLabel\"] == 9, \"PredictionResult\"] = '253 - 288 days late'\n",
    "target.loc[target[\"PredictionClassLabel\"] == 10, \"PredictionResult\"] = 'More than 288 days late'\n"
   ]
  },
  {
   "cell_type": "code",
   "execution_count": 25,
   "metadata": {},
   "outputs": [
    {
     "name": "stderr",
     "output_type": "stream",
     "text": [
      "/usr/local/lib/python2.7/site-packages/pandas/core/frame.py:3940: SettingWithCopyWarning: \n",
      "A value is trying to be set on a copy of a slice from a DataFrame\n",
      "\n",
      "See the caveats in the documentation: http://pandas.pydata.org/pandas-docs/stable/indexing.html#indexing-view-versus-copy\n",
      "  errors=errors)\n"
     ]
    },
    {
     "data": {
      "text/html": [
       "<div>\n",
       "<style scoped>\n",
       "    .dataframe tbody tr th:only-of-type {\n",
       "        vertical-align: middle;\n",
       "    }\n",
       "\n",
       "    .dataframe tbody tr th {\n",
       "        vertical-align: top;\n",
       "    }\n",
       "\n",
       "    .dataframe thead th {\n",
       "        text-align: right;\n",
       "    }\n",
       "</style>\n",
       "<table border=\"1\" class=\"dataframe\">\n",
       "  <thead>\n",
       "    <tr style=\"text-align: right;\">\n",
       "      <th></th>\n",
       "      <th>PIN</th>\n",
       "      <th>PredictionClassLabel</th>\n",
       "      <th>PredictionResult</th>\n",
       "    </tr>\n",
       "  </thead>\n",
       "  <tbody>\n",
       "    <tr>\n",
       "      <th>0</th>\n",
       "      <td>08321010301031</td>\n",
       "      <td>10</td>\n",
       "      <td>More than 288 days late</td>\n",
       "    </tr>\n",
       "    <tr>\n",
       "      <th>1</th>\n",
       "      <td>08321010301037</td>\n",
       "      <td>2</td>\n",
       "      <td>19 - 36 days late</td>\n",
       "    </tr>\n",
       "    <tr>\n",
       "      <th>2</th>\n",
       "      <td>08321010301064</td>\n",
       "      <td>1</td>\n",
       "      <td>1 - 18 days late</td>\n",
       "    </tr>\n",
       "    <tr>\n",
       "      <th>3</th>\n",
       "      <td>08321010331015</td>\n",
       "      <td>4</td>\n",
       "      <td>73 - 108 days late</td>\n",
       "    </tr>\n",
       "    <tr>\n",
       "      <th>4</th>\n",
       "      <td>08321010331018</td>\n",
       "      <td>1</td>\n",
       "      <td>1 - 18 days late</td>\n",
       "    </tr>\n",
       "    <tr>\n",
       "      <th>5</th>\n",
       "      <td>08321010331050</td>\n",
       "      <td>3</td>\n",
       "      <td>37 - 72 days late</td>\n",
       "    </tr>\n",
       "    <tr>\n",
       "      <th>6</th>\n",
       "      <td>07151000371070</td>\n",
       "      <td>1</td>\n",
       "      <td>1 - 18 days late</td>\n",
       "    </tr>\n",
       "    <tr>\n",
       "      <th>7</th>\n",
       "      <td>08321010351001</td>\n",
       "      <td>1</td>\n",
       "      <td>1 - 18 days late</td>\n",
       "    </tr>\n",
       "    <tr>\n",
       "      <th>8</th>\n",
       "      <td>08321010351016</td>\n",
       "      <td>3</td>\n",
       "      <td>37 - 72 days late</td>\n",
       "    </tr>\n",
       "    <tr>\n",
       "      <th>9</th>\n",
       "      <td>08321010301024</td>\n",
       "      <td>1</td>\n",
       "      <td>1 - 18 days late</td>\n",
       "    </tr>\n",
       "    <tr>\n",
       "      <th>10</th>\n",
       "      <td>08321010371008</td>\n",
       "      <td>1</td>\n",
       "      <td>1 - 18 days late</td>\n",
       "    </tr>\n",
       "    <tr>\n",
       "      <th>11</th>\n",
       "      <td>08321010361033</td>\n",
       "      <td>1</td>\n",
       "      <td>1 - 18 days late</td>\n",
       "    </tr>\n",
       "    <tr>\n",
       "      <th>12</th>\n",
       "      <td>08321010371014</td>\n",
       "      <td>3</td>\n",
       "      <td>37 - 72 days late</td>\n",
       "    </tr>\n",
       "    <tr>\n",
       "      <th>13</th>\n",
       "      <td>08321010351054</td>\n",
       "      <td>1</td>\n",
       "      <td>1 - 18 days late</td>\n",
       "    </tr>\n",
       "    <tr>\n",
       "      <th>14</th>\n",
       "      <td>08321010371023</td>\n",
       "      <td>1</td>\n",
       "      <td>1 - 18 days late</td>\n",
       "    </tr>\n",
       "    <tr>\n",
       "      <th>15</th>\n",
       "      <td>08321010371030</td>\n",
       "      <td>6</td>\n",
       "      <td>145 - 180 days late</td>\n",
       "    </tr>\n",
       "    <tr>\n",
       "      <th>16</th>\n",
       "      <td>08321010361051</td>\n",
       "      <td>2</td>\n",
       "      <td>19 - 36 days late</td>\n",
       "    </tr>\n",
       "    <tr>\n",
       "      <th>17</th>\n",
       "      <td>08321020090000</td>\n",
       "      <td>1</td>\n",
       "      <td>1 - 18 days late</td>\n",
       "    </tr>\n",
       "    <tr>\n",
       "      <th>18</th>\n",
       "      <td>08321020100000</td>\n",
       "      <td>3</td>\n",
       "      <td>37 - 72 days late</td>\n",
       "    </tr>\n",
       "    <tr>\n",
       "      <th>19</th>\n",
       "      <td>07151010170000</td>\n",
       "      <td>3</td>\n",
       "      <td>37 - 72 days late</td>\n",
       "    </tr>\n",
       "    <tr>\n",
       "      <th>20</th>\n",
       "      <td>08321020200000</td>\n",
       "      <td>1</td>\n",
       "      <td>1 - 18 days late</td>\n",
       "    </tr>\n",
       "    <tr>\n",
       "      <th>21</th>\n",
       "      <td>08321030180000</td>\n",
       "      <td>1</td>\n",
       "      <td>1 - 18 days late</td>\n",
       "    </tr>\n",
       "    <tr>\n",
       "      <th>22</th>\n",
       "      <td>08321030220000</td>\n",
       "      <td>1</td>\n",
       "      <td>1 - 18 days late</td>\n",
       "    </tr>\n",
       "    <tr>\n",
       "      <th>23</th>\n",
       "      <td>08092210060000</td>\n",
       "      <td>3</td>\n",
       "      <td>37 - 72 days late</td>\n",
       "    </tr>\n",
       "    <tr>\n",
       "      <th>24</th>\n",
       "      <td>08322020270000</td>\n",
       "      <td>3</td>\n",
       "      <td>37 - 72 days late</td>\n",
       "    </tr>\n",
       "    <tr>\n",
       "      <th>25</th>\n",
       "      <td>08322050050000</td>\n",
       "      <td>3</td>\n",
       "      <td>37 - 72 days late</td>\n",
       "    </tr>\n",
       "    <tr>\n",
       "      <th>26</th>\n",
       "      <td>08322050110000</td>\n",
       "      <td>1</td>\n",
       "      <td>1 - 18 days late</td>\n",
       "    </tr>\n",
       "    <tr>\n",
       "      <th>27</th>\n",
       "      <td>08322050200000</td>\n",
       "      <td>3</td>\n",
       "      <td>37 - 72 days late</td>\n",
       "    </tr>\n",
       "    <tr>\n",
       "      <th>28</th>\n",
       "      <td>08321070130000</td>\n",
       "      <td>1</td>\n",
       "      <td>1 - 18 days late</td>\n",
       "    </tr>\n",
       "    <tr>\n",
       "      <th>29</th>\n",
       "      <td>08322060070000</td>\n",
       "      <td>1</td>\n",
       "      <td>1 - 18 days late</td>\n",
       "    </tr>\n",
       "    <tr>\n",
       "      <th>...</th>\n",
       "      <td>...</td>\n",
       "      <td>...</td>\n",
       "      <td>...</td>\n",
       "    </tr>\n",
       "    <tr>\n",
       "      <th>157735</th>\n",
       "      <td>19353360680000</td>\n",
       "      <td>1</td>\n",
       "      <td>1 - 18 days late</td>\n",
       "    </tr>\n",
       "    <tr>\n",
       "      <th>157736</th>\n",
       "      <td>19253200030000</td>\n",
       "      <td>1</td>\n",
       "      <td>1 - 18 days late</td>\n",
       "    </tr>\n",
       "    <tr>\n",
       "      <th>157737</th>\n",
       "      <td>19253200110000</td>\n",
       "      <td>3</td>\n",
       "      <td>37 - 72 days late</td>\n",
       "    </tr>\n",
       "    <tr>\n",
       "      <th>157738</th>\n",
       "      <td>19352220240000</td>\n",
       "      <td>10</td>\n",
       "      <td>More than 288 days late</td>\n",
       "    </tr>\n",
       "    <tr>\n",
       "      <th>157739</th>\n",
       "      <td>19253220070000</td>\n",
       "      <td>1</td>\n",
       "      <td>1 - 18 days late</td>\n",
       "    </tr>\n",
       "    <tr>\n",
       "      <th>157740</th>\n",
       "      <td>19253240020000</td>\n",
       "      <td>6</td>\n",
       "      <td>145 - 180 days late</td>\n",
       "    </tr>\n",
       "    <tr>\n",
       "      <th>157741</th>\n",
       "      <td>19254070050000</td>\n",
       "      <td>10</td>\n",
       "      <td>More than 288 days late</td>\n",
       "    </tr>\n",
       "    <tr>\n",
       "      <th>157742</th>\n",
       "      <td>19254070060000</td>\n",
       "      <td>3</td>\n",
       "      <td>37 - 72 days late</td>\n",
       "    </tr>\n",
       "    <tr>\n",
       "      <th>157743</th>\n",
       "      <td>19352230450000</td>\n",
       "      <td>1</td>\n",
       "      <td>1 - 18 days late</td>\n",
       "    </tr>\n",
       "    <tr>\n",
       "      <th>157744</th>\n",
       "      <td>19352230530000</td>\n",
       "      <td>3</td>\n",
       "      <td>37 - 72 days late</td>\n",
       "    </tr>\n",
       "    <tr>\n",
       "      <th>157745</th>\n",
       "      <td>19352240090000</td>\n",
       "      <td>1</td>\n",
       "      <td>1 - 18 days late</td>\n",
       "    </tr>\n",
       "    <tr>\n",
       "      <th>157746</th>\n",
       "      <td>19352240410000</td>\n",
       "      <td>10</td>\n",
       "      <td>More than 288 days late</td>\n",
       "    </tr>\n",
       "    <tr>\n",
       "      <th>157747</th>\n",
       "      <td>19352260020000</td>\n",
       "      <td>1</td>\n",
       "      <td>1 - 18 days late</td>\n",
       "    </tr>\n",
       "    <tr>\n",
       "      <th>157748</th>\n",
       "      <td>08314070201007</td>\n",
       "      <td>1</td>\n",
       "      <td>1 - 18 days late</td>\n",
       "    </tr>\n",
       "    <tr>\n",
       "      <th>157749</th>\n",
       "      <td>19352270010000</td>\n",
       "      <td>1</td>\n",
       "      <td>1 - 18 days late</td>\n",
       "    </tr>\n",
       "    <tr>\n",
       "      <th>157750</th>\n",
       "      <td>19352270310000</td>\n",
       "      <td>1</td>\n",
       "      <td>1 - 18 days late</td>\n",
       "    </tr>\n",
       "    <tr>\n",
       "      <th>157751</th>\n",
       "      <td>19352270320000</td>\n",
       "      <td>2</td>\n",
       "      <td>19 - 36 days late</td>\n",
       "    </tr>\n",
       "    <tr>\n",
       "      <th>157752</th>\n",
       "      <td>19352270480000</td>\n",
       "      <td>1</td>\n",
       "      <td>1 - 18 days late</td>\n",
       "    </tr>\n",
       "    <tr>\n",
       "      <th>157753</th>\n",
       "      <td>19254090810000</td>\n",
       "      <td>4</td>\n",
       "      <td>73 - 108 days late</td>\n",
       "    </tr>\n",
       "    <tr>\n",
       "      <th>157754</th>\n",
       "      <td>19254090930000</td>\n",
       "      <td>1</td>\n",
       "      <td>1 - 18 days late</td>\n",
       "    </tr>\n",
       "    <tr>\n",
       "      <th>157755</th>\n",
       "      <td>19352270490000</td>\n",
       "      <td>8</td>\n",
       "      <td>217 - 252 days late</td>\n",
       "    </tr>\n",
       "    <tr>\n",
       "      <th>157756</th>\n",
       "      <td>19254120030000</td>\n",
       "      <td>1</td>\n",
       "      <td>1 - 18 days late</td>\n",
       "    </tr>\n",
       "    <tr>\n",
       "      <th>157757</th>\n",
       "      <td>19254120180000</td>\n",
       "      <td>3</td>\n",
       "      <td>37 - 72 days late</td>\n",
       "    </tr>\n",
       "    <tr>\n",
       "      <th>157758</th>\n",
       "      <td>19254120200000</td>\n",
       "      <td>10</td>\n",
       "      <td>More than 288 days late</td>\n",
       "    </tr>\n",
       "    <tr>\n",
       "      <th>157759</th>\n",
       "      <td>19353000290000</td>\n",
       "      <td>10</td>\n",
       "      <td>More than 288 days late</td>\n",
       "    </tr>\n",
       "    <tr>\n",
       "      <th>157760</th>\n",
       "      <td>19353010300000</td>\n",
       "      <td>3</td>\n",
       "      <td>37 - 72 days late</td>\n",
       "    </tr>\n",
       "    <tr>\n",
       "      <th>157761</th>\n",
       "      <td>08092270130000</td>\n",
       "      <td>3</td>\n",
       "      <td>37 - 72 days late</td>\n",
       "    </tr>\n",
       "    <tr>\n",
       "      <th>157762</th>\n",
       "      <td>19353020490000</td>\n",
       "      <td>3</td>\n",
       "      <td>37 - 72 days late</td>\n",
       "    </tr>\n",
       "    <tr>\n",
       "      <th>157763</th>\n",
       "      <td>19261000570000</td>\n",
       "      <td>3</td>\n",
       "      <td>37 - 72 days late</td>\n",
       "    </tr>\n",
       "    <tr>\n",
       "      <th>157764</th>\n",
       "      <td>19261010490000</td>\n",
       "      <td>3</td>\n",
       "      <td>37 - 72 days late</td>\n",
       "    </tr>\n",
       "  </tbody>\n",
       "</table>\n",
       "<p>157765 rows × 3 columns</p>\n",
       "</div>"
      ],
      "text/plain": [
       "                   PIN  PredictionClassLabel         PredictionResult\n",
       "0       08321010301031                    10  More than 288 days late\n",
       "1       08321010301037                     2        19 - 36 days late\n",
       "2       08321010301064                     1         1 - 18 days late\n",
       "3       08321010331015                     4       73 - 108 days late\n",
       "4       08321010331018                     1         1 - 18 days late\n",
       "5       08321010331050                     3        37 - 72 days late\n",
       "6       07151000371070                     1         1 - 18 days late\n",
       "7       08321010351001                     1         1 - 18 days late\n",
       "8       08321010351016                     3        37 - 72 days late\n",
       "9       08321010301024                     1         1 - 18 days late\n",
       "10      08321010371008                     1         1 - 18 days late\n",
       "11      08321010361033                     1         1 - 18 days late\n",
       "12      08321010371014                     3        37 - 72 days late\n",
       "13      08321010351054                     1         1 - 18 days late\n",
       "14      08321010371023                     1         1 - 18 days late\n",
       "15      08321010371030                     6      145 - 180 days late\n",
       "16      08321010361051                     2        19 - 36 days late\n",
       "17      08321020090000                     1         1 - 18 days late\n",
       "18      08321020100000                     3        37 - 72 days late\n",
       "19      07151010170000                     3        37 - 72 days late\n",
       "20      08321020200000                     1         1 - 18 days late\n",
       "21      08321030180000                     1         1 - 18 days late\n",
       "22      08321030220000                     1         1 - 18 days late\n",
       "23      08092210060000                     3        37 - 72 days late\n",
       "24      08322020270000                     3        37 - 72 days late\n",
       "25      08322050050000                     3        37 - 72 days late\n",
       "26      08322050110000                     1         1 - 18 days late\n",
       "27      08322050200000                     3        37 - 72 days late\n",
       "28      08321070130000                     1         1 - 18 days late\n",
       "29      08322060070000                     1         1 - 18 days late\n",
       "...                ...                   ...                      ...\n",
       "157735  19353360680000                     1         1 - 18 days late\n",
       "157736  19253200030000                     1         1 - 18 days late\n",
       "157737  19253200110000                     3        37 - 72 days late\n",
       "157738  19352220240000                    10  More than 288 days late\n",
       "157739  19253220070000                     1         1 - 18 days late\n",
       "157740  19253240020000                     6      145 - 180 days late\n",
       "157741  19254070050000                    10  More than 288 days late\n",
       "157742  19254070060000                     3        37 - 72 days late\n",
       "157743  19352230450000                     1         1 - 18 days late\n",
       "157744  19352230530000                     3        37 - 72 days late\n",
       "157745  19352240090000                     1         1 - 18 days late\n",
       "157746  19352240410000                    10  More than 288 days late\n",
       "157747  19352260020000                     1         1 - 18 days late\n",
       "157748  08314070201007                     1         1 - 18 days late\n",
       "157749  19352270010000                     1         1 - 18 days late\n",
       "157750  19352270310000                     1         1 - 18 days late\n",
       "157751  19352270320000                     2        19 - 36 days late\n",
       "157752  19352270480000                     1         1 - 18 days late\n",
       "157753  19254090810000                     4       73 - 108 days late\n",
       "157754  19254090930000                     1         1 - 18 days late\n",
       "157755  19352270490000                     8      217 - 252 days late\n",
       "157756  19254120030000                     1         1 - 18 days late\n",
       "157757  19254120180000                     3        37 - 72 days late\n",
       "157758  19254120200000                    10  More than 288 days late\n",
       "157759  19353000290000                    10  More than 288 days late\n",
       "157760  19353010300000                     3        37 - 72 days late\n",
       "157761  08092270130000                     3        37 - 72 days late\n",
       "157762  19353020490000                     3        37 - 72 days late\n",
       "157763  19261000570000                     3        37 - 72 days late\n",
       "157764  19261010490000                     3        37 - 72 days late\n",
       "\n",
       "[157765 rows x 3 columns]"
      ]
     },
     "execution_count": 25,
     "metadata": {},
     "output_type": "execute_result"
    }
   ],
   "source": [
    "result = target[['PIN','PredictionClassLabel','PredictionResult']]\n",
    "result.reset_index(inplace=True)\n",
    "result.drop(\"index\",axis=1,inplace=True)\n",
    "result"
   ]
  },
  {
   "cell_type": "code",
   "execution_count": 26,
   "metadata": {},
   "outputs": [
    {
     "data": {
      "text/plain": [
       "\"#to locate a specific PIN:\\nresult[result['PIN']=='Enter Pin Number Here']\""
      ]
     },
     "execution_count": 26,
     "metadata": {},
     "output_type": "execute_result"
    }
   ],
   "source": [
    "\"\"\"#to locate a specific PIN:\n",
    "result[result['PIN']=='Enter Pin Number Here']\"\"\""
   ]
  },
  {
   "cell_type": "code",
   "execution_count": 27,
   "metadata": {},
   "outputs": [
    {
     "data": {
      "text/plain": [
       "'#to load the final result with selected columns:\\ncolList = [\\'PIN\\', \\'PredictionClassLabel\\', \\'PredictionResult\\', \\'Enter Column Name\\', \\'Enter Column Name\\']\\nresult1 = target[colList]\\nresult1.reset_index(inplace=True)\\nresult1.drop(\"index\",axis=1,inplace=True)\\nresult1'"
      ]
     },
     "execution_count": 27,
     "metadata": {},
     "output_type": "execute_result"
    }
   ],
   "source": [
    "\"\"\"#to load the final result with selected columns:\n",
    "colList = ['PIN', 'PredictionClassLabel', 'PredictionResult', 'Enter Column Name', 'Enter Column Name']\n",
    "result1 = target[colList]\n",
    "result1.reset_index(inplace=True)\n",
    "result1.drop(\"index\",axis=1,inplace=True)\n",
    "result1\"\"\""
   ]
  },
  {
   "cell_type": "code",
   "execution_count": 28,
   "metadata": {},
   "outputs": [
    {
     "data": {
      "text/plain": [
       "\"#to export a dataframe named result1 into a csv file \\nresult1.to_csv('file_name.csv', sep = '|'')\""
      ]
     },
     "execution_count": 28,
     "metadata": {},
     "output_type": "execute_result"
    }
   ],
   "source": [
    "\"\"\"#to export a dataframe named result1 into a csv file \n",
    "result1.to_csv('file_name.csv', sep = '|'')\"\"\""
   ]
  }
 ],
 "metadata": {
  "kernelspec": {
   "display_name": "Python 2",
   "language": "python",
   "name": "python2"
  },
  "language_info": {
   "codemirror_mode": {
    "name": "ipython",
    "version": 2
   },
   "file_extension": ".py",
   "mimetype": "text/x-python",
   "name": "python",
   "nbconvert_exporter": "python",
   "pygments_lexer": "ipython2",
   "version": "2.7.15"
  }
 },
 "nbformat": 4,
 "nbformat_minor": 2
}
