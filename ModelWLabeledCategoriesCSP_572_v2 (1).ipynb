{
  "nbformat": 4,
  "nbformat_minor": 0,
  "metadata": {
    "colab": {
      "provenance": [],
      "gpuType": "T4"
    },
    "kernelspec": {
      "name": "python3",
      "display_name": "Python 3"
    },
    "language_info": {
      "name": "python"
    }
  },
  "cells": [
    {
      "cell_type": "markdown",
      "source": [
        "# This Notebook attempts to build a model with the categorical labels v2\n",
        " The testing and training were done on a 3 year and 4 year sliding window that are described below in appropriate cells\n",
        "\n",
        "## The following rows were dropped when considering the model\n",
        "\n",
        "*   the three rows at the end of 2019.rpt done by doing:\n",
        "\n",
        "data = data.where(data.SegmentCode==\"PH\")\n",
        "\n",
        "*   TaxStatus=1 (kept taxstatus 0 and 3)\n",
        "* any row where *both* adjustedAmoutnDue1 and AdjustedTaxDue2 were 0\n",
        "* removed all rows where LastPaymentSource2 was TPA (referred to payment data excel\n",
        "* removed all rows where LastPaymentSource1 was TPA (referred to payment data excel\n",
        "* removed all rows where diffpmt2 (difference in payment to duedate >=500)\n",
        "* removed all rows where diffpmt1 (difference in payment to duedate >=500+180)\n",
        "\n",
        "## The following rows were kept (interesting cases)\n",
        "\n",
        "* LastPaymentSource1='000'\n",
        "\n",
        "\n",
        "Final dataset length before test,train split:4280384\n",
        "\n",
        "\n",
        "## Notes about OneHotEncoding Endeavor:\n",
        "Initially tried to use StringIndexer,OnehotEnocoder to automate dummy variables\n",
        "Further tried to use [this](https://www.skytowner.com/explore/one_hot_encoding_in_pyspark) website which at first glance did what I needed. I ran into issues with dealing with multiple categorical columns and how to combine the steps into one dataframe. Then I decided,  for the sake of time (ironically), I will manually create dummy variables. This turned out just fine for the conditions I described above.\n"
      ],
      "metadata": {
        "id": "Ze4pUsOuUNKf"
      }
    },
    {
      "cell_type": "code",
      "execution_count": 1,
      "metadata": {
        "colab": {
          "base_uri": "https://localhost:8080/"
        },
        "id": "FuRXIO8jTrbi",
        "outputId": "8f0d11e2-2617-4f00-aeae-8efda805502a"
      },
      "outputs": [
        {
          "output_type": "stream",
          "name": "stdout",
          "text": [
            "Mounted at /content/gdrive\n"
          ]
        }
      ],
      "source": [
        "# Mount to google drive where data is stored\n",
        "from google.colab import drive\n",
        "drive.mount('/content/gdrive')"
      ]
    },
    {
      "cell_type": "markdown",
      "source": [
        "## PySpark Setup"
      ],
      "metadata": {
        "id": "lU1YuEycWy28"
      }
    },
    {
      "cell_type": "code",
      "source": [
        "# If you encounter any problems visit the apache.org link and ensure you have selected the right tgz file\n",
        "!apt-get install openjdk-8-jdk-headless -qq > /dev/null\n",
        "!wget -q https://www.apache.org/dist/spark/spark-3.2.4/spark-3.2.4-bin-hadoop2.7.tgz\n",
        "!tar xf spark-3.2.4-bin-hadoop2.7.tgz\n"
      ],
      "metadata": {
        "id": "zCPeiUI9AQtn"
      },
      "execution_count": 2,
      "outputs": []
    },
    {
      "cell_type": "code",
      "source": [
        "#import shutil\n",
        "\n",
        "#shutil.rmtree('/content/gdrive/MyDrive/CSP 572/spark-3.2.4-bin-hadoop2.7')"
      ],
      "metadata": {
        "id": "QKVtxvWDkBU2"
      },
      "execution_count": null,
      "outputs": []
    },
    {
      "cell_type": "code",
      "source": [
        "# Setting the appropriate paths for Spark\n",
        "import os\n",
        "os.environ[\"JAVA_HOME\"] = \"/usr/lib/jvm/java-8-openjdk-amd64\"\n",
        "os.environ[\"SPARK_HOME\"] = \"/content/spark-3.2.4-bin-hadoop2.7\"\n",
        "\n",
        "!pip install -q findspark\n",
        "import findspark\n",
        "findspark.init()"
      ],
      "metadata": {
        "id": "_EbDt5I71w23"
      },
      "execution_count": 3,
      "outputs": []
    },
    {
      "cell_type": "markdown",
      "source": [
        "## Import libraries"
      ],
      "metadata": {
        "id": "2IhdtDu6W4uG"
      }
    },
    {
      "cell_type": "code",
      "source": [
        "import matplotlib.pyplot as plt"
      ],
      "metadata": {
        "id": "8km2Nvkc4Pgr"
      },
      "execution_count": 4,
      "outputs": []
    },
    {
      "cell_type": "code",
      "source": [
        "\n",
        "from pyspark.sql.functions import *\n",
        "from pyspark.sql import SparkSession\n",
        "from pyspark.sql.functions import col, lit, to_timestamp, log\n",
        "from pyspark.sql import Window\n",
        "import pyspark.sql.functions as f\n",
        "from pyspark.sql import Window\n",
        "from pyspark.sql import functions as F\n",
        "from pyspark.sql.types import StringType, DateType, FloatType\n",
        "import pandas as pd\n",
        "from pyspark.sql.functions import mean as _mean, stddev as _stddev, col"
      ],
      "metadata": {
        "id": "msPS2l2x4C7N"
      },
      "execution_count": 5,
      "outputs": []
    },
    {
      "cell_type": "code",
      "source": [
        "from pyspark.ml.stat import Correlation\n",
        "from pyspark.ml.feature import VectorAssembler\n",
        "from pyspark.ml.classification import RandomForestClassifier\n",
        "#!pip install pyspark_dist_explore\n",
        "#from pyspark_dist_explore import hist\n",
        "#import matplotlib.pyplot as plt"
      ],
      "metadata": {
        "id": "so2vChh4Ui5f"
      },
      "execution_count": 6,
      "outputs": []
    },
    {
      "cell_type": "code",
      "source": [
        "from sklearn.metrics import confusion_matrix, accuracy_score, f1_score, precision_score, recall_score, ConfusionMatrixDisplay"
      ],
      "metadata": {
        "id": "69RHxCCBx0iC"
      },
      "execution_count": 7,
      "outputs": []
    },
    {
      "cell_type": "code",
      "source": [
        "# Change directory\n",
        "import os\n",
        "os.chdir(\"/content/gdrive/MyDrive\")"
      ],
      "metadata": {
        "id": "gPEJS7FD4HH0"
      },
      "execution_count": 8,
      "outputs": []
    },
    {
      "cell_type": "code",
      "source": [
        "\n",
        "# Create a spark session\n",
        "spark = SparkSession.builder\\\n",
        "        .master(\"local\")\\\n",
        "        .appName(\"Colab\")\\\n",
        "        .config('spark.ui.port', '4050')\\\n",
        "        .getOrCreate()\n"
      ],
      "metadata": {
        "id": "ib2wLRBD4J1w"
      },
      "execution_count": 9,
      "outputs": []
    },
    {
      "cell_type": "markdown",
      "source": [
        "## Read Data"
      ],
      "metadata": {
        "id": "1h6L8C0ZXEgR"
      }
    },
    {
      "cell_type": "code",
      "source": [
        "# Read 2021 data\n",
        "data = spark.read.csv(\"2021.rpt\", header=None, sep=\"|\")"
      ],
      "metadata": {
        "id": "9VYaBrvX4RFc"
      },
      "execution_count": 10,
      "outputs": []
    },
    {
      "cell_type": "code",
      "source": [
        "# Read the header file\n",
        "header = pd.read_csv(\"Header.rpt\", sep=\"|\")\n",
        "cols = header.columns\n",
        "data = data.toDF(*cols)\n"
      ],
      "metadata": {
        "id": "HVR-a9Em84jH"
      },
      "execution_count": 11,
      "outputs": []
    },
    {
      "cell_type": "code",
      "source": [
        "# Read all other data files\n",
        "#data_2022 = spark.read.csv(\"2022.rpt\", header=None, sep=\"|\")\n",
        "data_2020 = spark.read.csv(\"2020.rpt\", header=None, sep=\"|\")\n",
        "data_2019 = spark.read.csv(\"2019.rpt\", header=None, sep=\"|\")\n",
        "data_2018 = spark.read.csv(\"2018.rpt\", header=None, sep=\"|\")\n",
        "data_2017 = spark.read.csv(\"2017.rpt\", header=None, sep=\"|\")"
      ],
      "metadata": {
        "id": "xZLp4QWi4weP"
      },
      "execution_count": 12,
      "outputs": []
    },
    {
      "cell_type": "code",
      "source": [
        "# Combine all data\n",
        "#data = data.union(data_2022)\n",
        "data = data.union(data_2020)\n",
        "data = data.union(data_2019)\n",
        "data = data.union(data_2018)\n",
        "data = data.union(data_2017)"
      ],
      "metadata": {
        "id": "fXy29qJa5EWo"
      },
      "execution_count": 13,
      "outputs": []
    },
    {
      "cell_type": "code",
      "source": [
        "for i in range(len(data.columns)):\n",
        "  print(i,data.columns[i])"
      ],
      "metadata": {
        "colab": {
          "base_uri": "https://localhost:8080/"
        },
        "id": "jsWPCAsQ5dKG",
        "outputId": "7f6ca537-93a1-4467-8a28-cec166aaf889"
      },
      "execution_count": 14,
      "outputs": [
        {
          "output_type": "stream",
          "name": "stdout",
          "text": [
            "0 SegmentCode\n",
            "1 PIN\n",
            "2 Volume\n",
            "3 Classification\n",
            "4 TaxpayerName\n",
            "5 TaxpayerMailingAddress\n",
            "6 TaxpayerMailingCity\n",
            "7 TaxpayerMailingState\n",
            "8 TaxpayerMailingZip\n",
            "9 TaxpayerPropertyHouse\n",
            "10 TaxpayerPropertyDirection\n",
            "11 TaxpayerPropertyStreet\n",
            "12 TaxpayerPropertySuffix\n",
            "13 TaxpayerPropertyCity\n",
            "14 TaxpayerPropertyState\n",
            "15 TaxpayerPropertyZip\n",
            "16 TaxpayerPropertyTown\n",
            "17 TaxCode\n",
            "18 TaxStatus\n",
            "19 HomeownerExempt\n",
            "20 SeniorExempt\n",
            "21 SeniorFreezeExempt\n",
            "22 LongtimeHomeownersExempt\n",
            "23 TaxInfoType\n",
            "24 TaxType\n",
            "25 TaxYear\n",
            "26 BillYear\n",
            "27 AccountStatus\n",
            "28 BillType\n",
            "29 SegmentCode2\n",
            "30 InstallmentNumber1\n",
            "31 AdjustedAmountDue1\n",
            "32 TaxAmountDue1\n",
            "33 RefundTaxAmountDueIndicator1\n",
            "34 InterestAmountDue1\n",
            "35 RefundInterestDueIndicator1\n",
            "36 CostAmountDue1\n",
            "37 RefundCostDueIndicator1\n",
            "38 TotalAmountDue1\n",
            "39 RefundTotalDueIndicator1\n",
            "40 LastPaymentDate1\n",
            "41 LastPaymentSource1\n",
            "42 InstallmentNumber2\n",
            "43 OriginalTaxDue2\n",
            "44 AdjustedTaxDue2\n",
            "45 TaxAmountDue2\n",
            "46 RefundTaxAmountDueIndicator2\n",
            "47 InterestAmountDue2\n",
            "48 RefundInterestDueIndicator2\n",
            "49 CostAmountDue2\n",
            "50 RefundCostDueIndicator2\n",
            "51 TotalAmountDue2\n",
            "52 RefundTaxDueIndicator2\n",
            "53 LastPaymentDate2\n",
            "54 LastPaymentSource2\n",
            "55 CofENumber\n",
            "56 PastTaxSaleStatus\n",
            "57 AssessedValuation\n",
            "58 EqualizedEvaluation\n",
            "59 TaxRate\n",
            "60 RecordCount\n",
            "61 CondemnationStatus\n",
            "62 MunicipalAcquisitionStatus\n",
            "63 AcquisitionStatus\n",
            "64 ExemptStatus\n",
            "65 BankruptStatus\n",
            "66 RefundStatus\n",
            "67 LastPaymentReceivedAmount1\n",
            "68 LastPaymentReceivedAmount2\n",
            "69 EndMarker\n",
            "70 TaxDueEstimated1\n",
            "71 ReturningVetExemptionAmount\n",
            "72 DisabledPersonExemptionAmount\n",
            "73 DisabledVetExemptionAmount\n",
            "74 DisabledPersonVetExemptionAmount\n",
            "75 HomeownerExemptAmount\n",
            "76 SeniorExemptAmount\n",
            "77 SeniorFreezeExemptAmount\n",
            "78 LongtimeHomeownersExemptAmount\n",
            "79 VeteranExempt\n",
            "80 AdjustedAmountDue1_Org\n"
          ]
        }
      ]
    },
    {
      "cell_type": "code",
      "source": [
        "# Numeric columns list - add to this as you see fit\n",
        "numeric_cols = [\"AdjustedAmountDue1\", \"TaxAmountDue1\", \"InterestAmountDue1\", \"CostAmountDue1\", \"TotalAmountDue1\", \"OriginalTaxDue2\",\n",
        "        \"AdjustedTaxDue2\", \"TaxAmountDue2\", \"InterestAmountDue2\", \"CostAmountDue2\", \"TotalAmountDue2\", \"AssessedValuation\",\n",
        "        \"EqualizedEvaluation\", \"TaxRate\", \"LastPaymentReceivedAmount1\", \"LastPaymentReceivedAmount2\"\n",
        "        ] + list(data.columns)[70:81]"
      ],
      "metadata": {
        "id": "LSDbhNsZ81CN"
      },
      "execution_count": 14,
      "outputs": []
    },
    {
      "cell_type": "code",
      "source": [
        "# Convert to numeric columns\n",
        "for col_name in numeric_cols:\n",
        "    data = data.withColumn(col_name, col(col_name).cast('float'))\n",
        "\n",
        "\n",
        "# Remove 3 rows which have garbage values\n",
        "data = data.where(data.SegmentCode==\"PH\")"
      ],
      "metadata": {
        "id": "DShj7KV56qi2"
      },
      "execution_count": 15,
      "outputs": []
    },
    {
      "cell_type": "code",
      "source": [
        "data.count()"
      ],
      "metadata": {
        "colab": {
          "base_uri": "https://localhost:8080/"
        },
        "id": "Y0dxhqsliS5X",
        "outputId": "ccc39485-d288-4104-bd6b-8808e410ecf9"
      },
      "execution_count": 16,
      "outputs": [
        {
          "output_type": "execute_result",
          "data": {
            "text/plain": [
              "9325500"
            ]
          },
          "metadata": {},
          "execution_count": 16
        }
      ]
    },
    {
      "cell_type": "code",
      "source": [
        "#data only should contain non-exempt accounts\n",
        "data=data.where(data.TaxStatus!=1)"
      ],
      "metadata": {
        "id": "hJG2N7OLiPH2"
      },
      "execution_count": 16,
      "outputs": []
    },
    {
      "cell_type": "code",
      "source": [
        "data.count()"
      ],
      "metadata": {
        "colab": {
          "base_uri": "https://localhost:8080/"
        },
        "id": "sWJPeC_cg2i-",
        "outputId": "5dd53c20-1feb-4022-c2e5-3dd52fd74f43"
      },
      "execution_count": 18,
      "outputs": [
        {
          "output_type": "execute_result",
          "data": {
            "text/plain": [
              "8866794"
            ]
          },
          "metadata": {},
          "execution_count": 18
        }
      ]
    },
    {
      "cell_type": "code",
      "source": [
        "data=data.filter((col('AdjustedAmountDue1') != 0) | (col('AdjustedTaxDue2') != 0))"
      ],
      "metadata": {
        "id": "tlsfIulbDOO-"
      },
      "execution_count": 17,
      "outputs": []
    },
    {
      "cell_type": "code",
      "source": [
        "data.count()"
      ],
      "metadata": {
        "colab": {
          "base_uri": "https://localhost:8080/"
        },
        "id": "8eeaGyeHFdVA",
        "outputId": "f70508cc-fbc8-4c46-bd32-711d61234c37"
      },
      "execution_count": 21,
      "outputs": [
        {
          "output_type": "execute_result",
          "data": {
            "text/plain": [
              "8634906"
            ]
          },
          "metadata": {},
          "execution_count": 21
        }
      ]
    },
    {
      "cell_type": "code",
      "source": [
        "data=data.filter((col('LastPaymentSource2') != 527))\n",
        "data=data.filter((col('LastPaymentSource2') != 600))\n",
        "data=data.filter((col('LastPaymentSource2') != 800))\n",
        "data=data.filter((col('LastPaymentSource2') != 802))\n",
        "data=data.filter((col('LastPaymentSource2') != 830))"
      ],
      "metadata": {
        "id": "tYET_zj5DX3E"
      },
      "execution_count": 18,
      "outputs": []
    },
    {
      "cell_type": "code",
      "source": [
        "data.count()"
      ],
      "metadata": {
        "colab": {
          "base_uri": "https://localhost:8080/"
        },
        "id": "nkZGxMikDf0w",
        "outputId": "84d1c91b-aa7d-40ce-9e88-4f89a9278eff"
      },
      "execution_count": 23,
      "outputs": [
        {
          "output_type": "execute_result",
          "data": {
            "text/plain": [
              "4793935"
            ]
          },
          "metadata": {},
          "execution_count": 23
        }
      ]
    },
    {
      "cell_type": "code",
      "source": [
        "data=data.filter((col('LastPaymentSource1') != 527))\n",
        "data=data.filter((col('LastPaymentSource1') != 600))\n",
        "data=data.filter((col('LastPaymentSource1') != 800))\n",
        "data=data.filter((col('LastPaymentSource1') != 802))\n",
        "data=data.filter((col('LastPaymentSource1') != 830))"
      ],
      "metadata": {
        "id": "PwWeAV7yF_0T"
      },
      "execution_count": 19,
      "outputs": []
    },
    {
      "cell_type": "code",
      "source": [
        "data.count()"
      ],
      "metadata": {
        "colab": {
          "base_uri": "https://localhost:8080/"
        },
        "id": "eyhKFxHkGEXc",
        "outputId": "10476cab-844c-443c-c123-61c23802b809"
      },
      "execution_count": 20,
      "outputs": [
        {
          "output_type": "execute_result",
          "data": {
            "text/plain": [
              "4597700"
            ]
          },
          "metadata": {},
          "execution_count": 20
        }
      ]
    },
    {
      "cell_type": "markdown",
      "source": [
        "### Target Variable\n",
        "Our target variable is Late Payment in 2nd Installment Y/N. We get this from the InstDates.csv (available in 'Helper datasets' folder in the shared drive) which contains the payment due dates of each year for each installment."
      ],
      "metadata": {
        "id": "CfS-US7ytEcv"
      }
    },
    {
      "cell_type": "code",
      "source": [
        "instDates = spark.read.csv(\"InstDates.csv\", header=True)\n",
        "instDates = instDates.withColumn(\"Year\", col(\"Year\").cast(\"int\"))\n",
        "instDates = instDates.where(instDates.Year>=2017)\n",
        "instDates = instDates.withColumnRenamed(\"Inst1\", \"PmtDue1\")\n",
        "instDates = instDates.withColumnRenamed(\"Inst2\", \"PmtDue2\")"
      ],
      "metadata": {
        "id": "O7ItNlcvLIEY"
      },
      "execution_count": 21,
      "outputs": []
    },
    {
      "cell_type": "code",
      "source": [
        "instDates.show()"
      ],
      "metadata": {
        "colab": {
          "base_uri": "https://localhost:8080/"
        },
        "id": "1BtV9RzY_6oc",
        "outputId": "c2f7a929-9384-4891-d980-4db622169f7f"
      },
      "execution_count": 24,
      "outputs": [
        {
          "output_type": "stream",
          "name": "stdout",
          "text": [
            "+----+----------+----------+\n",
            "|Year|   PmtDue1|   PmtDue2|\n",
            "+----+----------+----------+\n",
            "|2017|2018-03-01|2018-08-01|\n",
            "|2018|2019-03-01|2019-08-01|\n",
            "|2019|2020-03-03|2020-08-03|\n",
            "|2020|2021-03-02|2021-10-01|\n",
            "|2021|2022-03-01|2023-01-03|\n",
            "|2022|2023-04-03|      null|\n",
            "+----+----------+----------+\n",
            "\n"
          ]
        }
      ]
    },
    {
      "cell_type": "code",
      "source": [
        "#data=data.filter(data.LastPaymentDate2!='00000000')\n"
      ],
      "metadata": {
        "id": "qwPM3iuL7dRT"
      },
      "execution_count": 25,
      "outputs": []
    },
    {
      "cell_type": "code",
      "source": [
        "data.filter(data.LastPaymentDate2=='00000000').show()\n"
      ],
      "metadata": {
        "colab": {
          "base_uri": "https://localhost:8080/"
        },
        "id": "yhtAEExo70jS",
        "outputId": "23cf49b8-4ae1-40cc-c27b-0cda546ec839"
      },
      "execution_count": 21,
      "outputs": [
        {
          "output_type": "stream",
          "name": "stdout",
          "text": [
            "+-----------+--------------+------+--------------+--------------------+----------------------+--------------------+--------------------+------------------+---------------------+-------------------------+----------------------+----------------------+--------------------+---------------------+-------------------+--------------------+-------+---------+---------------+------------+------------------+------------------------+-----------+-------+-------+--------+-------------+--------+------------+------------------+------------------+-------------+----------------------------+------------------+---------------------------+--------------+-----------------------+---------------+------------------------+----------------+------------------+------------------+---------------+---------------+-------------+----------------------------+------------------+---------------------------+--------------+-----------------------+---------------+----------------------+----------------+------------------+----------+-----------------+-----------------+-------------------+-------+-----------+------------------+--------------------------+-----------------+------------+--------------+------------+--------------------------+--------------------------+---------+----------------+---------------------------+-----------------------------+--------------------------+--------------------------------+---------------------+------------------+------------------------+------------------------------+-------------+----------------------+\n",
            "|SegmentCode|           PIN|Volume|Classification|        TaxpayerName|TaxpayerMailingAddress| TaxpayerMailingCity|TaxpayerMailingState|TaxpayerMailingZip|TaxpayerPropertyHouse|TaxpayerPropertyDirection|TaxpayerPropertyStreet|TaxpayerPropertySuffix|TaxpayerPropertyCity|TaxpayerPropertyState|TaxpayerPropertyZip|TaxpayerPropertyTown|TaxCode|TaxStatus|HomeownerExempt|SeniorExempt|SeniorFreezeExempt|LongtimeHomeownersExempt|TaxInfoType|TaxType|TaxYear|BillYear|AccountStatus|BillType|SegmentCode2|InstallmentNumber1|AdjustedAmountDue1|TaxAmountDue1|RefundTaxAmountDueIndicator1|InterestAmountDue1|RefundInterestDueIndicator1|CostAmountDue1|RefundCostDueIndicator1|TotalAmountDue1|RefundTotalDueIndicator1|LastPaymentDate1|LastPaymentSource1|InstallmentNumber2|OriginalTaxDue2|AdjustedTaxDue2|TaxAmountDue2|RefundTaxAmountDueIndicator2|InterestAmountDue2|RefundInterestDueIndicator2|CostAmountDue2|RefundCostDueIndicator2|TotalAmountDue2|RefundTaxDueIndicator2|LastPaymentDate2|LastPaymentSource2|CofENumber|PastTaxSaleStatus|AssessedValuation|EqualizedEvaluation|TaxRate|RecordCount|CondemnationStatus|MunicipalAcquisitionStatus|AcquisitionStatus|ExemptStatus|BankruptStatus|RefundStatus|LastPaymentReceivedAmount1|LastPaymentReceivedAmount2|EndMarker|TaxDueEstimated1|ReturningVetExemptionAmount|DisabledPersonExemptionAmount|DisabledVetExemptionAmount|DisabledPersonVetExemptionAmount|HomeownerExemptAmount|SeniorExemptAmount|SeniorFreezeExemptAmount|LongtimeHomeownersExemptAmount|VeteranExempt|AdjustedAmountDue1_Org|\n",
            "+-----------+--------------+------+--------------+--------------------+----------------------+--------------------+--------------------+------------------+---------------------+-------------------------+----------------------+----------------------+--------------------+---------------------+-------------------+--------------------+-------+---------+---------------+------------+------------------+------------------------+-----------+-------+-------+--------+-------------+--------+------------+------------------+------------------+-------------+----------------------------+------------------+---------------------------+--------------+-----------------------+---------------+------------------------+----------------+------------------+------------------+---------------+---------------+-------------+----------------------------+------------------+---------------------------+--------------+-----------------------+---------------+----------------------+----------------+------------------+----------+-----------------+-----------------+-------------------+-------+-----------+------------------+--------------------------+-----------------+------------+--------------+------------+--------------------------+--------------------------+---------+----------------+---------------------------+-----------------------------+--------------------------+--------------------------------+---------------------+------------------+------------------------+------------------------------+-------------+----------------------+\n",
            "|         PH|08321010301031|   050|           299|JOHN BERTUCCI    ...|  520 BIESTERFIELD ...|ELK GROV VLG     ...|                  IL|         600073373|           0000000520|                         |       BIESTERFIELD   |                  RD  |ELK GROVE VILLAGE...|                   IL|          600077327|     ELK GROVE      |  16035|       00|              1|           0|                 0|                       0|          R|     00|   2021|    2021|            O|       1|          PD|                01|          151617.0|          0.0|                           P|               0.0|                          P|           0.0|                      P|            0.0|                       P|        06062022|               700|                02|       128220.0|       128220.0|     128220.0|                           P|           11538.0|                          P|           0.0|                      P|       139758.0|                     P|        00000000|               000|   0000000|                N|          13411.0|            30269.0| 9245.0|  000284246|                 0|                         0|                0|           0|             0|           0|                  151617.0|                       0.0|        X|        151617.0|                        0.0|                          0.0|                       0.0|                             0.0|              10000.0|               0.0|                     0.0|                           0.0|          0.0|              151617.0|\n",
            "|         PH|08321010331024|   050|           299|TIMOTHY GUY      ...|  815 LEICHESTER RD...|ELK GRVE VLG     ...|                  IL|         600077302|           0000000815|                         |       LEICESTER      |                  RD  |ELK GROVE VILLAGE...|                   IL|          600073390|     ELK GROVE      |  16035|       03|              1|           1|                 0|                       0|          R|     00|   2021|    2021|            O|       1|          PD|                01|          108056.0|     108056.0|                           P|           25936.0|                          P|           0.0|                      P|       133992.0|                       P|        00000000|               000|                02|        84499.0|        84499.0|      84499.0|                           P|            7602.0|                          P|           0.0|                      P|        92101.0|                     P|        00000000|               000|   0000000|                Y|          12931.0|            20828.0| 9245.0|  000284308|                 0|                         0|                0|           1|             0|           0|                       0.0|                       0.0|        X|        108056.0|                        0.0|                          0.0|                       0.0|                             0.0|              10000.0|            8000.0|                     0.0|                           0.0|          0.0|              108056.0|\n",
            "|         PH|08321010331053|   050|           299|ALICE M MULHOLLAN...|  815 LEICESTER RD ...|ELK GRV VLG      ...|                  IL|         600077303|           0000000815|                         |       LEICESTER      |                  RD  |ELK GROVE VILLAGE...|                   IL|          600073390|     ELK GROVE      |  16035|       03|              1|           1|                 0|                       0|          R|     00|   2021|    2021|            P|       1|          PD|                01|          164487.0|          0.0|                           P|               0.0|                          P|           0.0|                      P|            0.0|                       P|        02262022|               700|                02|            0.0|            0.0|          0.0|                           P|               0.0|                          P|           0.0|                      P|            0.0|                     P|        00000000|               000|   0000000|                N|          12586.0|            17792.0| 9245.0|  000284337|                 0|                         0|                0|           1|             0|           0|                  164487.0|                       0.0|        X|        185113.0|                        0.0|                        184.9|                       0.0|                             0.0|              10000.0|            8000.0|                     0.0|                           0.0|          1.0|              164487.0|\n",
            "|         PH|08321010371008|   050|           299|ABEL BOLANOS     ...|  898 WELLINGTON AV...|ELK GRVE VLG     ...|                  IL|         600073352|           0000000898|                         |       WELLINGTON     |                  AVE |ELK GROVE VILLAGE...|                   IL|          600073369|     ELK GROVE      |  16035|       03|              1|           1|                 0|                       0|          R|     00|   2021|    2021|            P|       1|          PD|                01|           65556.0|          0.0|                           P|               0.0|                          P|           0.0|                      P|            0.0|                       P|        10022022|               750|                02|            0.0|            0.0|          0.0|                           P|               0.0|                          P|           0.0|                      P|            0.0|                     P|        00000000|               000|   0000000|                N|           8356.0|             7091.0| 9245.0|  000284475|                 0|                         0|                0|           1|             0|           0|                   65556.0|                       0.0|        X|         77271.0|                        0.0|                          0.0|                       0.0|                             0.0|              10000.0|            8000.0|                     0.0|                           0.0|          0.0|               65556.0|\n",
            "|         PH|08322020270000|   050|           517|SOUTH LONDON HOLD...|  PO BOX 73        ...|BRYN MAWR        ...|                  PA|         190100073|           0000000988|                         |       BIESTERFIELD   |                  RD  |ELK GROVE VILLAGE...|                   IL|          000000000|     ELK GROVE      |  16114|       00|              0|           0|                 0|                       0|          R|     00|   2021|    2021|            O|       1|          PD|                01|         5390574.0|          0.0|                           P|               0.0|                          P|           0.0|                      P|            0.0|                       P|        10282022|               700|                02|    1.6168174E7|    1.6168174E7|  1.6168174E7|                           P|         1455138.0|                          P|           0.0|                      P|    1.7623312E7|                     P|        00000000|               000|   0000000|                N|         776613.0|          2331936.0| 9245.0|  000284877|                 0|                         0|                0|           0|             0|           0|                 5390574.0|                       0.0|        X|       5390574.0|                        0.0|                          0.0|                       0.0|                             0.0|                  0.0|               0.0|                     0.0|                           0.0|          0.0|             5390574.0|\n",
            "|         PH|07151020070000|   187|           100|PAUL J WILLIAMS  ...|  38W441 HIGHLAND A...|ELGIN            ...|                  IL|         601247970|           0000000120|                       W |       HIGGINS        |                  RD  |HOFFMAN ESTATES  ...|                   IL|          601953702|     SCHAUMBURG     |  35013|       00|              0|           0|                 0|                       0|          R|     00|   2021|    2021|            O|       1|          PD|                01|           25827.0|      25827.0|                           P|            6192.0|                          P|           0.0|                      P|        32019.0|                       P|        00000000|               000|                02|        22253.0|        22253.0|      22253.0|                           P|            2004.0|                          P|           0.0|                      P|        24257.0|                     P|        00000000|               000|   0000000|                N|           1435.0|             4309.0|11158.0|  000218192|                 0|                         0|                0|           0|             0|           0|                       0.0|                       0.0|        X|         25827.0|                        0.0|                          0.0|                       0.0|                             0.0|                  0.0|               0.0|                     0.0|                           0.0|          0.0|               25827.0|\n",
            "|         PH|07151020410000|   187|           100|HAMPTON KNOLL ASS...|  4100 W LUNT AV   ...|LINCOLNWOOD      ...|                  IL|         607122326|           0000000041|                         |       EVANSTON       |                  ST  |HOFFMAN ESTATES  ...|                   IL|          000000000|     SCHAUMBURG     |  35013|       00|              0|           0|                 0|                       0|          R|     00|   2021|    2021|            O|       1|          PD|                01|           22567.0|          0.0|                           P|               0.0|                          P|           0.0|                      P|            0.0|                       P|        06132022|               700|                02|        19443.0|        19443.0|      19443.0|                           P|            1752.0|                          P|           0.0|                      P|        21195.0|                     P|        00000000|               000|   0000000|                N|           1254.0|             3765.0|11158.0|  000218199|                 0|                         0|                0|           0|             0|           0|                   22567.0|                       0.0|        X|         22567.0|                        0.0|                          0.0|                       0.0|                             0.0|                  0.0|               0.0|                     0.0|                           0.0|          0.0|               22567.0|\n",
            "|         PH|07151020420000|   187|           100|HAMPTON KNOLL ASS...|  4100 W LUNT AV   ...|LINCOLNWOOD      ...|                  IL|         607122326|           0000000042|                         |       EVANSTON       |                  ST  |HOFFMAN ESTATES  ...|                   IL|          000000000|     SCHAUMBURG     |  35013|       00|              0|           0|                 0|                       0|          R|     00|   2021|    2021|            O|       1|          PD|                01|            3238.0|          0.0|                           P|               0.0|                          P|           0.0|                      P|            0.0|                       P|        06132022|               700|                02|         2787.0|         2787.0|       2787.0|                           P|             252.0|                          P|           0.0|                      P|         3039.0|                     P|        00000000|               000|   0000000|                N|            180.0|              540.0|11158.0|  000218200|                 0|                         0|                0|           0|             0|           0|                    3238.0|                       0.0|        X|          3238.0|                        0.0|                          0.0|                       0.0|                             0.0|                  0.0|               0.0|                     0.0|                           0.0|          0.0|                3238.0|\n",
            "|         PH|08321090011028|   050|           299|PATRICIA A KASS  ...|  785 WELLINGTON   ...|ELK GRVE VLG     ...|                  IL|         600073301|           0000000785|                         |       WELLINGTON     |                  AVE |ELK GROVE VILLAGE...|                   IL|          600073301|     ELK GROVE      |  16035|       03|              1|           1|                 1|                       0|          R|     00|   2021|    2021|            P|       1|          PD|                01|           74524.0|          0.0|                           P|               0.0|                          P|           0.0|                      P|            0.0|                       P|        02072022|               444|                02|            0.0|            0.0|          0.0|                           P|               0.0|                          P|           0.0|                      P|            0.0|                     P|        00000000|               000|   0000000|                N|          12577.0|             8061.0| 9245.0|  000284666|                 0|                         0|                0|           1|             0|           0|                   74524.0|                       0.0|        X|        102850.0|                        0.0|                          0.0|                       0.0|                             0.0|              10000.0|            8000.0|                 11704.0|                           0.0|          0.0|               74524.0|\n",
            "|         PH|08321090020000|   050|           290|TAXPAYER OF      ...|  730 WELLINGTON AV...|ELK GROVE        ...|                  IL|         600073302|           0000000730|                         |       WELLINGTON     |                  AVE |ELK GROVE VILLAGE...|                   IL|          600073302|     ELK GROVE      |  16035|       00|              0|           0|                 0|                       0|          R|     00|   2021|    2021|            O|       1|          PD|                01|           75583.0|      75583.0|                           P|           18144.0|                          P|           0.0|                      P|        93727.0|                       P|        00000000|               000|                02|        67077.0|        67077.0|      67077.0|                           P|            6036.0|                          P|           0.0|                      P|        73113.0|                     P|        00000000|               000|   0000000|                N|           5139.0|            15431.0| 9245.0|  000284711|                 0|                         0|                0|           0|             0|           0|                       0.0|                       0.0|        X|         75583.0|                        0.0|                          0.0|                       0.0|                             0.0|                  0.0|               0.0|                     0.0|                           0.0|          0.0|               75583.0|\n",
            "|         PH|08322000171017|   050|           299|KRISTOPHER VANKOS...|  103 BOARDWALK ST ...|ELK GRV VIL      ...|                  IL|         600073653|           0000000103|                         |       BOARDWALK      |                  ST  |ELK GROVE VILLAGE...|                   IL|          600073696|     ELK GROVE      |  16035|       00|              1|           0|                 0|                       0|          R|     00|   2021|    2021|            O|       1|          PD|                01|           79137.0|      79137.0|                           P|           18992.0|                          P|           0.0|                      P|        98129.0|                       P|        00000000|               000|                02|        63902.0|        63902.0|      63902.0|                           P|            5754.0|                          P|           0.0|                      P|        69656.0|                     P|        00000000|               000|   0000000|                N|           8483.0|            15472.0| 9245.0|  000284729|                 0|                         0|                0|           0|             0|           0|                       0.0|                       0.0|        X|         79137.0|                        0.0|                          0.0|                       0.0|                             0.0|              10000.0|               0.0|                     0.0|                           0.0|          0.0|               79137.0|\n",
            "|         PH|09143080161398|   088|           299|ROSEANN CASILIO  ...|  8905 KNIGHT #303 ...|DES PLAINES      ...|                  IL|         600165551|           0000008905|                       N |       KNIGHT         |                  AVE |DES PLAINES      ...|                   IL|          600165565|     MAINE          |  22044|       00|              1|           0|                 0|                       0|          R|     00|   2021|    2021|            P|       1|          PD|                01|           79993.0|          0.0|                           P|               0.0|                          P|           0.0|                      P|            0.0|                       P|        02282022|               700|                02|        71897.0|            0.0|          0.0|                           P|               0.0|                          P|           0.0|                      P|            0.0|                     P|        00000000|               000|   0023069|                N|           8542.0|            15649.0|10458.0|  000300527|                 0|                         0|                0|           0|             0|           0|                   79993.0|                       0.0|        X|         91760.0|                        0.0|                          0.0|                       0.0|                             0.0|              10000.0|               0.0|                     0.0|                           0.0|          0.0|               91760.0|\n",
            "|         PH|07151020440000|   187|           295|MICHAEL A NISK   ...|  805 LINDEN CIR   ...|HOFFMAN ESTS     ...|                  IL|         601693261|           0000000805|                         |       LINDEN CIRCLE  |                      |HOFFMAN ESTATES  ...|                   IL|          601693261|     SCHAUMBURG     |  35013|       00|              1|           0|                 0|                       0|          R|     00|   2021|    2021|            O|       1|          PD|                01|          320076.0|          0.0|                           P|               0.0|                          P|           0.0|                      P|            0.0|                       P|        03222022|               700|                02|       268174.0|       268174.0|     268174.0|                           P|           24138.0|                          P|           0.0|                      P|       292312.0|                     P|        00000000|               000|   0000000|                N|          20888.0|            52720.0|11158.0|  000218202|                 0|                         0|                0|           0|             0|           0|                  320076.0|                       0.0|        X|        320076.0|                        0.0|                          0.0|                       0.0|                             0.0|              10000.0|               0.0|                     0.0|                           0.0|          0.0|              320076.0|\n",
            "|         PH|08322000230000|   050|           517|VILLAGE OF ELK GR...|  901 WELLINGTON AV...|ELK GROVE VL     ...|                  IL|         600073456|           0000000750|                       S |       ARLINGTON HEIGH|                  RD  |ELK GROVE VILLAGE...|                   IL|          600073561|     ELK GROVE      |  16035|       00|              0|           0|                 0|                       0|          R|     00|   2021|    2021|            O|       1|          PD|                01|         5000628.0|    5000628.0|                           P|         1200144.0|                          P|           0.0|                      P|      6200772.0|                       P|        00000000|               000|                02|      4437759.0|      4437759.0|    2644466.0|                           P|          238002.0|                          P|           0.0|                      P|      2882468.0|                     P|        00000000|               000|   0000000|                N|         340000.0|          1020918.0| 9245.0|  000284858|                 0|                         1|                1|           0|             0|           0|                       0.0|                       0.0|        X|       5000628.0|                        0.0|                          0.0|                       0.0|                             0.0|                  0.0|               0.0|                     0.0|                           0.0|          0.0|             5000628.0|\n",
            "|         PH|08322000171059|   050|           299|INES GASSET      ...|  110 BOARDWALK ST#...|ELK GROVE VL     ...|                  IL|         600073678|           0000000110|                         |       BOARDWALK      |                  ST  |ELK GROVE VILLAGE...|                   IL|          600073678|     ELK GROVE      |  16035|       00|              0|           0|                 0|                       0|          R|     00|   2021|    2021|            O|       1|          PD|                01|          124765.0|          0.0|                           P|               0.0|                          P|           0.0|                      P|            0.0|                       P|        05262022|               750|                02|       110724.0|       110724.0|     110724.0|                           P|            9966.0|                          P|           0.0|                      P|       120690.0|                     P|        00000000|               000|   0000000|                N|           8483.0|            25472.0| 9245.0|  000284771|                 0|                         0|                0|           0|             0|           0|                  124765.0|                       0.0|        X|        124765.0|                        0.0|                          0.0|                       0.0|                             0.0|                  0.0|               0.0|                     0.0|                           0.0|          0.0|              124765.0|\n",
            "|         PH|09174021731024|   089|           299|STANISLAWA LUTOMI...|  477 GRACELAND #4B...|DES PLAINES      ...|                  IL|         600164445|           0000000477|                         |       GRACELAND      |                  AVE |DES PLAINES      ...|                   IL|          600164478|     MAINE          |  22028|       00|              1|           0|                 0|                       0|          R|     00|   2021|    2021|            P|       1|          PD|                01|           99852.0|          0.0|                           P|               0.0|                          P|           0.0|                      P|            0.0|                       P|        02172022|               431|                02|        79685.0|            0.0|          0.0|                           P|               0.0|                          P|           0.0|                      P|            0.0|                     P|        00000000|               000|   0011451|                N|           9243.0|            17754.0|10237.0|  000310011|                 0|                         0|                0|           0|             0|           0|                   99852.0|                       0.0|        X|        102063.0|                        0.0|                          0.0|                       0.0|                             0.0|              10000.0|               0.0|                     0.0|                           0.0|          0.0|              102063.0|\n",
            "|         PH|09174021731027|   089|           299|TAXPAYER OF      ...|  477 GRACELAND AV ...|DES PLAINES      ...|                  IL|         600164445|           0000000477|                         |       GRACELAND      |                  AVE |DES PLAINES      ...|                   IL|          600164478|     MAINE          |  22028|       00|              1|           0|                 0|                       0|          R|     00|   2021|    2021|            P|       1|          PD|                01|           81620.0|          0.0|                           P|               0.0|                          P|           0.0|                      P|            0.0|                       P|        02112022|               444|                02|        71312.0|            0.0|          0.0|                           P|               0.0|                          P|           0.0|                      P|            0.0|                     P|        00000000|               000|   0014131|                N|           8650.0|            15973.0|10237.0|  000310014|                 0|                         0|                0|           0|             0|           0|                   81620.0|                       0.0|        X|         92204.0|                        0.0|                          0.0|                       0.0|                             0.0|              10000.0|               0.0|                     0.0|                           0.0|          0.0|               92204.0|\n",
            "|         PH|09174021731028|   089|           299|WLADYSLAW WOLOSZ ...|  477 GRACELAND AVE...|DES PLAINES      ...|                  IL|         600164445|           0000000477|                         |       GRACELAND      |                  AVE |DES PLAINES      ...|                   IL|          600164478|     MAINE          |  22028|       00|              1|           0|                 0|                       0|          R|     00|   2021|    2021|            O|       1|          PD|                01|           97608.0|          0.0|                           P|               0.0|                          P|           0.0|                      P|            0.0|                       P|        04142022|               700|                02|        75899.0|        75899.0|      75899.0|                           P|            6828.0|                          P|           0.0|                      P|        82727.0|                     P|        00000000|               000|   0000000|                N|           8975.0|            16949.0|10237.0|  000310015|                 0|                         0|                0|           0|             0|           0|                   97608.0|                       0.0|        X|         97608.0|                        0.0|                          0.0|                       0.0|                             0.0|              10000.0|               0.0|                     0.0|                           0.0|          0.0|               97608.0|\n",
            "|         PH|09144130220000|   088|           522|MARVIN F POER& CO...|  PO BOX 52427   NT...|ATLANTA          ...|                  GA|         303550427|           0000009005|                         |       MILWAUKEE      |                  AVE |NILES            ...|                   IL|          607141536|     MAINE          |  22261|       00|              0|           0|                 0|                       0|          R|     00|   2021|    2021|            O|       1|          PD|                01|          655436.0|          0.0|                           P|               0.0|                          P|           0.0|                      P|            0.0|                       P|        03302022|               436|                02|       604759.0|       604759.0|     604759.0|                           P|           54426.0|                          P|           0.0|                      P|       659185.0|                     P|        00000000|               000|   0000000|                N|          43428.0|           130401.0| 9664.0|  000301274|                 0|                         0|                0|           0|             0|           0|                  655436.0|                       0.0|        X|        655436.0|                        0.0|                          0.0|                       0.0|                             0.0|                  0.0|               0.0|                     0.0|                           0.0|          0.0|              655436.0|\n",
            "|         PH|09174000341030|   089|           299|KAZIMIERA ROG    ...|  1243 E WASHINGTON...|DES PLAINES      ...|                  IL|         600167103|           0000001243|                         |       WASHINGTON     |                  ST  |DES PLAINES      ...|                   IL|          600167103|     MAINE          |  22028|       03|              1|           1|                 0|                       0|          R|     00|   2021|    2021|            P|       1|          PD|                01|          114542.0|      47029.0|                           N|               0.0|                          P|           0.0|                      P|        47029.0|                       N|        02092022|               444|                02|            0.0|            0.0|          0.0|                           P|               0.0|                          P|           0.0|                      P|            0.0|                     P|        00000000|               000|   0000000|                N|           9721.0|            11189.0|10237.0|  000309701|                 0|                         0|                0|           1|             0|           0|                  161571.0|                       0.0|        X|        161571.0|                        0.0|                          0.0|                       0.0|                             0.0|              10000.0|            8000.0|                     0.0|                           0.0|          0.0|              114542.0|\n",
            "+-----------+--------------+------+--------------+--------------------+----------------------+--------------------+--------------------+------------------+---------------------+-------------------------+----------------------+----------------------+--------------------+---------------------+-------------------+--------------------+-------+---------+---------------+------------+------------------+------------------------+-----------+-------+-------+--------+-------------+--------+------------+------------------+------------------+-------------+----------------------------+------------------+---------------------------+--------------+-----------------------+---------------+------------------------+----------------+------------------+------------------+---------------+---------------+-------------+----------------------------+------------------+---------------------------+--------------+-----------------------+---------------+----------------------+----------------+------------------+----------+-----------------+-----------------+-------------------+-------+-----------+------------------+--------------------------+-----------------+------------+--------------+------------+--------------------------+--------------------------+---------+----------------+---------------------------+-----------------------------+--------------------------+--------------------------------+---------------------+------------------+------------------------+------------------------------+-------------+----------------------+\n",
            "only showing top 20 rows\n",
            "\n"
          ]
        }
      ]
    },
    {
      "cell_type": "code",
      "source": [
        "data.filter(data.LastPaymentDate2=='00000000').count()"
      ],
      "metadata": {
        "colab": {
          "base_uri": "https://localhost:8080/"
        },
        "id": "OR1sj18Igaxx",
        "outputId": "ea0bd56d-b343-4414-9e6b-4d1f52d9c1ae"
      },
      "execution_count": 22,
      "outputs": [
        {
          "output_type": "execute_result",
          "data": {
            "text/plain": [
              "352328"
            ]
          },
          "metadata": {},
          "execution_count": 22
        }
      ]
    },
    {
      "cell_type": "code",
      "source": [
        "temp=data.withColumn(\"LastPaymentDate2\", to_date(col(\"LastPaymentDate2\"), \"MMddyyyy\"))\n",
        "temp.filter(temp.PIN=='08321010301031').show()"
      ],
      "metadata": {
        "colab": {
          "base_uri": "https://localhost:8080/"
        },
        "id": "FGn1dTxfx9jp",
        "outputId": "69c0f7c3-a33e-4bff-9231-95bfa9459569"
      },
      "execution_count": 26,
      "outputs": [
        {
          "output_type": "stream",
          "name": "stdout",
          "text": [
            "+-----------+--------------+------+--------------+--------------------+----------------------+--------------------+--------------------+------------------+---------------------+-------------------------+----------------------+----------------------+--------------------+---------------------+-------------------+--------------------+-------+---------+---------------+------------+------------------+------------------------+-----------+-------+-------+--------+-------------+--------+------------+------------------+------------------+-------------+----------------------------+------------------+---------------------------+--------------+-----------------------+---------------+------------------------+----------------+------------------+------------------+---------------+---------------+-------------+----------------------------+------------------+---------------------------+--------------+-----------------------+---------------+----------------------+----------------+------------------+----------+-----------------+-----------------+-------------------+-------+-----------+------------------+--------------------------+-----------------+------------+--------------+------------+--------------------------+--------------------------+---------+----------------+---------------------------+-----------------------------+--------------------------+--------------------------------+---------------------+------------------+------------------------+------------------------------+-------------+----------------------+\n",
            "|SegmentCode|           PIN|Volume|Classification|        TaxpayerName|TaxpayerMailingAddress| TaxpayerMailingCity|TaxpayerMailingState|TaxpayerMailingZip|TaxpayerPropertyHouse|TaxpayerPropertyDirection|TaxpayerPropertyStreet|TaxpayerPropertySuffix|TaxpayerPropertyCity|TaxpayerPropertyState|TaxpayerPropertyZip|TaxpayerPropertyTown|TaxCode|TaxStatus|HomeownerExempt|SeniorExempt|SeniorFreezeExempt|LongtimeHomeownersExempt|TaxInfoType|TaxType|TaxYear|BillYear|AccountStatus|BillType|SegmentCode2|InstallmentNumber1|AdjustedAmountDue1|TaxAmountDue1|RefundTaxAmountDueIndicator1|InterestAmountDue1|RefundInterestDueIndicator1|CostAmountDue1|RefundCostDueIndicator1|TotalAmountDue1|RefundTotalDueIndicator1|LastPaymentDate1|LastPaymentSource1|InstallmentNumber2|OriginalTaxDue2|AdjustedTaxDue2|TaxAmountDue2|RefundTaxAmountDueIndicator2|InterestAmountDue2|RefundInterestDueIndicator2|CostAmountDue2|RefundCostDueIndicator2|TotalAmountDue2|RefundTaxDueIndicator2|LastPaymentDate2|LastPaymentSource2|CofENumber|PastTaxSaleStatus|AssessedValuation|EqualizedEvaluation|TaxRate|RecordCount|CondemnationStatus|MunicipalAcquisitionStatus|AcquisitionStatus|ExemptStatus|BankruptStatus|RefundStatus|LastPaymentReceivedAmount1|LastPaymentReceivedAmount2|EndMarker|TaxDueEstimated1|ReturningVetExemptionAmount|DisabledPersonExemptionAmount|DisabledVetExemptionAmount|DisabledPersonVetExemptionAmount|HomeownerExemptAmount|SeniorExemptAmount|SeniorFreezeExemptAmount|LongtimeHomeownersExemptAmount|VeteranExempt|AdjustedAmountDue1_Org|\n",
            "+-----------+--------------+------+--------------+--------------------+----------------------+--------------------+--------------------+------------------+---------------------+-------------------------+----------------------+----------------------+--------------------+---------------------+-------------------+--------------------+-------+---------+---------------+------------+------------------+------------------------+-----------+-------+-------+--------+-------------+--------+------------+------------------+------------------+-------------+----------------------------+------------------+---------------------------+--------------+-----------------------+---------------+------------------------+----------------+------------------+------------------+---------------+---------------+-------------+----------------------------+------------------+---------------------------+--------------+-----------------------+---------------+----------------------+----------------+------------------+----------+-----------------+-----------------+-------------------+-------+-----------+------------------+--------------------------+-----------------+------------+--------------+------------+--------------------------+--------------------------+---------+----------------+---------------------------+-----------------------------+--------------------------+--------------------------------+---------------------+------------------+------------------------+------------------------------+-------------+----------------------+\n",
            "|         PH|08321010301031|   050|           299|JOHN BERTUCCI    ...|  520 BIESTERFIELD ...|ELK GROV VLG     ...|                  IL|         600073373|           0000000520|                         |       BIESTERFIELD   |                  RD  |ELK GROVE VILLAGE...|                   IL|          600077327|     ELK GROVE      |  16035|       00|              1|           0|                 0|                       0|          R|     00|   2021|    2021|            O|       1|          PD|                01|          151617.0|          0.0|                           P|               0.0|                          P|           0.0|                      P|            0.0|                       P|        06062022|               700|                02|       128220.0|       128220.0|     128220.0|                           P|           11538.0|                          P|           0.0|                      P|       139758.0|                     P|            null|               000|   0000000|                N|          13411.0|            30269.0| 9245.0|  000284246|                 0|                         0|                0|           0|             0|           0|                  151617.0|                       0.0|        X|        151617.0|                        0.0|                          0.0|                       0.0|                             0.0|              10000.0|               0.0|                     0.0|                           0.0|          0.0|              151617.0|\n",
            "|         PH|08321010301031|   050|           299|JOHN BERTUCCI    ...|  520 BIESTERFIELD ...|ELK GROV VLG     ...|                  IL|         600073373|           0000000520|                         |       BIESTERFIELD   |                  RD  |ELK GROVE VILLAGE...|                   IL|          600077327|     ELK GROVE      |  16035|       00|              1|           0|                 0|                       0|          R|     00|   2020|    2020|            O|       1|          PD|                01|          155079.0|          0.0|                           P|               0.0|                          P|           0.0|                      P|            0.0|                       P|        04112021|               750|                02|       120589.0|       120589.0|       1809.0|                           P|             486.0|                          P|           0.0|                      P|         2295.0|                     P|      2021-12-31|               444|   0000000|                N|          13411.0|            33229.0| 8296.0|  000284083|                 0|                         0|                0|           0|             0|           0|                  155079.0|                  118780.0|        X|        155079.0|                        0.0|                          0.0|                       0.0|                             0.0|              10000.0|               0.0|                     0.0|                           0.0|          0.0|              155079.0|\n",
            "|         PH|08321010301031|   050|           299|JOHN BERTUCCI    ...|  520 BIESTERFIELD ...|ELK GROV VLG     ...|                  IL|         600073373|           0000000520|                         |       BIESTERFIELD   |                  RD  |ELK GROVE VILLAGE...|                   IL|          600077327|     ELK GROVE      |  16035|       00|              1|           0|                 0|                       0|          R|     00|   2019|    2019|            P|       1|          PD|                01|           71767.0|          0.0|                           P|               0.0|                          P|           0.0|                      P|            0.0|                       P|        09232020|               444|                02|       210195.0|       210195.0|          0.0|                           P|               0.0|                          P|           0.0|                      P|            0.0|                     P|      2020-09-23|               444|   0000000|                N|          15011.0|            33772.0| 8349.0|  000284256|                 0|                         0|                0|           0|             0|           0|                   71767.0|                  210195.0|        X|         71767.0|                        0.0|                          0.0|                       0.0|                             0.0|              10000.0|               0.0|                     0.0|                           0.0|          0.0|               71767.0|\n",
            "|         PH|08321010301031|   050|           299|JOHN BERTUCCI    ...|  520 BIESTERFIELD ...|ELK GROV VLG     ...|                  IL|         600073373|           0000000520|                         |       BIESTERFIELD   |                  RD  |ELK GROVE VILLAGE...|                   IL|          600077327|     ELK GROVE      |  16035|       00|              1|           0|                 0|                       0|          R|     00|   2018|    2018|            P|       1|          PD|                01|           72151.0|          0.0|                           P|               0.0|                          P|           0.0|                      P|            0.0|                       P|        10012019|               750|                02|        58334.0|        58334.0|          0.0|                           P|               0.0|                          P|           0.0|                      P|            0.0|                     P|      2019-10-01|               750|   0000000|                N|           8192.0|            13846.0| 9424.0|  000283900|                 0|                         0|                0|           0|             0|           0|                   72151.0|                   58334.0|        X|         72151.0|                        0.0|                          0.0|                       0.0|                             0.0|              10000.0|               0.0|                     0.0|                           0.0|          0.0|               72151.0|\n",
            "|         PH|08321010301031|   050|           299|JOHN BERTUCCI    ...|  520 BIESTERFIELD ...|ELK GROV VLG     ...|                  IL|         600073373|           0000000520|                         |       BIESTERFIELD   |                  RD  |ELK GROVE VILLAGE...|                   IL|          600077327|     ELK GROVE      |  16035|       00|              1|           0|                 0|                       0|          R|     00|   2017|    2017|            P|       1|          PD|                01|           79689.0|          0.0|                           P|               0.0|                          P|           0.0|                      P|            0.0|                       P|        04182018|               444|                02|        51495.0|        51495.0|          0.0|                           P|               0.0|                          P|           0.0|                      P|            0.0|                     P|      2018-09-18|               444|   0000000|                N|           8192.0|            14270.0| 9193.0|  000285598|                 0|                         0|                0|           0|             0|           0|                   79689.0|                   51495.0|        X|         79689.0|                        0.0|                          0.0|                       0.0|                             0.0|              10000.0|               0.0|                     0.0|                           0.0|          0.0|               79689.0|\n",
            "+-----------+--------------+------+--------------+--------------------+----------------------+--------------------+--------------------+------------------+---------------------+-------------------------+----------------------+----------------------+--------------------+---------------------+-------------------+--------------------+-------+---------+---------------+------------+------------------+------------------------+-----------+-------+-------+--------+-------------+--------+------------+------------------+------------------+-------------+----------------------------+------------------+---------------------------+--------------+-----------------------+---------------+------------------------+----------------+------------------+------------------+---------------+---------------+-------------+----------------------------+------------------+---------------------------+--------------+-----------------------+---------------+----------------------+----------------+------------------+----------+-----------------+-----------------+-------------------+-------+-----------+------------------+--------------------------+-----------------+------------+--------------+------------+--------------------------+--------------------------+---------+----------------+---------------------------+-----------------------------+--------------------------+--------------------------------+---------------------+------------------+------------------------+------------------------------+-------------+----------------------+\n",
            "\n"
          ]
        }
      ]
    },
    {
      "cell_type": "code",
      "source": [
        "data.filter((col('AdjustedTaxDue2') == 0)).count()"
      ],
      "metadata": {
        "colab": {
          "base_uri": "https://localhost:8080/"
        },
        "id": "Di4cRPqn8Nfs",
        "outputId": "e07cd758-1798-4649-dfc8-5aa40f48d76d"
      },
      "execution_count": 31,
      "outputs": [
        {
          "output_type": "execute_result",
          "data": {
            "text/plain": [
              "4773"
            ]
          },
          "metadata": {},
          "execution_count": 31
        }
      ]
    },
    {
      "cell_type": "code",
      "source": [
        "data = data.join(instDates, data.TaxYear==instDates.Year, \"left\")\n",
        "data = data.withColumn(\"LastPaymentDate1\", to_date(col(\"LastPaymentDate1\"), \"MMddyyyy\"))\n",
        "data = data.withColumn(\"LastPaymentDate2\", to_date(col(\"LastPaymentDate2\"), \"MMddyyyy\"))\n",
        "data = data.withColumn(\"PmtDue1\", to_date(col(\"PmtDue1\"), \"yyyy-MM-dd\"))\n",
        "data = data.withColumn(\"PmtDue2\", to_date(col(\"PmtDue2\"), \"yyyy-MM-dd\"))\n",
        "data = data.withColumn(\"LatePmt1\", when(col(\"LastPaymentDate1\")>col(\"PmtDue1\"), 1).otherwise(0))\n",
        "data = data.withColumn(\"LatePmt2\", when(col(\"LastPaymentDate2\")>col(\"PmtDue2\"), 1).otherwise(0))\n"
      ],
      "metadata": {
        "id": "cPU8y9a8Z0ZP"
      },
      "execution_count": 22,
      "outputs": []
    },
    {
      "cell_type": "code",
      "source": [
        "data.show(5)"
      ],
      "metadata": {
        "colab": {
          "base_uri": "https://localhost:8080/"
        },
        "id": "g4rIKbx3vEHq",
        "outputId": "314ccc7d-6a62-4cf6-ecfa-c8909e957963"
      },
      "execution_count": 31,
      "outputs": [
        {
          "output_type": "stream",
          "name": "stdout",
          "text": [
            "+-----------+--------------+------+--------------+--------------------+----------------------+--------------------+--------------------+------------------+---------------------+-------------------------+----------------------+----------------------+--------------------+---------------------+-------------------+--------------------+-------+---------+---------------+------------+------------------+------------------------+-----------+-------+-------+--------+-------------+--------+------------+------------------+------------------+-------------+----------------------------+------------------+---------------------------+--------------+-----------------------+---------------+------------------------+----------------+------------------+------------------+---------------+---------------+-------------+----------------------------+------------------+---------------------------+--------------+-----------------------+---------------+----------------------+----------------+------------------+----------+-----------------+-----------------+-------------------+-------+-----------+------------------+--------------------------+-----------------+------------+--------------+------------+--------------------------+--------------------------+---------+----------------+---------------------------+-----------------------------+--------------------------+--------------------------------+---------------------+------------------+------------------------+------------------------------+-------------+----------------------+----+----------+----------+--------+--------+\n",
            "|SegmentCode|           PIN|Volume|Classification|        TaxpayerName|TaxpayerMailingAddress| TaxpayerMailingCity|TaxpayerMailingState|TaxpayerMailingZip|TaxpayerPropertyHouse|TaxpayerPropertyDirection|TaxpayerPropertyStreet|TaxpayerPropertySuffix|TaxpayerPropertyCity|TaxpayerPropertyState|TaxpayerPropertyZip|TaxpayerPropertyTown|TaxCode|TaxStatus|HomeownerExempt|SeniorExempt|SeniorFreezeExempt|LongtimeHomeownersExempt|TaxInfoType|TaxType|TaxYear|BillYear|AccountStatus|BillType|SegmentCode2|InstallmentNumber1|AdjustedAmountDue1|TaxAmountDue1|RefundTaxAmountDueIndicator1|InterestAmountDue1|RefundInterestDueIndicator1|CostAmountDue1|RefundCostDueIndicator1|TotalAmountDue1|RefundTotalDueIndicator1|LastPaymentDate1|LastPaymentSource1|InstallmentNumber2|OriginalTaxDue2|AdjustedTaxDue2|TaxAmountDue2|RefundTaxAmountDueIndicator2|InterestAmountDue2|RefundInterestDueIndicator2|CostAmountDue2|RefundCostDueIndicator2|TotalAmountDue2|RefundTaxDueIndicator2|LastPaymentDate2|LastPaymentSource2|CofENumber|PastTaxSaleStatus|AssessedValuation|EqualizedEvaluation|TaxRate|RecordCount|CondemnationStatus|MunicipalAcquisitionStatus|AcquisitionStatus|ExemptStatus|BankruptStatus|RefundStatus|LastPaymentReceivedAmount1|LastPaymentReceivedAmount2|EndMarker|TaxDueEstimated1|ReturningVetExemptionAmount|DisabledPersonExemptionAmount|DisabledVetExemptionAmount|DisabledPersonVetExemptionAmount|HomeownerExemptAmount|SeniorExemptAmount|SeniorFreezeExemptAmount|LongtimeHomeownersExemptAmount|VeteranExempt|AdjustedAmountDue1_Org|Year|   PmtDue1|   PmtDue2|LatePmt1|LatePmt2|\n",
            "+-----------+--------------+------+--------------+--------------------+----------------------+--------------------+--------------------+------------------+---------------------+-------------------------+----------------------+----------------------+--------------------+---------------------+-------------------+--------------------+-------+---------+---------------+------------+------------------+------------------------+-----------+-------+-------+--------+-------------+--------+------------+------------------+------------------+-------------+----------------------------+------------------+---------------------------+--------------+-----------------------+---------------+------------------------+----------------+------------------+------------------+---------------+---------------+-------------+----------------------------+------------------+---------------------------+--------------+-----------------------+---------------+----------------------+----------------+------------------+----------+-----------------+-----------------+-------------------+-------+-----------+------------------+--------------------------+-----------------+------------+--------------+------------+--------------------------+--------------------------+---------+----------------+---------------------------+-----------------------------+--------------------------+--------------------------------+---------------------+------------------+------------------------+------------------------------+-------------+----------------------+----+----------+----------+--------+--------+\n",
            "|         PH|07151000371056|   187|           299|YU NING LIU      ...|  304 GRISSOM CRT  ...|HOFFMAN EST      ...|                  IL|         601691669|           0000000304|                         |       GRISSOM        |                  CT  |HOFFMAN ESTATES  ...|                   IL|          601691669|     SCHAUMBURG     |  35013|       00|              1|           0|                 0|                       0|          R|     00|   2021|    2021|            P|       1|          PD|                01|          227431.0|          0.0|                           P|               0.0|                          P|           0.0|                      P|            0.0|                       P|      2022-02-16|               444|                02|       188338.0|       188338.0|          0.0|                           P|               0.0|                          P|           0.0|                      P|            0.0|                     P|      2022-12-21|               444|   0000000|                N|          15740.0|            37262.0|11158.0|  000218132|                 0|                         0|                0|           0|             0|           0|                  227431.0|                  188338.0|        X|        227431.0|                        0.0|                          0.0|                       0.0|                             0.0|              10000.0|               0.0|                     0.0|                           0.0|          0.0|              227431.0|2021|2022-03-01|2023-01-03|       0|       0|\n",
            "|         PH|07151000371059|   187|           299|NAYEED RABBANI   ...|  352 GRISSOM CT   ...|HOFFMAN ESTS     ...|                  IL|         601691600|           0000000352|                         |       GRISSOM        |                  CT  |HOFFMAN ESTATES  ...|                   IL|          601691600|     SCHAUMBURG     |  35013|       03|              1|           1|                 0|                       0|          R|     00|   2021|    2021|            P|       1|          PD|                01|          206037.0|          0.0|                           P|               0.0|                          P|           0.0|                      P|            0.0|                       P|      2022-03-01|               431|                02|       163795.0|       163795.0|          0.0|                           P|               0.0|                          P|           0.0|                      P|            0.0|                     P|      2022-12-07|               436|   0000000|                N|          17033.0|            33145.0|11158.0|  000218135|                 0|                         0|                0|           1|             0|           0|                  206037.0|                  163795.0|        X|        206037.0|                        0.0|                          0.0|                       0.0|                             0.0|              10000.0|            8000.0|                     0.0|                           0.0|          0.0|              206037.0|2021|2022-03-01|2023-01-03|       0|       0|\n",
            "|         PH|07151000371060|   187|           299|LEONORA M WURTZIN...|  348 GRISSOM CT   ...|HOFFMAN ESTS     ...|                  IL|         601691600|           0000000348|                         |       GRISSOM        |                  CT  |HOFFMAN ESTATES  ...|                   IL|          601691600|     SCHAUMBURG     |  35013|       03|              1|           1|                 0|                       0|          R|     00|   2021|    2021|            P|       1|          PD|                01|          186401.0|          0.0|                           P|               0.0|                          P|           0.0|                      P|            0.0|                       P|      2022-02-26|               444|                02|       146877.0|       146877.0|          0.0|                           P|               0.0|                          P|           0.0|                      P|            0.0|                     P|      2022-12-21|               700|   0000000|                N|          15942.0|            29869.0|11158.0|  000218136|                 0|                         0|                0|           1|             0|           0|                  186401.0|                  146877.0|        X|        186401.0|                        0.0|                          0.0|                       0.0|                             0.0|              10000.0|            8000.0|                     0.0|                           0.0|          0.0|              186401.0|2021|2022-03-01|2023-01-03|       0|       0|\n",
            "|         PH|07151000371062|   187|           299|VASILE LUP JENO R...|  340 GRISSOM CT   ...|HOFFMAN ESTS     ...|                  IL|         601691600|           0000000340|                         |       GRISSOM        |                  CT  |HOFFMAN ESTATES  ...|                   IL|          601691600|     SCHAUMBURG     |  35013|       00|              1|           0|                 0|                       0|          R|     00|   2021|    2021|            P|       1|          PD|                01|          250702.0|          0.0|                           P|               0.0|                          P|           0.0|                      P|            0.0|                       P|      2022-02-28|               700|                02|       208394.0|       208394.0|          0.0|                           P|               0.0|                          P|           0.0|                      P|            0.0|                     P|      2022-12-26|               700|   0000000|                N|          17033.0|            41145.0|11158.0|  000218138|                 0|                         0|                0|           0|             0|           0|                  250702.0|                  208394.0|        X|        250702.0|                        0.0|                          0.0|                       0.0|                             0.0|              10000.0|               0.0|                     0.0|                           0.0|          0.0|              250702.0|2021|2022-03-01|2023-01-03|       0|       0|\n",
            "|         PH|07151000371063|   187|           299|NANDITA S SINGH  ...|  7511 BALDWIN XING...|SUGAR LAND       ...|                  TX|         774795690|           0000000332|                         |       GRISSOM        |                  CT  |HOFFMAN ESTATES  ...|                   IL|          601691600|     SCHAUMBURG     |  35013|       00|              0|           0|                 0|                       0|          R|     00|   2021|    2021|            P|       1|          PD|                01|          150860.0|          0.0|                           P|               0.0|                          P|           0.0|                      P|            0.0|                       P|      2022-02-20|               700|                02|       233935.0|       233935.0|          0.0|                           P|               0.0|                          P|           0.0|                      P|            0.0|                     P|      2022-12-25|               700|   0000000|                N|          11485.0|            34486.0|11158.0|  000218139|                 0|                         0|                0|           0|             0|           0|                  150860.0|                  233935.0|        X|        150860.0|                        0.0|                          0.0|                       0.0|                             0.0|                  0.0|               0.0|                     0.0|                           0.0|          0.0|              150860.0|2021|2022-03-01|2023-01-03|       0|       0|\n",
            "+-----------+--------------+------+--------------+--------------------+----------------------+--------------------+--------------------+------------------+---------------------+-------------------------+----------------------+----------------------+--------------------+---------------------+-------------------+--------------------+-------+---------+---------------+------------+------------------+------------------------+-----------+-------+-------+--------+-------------+--------+------------+------------------+------------------+-------------+----------------------------+------------------+---------------------------+--------------+-----------------------+---------------+------------------------+----------------+------------------+------------------+---------------+---------------+-------------+----------------------------+------------------+---------------------------+--------------+-----------------------+---------------+----------------------+----------------+------------------+----------+-----------------+-----------------+-------------------+-------+-----------+------------------+--------------------------+-----------------+------------+--------------+------------+--------------------------+--------------------------+---------+----------------+---------------------------+-----------------------------+--------------------------+--------------------------------+---------------------+------------------+------------------------+------------------------------+-------------+----------------------+----+----------+----------+--------+--------+\n",
            "only showing top 5 rows\n",
            "\n"
          ]
        }
      ]
    },
    {
      "cell_type": "code",
      "source": [
        "data.filter(data.LastPaymentDate2.isNull()).count() # count is still same for 00000000\n"
      ],
      "metadata": {
        "colab": {
          "base_uri": "https://localhost:8080/"
        },
        "id": "VNn_RRDWuW1A",
        "outputId": "15e93b44-be51-48db-e1d7-3b82d6266ed7"
      },
      "execution_count": 30,
      "outputs": [
        {
          "output_type": "execute_result",
          "data": {
            "text/plain": [
              "352328"
            ]
          },
          "metadata": {},
          "execution_count": 30
        }
      ]
    },
    {
      "cell_type": "code",
      "source": [
        "# replace null values with current date since no payments used to calculate diffpmt\n",
        "data = data.withColumn('LastPaymentDate2', when(col('LastPaymentDate2').isNull(), current_date()).otherwise(col('LastPaymentDate2')))\n",
        "data = data.withColumn('LastPaymentDate1', when(col('LastPaymentDate1').isNull(), current_date()).otherwise(col('LastPaymentDate1')))"
      ],
      "metadata": {
        "id": "Cvz8q_5JwSC1"
      },
      "execution_count": 23,
      "outputs": []
    },
    {
      "cell_type": "code",
      "source": [
        "data.filter(data.PIN=='08321010301031').show() #check known pin where paymentdate2 was initially 0 to make sure date format is correct"
      ],
      "metadata": {
        "colab": {
          "base_uri": "https://localhost:8080/"
        },
        "id": "3vR6md7L2x9O",
        "outputId": "d1d45dc5-afa6-4d7d-86b1-b032e747d9ae"
      },
      "execution_count": 33,
      "outputs": [
        {
          "output_type": "stream",
          "name": "stdout",
          "text": [
            "+-----------+--------------+------+--------------+--------------------+----------------------+--------------------+--------------------+------------------+---------------------+-------------------------+----------------------+----------------------+--------------------+---------------------+-------------------+--------------------+-------+---------+---------------+------------+------------------+------------------------+-----------+-------+-------+--------+-------------+--------+------------+------------------+------------------+-------------+----------------------------+------------------+---------------------------+--------------+-----------------------+---------------+------------------------+----------------+------------------+------------------+---------------+---------------+-------------+----------------------------+------------------+---------------------------+--------------+-----------------------+---------------+----------------------+----------------+------------------+----------+-----------------+-----------------+-------------------+-------+-----------+------------------+--------------------------+-----------------+------------+--------------+------------+--------------------------+--------------------------+---------+----------------+---------------------------+-----------------------------+--------------------------+--------------------------------+---------------------+------------------+------------------------+------------------------------+-------------+----------------------+----+----------+----------+--------+--------+\n",
            "|SegmentCode|           PIN|Volume|Classification|        TaxpayerName|TaxpayerMailingAddress| TaxpayerMailingCity|TaxpayerMailingState|TaxpayerMailingZip|TaxpayerPropertyHouse|TaxpayerPropertyDirection|TaxpayerPropertyStreet|TaxpayerPropertySuffix|TaxpayerPropertyCity|TaxpayerPropertyState|TaxpayerPropertyZip|TaxpayerPropertyTown|TaxCode|TaxStatus|HomeownerExempt|SeniorExempt|SeniorFreezeExempt|LongtimeHomeownersExempt|TaxInfoType|TaxType|TaxYear|BillYear|AccountStatus|BillType|SegmentCode2|InstallmentNumber1|AdjustedAmountDue1|TaxAmountDue1|RefundTaxAmountDueIndicator1|InterestAmountDue1|RefundInterestDueIndicator1|CostAmountDue1|RefundCostDueIndicator1|TotalAmountDue1|RefundTotalDueIndicator1|LastPaymentDate1|LastPaymentSource1|InstallmentNumber2|OriginalTaxDue2|AdjustedTaxDue2|TaxAmountDue2|RefundTaxAmountDueIndicator2|InterestAmountDue2|RefundInterestDueIndicator2|CostAmountDue2|RefundCostDueIndicator2|TotalAmountDue2|RefundTaxDueIndicator2|LastPaymentDate2|LastPaymentSource2|CofENumber|PastTaxSaleStatus|AssessedValuation|EqualizedEvaluation|TaxRate|RecordCount|CondemnationStatus|MunicipalAcquisitionStatus|AcquisitionStatus|ExemptStatus|BankruptStatus|RefundStatus|LastPaymentReceivedAmount1|LastPaymentReceivedAmount2|EndMarker|TaxDueEstimated1|ReturningVetExemptionAmount|DisabledPersonExemptionAmount|DisabledVetExemptionAmount|DisabledPersonVetExemptionAmount|HomeownerExemptAmount|SeniorExemptAmount|SeniorFreezeExemptAmount|LongtimeHomeownersExemptAmount|VeteranExempt|AdjustedAmountDue1_Org|Year|   PmtDue1|   PmtDue2|LatePmt1|LatePmt2|\n",
            "+-----------+--------------+------+--------------+--------------------+----------------------+--------------------+--------------------+------------------+---------------------+-------------------------+----------------------+----------------------+--------------------+---------------------+-------------------+--------------------+-------+---------+---------------+------------+------------------+------------------------+-----------+-------+-------+--------+-------------+--------+------------+------------------+------------------+-------------+----------------------------+------------------+---------------------------+--------------+-----------------------+---------------+------------------------+----------------+------------------+------------------+---------------+---------------+-------------+----------------------------+------------------+---------------------------+--------------+-----------------------+---------------+----------------------+----------------+------------------+----------+-----------------+-----------------+-------------------+-------+-----------+------------------+--------------------------+-----------------+------------+--------------+------------+--------------------------+--------------------------+---------+----------------+---------------------------+-----------------------------+--------------------------+--------------------------------+---------------------+------------------+------------------------+------------------------------+-------------+----------------------+----+----------+----------+--------+--------+\n",
            "|         PH|08321010301031|   050|           299|JOHN BERTUCCI    ...|  520 BIESTERFIELD ...|ELK GROV VLG     ...|                  IL|         600073373|           0000000520|                         |       BIESTERFIELD   |                  RD  |ELK GROVE VILLAGE...|                   IL|          600077327|     ELK GROVE      |  16035|       00|              1|           0|                 0|                       0|          R|     00|   2021|    2021|            O|       1|          PD|                01|          151617.0|          0.0|                           P|               0.0|                          P|           0.0|                      P|            0.0|                       P|      2022-06-06|               700|                02|       128220.0|       128220.0|     128220.0|                           P|           11538.0|                          P|           0.0|                      P|       139758.0|                     P|      2023-07-25|               000|   0000000|                N|          13411.0|            30269.0| 9245.0|  000284246|                 0|                         0|                0|           0|             0|           0|                  151617.0|                       0.0|        X|        151617.0|                        0.0|                          0.0|                       0.0|                             0.0|              10000.0|               0.0|                     0.0|                           0.0|          0.0|              151617.0|2021|2022-03-01|2023-01-03|       1|       0|\n",
            "|         PH|08321010301031|   050|           299|JOHN BERTUCCI    ...|  520 BIESTERFIELD ...|ELK GROV VLG     ...|                  IL|         600073373|           0000000520|                         |       BIESTERFIELD   |                  RD  |ELK GROVE VILLAGE...|                   IL|          600077327|     ELK GROVE      |  16035|       00|              1|           0|                 0|                       0|          R|     00|   2020|    2020|            O|       1|          PD|                01|          155079.0|          0.0|                           P|               0.0|                          P|           0.0|                      P|            0.0|                       P|      2021-04-11|               750|                02|       120589.0|       120589.0|       1809.0|                           P|             486.0|                          P|           0.0|                      P|         2295.0|                     P|      2021-12-31|               444|   0000000|                N|          13411.0|            33229.0| 8296.0|  000284083|                 0|                         0|                0|           0|             0|           0|                  155079.0|                  118780.0|        X|        155079.0|                        0.0|                          0.0|                       0.0|                             0.0|              10000.0|               0.0|                     0.0|                           0.0|          0.0|              155079.0|2020|2021-03-02|2021-10-01|       1|       1|\n",
            "|         PH|08321010301031|   050|           299|JOHN BERTUCCI    ...|  520 BIESTERFIELD ...|ELK GROV VLG     ...|                  IL|         600073373|           0000000520|                         |       BIESTERFIELD   |                  RD  |ELK GROVE VILLAGE...|                   IL|          600077327|     ELK GROVE      |  16035|       00|              1|           0|                 0|                       0|          R|     00|   2019|    2019|            P|       1|          PD|                01|           71767.0|          0.0|                           P|               0.0|                          P|           0.0|                      P|            0.0|                       P|      2020-09-23|               444|                02|       210195.0|       210195.0|          0.0|                           P|               0.0|                          P|           0.0|                      P|            0.0|                     P|      2020-09-23|               444|   0000000|                N|          15011.0|            33772.0| 8349.0|  000284256|                 0|                         0|                0|           0|             0|           0|                   71767.0|                  210195.0|        X|         71767.0|                        0.0|                          0.0|                       0.0|                             0.0|              10000.0|               0.0|                     0.0|                           0.0|          0.0|               71767.0|2019|2020-03-03|2020-08-03|       1|       1|\n",
            "|         PH|08321010301031|   050|           299|JOHN BERTUCCI    ...|  520 BIESTERFIELD ...|ELK GROV VLG     ...|                  IL|         600073373|           0000000520|                         |       BIESTERFIELD   |                  RD  |ELK GROVE VILLAGE...|                   IL|          600077327|     ELK GROVE      |  16035|       00|              1|           0|                 0|                       0|          R|     00|   2018|    2018|            P|       1|          PD|                01|           72151.0|          0.0|                           P|               0.0|                          P|           0.0|                      P|            0.0|                       P|      2019-10-01|               750|                02|        58334.0|        58334.0|          0.0|                           P|               0.0|                          P|           0.0|                      P|            0.0|                     P|      2019-10-01|               750|   0000000|                N|           8192.0|            13846.0| 9424.0|  000283900|                 0|                         0|                0|           0|             0|           0|                   72151.0|                   58334.0|        X|         72151.0|                        0.0|                          0.0|                       0.0|                             0.0|              10000.0|               0.0|                     0.0|                           0.0|          0.0|               72151.0|2018|2019-03-01|2019-08-01|       1|       1|\n",
            "|         PH|08321010301031|   050|           299|JOHN BERTUCCI    ...|  520 BIESTERFIELD ...|ELK GROV VLG     ...|                  IL|         600073373|           0000000520|                         |       BIESTERFIELD   |                  RD  |ELK GROVE VILLAGE...|                   IL|          600077327|     ELK GROVE      |  16035|       00|              1|           0|                 0|                       0|          R|     00|   2017|    2017|            P|       1|          PD|                01|           79689.0|          0.0|                           P|               0.0|                          P|           0.0|                      P|            0.0|                       P|      2018-04-18|               444|                02|        51495.0|        51495.0|          0.0|                           P|               0.0|                          P|           0.0|                      P|            0.0|                     P|      2018-09-18|               444|   0000000|                N|           8192.0|            14270.0| 9193.0|  000285598|                 0|                         0|                0|           0|             0|           0|                   79689.0|                   51495.0|        X|         79689.0|                        0.0|                          0.0|                       0.0|                             0.0|              10000.0|               0.0|                     0.0|                           0.0|          0.0|               79689.0|2017|2018-03-01|2018-08-01|       1|       1|\n",
            "+-----------+--------------+------+--------------+--------------------+----------------------+--------------------+--------------------+------------------+---------------------+-------------------------+----------------------+----------------------+--------------------+---------------------+-------------------+--------------------+-------+---------+---------------+------------+------------------+------------------------+-----------+-------+-------+--------+-------------+--------+------------+------------------+------------------+-------------+----------------------------+------------------+---------------------------+--------------+-----------------------+---------------+------------------------+----------------+------------------+------------------+---------------+---------------+-------------+----------------------------+------------------+---------------------------+--------------+-----------------------+---------------+----------------------+----------------+------------------+----------+-----------------+-----------------+-------------------+-------+-----------+------------------+--------------------------+-----------------+------------+--------------+------------+--------------------------+--------------------------+---------+----------------+---------------------------+-----------------------------+--------------------------+--------------------------------+---------------------+------------------+------------------------+------------------------------+-------------+----------------------+----+----------+----------+--------+--------+\n",
            "\n"
          ]
        }
      ]
    },
    {
      "cell_type": "code",
      "source": [
        "# Persist data in disk/memory\n",
        "# Until this point Spark does not actually execute any of the above statements (Lazy loading). It only creates a plan\n",
        "# Persist does not get executed until an 'action' command is called on the dataframe\n",
        "#data1 = data.persist()"
      ],
      "metadata": {
        "id": "GZpf0TBf95Kc"
      },
      "execution_count": null,
      "outputs": []
    },
    {
      "cell_type": "code",
      "source": [
        "# The below action with persist called above will ensure that all the steps until data.persist() is run and stored in memory/disk\n",
        "# Only the first run takes approx 10 mins. If you run it again, it will only take 3 secs as the data is now stored in memory/disk\n",
        "# It helps in using the modified dataframe directly\n",
        "# If you do not persist, Spark is going to run all the steps right from read_csv whenever you call an action\n",
        "#print([data1.count(), len(data1.columns)])"
      ],
      "metadata": {
        "id": "88QBnsW84a7y"
      },
      "execution_count": 33,
      "outputs": []
    },
    {
      "cell_type": "code",
      "source": [
        "data1 = data.persist()"
      ],
      "metadata": {
        "id": "IAPqTq0lcJe8"
      },
      "execution_count": 24,
      "outputs": []
    },
    {
      "cell_type": "code",
      "source": [
        "data1.show(10)"
      ],
      "metadata": {
        "colab": {
          "base_uri": "https://localhost:8080/"
        },
        "id": "lh9UKpzrAImA",
        "outputId": "d1d3005c-5522-4609-d688-803131255bfe"
      },
      "execution_count": 25,
      "outputs": [
        {
          "output_type": "stream",
          "name": "stdout",
          "text": [
            "+-----------+--------------+------+--------------+--------------------+----------------------+--------------------+--------------------+------------------+---------------------+-------------------------+----------------------+----------------------+--------------------+---------------------+-------------------+--------------------+-------+---------+---------------+------------+------------------+------------------------+-----------+-------+-------+--------+-------------+--------+------------+------------------+------------------+-------------+----------------------------+------------------+---------------------------+--------------+-----------------------+---------------+------------------------+----------------+------------------+------------------+---------------+---------------+-------------+----------------------------+------------------+---------------------------+--------------+-----------------------+---------------+----------------------+----------------+------------------+----------+-----------------+-----------------+-------------------+-------+-----------+------------------+--------------------------+-----------------+------------+--------------+------------+--------------------------+--------------------------+---------+----------------+---------------------------+-----------------------------+--------------------------+--------------------------------+---------------------+------------------+------------------------+------------------------------+-------------+----------------------+----+----------+----------+--------+--------+\n",
            "|SegmentCode|           PIN|Volume|Classification|        TaxpayerName|TaxpayerMailingAddress| TaxpayerMailingCity|TaxpayerMailingState|TaxpayerMailingZip|TaxpayerPropertyHouse|TaxpayerPropertyDirection|TaxpayerPropertyStreet|TaxpayerPropertySuffix|TaxpayerPropertyCity|TaxpayerPropertyState|TaxpayerPropertyZip|TaxpayerPropertyTown|TaxCode|TaxStatus|HomeownerExempt|SeniorExempt|SeniorFreezeExempt|LongtimeHomeownersExempt|TaxInfoType|TaxType|TaxYear|BillYear|AccountStatus|BillType|SegmentCode2|InstallmentNumber1|AdjustedAmountDue1|TaxAmountDue1|RefundTaxAmountDueIndicator1|InterestAmountDue1|RefundInterestDueIndicator1|CostAmountDue1|RefundCostDueIndicator1|TotalAmountDue1|RefundTotalDueIndicator1|LastPaymentDate1|LastPaymentSource1|InstallmentNumber2|OriginalTaxDue2|AdjustedTaxDue2|TaxAmountDue2|RefundTaxAmountDueIndicator2|InterestAmountDue2|RefundInterestDueIndicator2|CostAmountDue2|RefundCostDueIndicator2|TotalAmountDue2|RefundTaxDueIndicator2|LastPaymentDate2|LastPaymentSource2|CofENumber|PastTaxSaleStatus|AssessedValuation|EqualizedEvaluation|TaxRate|RecordCount|CondemnationStatus|MunicipalAcquisitionStatus|AcquisitionStatus|ExemptStatus|BankruptStatus|RefundStatus|LastPaymentReceivedAmount1|LastPaymentReceivedAmount2|EndMarker|TaxDueEstimated1|ReturningVetExemptionAmount|DisabledPersonExemptionAmount|DisabledVetExemptionAmount|DisabledPersonVetExemptionAmount|HomeownerExemptAmount|SeniorExemptAmount|SeniorFreezeExemptAmount|LongtimeHomeownersExemptAmount|VeteranExempt|AdjustedAmountDue1_Org|Year|   PmtDue1|   PmtDue2|LatePmt1|LatePmt2|\n",
            "+-----------+--------------+------+--------------+--------------------+----------------------+--------------------+--------------------+------------------+---------------------+-------------------------+----------------------+----------------------+--------------------+---------------------+-------------------+--------------------+-------+---------+---------------+------------+------------------+------------------------+-----------+-------+-------+--------+-------------+--------+------------+------------------+------------------+-------------+----------------------------+------------------+---------------------------+--------------+-----------------------+---------------+------------------------+----------------+------------------+------------------+---------------+---------------+-------------+----------------------------+------------------+---------------------------+--------------+-----------------------+---------------+----------------------+----------------+------------------+----------+-----------------+-----------------+-------------------+-------+-----------+------------------+--------------------------+-----------------+------------+--------------+------------+--------------------------+--------------------------+---------+----------------+---------------------------+-----------------------------+--------------------------+--------------------------------+---------------------+------------------+------------------------+------------------------------+-------------+----------------------+----+----------+----------+--------+--------+\n",
            "|         PH|07151000371056|   187|           299|YU NING LIU      ...|  304 GRISSOM CRT  ...|HOFFMAN EST      ...|                  IL|         601691669|           0000000304|                         |       GRISSOM        |                  CT  |HOFFMAN ESTATES  ...|                   IL|          601691669|     SCHAUMBURG     |  35013|       00|              1|           0|                 0|                       0|          R|     00|   2021|    2021|            P|       1|          PD|                01|          227431.0|          0.0|                           P|               0.0|                          P|           0.0|                      P|            0.0|                       P|      2022-02-16|               444|                02|       188338.0|       188338.0|          0.0|                           P|               0.0|                          P|           0.0|                      P|            0.0|                     P|      2022-12-21|               444|   0000000|                N|          15740.0|            37262.0|11158.0|  000218132|                 0|                         0|                0|           0|             0|           0|                  227431.0|                  188338.0|        X|        227431.0|                        0.0|                          0.0|                       0.0|                             0.0|              10000.0|               0.0|                     0.0|                           0.0|          0.0|              227431.0|2021|2022-03-01|2023-01-03|       0|       0|\n",
            "|         PH|07151000371059|   187|           299|NAYEED RABBANI   ...|  352 GRISSOM CT   ...|HOFFMAN ESTS     ...|                  IL|         601691600|           0000000352|                         |       GRISSOM        |                  CT  |HOFFMAN ESTATES  ...|                   IL|          601691600|     SCHAUMBURG     |  35013|       03|              1|           1|                 0|                       0|          R|     00|   2021|    2021|            P|       1|          PD|                01|          206037.0|          0.0|                           P|               0.0|                          P|           0.0|                      P|            0.0|                       P|      2022-03-01|               431|                02|       163795.0|       163795.0|          0.0|                           P|               0.0|                          P|           0.0|                      P|            0.0|                     P|      2022-12-07|               436|   0000000|                N|          17033.0|            33145.0|11158.0|  000218135|                 0|                         0|                0|           1|             0|           0|                  206037.0|                  163795.0|        X|        206037.0|                        0.0|                          0.0|                       0.0|                             0.0|              10000.0|            8000.0|                     0.0|                           0.0|          0.0|              206037.0|2021|2022-03-01|2023-01-03|       0|       0|\n",
            "|         PH|07151000371060|   187|           299|LEONORA M WURTZIN...|  348 GRISSOM CT   ...|HOFFMAN ESTS     ...|                  IL|         601691600|           0000000348|                         |       GRISSOM        |                  CT  |HOFFMAN ESTATES  ...|                   IL|          601691600|     SCHAUMBURG     |  35013|       03|              1|           1|                 0|                       0|          R|     00|   2021|    2021|            P|       1|          PD|                01|          186401.0|          0.0|                           P|               0.0|                          P|           0.0|                      P|            0.0|                       P|      2022-02-26|               444|                02|       146877.0|       146877.0|          0.0|                           P|               0.0|                          P|           0.0|                      P|            0.0|                     P|      2022-12-21|               700|   0000000|                N|          15942.0|            29869.0|11158.0|  000218136|                 0|                         0|                0|           1|             0|           0|                  186401.0|                  146877.0|        X|        186401.0|                        0.0|                          0.0|                       0.0|                             0.0|              10000.0|            8000.0|                     0.0|                           0.0|          0.0|              186401.0|2021|2022-03-01|2023-01-03|       0|       0|\n",
            "|         PH|07151000371062|   187|           299|VASILE LUP JENO R...|  340 GRISSOM CT   ...|HOFFMAN ESTS     ...|                  IL|         601691600|           0000000340|                         |       GRISSOM        |                  CT  |HOFFMAN ESTATES  ...|                   IL|          601691600|     SCHAUMBURG     |  35013|       00|              1|           0|                 0|                       0|          R|     00|   2021|    2021|            P|       1|          PD|                01|          250702.0|          0.0|                           P|               0.0|                          P|           0.0|                      P|            0.0|                       P|      2022-02-28|               700|                02|       208394.0|       208394.0|          0.0|                           P|               0.0|                          P|           0.0|                      P|            0.0|                     P|      2022-12-26|               700|   0000000|                N|          17033.0|            41145.0|11158.0|  000218138|                 0|                         0|                0|           0|             0|           0|                  250702.0|                  208394.0|        X|        250702.0|                        0.0|                          0.0|                       0.0|                             0.0|              10000.0|               0.0|                     0.0|                           0.0|          0.0|              250702.0|2021|2022-03-01|2023-01-03|       0|       0|\n",
            "|         PH|07151000371063|   187|           299|NANDITA S SINGH  ...|  7511 BALDWIN XING...|SUGAR LAND       ...|                  TX|         774795690|           0000000332|                         |       GRISSOM        |                  CT  |HOFFMAN ESTATES  ...|                   IL|          601691600|     SCHAUMBURG     |  35013|       00|              0|           0|                 0|                       0|          R|     00|   2021|    2021|            P|       1|          PD|                01|          150860.0|          0.0|                           P|               0.0|                          P|           0.0|                      P|            0.0|                       P|      2022-02-20|               700|                02|       233935.0|       233935.0|          0.0|                           P|               0.0|                          P|           0.0|                      P|            0.0|                     P|      2022-12-25|               700|   0000000|                N|          11485.0|            34486.0|11158.0|  000218139|                 0|                         0|                0|           0|             0|           0|                  150860.0|                  233935.0|        X|        150860.0|                        0.0|                          0.0|                       0.0|                             0.0|                  0.0|               0.0|                     0.0|                           0.0|          0.0|              150860.0|2021|2022-03-01|2023-01-03|       0|       0|\n",
            "|         PH|07151000371066|   187|           299|RYOICHI YAMAJI   ...|  5714 MONTERREY SP...|HOUSTON          ...|                  TX|         770415751|           0000000388|                         |       GRISSOM        |                  CT  |HOFFMAN ESTATES  ...|                   IL|          601691600|     SCHAUMBURG     |  35013|       00|              0|           0|                 0|                       0|          R|     00|   2021|    2021|            P|       1|          PD|                01|          283262.0|          0.0|                           P|               0.0|                          P|           0.0|                      P|            0.0|                       P|      2022-02-16|               700|                02|       244087.0|       244087.0|          0.0|                           P|               0.0|                          P|           0.0|                      P|            0.0|                     P|      2022-12-14|               436|   0000000|                N|          15740.0|            47262.0|11158.0|  000218142|                 0|                         0|                0|           0|             0|           0|                  283262.0|                  244087.0|        X|        283262.0|                        0.0|                          0.0|                       0.0|                             0.0|                  0.0|               0.0|                     0.0|                           0.0|          0.0|              283262.0|2021|2022-03-01|2023-01-03|       0|       0|\n",
            "|         PH|07151000371067|   187|           299|JONG HEE SEO     ...|  272 DORAL CT     ...|ELK GROVE VL     ...|                  IL|         600072793|           0000000384|                         |       GRISSOM        |                  CT  |HOFFMAN ESTATES  ...|                   IL|          601691600|     SCHAUMBURG     |  35013|       00|              0|           0|                 0|                       0|          R|     00|   2021|    2021|            P|       1|          PD|                01|          250702.0|          0.0|                           P|               0.0|                          P|           0.0|                      P|            0.0|                       P|      2022-02-25|               700|                02|       319974.0|       319974.0|          0.0|                           P|               0.0|                          P|           0.0|                      P|            0.0|                     P|      2022-12-22|               700|   0000000|                N|          17033.0|            51145.0|11158.0|  000218143|                 0|                         0|                0|           0|             0|           0|                  250702.0|                  319974.0|        X|        250702.0|                        0.0|                          0.0|                       0.0|                             0.0|                  0.0|               0.0|                     0.0|                           0.0|          0.0|              250702.0|2021|2022-03-01|2023-01-03|       0|       0|\n",
            "|         PH|07151000371068|   187|           299|YURIY KUCHERYAVYY...|  380 GRISSOM CT   ...|HOFFMAN ESTS     ...|                  IL|         601691600|           0000000380|                         |       GRISSOM        |                  CT  |HOFFMAN ESTATES  ...|                   IL|          601691600|     SCHAUMBURG     |  35013|       00|              1|           0|                 0|                       0|          R|     00|   2021|    2021|            P|       1|          PD|                01|          231065.0|          0.0|                           P|               0.0|                          P|           0.0|                      P|            0.0|                       P|      2022-02-11|               700|                02|       191477.0|       191477.0|          0.0|                           P|               0.0|                          P|           0.0|                      P|            0.0|                     P|      2022-12-10|               700|   0000000|                N|          15942.0|            37869.0|11158.0|  000218144|                 0|                         0|                0|           0|             0|           0|                  231065.0|                  191477.0|        X|        231065.0|                        0.0|                          0.0|                       0.0|                             0.0|              10000.0|               0.0|                     0.0|                           0.0|          0.0|              231065.0|2021|2022-03-01|2023-01-03|       0|       0|\n",
            "|         PH|08321010301029|   050|           299|ROBERT JOYCE     ...|  356 TIOSA TRAIL  ...|WOODDALE         ...|                  IL|         601912434|           0000000520|                         |       BIESTERFIELD   |                  RD  |ELK GROVE VILLAGE...|                   IL|          600077327|     ELK GROVE      |  16035|       00|              0|           0|                 0|                       0|          R|     00|   2021|    2021|            P|       1|          PD|                01|          197245.0|          0.0|                           P|               0.0|                          P|           0.0|                      P|            0.0|                       P|      2022-02-07|               431|                02|       175042.0|       175042.0|          0.0|                           P|               0.0|                          P|           0.0|                      P|            0.0|                     P|      2022-12-07|               436|   0000000|                N|          13411.0|            40269.0| 9245.0|  000284244|                 0|                         0|                0|           0|             0|           0|                  197245.0|                  175042.0|        X|        197245.0|                        0.0|                          0.0|                       0.0|                             0.0|                  0.0|               0.0|                     0.0|                           0.0|          0.0|              197245.0|2021|2022-03-01|2023-01-03|       0|       0|\n",
            "|         PH|08321010301030|   050|           299|MARGRET C LOWRY  ...|  197 SMETHWICK LN ...|ELK GROVE VL     ...|                  IL|         600073521|           0000000520|                         |       BIESTERFIELD   |                  RD  |ELK GROVE VILLAGE...|                   IL|          600077327|     ELK GROVE      |  16035|       00|              0|           0|                 0|                       0|          R|     00|   2021|    2021|            P|       1|          PD|                01|          197245.0|          0.0|                           P|               0.0|                          P|           0.0|                      P|            0.0|                       P|      2022-02-06|               431|                02|       175042.0|       175042.0|          0.0|                           P|               0.0|                          P|           0.0|                      P|            0.0|                     P|      2022-12-08|               436|   0000000|                N|          13411.0|            40269.0| 9245.0|  000284245|                 0|                         0|                0|           0|             0|           0|                  197245.0|                  175042.0|        X|        197245.0|                        0.0|                          0.0|                       0.0|                             0.0|                  0.0|               0.0|                     0.0|                           0.0|          0.0|              197245.0|2021|2022-03-01|2023-01-03|       0|       0|\n",
            "+-----------+--------------+------+--------------+--------------------+----------------------+--------------------+--------------------+------------------+---------------------+-------------------------+----------------------+----------------------+--------------------+---------------------+-------------------+--------------------+-------+---------+---------------+------------+------------------+------------------------+-----------+-------+-------+--------+-------------+--------+------------+------------------+------------------+-------------+----------------------------+------------------+---------------------------+--------------+-----------------------+---------------+------------------------+----------------+------------------+------------------+---------------+---------------+-------------+----------------------------+------------------+---------------------------+--------------+-----------------------+---------------+----------------------+----------------+------------------+----------+-----------------+-----------------+-------------------+-------+-----------+------------------+--------------------------+-----------------+------------+--------------+------------+--------------------------+--------------------------+---------+----------------+---------------------------+-----------------------------+--------------------------+--------------------------------+---------------------+------------------+------------------------+------------------------------+-------------+----------------------+----+----------+----------+--------+--------+\n",
            "only showing top 10 rows\n",
            "\n"
          ]
        }
      ]
    },
    {
      "cell_type": "code",
      "source": [
        "data1.count()"
      ],
      "metadata": {
        "colab": {
          "base_uri": "https://localhost:8080/"
        },
        "id": "3-9ZzMTVA3CV",
        "outputId": "251bee55-3e16-4814-9d44-5cc2b6aff7ec"
      },
      "execution_count": 27,
      "outputs": [
        {
          "output_type": "execute_result",
          "data": {
            "text/plain": [
              "4597700"
            ]
          },
          "metadata": {},
          "execution_count": 27
        }
      ]
    },
    {
      "cell_type": "markdown",
      "source": [
        "## Data Cleaning and Transformation"
      ],
      "metadata": {
        "id": "owdXDjckXTXo"
      }
    },
    {
      "cell_type": "code",
      "source": [
        "data1 = data1.withColumn(\"AdjustedAmountDue1\", when(col(\"AdjustedAmountDue1\")>3186751,3186751).otherwise(col(\"AdjustedAmountDue1\")))"
      ],
      "metadata": {
        "id": "fQZVsI05YQB4"
      },
      "execution_count": 28,
      "outputs": []
    },
    {
      "cell_type": "markdown",
      "source": [
        "### Drop columns\n",
        "\n",
        "- drop_cols_inst2 - Drop metrics related to installment2. This is needed for model 1 where we predict Late Payment for 2nd installment at Feb/Mar where we dont have this information yet\n",
        "- drop_cols_univariate (Univariate analysis) - Group by categorical variables and get the count & %count of each category. If one of the categories in the feature is >95%, then remove this feature as it will not be very useful in the model. Some exceptions are present where the feature makes good business sense to be included\n",
        "- drop_cols_numric_corr - Drop numerical columns that are correlated with Pearsons correlation >0.5\n"
      ],
      "metadata": {
        "id": "w_FSVDuRtPHb"
      }
    },
    {
      "cell_type": "code",
      "source": [
        "data1.columns"
      ],
      "metadata": {
        "colab": {
          "base_uri": "https://localhost:8080/"
        },
        "id": "HHrcd3CKZ4y3",
        "outputId": "cf43b5f7-0321-441c-d82b-b0b52d45ab2e"
      },
      "execution_count": 32,
      "outputs": [
        {
          "output_type": "execute_result",
          "data": {
            "text/plain": [
              "['SegmentCode',\n",
              " 'PIN',\n",
              " 'Volume',\n",
              " 'Classification',\n",
              " 'TaxpayerName',\n",
              " 'TaxpayerMailingAddress',\n",
              " 'TaxpayerMailingCity',\n",
              " 'TaxpayerMailingState',\n",
              " 'TaxpayerMailingZip',\n",
              " 'TaxpayerPropertyHouse',\n",
              " 'TaxpayerPropertyDirection',\n",
              " 'TaxpayerPropertyStreet',\n",
              " 'TaxpayerPropertySuffix',\n",
              " 'TaxpayerPropertyCity',\n",
              " 'TaxpayerPropertyState',\n",
              " 'TaxpayerPropertyZip',\n",
              " 'TaxpayerPropertyTown',\n",
              " 'TaxCode',\n",
              " 'TaxStatus',\n",
              " 'HomeownerExempt',\n",
              " 'SeniorExempt',\n",
              " 'SeniorFreezeExempt',\n",
              " 'LongtimeHomeownersExempt',\n",
              " 'TaxInfoType',\n",
              " 'TaxType',\n",
              " 'TaxYear',\n",
              " 'BillYear',\n",
              " 'AccountStatus',\n",
              " 'BillType',\n",
              " 'SegmentCode2',\n",
              " 'InstallmentNumber1',\n",
              " 'AdjustedAmountDue1',\n",
              " 'TaxAmountDue1',\n",
              " 'RefundTaxAmountDueIndicator1',\n",
              " 'InterestAmountDue1',\n",
              " 'RefundInterestDueIndicator1',\n",
              " 'CostAmountDue1',\n",
              " 'RefundCostDueIndicator1',\n",
              " 'TotalAmountDue1',\n",
              " 'RefundTotalDueIndicator1',\n",
              " 'LastPaymentDate1',\n",
              " 'LastPaymentSource1',\n",
              " 'InstallmentNumber2',\n",
              " 'OriginalTaxDue2',\n",
              " 'AdjustedTaxDue2',\n",
              " 'TaxAmountDue2',\n",
              " 'RefundTaxAmountDueIndicator2',\n",
              " 'InterestAmountDue2',\n",
              " 'RefundInterestDueIndicator2',\n",
              " 'CostAmountDue2',\n",
              " 'RefundCostDueIndicator2',\n",
              " 'TotalAmountDue2',\n",
              " 'RefundTaxDueIndicator2',\n",
              " 'LastPaymentDate2',\n",
              " 'LastPaymentSource2',\n",
              " 'CofENumber',\n",
              " 'PastTaxSaleStatus',\n",
              " 'AssessedValuation',\n",
              " 'EqualizedEvaluation',\n",
              " 'TaxRate',\n",
              " 'RecordCount',\n",
              " 'CondemnationStatus',\n",
              " 'MunicipalAcquisitionStatus',\n",
              " 'AcquisitionStatus',\n",
              " 'ExemptStatus',\n",
              " 'BankruptStatus',\n",
              " 'RefundStatus',\n",
              " 'LastPaymentReceivedAmount1',\n",
              " 'LastPaymentReceivedAmount2',\n",
              " 'EndMarker',\n",
              " 'TaxDueEstimated1',\n",
              " 'ReturningVetExemptionAmount',\n",
              " 'DisabledPersonExemptionAmount',\n",
              " 'DisabledVetExemptionAmount',\n",
              " 'DisabledPersonVetExemptionAmount',\n",
              " 'HomeownerExemptAmount',\n",
              " 'SeniorExemptAmount',\n",
              " 'SeniorFreezeExemptAmount',\n",
              " 'LongtimeHomeownersExemptAmount',\n",
              " 'VeteranExempt',\n",
              " 'AdjustedAmountDue1_Org',\n",
              " 'Year',\n",
              " 'PmtDue1',\n",
              " 'PmtDue2',\n",
              " 'LatePmt1',\n",
              " 'LatePmt2']"
            ]
          },
          "metadata": {},
          "execution_count": 32
        }
      ]
    },
    {
      "cell_type": "code",
      "source": [
        "drop_cols_inst2 = data1.columns[42:53] + [\"LastPaymentSource2\"]\n",
        "drop_cols_unrelated = [\"SegmentCode\", \"TaxpayerName\", \"TaxpayerMailingAddress\", \"TaxpayerMailingZip\",\n",
        "                       \"TaxpayerPropertyHouse\",\"TaxpayerPropertyDirection\", \"TaxpayerPropertyStreet\",\n",
        "                       \"TaxpayerPropertyZip\", \"RecordCount\"\n",
        "                       ]\n",
        "drop_cols_univariate = [\"LongtimeHomeownersExempt\", \"TaxInfoType\", \"TaxType\", \"TaxpayerPropertyState\", \"BillYear\", \"SegmentCode2\",\n",
        "                        \"InstallmentNumber1\", \"RefundTaxAmountDueIndicator1\", \"RefundInterestDueIndicator1\",\n",
        "                        \"RefundTotalDueIndicator1\", \"RefundCostDueIndicator1\", \"EndMarker\", \"TaxpayerMailingCity\"\n",
        "                        ]\n",
        "drop_cols_numeric_corr = [\"OriginalTaxDue2\", \"AdjustedTaxDue2\", \"AssessedValuation\", \"EqualizedEvaluation\",\n",
        "                          \"LastPaymentReceivedAmount2\", \"TaxDueEstimated1\", \"LastPaymentReceivedAmount1\",\n",
        "                          \"AdjustedAmountDue1_Org\", \"InterestAmountDue1\", \"TotalAmountDue1\", \"InterestAmountDue2\",\n",
        "                          \"TotalAmountDue2\", \"SeniorExemptAmount\", \"VeteranExempt\"]\n",
        "drop_cols_unverfied = [\"Volume\", \"Classification\"] # dropped due to high cardinality but not verified by other reasons"
      ],
      "metadata": {
        "id": "8ToTkGb3Xcgt"
      },
      "execution_count": 29,
      "outputs": []
    },
    {
      "cell_type": "code",
      "source": [
        "data1 = data1.drop(*drop_cols_inst2)\n",
        "data1 = data1.drop(*drop_cols_unrelated)\n",
        "data1 = data1.drop(*drop_cols_univariate)\n",
        "data1 = data1.drop(*drop_cols_numeric_corr)\n",
        "data1 = data1.drop(*drop_cols_unverfied)"
      ],
      "metadata": {
        "id": "QREyti09j7mt"
      },
      "execution_count": 30,
      "outputs": []
    },
    {
      "cell_type": "markdown",
      "source": [
        "### Data Transformation"
      ],
      "metadata": {
        "id": "nTBJi-x-u5eZ"
      }
    },
    {
      "cell_type": "code",
      "source": [
        "data1=data1.withColumn('TaxpayerMailingState', F.upper(F.col('TaxpayerMailingState')))"
      ],
      "metadata": {
        "id": "a0UdQXcU9DWn"
      },
      "execution_count": 31,
      "outputs": []
    },
    {
      "cell_type": "code",
      "source": [
        "data2=data1.persist()"
      ],
      "metadata": {
        "id": "vCjph_SzTb_U"
      },
      "execution_count": 32,
      "outputs": []
    },
    {
      "cell_type": "code",
      "source": [
        "# Persist data in disk/memory\n",
        "# Until this point Spark does not actually execute any of the above statements (Lazy loading). It only creates a plan\n",
        "# Persist does not get executed until an 'action' command is called on the dataframe (action is count() here)\n",
        "\n",
        "print([data2.count(), len(data2.columns)])"
      ],
      "metadata": {
        "colab": {
          "base_uri": "https://localhost:8080/"
        },
        "id": "wF4j3sMlKQoU",
        "outputId": "932a802c-734d-4f9a-d883-12c0718c9b8f"
      },
      "execution_count": 33,
      "outputs": [
        {
          "output_type": "stream",
          "name": "stdout",
          "text": [
            "[4597700, 40]\n"
          ]
        }
      ]
    },
    {
      "cell_type": "code",
      "source": [
        "data2.columns"
      ],
      "metadata": {
        "colab": {
          "base_uri": "https://localhost:8080/"
        },
        "id": "96yV2-nPaIUh",
        "outputId": "04b5715b-fedb-47ea-9718-5dad6a310962"
      },
      "execution_count": 38,
      "outputs": [
        {
          "output_type": "execute_result",
          "data": {
            "text/plain": [
              "['PIN',\n",
              " 'TaxpayerMailingState',\n",
              " 'TaxpayerPropertySuffix',\n",
              " 'TaxpayerPropertyCity',\n",
              " 'TaxpayerPropertyTown',\n",
              " 'TaxCode',\n",
              " 'TaxStatus',\n",
              " 'HomeownerExempt',\n",
              " 'SeniorExempt',\n",
              " 'SeniorFreezeExempt',\n",
              " 'TaxYear',\n",
              " 'AccountStatus',\n",
              " 'BillType',\n",
              " 'AdjustedAmountDue1',\n",
              " 'TaxAmountDue1',\n",
              " 'CostAmountDue1',\n",
              " 'LastPaymentDate1',\n",
              " 'LastPaymentSource1',\n",
              " 'LastPaymentDate2',\n",
              " 'CofENumber',\n",
              " 'PastTaxSaleStatus',\n",
              " 'TaxRate',\n",
              " 'CondemnationStatus',\n",
              " 'MunicipalAcquisitionStatus',\n",
              " 'AcquisitionStatus',\n",
              " 'ExemptStatus',\n",
              " 'BankruptStatus',\n",
              " 'RefundStatus',\n",
              " 'ReturningVetExemptionAmount',\n",
              " 'DisabledPersonExemptionAmount',\n",
              " 'DisabledVetExemptionAmount',\n",
              " 'DisabledPersonVetExemptionAmount',\n",
              " 'HomeownerExemptAmount',\n",
              " 'SeniorFreezeExemptAmount',\n",
              " 'LongtimeHomeownersExemptAmount',\n",
              " 'Year',\n",
              " 'PmtDue1',\n",
              " 'PmtDue2',\n",
              " 'LatePmt1',\n",
              " 'LatePmt2']"
            ]
          },
          "metadata": {},
          "execution_count": 38
        }
      ]
    },
    {
      "cell_type": "code",
      "source": [
        "data2.select(count_distinct('TaxCode')).show()"
      ],
      "metadata": {
        "colab": {
          "base_uri": "https://localhost:8080/"
        },
        "id": "XN2C5dnnrwex",
        "outputId": "99e80765-5d4d-4693-e948-d81c70bd4f1f"
      },
      "execution_count": 60,
      "outputs": [
        {
          "output_type": "stream",
          "name": "stdout",
          "text": [
            "+-----------------------+\n",
            "|count(DISTINCT TaxCode)|\n",
            "+-----------------------+\n",
            "|                   3143|\n",
            "+-----------------------+\n",
            "\n"
          ]
        }
      ]
    },
    {
      "cell_type": "code",
      "source": [
        "data2=data2.withColumn(\"AreaFromPin\", substring(col(\"PIN\"), 1, 2))"
      ],
      "metadata": {
        "id": "W9ckmFjCtQ9E"
      },
      "execution_count": 34,
      "outputs": []
    },
    {
      "cell_type": "code",
      "source": [
        "data2.select(count_distinct('AreaFromPin')).show()"
      ],
      "metadata": {
        "colab": {
          "base_uri": "https://localhost:8080/"
        },
        "id": "R8NE-JFMzNNB",
        "outputId": "e7b4cc5f-a14c-4b75-a539-609e6bd7b0b4"
      },
      "execution_count": 62,
      "outputs": [
        {
          "output_type": "stream",
          "name": "stdout",
          "text": [
            "+---------------------------+\n",
            "|count(DISTINCT AreaFromPin)|\n",
            "+---------------------------+\n",
            "|                         33|\n",
            "+---------------------------+\n",
            "\n"
          ]
        }
      ]
    },
    {
      "cell_type": "code",
      "source": [
        "data2.select('AreaFromPin').distinct().collect()"
      ],
      "metadata": {
        "colab": {
          "base_uri": "https://localhost:8080/"
        },
        "id": "xyQxRHk3zT5q",
        "outputId": "4373d2db-00f5-4277-ebc3-de6aa313d69e"
      },
      "execution_count": 40,
      "outputs": [
        {
          "output_type": "execute_result",
          "data": {
            "text/plain": [
              "[Row(AreaFromPin='07'),\n",
              " Row(AreaFromPin='11'),\n",
              " Row(AreaFromPin='01'),\n",
              " Row(AreaFromPin='09'),\n",
              " Row(AreaFromPin='08'),\n",
              " Row(AreaFromPin='03'),\n",
              " Row(AreaFromPin='02'),\n",
              " Row(AreaFromPin='10'),\n",
              " Row(AreaFromPin='12'),\n",
              " Row(AreaFromPin='13'),\n",
              " Row(AreaFromPin='05'),\n",
              " Row(AreaFromPin='06'),\n",
              " Row(AreaFromPin='04'),\n",
              " Row(AreaFromPin='14'),\n",
              " Row(AreaFromPin='15'),\n",
              " Row(AreaFromPin='22'),\n",
              " Row(AreaFromPin='16'),\n",
              " Row(AreaFromPin='18'),\n",
              " Row(AreaFromPin='17'),\n",
              " Row(AreaFromPin='19'),\n",
              " Row(AreaFromPin='23'),\n",
              " Row(AreaFromPin='24'),\n",
              " Row(AreaFromPin='20'),\n",
              " Row(AreaFromPin='21'),\n",
              " Row(AreaFromPin='29'),\n",
              " Row(AreaFromPin='28'),\n",
              " Row(AreaFromPin='27'),\n",
              " Row(AreaFromPin='26'),\n",
              " Row(AreaFromPin='25'),\n",
              " Row(AreaFromPin='30'),\n",
              " Row(AreaFromPin='31'),\n",
              " Row(AreaFromPin='33'),\n",
              " Row(AreaFromPin='32')]"
            ]
          },
          "metadata": {},
          "execution_count": 40
        }
      ]
    },
    {
      "cell_type": "code",
      "source": [
        "data2.select('BillType').distinct().collect()"
      ],
      "metadata": {
        "colab": {
          "base_uri": "https://localhost:8080/"
        },
        "id": "Hh9OINxuEzII",
        "outputId": "937bdc99-5fd4-4009-c72b-4e1f81cbdac1"
      },
      "execution_count": 41,
      "outputs": [
        {
          "output_type": "execute_result",
          "data": {
            "text/plain": [
              "[Row(BillType='3'), Row(BillType='1'), Row(BillType='4')]"
            ]
          },
          "metadata": {},
          "execution_count": 41
        }
      ]
    },
    {
      "cell_type": "code",
      "source": [
        "#data2 = data2.withColumn(\"TaxpayerPropertyCity\", when(data2.TaxpayerPropertyCity=='CHICAGO               ', 1).otherwise(0))\n",
        "data2 = data2.withColumn(\"TaxpayerMailingState\", when(data2.TaxpayerMailingState==\"IL\", 1).otherwise(0))\n",
        "#data2 = data2.withColumn(\"BillType\", when(data2.BillType==\"1\", 1).otherwise(0))\n",
        "#data2 = data2.withColumn(\"TaxSale\", when(data2.LastPaymentDate2==\"00000000\", 1).otherwise(0))\n",
        "data2 = data2.withColumn(\"CofENumber\", when(data2.CofENumber==\"0000000\", 0).otherwise(1))\n",
        "data2 = data2.withColumn(\"DiffPmt1\", f.datediff(col(\"LastPaymentDate1\"), col(\"PmtDue1\")))\n",
        "data2 = data2.withColumn(\"DiffPmt1\", when(col(\"DiffPmt1\")<0,0).otherwise(col(\"DiffPmt1\")))\n",
        "data2 = data2.withColumn(\"DiffPmt2\", f.datediff(col(\"LastPaymentDate2\"), col(\"PmtDue2\")))\n",
        "data2 = data2.withColumn(\"DiffPmt2\", when(col(\"DiffPmt2\")<0,0).otherwise(col(\"DiffPmt2\")))\n",
        "#data2 = data2.withColumn(\"Volume\", col(\"Volume\").cast(\"int\"))\n",
        "#data2 = data2.withColumn(\"TaxStatus\", col(\"TaxStatus\").cast(\"int\"))\n",
        "data2 = data2.withColumn(\"PastTaxSaleStatus\", when(col(\"PastTaxSaleStatus\")==\"Y\", 1).otherwise(0))"
      ],
      "metadata": {
        "id": "kidacUDxjpVZ"
      },
      "execution_count": 35,
      "outputs": []
    },
    {
      "cell_type": "code",
      "source": [
        "data2.dtypes"
      ],
      "metadata": {
        "colab": {
          "base_uri": "https://localhost:8080/"
        },
        "id": "jMnQGEFvdzbL",
        "outputId": "8c2cf417-5d86-4be1-a722-b34ad504815c"
      },
      "execution_count": 43,
      "outputs": [
        {
          "output_type": "execute_result",
          "data": {
            "text/plain": [
              "[('PIN', 'string'),\n",
              " ('TaxpayerMailingState', 'int'),\n",
              " ('TaxpayerPropertySuffix', 'string'),\n",
              " ('TaxpayerPropertyCity', 'string'),\n",
              " ('TaxpayerPropertyTown', 'string'),\n",
              " ('TaxCode', 'string'),\n",
              " ('TaxStatus', 'string'),\n",
              " ('HomeownerExempt', 'string'),\n",
              " ('SeniorExempt', 'string'),\n",
              " ('SeniorFreezeExempt', 'string'),\n",
              " ('TaxYear', 'string'),\n",
              " ('AccountStatus', 'string'),\n",
              " ('BillType', 'string'),\n",
              " ('AdjustedAmountDue1', 'float'),\n",
              " ('TaxAmountDue1', 'float'),\n",
              " ('CostAmountDue1', 'float'),\n",
              " ('LastPaymentDate1', 'date'),\n",
              " ('LastPaymentSource1', 'string'),\n",
              " ('LastPaymentDate2', 'date'),\n",
              " ('CofENumber', 'int'),\n",
              " ('PastTaxSaleStatus', 'int'),\n",
              " ('TaxRate', 'float'),\n",
              " ('CondemnationStatus', 'string'),\n",
              " ('MunicipalAcquisitionStatus', 'string'),\n",
              " ('AcquisitionStatus', 'string'),\n",
              " ('ExemptStatus', 'string'),\n",
              " ('BankruptStatus', 'string'),\n",
              " ('RefundStatus', 'string'),\n",
              " ('ReturningVetExemptionAmount', 'float'),\n",
              " ('DisabledPersonExemptionAmount', 'float'),\n",
              " ('DisabledVetExemptionAmount', 'float'),\n",
              " ('DisabledPersonVetExemptionAmount', 'float'),\n",
              " ('HomeownerExemptAmount', 'float'),\n",
              " ('SeniorFreezeExemptAmount', 'float'),\n",
              " ('LongtimeHomeownersExemptAmount', 'float'),\n",
              " ('Year', 'int'),\n",
              " ('PmtDue1', 'date'),\n",
              " ('PmtDue2', 'date'),\n",
              " ('LatePmt1', 'int'),\n",
              " ('LatePmt2', 'int'),\n",
              " ('AreaFromPin', 'string')]"
            ]
          },
          "metadata": {},
          "execution_count": 43
        }
      ]
    },
    {
      "cell_type": "code",
      "source": [
        "data2.show() # I see PIN=08321010301031 had diffpm2>0 but marked as NOT LATE!!!\n",
        "# I went back to check earlier cells and saw that I forgot to make those labels after fixing null dates but did it first instead and then changed null dates to current date"
      ],
      "metadata": {
        "colab": {
          "base_uri": "https://localhost:8080/"
        },
        "id": "PTHiH3x97OTm",
        "outputId": "6ef310ce-ab2b-4b4c-f4b1-e13ff1b64346"
      },
      "execution_count": 46,
      "outputs": [
        {
          "output_type": "stream",
          "name": "stdout",
          "text": [
            "+--------------+--------------------+----------------------+--------------------+--------------------+-------+---------+---------------+------------+------------------+-------+-------------+--------+------------------+-------------+--------------+----------------+------------------+----------------+----------+-----------------+-------+------------------+--------------------------+-----------------+------------+--------------+------------+---------------------------+-----------------------------+--------------------------+--------------------------------+---------------------+------------------------+------------------------------+----+----------+----------+--------+--------+-----------+--------+--------+\n",
            "|           PIN|TaxpayerMailingState|TaxpayerPropertySuffix|TaxpayerPropertyCity|TaxpayerPropertyTown|TaxCode|TaxStatus|HomeownerExempt|SeniorExempt|SeniorFreezeExempt|TaxYear|AccountStatus|BillType|AdjustedAmountDue1|TaxAmountDue1|CostAmountDue1|LastPaymentDate1|LastPaymentSource1|LastPaymentDate2|CofENumber|PastTaxSaleStatus|TaxRate|CondemnationStatus|MunicipalAcquisitionStatus|AcquisitionStatus|ExemptStatus|BankruptStatus|RefundStatus|ReturningVetExemptionAmount|DisabledPersonExemptionAmount|DisabledVetExemptionAmount|DisabledPersonVetExemptionAmount|HomeownerExemptAmount|SeniorFreezeExemptAmount|LongtimeHomeownersExemptAmount|Year|   PmtDue1|   PmtDue2|LatePmt1|LatePmt2|AreaFromPin|DiffPmt1|DiffPmt2|\n",
            "+--------------+--------------------+----------------------+--------------------+--------------------+-------+---------+---------------+------------+------------------+-------+-------------+--------+------------------+-------------+--------------+----------------+------------------+----------------+----------+-----------------+-------+------------------+--------------------------+-----------------+------------+--------------+------------+---------------------------+-----------------------------+--------------------------+--------------------------------+---------------------+------------------------+------------------------------+----+----------+----------+--------+--------+-----------+--------+--------+\n",
            "|07151000371056|                   1|                  CT  |HOFFMAN ESTATES  ...|     SCHAUMBURG     |  35013|       00|              1|           0|                 0|   2021|            P|       1|          227431.0|          0.0|           0.0|      2022-02-16|               444|      2022-12-21|         0|                0|11158.0|                 0|                         0|                0|           0|             0|           0|                        0.0|                          0.0|                       0.0|                             0.0|              10000.0|                     0.0|                           0.0|2021|2022-03-01|2023-01-03|       0|       0|         07|       0|       0|\n",
            "|07151000371059|                   1|                  CT  |HOFFMAN ESTATES  ...|     SCHAUMBURG     |  35013|       03|              1|           1|                 0|   2021|            P|       1|          206037.0|          0.0|           0.0|      2022-03-01|               431|      2022-12-07|         0|                0|11158.0|                 0|                         0|                0|           1|             0|           0|                        0.0|                          0.0|                       0.0|                             0.0|              10000.0|                     0.0|                           0.0|2021|2022-03-01|2023-01-03|       0|       0|         07|       0|       0|\n",
            "|07151000371060|                   1|                  CT  |HOFFMAN ESTATES  ...|     SCHAUMBURG     |  35013|       03|              1|           1|                 0|   2021|            P|       1|          186401.0|          0.0|           0.0|      2022-02-26|               444|      2022-12-21|         0|                0|11158.0|                 0|                         0|                0|           1|             0|           0|                        0.0|                          0.0|                       0.0|                             0.0|              10000.0|                     0.0|                           0.0|2021|2022-03-01|2023-01-03|       0|       0|         07|       0|       0|\n",
            "|07151000371062|                   1|                  CT  |HOFFMAN ESTATES  ...|     SCHAUMBURG     |  35013|       00|              1|           0|                 0|   2021|            P|       1|          250702.0|          0.0|           0.0|      2022-02-28|               700|      2022-12-26|         0|                0|11158.0|                 0|                         0|                0|           0|             0|           0|                        0.0|                          0.0|                       0.0|                             0.0|              10000.0|                     0.0|                           0.0|2021|2022-03-01|2023-01-03|       0|       0|         07|       0|       0|\n",
            "|07151000371063|                   0|                  CT  |HOFFMAN ESTATES  ...|     SCHAUMBURG     |  35013|       00|              0|           0|                 0|   2021|            P|       1|          150860.0|          0.0|           0.0|      2022-02-20|               700|      2022-12-25|         0|                0|11158.0|                 0|                         0|                0|           0|             0|           0|                        0.0|                          0.0|                       0.0|                             0.0|                  0.0|                     0.0|                           0.0|2021|2022-03-01|2023-01-03|       0|       0|         07|       0|       0|\n",
            "|07151000371066|                   0|                  CT  |HOFFMAN ESTATES  ...|     SCHAUMBURG     |  35013|       00|              0|           0|                 0|   2021|            P|       1|          283262.0|          0.0|           0.0|      2022-02-16|               700|      2022-12-14|         0|                0|11158.0|                 0|                         0|                0|           0|             0|           0|                        0.0|                          0.0|                       0.0|                             0.0|                  0.0|                     0.0|                           0.0|2021|2022-03-01|2023-01-03|       0|       0|         07|       0|       0|\n",
            "|07151000371067|                   1|                  CT  |HOFFMAN ESTATES  ...|     SCHAUMBURG     |  35013|       00|              0|           0|                 0|   2021|            P|       1|          250702.0|          0.0|           0.0|      2022-02-25|               700|      2022-12-22|         0|                0|11158.0|                 0|                         0|                0|           0|             0|           0|                        0.0|                          0.0|                       0.0|                             0.0|                  0.0|                     0.0|                           0.0|2021|2022-03-01|2023-01-03|       0|       0|         07|       0|       0|\n",
            "|07151000371068|                   1|                  CT  |HOFFMAN ESTATES  ...|     SCHAUMBURG     |  35013|       00|              1|           0|                 0|   2021|            P|       1|          231065.0|          0.0|           0.0|      2022-02-11|               700|      2022-12-10|         0|                0|11158.0|                 0|                         0|                0|           0|             0|           0|                        0.0|                          0.0|                       0.0|                             0.0|              10000.0|                     0.0|                           0.0|2021|2022-03-01|2023-01-03|       0|       0|         07|       0|       0|\n",
            "|08321010301029|                   1|                  RD  |ELK GROVE VILLAGE...|     ELK GROVE      |  16035|       00|              0|           0|                 0|   2021|            P|       1|          197245.0|          0.0|           0.0|      2022-02-07|               431|      2022-12-07|         0|                0| 9245.0|                 0|                         0|                0|           0|             0|           0|                        0.0|                          0.0|                       0.0|                             0.0|                  0.0|                     0.0|                           0.0|2021|2022-03-01|2023-01-03|       0|       0|         08|       0|       0|\n",
            "|08321010301030|                   1|                  RD  |ELK GROVE VILLAGE...|     ELK GROVE      |  16035|       00|              0|           0|                 0|   2021|            P|       1|          197245.0|          0.0|           0.0|      2022-02-06|               431|      2022-12-08|         0|                0| 9245.0|                 0|                         0|                0|           0|             0|           0|                        0.0|                          0.0|                       0.0|                             0.0|                  0.0|                     0.0|                           0.0|2021|2022-03-01|2023-01-03|       0|       0|         08|       0|       0|\n",
            "|08321010301031|                   1|                  RD  |ELK GROVE VILLAGE...|     ELK GROVE      |  16035|       00|              1|           0|                 0|   2021|            O|       1|          151617.0|          0.0|           0.0|      2022-06-06|               700|      2023-07-25|         0|                0| 9245.0|                 0|                         0|                0|           0|             0|           0|                        0.0|                          0.0|                       0.0|                             0.0|              10000.0|                     0.0|                           0.0|2021|2022-03-01|2023-01-03|       1|       0|         08|      97|     203|\n",
            "|08321010301032|                   1|                  RD  |ELK GROVE VILLAGE...|     ELK GROVE      |  16035|       00|              0|           0|                 0|   2021|            P|       1|          197245.0|          0.0|           0.0|      2022-02-06|               431|      2022-12-07|         0|                0| 9245.0|                 0|                         0|                0|           0|             0|           0|                        0.0|                          0.0|                       0.0|                             0.0|                  0.0|                     0.0|                           0.0|2021|2022-03-01|2023-01-03|       0|       0|         08|       0|       0|\n",
            "|08321010301034|                   1|                  RD  |ELK GROVE VILLAGE...|     ELK GROVE      |  16035|       00|              1|           0|                 0|   2021|            P|       1|          151617.0|          0.0|           0.0|      2022-02-28|               444|      2022-12-12|         0|                0| 9245.0|                 0|                         0|                0|           0|             0|           0|                        0.0|                          0.0|                       0.0|                             0.0|              10000.0|                     0.0|                           0.0|2021|2022-03-01|2023-01-03|       0|       0|         08|       0|       0|\n",
            "|08321010301035|                   1|                  RD  |ELK GROVE VILLAGE...|     ELK GROVE      |  16035|       00|              1|           0|                 0|   2021|            P|       1|          151617.0|          0.0|           0.0|      2022-02-18|               444|      2022-12-06|         0|                0| 9245.0|                 0|                         0|                0|           0|             0|           0|                        0.0|                          0.0|                       0.0|                             0.0|              10000.0|                     0.0|                           0.0|2021|2022-03-01|2023-01-03|       0|       0|         08|       0|       0|\n",
            "|08321010301037|                   1|                  RD  |ELK GROVE VILLAGE...|     ELK GROVE      |  16035|       00|              0|           0|                 0|   2021|            P|       1|          197245.0|          0.0|           0.0|      2022-09-28|               801|      2023-01-30|         0|                0| 9245.0|                 0|                         0|                0|           0|             0|           0|                        0.0|                          0.0|                       0.0|                             0.0|                  0.0|                     0.0|                           0.0|2021|2022-03-01|2023-01-03|       1|       1|         08|     211|      27|\n",
            "|08321010301041|                   1|                  RD  |ELK GROVE VILLAGE...|     ELK GROVE      |  16035|       00|              1|           0|                 0|   2021|            P|       1|          151617.0|          0.0|           0.0|      2022-03-01|               444|      2022-12-27|         0|                0| 9245.0|                 0|                         0|                0|           0|             0|           0|                        0.0|                          0.0|                       0.0|                             0.0|              10000.0|                     0.0|                           0.0|2021|2022-03-01|2023-01-03|       0|       0|         08|       0|       0|\n",
            "|08321010301016|                   1|                  RD  |ELK GROVE VILLAGE...|     ELK GROVE      |  16035|       03|              1|           1|                 0|   2021|            P|       1|           57195.0|          0.0|           0.0|      2022-02-23|               700|      2022-12-19|         0|                0| 9245.0|                 0|                         0|                0|           1|             0|           0|                        0.0|                          0.0|                       0.0|                             0.0|              10000.0|                     0.0|                           0.0|2021|2022-03-01|2023-01-03|       0|       0|         08|       0|       0|\n",
            "|08321010301017|                   1|                  RD  |ELK GROVE VILLAGE...|     ELK GROVE      |  16035|       00|              0|           0|                 0|   2021|            P|       1|          139325.0|          0.0|           0.0|      2022-02-03|               700|      2022-12-04|         0|                0| 9245.0|                 0|                         0|                0|           0|             0|           0|                        0.0|                          0.0|                       0.0|                             0.0|                  0.0|                     0.0|                           0.0|2021|2022-03-01|2023-01-03|       0|       0|         08|       0|       0|\n",
            "|08321010301020|                   1|                  RD  |ELK GROVE VILLAGE...|     ELK GROVE      |  16035|       00|              1|           0|                 0|   2021|            P|       1|           93697.0|          0.0|           0.0|      2022-02-04|               444|      2022-12-06|         0|                0| 9245.0|                 0|                         0|                0|           0|             0|           0|                        0.0|                          0.0|                       0.0|                             0.0|              10000.0|                     0.0|                           0.0|2021|2022-03-01|2023-01-03|       0|       0|         08|       0|       0|\n",
            "|08321010301021|                   1|                  RD  |ELK GROVE VILLAGE...|     ELK GROVE      |  16035|       00|              0|           0|                 0|   2021|            P|       1|          139325.0|          0.0|           0.0|      2022-02-28|               444|      2022-12-21|         0|                0| 9245.0|                 0|                         0|                0|           0|             0|           0|                        0.0|                          0.0|                       0.0|                             0.0|                  0.0|                     0.0|                           0.0|2021|2022-03-01|2023-01-03|       0|       0|         08|       0|       0|\n",
            "+--------------+--------------------+----------------------+--------------------+--------------------+-------+---------+---------------+------------+------------------+-------+-------------+--------+------------------+-------------+--------------+----------------+------------------+----------------+----------+-----------------+-------+------------------+--------------------------+-----------------+------------+--------------+------------+---------------------------+-----------------------------+--------------------------+--------------------------------+---------------------+------------------------+------------------------------+----+----------+----------+--------+--------+-----------+--------+--------+\n",
            "only showing top 20 rows\n",
            "\n"
          ]
        }
      ]
    },
    {
      "cell_type": "code",
      "source": [
        "# attempt fix to problem described in last cell here\n",
        "data2 = data2.withColumn(\"LatePmt1\", when(col(\"LastPaymentDate1\")>col(\"PmtDue1\"), 1).otherwise(0))\n",
        "data2 = data2.withColumn(\"LatePmt2\", when(col(\"LastPaymentDate2\")>col(\"PmtDue2\"), 1).otherwise(0))"
      ],
      "metadata": {
        "id": "gextBtpH8HlB"
      },
      "execution_count": 36,
      "outputs": []
    },
    {
      "cell_type": "code",
      "source": [
        "# check data again!\n",
        "data2.show()"
      ],
      "metadata": {
        "colab": {
          "base_uri": "https://localhost:8080/"
        },
        "id": "GL2x5QkT8YYo",
        "outputId": "7e25e0ba-235e-4503-f735-6e6a231d8089"
      },
      "execution_count": 37,
      "outputs": [
        {
          "output_type": "stream",
          "name": "stdout",
          "text": [
            "+--------------+--------------------+----------------------+--------------------+--------------------+-------+---------+---------------+------------+------------------+-------+-------------+--------+------------------+-------------+--------------+----------------+------------------+----------------+----------+-----------------+-------+------------------+--------------------------+-----------------+------------+--------------+------------+---------------------------+-----------------------------+--------------------------+--------------------------------+---------------------+------------------------+------------------------------+----+----------+----------+--------+--------+-----------+--------+--------+\n",
            "|           PIN|TaxpayerMailingState|TaxpayerPropertySuffix|TaxpayerPropertyCity|TaxpayerPropertyTown|TaxCode|TaxStatus|HomeownerExempt|SeniorExempt|SeniorFreezeExempt|TaxYear|AccountStatus|BillType|AdjustedAmountDue1|TaxAmountDue1|CostAmountDue1|LastPaymentDate1|LastPaymentSource1|LastPaymentDate2|CofENumber|PastTaxSaleStatus|TaxRate|CondemnationStatus|MunicipalAcquisitionStatus|AcquisitionStatus|ExemptStatus|BankruptStatus|RefundStatus|ReturningVetExemptionAmount|DisabledPersonExemptionAmount|DisabledVetExemptionAmount|DisabledPersonVetExemptionAmount|HomeownerExemptAmount|SeniorFreezeExemptAmount|LongtimeHomeownersExemptAmount|Year|   PmtDue1|   PmtDue2|LatePmt1|LatePmt2|AreaFromPin|DiffPmt1|DiffPmt2|\n",
            "+--------------+--------------------+----------------------+--------------------+--------------------+-------+---------+---------------+------------+------------------+-------+-------------+--------+------------------+-------------+--------------+----------------+------------------+----------------+----------+-----------------+-------+------------------+--------------------------+-----------------+------------+--------------+------------+---------------------------+-----------------------------+--------------------------+--------------------------------+---------------------+------------------------+------------------------------+----+----------+----------+--------+--------+-----------+--------+--------+\n",
            "|07151000371056|                   1|                  CT  |HOFFMAN ESTATES  ...|     SCHAUMBURG     |  35013|       00|              1|           0|                 0|   2021|            P|       1|          227431.0|          0.0|           0.0|      2022-02-16|               444|      2022-12-21|         0|                0|11158.0|                 0|                         0|                0|           0|             0|           0|                        0.0|                          0.0|                       0.0|                             0.0|              10000.0|                     0.0|                           0.0|2021|2022-03-01|2023-01-03|       0|       0|         07|       0|       0|\n",
            "|07151000371059|                   1|                  CT  |HOFFMAN ESTATES  ...|     SCHAUMBURG     |  35013|       03|              1|           1|                 0|   2021|            P|       1|          206037.0|          0.0|           0.0|      2022-03-01|               431|      2022-12-07|         0|                0|11158.0|                 0|                         0|                0|           1|             0|           0|                        0.0|                          0.0|                       0.0|                             0.0|              10000.0|                     0.0|                           0.0|2021|2022-03-01|2023-01-03|       0|       0|         07|       0|       0|\n",
            "|07151000371060|                   1|                  CT  |HOFFMAN ESTATES  ...|     SCHAUMBURG     |  35013|       03|              1|           1|                 0|   2021|            P|       1|          186401.0|          0.0|           0.0|      2022-02-26|               444|      2022-12-21|         0|                0|11158.0|                 0|                         0|                0|           1|             0|           0|                        0.0|                          0.0|                       0.0|                             0.0|              10000.0|                     0.0|                           0.0|2021|2022-03-01|2023-01-03|       0|       0|         07|       0|       0|\n",
            "|07151000371062|                   1|                  CT  |HOFFMAN ESTATES  ...|     SCHAUMBURG     |  35013|       00|              1|           0|                 0|   2021|            P|       1|          250702.0|          0.0|           0.0|      2022-02-28|               700|      2022-12-26|         0|                0|11158.0|                 0|                         0|                0|           0|             0|           0|                        0.0|                          0.0|                       0.0|                             0.0|              10000.0|                     0.0|                           0.0|2021|2022-03-01|2023-01-03|       0|       0|         07|       0|       0|\n",
            "|07151000371063|                   0|                  CT  |HOFFMAN ESTATES  ...|     SCHAUMBURG     |  35013|       00|              0|           0|                 0|   2021|            P|       1|          150860.0|          0.0|           0.0|      2022-02-20|               700|      2022-12-25|         0|                0|11158.0|                 0|                         0|                0|           0|             0|           0|                        0.0|                          0.0|                       0.0|                             0.0|                  0.0|                     0.0|                           0.0|2021|2022-03-01|2023-01-03|       0|       0|         07|       0|       0|\n",
            "|07151000371066|                   0|                  CT  |HOFFMAN ESTATES  ...|     SCHAUMBURG     |  35013|       00|              0|           0|                 0|   2021|            P|       1|          283262.0|          0.0|           0.0|      2022-02-16|               700|      2022-12-14|         0|                0|11158.0|                 0|                         0|                0|           0|             0|           0|                        0.0|                          0.0|                       0.0|                             0.0|                  0.0|                     0.0|                           0.0|2021|2022-03-01|2023-01-03|       0|       0|         07|       0|       0|\n",
            "|07151000371067|                   1|                  CT  |HOFFMAN ESTATES  ...|     SCHAUMBURG     |  35013|       00|              0|           0|                 0|   2021|            P|       1|          250702.0|          0.0|           0.0|      2022-02-25|               700|      2022-12-22|         0|                0|11158.0|                 0|                         0|                0|           0|             0|           0|                        0.0|                          0.0|                       0.0|                             0.0|                  0.0|                     0.0|                           0.0|2021|2022-03-01|2023-01-03|       0|       0|         07|       0|       0|\n",
            "|07151000371068|                   1|                  CT  |HOFFMAN ESTATES  ...|     SCHAUMBURG     |  35013|       00|              1|           0|                 0|   2021|            P|       1|          231065.0|          0.0|           0.0|      2022-02-11|               700|      2022-12-10|         0|                0|11158.0|                 0|                         0|                0|           0|             0|           0|                        0.0|                          0.0|                       0.0|                             0.0|              10000.0|                     0.0|                           0.0|2021|2022-03-01|2023-01-03|       0|       0|         07|       0|       0|\n",
            "|08321010301029|                   1|                  RD  |ELK GROVE VILLAGE...|     ELK GROVE      |  16035|       00|              0|           0|                 0|   2021|            P|       1|          197245.0|          0.0|           0.0|      2022-02-07|               431|      2022-12-07|         0|                0| 9245.0|                 0|                         0|                0|           0|             0|           0|                        0.0|                          0.0|                       0.0|                             0.0|                  0.0|                     0.0|                           0.0|2021|2022-03-01|2023-01-03|       0|       0|         08|       0|       0|\n",
            "|08321010301030|                   1|                  RD  |ELK GROVE VILLAGE...|     ELK GROVE      |  16035|       00|              0|           0|                 0|   2021|            P|       1|          197245.0|          0.0|           0.0|      2022-02-06|               431|      2022-12-08|         0|                0| 9245.0|                 0|                         0|                0|           0|             0|           0|                        0.0|                          0.0|                       0.0|                             0.0|                  0.0|                     0.0|                           0.0|2021|2022-03-01|2023-01-03|       0|       0|         08|       0|       0|\n",
            "|08321010301031|                   1|                  RD  |ELK GROVE VILLAGE...|     ELK GROVE      |  16035|       00|              1|           0|                 0|   2021|            O|       1|          151617.0|          0.0|           0.0|      2022-06-06|               700|      2023-07-25|         0|                0| 9245.0|                 0|                         0|                0|           0|             0|           0|                        0.0|                          0.0|                       0.0|                             0.0|              10000.0|                     0.0|                           0.0|2021|2022-03-01|2023-01-03|       1|       1|         08|      97|     203|\n",
            "|08321010301032|                   1|                  RD  |ELK GROVE VILLAGE...|     ELK GROVE      |  16035|       00|              0|           0|                 0|   2021|            P|       1|          197245.0|          0.0|           0.0|      2022-02-06|               431|      2022-12-07|         0|                0| 9245.0|                 0|                         0|                0|           0|             0|           0|                        0.0|                          0.0|                       0.0|                             0.0|                  0.0|                     0.0|                           0.0|2021|2022-03-01|2023-01-03|       0|       0|         08|       0|       0|\n",
            "|08321010301034|                   1|                  RD  |ELK GROVE VILLAGE...|     ELK GROVE      |  16035|       00|              1|           0|                 0|   2021|            P|       1|          151617.0|          0.0|           0.0|      2022-02-28|               444|      2022-12-12|         0|                0| 9245.0|                 0|                         0|                0|           0|             0|           0|                        0.0|                          0.0|                       0.0|                             0.0|              10000.0|                     0.0|                           0.0|2021|2022-03-01|2023-01-03|       0|       0|         08|       0|       0|\n",
            "|08321010301035|                   1|                  RD  |ELK GROVE VILLAGE...|     ELK GROVE      |  16035|       00|              1|           0|                 0|   2021|            P|       1|          151617.0|          0.0|           0.0|      2022-02-18|               444|      2022-12-06|         0|                0| 9245.0|                 0|                         0|                0|           0|             0|           0|                        0.0|                          0.0|                       0.0|                             0.0|              10000.0|                     0.0|                           0.0|2021|2022-03-01|2023-01-03|       0|       0|         08|       0|       0|\n",
            "|08321010301037|                   1|                  RD  |ELK GROVE VILLAGE...|     ELK GROVE      |  16035|       00|              0|           0|                 0|   2021|            P|       1|          197245.0|          0.0|           0.0|      2022-09-28|               801|      2023-01-30|         0|                0| 9245.0|                 0|                         0|                0|           0|             0|           0|                        0.0|                          0.0|                       0.0|                             0.0|                  0.0|                     0.0|                           0.0|2021|2022-03-01|2023-01-03|       1|       1|         08|     211|      27|\n",
            "|08321010301041|                   1|                  RD  |ELK GROVE VILLAGE...|     ELK GROVE      |  16035|       00|              1|           0|                 0|   2021|            P|       1|          151617.0|          0.0|           0.0|      2022-03-01|               444|      2022-12-27|         0|                0| 9245.0|                 0|                         0|                0|           0|             0|           0|                        0.0|                          0.0|                       0.0|                             0.0|              10000.0|                     0.0|                           0.0|2021|2022-03-01|2023-01-03|       0|       0|         08|       0|       0|\n",
            "|08321010301016|                   1|                  RD  |ELK GROVE VILLAGE...|     ELK GROVE      |  16035|       03|              1|           1|                 0|   2021|            P|       1|           57195.0|          0.0|           0.0|      2022-02-23|               700|      2022-12-19|         0|                0| 9245.0|                 0|                         0|                0|           1|             0|           0|                        0.0|                          0.0|                       0.0|                             0.0|              10000.0|                     0.0|                           0.0|2021|2022-03-01|2023-01-03|       0|       0|         08|       0|       0|\n",
            "|08321010301017|                   1|                  RD  |ELK GROVE VILLAGE...|     ELK GROVE      |  16035|       00|              0|           0|                 0|   2021|            P|       1|          139325.0|          0.0|           0.0|      2022-02-03|               700|      2022-12-04|         0|                0| 9245.0|                 0|                         0|                0|           0|             0|           0|                        0.0|                          0.0|                       0.0|                             0.0|                  0.0|                     0.0|                           0.0|2021|2022-03-01|2023-01-03|       0|       0|         08|       0|       0|\n",
            "|08321010301020|                   1|                  RD  |ELK GROVE VILLAGE...|     ELK GROVE      |  16035|       00|              1|           0|                 0|   2021|            P|       1|           93697.0|          0.0|           0.0|      2022-02-04|               444|      2022-12-06|         0|                0| 9245.0|                 0|                         0|                0|           0|             0|           0|                        0.0|                          0.0|                       0.0|                             0.0|              10000.0|                     0.0|                           0.0|2021|2022-03-01|2023-01-03|       0|       0|         08|       0|       0|\n",
            "|08321010301021|                   1|                  RD  |ELK GROVE VILLAGE...|     ELK GROVE      |  16035|       00|              0|           0|                 0|   2021|            P|       1|          139325.0|          0.0|           0.0|      2022-02-28|               444|      2022-12-21|         0|                0| 9245.0|                 0|                         0|                0|           0|             0|           0|                        0.0|                          0.0|                       0.0|                             0.0|                  0.0|                     0.0|                           0.0|2021|2022-03-01|2023-01-03|       0|       0|         08|       0|       0|\n",
            "+--------------+--------------------+----------------------+--------------------+--------------------+-------+---------+---------------+------------+------------------+-------+-------------+--------+------------------+-------------+--------------+----------------+------------------+----------------+----------+-----------------+-------+------------------+--------------------------+-----------------+------------+--------------+------------+---------------------------+-----------------------------+--------------------------+--------------------------------+---------------------+------------------------+------------------------------+----+----------+----------+--------+--------+-----------+--------+--------+\n",
            "only showing top 20 rows\n",
            "\n"
          ]
        }
      ]
    },
    {
      "cell_type": "code",
      "source": [
        "# drop rows where Diffpmt2 is >=500\n",
        "data2 = data2.filter(col('DiffPmt2') < 500)\n",
        "data2.count()"
      ],
      "metadata": {
        "colab": {
          "base_uri": "https://localhost:8080/"
        },
        "id": "YOZywklZ8nXq",
        "outputId": "7294ff28-5332-4db7-83e0-399451d2e699"
      },
      "execution_count": 38,
      "outputs": [
        {
          "output_type": "execute_result",
          "data": {
            "text/plain": [
              "4306709"
            ]
          },
          "metadata": {},
          "execution_count": 38
        }
      ]
    },
    {
      "cell_type": "code",
      "source": [
        "data2 = data2.filter(col('DiffPmt1') < 680)\n",
        "data2.count()"
      ],
      "metadata": {
        "colab": {
          "base_uri": "https://localhost:8080/"
        },
        "id": "mwOiNPq_84qw",
        "outputId": "34ac7e9f-4707-4ba6-9d53-387def6cd8d5"
      },
      "execution_count": 39,
      "outputs": [
        {
          "output_type": "execute_result",
          "data": {
            "text/plain": [
              "4280384"
            ]
          },
          "metadata": {},
          "execution_count": 39
        }
      ]
    },
    {
      "cell_type": "code",
      "source": [
        "#further deciding to drop TaxpayerPropertyCity,TaxpayerPropertySuffix,TaxpayerPropertyTown, TaxCode.\n",
        "# too much cardinality and 'AreafromPin' could  possibly be enough (havent done any real analysis)"
      ],
      "metadata": {
        "id": "3p4jOJO45F7w"
      },
      "execution_count": null,
      "outputs": []
    },
    {
      "cell_type": "markdown",
      "source": [
        "### Drop other columns"
      ],
      "metadata": {
        "id": "YAmQF1O514m9"
      }
    },
    {
      "cell_type": "code",
      "source": [
        "other_cols = [\"LastPaymentDate1\", \"LastPaymentDate2\", \"PmtDue1\", \"PmtDue2\", \"PIN\", \"Year\"]"
      ],
      "metadata": {
        "id": "xvX9PiPiSrw4"
      },
      "execution_count": 40,
      "outputs": []
    },
    {
      "cell_type": "code",
      "source": [
        "#data4 = data4.drop(*woe_transform_cols)\n",
        "data2 = data2.drop(*other_cols)"
      ],
      "metadata": {
        "id": "shckPBQOQB88"
      },
      "execution_count": 41,
      "outputs": []
    },
    {
      "cell_type": "code",
      "source": [
        "# decided to insert again since the team has this as a variable\n",
        "# data2 = data2.drop('LatePmt1')"
      ],
      "metadata": {
        "id": "RdGjRAjjOEBd"
      },
      "execution_count": 47,
      "outputs": []
    },
    {
      "cell_type": "code",
      "source": [
        "data2=data2.drop('RefundStatus')#drop since univariate"
      ],
      "metadata": {
        "id": "AyHIRGjXOO5r"
      },
      "execution_count": 42,
      "outputs": []
    },
    {
      "cell_type": "code",
      "source": [
        "data2=data2.drop('TaxCode')#drop for reasons explained earlier\n",
        "data2=data2.drop('TaxpayerPropertySuffix')\n",
        "data2=data2.drop('TaxpayerPropertyTown')\n",
        "data2=data2.drop('TaxpayerPropertyCity')"
      ],
      "metadata": {
        "id": "o8RV0uwiAkQW"
      },
      "execution_count": 43,
      "outputs": []
    },
    {
      "cell_type": "code",
      "source": [
        "# drop diffpmt2\n",
        "data2=data2.drop('DiffPmt2')"
      ],
      "metadata": {
        "id": "MOxWK9059qGR"
      },
      "execution_count": 44,
      "outputs": []
    },
    {
      "cell_type": "code",
      "source": [
        "data2.dtypes"
      ],
      "metadata": {
        "colab": {
          "base_uri": "https://localhost:8080/"
        },
        "id": "Z365m73h9wx2",
        "outputId": "4e601d53-8205-496f-dd84-9a9dcf33141d"
      },
      "execution_count": 45,
      "outputs": [
        {
          "output_type": "execute_result",
          "data": {
            "text/plain": [
              "[('TaxpayerMailingState', 'int'),\n",
              " ('TaxStatus', 'string'),\n",
              " ('HomeownerExempt', 'string'),\n",
              " ('SeniorExempt', 'string'),\n",
              " ('SeniorFreezeExempt', 'string'),\n",
              " ('TaxYear', 'string'),\n",
              " ('AccountStatus', 'string'),\n",
              " ('BillType', 'string'),\n",
              " ('AdjustedAmountDue1', 'float'),\n",
              " ('TaxAmountDue1', 'float'),\n",
              " ('CostAmountDue1', 'float'),\n",
              " ('LastPaymentSource1', 'string'),\n",
              " ('CofENumber', 'int'),\n",
              " ('PastTaxSaleStatus', 'int'),\n",
              " ('TaxRate', 'float'),\n",
              " ('CondemnationStatus', 'string'),\n",
              " ('MunicipalAcquisitionStatus', 'string'),\n",
              " ('AcquisitionStatus', 'string'),\n",
              " ('ExemptStatus', 'string'),\n",
              " ('BankruptStatus', 'string'),\n",
              " ('ReturningVetExemptionAmount', 'float'),\n",
              " ('DisabledPersonExemptionAmount', 'float'),\n",
              " ('DisabledVetExemptionAmount', 'float'),\n",
              " ('DisabledPersonVetExemptionAmount', 'float'),\n",
              " ('HomeownerExemptAmount', 'float'),\n",
              " ('SeniorFreezeExemptAmount', 'float'),\n",
              " ('LongtimeHomeownersExemptAmount', 'float'),\n",
              " ('LatePmt1', 'int'),\n",
              " ('LatePmt2', 'int'),\n",
              " ('AreaFromPin', 'string'),\n",
              " ('DiffPmt1', 'int')]"
            ]
          },
          "metadata": {},
          "execution_count": 45
        }
      ]
    },
    {
      "cell_type": "markdown",
      "source": [
        "## Model Building"
      ],
      "metadata": {
        "id": "7R1I5YAO_ttn"
      }
    },
    {
      "cell_type": "code",
      "source": [
        "#feature_cols = data4.columns\n",
        "#feature_cols.remove(\"LatePmt2\")"
      ],
      "metadata": {
        "id": "uuA9NbDywooA"
      },
      "execution_count": null,
      "outputs": []
    },
    {
      "cell_type": "code",
      "source": [
        "from pyspark.ml.feature import OneHotEncoder, StringIndexer, VectorAssembler\n",
        "\n",
        "# Convert all features into a vector with name 'features'\n",
        "#assembler = VectorAssembler(inputCols=feature_cols, outputCol=\"features\")\n",
        "#data4 = assembler.transform(data4)"
      ],
      "metadata": {
        "id": "VZSG5lcjvIu2"
      },
      "execution_count": 46,
      "outputs": []
    },
    {
      "cell_type": "code",
      "source": [
        "categorical_feats=['TaxpayerMailingState','TaxStatus',\n",
        "                                   'HomeownerExempt','SeniorExempt', 'SeniorFreezeExempt',\n",
        "                                    'AccountStatus', 'BillType','LastPaymentSource1','CofENumber',\n",
        "                                    'PastTaxSaleStatus', 'CondemnationStatus',\n",
        "                                   'MunicipalAcquisitionStatus', 'AcquisitionStatus','ExemptStatus','BankruptStatus',\n",
        "                                    'AreaFromPin','LatePmt1']"
      ],
      "metadata": {
        "id": "wHGUJSj6Wfcy"
      },
      "execution_count": 47,
      "outputs": []
    },
    {
      "cell_type": "code",
      "source": [
        "for x in categorical_feats:\n",
        "  print(data2.select(x).distinct().collect())\n"
      ],
      "metadata": {
        "colab": {
          "base_uri": "https://localhost:8080/"
        },
        "id": "sTfxOjj17SB5",
        "outputId": "ddd35238-6edc-4612-db90-3dd42869d5e8"
      },
      "execution_count": 63,
      "outputs": [
        {
          "output_type": "stream",
          "name": "stdout",
          "text": [
            "[Row(TaxpayerMailingState=1), Row(TaxpayerMailingState=0)]\n",
            "[Row(TaxStatus='00'), Row(TaxStatus='05'), Row(TaxStatus='03')]\n",
            "[Row(HomeownerExempt='0'), Row(HomeownerExempt='1'), Row(HomeownerExempt='2')]\n",
            "[Row(SeniorExempt='0'), Row(SeniorExempt='1'), Row(SeniorExempt='2')]\n",
            "[Row(SeniorFreezeExempt='0'), Row(SeniorFreezeExempt='1'), Row(SeniorFreezeExempt='2')]\n",
            "[Row(AccountStatus='O'), Row(AccountStatus='P')]\n",
            "[Row(BillType='3'), Row(BillType='1'), Row(BillType='4')]\n",
            "[Row(LastPaymentSource1='700'), Row(LastPaymentSource1='521'), Row(LastPaymentSource1='428'), Row(LastPaymentSource1='422'), Row(LastPaymentSource1='432'), Row(LastPaymentSource1='423'), Row(LastPaymentSource1='421'), Row(LastPaymentSource1='505'), Row(LastPaymentSource1='801'), Row(LastPaymentSource1='501'), Row(LastPaymentSource1='525'), Row(LastPaymentSource1='436'), Row(LastPaymentSource1='437'), Row(LastPaymentSource1='526'), Row(LastPaymentSource1='427'), Row(LastPaymentSource1='444'), Row(LastPaymentSource1='750'), Row(LastPaymentSource1='463'), Row(LastPaymentSource1='431'), Row(LastPaymentSource1='426'), Row(LastPaymentSource1='000'), Row(LastPaymentSource1='831'), Row(LastPaymentSource1='476'), Row(LastPaymentSource1='407'), Row(LastPaymentSource1='486'), Row(LastPaymentSource1='823'), Row(LastPaymentSource1='481'), Row(LastPaymentSource1='477'), Row(LastPaymentSource1='471'), Row(LastPaymentSource1='482'), Row(LastPaymentSource1='472'), Row(LastPaymentSource1='487'), Row(LastPaymentSource1='478'), Row(LastPaymentSource1='473'), Row(LastPaymentSource1='522')]\n",
            "[Row(CofENumber=1), Row(CofENumber=0)]\n",
            "[Row(PastTaxSaleStatus=1), Row(PastTaxSaleStatus=0)]\n",
            "[Row(CondemnationStatus='0'), Row(CondemnationStatus='1')]\n",
            "[Row(MunicipalAcquisitionStatus='0'), Row(MunicipalAcquisitionStatus='1')]\n",
            "[Row(AcquisitionStatus='0'), Row(AcquisitionStatus='1')]\n",
            "[Row(ExemptStatus='0'), Row(ExemptStatus='1'), Row(ExemptStatus='2')]\n",
            "[Row(BankruptStatus='0'), Row(BankruptStatus='1')]\n",
            "[Row(AreaFromPin='07'), Row(AreaFromPin='11'), Row(AreaFromPin='01'), Row(AreaFromPin='09'), Row(AreaFromPin='08'), Row(AreaFromPin='03'), Row(AreaFromPin='02'), Row(AreaFromPin='10'), Row(AreaFromPin='12'), Row(AreaFromPin='13'), Row(AreaFromPin='05'), Row(AreaFromPin='06'), Row(AreaFromPin='04'), Row(AreaFromPin='14'), Row(AreaFromPin='15'), Row(AreaFromPin='22'), Row(AreaFromPin='16'), Row(AreaFromPin='18'), Row(AreaFromPin='17'), Row(AreaFromPin='19'), Row(AreaFromPin='23'), Row(AreaFromPin='24'), Row(AreaFromPin='20'), Row(AreaFromPin='21'), Row(AreaFromPin='29'), Row(AreaFromPin='28'), Row(AreaFromPin='27'), Row(AreaFromPin='26'), Row(AreaFromPin='25'), Row(AreaFromPin='30'), Row(AreaFromPin='31'), Row(AreaFromPin='33'), Row(AreaFromPin='32')]\n",
            "[Row(LatePmt1=1), Row(LatePmt1=0)]\n"
          ]
        }
      ]
    },
    {
      "cell_type": "markdown",
      "source": [
        "### very, extremely inefficient way of one-hot encoding"
      ],
      "metadata": {
        "id": "gAp4uKGTEqs1"
      }
    },
    {
      "cell_type": "code",
      "source": [
        "data2 = data2.withColumn(\"TaxpayerMailingState_IL\", when(data2.TaxpayerMailingState == 1, 1).otherwise(0))\n",
        "data2 = data2.withColumn('TaxpayerMailingState_nonIL', when(col('TaxpayerMailingState') == 0, 1).otherwise(0))\n",
        "\n",
        "data2 = data2.withColumn('TaxStatus_00', when(col('TaxStatus') == '00', 1).otherwise(0))\n",
        "data2 = data2.withColumn('TaxStatus_05', when(col('TaxStatus') == '05', 1).otherwise(0))\n",
        "data2 = data2.withColumn('TaxStatus_03', when(col('TaxStatus') == '03', 1).otherwise(0))\n",
        "\n",
        "data2 = data2.withColumn('HomeownerExempt_0', when(col('HomeownerExempt') == '0', 1).otherwise(0))\n",
        "data2 = data2.withColumn('HomeownerExempt_1', when(col('HomeownerExempt') == '1', 1).otherwise(0))\n",
        "data2 = data2.withColumn('HomeownerExempt_2', when(col('HomeownerExempt') == '2', 1).otherwise(0))\n",
        "\n",
        "data2 = data2.withColumn('SeniorExempt_0', when(col('SeniorExempt') == '0', 1).otherwise(0))\n",
        "data2 = data2.withColumn('SeniorExempt_1', when(col('SeniorExempt') == '1', 1).otherwise(0))\n",
        "data2 = data2.withColumn('SeniorExempt_2', when(col('SeniorExempt') == '2', 1).otherwise(0))\n",
        "\n",
        "data2 = data2.withColumn('SeniorFreezeExempt_0', when(col('SeniorFreezeExempt') == '0', 1).otherwise(0))\n",
        "data2 = data2.withColumn('SeniorFreezeExempt_1', when(col('SeniorFreezeExempt') == '1', 1).otherwise(0))\n",
        "data2 = data2.withColumn('SeniorFreezeExempt_2', when(col('SeniorFreezeExempt') == '2', 1).otherwise(0))\n",
        "\n",
        "data2 = data2.withColumn('AccountStatus_O', when(col('AccountStatus') == 'O', 1).otherwise(0))\n",
        "data2 = data2.withColumn('AccountStatus_P', when(col('AccountStatus') == 'P', 1).otherwise(0))\n",
        "\n",
        "data2 = data2.withColumn('BillType_3', when(col('BillType') == '3', 1).otherwise(0))\n",
        "data2 = data2.withColumn('BillType_1', when(col('BillType') == '1', 1).otherwise(0))\n",
        "data2 = data2.withColumn('BillType_4', when(col('BillType') == '4', 1).otherwise(0))\n"
      ],
      "metadata": {
        "id": "vNpuMW5pzER7"
      },
      "execution_count": 48,
      "outputs": []
    },
    {
      "cell_type": "code",
      "source": [
        "data2 = data2.withColumn('LastPaymentSource1_700', when(col('LastPaymentSource1') == '700', 1).otherwise(0))\n",
        "data2 = data2.withColumn('LastPaymentSource1_521', when(col('LastPaymentSource1') == '521', 1).otherwise(0))\n",
        "data2 = data2.withColumn('LastPaymentSource1_428', when(col('LastPaymentSource1') == '428', 1).otherwise(0))\n",
        "data2 = data2.withColumn('LastPaymentSource1_422', when(col('LastPaymentSource1') == '422', 1).otherwise(0))\n",
        "data2 = data2.withColumn('LastPaymentSource1_432', when(col('LastPaymentSource1') == '432', 1).otherwise(0))\n",
        "data2 = data2.withColumn('LastPaymentSource1_423', when(col('LastPaymentSource1') == '423', 1).otherwise(0))\n",
        "data2 = data2.withColumn('LastPaymentSource1_421', when(col('LastPaymentSource1') == '421', 1).otherwise(0))\n",
        "data2 = data2.withColumn('LastPaymentSource1_505', when(col('LastPaymentSource1') == '505', 1).otherwise(0))\n",
        "data2 = data2.withColumn('LastPaymentSource1_801', when(col('LastPaymentSource1') == '801', 1).otherwise(0))\n",
        "data2 = data2.withColumn('LastPaymentSource1_501', when(col('LastPaymentSource1') == '501', 1).otherwise(0))\n",
        "data2 = data2.withColumn('LastPaymentSource1_525', when(col('LastPaymentSource1') == '525', 1).otherwise(0))\n",
        "data2 = data2.withColumn('LastPaymentSource1_436', when(col('LastPaymentSource1') == '436', 1).otherwise(0))\n",
        "data2 = data2.withColumn('LastPaymentSource1_437', when(col('LastPaymentSource1') == '437', 1).otherwise(0))\n",
        "data2 = data2.withColumn('LastPaymentSource1_526', when(col('LastPaymentSource1') == '526', 1).otherwise(0))\n",
        "data2 = data2.withColumn('LastPaymentSource1_427', when(col('LastPaymentSource1') == '427', 1).otherwise(0))\n",
        "data2 = data2.withColumn('LastPaymentSource1_444', when(col('LastPaymentSource1') == '444', 1).otherwise(0))\n",
        "data2 = data2.withColumn('LastPaymentSource1_750', when(col('LastPaymentSource1') == '750', 1).otherwise(0))\n",
        "data2 = data2.withColumn('LastPaymentSource1_463', when(col('LastPaymentSource1') == '463', 1).otherwise(0))\n",
        "data2 = data2.withColumn('LastPaymentSource1_431', when(col('LastPaymentSource1') == '431', 1).otherwise(0))\n",
        "data2 = data2.withColumn('LastPaymentSource1_426', when(col('LastPaymentSource1') == '426', 1).otherwise(0))\n",
        "data2 = data2.withColumn('LastPaymentSource1_000', when(col('LastPaymentSource1') == '000', 1).otherwise(0))\n",
        "data2 = data2.withColumn('LastPaymentSource1_831', when(col('LastPaymentSource1') == '831', 1).otherwise(0))\n",
        "data2 = data2.withColumn('LastPaymentSource1_476', when(col('LastPaymentSource1') == '476', 1).otherwise(0))\n",
        "data2 = data2.withColumn('LastPaymentSource1_407', when(col('LastPaymentSource1') == '407', 1).otherwise(0))\n",
        "data2 = data2.withColumn('LastPaymentSource1_823', when(col('LastPaymentSource1') == '823', 1).otherwise(0))\n",
        "data2 = data2.withColumn('LastPaymentSource1_481', when(col('LastPaymentSource1') == '481', 1).otherwise(0))\n",
        "data2 = data2.withColumn('LastPaymentSource1_477', when(col('LastPaymentSource1') == '477', 1).otherwise(0))\n",
        "data2 = data2.withColumn('LastPaymentSource1_486', when(col('LastPaymentSource1') == '486', 1).otherwise(0))\n",
        "data2 = data2.withColumn('LastPaymentSource1_471', when(col('LastPaymentSource1') == '471', 1).otherwise(0))\n",
        "data2 = data2.withColumn('LastPaymentSource1_482', when(col('LastPaymentSource1') == '482', 1).otherwise(0))\n",
        "data2 = data2.withColumn('LastPaymentSource1_472', when(col('LastPaymentSource1') == '472', 1).otherwise(0))\n",
        "data2 = data2.withColumn('LastPaymentSource1_487', when(col('LastPaymentSource1') == '487', 1).otherwise(0))\n",
        "data2 = data2.withColumn('LastPaymentSource1_478', when(col('LastPaymentSource1') == '478', 1).otherwise(0))\n",
        "data2 = data2.withColumn('LastPaymentSource1_473', when(col('LastPaymentSource1') == '473', 1).otherwise(0))\n",
        "data2 = data2.withColumn('LastPaymentSource1_522', when(col('LastPaymentSource1') == '522', 1).otherwise(0))\n"
      ],
      "metadata": {
        "id": "J2vjaNBCAm2m"
      },
      "execution_count": 49,
      "outputs": []
    },
    {
      "cell_type": "code",
      "source": [
        "data2 = data2.withColumn('CofENumber_0', when(col('CofENumber') == 0, 1).otherwise(0))\n",
        "data2 = data2.withColumn('CofENumber_non0', when(col('CofENumber') == 1, 1).otherwise(0))\n",
        "\n",
        "data2 = data2.withColumn('PastTaxSaleStatus_Y', when(col('PastTaxSaleStatus') == 1, 1).otherwise(0))\n",
        "data2 = data2.withColumn('PastTaxSaleStatus_N', when(col('PastTaxSaleStatus') == 0, 1).otherwise(0))\n",
        "\n",
        "data2 = data2.withColumn('CondemnationStatus_0', when(col('CondemnationStatus') == '0', 1).otherwise(0))\n",
        "data2 = data2.withColumn('CondemnationStatus_1', when(col('CondemnationStatus') == '1', 1).otherwise(0))\n",
        "\n",
        "data2 = data2.withColumn('MunicipalAcquisitionStatus_0', when(col('MunicipalAcquisitionStatus') == '0', 1).otherwise(0))\n",
        "data2 = data2.withColumn('MunicipalAcquisitionStatus_1', when(col('MunicipalAcquisitionStatus') == '1', 1).otherwise(0))\n",
        "\n",
        "data2 = data2.withColumn('MunicipalAcquisitionStatus_1', when(col('MunicipalAcquisitionStatus') == '1', 1).otherwise(0))\n",
        "data2 = data2.withColumn('MunicipalAcquisitionStatus_1', when(col('MunicipalAcquisitionStatus') == '1', 1).otherwise(0))\n",
        "\n",
        "data2 = data2.withColumn('ExemptStatus_0', when(col('ExemptStatus') == '0', 1).otherwise(0))\n",
        "data2 = data2.withColumn('ExemptStatus_1', when(col('ExemptStatus') == '1', 1).otherwise(0))\n",
        "data2 = data2.withColumn('ExemptStatus_2', when(col('ExemptStatus') == '2', 1).otherwise(0))\n",
        "\n",
        "data2 = data2.withColumn('BankruptStatus_0', when(col('BankruptStatus') == '0', 1).otherwise(0))\n",
        "data2 = data2.withColumn('BankruptStatus_1', when(col('BankruptStatus') == '1', 1).otherwise(0))\n",
        "\n"
      ],
      "metadata": {
        "id": "qyW1c0wYC4jb"
      },
      "execution_count": 50,
      "outputs": []
    },
    {
      "cell_type": "code",
      "source": [
        "data2 = data2.withColumn('AreaFromPin_01', when(col('AreaFromPin') == '01', 1).otherwise(0))\n",
        "data2 = data2.withColumn('AreaFromPin_02', when(col('AreaFromPin') == '02', 1).otherwise(0))\n",
        "data2 = data2.withColumn('AreaFromPin_03', when(col('AreaFromPin') == '03', 1).otherwise(0))\n",
        "data2 = data2.withColumn('AreaFromPin_04', when(col('AreaFromPin') == '04', 1).otherwise(0))\n",
        "data2 = data2.withColumn('AreaFromPin_05', when(col('AreaFromPin') == '05', 1).otherwise(0))\n",
        "data2 = data2.withColumn('AreaFromPin_06', when(col('AreaFromPin') == '06', 1).otherwise(0))\n",
        "data2 = data2.withColumn('AreaFromPin_07', when(col('AreaFromPin') == '07', 1).otherwise(0))\n",
        "data2 = data2.withColumn('AreaFromPin_08', when(col('AreaFromPin') == '08', 1).otherwise(0))\n",
        "data2 = data2.withColumn('AreaFromPin_09', when(col('AreaFromPin') == '09', 1).otherwise(0))\n",
        "data2 = data2.withColumn('AreaFromPin_10', when(col('AreaFromPin') == '10', 1).otherwise(0))\n",
        "data2 = data2.withColumn('AreaFromPin_11', when(col('AreaFromPin') == '11', 1).otherwise(0))\n",
        "data2 = data2.withColumn('AreaFromPin_12', when(col('AreaFromPin') == '12', 1).otherwise(0))\n",
        "data2 = data2.withColumn('AreaFromPin_13', when(col('AreaFromPin') == '13', 1).otherwise(0))\n",
        "data2 = data2.withColumn('AreaFromPin_14', when(col('AreaFromPin') == '14', 1).otherwise(0))\n",
        "data2 = data2.withColumn('AreaFromPin_15', when(col('AreaFromPin') == '15', 1).otherwise(0))\n",
        "data2 = data2.withColumn('AreaFromPin_16', when(col('AreaFromPin') == '16', 1).otherwise(0))\n",
        "data2 = data2.withColumn('AreaFromPin_17', when(col('AreaFromPin') == '17', 1).otherwise(0))\n",
        "data2 = data2.withColumn('AreaFromPin_18', when(col('AreaFromPin') == '18', 1).otherwise(0))\n",
        "data2 = data2.withColumn('AreaFromPin_19', when(col('AreaFromPin') == '19', 1).otherwise(0))\n",
        "data2 = data2.withColumn('AreaFromPin_20', when(col('AreaFromPin') == '20', 1).otherwise(0))\n",
        "data2 = data2.withColumn('AreaFromPin_21', when(col('AreaFromPin') == '21', 1).otherwise(0))\n",
        "data2 = data2.withColumn('AreaFromPin_22', when(col('AreaFromPin') == '22', 1).otherwise(0))\n",
        "data2 = data2.withColumn('AreaFromPin_23', when(col('AreaFromPin') == '23', 1).otherwise(0))\n",
        "data2 = data2.withColumn('AreaFromPin_24', when(col('AreaFromPin') == '24', 1).otherwise(0))\n",
        "data2 = data2.withColumn('AreaFromPin_25', when(col('AreaFromPin') == '25', 1).otherwise(0))\n",
        "data2 = data2.withColumn('AreaFromPin_26', when(col('AreaFromPin') == '26', 1).otherwise(0))\n",
        "data2 = data2.withColumn('AreaFromPin_27', when(col('AreaFromPin') == '27', 1).otherwise(0))\n",
        "data2 = data2.withColumn('AreaFromPin_28', when(col('AreaFromPin') == '28', 1).otherwise(0))\n",
        "data2 = data2.withColumn('AreaFromPin_29', when(col('AreaFromPin') == '29', 1).otherwise(0))\n",
        "data2 = data2.withColumn('AreaFromPin_30', when(col('AreaFromPin') == '30', 1).otherwise(0))\n",
        "data2 = data2.withColumn('AreaFromPin_31', when(col('AreaFromPin') == '31', 1).otherwise(0))\n",
        "data2 = data2.withColumn('AreaFromPin_32', when(col('AreaFromPin') == '32', 1).otherwise(0))\n",
        "data2 = data2.withColumn('AreaFromPin_33', when(col('AreaFromPin') == '33', 1).otherwise(0))\n"
      ],
      "metadata": {
        "id": "T4f5bpVAFZnp"
      },
      "execution_count": 51,
      "outputs": []
    },
    {
      "cell_type": "code",
      "source": [
        "data2 = data2.withColumn('LatePmt1_1', when(col('LatePmt1') == 1, 1).otherwise(0))\n",
        "data2 = data2.withColumn('LatePmt1_0', when(col('LatePmt1') == 0, 1).otherwise(0))"
      ],
      "metadata": {
        "id": "NYnlxmmZ-ZbI"
      },
      "execution_count": 52,
      "outputs": []
    },
    {
      "cell_type": "code",
      "source": [
        "data2.show()"
      ],
      "metadata": {
        "colab": {
          "base_uri": "https://localhost:8080/"
        },
        "id": "N--deylUz41R",
        "outputId": "51b37fb8-cb7b-4723-931e-79407fdc1d1e"
      },
      "execution_count": 74,
      "outputs": [
        {
          "output_type": "stream",
          "name": "stdout",
          "text": [
            "+--------------------+---------+---------------+------------+------------------+-------+-------------+--------+------------------+-------------+--------------+------------------+----------+-----------------+-------+------------------+--------------------------+-----------------+------------+--------------+---------------------------+-----------------------------+--------------------------+--------------------------------+---------------------+------------------------+------------------------------+--------+--------+-----------+--------+-----------------------+--------------------------+------------+------------+------------+-----------------+-----------------+-----------------+--------------+--------------+--------------+--------------------+--------------------+--------------------+---------------+---------------+----------+----------+----------+----------------------+----------------------+----------------------+----------------------+----------------------+----------------------+----------------------+----------------------+----------------------+----------------------+----------------------+----------------------+----------------------+----------------------+----------------------+----------------------+----------------------+----------------------+----------------------+----------------------+----------------------+----------------------+----------------------+----------------------+----------------------+----------------------+----------------------+----------------------+----------------------+----------------------+----------------------+----------------------+----------------------+----------------------+----------------------+------------+---------------+-------------------+-------------------+--------------------+--------------------+----------------------------+----------------------------+--------------+--------------+--------------+----------------+----------------+--------------+--------------+--------------+--------------+--------------+--------------+--------------+--------------+--------------+--------------+--------------+--------------+--------------+--------------+--------------+--------------+--------------+--------------+--------------+--------------+--------------+--------------+--------------+--------------+--------------+--------------+--------------+--------------+--------------+--------------+--------------+--------------+--------------+----------+----------+\n",
            "|TaxpayerMailingState|TaxStatus|HomeownerExempt|SeniorExempt|SeniorFreezeExempt|TaxYear|AccountStatus|BillType|AdjustedAmountDue1|TaxAmountDue1|CostAmountDue1|LastPaymentSource1|CofENumber|PastTaxSaleStatus|TaxRate|CondemnationStatus|MunicipalAcquisitionStatus|AcquisitionStatus|ExemptStatus|BankruptStatus|ReturningVetExemptionAmount|DisabledPersonExemptionAmount|DisabledVetExemptionAmount|DisabledPersonVetExemptionAmount|HomeownerExemptAmount|SeniorFreezeExemptAmount|LongtimeHomeownersExemptAmount|LatePmt1|LatePmt2|AreaFromPin|DiffPmt1|TaxpayerMailingState_IL|TaxpayerMailingState_nonIL|TaxStatus_00|TaxStatus_05|TaxStatus_03|HomeownerExempt_0|HomeownerExempt_1|HomeownerExempt_2|SeniorExempt_0|SeniorExempt_1|SeniorExempt_2|SeniorFreezeExempt_0|SeniorFreezeExempt_1|SeniorFreezeExempt_2|AccountStatus_O|AccountStatus_P|BillType_3|BillType_1|BillType_4|LastPaymentSource1_700|LastPaymentSource1_521|LastPaymentSource1_428|LastPaymentSource1_422|LastPaymentSource1_432|LastPaymentSource1_423|LastPaymentSource1_421|LastPaymentSource1_505|LastPaymentSource1_801|LastPaymentSource1_501|LastPaymentSource1_525|LastPaymentSource1_436|LastPaymentSource1_437|LastPaymentSource1_526|LastPaymentSource1_427|LastPaymentSource1_444|LastPaymentSource1_750|LastPaymentSource1_463|LastPaymentSource1_431|LastPaymentSource1_426|LastPaymentSource1_000|LastPaymentSource1_831|LastPaymentSource1_476|LastPaymentSource1_407|LastPaymentSource1_823|LastPaymentSource1_481|LastPaymentSource1_477|LastPaymentSource1_486|LastPaymentSource1_471|LastPaymentSource1_482|LastPaymentSource1_472|LastPaymentSource1_487|LastPaymentSource1_478|LastPaymentSource1_473|LastPaymentSource1_522|CofENumber_0|CofENumber_non0|PastTaxSaleStatus_Y|PastTaxSaleStatus_N|CondemnationStatus_0|CondemnationStatus_1|MunicipalAcquisitionStatus_0|MunicipalAcquisitionStatus_1|ExemptStatus_0|ExemptStatus_1|ExemptStatus_2|BankruptStatus_0|BankruptStatus_1|AreaFromPin_01|AreaFromPin_02|AreaFromPin_03|AreaFromPin_04|AreaFromPin_05|AreaFromPin_06|AreaFromPin_07|AreaFromPin_08|AreaFromPin_09|AreaFromPin_10|AreaFromPin_11|AreaFromPin_12|AreaFromPin_13|AreaFromPin_14|AreaFromPin_15|AreaFromPin_16|AreaFromPin_17|AreaFromPin_18|AreaFromPin_19|AreaFromPin_20|AreaFromPin_21|AreaFromPin_22|AreaFromPin_23|AreaFromPin_24|AreaFromPin_25|AreaFromPin_26|AreaFromPin_27|AreaFromPin_28|AreaFromPin_29|AreaFromPin_30|AreaFromPin_31|AreaFromPin_32|AreaFromPin_33|LatePmt1_1|LatePmt1_0|\n",
            "+--------------------+---------+---------------+------------+------------------+-------+-------------+--------+------------------+-------------+--------------+------------------+----------+-----------------+-------+------------------+--------------------------+-----------------+------------+--------------+---------------------------+-----------------------------+--------------------------+--------------------------------+---------------------+------------------------+------------------------------+--------+--------+-----------+--------+-----------------------+--------------------------+------------+------------+------------+-----------------+-----------------+-----------------+--------------+--------------+--------------+--------------------+--------------------+--------------------+---------------+---------------+----------+----------+----------+----------------------+----------------------+----------------------+----------------------+----------------------+----------------------+----------------------+----------------------+----------------------+----------------------+----------------------+----------------------+----------------------+----------------------+----------------------+----------------------+----------------------+----------------------+----------------------+----------------------+----------------------+----------------------+----------------------+----------------------+----------------------+----------------------+----------------------+----------------------+----------------------+----------------------+----------------------+----------------------+----------------------+----------------------+----------------------+------------+---------------+-------------------+-------------------+--------------------+--------------------+----------------------------+----------------------------+--------------+--------------+--------------+----------------+----------------+--------------+--------------+--------------+--------------+--------------+--------------+--------------+--------------+--------------+--------------+--------------+--------------+--------------+--------------+--------------+--------------+--------------+--------------+--------------+--------------+--------------+--------------+--------------+--------------+--------------+--------------+--------------+--------------+--------------+--------------+--------------+--------------+--------------+----------+----------+\n",
            "|                   1|       00|              1|           0|                 0|   2021|            P|       1|          227431.0|          0.0|           0.0|               444|         0|                0|11158.0|                 0|                         0|                0|           0|             0|                        0.0|                          0.0|                       0.0|                             0.0|              10000.0|                     0.0|                           0.0|       0|       0|         07|       0|                      1|                         0|           1|           0|           0|                0|                1|                0|             1|             0|             0|                   1|                   0|                   0|              0|              1|         0|         1|         0|                     0|                     0|                     0|                     0|                     0|                     0|                     0|                     0|                     0|                     0|                     0|                     0|                     0|                     0|                     0|                     1|                     0|                     0|                     0|                     0|                     0|                     0|                     0|                     0|                     0|                     0|                     0|                     0|                     0|                     0|                     0|                     0|                     0|                     0|                     0|           1|              0|                  0|                  1|                   1|                   0|                           1|                           0|             1|             0|             0|               1|               0|             0|             0|             0|             0|             0|             0|             1|             0|             0|             0|             0|             0|             0|             0|             0|             0|             0|             0|             0|             0|             0|             0|             0|             0|             0|             0|             0|             0|             0|             0|             0|             0|             0|         0|         1|\n",
            "|                   1|       03|              1|           1|                 0|   2021|            P|       1|          206037.0|          0.0|           0.0|               431|         0|                0|11158.0|                 0|                         0|                0|           1|             0|                        0.0|                          0.0|                       0.0|                             0.0|              10000.0|                     0.0|                           0.0|       0|       0|         07|       0|                      1|                         0|           0|           0|           1|                0|                1|                0|             0|             1|             0|                   1|                   0|                   0|              0|              1|         0|         1|         0|                     0|                     0|                     0|                     0|                     0|                     0|                     0|                     0|                     0|                     0|                     0|                     0|                     0|                     0|                     0|                     0|                     0|                     0|                     1|                     0|                     0|                     0|                     0|                     0|                     0|                     0|                     0|                     0|                     0|                     0|                     0|                     0|                     0|                     0|                     0|           1|              0|                  0|                  1|                   1|                   0|                           1|                           0|             0|             1|             0|               1|               0|             0|             0|             0|             0|             0|             0|             1|             0|             0|             0|             0|             0|             0|             0|             0|             0|             0|             0|             0|             0|             0|             0|             0|             0|             0|             0|             0|             0|             0|             0|             0|             0|             0|         0|         1|\n",
            "|                   1|       03|              1|           1|                 0|   2021|            P|       1|          186401.0|          0.0|           0.0|               444|         0|                0|11158.0|                 0|                         0|                0|           1|             0|                        0.0|                          0.0|                       0.0|                             0.0|              10000.0|                     0.0|                           0.0|       0|       0|         07|       0|                      1|                         0|           0|           0|           1|                0|                1|                0|             0|             1|             0|                   1|                   0|                   0|              0|              1|         0|         1|         0|                     0|                     0|                     0|                     0|                     0|                     0|                     0|                     0|                     0|                     0|                     0|                     0|                     0|                     0|                     0|                     1|                     0|                     0|                     0|                     0|                     0|                     0|                     0|                     0|                     0|                     0|                     0|                     0|                     0|                     0|                     0|                     0|                     0|                     0|                     0|           1|              0|                  0|                  1|                   1|                   0|                           1|                           0|             0|             1|             0|               1|               0|             0|             0|             0|             0|             0|             0|             1|             0|             0|             0|             0|             0|             0|             0|             0|             0|             0|             0|             0|             0|             0|             0|             0|             0|             0|             0|             0|             0|             0|             0|             0|             0|             0|         0|         1|\n",
            "|                   1|       00|              1|           0|                 0|   2021|            P|       1|          250702.0|          0.0|           0.0|               700|         0|                0|11158.0|                 0|                         0|                0|           0|             0|                        0.0|                          0.0|                       0.0|                             0.0|              10000.0|                     0.0|                           0.0|       0|       0|         07|       0|                      1|                         0|           1|           0|           0|                0|                1|                0|             1|             0|             0|                   1|                   0|                   0|              0|              1|         0|         1|         0|                     1|                     0|                     0|                     0|                     0|                     0|                     0|                     0|                     0|                     0|                     0|                     0|                     0|                     0|                     0|                     0|                     0|                     0|                     0|                     0|                     0|                     0|                     0|                     0|                     0|                     0|                     0|                     0|                     0|                     0|                     0|                     0|                     0|                     0|                     0|           1|              0|                  0|                  1|                   1|                   0|                           1|                           0|             1|             0|             0|               1|               0|             0|             0|             0|             0|             0|             0|             1|             0|             0|             0|             0|             0|             0|             0|             0|             0|             0|             0|             0|             0|             0|             0|             0|             0|             0|             0|             0|             0|             0|             0|             0|             0|             0|         0|         1|\n",
            "|                   0|       00|              0|           0|                 0|   2021|            P|       1|          150860.0|          0.0|           0.0|               700|         0|                0|11158.0|                 0|                         0|                0|           0|             0|                        0.0|                          0.0|                       0.0|                             0.0|                  0.0|                     0.0|                           0.0|       0|       0|         07|       0|                      0|                         1|           1|           0|           0|                1|                0|                0|             1|             0|             0|                   1|                   0|                   0|              0|              1|         0|         1|         0|                     1|                     0|                     0|                     0|                     0|                     0|                     0|                     0|                     0|                     0|                     0|                     0|                     0|                     0|                     0|                     0|                     0|                     0|                     0|                     0|                     0|                     0|                     0|                     0|                     0|                     0|                     0|                     0|                     0|                     0|                     0|                     0|                     0|                     0|                     0|           1|              0|                  0|                  1|                   1|                   0|                           1|                           0|             1|             0|             0|               1|               0|             0|             0|             0|             0|             0|             0|             1|             0|             0|             0|             0|             0|             0|             0|             0|             0|             0|             0|             0|             0|             0|             0|             0|             0|             0|             0|             0|             0|             0|             0|             0|             0|             0|         0|         1|\n",
            "|                   0|       00|              0|           0|                 0|   2021|            P|       1|          283262.0|          0.0|           0.0|               700|         0|                0|11158.0|                 0|                         0|                0|           0|             0|                        0.0|                          0.0|                       0.0|                             0.0|                  0.0|                     0.0|                           0.0|       0|       0|         07|       0|                      0|                         1|           1|           0|           0|                1|                0|                0|             1|             0|             0|                   1|                   0|                   0|              0|              1|         0|         1|         0|                     1|                     0|                     0|                     0|                     0|                     0|                     0|                     0|                     0|                     0|                     0|                     0|                     0|                     0|                     0|                     0|                     0|                     0|                     0|                     0|                     0|                     0|                     0|                     0|                     0|                     0|                     0|                     0|                     0|                     0|                     0|                     0|                     0|                     0|                     0|           1|              0|                  0|                  1|                   1|                   0|                           1|                           0|             1|             0|             0|               1|               0|             0|             0|             0|             0|             0|             0|             1|             0|             0|             0|             0|             0|             0|             0|             0|             0|             0|             0|             0|             0|             0|             0|             0|             0|             0|             0|             0|             0|             0|             0|             0|             0|             0|         0|         1|\n",
            "|                   1|       00|              0|           0|                 0|   2021|            P|       1|          250702.0|          0.0|           0.0|               700|         0|                0|11158.0|                 0|                         0|                0|           0|             0|                        0.0|                          0.0|                       0.0|                             0.0|                  0.0|                     0.0|                           0.0|       0|       0|         07|       0|                      1|                         0|           1|           0|           0|                1|                0|                0|             1|             0|             0|                   1|                   0|                   0|              0|              1|         0|         1|         0|                     1|                     0|                     0|                     0|                     0|                     0|                     0|                     0|                     0|                     0|                     0|                     0|                     0|                     0|                     0|                     0|                     0|                     0|                     0|                     0|                     0|                     0|                     0|                     0|                     0|                     0|                     0|                     0|                     0|                     0|                     0|                     0|                     0|                     0|                     0|           1|              0|                  0|                  1|                   1|                   0|                           1|                           0|             1|             0|             0|               1|               0|             0|             0|             0|             0|             0|             0|             1|             0|             0|             0|             0|             0|             0|             0|             0|             0|             0|             0|             0|             0|             0|             0|             0|             0|             0|             0|             0|             0|             0|             0|             0|             0|             0|         0|         1|\n",
            "|                   1|       00|              1|           0|                 0|   2021|            P|       1|          231065.0|          0.0|           0.0|               700|         0|                0|11158.0|                 0|                         0|                0|           0|             0|                        0.0|                          0.0|                       0.0|                             0.0|              10000.0|                     0.0|                           0.0|       0|       0|         07|       0|                      1|                         0|           1|           0|           0|                0|                1|                0|             1|             0|             0|                   1|                   0|                   0|              0|              1|         0|         1|         0|                     1|                     0|                     0|                     0|                     0|                     0|                     0|                     0|                     0|                     0|                     0|                     0|                     0|                     0|                     0|                     0|                     0|                     0|                     0|                     0|                     0|                     0|                     0|                     0|                     0|                     0|                     0|                     0|                     0|                     0|                     0|                     0|                     0|                     0|                     0|           1|              0|                  0|                  1|                   1|                   0|                           1|                           0|             1|             0|             0|               1|               0|             0|             0|             0|             0|             0|             0|             1|             0|             0|             0|             0|             0|             0|             0|             0|             0|             0|             0|             0|             0|             0|             0|             0|             0|             0|             0|             0|             0|             0|             0|             0|             0|             0|         0|         1|\n",
            "|                   1|       00|              0|           0|                 0|   2021|            P|       1|          197245.0|          0.0|           0.0|               431|         0|                0| 9245.0|                 0|                         0|                0|           0|             0|                        0.0|                          0.0|                       0.0|                             0.0|                  0.0|                     0.0|                           0.0|       0|       0|         08|       0|                      1|                         0|           1|           0|           0|                1|                0|                0|             1|             0|             0|                   1|                   0|                   0|              0|              1|         0|         1|         0|                     0|                     0|                     0|                     0|                     0|                     0|                     0|                     0|                     0|                     0|                     0|                     0|                     0|                     0|                     0|                     0|                     0|                     0|                     1|                     0|                     0|                     0|                     0|                     0|                     0|                     0|                     0|                     0|                     0|                     0|                     0|                     0|                     0|                     0|                     0|           1|              0|                  0|                  1|                   1|                   0|                           1|                           0|             1|             0|             0|               1|               0|             0|             0|             0|             0|             0|             0|             0|             1|             0|             0|             0|             0|             0|             0|             0|             0|             0|             0|             0|             0|             0|             0|             0|             0|             0|             0|             0|             0|             0|             0|             0|             0|             0|         0|         1|\n",
            "|                   1|       00|              0|           0|                 0|   2021|            P|       1|          197245.0|          0.0|           0.0|               431|         0|                0| 9245.0|                 0|                         0|                0|           0|             0|                        0.0|                          0.0|                       0.0|                             0.0|                  0.0|                     0.0|                           0.0|       0|       0|         08|       0|                      1|                         0|           1|           0|           0|                1|                0|                0|             1|             0|             0|                   1|                   0|                   0|              0|              1|         0|         1|         0|                     0|                     0|                     0|                     0|                     0|                     0|                     0|                     0|                     0|                     0|                     0|                     0|                     0|                     0|                     0|                     0|                     0|                     0|                     1|                     0|                     0|                     0|                     0|                     0|                     0|                     0|                     0|                     0|                     0|                     0|                     0|                     0|                     0|                     0|                     0|           1|              0|                  0|                  1|                   1|                   0|                           1|                           0|             1|             0|             0|               1|               0|             0|             0|             0|             0|             0|             0|             0|             1|             0|             0|             0|             0|             0|             0|             0|             0|             0|             0|             0|             0|             0|             0|             0|             0|             0|             0|             0|             0|             0|             0|             0|             0|             0|         0|         1|\n",
            "|                   1|       00|              1|           0|                 0|   2021|            O|       1|          151617.0|          0.0|           0.0|               700|         0|                0| 9245.0|                 0|                         0|                0|           0|             0|                        0.0|                          0.0|                       0.0|                             0.0|              10000.0|                     0.0|                           0.0|       1|       1|         08|      97|                      1|                         0|           1|           0|           0|                0|                1|                0|             1|             0|             0|                   1|                   0|                   0|              1|              0|         0|         1|         0|                     1|                     0|                     0|                     0|                     0|                     0|                     0|                     0|                     0|                     0|                     0|                     0|                     0|                     0|                     0|                     0|                     0|                     0|                     0|                     0|                     0|                     0|                     0|                     0|                     0|                     0|                     0|                     0|                     0|                     0|                     0|                     0|                     0|                     0|                     0|           1|              0|                  0|                  1|                   1|                   0|                           1|                           0|             1|             0|             0|               1|               0|             0|             0|             0|             0|             0|             0|             0|             1|             0|             0|             0|             0|             0|             0|             0|             0|             0|             0|             0|             0|             0|             0|             0|             0|             0|             0|             0|             0|             0|             0|             0|             0|             0|         1|         0|\n",
            "|                   1|       00|              0|           0|                 0|   2021|            P|       1|          197245.0|          0.0|           0.0|               431|         0|                0| 9245.0|                 0|                         0|                0|           0|             0|                        0.0|                          0.0|                       0.0|                             0.0|                  0.0|                     0.0|                           0.0|       0|       0|         08|       0|                      1|                         0|           1|           0|           0|                1|                0|                0|             1|             0|             0|                   1|                   0|                   0|              0|              1|         0|         1|         0|                     0|                     0|                     0|                     0|                     0|                     0|                     0|                     0|                     0|                     0|                     0|                     0|                     0|                     0|                     0|                     0|                     0|                     0|                     1|                     0|                     0|                     0|                     0|                     0|                     0|                     0|                     0|                     0|                     0|                     0|                     0|                     0|                     0|                     0|                     0|           1|              0|                  0|                  1|                   1|                   0|                           1|                           0|             1|             0|             0|               1|               0|             0|             0|             0|             0|             0|             0|             0|             1|             0|             0|             0|             0|             0|             0|             0|             0|             0|             0|             0|             0|             0|             0|             0|             0|             0|             0|             0|             0|             0|             0|             0|             0|             0|         0|         1|\n",
            "|                   1|       00|              1|           0|                 0|   2021|            P|       1|          151617.0|          0.0|           0.0|               444|         0|                0| 9245.0|                 0|                         0|                0|           0|             0|                        0.0|                          0.0|                       0.0|                             0.0|              10000.0|                     0.0|                           0.0|       0|       0|         08|       0|                      1|                         0|           1|           0|           0|                0|                1|                0|             1|             0|             0|                   1|                   0|                   0|              0|              1|         0|         1|         0|                     0|                     0|                     0|                     0|                     0|                     0|                     0|                     0|                     0|                     0|                     0|                     0|                     0|                     0|                     0|                     1|                     0|                     0|                     0|                     0|                     0|                     0|                     0|                     0|                     0|                     0|                     0|                     0|                     0|                     0|                     0|                     0|                     0|                     0|                     0|           1|              0|                  0|                  1|                   1|                   0|                           1|                           0|             1|             0|             0|               1|               0|             0|             0|             0|             0|             0|             0|             0|             1|             0|             0|             0|             0|             0|             0|             0|             0|             0|             0|             0|             0|             0|             0|             0|             0|             0|             0|             0|             0|             0|             0|             0|             0|             0|         0|         1|\n",
            "|                   1|       00|              1|           0|                 0|   2021|            P|       1|          151617.0|          0.0|           0.0|               444|         0|                0| 9245.0|                 0|                         0|                0|           0|             0|                        0.0|                          0.0|                       0.0|                             0.0|              10000.0|                     0.0|                           0.0|       0|       0|         08|       0|                      1|                         0|           1|           0|           0|                0|                1|                0|             1|             0|             0|                   1|                   0|                   0|              0|              1|         0|         1|         0|                     0|                     0|                     0|                     0|                     0|                     0|                     0|                     0|                     0|                     0|                     0|                     0|                     0|                     0|                     0|                     1|                     0|                     0|                     0|                     0|                     0|                     0|                     0|                     0|                     0|                     0|                     0|                     0|                     0|                     0|                     0|                     0|                     0|                     0|                     0|           1|              0|                  0|                  1|                   1|                   0|                           1|                           0|             1|             0|             0|               1|               0|             0|             0|             0|             0|             0|             0|             0|             1|             0|             0|             0|             0|             0|             0|             0|             0|             0|             0|             0|             0|             0|             0|             0|             0|             0|             0|             0|             0|             0|             0|             0|             0|             0|         0|         1|\n",
            "|                   1|       00|              0|           0|                 0|   2021|            P|       1|          197245.0|          0.0|           0.0|               801|         0|                0| 9245.0|                 0|                         0|                0|           0|             0|                        0.0|                          0.0|                       0.0|                             0.0|                  0.0|                     0.0|                           0.0|       1|       1|         08|     211|                      1|                         0|           1|           0|           0|                1|                0|                0|             1|             0|             0|                   1|                   0|                   0|              0|              1|         0|         1|         0|                     0|                     0|                     0|                     0|                     0|                     0|                     0|                     0|                     1|                     0|                     0|                     0|                     0|                     0|                     0|                     0|                     0|                     0|                     0|                     0|                     0|                     0|                     0|                     0|                     0|                     0|                     0|                     0|                     0|                     0|                     0|                     0|                     0|                     0|                     0|           1|              0|                  0|                  1|                   1|                   0|                           1|                           0|             1|             0|             0|               1|               0|             0|             0|             0|             0|             0|             0|             0|             1|             0|             0|             0|             0|             0|             0|             0|             0|             0|             0|             0|             0|             0|             0|             0|             0|             0|             0|             0|             0|             0|             0|             0|             0|             0|         1|         0|\n",
            "|                   1|       00|              1|           0|                 0|   2021|            P|       1|          151617.0|          0.0|           0.0|               444|         0|                0| 9245.0|                 0|                         0|                0|           0|             0|                        0.0|                          0.0|                       0.0|                             0.0|              10000.0|                     0.0|                           0.0|       0|       0|         08|       0|                      1|                         0|           1|           0|           0|                0|                1|                0|             1|             0|             0|                   1|                   0|                   0|              0|              1|         0|         1|         0|                     0|                     0|                     0|                     0|                     0|                     0|                     0|                     0|                     0|                     0|                     0|                     0|                     0|                     0|                     0|                     1|                     0|                     0|                     0|                     0|                     0|                     0|                     0|                     0|                     0|                     0|                     0|                     0|                     0|                     0|                     0|                     0|                     0|                     0|                     0|           1|              0|                  0|                  1|                   1|                   0|                           1|                           0|             1|             0|             0|               1|               0|             0|             0|             0|             0|             0|             0|             0|             1|             0|             0|             0|             0|             0|             0|             0|             0|             0|             0|             0|             0|             0|             0|             0|             0|             0|             0|             0|             0|             0|             0|             0|             0|             0|         0|         1|\n",
            "|                   1|       03|              1|           1|                 0|   2021|            P|       1|           57195.0|          0.0|           0.0|               700|         0|                0| 9245.0|                 0|                         0|                0|           1|             0|                        0.0|                          0.0|                       0.0|                             0.0|              10000.0|                     0.0|                           0.0|       0|       0|         08|       0|                      1|                         0|           0|           0|           1|                0|                1|                0|             0|             1|             0|                   1|                   0|                   0|              0|              1|         0|         1|         0|                     1|                     0|                     0|                     0|                     0|                     0|                     0|                     0|                     0|                     0|                     0|                     0|                     0|                     0|                     0|                     0|                     0|                     0|                     0|                     0|                     0|                     0|                     0|                     0|                     0|                     0|                     0|                     0|                     0|                     0|                     0|                     0|                     0|                     0|                     0|           1|              0|                  0|                  1|                   1|                   0|                           1|                           0|             0|             1|             0|               1|               0|             0|             0|             0|             0|             0|             0|             0|             1|             0|             0|             0|             0|             0|             0|             0|             0|             0|             0|             0|             0|             0|             0|             0|             0|             0|             0|             0|             0|             0|             0|             0|             0|             0|         0|         1|\n",
            "|                   1|       00|              0|           0|                 0|   2021|            P|       1|          139325.0|          0.0|           0.0|               700|         0|                0| 9245.0|                 0|                         0|                0|           0|             0|                        0.0|                          0.0|                       0.0|                             0.0|                  0.0|                     0.0|                           0.0|       0|       0|         08|       0|                      1|                         0|           1|           0|           0|                1|                0|                0|             1|             0|             0|                   1|                   0|                   0|              0|              1|         0|         1|         0|                     1|                     0|                     0|                     0|                     0|                     0|                     0|                     0|                     0|                     0|                     0|                     0|                     0|                     0|                     0|                     0|                     0|                     0|                     0|                     0|                     0|                     0|                     0|                     0|                     0|                     0|                     0|                     0|                     0|                     0|                     0|                     0|                     0|                     0|                     0|           1|              0|                  0|                  1|                   1|                   0|                           1|                           0|             1|             0|             0|               1|               0|             0|             0|             0|             0|             0|             0|             0|             1|             0|             0|             0|             0|             0|             0|             0|             0|             0|             0|             0|             0|             0|             0|             0|             0|             0|             0|             0|             0|             0|             0|             0|             0|             0|         0|         1|\n",
            "|                   1|       00|              1|           0|                 0|   2021|            P|       1|           93697.0|          0.0|           0.0|               444|         0|                0| 9245.0|                 0|                         0|                0|           0|             0|                        0.0|                          0.0|                       0.0|                             0.0|              10000.0|                     0.0|                           0.0|       0|       0|         08|       0|                      1|                         0|           1|           0|           0|                0|                1|                0|             1|             0|             0|                   1|                   0|                   0|              0|              1|         0|         1|         0|                     0|                     0|                     0|                     0|                     0|                     0|                     0|                     0|                     0|                     0|                     0|                     0|                     0|                     0|                     0|                     1|                     0|                     0|                     0|                     0|                     0|                     0|                     0|                     0|                     0|                     0|                     0|                     0|                     0|                     0|                     0|                     0|                     0|                     0|                     0|           1|              0|                  0|                  1|                   1|                   0|                           1|                           0|             1|             0|             0|               1|               0|             0|             0|             0|             0|             0|             0|             0|             1|             0|             0|             0|             0|             0|             0|             0|             0|             0|             0|             0|             0|             0|             0|             0|             0|             0|             0|             0|             0|             0|             0|             0|             0|             0|         0|         1|\n",
            "|                   1|       00|              0|           0|                 0|   2021|            P|       1|          139325.0|          0.0|           0.0|               444|         0|                0| 9245.0|                 0|                         0|                0|           0|             0|                        0.0|                          0.0|                       0.0|                             0.0|                  0.0|                     0.0|                           0.0|       0|       0|         08|       0|                      1|                         0|           1|           0|           0|                1|                0|                0|             1|             0|             0|                   1|                   0|                   0|              0|              1|         0|         1|         0|                     0|                     0|                     0|                     0|                     0|                     0|                     0|                     0|                     0|                     0|                     0|                     0|                     0|                     0|                     0|                     1|                     0|                     0|                     0|                     0|                     0|                     0|                     0|                     0|                     0|                     0|                     0|                     0|                     0|                     0|                     0|                     0|                     0|                     0|                     0|           1|              0|                  0|                  1|                   1|                   0|                           1|                           0|             1|             0|             0|               1|               0|             0|             0|             0|             0|             0|             0|             0|             1|             0|             0|             0|             0|             0|             0|             0|             0|             0|             0|             0|             0|             0|             0|             0|             0|             0|             0|             0|             0|             0|             0|             0|             0|             0|         0|         1|\n",
            "+--------------------+---------+---------------+------------+------------------+-------+-------------+--------+------------------+-------------+--------------+------------------+----------+-----------------+-------+------------------+--------------------------+-----------------+------------+--------------+---------------------------+-----------------------------+--------------------------+--------------------------------+---------------------+------------------------+------------------------------+--------+--------+-----------+--------+-----------------------+--------------------------+------------+------------+------------+-----------------+-----------------+-----------------+--------------+--------------+--------------+--------------------+--------------------+--------------------+---------------+---------------+----------+----------+----------+----------------------+----------------------+----------------------+----------------------+----------------------+----------------------+----------------------+----------------------+----------------------+----------------------+----------------------+----------------------+----------------------+----------------------+----------------------+----------------------+----------------------+----------------------+----------------------+----------------------+----------------------+----------------------+----------------------+----------------------+----------------------+----------------------+----------------------+----------------------+----------------------+----------------------+----------------------+----------------------+----------------------+----------------------+----------------------+------------+---------------+-------------------+-------------------+--------------------+--------------------+----------------------------+----------------------------+--------------+--------------+--------------+----------------+----------------+--------------+--------------+--------------+--------------+--------------+--------------+--------------+--------------+--------------+--------------+--------------+--------------+--------------+--------------+--------------+--------------+--------------+--------------+--------------+--------------+--------------+--------------+--------------+--------------+--------------+--------------+--------------+--------------+--------------+--------------+--------------+--------------+--------------+----------+----------+\n",
            "only showing top 20 rows\n",
            "\n"
          ]
        }
      ]
    },
    {
      "cell_type": "code",
      "source": [
        "data2.columns # still includes original non-ohe categorical columns"
      ],
      "metadata": {
        "colab": {
          "base_uri": "https://localhost:8080/"
        },
        "id": "SgtHwtOCIQ5z",
        "outputId": "97be1cc4-323c-4471-b530-1394ba7fcec0"
      },
      "execution_count": 75,
      "outputs": [
        {
          "output_type": "execute_result",
          "data": {
            "text/plain": [
              "['TaxpayerMailingState',\n",
              " 'TaxStatus',\n",
              " 'HomeownerExempt',\n",
              " 'SeniorExempt',\n",
              " 'SeniorFreezeExempt',\n",
              " 'TaxYear',\n",
              " 'AccountStatus',\n",
              " 'BillType',\n",
              " 'AdjustedAmountDue1',\n",
              " 'TaxAmountDue1',\n",
              " 'CostAmountDue1',\n",
              " 'LastPaymentSource1',\n",
              " 'CofENumber',\n",
              " 'PastTaxSaleStatus',\n",
              " 'TaxRate',\n",
              " 'CondemnationStatus',\n",
              " 'MunicipalAcquisitionStatus',\n",
              " 'AcquisitionStatus',\n",
              " 'ExemptStatus',\n",
              " 'BankruptStatus',\n",
              " 'ReturningVetExemptionAmount',\n",
              " 'DisabledPersonExemptionAmount',\n",
              " 'DisabledVetExemptionAmount',\n",
              " 'DisabledPersonVetExemptionAmount',\n",
              " 'HomeownerExemptAmount',\n",
              " 'SeniorFreezeExemptAmount',\n",
              " 'LongtimeHomeownersExemptAmount',\n",
              " 'LatePmt1',\n",
              " 'LatePmt2',\n",
              " 'AreaFromPin',\n",
              " 'DiffPmt1',\n",
              " 'TaxpayerMailingState_IL',\n",
              " 'TaxpayerMailingState_nonIL',\n",
              " 'TaxStatus_00',\n",
              " 'TaxStatus_05',\n",
              " 'TaxStatus_03',\n",
              " 'HomeownerExempt_0',\n",
              " 'HomeownerExempt_1',\n",
              " 'HomeownerExempt_2',\n",
              " 'SeniorExempt_0',\n",
              " 'SeniorExempt_1',\n",
              " 'SeniorExempt_2',\n",
              " 'SeniorFreezeExempt_0',\n",
              " 'SeniorFreezeExempt_1',\n",
              " 'SeniorFreezeExempt_2',\n",
              " 'AccountStatus_O',\n",
              " 'AccountStatus_P',\n",
              " 'BillType_3',\n",
              " 'BillType_1',\n",
              " 'BillType_4',\n",
              " 'LastPaymentSource1_700',\n",
              " 'LastPaymentSource1_521',\n",
              " 'LastPaymentSource1_428',\n",
              " 'LastPaymentSource1_422',\n",
              " 'LastPaymentSource1_432',\n",
              " 'LastPaymentSource1_423',\n",
              " 'LastPaymentSource1_421',\n",
              " 'LastPaymentSource1_505',\n",
              " 'LastPaymentSource1_801',\n",
              " 'LastPaymentSource1_501',\n",
              " 'LastPaymentSource1_525',\n",
              " 'LastPaymentSource1_436',\n",
              " 'LastPaymentSource1_437',\n",
              " 'LastPaymentSource1_526',\n",
              " 'LastPaymentSource1_427',\n",
              " 'LastPaymentSource1_444',\n",
              " 'LastPaymentSource1_750',\n",
              " 'LastPaymentSource1_463',\n",
              " 'LastPaymentSource1_431',\n",
              " 'LastPaymentSource1_426',\n",
              " 'LastPaymentSource1_000',\n",
              " 'LastPaymentSource1_831',\n",
              " 'LastPaymentSource1_476',\n",
              " 'LastPaymentSource1_407',\n",
              " 'LastPaymentSource1_823',\n",
              " 'LastPaymentSource1_481',\n",
              " 'LastPaymentSource1_477',\n",
              " 'LastPaymentSource1_486',\n",
              " 'LastPaymentSource1_471',\n",
              " 'LastPaymentSource1_482',\n",
              " 'LastPaymentSource1_472',\n",
              " 'LastPaymentSource1_487',\n",
              " 'LastPaymentSource1_478',\n",
              " 'LastPaymentSource1_473',\n",
              " 'LastPaymentSource1_522',\n",
              " 'CofENumber_0',\n",
              " 'CofENumber_non0',\n",
              " 'PastTaxSaleStatus_Y',\n",
              " 'PastTaxSaleStatus_N',\n",
              " 'CondemnationStatus_0',\n",
              " 'CondemnationStatus_1',\n",
              " 'MunicipalAcquisitionStatus_0',\n",
              " 'MunicipalAcquisitionStatus_1',\n",
              " 'ExemptStatus_0',\n",
              " 'ExemptStatus_1',\n",
              " 'ExemptStatus_2',\n",
              " 'BankruptStatus_0',\n",
              " 'BankruptStatus_1',\n",
              " 'AreaFromPin_01',\n",
              " 'AreaFromPin_02',\n",
              " 'AreaFromPin_03',\n",
              " 'AreaFromPin_04',\n",
              " 'AreaFromPin_05',\n",
              " 'AreaFromPin_06',\n",
              " 'AreaFromPin_07',\n",
              " 'AreaFromPin_08',\n",
              " 'AreaFromPin_09',\n",
              " 'AreaFromPin_10',\n",
              " 'AreaFromPin_11',\n",
              " 'AreaFromPin_12',\n",
              " 'AreaFromPin_13',\n",
              " 'AreaFromPin_14',\n",
              " 'AreaFromPin_15',\n",
              " 'AreaFromPin_16',\n",
              " 'AreaFromPin_17',\n",
              " 'AreaFromPin_18',\n",
              " 'AreaFromPin_19',\n",
              " 'AreaFromPin_20',\n",
              " 'AreaFromPin_21',\n",
              " 'AreaFromPin_22',\n",
              " 'AreaFromPin_23',\n",
              " 'AreaFromPin_24',\n",
              " 'AreaFromPin_25',\n",
              " 'AreaFromPin_26',\n",
              " 'AreaFromPin_27',\n",
              " 'AreaFromPin_28',\n",
              " 'AreaFromPin_29',\n",
              " 'AreaFromPin_30',\n",
              " 'AreaFromPin_31',\n",
              " 'AreaFromPin_32',\n",
              " 'AreaFromPin_33',\n",
              " 'LatePmt1_1',\n",
              " 'LatePmt1_0']"
            ]
          },
          "metadata": {},
          "execution_count": 75
        }
      ]
    },
    {
      "cell_type": "code",
      "source": [
        "# remove original non-ohe categorical columns but left with label column and tax year\n",
        "features_list = [x for x in data2.columns if x not in categorical_feats]\n",
        "features_list"
      ],
      "metadata": {
        "colab": {
          "base_uri": "https://localhost:8080/"
        },
        "id": "Qw4VFtd9I_Gi",
        "outputId": "915c5cc5-c87e-4c00-d4ae-14cf9171b653"
      },
      "execution_count": 53,
      "outputs": [
        {
          "output_type": "execute_result",
          "data": {
            "text/plain": [
              "['TaxYear',\n",
              " 'AdjustedAmountDue1',\n",
              " 'TaxAmountDue1',\n",
              " 'CostAmountDue1',\n",
              " 'TaxRate',\n",
              " 'ReturningVetExemptionAmount',\n",
              " 'DisabledPersonExemptionAmount',\n",
              " 'DisabledVetExemptionAmount',\n",
              " 'DisabledPersonVetExemptionAmount',\n",
              " 'HomeownerExemptAmount',\n",
              " 'SeniorFreezeExemptAmount',\n",
              " 'LongtimeHomeownersExemptAmount',\n",
              " 'LatePmt2',\n",
              " 'DiffPmt1',\n",
              " 'TaxpayerMailingState_IL',\n",
              " 'TaxpayerMailingState_nonIL',\n",
              " 'TaxStatus_00',\n",
              " 'TaxStatus_05',\n",
              " 'TaxStatus_03',\n",
              " 'HomeownerExempt_0',\n",
              " 'HomeownerExempt_1',\n",
              " 'HomeownerExempt_2',\n",
              " 'SeniorExempt_0',\n",
              " 'SeniorExempt_1',\n",
              " 'SeniorExempt_2',\n",
              " 'SeniorFreezeExempt_0',\n",
              " 'SeniorFreezeExempt_1',\n",
              " 'SeniorFreezeExempt_2',\n",
              " 'AccountStatus_O',\n",
              " 'AccountStatus_P',\n",
              " 'BillType_3',\n",
              " 'BillType_1',\n",
              " 'BillType_4',\n",
              " 'LastPaymentSource1_700',\n",
              " 'LastPaymentSource1_521',\n",
              " 'LastPaymentSource1_428',\n",
              " 'LastPaymentSource1_422',\n",
              " 'LastPaymentSource1_432',\n",
              " 'LastPaymentSource1_423',\n",
              " 'LastPaymentSource1_421',\n",
              " 'LastPaymentSource1_505',\n",
              " 'LastPaymentSource1_801',\n",
              " 'LastPaymentSource1_501',\n",
              " 'LastPaymentSource1_525',\n",
              " 'LastPaymentSource1_436',\n",
              " 'LastPaymentSource1_437',\n",
              " 'LastPaymentSource1_526',\n",
              " 'LastPaymentSource1_427',\n",
              " 'LastPaymentSource1_444',\n",
              " 'LastPaymentSource1_750',\n",
              " 'LastPaymentSource1_463',\n",
              " 'LastPaymentSource1_431',\n",
              " 'LastPaymentSource1_426',\n",
              " 'LastPaymentSource1_000',\n",
              " 'LastPaymentSource1_831',\n",
              " 'LastPaymentSource1_476',\n",
              " 'LastPaymentSource1_407',\n",
              " 'LastPaymentSource1_823',\n",
              " 'LastPaymentSource1_481',\n",
              " 'LastPaymentSource1_477',\n",
              " 'LastPaymentSource1_486',\n",
              " 'LastPaymentSource1_471',\n",
              " 'LastPaymentSource1_482',\n",
              " 'LastPaymentSource1_472',\n",
              " 'LastPaymentSource1_487',\n",
              " 'LastPaymentSource1_478',\n",
              " 'LastPaymentSource1_473',\n",
              " 'LastPaymentSource1_522',\n",
              " 'CofENumber_0',\n",
              " 'CofENumber_non0',\n",
              " 'PastTaxSaleStatus_Y',\n",
              " 'PastTaxSaleStatus_N',\n",
              " 'CondemnationStatus_0',\n",
              " 'CondemnationStatus_1',\n",
              " 'MunicipalAcquisitionStatus_0',\n",
              " 'MunicipalAcquisitionStatus_1',\n",
              " 'ExemptStatus_0',\n",
              " 'ExemptStatus_1',\n",
              " 'ExemptStatus_2',\n",
              " 'BankruptStatus_0',\n",
              " 'BankruptStatus_1',\n",
              " 'AreaFromPin_01',\n",
              " 'AreaFromPin_02',\n",
              " 'AreaFromPin_03',\n",
              " 'AreaFromPin_04',\n",
              " 'AreaFromPin_05',\n",
              " 'AreaFromPin_06',\n",
              " 'AreaFromPin_07',\n",
              " 'AreaFromPin_08',\n",
              " 'AreaFromPin_09',\n",
              " 'AreaFromPin_10',\n",
              " 'AreaFromPin_11',\n",
              " 'AreaFromPin_12',\n",
              " 'AreaFromPin_13',\n",
              " 'AreaFromPin_14',\n",
              " 'AreaFromPin_15',\n",
              " 'AreaFromPin_16',\n",
              " 'AreaFromPin_17',\n",
              " 'AreaFromPin_18',\n",
              " 'AreaFromPin_19',\n",
              " 'AreaFromPin_20',\n",
              " 'AreaFromPin_21',\n",
              " 'AreaFromPin_22',\n",
              " 'AreaFromPin_23',\n",
              " 'AreaFromPin_24',\n",
              " 'AreaFromPin_25',\n",
              " 'AreaFromPin_26',\n",
              " 'AreaFromPin_27',\n",
              " 'AreaFromPin_28',\n",
              " 'AreaFromPin_29',\n",
              " 'AreaFromPin_30',\n",
              " 'AreaFromPin_31',\n",
              " 'AreaFromPin_32',\n",
              " 'AreaFromPin_33',\n",
              " 'LatePmt1_1',\n",
              " 'LatePmt1_0']"
            ]
          },
          "metadata": {},
          "execution_count": 53
        }
      ]
    },
    {
      "cell_type": "code",
      "source": [
        "# feature list has all features to be used in model\n",
        "features_list = [x for x in features_list if x not in ['TaxYear','LatePmt2']]\n",
        "features_list"
      ],
      "metadata": {
        "colab": {
          "base_uri": "https://localhost:8080/"
        },
        "id": "VMew-QPGJkr-",
        "outputId": "e84d2fa0-e9e7-47c7-fc7a-393cce72dc9a"
      },
      "execution_count": 54,
      "outputs": [
        {
          "output_type": "execute_result",
          "data": {
            "text/plain": [
              "['AdjustedAmountDue1',\n",
              " 'TaxAmountDue1',\n",
              " 'CostAmountDue1',\n",
              " 'TaxRate',\n",
              " 'ReturningVetExemptionAmount',\n",
              " 'DisabledPersonExemptionAmount',\n",
              " 'DisabledVetExemptionAmount',\n",
              " 'DisabledPersonVetExemptionAmount',\n",
              " 'HomeownerExemptAmount',\n",
              " 'SeniorFreezeExemptAmount',\n",
              " 'LongtimeHomeownersExemptAmount',\n",
              " 'DiffPmt1',\n",
              " 'TaxpayerMailingState_IL',\n",
              " 'TaxpayerMailingState_nonIL',\n",
              " 'TaxStatus_00',\n",
              " 'TaxStatus_05',\n",
              " 'TaxStatus_03',\n",
              " 'HomeownerExempt_0',\n",
              " 'HomeownerExempt_1',\n",
              " 'HomeownerExempt_2',\n",
              " 'SeniorExempt_0',\n",
              " 'SeniorExempt_1',\n",
              " 'SeniorExempt_2',\n",
              " 'SeniorFreezeExempt_0',\n",
              " 'SeniorFreezeExempt_1',\n",
              " 'SeniorFreezeExempt_2',\n",
              " 'AccountStatus_O',\n",
              " 'AccountStatus_P',\n",
              " 'BillType_3',\n",
              " 'BillType_1',\n",
              " 'BillType_4',\n",
              " 'LastPaymentSource1_700',\n",
              " 'LastPaymentSource1_521',\n",
              " 'LastPaymentSource1_428',\n",
              " 'LastPaymentSource1_422',\n",
              " 'LastPaymentSource1_432',\n",
              " 'LastPaymentSource1_423',\n",
              " 'LastPaymentSource1_421',\n",
              " 'LastPaymentSource1_505',\n",
              " 'LastPaymentSource1_801',\n",
              " 'LastPaymentSource1_501',\n",
              " 'LastPaymentSource1_525',\n",
              " 'LastPaymentSource1_436',\n",
              " 'LastPaymentSource1_437',\n",
              " 'LastPaymentSource1_526',\n",
              " 'LastPaymentSource1_427',\n",
              " 'LastPaymentSource1_444',\n",
              " 'LastPaymentSource1_750',\n",
              " 'LastPaymentSource1_463',\n",
              " 'LastPaymentSource1_431',\n",
              " 'LastPaymentSource1_426',\n",
              " 'LastPaymentSource1_000',\n",
              " 'LastPaymentSource1_831',\n",
              " 'LastPaymentSource1_476',\n",
              " 'LastPaymentSource1_407',\n",
              " 'LastPaymentSource1_823',\n",
              " 'LastPaymentSource1_481',\n",
              " 'LastPaymentSource1_477',\n",
              " 'LastPaymentSource1_486',\n",
              " 'LastPaymentSource1_471',\n",
              " 'LastPaymentSource1_482',\n",
              " 'LastPaymentSource1_472',\n",
              " 'LastPaymentSource1_487',\n",
              " 'LastPaymentSource1_478',\n",
              " 'LastPaymentSource1_473',\n",
              " 'LastPaymentSource1_522',\n",
              " 'CofENumber_0',\n",
              " 'CofENumber_non0',\n",
              " 'PastTaxSaleStatus_Y',\n",
              " 'PastTaxSaleStatus_N',\n",
              " 'CondemnationStatus_0',\n",
              " 'CondemnationStatus_1',\n",
              " 'MunicipalAcquisitionStatus_0',\n",
              " 'MunicipalAcquisitionStatus_1',\n",
              " 'ExemptStatus_0',\n",
              " 'ExemptStatus_1',\n",
              " 'ExemptStatus_2',\n",
              " 'BankruptStatus_0',\n",
              " 'BankruptStatus_1',\n",
              " 'AreaFromPin_01',\n",
              " 'AreaFromPin_02',\n",
              " 'AreaFromPin_03',\n",
              " 'AreaFromPin_04',\n",
              " 'AreaFromPin_05',\n",
              " 'AreaFromPin_06',\n",
              " 'AreaFromPin_07',\n",
              " 'AreaFromPin_08',\n",
              " 'AreaFromPin_09',\n",
              " 'AreaFromPin_10',\n",
              " 'AreaFromPin_11',\n",
              " 'AreaFromPin_12',\n",
              " 'AreaFromPin_13',\n",
              " 'AreaFromPin_14',\n",
              " 'AreaFromPin_15',\n",
              " 'AreaFromPin_16',\n",
              " 'AreaFromPin_17',\n",
              " 'AreaFromPin_18',\n",
              " 'AreaFromPin_19',\n",
              " 'AreaFromPin_20',\n",
              " 'AreaFromPin_21',\n",
              " 'AreaFromPin_22',\n",
              " 'AreaFromPin_23',\n",
              " 'AreaFromPin_24',\n",
              " 'AreaFromPin_25',\n",
              " 'AreaFromPin_26',\n",
              " 'AreaFromPin_27',\n",
              " 'AreaFromPin_28',\n",
              " 'AreaFromPin_29',\n",
              " 'AreaFromPin_30',\n",
              " 'AreaFromPin_31',\n",
              " 'AreaFromPin_32',\n",
              " 'AreaFromPin_33',\n",
              " 'LatePmt1_1',\n",
              " 'LatePmt1_0']"
            ]
          },
          "metadata": {},
          "execution_count": 54
        }
      ]
    },
    {
      "cell_type": "code",
      "source": [
        "# create vector of features\n",
        "vec_assembler = VectorAssembler(inputCols=features_list,outputCol='features')\n",
        "vec_df = vec_assembler.transform(data2)\n"
      ],
      "metadata": {
        "id": "2W4CG4YjIgOb"
      },
      "execution_count": 55,
      "outputs": []
    },
    {
      "cell_type": "code",
      "source": [
        "vec_df.show(5,truncate=False)"
      ],
      "metadata": {
        "colab": {
          "base_uri": "https://localhost:8080/"
        },
        "id": "IHHqudWIJEwo",
        "outputId": "1a402c20-f9a6-4247-a7ed-3dfaadeaf5c7"
      },
      "execution_count": 79,
      "outputs": [
        {
          "output_type": "stream",
          "name": "stdout",
          "text": [
            "+--------------------+---------+---------------+------------+------------------+-------+-------------+--------+------------------+-------------+--------------+------------------+----------+-----------------+-------+------------------+--------------------------+-----------------+------------+--------------+---------------------------+-----------------------------+--------------------------+--------------------------------+---------------------+------------------------+------------------------------+--------+--------+-----------+--------+-----------------------+--------------------------+------------+------------+------------+-----------------+-----------------+-----------------+--------------+--------------+--------------+--------------------+--------------------+--------------------+---------------+---------------+----------+----------+----------+----------------------+----------------------+----------------------+----------------------+----------------------+----------------------+----------------------+----------------------+----------------------+----------------------+----------------------+----------------------+----------------------+----------------------+----------------------+----------------------+----------------------+----------------------+----------------------+----------------------+----------------------+----------------------+----------------------+----------------------+----------------------+----------------------+----------------------+----------------------+----------------------+----------------------+----------------------+----------------------+----------------------+----------------------+----------------------+------------+---------------+-------------------+-------------------+--------------------+--------------------+----------------------------+----------------------------+--------------+--------------+--------------+----------------+----------------+--------------+--------------+--------------+--------------+--------------+--------------+--------------+--------------+--------------+--------------+--------------+--------------+--------------+--------------+--------------+--------------+--------------+--------------+--------------+--------------+--------------+--------------+--------------+--------------+--------------+--------------+--------------+--------------+--------------+--------------+--------------+--------------+--------------+----------+----------+---------------------------------------------------------------------------------------------------------------------------------------------------------+\n",
            "|TaxpayerMailingState|TaxStatus|HomeownerExempt|SeniorExempt|SeniorFreezeExempt|TaxYear|AccountStatus|BillType|AdjustedAmountDue1|TaxAmountDue1|CostAmountDue1|LastPaymentSource1|CofENumber|PastTaxSaleStatus|TaxRate|CondemnationStatus|MunicipalAcquisitionStatus|AcquisitionStatus|ExemptStatus|BankruptStatus|ReturningVetExemptionAmount|DisabledPersonExemptionAmount|DisabledVetExemptionAmount|DisabledPersonVetExemptionAmount|HomeownerExemptAmount|SeniorFreezeExemptAmount|LongtimeHomeownersExemptAmount|LatePmt1|LatePmt2|AreaFromPin|DiffPmt1|TaxpayerMailingState_IL|TaxpayerMailingState_nonIL|TaxStatus_00|TaxStatus_05|TaxStatus_03|HomeownerExempt_0|HomeownerExempt_1|HomeownerExempt_2|SeniorExempt_0|SeniorExempt_1|SeniorExempt_2|SeniorFreezeExempt_0|SeniorFreezeExempt_1|SeniorFreezeExempt_2|AccountStatus_O|AccountStatus_P|BillType_3|BillType_1|BillType_4|LastPaymentSource1_700|LastPaymentSource1_521|LastPaymentSource1_428|LastPaymentSource1_422|LastPaymentSource1_432|LastPaymentSource1_423|LastPaymentSource1_421|LastPaymentSource1_505|LastPaymentSource1_801|LastPaymentSource1_501|LastPaymentSource1_525|LastPaymentSource1_436|LastPaymentSource1_437|LastPaymentSource1_526|LastPaymentSource1_427|LastPaymentSource1_444|LastPaymentSource1_750|LastPaymentSource1_463|LastPaymentSource1_431|LastPaymentSource1_426|LastPaymentSource1_000|LastPaymentSource1_831|LastPaymentSource1_476|LastPaymentSource1_407|LastPaymentSource1_823|LastPaymentSource1_481|LastPaymentSource1_477|LastPaymentSource1_486|LastPaymentSource1_471|LastPaymentSource1_482|LastPaymentSource1_472|LastPaymentSource1_487|LastPaymentSource1_478|LastPaymentSource1_473|LastPaymentSource1_522|CofENumber_0|CofENumber_non0|PastTaxSaleStatus_Y|PastTaxSaleStatus_N|CondemnationStatus_0|CondemnationStatus_1|MunicipalAcquisitionStatus_0|MunicipalAcquisitionStatus_1|ExemptStatus_0|ExemptStatus_1|ExemptStatus_2|BankruptStatus_0|BankruptStatus_1|AreaFromPin_01|AreaFromPin_02|AreaFromPin_03|AreaFromPin_04|AreaFromPin_05|AreaFromPin_06|AreaFromPin_07|AreaFromPin_08|AreaFromPin_09|AreaFromPin_10|AreaFromPin_11|AreaFromPin_12|AreaFromPin_13|AreaFromPin_14|AreaFromPin_15|AreaFromPin_16|AreaFromPin_17|AreaFromPin_18|AreaFromPin_19|AreaFromPin_20|AreaFromPin_21|AreaFromPin_22|AreaFromPin_23|AreaFromPin_24|AreaFromPin_25|AreaFromPin_26|AreaFromPin_27|AreaFromPin_28|AreaFromPin_29|AreaFromPin_30|AreaFromPin_31|AreaFromPin_32|AreaFromPin_33|LatePmt1_1|LatePmt1_0|features                                                                                                                                                 |\n",
            "+--------------------+---------+---------------+------------+------------------+-------+-------------+--------+------------------+-------------+--------------+------------------+----------+-----------------+-------+------------------+--------------------------+-----------------+------------+--------------+---------------------------+-----------------------------+--------------------------+--------------------------------+---------------------+------------------------+------------------------------+--------+--------+-----------+--------+-----------------------+--------------------------+------------+------------+------------+-----------------+-----------------+-----------------+--------------+--------------+--------------+--------------------+--------------------+--------------------+---------------+---------------+----------+----------+----------+----------------------+----------------------+----------------------+----------------------+----------------------+----------------------+----------------------+----------------------+----------------------+----------------------+----------------------+----------------------+----------------------+----------------------+----------------------+----------------------+----------------------+----------------------+----------------------+----------------------+----------------------+----------------------+----------------------+----------------------+----------------------+----------------------+----------------------+----------------------+----------------------+----------------------+----------------------+----------------------+----------------------+----------------------+----------------------+------------+---------------+-------------------+-------------------+--------------------+--------------------+----------------------------+----------------------------+--------------+--------------+--------------+----------------+----------------+--------------+--------------+--------------+--------------+--------------+--------------+--------------+--------------+--------------+--------------+--------------+--------------+--------------+--------------+--------------+--------------+--------------+--------------+--------------+--------------+--------------+--------------+--------------+--------------+--------------+--------------+--------------+--------------+--------------+--------------+--------------+--------------+--------------+----------+----------+---------------------------------------------------------------------------------------------------------------------------------------------------------+\n",
            "|1                   |00       |1              |0           |0                 |2021   |P            |1       |227431.0          |0.0          |0.0           |444               |0         |0                |11158.0|0                 |0                         |0                |0           |0             |0.0                        |0.0                          |0.0                       |0.0                             |10000.0              |0.0                     |0.0                           |0       |0       |07         |0       |1                      |0                         |1           |0           |0           |0                |1                |0                |1             |0             |0             |1                   |0                   |0                   |0              |1              |0         |1         |0         |0                     |0                     |0                     |0                     |0                     |0                     |0                     |0                     |0                     |0                     |0                     |0                     |0                     |0                     |0                     |1                     |0                     |0                     |0                     |0                     |0                     |0                     |0                     |0                     |0                     |0                     |0                     |0                     |0                     |0                     |0                     |0                     |0                     |0                     |0                     |1           |0              |0                  |1                  |1                   |0                   |1                           |0                           |1             |0             |0             |1               |0               |0             |0             |0             |0             |0             |0             |1             |0             |0             |0             |0             |0             |0             |0             |0             |0             |0             |0             |0             |0             |0             |0             |0             |0             |0             |0             |0             |0             |0             |0             |0             |0             |0             |0         |1         |(114,[0,3,8,12,14,18,20,23,27,29,46,66,69,70,72,74,77,85,113],[227431.0,11158.0,10000.0,1.0,1.0,1.0,1.0,1.0,1.0,1.0,1.0,1.0,1.0,1.0,1.0,1.0,1.0,1.0,1.0])|\n",
            "|1                   |03       |1              |1           |0                 |2021   |P            |1       |206037.0          |0.0          |0.0           |431               |0         |0                |11158.0|0                 |0                         |0                |1           |0             |0.0                        |0.0                          |0.0                       |0.0                             |10000.0              |0.0                     |0.0                           |0       |0       |07         |0       |1                      |0                         |0           |0           |1           |0                |1                |0                |0             |1             |0             |1                   |0                   |0                   |0              |1              |0         |1         |0         |0                     |0                     |0                     |0                     |0                     |0                     |0                     |0                     |0                     |0                     |0                     |0                     |0                     |0                     |0                     |0                     |0                     |0                     |1                     |0                     |0                     |0                     |0                     |0                     |0                     |0                     |0                     |0                     |0                     |0                     |0                     |0                     |0                     |0                     |0                     |1           |0              |0                  |1                  |1                   |0                   |1                           |0                           |0             |1             |0             |1               |0               |0             |0             |0             |0             |0             |0             |1             |0             |0             |0             |0             |0             |0             |0             |0             |0             |0             |0             |0             |0             |0             |0             |0             |0             |0             |0             |0             |0             |0             |0             |0             |0             |0             |0         |1         |(114,[0,3,8,12,16,18,21,23,27,29,49,66,69,70,72,75,77,85,113],[206037.0,11158.0,10000.0,1.0,1.0,1.0,1.0,1.0,1.0,1.0,1.0,1.0,1.0,1.0,1.0,1.0,1.0,1.0,1.0])|\n",
            "|1                   |03       |1              |1           |0                 |2021   |P            |1       |186401.0          |0.0          |0.0           |444               |0         |0                |11158.0|0                 |0                         |0                |1           |0             |0.0                        |0.0                          |0.0                       |0.0                             |10000.0              |0.0                     |0.0                           |0       |0       |07         |0       |1                      |0                         |0           |0           |1           |0                |1                |0                |0             |1             |0             |1                   |0                   |0                   |0              |1              |0         |1         |0         |0                     |0                     |0                     |0                     |0                     |0                     |0                     |0                     |0                     |0                     |0                     |0                     |0                     |0                     |0                     |1                     |0                     |0                     |0                     |0                     |0                     |0                     |0                     |0                     |0                     |0                     |0                     |0                     |0                     |0                     |0                     |0                     |0                     |0                     |0                     |1           |0              |0                  |1                  |1                   |0                   |1                           |0                           |0             |1             |0             |1               |0               |0             |0             |0             |0             |0             |0             |1             |0             |0             |0             |0             |0             |0             |0             |0             |0             |0             |0             |0             |0             |0             |0             |0             |0             |0             |0             |0             |0             |0             |0             |0             |0             |0             |0         |1         |(114,[0,3,8,12,16,18,21,23,27,29,46,66,69,70,72,75,77,85,113],[186401.0,11158.0,10000.0,1.0,1.0,1.0,1.0,1.0,1.0,1.0,1.0,1.0,1.0,1.0,1.0,1.0,1.0,1.0,1.0])|\n",
            "|1                   |00       |1              |0           |0                 |2021   |P            |1       |250702.0          |0.0          |0.0           |700               |0         |0                |11158.0|0                 |0                         |0                |0           |0             |0.0                        |0.0                          |0.0                       |0.0                             |10000.0              |0.0                     |0.0                           |0       |0       |07         |0       |1                      |0                         |1           |0           |0           |0                |1                |0                |1             |0             |0             |1                   |0                   |0                   |0              |1              |0         |1         |0         |1                     |0                     |0                     |0                     |0                     |0                     |0                     |0                     |0                     |0                     |0                     |0                     |0                     |0                     |0                     |0                     |0                     |0                     |0                     |0                     |0                     |0                     |0                     |0                     |0                     |0                     |0                     |0                     |0                     |0                     |0                     |0                     |0                     |0                     |0                     |1           |0              |0                  |1                  |1                   |0                   |1                           |0                           |1             |0             |0             |1               |0               |0             |0             |0             |0             |0             |0             |1             |0             |0             |0             |0             |0             |0             |0             |0             |0             |0             |0             |0             |0             |0             |0             |0             |0             |0             |0             |0             |0             |0             |0             |0             |0             |0             |0         |1         |(114,[0,3,8,12,14,18,20,23,27,29,31,66,69,70,72,74,77,85,113],[250702.0,11158.0,10000.0,1.0,1.0,1.0,1.0,1.0,1.0,1.0,1.0,1.0,1.0,1.0,1.0,1.0,1.0,1.0,1.0])|\n",
            "|0                   |00       |0              |0           |0                 |2021   |P            |1       |150860.0          |0.0          |0.0           |700               |0         |0                |11158.0|0                 |0                         |0                |0           |0             |0.0                        |0.0                          |0.0                       |0.0                             |0.0                  |0.0                     |0.0                           |0       |0       |07         |0       |0                      |1                         |1           |0           |0           |1                |0                |0                |1             |0             |0             |1                   |0                   |0                   |0              |1              |0         |1         |0         |1                     |0                     |0                     |0                     |0                     |0                     |0                     |0                     |0                     |0                     |0                     |0                     |0                     |0                     |0                     |0                     |0                     |0                     |0                     |0                     |0                     |0                     |0                     |0                     |0                     |0                     |0                     |0                     |0                     |0                     |0                     |0                     |0                     |0                     |0                     |1           |0              |0                  |1                  |1                   |0                   |1                           |0                           |1             |0             |0             |1               |0               |0             |0             |0             |0             |0             |0             |1             |0             |0             |0             |0             |0             |0             |0             |0             |0             |0             |0             |0             |0             |0             |0             |0             |0             |0             |0             |0             |0             |0             |0             |0             |0             |0             |0         |1         |(114,[0,3,13,14,17,20,23,27,29,31,66,69,70,72,74,77,85,113],[150860.0,11158.0,1.0,1.0,1.0,1.0,1.0,1.0,1.0,1.0,1.0,1.0,1.0,1.0,1.0,1.0,1.0,1.0])          |\n",
            "+--------------------+---------+---------------+------------+------------------+-------+-------------+--------+------------------+-------------+--------------+------------------+----------+-----------------+-------+------------------+--------------------------+-----------------+------------+--------------+---------------------------+-----------------------------+--------------------------+--------------------------------+---------------------+------------------------+------------------------------+--------+--------+-----------+--------+-----------------------+--------------------------+------------+------------+------------+-----------------+-----------------+-----------------+--------------+--------------+--------------+--------------------+--------------------+--------------------+---------------+---------------+----------+----------+----------+----------------------+----------------------+----------------------+----------------------+----------------------+----------------------+----------------------+----------------------+----------------------+----------------------+----------------------+----------------------+----------------------+----------------------+----------------------+----------------------+----------------------+----------------------+----------------------+----------------------+----------------------+----------------------+----------------------+----------------------+----------------------+----------------------+----------------------+----------------------+----------------------+----------------------+----------------------+----------------------+----------------------+----------------------+----------------------+------------+---------------+-------------------+-------------------+--------------------+--------------------+----------------------------+----------------------------+--------------+--------------+--------------+----------------+----------------+--------------+--------------+--------------+--------------+--------------+--------------+--------------+--------------+--------------+--------------+--------------+--------------+--------------+--------------+--------------+--------------+--------------+--------------+--------------+--------------+--------------+--------------+--------------+--------------+--------------+--------------+--------------+--------------+--------------+--------------+--------------+--------------+--------------+----------+----------+---------------------------------------------------------------------------------------------------------------------------------------------------------+\n",
            "only showing top 5 rows\n",
            "\n"
          ]
        }
      ]
    },
    {
      "cell_type": "code",
      "source": [
        "#train test split based on years\n",
        "test2021=vec_df.filter(col('TaxYear')==2021)\n",
        "train3year=vec_df.filter((col('TaxYear')==2018) |(col('TaxYear')==2019)|(col('TaxYear')==2020)) # only include 3 years before test set\n",
        "train4year=vec_df.filter(col('TaxYear')!=2021) # keep everything except 2021"
      ],
      "metadata": {
        "id": "VOcR30JTKgr0"
      },
      "execution_count": 78,
      "outputs": []
    },
    {
      "cell_type": "code",
      "source": [
        "# Test train split\n",
        "# train, test = vec_df.randomSplit([0.8,0.2], seed=100)"
      ],
      "metadata": {
        "id": "1qlfXV3--dZ8"
      },
      "execution_count": null,
      "outputs": []
    },
    {
      "cell_type": "code",
      "source": [
        "train4year.columns"
      ],
      "metadata": {
        "colab": {
          "base_uri": "https://localhost:8080/"
        },
        "id": "sZmMVQEjXcFU",
        "outputId": "354b028f-fc20-4e96-c147-7aa390f3d723"
      },
      "execution_count": 57,
      "outputs": [
        {
          "output_type": "execute_result",
          "data": {
            "text/plain": [
              "['TaxpayerMailingState',\n",
              " 'TaxStatus',\n",
              " 'HomeownerExempt',\n",
              " 'SeniorExempt',\n",
              " 'SeniorFreezeExempt',\n",
              " 'TaxYear',\n",
              " 'AccountStatus',\n",
              " 'BillType',\n",
              " 'AdjustedAmountDue1',\n",
              " 'TaxAmountDue1',\n",
              " 'CostAmountDue1',\n",
              " 'LastPaymentSource1',\n",
              " 'CofENumber',\n",
              " 'PastTaxSaleStatus',\n",
              " 'TaxRate',\n",
              " 'CondemnationStatus',\n",
              " 'MunicipalAcquisitionStatus',\n",
              " 'AcquisitionStatus',\n",
              " 'ExemptStatus',\n",
              " 'BankruptStatus',\n",
              " 'ReturningVetExemptionAmount',\n",
              " 'DisabledPersonExemptionAmount',\n",
              " 'DisabledVetExemptionAmount',\n",
              " 'DisabledPersonVetExemptionAmount',\n",
              " 'HomeownerExemptAmount',\n",
              " 'SeniorFreezeExemptAmount',\n",
              " 'LongtimeHomeownersExemptAmount',\n",
              " 'LatePmt1',\n",
              " 'LatePmt2',\n",
              " 'AreaFromPin',\n",
              " 'DiffPmt1',\n",
              " 'TaxpayerMailingState_IL',\n",
              " 'TaxpayerMailingState_nonIL',\n",
              " 'TaxStatus_00',\n",
              " 'TaxStatus_05',\n",
              " 'TaxStatus_03',\n",
              " 'HomeownerExempt_0',\n",
              " 'HomeownerExempt_1',\n",
              " 'HomeownerExempt_2',\n",
              " 'SeniorExempt_0',\n",
              " 'SeniorExempt_1',\n",
              " 'SeniorExempt_2',\n",
              " 'SeniorFreezeExempt_0',\n",
              " 'SeniorFreezeExempt_1',\n",
              " 'SeniorFreezeExempt_2',\n",
              " 'AccountStatus_O',\n",
              " 'AccountStatus_P',\n",
              " 'BillType_3',\n",
              " 'BillType_1',\n",
              " 'BillType_4',\n",
              " 'LastPaymentSource1_700',\n",
              " 'LastPaymentSource1_521',\n",
              " 'LastPaymentSource1_428',\n",
              " 'LastPaymentSource1_422',\n",
              " 'LastPaymentSource1_432',\n",
              " 'LastPaymentSource1_423',\n",
              " 'LastPaymentSource1_421',\n",
              " 'LastPaymentSource1_505',\n",
              " 'LastPaymentSource1_801',\n",
              " 'LastPaymentSource1_501',\n",
              " 'LastPaymentSource1_525',\n",
              " 'LastPaymentSource1_436',\n",
              " 'LastPaymentSource1_437',\n",
              " 'LastPaymentSource1_526',\n",
              " 'LastPaymentSource1_427',\n",
              " 'LastPaymentSource1_444',\n",
              " 'LastPaymentSource1_750',\n",
              " 'LastPaymentSource1_463',\n",
              " 'LastPaymentSource1_431',\n",
              " 'LastPaymentSource1_426',\n",
              " 'LastPaymentSource1_000',\n",
              " 'LastPaymentSource1_831',\n",
              " 'LastPaymentSource1_476',\n",
              " 'LastPaymentSource1_407',\n",
              " 'LastPaymentSource1_823',\n",
              " 'LastPaymentSource1_481',\n",
              " 'LastPaymentSource1_477',\n",
              " 'LastPaymentSource1_486',\n",
              " 'LastPaymentSource1_471',\n",
              " 'LastPaymentSource1_482',\n",
              " 'LastPaymentSource1_472',\n",
              " 'LastPaymentSource1_487',\n",
              " 'LastPaymentSource1_478',\n",
              " 'LastPaymentSource1_473',\n",
              " 'LastPaymentSource1_522',\n",
              " 'CofENumber_0',\n",
              " 'CofENumber_non0',\n",
              " 'PastTaxSaleStatus_Y',\n",
              " 'PastTaxSaleStatus_N',\n",
              " 'CondemnationStatus_0',\n",
              " 'CondemnationStatus_1',\n",
              " 'MunicipalAcquisitionStatus_0',\n",
              " 'MunicipalAcquisitionStatus_1',\n",
              " 'ExemptStatus_0',\n",
              " 'ExemptStatus_1',\n",
              " 'ExemptStatus_2',\n",
              " 'BankruptStatus_0',\n",
              " 'BankruptStatus_1',\n",
              " 'AreaFromPin_01',\n",
              " 'AreaFromPin_02',\n",
              " 'AreaFromPin_03',\n",
              " 'AreaFromPin_04',\n",
              " 'AreaFromPin_05',\n",
              " 'AreaFromPin_06',\n",
              " 'AreaFromPin_07',\n",
              " 'AreaFromPin_08',\n",
              " 'AreaFromPin_09',\n",
              " 'AreaFromPin_10',\n",
              " 'AreaFromPin_11',\n",
              " 'AreaFromPin_12',\n",
              " 'AreaFromPin_13',\n",
              " 'AreaFromPin_14',\n",
              " 'AreaFromPin_15',\n",
              " 'AreaFromPin_16',\n",
              " 'AreaFromPin_17',\n",
              " 'AreaFromPin_18',\n",
              " 'AreaFromPin_19',\n",
              " 'AreaFromPin_20',\n",
              " 'AreaFromPin_21',\n",
              " 'AreaFromPin_22',\n",
              " 'AreaFromPin_23',\n",
              " 'AreaFromPin_24',\n",
              " 'AreaFromPin_25',\n",
              " 'AreaFromPin_26',\n",
              " 'AreaFromPin_27',\n",
              " 'AreaFromPin_28',\n",
              " 'AreaFromPin_29',\n",
              " 'AreaFromPin_30',\n",
              " 'AreaFromPin_31',\n",
              " 'AreaFromPin_32',\n",
              " 'AreaFromPin_33',\n",
              " 'LatePmt1_1',\n",
              " 'LatePmt1_0',\n",
              " 'features']"
            ]
          },
          "metadata": {},
          "execution_count": 57
        }
      ]
    },
    {
      "cell_type": "code",
      "source": [
        "train = train4year.persist()\n",
        "train.count()"
      ],
      "metadata": {
        "id": "yZrqOGeBCBil",
        "colab": {
          "base_uri": "https://localhost:8080/"
        },
        "outputId": "5a38e01d-ea90-410b-8443-3dcc81fec7ad"
      },
      "execution_count": 58,
      "outputs": [
        {
          "output_type": "execute_result",
          "data": {
            "text/plain": [
              "3384091"
            ]
          },
          "metadata": {},
          "execution_count": 58
        }
      ]
    },
    {
      "cell_type": "code",
      "source": [
        "train.show(5)"
      ],
      "metadata": {
        "id": "8WsxqEFiutxt",
        "colab": {
          "base_uri": "https://localhost:8080/"
        },
        "outputId": "801665a6-66f2-4ace-c20a-335a9bb454bb"
      },
      "execution_count": 96,
      "outputs": [
        {
          "output_type": "stream",
          "name": "stdout",
          "text": [
            "+--------------------+---------+---------------+------------+------------------+-------+-------------+--------+------------------+-------------+--------------+------------------+----------+-----------------+-------+------------------+--------------------------+-----------------+------------+--------------+---------------------------+-----------------------------+--------------------------+--------------------------------+---------------------+------------------------+------------------------------+--------+-----------+-----------------------+--------------------------+------------+------------+------------+--------------+--------------+--------------+-----------------+-----------------+-----------------+--------------+--------------+--------------+--------------------+--------------------+--------------------+---------------+---------------+----------+----------+----------+----------------------+----------------------+----------------------+----------------------+----------------------+----------------------+----------------------+----------------------+----------------------+----------------------+----------------------+----------------------+----------------------+----------------------+----------------------+----------------------+----------------------+----------------------+----------------------+----------------------+----------------------+----------------------+----------------------+----------------------+----------------------+----------------------+----------------------+----------------------+----------------------+----------------------+----------------------+----------------------+----------------------+----------------------+----------------------+------------+---------------+-------------------+-------------------+--------------------+--------------------+----------------------------+----------------------------+--------------+--------------+--------------+----------------+----------------+--------------+--------------+--------------+--------------+--------------+--------------+--------------+--------------+--------------+--------------+--------------+--------------+--------------+--------------+--------------+--------------+--------------+--------------+--------------+--------------+--------------+--------------+--------------+--------------+--------------+--------------+--------------+--------------+--------------+--------------+--------------------+\n",
            "|TaxpayerMailingState|TaxStatus|HomeownerExempt|SeniorExempt|SeniorFreezeExempt|TaxYear|AccountStatus|BillType|AdjustedAmountDue1|TaxAmountDue1|CostAmountDue1|LastPaymentSource1|CofENumber|PastTaxSaleStatus|TaxRate|CondemnationStatus|MunicipalAcquisitionStatus|AcquisitionStatus|ExemptStatus|BankruptStatus|ReturningVetExemptionAmount|DisabledPersonExemptionAmount|DisabledVetExemptionAmount|DisabledPersonVetExemptionAmount|HomeownerExemptAmount|SeniorFreezeExemptAmount|LongtimeHomeownersExemptAmount|LatePmt2|AreaFromPin|TaxpayerMailingState_IL|TaxpayerMailingState_nonIL|TaxStatus_00|TaxStatus_05|TaxStatus_03|AreaFromPin_01|AreaFromPin_02|AreaFromPin_07|HomeownerExempt_0|HomeownerExempt_1|HomeownerExempt_2|SeniorExempt_0|SeniorExempt_1|SeniorExempt_2|SeniorFreezeExempt_0|SeniorFreezeExempt_1|SeniorFreezeExempt_2|AccountStatus_O|AccountStatus_P|BillType_3|BillType_1|BillType_4|LastPaymentSource1_700|LastPaymentSource1_521|LastPaymentSource1_428|LastPaymentSource1_422|LastPaymentSource1_432|LastPaymentSource1_423|LastPaymentSource1_421|LastPaymentSource1_505|LastPaymentSource1_801|LastPaymentSource1_501|LastPaymentSource1_525|LastPaymentSource1_436|LastPaymentSource1_437|LastPaymentSource1_526|LastPaymentSource1_427|LastPaymentSource1_444|LastPaymentSource1_750|LastPaymentSource1_463|LastPaymentSource1_431|LastPaymentSource1_426|LastPaymentSource1_000|LastPaymentSource1_831|LastPaymentSource1_476|LastPaymentSource1_407|LastPaymentSource1_823|LastPaymentSource1_481|LastPaymentSource1_477|LastPaymentSource1_486|LastPaymentSource1_471|LastPaymentSource1_482|LastPaymentSource1_472|LastPaymentSource1_487|LastPaymentSource1_478|LastPaymentSource1_473|LastPaymentSource1_522|CofENumber_0|CofENumber_non0|PastTaxSaleStatus_Y|PastTaxSaleStatus_N|CondemnationStatus_0|CondemnationStatus_1|MunicipalAcquisitionStatus_0|MunicipalAcquisitionStatus_1|ExemptStatus_0|ExemptStatus_1|ExemptStatus_2|BankruptStatus_0|BankruptStatus_1|AreaFromPin_03|AreaFromPin_04|AreaFromPin_05|AreaFromPin_06|AreaFromPin_08|AreaFromPin_09|AreaFromPin_10|AreaFromPin_11|AreaFromPin_12|AreaFromPin_13|AreaFromPin_14|AreaFromPin_15|AreaFromPin_16|AreaFromPin_17|AreaFromPin_18|AreaFromPin_19|AreaFromPin_20|AreaFromPin_21|AreaFromPin_22|AreaFromPin_23|AreaFromPin_24|AreaFromPin_25|AreaFromPin_26|AreaFromPin_27|AreaFromPin_28|AreaFromPin_29|AreaFromPin_30|AreaFromPin_31|AreaFromPin_32|AreaFromPin_33|            features|\n",
            "+--------------------+---------+---------------+------------+------------------+-------+-------------+--------+------------------+-------------+--------------+------------------+----------+-----------------+-------+------------------+--------------------------+-----------------+------------+--------------+---------------------------+-----------------------------+--------------------------+--------------------------------+---------------------+------------------------+------------------------------+--------+-----------+-----------------------+--------------------------+------------+------------+------------+--------------+--------------+--------------+-----------------+-----------------+-----------------+--------------+--------------+--------------+--------------------+--------------------+--------------------+---------------+---------------+----------+----------+----------+----------------------+----------------------+----------------------+----------------------+----------------------+----------------------+----------------------+----------------------+----------------------+----------------------+----------------------+----------------------+----------------------+----------------------+----------------------+----------------------+----------------------+----------------------+----------------------+----------------------+----------------------+----------------------+----------------------+----------------------+----------------------+----------------------+----------------------+----------------------+----------------------+----------------------+----------------------+----------------------+----------------------+----------------------+----------------------+------------+---------------+-------------------+-------------------+--------------------+--------------------+----------------------------+----------------------------+--------------+--------------+--------------+----------------+----------------+--------------+--------------+--------------+--------------+--------------+--------------+--------------+--------------+--------------+--------------+--------------+--------------+--------------+--------------+--------------+--------------+--------------+--------------+--------------+--------------+--------------+--------------+--------------+--------------+--------------+--------------+--------------+--------------+--------------+--------------+--------------------+\n",
            "|                   1|       03|              1|           1|                 0|   2020|            P|       1|          388554.0|          0.0|           0.0|               700|         0|                0| 7384.0|                 0|                         0|                0|           1|             0|                        0.0|                          0.0|                       0.0|                             0.0|              10000.0|                     0.0|                           0.0|       0|         01|                      1|                         0|           0|           0|           1|             1|             0|             0|                0|                1|                0|             0|             1|             0|                   1|                   0|                   0|              0|              1|         0|         1|         0|                     1|                     0|                     0|                     0|                     0|                     0|                     0|                     0|                     0|                     0|                     0|                     0|                     0|                     0|                     0|                     0|                     0|                     0|                     0|                     0|                     0|                     0|                     0|                     0|                     0|                     0|                     0|                     0|                     0|                     0|                     0|                     0|                     0|                     0|                     0|           1|              0|                  0|                  1|                   1|                   0|                           1|                           0|             0|             1|             0|               1|               0|             0|             0|             0|             0|             0|             0|             0|             0|             0|             0|             0|             0|             0|             0|             0|             0|             0|             0|             0|             0|             0|             0|             0|             0|             0|             0|             0|             0|             0|             0|(111,[0,3,8,11,15...|\n",
            "|                   1|       03|              1|           1|                 0|   2020|            P|       1|          388925.0|          0.0|           0.0|               481|         0|                0| 9925.0|                 0|                         0|                0|           1|             0|                        0.0|                          0.0|                       0.0|                             0.0|              10000.0|                     0.0|                           0.0|       0|         02|                      1|                         0|           0|           0|           1|             0|             1|             0|                0|                1|                0|             0|             1|             0|                   1|                   0|                   0|              0|              1|         0|         1|         0|                     0|                     0|                     0|                     0|                     0|                     0|                     0|                     0|                     0|                     0|                     0|                     0|                     0|                     0|                     0|                     0|                     0|                     0|                     0|                     0|                     0|                     0|                     0|                     0|                     0|                     1|                     0|                     0|                     0|                     0|                     0|                     0|                     0|                     0|                     0|           1|              0|                  0|                  1|                   1|                   0|                           1|                           0|             0|             1|             0|               1|               0|             0|             0|             0|             0|             0|             0|             0|             0|             0|             0|             0|             0|             0|             0|             0|             0|             0|             0|             0|             0|             0|             0|             0|             0|             0|             0|             0|             0|             0|             0|(111,[0,3,8,11,15...|\n",
            "|                   1|       03|              1|           1|                 0|   2020|            P|       1|          395757.0|          0.0|           0.0|               700|         0|                0| 9925.0|                 0|                         0|                0|           1|             0|                        0.0|                          0.0|                       0.0|                             0.0|              10000.0|                     0.0|                           0.0|       0|         02|                      1|                         0|           0|           0|           1|             0|             1|             0|                0|                1|                0|             0|             1|             0|                   1|                   0|                   0|              0|              1|         0|         1|         0|                     1|                     0|                     0|                     0|                     0|                     0|                     0|                     0|                     0|                     0|                     0|                     0|                     0|                     0|                     0|                     0|                     0|                     0|                     0|                     0|                     0|                     0|                     0|                     0|                     0|                     0|                     0|                     0|                     0|                     0|                     0|                     0|                     0|                     0|                     0|           1|              0|                  0|                  1|                   1|                   0|                           1|                           0|             0|             1|             0|               1|               0|             0|             0|             0|             0|             0|             0|             0|             0|             0|             0|             0|             0|             0|             0|             0|             0|             0|             0|             0|             0|             0|             0|             0|             0|             0|             0|             0|             0|             0|             0|(111,[0,3,8,11,15...|\n",
            "|                   1|       03|              1|           1|                 0|   2020|            P|       1|          450255.0|          0.0|           0.0|               700|         0|                0| 9925.0|                 0|                         0|                0|           1|             0|                        0.0|                          0.0|                       0.0|                             0.0|              10000.0|                     0.0|                           0.0|       0|         02|                      1|                         0|           0|           0|           1|             0|             1|             0|                0|                1|                0|             0|             1|             0|                   1|                   0|                   0|              0|              1|         0|         1|         0|                     1|                     0|                     0|                     0|                     0|                     0|                     0|                     0|                     0|                     0|                     0|                     0|                     0|                     0|                     0|                     0|                     0|                     0|                     0|                     0|                     0|                     0|                     0|                     0|                     0|                     0|                     0|                     0|                     0|                     0|                     0|                     0|                     0|                     0|                     0|           1|              0|                  0|                  1|                   1|                   0|                           1|                           0|             0|             1|             0|               1|               0|             0|             0|             0|             0|             0|             0|             0|             0|             0|             0|             0|             0|             0|             0|             0|             0|             0|             0|             0|             0|             0|             0|             0|             0|             0|             0|             0|             0|             0|             0|(111,[0,3,8,11,15...|\n",
            "|                   1|       00|              1|           0|                 0|   2020|            P|       1|          493529.0|          0.0|           0.0|               700|         0|                0| 9925.0|                 0|                         0|                0|           0|             0|                        0.0|                          0.0|                       0.0|                             0.0|              10000.0|                     0.0|                           0.0|       0|         02|                      1|                         0|           1|           0|           0|             0|             1|             0|                0|                1|                0|             1|             0|             0|                   1|                   0|                   0|              0|              1|         0|         1|         0|                     1|                     0|                     0|                     0|                     0|                     0|                     0|                     0|                     0|                     0|                     0|                     0|                     0|                     0|                     0|                     0|                     0|                     0|                     0|                     0|                     0|                     0|                     0|                     0|                     0|                     0|                     0|                     0|                     0|                     0|                     0|                     0|                     0|                     0|                     0|           1|              0|                  0|                  1|                   1|                   0|                           1|                           0|             1|             0|             0|               1|               0|             0|             0|             0|             0|             0|             0|             0|             0|             0|             0|             0|             0|             0|             0|             0|             0|             0|             0|             0|             0|             0|             0|             0|             0|             0|             0|             0|             0|             0|             0|(111,[0,3,8,11,13...|\n",
            "+--------------------+---------+---------------+------------+------------------+-------+-------------+--------+------------------+-------------+--------------+------------------+----------+-----------------+-------+------------------+--------------------------+-----------------+------------+--------------+---------------------------+-----------------------------+--------------------------+--------------------------------+---------------------+------------------------+------------------------------+--------+-----------+-----------------------+--------------------------+------------+------------+------------+--------------+--------------+--------------+-----------------+-----------------+-----------------+--------------+--------------+--------------+--------------------+--------------------+--------------------+---------------+---------------+----------+----------+----------+----------------------+----------------------+----------------------+----------------------+----------------------+----------------------+----------------------+----------------------+----------------------+----------------------+----------------------+----------------------+----------------------+----------------------+----------------------+----------------------+----------------------+----------------------+----------------------+----------------------+----------------------+----------------------+----------------------+----------------------+----------------------+----------------------+----------------------+----------------------+----------------------+----------------------+----------------------+----------------------+----------------------+----------------------+----------------------+------------+---------------+-------------------+-------------------+--------------------+--------------------+----------------------------+----------------------------+--------------+--------------+--------------+----------------+----------------+--------------+--------------+--------------+--------------+--------------+--------------+--------------+--------------+--------------+--------------+--------------+--------------+--------------+--------------+--------------+--------------+--------------+--------------+--------------+--------------+--------------+--------------+--------------+--------------+--------------+--------------+--------------+--------------+--------------+--------------+--------------------+\n",
            "only showing top 5 rows\n",
            "\n"
          ]
        }
      ]
    },
    {
      "cell_type": "code",
      "source": [
        "#from pyspark.ml.classification import LogisticRegression\n",
        "#logit = LogisticRegression(labelCol=\"LatePmt2\")\n",
        "#logit = logit.fit(train)"
      ],
      "metadata": {
        "id": "S0SL41Ye9pDW"
      },
      "execution_count": null,
      "outputs": []
    },
    {
      "cell_type": "markdown",
      "source": [
        "## 4 year window model\n"
      ],
      "metadata": {
        "id": "Qx48ihlvZ2P6"
      }
    },
    {
      "cell_type": "code",
      "source": [
        "rf = RandomForestClassifier(featuresCol = 'features', labelCol = 'LatePmt2')\n",
        "rfModel = rf.fit(train)\n",
        "predictions = rfModel.transform(test2021)"
      ],
      "metadata": {
        "id": "z_u8hp6buvzG"
      },
      "execution_count": 59,
      "outputs": []
    },
    {
      "cell_type": "code",
      "source": [
        "actual = test2021.select(test2021.LatePmt2).toPandas()['LatePmt2']"
      ],
      "metadata": {
        "id": "ipXeoNTG4wxc"
      },
      "execution_count": 60,
      "outputs": []
    },
    {
      "cell_type": "code",
      "source": [
        "predictions.where(col(\"prediction\")==1).show(5, truncate=False)"
      ],
      "metadata": {
        "colab": {
          "base_uri": "https://localhost:8080/"
        },
        "id": "AAb0NaswOHDM",
        "outputId": "69fa907d-9f65-4071-97ba-2f873b828887"
      },
      "execution_count": 61,
      "outputs": [
        {
          "output_type": "stream",
          "name": "stdout",
          "text": [
            "+--------------------+---------+---------------+------------+------------------+-------+-------------+--------+------------------+-------------+--------------+------------------+----------+-----------------+-------+------------------+--------------------------+-----------------+------------+--------------+---------------------------+-----------------------------+--------------------------+--------------------------------+---------------------+------------------------+------------------------------+--------+--------+-----------+--------+-----------------------+--------------------------+------------+------------+------------+-----------------+-----------------+-----------------+--------------+--------------+--------------+--------------------+--------------------+--------------------+---------------+---------------+----------+----------+----------+----------------------+----------------------+----------------------+----------------------+----------------------+----------------------+----------------------+----------------------+----------------------+----------------------+----------------------+----------------------+----------------------+----------------------+----------------------+----------------------+----------------------+----------------------+----------------------+----------------------+----------------------+----------------------+----------------------+----------------------+----------------------+----------------------+----------------------+----------------------+----------------------+----------------------+----------------------+----------------------+----------------------+----------------------+----------------------+------------+---------------+-------------------+-------------------+--------------------+--------------------+----------------------------+----------------------------+--------------+--------------+--------------+----------------+----------------+--------------+--------------+--------------+--------------+--------------+--------------+--------------+--------------+--------------+--------------+--------------+--------------+--------------+--------------+--------------+--------------+--------------+--------------+--------------+--------------+--------------+--------------+--------------+--------------+--------------+--------------+--------------+--------------+--------------+--------------+--------------+--------------+--------------+----------+----------+----------------------------------------------------------------------------------------------------------------------------------------------------------------------------+--------------------------------------+---------------------------------------+----------+\n",
            "|TaxpayerMailingState|TaxStatus|HomeownerExempt|SeniorExempt|SeniorFreezeExempt|TaxYear|AccountStatus|BillType|AdjustedAmountDue1|TaxAmountDue1|CostAmountDue1|LastPaymentSource1|CofENumber|PastTaxSaleStatus|TaxRate|CondemnationStatus|MunicipalAcquisitionStatus|AcquisitionStatus|ExemptStatus|BankruptStatus|ReturningVetExemptionAmount|DisabledPersonExemptionAmount|DisabledVetExemptionAmount|DisabledPersonVetExemptionAmount|HomeownerExemptAmount|SeniorFreezeExemptAmount|LongtimeHomeownersExemptAmount|LatePmt1|LatePmt2|AreaFromPin|DiffPmt1|TaxpayerMailingState_IL|TaxpayerMailingState_nonIL|TaxStatus_00|TaxStatus_05|TaxStatus_03|HomeownerExempt_0|HomeownerExempt_1|HomeownerExempt_2|SeniorExempt_0|SeniorExempt_1|SeniorExempt_2|SeniorFreezeExempt_0|SeniorFreezeExempt_1|SeniorFreezeExempt_2|AccountStatus_O|AccountStatus_P|BillType_3|BillType_1|BillType_4|LastPaymentSource1_700|LastPaymentSource1_521|LastPaymentSource1_428|LastPaymentSource1_422|LastPaymentSource1_432|LastPaymentSource1_423|LastPaymentSource1_421|LastPaymentSource1_505|LastPaymentSource1_801|LastPaymentSource1_501|LastPaymentSource1_525|LastPaymentSource1_436|LastPaymentSource1_437|LastPaymentSource1_526|LastPaymentSource1_427|LastPaymentSource1_444|LastPaymentSource1_750|LastPaymentSource1_463|LastPaymentSource1_431|LastPaymentSource1_426|LastPaymentSource1_000|LastPaymentSource1_831|LastPaymentSource1_476|LastPaymentSource1_407|LastPaymentSource1_823|LastPaymentSource1_481|LastPaymentSource1_477|LastPaymentSource1_486|LastPaymentSource1_471|LastPaymentSource1_482|LastPaymentSource1_472|LastPaymentSource1_487|LastPaymentSource1_478|LastPaymentSource1_473|LastPaymentSource1_522|CofENumber_0|CofENumber_non0|PastTaxSaleStatus_Y|PastTaxSaleStatus_N|CondemnationStatus_0|CondemnationStatus_1|MunicipalAcquisitionStatus_0|MunicipalAcquisitionStatus_1|ExemptStatus_0|ExemptStatus_1|ExemptStatus_2|BankruptStatus_0|BankruptStatus_1|AreaFromPin_01|AreaFromPin_02|AreaFromPin_03|AreaFromPin_04|AreaFromPin_05|AreaFromPin_06|AreaFromPin_07|AreaFromPin_08|AreaFromPin_09|AreaFromPin_10|AreaFromPin_11|AreaFromPin_12|AreaFromPin_13|AreaFromPin_14|AreaFromPin_15|AreaFromPin_16|AreaFromPin_17|AreaFromPin_18|AreaFromPin_19|AreaFromPin_20|AreaFromPin_21|AreaFromPin_22|AreaFromPin_23|AreaFromPin_24|AreaFromPin_25|AreaFromPin_26|AreaFromPin_27|AreaFromPin_28|AreaFromPin_29|AreaFromPin_30|AreaFromPin_31|AreaFromPin_32|AreaFromPin_33|LatePmt1_1|LatePmt1_0|features                                                                                                                                                                    |rawPrediction                         |probability                            |prediction|\n",
            "+--------------------+---------+---------------+------------+------------------+-------+-------------+--------+------------------+-------------+--------------+------------------+----------+-----------------+-------+------------------+--------------------------+-----------------+------------+--------------+---------------------------+-----------------------------+--------------------------+--------------------------------+---------------------+------------------------+------------------------------+--------+--------+-----------+--------+-----------------------+--------------------------+------------+------------+------------+-----------------+-----------------+-----------------+--------------+--------------+--------------+--------------------+--------------------+--------------------+---------------+---------------+----------+----------+----------+----------------------+----------------------+----------------------+----------------------+----------------------+----------------------+----------------------+----------------------+----------------------+----------------------+----------------------+----------------------+----------------------+----------------------+----------------------+----------------------+----------------------+----------------------+----------------------+----------------------+----------------------+----------------------+----------------------+----------------------+----------------------+----------------------+----------------------+----------------------+----------------------+----------------------+----------------------+----------------------+----------------------+----------------------+----------------------+------------+---------------+-------------------+-------------------+--------------------+--------------------+----------------------------+----------------------------+--------------+--------------+--------------+----------------+----------------+--------------+--------------+--------------+--------------+--------------+--------------+--------------+--------------+--------------+--------------+--------------+--------------+--------------+--------------+--------------+--------------+--------------+--------------+--------------+--------------+--------------+--------------+--------------+--------------+--------------+--------------+--------------+--------------+--------------+--------------+--------------+--------------+--------------+----------+----------+----------------------------------------------------------------------------------------------------------------------------------------------------------------------------+--------------------------------------+---------------------------------------+----------+\n",
            "|1                   |00       |0              |0           |0                 |2021   |P            |1       |197245.0          |0.0          |0.0           |801               |0         |0                |9245.0 |0                 |0                         |0                |0           |0             |0.0                        |0.0                          |0.0                       |0.0                             |0.0                  |0.0                     |0.0                           |1       |1       |08         |211     |1                      |0                         |1           |0           |0           |1                |0                |0                |1             |0             |0             |1                   |0                   |0                   |0              |1              |0         |1         |0         |0                     |0                     |0                     |0                     |0                     |0                     |0                     |0                     |1                     |0                     |0                     |0                     |0                     |0                     |0                     |0                     |0                     |0                     |0                     |0                     |0                     |0                     |0                     |0                     |0                     |0                     |0                     |0                     |0                     |0                     |0                     |0                     |0                     |0                     |0                     |1           |0              |0                  |1                  |1                   |0                   |1                           |0                           |1             |0             |0             |1               |0               |0             |0             |0             |0             |0             |0             |0             |1             |0             |0             |0             |0             |0             |0             |0             |0             |0             |0             |0             |0             |0             |0             |0             |0             |0             |0             |0             |0             |0             |0             |0             |0             |0             |1         |0         |(114,[0,3,11,12,14,17,20,23,27,29,39,66,69,70,72,74,77,86,112],[197245.0,9245.0,211.0,1.0,1.0,1.0,1.0,1.0,1.0,1.0,1.0,1.0,1.0,1.0,1.0,1.0,1.0,1.0,1.0])                     |[8.993339581287906,11.006660418712093]|[0.4496669790643953,0.5503330209356047]|1.0       |\n",
            "|0                   |00       |0              |0           |0                 |2021   |P            |1       |186833.0          |198.0        |0.0           |444               |0         |0                |9245.0 |0                 |0                         |0                |0           |0             |0.0                        |0.0                          |0.0                       |0.0                             |0.0                  |0.0                     |0.0                           |1       |1       |08         |303     |0                      |1                         |1           |0           |0           |1                |0                |0                |1             |0             |0             |1                   |0                   |0                   |0              |1              |0         |1         |0         |0                     |0                     |0                     |0                     |0                     |0                     |0                     |0                     |0                     |0                     |0                     |0                     |0                     |0                     |0                     |1                     |0                     |0                     |0                     |0                     |0                     |0                     |0                     |0                     |0                     |0                     |0                     |0                     |0                     |0                     |0                     |0                     |0                     |0                     |0                     |1           |0              |0                  |1                  |1                   |0                   |1                           |0                           |1             |0             |0             |1               |0               |0             |0             |0             |0             |0             |0             |0             |1             |0             |0             |0             |0             |0             |0             |0             |0             |0             |0             |0             |0             |0             |0             |0             |0             |0             |0             |0             |0             |0             |0             |0             |0             |0             |1         |0         |(114,[0,1,3,11,13,14,17,20,23,27,29,46,66,69,70,72,74,77,86,112],[186833.0,198.0,9245.0,303.0,1.0,1.0,1.0,1.0,1.0,1.0,1.0,1.0,1.0,1.0,1.0,1.0,1.0,1.0,1.0,1.0])             |[9.836616634802342,10.163383365197658]|[0.4918308317401171,0.5081691682598829]|1.0       |\n",
            "|1                   |03       |1              |1           |0                 |2021   |O            |1       |108056.0          |108056.0     |0.0           |000               |0         |1                |9245.0 |0                 |0                         |0                |1           |0             |0.0                        |0.0                          |0.0                       |0.0                             |10000.0              |0.0                     |0.0                           |1       |1       |08         |511     |1                      |0                         |0           |0           |1           |0                |1                |0                |0             |1             |0             |1                   |0                   |0                   |1              |0              |0         |1         |0         |0                     |0                     |0                     |0                     |0                     |0                     |0                     |0                     |0                     |0                     |0                     |0                     |0                     |0                     |0                     |0                     |0                     |0                     |0                     |0                     |1                     |0                     |0                     |0                     |0                     |0                     |0                     |0                     |0                     |0                     |0                     |0                     |0                     |0                     |0                     |1           |0              |1                  |0                  |1                   |0                   |1                           |0                           |0             |1             |0             |1               |0               |0             |0             |0             |0             |0             |0             |0             |1             |0             |0             |0             |0             |0             |0             |0             |0             |0             |0             |0             |0             |0             |0             |0             |0             |0             |0             |0             |0             |0             |0             |0             |0             |0             |1         |0         |(114,[0,1,3,8,11,12,16,18,21,23,26,29,51,66,68,70,72,75,77,86,112],[108056.0,108056.0,9245.0,10000.0,511.0,1.0,1.0,1.0,1.0,1.0,1.0,1.0,1.0,1.0,1.0,1.0,1.0,1.0,1.0,1.0,1.0])|[6.464711599105488,13.535288400894514]|[0.3232355799552744,0.6767644200447257]|1.0       |\n",
            "|1                   |00       |1              |0           |0                 |2021   |O            |1       |78959.0           |0.0          |0.0           |700               |0         |0                |9245.0 |0                 |0                         |0                |0           |0             |0.0                        |0.0                          |0.0                       |0.0                             |10000.0              |0.0                     |0.0                           |1       |1       |08         |380     |1                      |0                         |1           |0           |0           |0                |1                |0                |1             |0             |0             |1                   |0                   |0                   |1              |0              |0         |1         |0         |1                     |0                     |0                     |0                     |0                     |0                     |0                     |0                     |0                     |0                     |0                     |0                     |0                     |0                     |0                     |0                     |0                     |0                     |0                     |0                     |0                     |0                     |0                     |0                     |0                     |0                     |0                     |0                     |0                     |0                     |0                     |0                     |0                     |0                     |0                     |1           |0              |0                  |1                  |1                   |0                   |1                           |0                           |1             |0             |0             |1               |0               |0             |0             |0             |0             |0             |0             |0             |1             |0             |0             |0             |0             |0             |0             |0             |0             |0             |0             |0             |0             |0             |0             |0             |0             |0             |0             |0             |0             |0             |0             |0             |0             |0             |1         |0         |(114,[0,3,8,11,12,14,18,20,23,26,29,31,66,69,70,72,74,77,86,112],[78959.0,9245.0,10000.0,380.0,1.0,1.0,1.0,1.0,1.0,1.0,1.0,1.0,1.0,1.0,1.0,1.0,1.0,1.0,1.0,1.0])            |[8.41584702443834,11.58415297556166]  |[0.42079235122191705,0.579207648778083]|1.0       |\n",
            "|1                   |00       |0              |0           |0                 |2021   |P            |1       |3186751.0         |0.0          |0.0           |801               |0         |0                |11158.0|0                 |0                         |0                |0           |0             |0.0                        |0.0                          |0.0                       |0.0                             |0.0                  |0.0                     |0.0                           |1       |1       |07         |37      |1                      |0                         |1           |0           |0           |1                |0                |0                |1             |0             |0             |1                   |0                   |0                   |0              |1              |0         |1         |0         |0                     |0                     |0                     |0                     |0                     |0                     |0                     |0                     |1                     |0                     |0                     |0                     |0                     |0                     |0                     |0                     |0                     |0                     |0                     |0                     |0                     |0                     |0                     |0                     |0                     |0                     |0                     |0                     |0                     |0                     |0                     |0                     |0                     |0                     |0                     |1           |0              |0                  |1                  |1                   |0                   |1                           |0                           |1             |0             |0             |1               |0               |0             |0             |0             |0             |0             |0             |1             |0             |0             |0             |0             |0             |0             |0             |0             |0             |0             |0             |0             |0             |0             |0             |0             |0             |0             |0             |0             |0             |0             |0             |0             |0             |0             |1         |0         |(114,[0,3,11,12,14,17,20,23,27,29,39,66,69,70,72,74,77,85,112],[3186751.0,11158.0,37.0,1.0,1.0,1.0,1.0,1.0,1.0,1.0,1.0,1.0,1.0,1.0,1.0,1.0,1.0,1.0,1.0])                    |[9.892272383478739,10.107727616521263]|[0.4946136191739369,0.5053863808260631]|1.0       |\n",
            "+--------------------+---------+---------------+------------+------------------+-------+-------------+--------+------------------+-------------+--------------+------------------+----------+-----------------+-------+------------------+--------------------------+-----------------+------------+--------------+---------------------------+-----------------------------+--------------------------+--------------------------------+---------------------+------------------------+------------------------------+--------+--------+-----------+--------+-----------------------+--------------------------+------------+------------+------------+-----------------+-----------------+-----------------+--------------+--------------+--------------+--------------------+--------------------+--------------------+---------------+---------------+----------+----------+----------+----------------------+----------------------+----------------------+----------------------+----------------------+----------------------+----------------------+----------------------+----------------------+----------------------+----------------------+----------------------+----------------------+----------------------+----------------------+----------------------+----------------------+----------------------+----------------------+----------------------+----------------------+----------------------+----------------------+----------------------+----------------------+----------------------+----------------------+----------------------+----------------------+----------------------+----------------------+----------------------+----------------------+----------------------+----------------------+------------+---------------+-------------------+-------------------+--------------------+--------------------+----------------------------+----------------------------+--------------+--------------+--------------+----------------+----------------+--------------+--------------+--------------+--------------+--------------+--------------+--------------+--------------+--------------+--------------+--------------+--------------+--------------+--------------+--------------+--------------+--------------+--------------+--------------+--------------+--------------+--------------+--------------+--------------+--------------+--------------+--------------+--------------+--------------+--------------+--------------+--------------+--------------+----------+----------+----------------------------------------------------------------------------------------------------------------------------------------------------------------------------+--------------------------------------+---------------------------------------+----------+\n",
            "only showing top 5 rows\n",
            "\n"
          ]
        }
      ]
    },
    {
      "cell_type": "code",
      "source": [
        "element=f.udf(lambda v:float(v[1]),FloatType())\n",
        "nums = [0.2, 0.25, 0.3, 0.35, 0.4, 0.45, 0.5]\n",
        "acc = []\n",
        "f1 = []\n",
        "rec = []\n",
        "prec = []\n",
        "for num in nums:\n",
        "  print(num)\n",
        "  predictions2 = predictions.withColumn(\"prob_prediction\", when(element(\"probability\")>num, 1).otherwise(0))\n",
        "  pred = predictions2.select(predictions2.prob_prediction).toPandas()[\"prob_prediction\"]\n",
        "  pred = pred.tolist()\n",
        "  acc.append(accuracy_score(actual, pred))\n",
        "  f1.append(f1_score(actual, pred))\n",
        "  rec.append(recall_score(actual, pred))\n",
        "  prec.append(precision_score(actual, pred))\n"
      ],
      "metadata": {
        "colab": {
          "base_uri": "https://localhost:8080/"
        },
        "id": "_KSWAKldNgXk",
        "outputId": "3af221cf-059b-410b-a9e3-093a3eb4d5e5"
      },
      "execution_count": 62,
      "outputs": [
        {
          "output_type": "stream",
          "name": "stdout",
          "text": [
            "0.2\n",
            "0.25\n",
            "0.3\n",
            "0.35\n",
            "0.4\n",
            "0.45\n",
            "0.5\n"
          ]
        }
      ]
    },
    {
      "cell_type": "code",
      "source": [
        "predictions2.where(col(\"prediction\")==0).show(5, truncate=False)"
      ],
      "metadata": {
        "colab": {
          "base_uri": "https://localhost:8080/"
        },
        "id": "kJua2K-9f8RS",
        "outputId": "7ef42ad4-8ca3-4e89-b31c-ef23b23954b8"
      },
      "execution_count": 86,
      "outputs": [
        {
          "output_type": "stream",
          "name": "stdout",
          "text": [
            "+--------------------+---------+---------------+------------+------------------+-------+-------------+--------+------------------+-------------+--------------+------------------+----------+-----------------+-------+------------------+--------------------------+-----------------+------------+--------------+---------------------------+-----------------------------+--------------------------+--------------------------------+---------------------+------------------------+------------------------------+--------+--------+-----------+--------+-----------------------+--------------------------+------------+------------+------------+-----------------+-----------------+-----------------+--------------+--------------+--------------+--------------------+--------------------+--------------------+---------------+---------------+----------+----------+----------+----------------------+----------------------+----------------------+----------------------+----------------------+----------------------+----------------------+----------------------+----------------------+----------------------+----------------------+----------------------+----------------------+----------------------+----------------------+----------------------+----------------------+----------------------+----------------------+----------------------+----------------------+----------------------+----------------------+----------------------+----------------------+----------------------+----------------------+----------------------+----------------------+----------------------+----------------------+----------------------+----------------------+----------------------+----------------------+------------+---------------+-------------------+-------------------+--------------------+--------------------+----------------------------+----------------------------+--------------+--------------+--------------+----------------+----------------+--------------+--------------+--------------+--------------+--------------+--------------+--------------+--------------+--------------+--------------+--------------+--------------+--------------+--------------+--------------+--------------+--------------+--------------+--------------+--------------+--------------+--------------+--------------+--------------+--------------+--------------+--------------+--------------+--------------+--------------+--------------+--------------+--------------+----------+----------+---------------------------------------------------------------------------------------------------------------------------------------------------------+---------------------------------------+----------------------------------------+----------+---------------+\n",
            "|TaxpayerMailingState|TaxStatus|HomeownerExempt|SeniorExempt|SeniorFreezeExempt|TaxYear|AccountStatus|BillType|AdjustedAmountDue1|TaxAmountDue1|CostAmountDue1|LastPaymentSource1|CofENumber|PastTaxSaleStatus|TaxRate|CondemnationStatus|MunicipalAcquisitionStatus|AcquisitionStatus|ExemptStatus|BankruptStatus|ReturningVetExemptionAmount|DisabledPersonExemptionAmount|DisabledVetExemptionAmount|DisabledPersonVetExemptionAmount|HomeownerExemptAmount|SeniorFreezeExemptAmount|LongtimeHomeownersExemptAmount|LatePmt1|LatePmt2|AreaFromPin|DiffPmt1|TaxpayerMailingState_IL|TaxpayerMailingState_nonIL|TaxStatus_00|TaxStatus_05|TaxStatus_03|HomeownerExempt_0|HomeownerExempt_1|HomeownerExempt_2|SeniorExempt_0|SeniorExempt_1|SeniorExempt_2|SeniorFreezeExempt_0|SeniorFreezeExempt_1|SeniorFreezeExempt_2|AccountStatus_O|AccountStatus_P|BillType_3|BillType_1|BillType_4|LastPaymentSource1_700|LastPaymentSource1_521|LastPaymentSource1_428|LastPaymentSource1_422|LastPaymentSource1_432|LastPaymentSource1_423|LastPaymentSource1_421|LastPaymentSource1_505|LastPaymentSource1_801|LastPaymentSource1_501|LastPaymentSource1_525|LastPaymentSource1_436|LastPaymentSource1_437|LastPaymentSource1_526|LastPaymentSource1_427|LastPaymentSource1_444|LastPaymentSource1_750|LastPaymentSource1_463|LastPaymentSource1_431|LastPaymentSource1_426|LastPaymentSource1_000|LastPaymentSource1_831|LastPaymentSource1_476|LastPaymentSource1_407|LastPaymentSource1_823|LastPaymentSource1_481|LastPaymentSource1_477|LastPaymentSource1_486|LastPaymentSource1_471|LastPaymentSource1_482|LastPaymentSource1_472|LastPaymentSource1_487|LastPaymentSource1_478|LastPaymentSource1_473|LastPaymentSource1_522|CofENumber_0|CofENumber_non0|PastTaxSaleStatus_Y|PastTaxSaleStatus_N|CondemnationStatus_0|CondemnationStatus_1|MunicipalAcquisitionStatus_0|MunicipalAcquisitionStatus_1|ExemptStatus_0|ExemptStatus_1|ExemptStatus_2|BankruptStatus_0|BankruptStatus_1|AreaFromPin_01|AreaFromPin_02|AreaFromPin_03|AreaFromPin_04|AreaFromPin_05|AreaFromPin_06|AreaFromPin_07|AreaFromPin_08|AreaFromPin_09|AreaFromPin_10|AreaFromPin_11|AreaFromPin_12|AreaFromPin_13|AreaFromPin_14|AreaFromPin_15|AreaFromPin_16|AreaFromPin_17|AreaFromPin_18|AreaFromPin_19|AreaFromPin_20|AreaFromPin_21|AreaFromPin_22|AreaFromPin_23|AreaFromPin_24|AreaFromPin_25|AreaFromPin_26|AreaFromPin_27|AreaFromPin_28|AreaFromPin_29|AreaFromPin_30|AreaFromPin_31|AreaFromPin_32|AreaFromPin_33|LatePmt1_1|LatePmt1_0|features                                                                                                                                                 |rawPrediction                          |probability                             |prediction|prob_prediction|\n",
            "+--------------------+---------+---------------+------------+------------------+-------+-------------+--------+------------------+-------------+--------------+------------------+----------+-----------------+-------+------------------+--------------------------+-----------------+------------+--------------+---------------------------+-----------------------------+--------------------------+--------------------------------+---------------------+------------------------+------------------------------+--------+--------+-----------+--------+-----------------------+--------------------------+------------+------------+------------+-----------------+-----------------+-----------------+--------------+--------------+--------------+--------------------+--------------------+--------------------+---------------+---------------+----------+----------+----------+----------------------+----------------------+----------------------+----------------------+----------------------+----------------------+----------------------+----------------------+----------------------+----------------------+----------------------+----------------------+----------------------+----------------------+----------------------+----------------------+----------------------+----------------------+----------------------+----------------------+----------------------+----------------------+----------------------+----------------------+----------------------+----------------------+----------------------+----------------------+----------------------+----------------------+----------------------+----------------------+----------------------+----------------------+----------------------+------------+---------------+-------------------+-------------------+--------------------+--------------------+----------------------------+----------------------------+--------------+--------------+--------------+----------------+----------------+--------------+--------------+--------------+--------------+--------------+--------------+--------------+--------------+--------------+--------------+--------------+--------------+--------------+--------------+--------------+--------------+--------------+--------------+--------------+--------------+--------------+--------------+--------------+--------------+--------------+--------------+--------------+--------------+--------------+--------------+--------------+--------------+--------------+----------+----------+---------------------------------------------------------------------------------------------------------------------------------------------------------+---------------------------------------+----------------------------------------+----------+---------------+\n",
            "|1                   |00       |1              |0           |0                 |2021   |P            |1       |227431.0          |0.0          |0.0           |444               |0         |0                |11158.0|0                 |0                         |0                |0           |0             |0.0                        |0.0                          |0.0                       |0.0                             |10000.0              |0.0                     |0.0                           |0       |0       |07         |0       |1                      |0                         |1           |0           |0           |0                |1                |0                |1             |0             |0             |1                   |0                   |0                   |0              |1              |0         |1         |0         |0                     |0                     |0                     |0                     |0                     |0                     |0                     |0                     |0                     |0                     |0                     |0                     |0                     |0                     |0                     |1                     |0                     |0                     |0                     |0                     |0                     |0                     |0                     |0                     |0                     |0                     |0                     |0                     |0                     |0                     |0                     |0                     |0                     |0                     |0                     |1           |0              |0                  |1                  |1                   |0                   |1                           |0                           |1             |0             |0             |1               |0               |0             |0             |0             |0             |0             |0             |1             |0             |0             |0             |0             |0             |0             |0             |0             |0             |0             |0             |0             |0             |0             |0             |0             |0             |0             |0             |0             |0             |0             |0             |0             |0             |0             |0         |1         |(114,[0,3,8,12,14,18,20,23,27,29,46,66,69,70,72,74,77,85,113],[227431.0,11158.0,10000.0,1.0,1.0,1.0,1.0,1.0,1.0,1.0,1.0,1.0,1.0,1.0,1.0,1.0,1.0,1.0,1.0])|[17.057499713278784,2.942500286721217] |[0.8528749856639392,0.14712501433606084]|0.0       |0              |\n",
            "|1                   |03       |1              |1           |0                 |2021   |P            |1       |206037.0          |0.0          |0.0           |431               |0         |0                |11158.0|0                 |0                         |0                |1           |0             |0.0                        |0.0                          |0.0                       |0.0                             |10000.0              |0.0                     |0.0                           |0       |0       |07         |0       |1                      |0                         |0           |0           |1           |0                |1                |0                |0             |1             |0             |1                   |0                   |0                   |0              |1              |0         |1         |0         |0                     |0                     |0                     |0                     |0                     |0                     |0                     |0                     |0                     |0                     |0                     |0                     |0                     |0                     |0                     |0                     |0                     |0                     |1                     |0                     |0                     |0                     |0                     |0                     |0                     |0                     |0                     |0                     |0                     |0                     |0                     |0                     |0                     |0                     |0                     |1           |0              |0                  |1                  |1                   |0                   |1                           |0                           |0             |1             |0             |1               |0               |0             |0             |0             |0             |0             |0             |1             |0             |0             |0             |0             |0             |0             |0             |0             |0             |0             |0             |0             |0             |0             |0             |0             |0             |0             |0             |0             |0             |0             |0             |0             |0             |0             |0         |1         |(114,[0,3,8,12,16,18,21,23,27,29,49,66,69,70,72,75,77,85,113],[206037.0,11158.0,10000.0,1.0,1.0,1.0,1.0,1.0,1.0,1.0,1.0,1.0,1.0,1.0,1.0,1.0,1.0,1.0,1.0])|[18.061788842526965,1.9382111574730287]|[0.9030894421263486,0.09691055787365147]|0.0       |0              |\n",
            "|1                   |03       |1              |1           |0                 |2021   |P            |1       |186401.0          |0.0          |0.0           |444               |0         |0                |11158.0|0                 |0                         |0                |1           |0             |0.0                        |0.0                          |0.0                       |0.0                             |10000.0              |0.0                     |0.0                           |0       |0       |07         |0       |1                      |0                         |0           |0           |1           |0                |1                |0                |0             |1             |0             |1                   |0                   |0                   |0              |1              |0         |1         |0         |0                     |0                     |0                     |0                     |0                     |0                     |0                     |0                     |0                     |0                     |0                     |0                     |0                     |0                     |0                     |1                     |0                     |0                     |0                     |0                     |0                     |0                     |0                     |0                     |0                     |0                     |0                     |0                     |0                     |0                     |0                     |0                     |0                     |0                     |0                     |1           |0              |0                  |1                  |1                   |0                   |1                           |0                           |0             |1             |0             |1               |0               |0             |0             |0             |0             |0             |0             |1             |0             |0             |0             |0             |0             |0             |0             |0             |0             |0             |0             |0             |0             |0             |0             |0             |0             |0             |0             |0             |0             |0             |0             |0             |0             |0             |0         |1         |(114,[0,3,8,12,16,18,21,23,27,29,46,66,69,70,72,75,77,85,113],[186401.0,11158.0,10000.0,1.0,1.0,1.0,1.0,1.0,1.0,1.0,1.0,1.0,1.0,1.0,1.0,1.0,1.0,1.0,1.0])|[17.918707039917912,2.081292960082082] |[0.8959353519958959,0.10406464800410414]|0.0       |0              |\n",
            "|1                   |00       |1              |0           |0                 |2021   |P            |1       |250702.0          |0.0          |0.0           |700               |0         |0                |11158.0|0                 |0                         |0                |0           |0             |0.0                        |0.0                          |0.0                       |0.0                             |10000.0              |0.0                     |0.0                           |0       |0       |07         |0       |1                      |0                         |1           |0           |0           |0                |1                |0                |1             |0             |0             |1                   |0                   |0                   |0              |1              |0         |1         |0         |1                     |0                     |0                     |0                     |0                     |0                     |0                     |0                     |0                     |0                     |0                     |0                     |0                     |0                     |0                     |0                     |0                     |0                     |0                     |0                     |0                     |0                     |0                     |0                     |0                     |0                     |0                     |0                     |0                     |0                     |0                     |0                     |0                     |0                     |0                     |1           |0              |0                  |1                  |1                   |0                   |1                           |0                           |1             |0             |0             |1               |0               |0             |0             |0             |0             |0             |0             |1             |0             |0             |0             |0             |0             |0             |0             |0             |0             |0             |0             |0             |0             |0             |0             |0             |0             |0             |0             |0             |0             |0             |0             |0             |0             |0             |0         |1         |(114,[0,3,8,12,14,18,20,23,27,29,31,66,69,70,72,74,77,85,113],[250702.0,11158.0,10000.0,1.0,1.0,1.0,1.0,1.0,1.0,1.0,1.0,1.0,1.0,1.0,1.0,1.0,1.0,1.0,1.0])|[17.09858551790081,2.901414482099191]  |[0.8549292758950404,0.14507072410495955]|0.0       |0              |\n",
            "|0                   |00       |0              |0           |0                 |2021   |P            |1       |150860.0          |0.0          |0.0           |700               |0         |0                |11158.0|0                 |0                         |0                |0           |0             |0.0                        |0.0                          |0.0                       |0.0                             |0.0                  |0.0                     |0.0                           |0       |0       |07         |0       |0                      |1                         |1           |0           |0           |1                |0                |0                |1             |0             |0             |1                   |0                   |0                   |0              |1              |0         |1         |0         |1                     |0                     |0                     |0                     |0                     |0                     |0                     |0                     |0                     |0                     |0                     |0                     |0                     |0                     |0                     |0                     |0                     |0                     |0                     |0                     |0                     |0                     |0                     |0                     |0                     |0                     |0                     |0                     |0                     |0                     |0                     |0                     |0                     |0                     |0                     |1           |0              |0                  |1                  |1                   |0                   |1                           |0                           |1             |0             |0             |1               |0               |0             |0             |0             |0             |0             |0             |1             |0             |0             |0             |0             |0             |0             |0             |0             |0             |0             |0             |0             |0             |0             |0             |0             |0             |0             |0             |0             |0             |0             |0             |0             |0             |0             |0         |1         |(114,[0,3,13,14,17,20,23,27,29,31,66,69,70,72,74,77,85,113],[150860.0,11158.0,1.0,1.0,1.0,1.0,1.0,1.0,1.0,1.0,1.0,1.0,1.0,1.0,1.0,1.0,1.0,1.0])          |[17.01415803394542,2.9858419660545796] |[0.8507079016972711,0.149292098302729]  |0.0       |0              |\n",
            "+--------------------+---------+---------------+------------+------------------+-------+-------------+--------+------------------+-------------+--------------+------------------+----------+-----------------+-------+------------------+--------------------------+-----------------+------------+--------------+---------------------------+-----------------------------+--------------------------+--------------------------------+---------------------+------------------------+------------------------------+--------+--------+-----------+--------+-----------------------+--------------------------+------------+------------+------------+-----------------+-----------------+-----------------+--------------+--------------+--------------+--------------------+--------------------+--------------------+---------------+---------------+----------+----------+----------+----------------------+----------------------+----------------------+----------------------+----------------------+----------------------+----------------------+----------------------+----------------------+----------------------+----------------------+----------------------+----------------------+----------------------+----------------------+----------------------+----------------------+----------------------+----------------------+----------------------+----------------------+----------------------+----------------------+----------------------+----------------------+----------------------+----------------------+----------------------+----------------------+----------------------+----------------------+----------------------+----------------------+----------------------+----------------------+------------+---------------+-------------------+-------------------+--------------------+--------------------+----------------------------+----------------------------+--------------+--------------+--------------+----------------+----------------+--------------+--------------+--------------+--------------+--------------+--------------+--------------+--------------+--------------+--------------+--------------+--------------+--------------+--------------+--------------+--------------+--------------+--------------+--------------+--------------+--------------+--------------+--------------+--------------+--------------+--------------+--------------+--------------+--------------+--------------+--------------+--------------+--------------+----------+----------+---------------------------------------------------------------------------------------------------------------------------------------------------------+---------------------------------------+----------------------------------------+----------+---------------+\n",
            "only showing top 5 rows\n",
            "\n"
          ]
        }
      ]
    },
    {
      "cell_type": "code",
      "source": [
        "res_df = pd.DataFrame(nums, columns=[\"Threshold\"])\n",
        "res_df[\"Acc\"] = acc\n",
        "res_df[\"F1\"] = f1\n",
        "res_df[\"Rec\"] = rec\n",
        "res_df[\"Prec\"] = prec\n",
        "res_df"
      ],
      "metadata": {
        "id": "-Fqy64pE4OvG",
        "colab": {
          "base_uri": "https://localhost:8080/",
          "height": 285
        },
        "outputId": "136a3f93-e84b-40af-cac3-7b3d6d5c7108"
      },
      "execution_count": 64,
      "outputs": [
        {
          "output_type": "execute_result",
          "data": {
            "text/plain": [
              "   Threshold       Acc        F1       Rec      Prec\n",
              "0       0.20  0.850309  0.679434  0.738063  0.629433\n",
              "1       0.25  0.850742  0.674254  0.718706  0.634980\n",
              "2       0.30  0.851840  0.669148  0.697091  0.643359\n",
              "3       0.35  0.860386  0.674654  0.673493  0.675819\n",
              "4       0.40  0.868031  0.673885  0.634389  0.718624\n",
              "5       0.45  0.876616  0.659490  0.555912  0.810505\n",
              "6       0.50  0.869552  0.592545  0.441316  0.901453"
            ],
            "text/html": [
              "\n",
              "\n",
              "  <div id=\"df-12fe32b1-59ce-4c1e-958d-96fe84e4d75b\">\n",
              "    <div class=\"colab-df-container\">\n",
              "      <div>\n",
              "<style scoped>\n",
              "    .dataframe tbody tr th:only-of-type {\n",
              "        vertical-align: middle;\n",
              "    }\n",
              "\n",
              "    .dataframe tbody tr th {\n",
              "        vertical-align: top;\n",
              "    }\n",
              "\n",
              "    .dataframe thead th {\n",
              "        text-align: right;\n",
              "    }\n",
              "</style>\n",
              "<table border=\"1\" class=\"dataframe\">\n",
              "  <thead>\n",
              "    <tr style=\"text-align: right;\">\n",
              "      <th></th>\n",
              "      <th>Threshold</th>\n",
              "      <th>Acc</th>\n",
              "      <th>F1</th>\n",
              "      <th>Rec</th>\n",
              "      <th>Prec</th>\n",
              "    </tr>\n",
              "  </thead>\n",
              "  <tbody>\n",
              "    <tr>\n",
              "      <th>0</th>\n",
              "      <td>0.20</td>\n",
              "      <td>0.850309</td>\n",
              "      <td>0.679434</td>\n",
              "      <td>0.738063</td>\n",
              "      <td>0.629433</td>\n",
              "    </tr>\n",
              "    <tr>\n",
              "      <th>1</th>\n",
              "      <td>0.25</td>\n",
              "      <td>0.850742</td>\n",
              "      <td>0.674254</td>\n",
              "      <td>0.718706</td>\n",
              "      <td>0.634980</td>\n",
              "    </tr>\n",
              "    <tr>\n",
              "      <th>2</th>\n",
              "      <td>0.30</td>\n",
              "      <td>0.851840</td>\n",
              "      <td>0.669148</td>\n",
              "      <td>0.697091</td>\n",
              "      <td>0.643359</td>\n",
              "    </tr>\n",
              "    <tr>\n",
              "      <th>3</th>\n",
              "      <td>0.35</td>\n",
              "      <td>0.860386</td>\n",
              "      <td>0.674654</td>\n",
              "      <td>0.673493</td>\n",
              "      <td>0.675819</td>\n",
              "    </tr>\n",
              "    <tr>\n",
              "      <th>4</th>\n",
              "      <td>0.40</td>\n",
              "      <td>0.868031</td>\n",
              "      <td>0.673885</td>\n",
              "      <td>0.634389</td>\n",
              "      <td>0.718624</td>\n",
              "    </tr>\n",
              "    <tr>\n",
              "      <th>5</th>\n",
              "      <td>0.45</td>\n",
              "      <td>0.876616</td>\n",
              "      <td>0.659490</td>\n",
              "      <td>0.555912</td>\n",
              "      <td>0.810505</td>\n",
              "    </tr>\n",
              "    <tr>\n",
              "      <th>6</th>\n",
              "      <td>0.50</td>\n",
              "      <td>0.869552</td>\n",
              "      <td>0.592545</td>\n",
              "      <td>0.441316</td>\n",
              "      <td>0.901453</td>\n",
              "    </tr>\n",
              "  </tbody>\n",
              "</table>\n",
              "</div>\n",
              "      <button class=\"colab-df-convert\" onclick=\"convertToInteractive('df-12fe32b1-59ce-4c1e-958d-96fe84e4d75b')\"\n",
              "              title=\"Convert this dataframe to an interactive table.\"\n",
              "              style=\"display:none;\">\n",
              "\n",
              "  <svg xmlns=\"http://www.w3.org/2000/svg\" height=\"24px\"viewBox=\"0 0 24 24\"\n",
              "       width=\"24px\">\n",
              "    <path d=\"M0 0h24v24H0V0z\" fill=\"none\"/>\n",
              "    <path d=\"M18.56 5.44l.94 2.06.94-2.06 2.06-.94-2.06-.94-.94-2.06-.94 2.06-2.06.94zm-11 1L8.5 8.5l.94-2.06 2.06-.94-2.06-.94L8.5 2.5l-.94 2.06-2.06.94zm10 10l.94 2.06.94-2.06 2.06-.94-2.06-.94-.94-2.06-.94 2.06-2.06.94z\"/><path d=\"M17.41 7.96l-1.37-1.37c-.4-.4-.92-.59-1.43-.59-.52 0-1.04.2-1.43.59L10.3 9.45l-7.72 7.72c-.78.78-.78 2.05 0 2.83L4 21.41c.39.39.9.59 1.41.59.51 0 1.02-.2 1.41-.59l7.78-7.78 2.81-2.81c.8-.78.8-2.07 0-2.86zM5.41 20L4 18.59l7.72-7.72 1.47 1.35L5.41 20z\"/>\n",
              "  </svg>\n",
              "      </button>\n",
              "\n",
              "\n",
              "\n",
              "    <div id=\"df-da21ecdc-f164-4949-8048-9e316d7880a5\">\n",
              "      <button class=\"colab-df-quickchart\" onclick=\"quickchart('df-da21ecdc-f164-4949-8048-9e316d7880a5')\"\n",
              "              title=\"Suggest charts.\"\n",
              "              style=\"display:none;\">\n",
              "\n",
              "<svg xmlns=\"http://www.w3.org/2000/svg\" height=\"24px\"viewBox=\"0 0 24 24\"\n",
              "     width=\"24px\">\n",
              "    <g>\n",
              "        <path d=\"M19 3H5c-1.1 0-2 .9-2 2v14c0 1.1.9 2 2 2h14c1.1 0 2-.9 2-2V5c0-1.1-.9-2-2-2zM9 17H7v-7h2v7zm4 0h-2V7h2v10zm4 0h-2v-4h2v4z\"/>\n",
              "    </g>\n",
              "</svg>\n",
              "      </button>\n",
              "    </div>\n",
              "\n",
              "<style>\n",
              "  .colab-df-quickchart {\n",
              "    background-color: #E8F0FE;\n",
              "    border: none;\n",
              "    border-radius: 50%;\n",
              "    cursor: pointer;\n",
              "    display: none;\n",
              "    fill: #1967D2;\n",
              "    height: 32px;\n",
              "    padding: 0 0 0 0;\n",
              "    width: 32px;\n",
              "  }\n",
              "\n",
              "  .colab-df-quickchart:hover {\n",
              "    background-color: #E2EBFA;\n",
              "    box-shadow: 0px 1px 2px rgba(60, 64, 67, 0.3), 0px 1px 3px 1px rgba(60, 64, 67, 0.15);\n",
              "    fill: #174EA6;\n",
              "  }\n",
              "\n",
              "  [theme=dark] .colab-df-quickchart {\n",
              "    background-color: #3B4455;\n",
              "    fill: #D2E3FC;\n",
              "  }\n",
              "\n",
              "  [theme=dark] .colab-df-quickchart:hover {\n",
              "    background-color: #434B5C;\n",
              "    box-shadow: 0px 1px 3px 1px rgba(0, 0, 0, 0.15);\n",
              "    filter: drop-shadow(0px 1px 2px rgba(0, 0, 0, 0.3));\n",
              "    fill: #FFFFFF;\n",
              "  }\n",
              "</style>\n",
              "\n",
              "    <script>\n",
              "      async function quickchart(key) {\n",
              "        const containerElement = document.querySelector('#' + key);\n",
              "        const charts = await google.colab.kernel.invokeFunction(\n",
              "            'suggestCharts', [key], {});\n",
              "      }\n",
              "    </script>\n",
              "\n",
              "      <script>\n",
              "\n",
              "function displayQuickchartButton(domScope) {\n",
              "  let quickchartButtonEl =\n",
              "    domScope.querySelector('#df-da21ecdc-f164-4949-8048-9e316d7880a5 button.colab-df-quickchart');\n",
              "  quickchartButtonEl.style.display =\n",
              "    google.colab.kernel.accessAllowed ? 'block' : 'none';\n",
              "}\n",
              "\n",
              "        displayQuickchartButton(document);\n",
              "      </script>\n",
              "      <style>\n",
              "    .colab-df-container {\n",
              "      display:flex;\n",
              "      flex-wrap:wrap;\n",
              "      gap: 12px;\n",
              "    }\n",
              "\n",
              "    .colab-df-convert {\n",
              "      background-color: #E8F0FE;\n",
              "      border: none;\n",
              "      border-radius: 50%;\n",
              "      cursor: pointer;\n",
              "      display: none;\n",
              "      fill: #1967D2;\n",
              "      height: 32px;\n",
              "      padding: 0 0 0 0;\n",
              "      width: 32px;\n",
              "    }\n",
              "\n",
              "    .colab-df-convert:hover {\n",
              "      background-color: #E2EBFA;\n",
              "      box-shadow: 0px 1px 2px rgba(60, 64, 67, 0.3), 0px 1px 3px 1px rgba(60, 64, 67, 0.15);\n",
              "      fill: #174EA6;\n",
              "    }\n",
              "\n",
              "    [theme=dark] .colab-df-convert {\n",
              "      background-color: #3B4455;\n",
              "      fill: #D2E3FC;\n",
              "    }\n",
              "\n",
              "    [theme=dark] .colab-df-convert:hover {\n",
              "      background-color: #434B5C;\n",
              "      box-shadow: 0px 1px 3px 1px rgba(0, 0, 0, 0.15);\n",
              "      filter: drop-shadow(0px 1px 2px rgba(0, 0, 0, 0.3));\n",
              "      fill: #FFFFFF;\n",
              "    }\n",
              "  </style>\n",
              "\n",
              "      <script>\n",
              "        const buttonEl =\n",
              "          document.querySelector('#df-12fe32b1-59ce-4c1e-958d-96fe84e4d75b button.colab-df-convert');\n",
              "        buttonEl.style.display =\n",
              "          google.colab.kernel.accessAllowed ? 'block' : 'none';\n",
              "\n",
              "        async function convertToInteractive(key) {\n",
              "          const element = document.querySelector('#df-12fe32b1-59ce-4c1e-958d-96fe84e4d75b');\n",
              "          const dataTable =\n",
              "            await google.colab.kernel.invokeFunction('convertToInteractive',\n",
              "                                                     [key], {});\n",
              "          if (!dataTable) return;\n",
              "\n",
              "          const docLinkHtml = 'Like what you see? Visit the ' +\n",
              "            '<a target=\"_blank\" href=https://colab.research.google.com/notebooks/data_table.ipynb>data table notebook</a>'\n",
              "            + ' to learn more about interactive tables.';\n",
              "          element.innerHTML = '';\n",
              "          dataTable['output_type'] = 'display_data';\n",
              "          await google.colab.output.renderOutput(dataTable, element);\n",
              "          const docLink = document.createElement('div');\n",
              "          docLink.innerHTML = docLinkHtml;\n",
              "          element.appendChild(docLink);\n",
              "        }\n",
              "      </script>\n",
              "    </div>\n",
              "  </div>\n"
            ]
          },
          "metadata": {},
          "execution_count": 64
        }
      ]
    },
    {
      "cell_type": "code",
      "source": [
        "cm = confusion_matrix(actual, pred)\n",
        "tn, fp, fn, tp = cm.ravel()"
      ],
      "metadata": {
        "id": "AKmzRl_C1dmP"
      },
      "execution_count": 65,
      "outputs": []
    },
    {
      "cell_type": "code",
      "source": [
        "print(\"Accuracy: \", accuracy_score(actual, pred))\n",
        "print(\"F1 Score: \", f1_score(actual, pred))\n",
        "print(\"Precision: \", precision_score(actual, pred))\n",
        "print(\"Recall: \", recall_score(actual, pred))"
      ],
      "metadata": {
        "id": "6mxKIv8O5Dba",
        "colab": {
          "base_uri": "https://localhost:8080/"
        },
        "outputId": "768f3836-2634-4700-d809-faf0a8cd0fca"
      },
      "execution_count": 89,
      "outputs": [
        {
          "output_type": "stream",
          "name": "stdout",
          "text": [
            "Accuracy:  0.8747351591499655\n",
            "F1 Score:  0.6130537576597256\n",
            "Precision:  0.9120928706210518\n",
            "Recall:  0.46168540609005304\n"
          ]
        }
      ]
    },
    {
      "cell_type": "code",
      "source": [
        "print(\"True Negatives: \", tn)\n",
        "print(\"False Positives: \", fp)\n",
        "print(\"False Negatives: \", fn)\n",
        "print(\"True Positives: \", tp)"
      ],
      "metadata": {
        "id": "nwNW5M9u2m-V",
        "colab": {
          "base_uri": "https://localhost:8080/"
        },
        "outputId": "a0fe774d-6de2-43a4-ebba-98f0448e686d"
      },
      "execution_count": 66,
      "outputs": [
        {
          "output_type": "stream",
          "name": "stdout",
          "text": [
            "True Negatives:  694357\n",
            "False Positives:  9294\n",
            "False Negatives:  107626\n",
            "True Positives:  85016\n"
          ]
        }
      ]
    },
    {
      "cell_type": "code",
      "source": [
        "disp = ConfusionMatrixDisplay(confusion_matrix=cm)\n",
        "disp.plot()\n",
        "plt.show()"
      ],
      "metadata": {
        "colab": {
          "base_uri": "https://localhost:8080/",
          "height": 449
        },
        "id": "Tlcperik4Gw0",
        "outputId": "b7775083-a06c-4dff-c852-699f1df6eebf"
      },
      "execution_count": 67,
      "outputs": [
        {
          "output_type": "display_data",
          "data": {
            "text/plain": [
              "<Figure size 640x480 with 2 Axes>"
            ],
            "image/png": "[encoded data removed]"
          },
          "metadata": {}
        }
      ]
    },
    {
      "cell_type": "code",
      "source": [
        "rfModel.featureImportances"
      ],
      "metadata": {
        "colab": {
          "base_uri": "https://localhost:8080/"
        },
        "id": "aBPpSkckU4_B",
        "outputId": "b35256c4-719f-46ea-c716-cc7dabcd5581"
      },
      "execution_count": 107,
      "outputs": [
        {
          "output_type": "execute_result",
          "data": {
            "text/plain": [
              "SparseVector(111, {0: 0.0123, 1: 0.0, 3: 0.0082, 11: 0.0, 12: 0.0002, 13: 0.0055, 14: 0.0, 15: 0.0273, 17: 0.0, 18: 0.0, 19: 0.0, 20: 0.0053, 22: 0.0341, 23: 0.0719, 25: 0.0, 26: 0.0, 28: 0.019, 29: 0.0123, 30: 0.0001, 31: 0.0001, 32: 0.0003, 33: 0.0015, 41: 0.1247, 42: 0.0003, 43: 0.0005, 44: 0.0004, 48: 0.0112, 49: 0.0075, 51: 0.0145, 53: 0.028, 55: 0.0, 57: 0.0769, 58: 0.048, 60: 0.0002, 68: 0.003, 69: 0.0015, 70: 0.1076, 71: 0.2618, 73: 0.0, 75: 0.0, 76: 0.0014, 77: 0.061, 79: 0.0001, 80: 0.0013, 82: 0.0, 84: 0.0, 86: 0.0, 88: 0.0, 91: 0.0001, 92: 0.0, 93: 0.001, 94: 0.0011, 96: 0.0, 97: 0.0353, 98: 0.0, 99: 0.0, 101: 0.0, 102: 0.01, 104: 0.0, 106: 0.0042})"
            ]
          },
          "metadata": {},
          "execution_count": 107
        }
      ]
    },
    {
      "cell_type": "code",
      "source": [
        "feat_imp = rfModel.featureImportances"
      ],
      "metadata": {
        "id": "CM_GrHvQ6I-C"
      },
      "execution_count": 68,
      "outputs": []
    },
    {
      "cell_type": "code",
      "source": [
        "feat_imp = [c for c in feat_imp]"
      ],
      "metadata": {
        "id": "yRbnKkjwNxEC"
      },
      "execution_count": 69,
      "outputs": []
    },
    {
      "cell_type": "code",
      "source": [
        "feat_imp"
      ],
      "metadata": {
        "id": "DvKaLGuuSDWb",
        "colab": {
          "base_uri": "https://localhost:8080/"
        },
        "outputId": "353a7cd6-8ec4-4e44-945a-420fd955c3e4"
      },
      "execution_count": 70,
      "outputs": [
        {
          "output_type": "execute_result",
          "data": {
            "text/plain": [
              "[0.004221335908430208,\n",
              " 1.92444780381726e-05,\n",
              " 0.0,\n",
              " 0.007154754029112155,\n",
              " 0.0,\n",
              " 0.0,\n",
              " 0.0,\n",
              " 0.0,\n",
              " 0.006099127337668038,\n",
              " 0.00470120560496752,\n",
              " 1.519726546166712e-06,\n",
              " 0.2614888539090518,\n",
              " 1.0026498089081593e-06,\n",
              " 3.151101642594829e-05,\n",
              " 0.006775074408209293,\n",
              " 0.0,\n",
              " 0.0067658314595279295,\n",
              " 6.9038312793140234e-06,\n",
              " 0.0038798414787259163,\n",
              " 0.0,\n",
              " 0.032115402561955206,\n",
              " 0.003154137085262064,\n",
              " 0.0,\n",
              " 1.3191620626118276e-05,\n",
              " 2.3311904110134105e-06,\n",
              " 0.0,\n",
              " 0.002465865700251756,\n",
              " 0.0012230863491762662,\n",
              " 0.0,\n",
              " 0.0,\n",
              " 0.0,\n",
              " 0.0030498446483451236,\n",
              " 0.0,\n",
              " 0.0,\n",
              " 0.0,\n",
              " 0.0,\n",
              " 0.0,\n",
              " 0.0,\n",
              " 0.0,\n",
              " 0.05323293163761855,\n",
              " 0.0007398838366603348,\n",
              " 0.0,\n",
              " 0.0001248165915181304,\n",
              " 0.0,\n",
              " 0.0,\n",
              " 1.6039998765502114e-06,\n",
              " 0.0022073750388322804,\n",
              " 0.004765964845868723,\n",
              " 0.0,\n",
              " 0.0003006824368837665,\n",
              " 0.0,\n",
              " 0.00045088222120598116,\n",
              " 0.0,\n",
              " 7.339967714393225e-05,\n",
              " 0.0,\n",
              " 0.014114329377707315,\n",
              " 0.006286237584914213,\n",
              " 0.0,\n",
              " 0.003210704709898041,\n",
              " 0.0,\n",
              " 0.0,\n",
              " 0.0,\n",
              " 0.0,\n",
              " 0.0,\n",
              " 0.0,\n",
              " 0.0,\n",
              " 0.00010103130584529527,\n",
              " 0.00045243791486939794,\n",
              " 0.08321717972401961,\n",
              " 0.06383081078047524,\n",
              " 0.0,\n",
              " 0.0,\n",
              " 4.0003570633616034e-07,\n",
              " 3.742959743614221e-07,\n",
              " 0.010628264809553405,\n",
              " 0.004896146741922836,\n",
              " 0.0,\n",
              " 2.4316321024016214e-06,\n",
              " 8.567327062988438e-05,\n",
              " 0.0,\n",
              " 0.0,\n",
              " 0.00017463730610249234,\n",
              " 1.1626444254052311e-05,\n",
              " 0.0,\n",
              " 0.0,\n",
              " 4.241571546008971e-07,\n",
              " 1.7200780555237946e-06,\n",
              " 0.0,\n",
              " 1.0256660204974387e-06,\n",
              " 0.0,\n",
              " 0.0,\n",
              " 0.0,\n",
              " 1.7303680089899344e-06,\n",
              " 5.302349214961129e-07,\n",
              " 0.0027578513295950903,\n",
              " 0.00034525621021126696,\n",
              " 0.0,\n",
              " 8.358900565586321e-07,\n",
              " 0.017737667476945152,\n",
              " 0.00040318125285321906,\n",
              " 2.4192313095547113e-06,\n",
              " 0.0,\n",
              " 0.0,\n",
              " 0.0069472051748187685,\n",
              " 0.0,\n",
              " 1.5517041158475446e-05,\n",
              " 0.0,\n",
              " 0.00030306876848605494,\n",
              " 8.864468297967021e-06,\n",
              " 2.1987399699018404e-07,\n",
              " 0.0,\n",
              " 0.0,\n",
              " 0.15195618832640057,\n",
              " 0.22743640323830755]"
            ]
          },
          "metadata": {},
          "execution_count": 70
        }
      ]
    },
    {
      "cell_type": "code",
      "source": [
        "features_imp_pd = (\n",
        "     pd.DataFrame(\n",
        "       rfModel.featureImportances.toArray(),\n",
        "       index=features_list,\n",
        "       columns=['importance'])\n",
        ")"
      ],
      "metadata": {
        "id": "RYoeAVHvWgRV"
      },
      "execution_count": 71,
      "outputs": []
    },
    {
      "cell_type": "code",
      "source": [
        "features_imp_pd.sort_values(by=['importance'],ascending=False)\n"
      ],
      "metadata": {
        "colab": {
          "base_uri": "https://localhost:8080/",
          "height": 677
        },
        "id": "aI0q9S2nadtg",
        "outputId": "4c237300-69b7-4fb3-fceb-bd7349220932"
      },
      "execution_count": 72,
      "outputs": [
        {
          "output_type": "execute_result",
          "data": {
            "text/plain": [
              "                                  importance\n",
              "DiffPmt1                            0.261489\n",
              "LatePmt1_0                          0.227436\n",
              "LatePmt1_1                          0.151956\n",
              "PastTaxSaleStatus_Y                 0.083217\n",
              "PastTaxSaleStatus_N                 0.063831\n",
              "...                                      ...\n",
              "CondemnationStatus_0                0.000000\n",
              "CondemnationStatus_1                0.000000\n",
              "DisabledPersonVetExemptionAmount    0.000000\n",
              "DisabledVetExemptionAmount          0.000000\n",
              "LastPaymentSource1_477              0.000000\n",
              "\n",
              "[114 rows x 1 columns]"
            ],
            "text/html": [
              "\n",
              "\n",
              "  <div id=\"df-d7cbee00-40dc-48ab-87a0-3b4542a4da55\">\n",
              "    <div class=\"colab-df-container\">\n",
              "      <div>\n",
              "<style scoped>\n",
              "    .dataframe tbody tr th:only-of-type {\n",
              "        vertical-align: middle;\n",
              "    }\n",
              "\n",
              "    .dataframe tbody tr th {\n",
              "        vertical-align: top;\n",
              "    }\n",
              "\n",
              "    .dataframe thead th {\n",
              "        text-align: right;\n",
              "    }\n",
              "</style>\n",
              "<table border=\"1\" class=\"dataframe\">\n",
              "  <thead>\n",
              "    <tr style=\"text-align: right;\">\n",
              "      <th></th>\n",
              "      <th>importance</th>\n",
              "    </tr>\n",
              "  </thead>\n",
              "  <tbody>\n",
              "    <tr>\n",
              "      <th>DiffPmt1</th>\n",
              "      <td>0.261489</td>\n",
              "    </tr>\n",
              "    <tr>\n",
              "      <th>LatePmt1_0</th>\n",
              "      <td>0.227436</td>\n",
              "    </tr>\n",
              "    <tr>\n",
              "      <th>LatePmt1_1</th>\n",
              "      <td>0.151956</td>\n",
              "    </tr>\n",
              "    <tr>\n",
              "      <th>PastTaxSaleStatus_Y</th>\n",
              "      <td>0.083217</td>\n",
              "    </tr>\n",
              "    <tr>\n",
              "      <th>PastTaxSaleStatus_N</th>\n",
              "      <td>0.063831</td>\n",
              "    </tr>\n",
              "    <tr>\n",
              "      <th>...</th>\n",
              "      <td>...</td>\n",
              "    </tr>\n",
              "    <tr>\n",
              "      <th>CondemnationStatus_0</th>\n",
              "      <td>0.000000</td>\n",
              "    </tr>\n",
              "    <tr>\n",
              "      <th>CondemnationStatus_1</th>\n",
              "      <td>0.000000</td>\n",
              "    </tr>\n",
              "    <tr>\n",
              "      <th>DisabledPersonVetExemptionAmount</th>\n",
              "      <td>0.000000</td>\n",
              "    </tr>\n",
              "    <tr>\n",
              "      <th>DisabledVetExemptionAmount</th>\n",
              "      <td>0.000000</td>\n",
              "    </tr>\n",
              "    <tr>\n",
              "      <th>LastPaymentSource1_477</th>\n",
              "      <td>0.000000</td>\n",
              "    </tr>\n",
              "  </tbody>\n",
              "</table>\n",
              "<p>114 rows × 1 columns</p>\n",
              "</div>\n",
              "      <button class=\"colab-df-convert\" onclick=\"convertToInteractive('df-d7cbee00-40dc-48ab-87a0-3b4542a4da55')\"\n",
              "              title=\"Convert this dataframe to an interactive table.\"\n",
              "              style=\"display:none;\">\n",
              "\n",
              "  <svg xmlns=\"http://www.w3.org/2000/svg\" height=\"24px\"viewBox=\"0 0 24 24\"\n",
              "       width=\"24px\">\n",
              "    <path d=\"M0 0h24v24H0V0z\" fill=\"none\"/>\n",
              "    <path d=\"M18.56 5.44l.94 2.06.94-2.06 2.06-.94-2.06-.94-.94-2.06-.94 2.06-2.06.94zm-11 1L8.5 8.5l.94-2.06 2.06-.94-2.06-.94L8.5 2.5l-.94 2.06-2.06.94zm10 10l.94 2.06.94-2.06 2.06-.94-2.06-.94-.94-2.06-.94 2.06-2.06.94z\"/><path d=\"M17.41 7.96l-1.37-1.37c-.4-.4-.92-.59-1.43-.59-.52 0-1.04.2-1.43.59L10.3 9.45l-7.72 7.72c-.78.78-.78 2.05 0 2.83L4 21.41c.39.39.9.59 1.41.59.51 0 1.02-.2 1.41-.59l7.78-7.78 2.81-2.81c.8-.78.8-2.07 0-2.86zM5.41 20L4 18.59l7.72-7.72 1.47 1.35L5.41 20z\"/>\n",
              "  </svg>\n",
              "      </button>\n",
              "\n",
              "\n",
              "\n",
              "    <div id=\"df-af2e5ae3-ac2e-41e3-b6eb-2168cd8fc495\">\n",
              "      <button class=\"colab-df-quickchart\" onclick=\"quickchart('df-af2e5ae3-ac2e-41e3-b6eb-2168cd8fc495')\"\n",
              "              title=\"Suggest charts.\"\n",
              "              style=\"display:none;\">\n",
              "\n",
              "<svg xmlns=\"http://www.w3.org/2000/svg\" height=\"24px\"viewBox=\"0 0 24 24\"\n",
              "     width=\"24px\">\n",
              "    <g>\n",
              "        <path d=\"M19 3H5c-1.1 0-2 .9-2 2v14c0 1.1.9 2 2 2h14c1.1 0 2-.9 2-2V5c0-1.1-.9-2-2-2zM9 17H7v-7h2v7zm4 0h-2V7h2v10zm4 0h-2v-4h2v4z\"/>\n",
              "    </g>\n",
              "</svg>\n",
              "      </button>\n",
              "    </div>\n",
              "\n",
              "<style>\n",
              "  .colab-df-quickchart {\n",
              "    background-color: #E8F0FE;\n",
              "    border: none;\n",
              "    border-radius: 50%;\n",
              "    cursor: pointer;\n",
              "    display: none;\n",
              "    fill: #1967D2;\n",
              "    height: 32px;\n",
              "    padding: 0 0 0 0;\n",
              "    width: 32px;\n",
              "  }\n",
              "\n",
              "  .colab-df-quickchart:hover {\n",
              "    background-color: #E2EBFA;\n",
              "    box-shadow: 0px 1px 2px rgba(60, 64, 67, 0.3), 0px 1px 3px 1px rgba(60, 64, 67, 0.15);\n",
              "    fill: #174EA6;\n",
              "  }\n",
              "\n",
              "  [theme=dark] .colab-df-quickchart {\n",
              "    background-color: #3B4455;\n",
              "    fill: #D2E3FC;\n",
              "  }\n",
              "\n",
              "  [theme=dark] .colab-df-quickchart:hover {\n",
              "    background-color: #434B5C;\n",
              "    box-shadow: 0px 1px 3px 1px rgba(0, 0, 0, 0.15);\n",
              "    filter: drop-shadow(0px 1px 2px rgba(0, 0, 0, 0.3));\n",
              "    fill: #FFFFFF;\n",
              "  }\n",
              "</style>\n",
              "\n",
              "    <script>\n",
              "      async function quickchart(key) {\n",
              "        const containerElement = document.querySelector('#' + key);\n",
              "        const charts = await google.colab.kernel.invokeFunction(\n",
              "            'suggestCharts', [key], {});\n",
              "      }\n",
              "    </script>\n",
              "\n",
              "      <script>\n",
              "\n",
              "function displayQuickchartButton(domScope) {\n",
              "  let quickchartButtonEl =\n",
              "    domScope.querySelector('#df-af2e5ae3-ac2e-41e3-b6eb-2168cd8fc495 button.colab-df-quickchart');\n",
              "  quickchartButtonEl.style.display =\n",
              "    google.colab.kernel.accessAllowed ? 'block' : 'none';\n",
              "}\n",
              "\n",
              "        displayQuickchartButton(document);\n",
              "      </script>\n",
              "      <style>\n",
              "    .colab-df-container {\n",
              "      display:flex;\n",
              "      flex-wrap:wrap;\n",
              "      gap: 12px;\n",
              "    }\n",
              "\n",
              "    .colab-df-convert {\n",
              "      background-color: #E8F0FE;\n",
              "      border: none;\n",
              "      border-radius: 50%;\n",
              "      cursor: pointer;\n",
              "      display: none;\n",
              "      fill: #1967D2;\n",
              "      height: 32px;\n",
              "      padding: 0 0 0 0;\n",
              "      width: 32px;\n",
              "    }\n",
              "\n",
              "    .colab-df-convert:hover {\n",
              "      background-color: #E2EBFA;\n",
              "      box-shadow: 0px 1px 2px rgba(60, 64, 67, 0.3), 0px 1px 3px 1px rgba(60, 64, 67, 0.15);\n",
              "      fill: #174EA6;\n",
              "    }\n",
              "\n",
              "    [theme=dark] .colab-df-convert {\n",
              "      background-color: #3B4455;\n",
              "      fill: #D2E3FC;\n",
              "    }\n",
              "\n",
              "    [theme=dark] .colab-df-convert:hover {\n",
              "      background-color: #434B5C;\n",
              "      box-shadow: 0px 1px 3px 1px rgba(0, 0, 0, 0.15);\n",
              "      filter: drop-shadow(0px 1px 2px rgba(0, 0, 0, 0.3));\n",
              "      fill: #FFFFFF;\n",
              "    }\n",
              "  </style>\n",
              "\n",
              "      <script>\n",
              "        const buttonEl =\n",
              "          document.querySelector('#df-d7cbee00-40dc-48ab-87a0-3b4542a4da55 button.colab-df-convert');\n",
              "        buttonEl.style.display =\n",
              "          google.colab.kernel.accessAllowed ? 'block' : 'none';\n",
              "\n",
              "        async function convertToInteractive(key) {\n",
              "          const element = document.querySelector('#df-d7cbee00-40dc-48ab-87a0-3b4542a4da55');\n",
              "          const dataTable =\n",
              "            await google.colab.kernel.invokeFunction('convertToInteractive',\n",
              "                                                     [key], {});\n",
              "          if (!dataTable) return;\n",
              "\n",
              "          const docLinkHtml = 'Like what you see? Visit the ' +\n",
              "            '<a target=\"_blank\" href=https://colab.research.google.com/notebooks/data_table.ipynb>data table notebook</a>'\n",
              "            + ' to learn more about interactive tables.';\n",
              "          element.innerHTML = '';\n",
              "          dataTable['output_type'] = 'display_data';\n",
              "          await google.colab.output.renderOutput(dataTable, element);\n",
              "          const docLink = document.createElement('div');\n",
              "          docLink.innerHTML = docLinkHtml;\n",
              "          element.appendChild(docLink);\n",
              "        }\n",
              "      </script>\n",
              "    </div>\n",
              "  </div>\n"
            ]
          },
          "metadata": {},
          "execution_count": 72
        }
      ]
    },
    {
      "cell_type": "markdown",
      "source": [
        "# 3 year window model"
      ],
      "metadata": {
        "id": "s8YsjXSIZ_Nk"
      }
    },
    {
      "cell_type": "code",
      "source": [
        "train3y = train3year.persist()\n",
        "train3y.count()"
      ],
      "metadata": {
        "colab": {
          "base_uri": "https://localhost:8080/"
        },
        "id": "kHH8eff9abD1",
        "outputId": "cb89099d-6fb3-483b-ea46-e325d237914e"
      },
      "execution_count": 79,
      "outputs": [
        {
          "output_type": "execute_result",
          "data": {
            "text/plain": [
              "2537769"
            ]
          },
          "metadata": {},
          "execution_count": 79
        }
      ]
    },
    {
      "cell_type": "code",
      "source": [
        "rf3 = RandomForestClassifier(featuresCol = 'features', labelCol = 'LatePmt2')\n",
        "rfModel3 = rf3.fit(train3y)\n",
        "predictions3 = rfModel3.transform(test2020)"
      ],
      "metadata": {
        "id": "dYmBtUCraGi9"
      },
      "execution_count": 80,
      "outputs": []
    },
    {
      "cell_type": "code",
      "source": [
        "actual3y = test2020.select(test2020.LatePmt2).toPandas()['LatePmt2']"
      ],
      "metadata": {
        "id": "ZG1uT0brajVh"
      },
      "execution_count": 81,
      "outputs": []
    },
    {
      "cell_type": "code",
      "source": [
        "element3y=f.udf(lambda v:float(v[1]),FloatType())\n",
        "nums3y = [0.2, 0.25, 0.3, 0.35, 0.4,0.45, 0.5]\n",
        "acc3y = []\n",
        "f13y = []\n",
        "rec3y = []\n",
        "prec3y = []\n",
        "for num3y in nums3y:\n",
        "  print(num3y)\n",
        "  predictions23y = predictions3.withColumn(\"prob_prediction\", when(element3y(\"probability\")>num3y, 1).otherwise(0))\n",
        "  pred3y = predictions23y.select(predictions23y.prob_prediction).toPandas()[\"prob_prediction\"]\n",
        "  pred3y = pred3y.tolist()\n",
        "  acc3y.append(accuracy_score(actual3y, pred3y))\n",
        "  f13y.append(f1_score(actual3y, pred3y))\n",
        "  rec3y.append(recall_score(actual3y, pred3y))\n",
        "  prec3y.append(precision_score(actual3y, pred3y))"
      ],
      "metadata": {
        "colab": {
          "base_uri": "https://localhost:8080/"
        },
        "id": "LyeabuqUal0H",
        "outputId": "4d3e960f-2157-4ed1-c7f1-0b218ab17d83"
      },
      "execution_count": 82,
      "outputs": [
        {
          "output_type": "stream",
          "name": "stdout",
          "text": [
            "0.2\n",
            "0.25\n",
            "0.3\n",
            "0.35\n",
            "0.4\n",
            "0.45\n",
            "0.5\n"
          ]
        }
      ]
    },
    {
      "cell_type": "code",
      "source": [
        "res_df3y = pd.DataFrame(nums3y, columns=[\"Threshold\"])\n",
        "res_df3y[\"Acc\"] = acc3y\n",
        "res_df3y[\"F1\"] = f13y\n",
        "res_df3y[\"Rec\"] = rec3y\n",
        "res_df3y[\"Prec\"] = prec3y\n",
        "res_df3y"
      ],
      "metadata": {
        "colab": {
          "base_uri": "https://localhost:8080/",
          "height": 269
        },
        "id": "mxciAh3ibeOl",
        "outputId": "6dee7dec-c236-4d16-f60d-911b28fdf29f"
      },
      "execution_count": 83,
      "outputs": [
        {
          "output_type": "execute_result",
          "data": {
            "text/plain": [
              "   Threshold       Acc        F1       Rec      Prec\n",
              "0       0.20  0.736428  0.495531  0.748927  0.370256\n",
              "1       0.25  0.765419  0.513782  0.717041  0.400308\n",
              "2       0.30  0.771132  0.514847  0.702568  0.406289\n",
              "3       0.35  0.858693  0.564749  0.530375  0.603887\n",
              "4       0.40  0.867261  0.550571  0.470384  0.663715\n",
              "5       0.45  0.879518  0.515084  0.370201  0.846292\n",
              "6       0.50  0.864748  0.366077  0.225935  0.964061"
            ],
            "text/html": [
              "\n",
              "\n",
              "  <div id=\"df-bf90114b-e037-4292-9c02-76695269a1e7\">\n",
              "    <div class=\"colab-df-container\">\n",
              "      <div>\n",
              "<style scoped>\n",
              "    .dataframe tbody tr th:only-of-type {\n",
              "        vertical-align: middle;\n",
              "    }\n",
              "\n",
              "    .dataframe tbody tr th {\n",
              "        vertical-align: top;\n",
              "    }\n",
              "\n",
              "    .dataframe thead th {\n",
              "        text-align: right;\n",
              "    }\n",
              "</style>\n",
              "<table border=\"1\" class=\"dataframe\">\n",
              "  <thead>\n",
              "    <tr style=\"text-align: right;\">\n",
              "      <th></th>\n",
              "      <th>Threshold</th>\n",
              "      <th>Acc</th>\n",
              "      <th>F1</th>\n",
              "      <th>Rec</th>\n",
              "      <th>Prec</th>\n",
              "    </tr>\n",
              "  </thead>\n",
              "  <tbody>\n",
              "    <tr>\n",
              "      <th>0</th>\n",
              "      <td>0.20</td>\n",
              "      <td>0.736428</td>\n",
              "      <td>0.495531</td>\n",
              "      <td>0.748927</td>\n",
              "      <td>0.370256</td>\n",
              "    </tr>\n",
              "    <tr>\n",
              "      <th>1</th>\n",
              "      <td>0.25</td>\n",
              "      <td>0.765419</td>\n",
              "      <td>0.513782</td>\n",
              "      <td>0.717041</td>\n",
              "      <td>0.400308</td>\n",
              "    </tr>\n",
              "    <tr>\n",
              "      <th>2</th>\n",
              "      <td>0.30</td>\n",
              "      <td>0.771132</td>\n",
              "      <td>0.514847</td>\n",
              "      <td>0.702568</td>\n",
              "      <td>0.406289</td>\n",
              "    </tr>\n",
              "    <tr>\n",
              "      <th>3</th>\n",
              "      <td>0.35</td>\n",
              "      <td>0.858693</td>\n",
              "      <td>0.564749</td>\n",
              "      <td>0.530375</td>\n",
              "      <td>0.603887</td>\n",
              "    </tr>\n",
              "    <tr>\n",
              "      <th>4</th>\n",
              "      <td>0.40</td>\n",
              "      <td>0.867261</td>\n",
              "      <td>0.550571</td>\n",
              "      <td>0.470384</td>\n",
              "      <td>0.663715</td>\n",
              "    </tr>\n",
              "    <tr>\n",
              "      <th>5</th>\n",
              "      <td>0.45</td>\n",
              "      <td>0.879518</td>\n",
              "      <td>0.515084</td>\n",
              "      <td>0.370201</td>\n",
              "      <td>0.846292</td>\n",
              "    </tr>\n",
              "    <tr>\n",
              "      <th>6</th>\n",
              "      <td>0.50</td>\n",
              "      <td>0.864748</td>\n",
              "      <td>0.366077</td>\n",
              "      <td>0.225935</td>\n",
              "      <td>0.964061</td>\n",
              "    </tr>\n",
              "  </tbody>\n",
              "</table>\n",
              "</div>\n",
              "      <button class=\"colab-df-convert\" onclick=\"convertToInteractive('df-bf90114b-e037-4292-9c02-76695269a1e7')\"\n",
              "              title=\"Convert this dataframe to an interactive table.\"\n",
              "              style=\"display:none;\">\n",
              "\n",
              "  <svg xmlns=\"http://www.w3.org/2000/svg\" height=\"24px\"viewBox=\"0 0 24 24\"\n",
              "       width=\"24px\">\n",
              "    <path d=\"M0 0h24v24H0V0z\" fill=\"none\"/>\n",
              "    <path d=\"M18.56 5.44l.94 2.06.94-2.06 2.06-.94-2.06-.94-.94-2.06-.94 2.06-2.06.94zm-11 1L8.5 8.5l.94-2.06 2.06-.94-2.06-.94L8.5 2.5l-.94 2.06-2.06.94zm10 10l.94 2.06.94-2.06 2.06-.94-2.06-.94-.94-2.06-.94 2.06-2.06.94z\"/><path d=\"M17.41 7.96l-1.37-1.37c-.4-.4-.92-.59-1.43-.59-.52 0-1.04.2-1.43.59L10.3 9.45l-7.72 7.72c-.78.78-.78 2.05 0 2.83L4 21.41c.39.39.9.59 1.41.59.51 0 1.02-.2 1.41-.59l7.78-7.78 2.81-2.81c.8-.78.8-2.07 0-2.86zM5.41 20L4 18.59l7.72-7.72 1.47 1.35L5.41 20z\"/>\n",
              "  </svg>\n",
              "      </button>\n",
              "\n",
              "\n",
              "\n",
              "    <div id=\"df-16201cfb-c934-4f3d-b13d-e6b05d93a1a3\">\n",
              "      <button class=\"colab-df-quickchart\" onclick=\"quickchart('df-16201cfb-c934-4f3d-b13d-e6b05d93a1a3')\"\n",
              "              title=\"Suggest charts.\"\n",
              "              style=\"display:none;\">\n",
              "\n",
              "<svg xmlns=\"http://www.w3.org/2000/svg\" height=\"24px\"viewBox=\"0 0 24 24\"\n",
              "     width=\"24px\">\n",
              "    <g>\n",
              "        <path d=\"M19 3H5c-1.1 0-2 .9-2 2v14c0 1.1.9 2 2 2h14c1.1 0 2-.9 2-2V5c0-1.1-.9-2-2-2zM9 17H7v-7h2v7zm4 0h-2V7h2v10zm4 0h-2v-4h2v4z\"/>\n",
              "    </g>\n",
              "</svg>\n",
              "      </button>\n",
              "    </div>\n",
              "\n",
              "<style>\n",
              "  .colab-df-quickchart {\n",
              "    background-color: #E8F0FE;\n",
              "    border: none;\n",
              "    border-radius: 50%;\n",
              "    cursor: pointer;\n",
              "    display: none;\n",
              "    fill: #1967D2;\n",
              "    height: 32px;\n",
              "    padding: 0 0 0 0;\n",
              "    width: 32px;\n",
              "  }\n",
              "\n",
              "  .colab-df-quickchart:hover {\n",
              "    background-color: #E2EBFA;\n",
              "    box-shadow: 0px 1px 2px rgba(60, 64, 67, 0.3), 0px 1px 3px 1px rgba(60, 64, 67, 0.15);\n",
              "    fill: #174EA6;\n",
              "  }\n",
              "\n",
              "  [theme=dark] .colab-df-quickchart {\n",
              "    background-color: #3B4455;\n",
              "    fill: #D2E3FC;\n",
              "  }\n",
              "\n",
              "  [theme=dark] .colab-df-quickchart:hover {\n",
              "    background-color: #434B5C;\n",
              "    box-shadow: 0px 1px 3px 1px rgba(0, 0, 0, 0.15);\n",
              "    filter: drop-shadow(0px 1px 2px rgba(0, 0, 0, 0.3));\n",
              "    fill: #FFFFFF;\n",
              "  }\n",
              "</style>\n",
              "\n",
              "    <script>\n",
              "      async function quickchart(key) {\n",
              "        const containerElement = document.querySelector('#' + key);\n",
              "        const charts = await google.colab.kernel.invokeFunction(\n",
              "            'suggestCharts', [key], {});\n",
              "      }\n",
              "    </script>\n",
              "\n",
              "      <script>\n",
              "\n",
              "function displayQuickchartButton(domScope) {\n",
              "  let quickchartButtonEl =\n",
              "    domScope.querySelector('#df-16201cfb-c934-4f3d-b13d-e6b05d93a1a3 button.colab-df-quickchart');\n",
              "  quickchartButtonEl.style.display =\n",
              "    google.colab.kernel.accessAllowed ? 'block' : 'none';\n",
              "}\n",
              "\n",
              "        displayQuickchartButton(document);\n",
              "      </script>\n",
              "      <style>\n",
              "    .colab-df-container {\n",
              "      display:flex;\n",
              "      flex-wrap:wrap;\n",
              "      gap: 12px;\n",
              "    }\n",
              "\n",
              "    .colab-df-convert {\n",
              "      background-color: #E8F0FE;\n",
              "      border: none;\n",
              "      border-radius: 50%;\n",
              "      cursor: pointer;\n",
              "      display: none;\n",
              "      fill: #1967D2;\n",
              "      height: 32px;\n",
              "      padding: 0 0 0 0;\n",
              "      width: 32px;\n",
              "    }\n",
              "\n",
              "    .colab-df-convert:hover {\n",
              "      background-color: #E2EBFA;\n",
              "      box-shadow: 0px 1px 2px rgba(60, 64, 67, 0.3), 0px 1px 3px 1px rgba(60, 64, 67, 0.15);\n",
              "      fill: #174EA6;\n",
              "    }\n",
              "\n",
              "    [theme=dark] .colab-df-convert {\n",
              "      background-color: #3B4455;\n",
              "      fill: #D2E3FC;\n",
              "    }\n",
              "\n",
              "    [theme=dark] .colab-df-convert:hover {\n",
              "      background-color: #434B5C;\n",
              "      box-shadow: 0px 1px 3px 1px rgba(0, 0, 0, 0.15);\n",
              "      filter: drop-shadow(0px 1px 2px rgba(0, 0, 0, 0.3));\n",
              "      fill: #FFFFFF;\n",
              "    }\n",
              "  </style>\n",
              "\n",
              "      <script>\n",
              "        const buttonEl =\n",
              "          document.querySelector('#df-bf90114b-e037-4292-9c02-76695269a1e7 button.colab-df-convert');\n",
              "        buttonEl.style.display =\n",
              "          google.colab.kernel.accessAllowed ? 'block' : 'none';\n",
              "\n",
              "        async function convertToInteractive(key) {\n",
              "          const element = document.querySelector('#df-bf90114b-e037-4292-9c02-76695269a1e7');\n",
              "          const dataTable =\n",
              "            await google.colab.kernel.invokeFunction('convertToInteractive',\n",
              "                                                     [key], {});\n",
              "          if (!dataTable) return;\n",
              "\n",
              "          const docLinkHtml = 'Like what you see? Visit the ' +\n",
              "            '<a target=\"_blank\" href=https://colab.research.google.com/notebooks/data_table.ipynb>data table notebook</a>'\n",
              "            + ' to learn more about interactive tables.';\n",
              "          element.innerHTML = '';\n",
              "          dataTable['output_type'] = 'display_data';\n",
              "          await google.colab.output.renderOutput(dataTable, element);\n",
              "          const docLink = document.createElement('div');\n",
              "          docLink.innerHTML = docLinkHtml;\n",
              "          element.appendChild(docLink);\n",
              "        }\n",
              "      </script>\n",
              "    </div>\n",
              "  </div>\n"
            ]
          },
          "metadata": {},
          "execution_count": 83
        }
      ]
    },
    {
      "cell_type": "code",
      "source": [
        "cm3y = confusion_matrix(actual3y, pred3y)\n",
        "tn3y, fp3y, fn3y, tp3y = cm3y.ravel()"
      ],
      "metadata": {
        "id": "ju5-ndA9bOul"
      },
      "execution_count": 84,
      "outputs": []
    },
    {
      "cell_type": "code",
      "source": [
        "disp3y = ConfusionMatrixDisplay(confusion_matrix=cm3y)\n",
        "disp3y.plot()\n",
        "plt.show()"
      ],
      "metadata": {
        "colab": {
          "base_uri": "https://localhost:8080/",
          "height": 449
        },
        "id": "zi2aN_wVbTfu",
        "outputId": "d5bb54ae-3f3b-4205-d350-3dc8b2b3630a"
      },
      "execution_count": 85,
      "outputs": [
        {
          "output_type": "display_data",
          "data": {
            "text/plain": [
              "<Figure size 640x480 with 2 Axes>"
            ],
            "image/png": "[encoded data removed]"
          },
          "metadata": {}
        }
      ]
    },
    {
      "cell_type": "code",
      "source": [
        "feat_imp3y = rfModel3.featureImportances"
      ],
      "metadata": {
        "id": "wMAXcLiccGDM"
      },
      "execution_count": 86,
      "outputs": []
    },
    {
      "cell_type": "code",
      "source": [
        "feat_imp3y = [c for c in feat_imp3y]"
      ],
      "metadata": {
        "id": "XUlk-1oMcI3Z"
      },
      "execution_count": 87,
      "outputs": []
    },
    {
      "cell_type": "code",
      "source": [
        "features_imp_pd3y = (\n",
        "     pd.DataFrame(\n",
        "       rfModel3.featureImportances.toArray(),\n",
        "       index=features_list,\n",
        "       columns=['importance'])\n",
        ")"
      ],
      "metadata": {
        "id": "otpm7EF6cNMN"
      },
      "execution_count": 88,
      "outputs": []
    },
    {
      "cell_type": "code",
      "source": [
        "features_imp_pd3y.sort_values(by=['importance'],ascending=False)\n"
      ],
      "metadata": {
        "colab": {
          "base_uri": "https://localhost:8080/",
          "height": 2267
        },
        "id": "gkAdu14Phm6i",
        "outputId": "38717f80-ec01-4827-bac2-c92a4938309a"
      },
      "execution_count": 89,
      "outputs": [
        {
          "output_type": "execute_result",
          "data": {
            "text/plain": [
              "                        importance\n",
              "LatePmt1_0                0.245087\n",
              "DiffPmt1                  0.223625\n",
              "LatePmt1_1                0.116715\n",
              "PastTaxSaleStatus_Y       0.098537\n",
              "LastPaymentSource1_801    0.083308\n",
              "...                            ...\n",
              "LastPaymentSource1_472    0.000000\n",
              "LastPaymentSource1_482    0.000000\n",
              "LastPaymentSource1_471    0.000000\n",
              "LastPaymentSource1_407    0.000000\n",
              "LastPaymentSource1_477    0.000000\n",
              "\n",
              "[114 rows x 1 columns]"
            ],
            "text/html": [
              "\n",
              "\n",
              "  <div id=\"df-d7a541fc-31a4-46b3-bf44-11764c61cd96\">\n",
              "    <div class=\"colab-df-container\">\n",
              "      <div>\n",
              "<style scoped>\n",
              "    .dataframe tbody tr th:only-of-type {\n",
              "        vertical-align: middle;\n",
              "    }\n",
              "\n",
              "    .dataframe tbody tr th {\n",
              "        vertical-align: top;\n",
              "    }\n",
              "\n",
              "    .dataframe thead th {\n",
              "        text-align: right;\n",
              "    }\n",
              "</style>\n",
              "<table border=\"1\" class=\"dataframe\">\n",
              "  <thead>\n",
              "    <tr style=\"text-align: right;\">\n",
              "      <th></th>\n",
              "      <th>importance</th>\n",
              "    </tr>\n",
              "  </thead>\n",
              "  <tbody>\n",
              "    <tr>\n",
              "      <th>LatePmt1_0</th>\n",
              "      <td>0.245087</td>\n",
              "    </tr>\n",
              "    <tr>\n",
              "      <th>DiffPmt1</th>\n",
              "      <td>0.223625</td>\n",
              "    </tr>\n",
              "    <tr>\n",
              "      <th>LatePmt1_1</th>\n",
              "      <td>0.116715</td>\n",
              "    </tr>\n",
              "    <tr>\n",
              "      <th>PastTaxSaleStatus_Y</th>\n",
              "      <td>0.098537</td>\n",
              "    </tr>\n",
              "    <tr>\n",
              "      <th>LastPaymentSource1_801</th>\n",
              "      <td>0.083308</td>\n",
              "    </tr>\n",
              "    <tr>\n",
              "      <th>...</th>\n",
              "      <td>...</td>\n",
              "    </tr>\n",
              "    <tr>\n",
              "      <th>LastPaymentSource1_472</th>\n",
              "      <td>0.000000</td>\n",
              "    </tr>\n",
              "    <tr>\n",
              "      <th>LastPaymentSource1_482</th>\n",
              "      <td>0.000000</td>\n",
              "    </tr>\n",
              "    <tr>\n",
              "      <th>LastPaymentSource1_471</th>\n",
              "      <td>0.000000</td>\n",
              "    </tr>\n",
              "    <tr>\n",
              "      <th>LastPaymentSource1_407</th>\n",
              "      <td>0.000000</td>\n",
              "    </tr>\n",
              "    <tr>\n",
              "      <th>LastPaymentSource1_477</th>\n",
              "      <td>0.000000</td>\n",
              "    </tr>\n",
              "  </tbody>\n",
              "</table>\n",
              "<p>114 rows × 1 columns</p>\n",
              "</div>\n",
              "      <button class=\"colab-df-convert\" onclick=\"convertToInteractive('df-d7a541fc-31a4-46b3-bf44-11764c61cd96')\"\n",
              "              title=\"Convert this dataframe to an interactive table.\"\n",
              "              style=\"display:none;\">\n",
              "\n",
              "  <svg xmlns=\"http://www.w3.org/2000/svg\" height=\"24px\"viewBox=\"0 0 24 24\"\n",
              "       width=\"24px\">\n",
              "    <path d=\"M0 0h24v24H0V0z\" fill=\"none\"/>\n",
              "    <path d=\"M18.56 5.44l.94 2.06.94-2.06 2.06-.94-2.06-.94-.94-2.06-.94 2.06-2.06.94zm-11 1L8.5 8.5l.94-2.06 2.06-.94-2.06-.94L8.5 2.5l-.94 2.06-2.06.94zm10 10l.94 2.06.94-2.06 2.06-.94-2.06-.94-.94-2.06-.94 2.06-2.06.94z\"/><path d=\"M17.41 7.96l-1.37-1.37c-.4-.4-.92-.59-1.43-.59-.52 0-1.04.2-1.43.59L10.3 9.45l-7.72 7.72c-.78.78-.78 2.05 0 2.83L4 21.41c.39.39.9.59 1.41.59.51 0 1.02-.2 1.41-.59l7.78-7.78 2.81-2.81c.8-.78.8-2.07 0-2.86zM5.41 20L4 18.59l7.72-7.72 1.47 1.35L5.41 20z\"/>\n",
              "  </svg>\n",
              "      </button>\n",
              "\n",
              "\n",
              "\n",
              "    <div id=\"df-0131e676-3a00-4344-9b06-40119f8ce323\">\n",
              "      <button class=\"colab-df-quickchart\" onclick=\"quickchart('df-0131e676-3a00-4344-9b06-40119f8ce323')\"\n",
              "              title=\"Suggest charts.\"\n",
              "              style=\"display:none;\">\n",
              "\n",
              "<svg xmlns=\"http://www.w3.org/2000/svg\" height=\"24px\"viewBox=\"0 0 24 24\"\n",
              "     width=\"24px\">\n",
              "    <g>\n",
              "        <path d=\"M19 3H5c-1.1 0-2 .9-2 2v14c0 1.1.9 2 2 2h14c1.1 0 2-.9 2-2V5c0-1.1-.9-2-2-2zM9 17H7v-7h2v7zm4 0h-2V7h2v10zm4 0h-2v-4h2v4z\"/>\n",
              "    </g>\n",
              "</svg>\n",
              "      </button>\n",
              "    </div>\n",
              "\n",
              "<style>\n",
              "  .colab-df-quickchart {\n",
              "    background-color: #E8F0FE;\n",
              "    border: none;\n",
              "    border-radius: 50%;\n",
              "    cursor: pointer;\n",
              "    display: none;\n",
              "    fill: #1967D2;\n",
              "    height: 32px;\n",
              "    padding: 0 0 0 0;\n",
              "    width: 32px;\n",
              "  }\n",
              "\n",
              "  .colab-df-quickchart:hover {\n",
              "    background-color: #E2EBFA;\n",
              "    box-shadow: 0px 1px 2px rgba(60, 64, 67, 0.3), 0px 1px 3px 1px rgba(60, 64, 67, 0.15);\n",
              "    fill: #174EA6;\n",
              "  }\n",
              "\n",
              "  [theme=dark] .colab-df-quickchart {\n",
              "    background-color: #3B4455;\n",
              "    fill: #D2E3FC;\n",
              "  }\n",
              "\n",
              "  [theme=dark] .colab-df-quickchart:hover {\n",
              "    background-color: #434B5C;\n",
              "    box-shadow: 0px 1px 3px 1px rgba(0, 0, 0, 0.15);\n",
              "    filter: drop-shadow(0px 1px 2px rgba(0, 0, 0, 0.3));\n",
              "    fill: #FFFFFF;\n",
              "  }\n",
              "</style>\n",
              "\n",
              "    <script>\n",
              "      async function quickchart(key) {\n",
              "        const containerElement = document.querySelector('#' + key);\n",
              "        const charts = await google.colab.kernel.invokeFunction(\n",
              "            'suggestCharts', [key], {});\n",
              "      }\n",
              "    </script>\n",
              "\n",
              "      <script>\n",
              "\n",
              "function displayQuickchartButton(domScope) {\n",
              "  let quickchartButtonEl =\n",
              "    domScope.querySelector('#df-0131e676-3a00-4344-9b06-40119f8ce323 button.colab-df-quickchart');\n",
              "  quickchartButtonEl.style.display =\n",
              "    google.colab.kernel.accessAllowed ? 'block' : 'none';\n",
              "}\n",
              "\n",
              "        displayQuickchartButton(document);\n",
              "      </script>\n",
              "      <style>\n",
              "    .colab-df-container {\n",
              "      display:flex;\n",
              "      flex-wrap:wrap;\n",
              "      gap: 12px;\n",
              "    }\n",
              "\n",
              "    .colab-df-convert {\n",
              "      background-color: #E8F0FE;\n",
              "      border: none;\n",
              "      border-radius: 50%;\n",
              "      cursor: pointer;\n",
              "      display: none;\n",
              "      fill: #1967D2;\n",
              "      height: 32px;\n",
              "      padding: 0 0 0 0;\n",
              "      width: 32px;\n",
              "    }\n",
              "\n",
              "    .colab-df-convert:hover {\n",
              "      background-color: #E2EBFA;\n",
              "      box-shadow: 0px 1px 2px rgba(60, 64, 67, 0.3), 0px 1px 3px 1px rgba(60, 64, 67, 0.15);\n",
              "      fill: #174EA6;\n",
              "    }\n",
              "\n",
              "    [theme=dark] .colab-df-convert {\n",
              "      background-color: #3B4455;\n",
              "      fill: #D2E3FC;\n",
              "    }\n",
              "\n",
              "    [theme=dark] .colab-df-convert:hover {\n",
              "      background-color: #434B5C;\n",
              "      box-shadow: 0px 1px 3px 1px rgba(0, 0, 0, 0.15);\n",
              "      filter: drop-shadow(0px 1px 2px rgba(0, 0, 0, 0.3));\n",
              "      fill: #FFFFFF;\n",
              "    }\n",
              "  </style>\n",
              "\n",
              "      <script>\n",
              "        const buttonEl =\n",
              "          document.querySelector('#df-d7a541fc-31a4-46b3-bf44-11764c61cd96 button.colab-df-convert');\n",
              "        buttonEl.style.display =\n",
              "          google.colab.kernel.accessAllowed ? 'block' : 'none';\n",
              "\n",
              "        async function convertToInteractive(key) {\n",
              "          const element = document.querySelector('#df-d7a541fc-31a4-46b3-bf44-11764c61cd96');\n",
              "          const dataTable =\n",
              "            await google.colab.kernel.invokeFunction('convertToInteractive',\n",
              "                                                     [key], {});\n",
              "          if (!dataTable) return;\n",
              "\n",
              "          const docLinkHtml = 'Like what you see? Visit the ' +\n",
              "            '<a target=\"_blank\" href=https://colab.research.google.com/notebooks/data_table.ipynb>data table notebook</a>'\n",
              "            + ' to learn more about interactive tables.';\n",
              "          element.innerHTML = '';\n",
              "          dataTable['output_type'] = 'display_data';\n",
              "          await google.colab.output.renderOutput(dataTable, element);\n",
              "          const docLink = document.createElement('div');\n",
              "          docLink.innerHTML = docLinkHtml;\n",
              "          element.appendChild(docLink);\n",
              "        }\n",
              "      </script>\n",
              "    </div>\n",
              "  </div>\n"
            ]
          },
          "metadata": {},
          "execution_count": 89
        }
      ]
    }
  ]
}