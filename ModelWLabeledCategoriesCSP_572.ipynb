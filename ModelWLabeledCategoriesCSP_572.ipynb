{
  "nbformat": 4,
  "nbformat_minor": 0,
  "metadata": {
    "colab": {
      "provenance": [],
      "gpuType": "T4"
    },
    "kernelspec": {
      "name": "python3",
      "display_name": "Python 3"
    },
    "language_info": {
      "name": "python"
    }
  },
  "cells": [
    {
      "cell_type": "markdown",
      "source": [
        "# This Notebook attempts to build a model with the categorical labels\n",
        " The testing and training were done on a 3 year and 4 year sliding window that are described below in appropriate cells\n",
        "\n",
        "## The following rows were dropped when considering the model\n",
        "\n",
        "*   the three rows at the end of 2019.rpt done by doing:\n",
        "\n",
        "data = data.where(data.SegmentCode==\"PH\")\n",
        "\n",
        "*   TaxStatus=1 (kept taxstatus 0 and 3)\n",
        "* any row where *both* adjustedAmoutnDue1 and AdjustedTaxDue2 were 0\n",
        "* removed all rows where LastPaymentSource2 was TPA (referred to payment data excel\n",
        "* removed all rows where LastPaymentSource1 was TPA (referred to payment data excel\n",
        "* removed all rows where LastPaymentDate2 was '00000000' (no payment made on second installment -- consequently also drops LastPaymentSource2 = '000')\n",
        "\n",
        "## The following rows were kept (interesting cases)\n",
        "\n",
        "* LastPaymentDate1='00000000' (paid for second installment but missed first)\n",
        "* LastPaymentSource1='000'\n",
        "\n",
        "\n",
        "Final dataset length before test,train split: 4,245,372\n",
        "\n",
        "\n",
        "## Notes about OneHotEncoding Endeavor:\n",
        "Initially tried to use StringIndexer,OnehotEnocoder to automate dummy variables\n",
        "Further tried to use [this](https://www.skytowner.com/explore/one_hot_encoding_in_pyspark) website which at first glance did what I needed. I ran into issues with dealing with multiple categorical columns and how to combine the steps into one dataframe. Then I decided,  for the sake of time (ironically), I will manually create dummy variables. This turned out just fine for the conditions I described above.\n"
      ],
      "metadata": {
        "id": "Ze4pUsOuUNKf"
      }
    },
    {
      "cell_type": "code",
      "execution_count": 1,
      "metadata": {
        "colab": {
          "base_uri": "https://localhost:8080/"
        },
        "id": "FuRXIO8jTrbi",
        "outputId": "42937d0e-7135-444e-b8f9-815075478773"
      },
      "outputs": [
        {
          "output_type": "stream",
          "name": "stdout",
          "text": [
            "Mounted at /content/gdrive\n"
          ]
        }
      ],
      "source": [
        "# Mount to google drive where data is stored\n",
        "from google.colab import drive\n",
        "drive.mount('/content/gdrive')"
      ]
    },
    {
      "cell_type": "markdown",
      "source": [
        "## PySpark Setup"
      ],
      "metadata": {
        "id": "lU1YuEycWy28"
      }
    },
    {
      "cell_type": "code",
      "source": [
        "# If you encounter any problems visit the apache.org link and ensure you have selected the right tgz file\n",
        "!apt-get install openjdk-8-jdk-headless -qq > /dev/null\n",
        "!wget -q https://www.apache.org/dist/spark/spark-3.2.4/spark-3.2.4-bin-hadoop2.7.tgz\n",
        "!tar xf spark-3.2.4-bin-hadoop2.7.tgz\n"
      ],
      "metadata": {
        "id": "zCPeiUI9AQtn"
      },
      "execution_count": 2,
      "outputs": []
    },
    {
      "cell_type": "code",
      "source": [
        "#import shutil\n",
        "\n",
        "#shutil.rmtree('/content/gdrive/MyDrive/CSP 572/spark-3.2.4-bin-hadoop2.7')"
      ],
      "metadata": {
        "id": "QKVtxvWDkBU2"
      },
      "execution_count": null,
      "outputs": []
    },
    {
      "cell_type": "code",
      "source": [
        "# Setting the appropriate paths for Spark\n",
        "import os\n",
        "os.environ[\"JAVA_HOME\"] = \"/usr/lib/jvm/java-8-openjdk-amd64\"\n",
        "os.environ[\"SPARK_HOME\"] = \"/content/spark-3.2.4-bin-hadoop2.7\"\n",
        "\n",
        "!pip install -q findspark\n",
        "import findspark\n",
        "findspark.init()"
      ],
      "metadata": {
        "id": "_EbDt5I71w23"
      },
      "execution_count": 3,
      "outputs": []
    },
    {
      "cell_type": "markdown",
      "source": [
        "## Import libraries"
      ],
      "metadata": {
        "id": "2IhdtDu6W4uG"
      }
    },
    {
      "cell_type": "code",
      "source": [
        "import matplotlib.pyplot as plt"
      ],
      "metadata": {
        "id": "8km2Nvkc4Pgr"
      },
      "execution_count": 4,
      "outputs": []
    },
    {
      "cell_type": "code",
      "source": [
        "\n",
        "from pyspark.sql.functions import *\n",
        "from pyspark.sql import SparkSession\n",
        "from pyspark.sql.functions import col, lit, to_timestamp, log\n",
        "from pyspark.sql import Window\n",
        "import pyspark.sql.functions as f\n",
        "from pyspark.sql import Window\n",
        "from pyspark.sql import functions as F\n",
        "from pyspark.sql.types import StringType, DateType, FloatType\n",
        "import pandas as pd\n",
        "from pyspark.sql.functions import mean as _mean, stddev as _stddev, col"
      ],
      "metadata": {
        "id": "msPS2l2x4C7N"
      },
      "execution_count": 66,
      "outputs": []
    },
    {
      "cell_type": "code",
      "source": [
        "from pyspark.ml.stat import Correlation\n",
        "from pyspark.ml.feature import VectorAssembler\n",
        "from pyspark.ml.classification import RandomForestClassifier\n",
        "#!pip install pyspark_dist_explore\n",
        "#from pyspark_dist_explore import hist\n",
        "#import matplotlib.pyplot as plt"
      ],
      "metadata": {
        "id": "so2vChh4Ui5f"
      },
      "execution_count": 67,
      "outputs": []
    },
    {
      "cell_type": "code",
      "source": [
        "from sklearn.metrics import confusion_matrix, accuracy_score, f1_score, precision_score, recall_score, ConfusionMatrixDisplay"
      ],
      "metadata": {
        "id": "69RHxCCBx0iC"
      },
      "execution_count": 68,
      "outputs": []
    },
    {
      "cell_type": "code",
      "source": [
        "# Change directory\n",
        "import os\n",
        "os.chdir(\"/content/gdrive/MyDrive\")"
      ],
      "metadata": {
        "id": "gPEJS7FD4HH0"
      },
      "execution_count": 8,
      "outputs": []
    },
    {
      "cell_type": "code",
      "source": [
        "\n",
        "# Create a spark session\n",
        "spark = SparkSession.builder\\\n",
        "        .master(\"local\")\\\n",
        "        .appName(\"Colab\")\\\n",
        "        .config('spark.ui.port', '4050')\\\n",
        "        .getOrCreate()\n"
      ],
      "metadata": {
        "id": "ib2wLRBD4J1w"
      },
      "execution_count": 9,
      "outputs": []
    },
    {
      "cell_type": "markdown",
      "source": [
        "## Read Data"
      ],
      "metadata": {
        "id": "1h6L8C0ZXEgR"
      }
    },
    {
      "cell_type": "code",
      "source": [
        "# Read 2021 data\n",
        "data = spark.read.csv(\"2021.rpt\", header=None, sep=\"|\")"
      ],
      "metadata": {
        "id": "9VYaBrvX4RFc"
      },
      "execution_count": 10,
      "outputs": []
    },
    {
      "cell_type": "code",
      "source": [
        "# Read the header file\n",
        "header = pd.read_csv(\"Header.rpt\", sep=\"|\")\n",
        "cols = header.columns\n",
        "data = data.toDF(*cols)\n"
      ],
      "metadata": {
        "id": "HVR-a9Em84jH"
      },
      "execution_count": 11,
      "outputs": []
    },
    {
      "cell_type": "code",
      "source": [
        "# Read all other data files\n",
        "#data_2022 = spark.read.csv(\"2022.rpt\", header=None, sep=\"|\")\n",
        "data_2020 = spark.read.csv(\"2020.rpt\", header=None, sep=\"|\")\n",
        "data_2019 = spark.read.csv(\"2019.rpt\", header=None, sep=\"|\")\n",
        "data_2018 = spark.read.csv(\"2018.rpt\", header=None, sep=\"|\")\n",
        "data_2017 = spark.read.csv(\"2017.rpt\", header=None, sep=\"|\")"
      ],
      "metadata": {
        "id": "xZLp4QWi4weP"
      },
      "execution_count": 12,
      "outputs": []
    },
    {
      "cell_type": "code",
      "source": [
        "# Combine all data\n",
        "#data = data.union(data_2022)\n",
        "data = data.union(data_2020)\n",
        "data = data.union(data_2019)\n",
        "data = data.union(data_2018)\n",
        "data = data.union(data_2017)"
      ],
      "metadata": {
        "id": "fXy29qJa5EWo"
      },
      "execution_count": 13,
      "outputs": []
    },
    {
      "cell_type": "code",
      "source": [
        "for i in range(len(data.columns)):\n",
        "  print(i,data.columns[i])"
      ],
      "metadata": {
        "colab": {
          "base_uri": "https://localhost:8080/"
        },
        "id": "jsWPCAsQ5dKG",
        "outputId": "7f6ca537-93a1-4467-8a28-cec166aaf889"
      },
      "execution_count": 14,
      "outputs": [
        {
          "output_type": "stream",
          "name": "stdout",
          "text": [
            "0 SegmentCode\n",
            "1 PIN\n",
            "2 Volume\n",
            "3 Classification\n",
            "4 TaxpayerName\n",
            "5 TaxpayerMailingAddress\n",
            "6 TaxpayerMailingCity\n",
            "7 TaxpayerMailingState\n",
            "8 TaxpayerMailingZip\n",
            "9 TaxpayerPropertyHouse\n",
            "10 TaxpayerPropertyDirection\n",
            "11 TaxpayerPropertyStreet\n",
            "12 TaxpayerPropertySuffix\n",
            "13 TaxpayerPropertyCity\n",
            "14 TaxpayerPropertyState\n",
            "15 TaxpayerPropertyZip\n",
            "16 TaxpayerPropertyTown\n",
            "17 TaxCode\n",
            "18 TaxStatus\n",
            "19 HomeownerExempt\n",
            "20 SeniorExempt\n",
            "21 SeniorFreezeExempt\n",
            "22 LongtimeHomeownersExempt\n",
            "23 TaxInfoType\n",
            "24 TaxType\n",
            "25 TaxYear\n",
            "26 BillYear\n",
            "27 AccountStatus\n",
            "28 BillType\n",
            "29 SegmentCode2\n",
            "30 InstallmentNumber1\n",
            "31 AdjustedAmountDue1\n",
            "32 TaxAmountDue1\n",
            "33 RefundTaxAmountDueIndicator1\n",
            "34 InterestAmountDue1\n",
            "35 RefundInterestDueIndicator1\n",
            "36 CostAmountDue1\n",
            "37 RefundCostDueIndicator1\n",
            "38 TotalAmountDue1\n",
            "39 RefundTotalDueIndicator1\n",
            "40 LastPaymentDate1\n",
            "41 LastPaymentSource1\n",
            "42 InstallmentNumber2\n",
            "43 OriginalTaxDue2\n",
            "44 AdjustedTaxDue2\n",
            "45 TaxAmountDue2\n",
            "46 RefundTaxAmountDueIndicator2\n",
            "47 InterestAmountDue2\n",
            "48 RefundInterestDueIndicator2\n",
            "49 CostAmountDue2\n",
            "50 RefundCostDueIndicator2\n",
            "51 TotalAmountDue2\n",
            "52 RefundTaxDueIndicator2\n",
            "53 LastPaymentDate2\n",
            "54 LastPaymentSource2\n",
            "55 CofENumber\n",
            "56 PastTaxSaleStatus\n",
            "57 AssessedValuation\n",
            "58 EqualizedEvaluation\n",
            "59 TaxRate\n",
            "60 RecordCount\n",
            "61 CondemnationStatus\n",
            "62 MunicipalAcquisitionStatus\n",
            "63 AcquisitionStatus\n",
            "64 ExemptStatus\n",
            "65 BankruptStatus\n",
            "66 RefundStatus\n",
            "67 LastPaymentReceivedAmount1\n",
            "68 LastPaymentReceivedAmount2\n",
            "69 EndMarker\n",
            "70 TaxDueEstimated1\n",
            "71 ReturningVetExemptionAmount\n",
            "72 DisabledPersonExemptionAmount\n",
            "73 DisabledVetExemptionAmount\n",
            "74 DisabledPersonVetExemptionAmount\n",
            "75 HomeownerExemptAmount\n",
            "76 SeniorExemptAmount\n",
            "77 SeniorFreezeExemptAmount\n",
            "78 LongtimeHomeownersExemptAmount\n",
            "79 VeteranExempt\n",
            "80 AdjustedAmountDue1_Org\n"
          ]
        }
      ]
    },
    {
      "cell_type": "code",
      "source": [
        "# Numeric columns list - add to this as you see fit\n",
        "numeric_cols = [\"AdjustedAmountDue1\", \"TaxAmountDue1\", \"InterestAmountDue1\", \"CostAmountDue1\", \"TotalAmountDue1\", \"OriginalTaxDue2\",\n",
        "        \"AdjustedTaxDue2\", \"TaxAmountDue2\", \"InterestAmountDue2\", \"CostAmountDue2\", \"TotalAmountDue2\", \"AssessedValuation\",\n",
        "        \"EqualizedEvaluation\", \"TaxRate\", \"LastPaymentReceivedAmount1\", \"LastPaymentReceivedAmount2\"\n",
        "        ] + list(data.columns)[70:81]"
      ],
      "metadata": {
        "id": "LSDbhNsZ81CN"
      },
      "execution_count": 15,
      "outputs": []
    },
    {
      "cell_type": "code",
      "source": [
        "# Convert to numeric columns\n",
        "for col_name in numeric_cols:\n",
        "    data = data.withColumn(col_name, col(col_name).cast('float'))\n",
        "\n",
        "\n",
        "# Remove 3 rows which have garbage values\n",
        "data = data.where(data.SegmentCode==\"PH\")"
      ],
      "metadata": {
        "id": "DShj7KV56qi2"
      },
      "execution_count": 16,
      "outputs": []
    },
    {
      "cell_type": "code",
      "source": [
        "data.count()"
      ],
      "metadata": {
        "colab": {
          "base_uri": "https://localhost:8080/"
        },
        "id": "Y0dxhqsliS5X",
        "outputId": "310b5976-3b18-4d05-bc93-a7e2d0b5630d"
      },
      "execution_count": 17,
      "outputs": [
        {
          "output_type": "execute_result",
          "data": {
            "text/plain": [
              "9325500"
            ]
          },
          "metadata": {},
          "execution_count": 17
        }
      ]
    },
    {
      "cell_type": "code",
      "source": [
        "#data only should contain non-exempt accounts\n",
        "data=data.where(data.TaxStatus!=1)"
      ],
      "metadata": {
        "id": "hJG2N7OLiPH2"
      },
      "execution_count": 18,
      "outputs": []
    },
    {
      "cell_type": "code",
      "source": [
        "data.count()"
      ],
      "metadata": {
        "colab": {
          "base_uri": "https://localhost:8080/"
        },
        "id": "sWJPeC_cg2i-",
        "outputId": "ceeba8a1-3513-4eca-ea1d-e5fd43420e1b"
      },
      "execution_count": 18,
      "outputs": [
        {
          "output_type": "execute_result",
          "data": {
            "text/plain": [
              "8866794"
            ]
          },
          "metadata": {},
          "execution_count": 18
        }
      ]
    },
    {
      "cell_type": "code",
      "source": [
        "data=data.filter((col('AdjustedAmountDue1') != 0) | (col('AdjustedTaxDue2') != 0))"
      ],
      "metadata": {
        "id": "tlsfIulbDOO-"
      },
      "execution_count": 19,
      "outputs": []
    },
    {
      "cell_type": "code",
      "source": [
        "data.count()"
      ],
      "metadata": {
        "colab": {
          "base_uri": "https://localhost:8080/"
        },
        "id": "8eeaGyeHFdVA",
        "outputId": "f70508cc-fbc8-4c46-bd32-711d61234c37"
      },
      "execution_count": 21,
      "outputs": [
        {
          "output_type": "execute_result",
          "data": {
            "text/plain": [
              "8634906"
            ]
          },
          "metadata": {},
          "execution_count": 21
        }
      ]
    },
    {
      "cell_type": "code",
      "source": [
        "data=data.filter((col('LastPaymentSource2') != 527))\n",
        "data=data.filter((col('LastPaymentSource2') != 600))\n",
        "data=data.filter((col('LastPaymentSource2') != 800))\n",
        "data=data.filter((col('LastPaymentSource2') != 802))\n",
        "data=data.filter((col('LastPaymentSource2') != 830))"
      ],
      "metadata": {
        "id": "tYET_zj5DX3E"
      },
      "execution_count": 20,
      "outputs": []
    },
    {
      "cell_type": "code",
      "source": [
        "data.count()"
      ],
      "metadata": {
        "colab": {
          "base_uri": "https://localhost:8080/"
        },
        "id": "nkZGxMikDf0w",
        "outputId": "84d1c91b-aa7d-40ce-9e88-4f89a9278eff"
      },
      "execution_count": 23,
      "outputs": [
        {
          "output_type": "execute_result",
          "data": {
            "text/plain": [
              "4793935"
            ]
          },
          "metadata": {},
          "execution_count": 23
        }
      ]
    },
    {
      "cell_type": "code",
      "source": [
        "data=data.filter((col('LastPaymentSource1') != 527))\n",
        "data=data.filter((col('LastPaymentSource1') != 600))\n",
        "data=data.filter((col('LastPaymentSource1') != 800))\n",
        "data=data.filter((col('LastPaymentSource1') != 802))\n",
        "data=data.filter((col('LastPaymentSource1') != 830))"
      ],
      "metadata": {
        "id": "PwWeAV7yF_0T"
      },
      "execution_count": 21,
      "outputs": []
    },
    {
      "cell_type": "code",
      "source": [
        "data.count()"
      ],
      "metadata": {
        "colab": {
          "base_uri": "https://localhost:8080/"
        },
        "id": "eyhKFxHkGEXc",
        "outputId": "650cd6a5-1f9a-4fae-bc1d-63f724623b67"
      },
      "execution_count": 22,
      "outputs": [
        {
          "output_type": "execute_result",
          "data": {
            "text/plain": [
              "4597700"
            ]
          },
          "metadata": {},
          "execution_count": 22
        }
      ]
    },
    {
      "cell_type": "markdown",
      "source": [
        "### Target Variable\n",
        "Our target variable is Late Payment in 2nd Installment Y/N. We get this from the InstDates.csv (available in 'Helper datasets' folder in the shared drive) which contains the payment due dates of each year for each installment."
      ],
      "metadata": {
        "id": "CfS-US7ytEcv"
      }
    },
    {
      "cell_type": "code",
      "source": [
        "instDates = spark.read.csv(\"InstDates.csv\", header=True)\n",
        "instDates = instDates.withColumn(\"Year\", col(\"Year\").cast(\"int\"))\n",
        "instDates = instDates.where(instDates.Year>=2017)\n",
        "instDates = instDates.withColumnRenamed(\"Inst1\", \"PmtDue1\")\n",
        "instDates = instDates.withColumnRenamed(\"Inst2\", \"PmtDue2\")"
      ],
      "metadata": {
        "id": "O7ItNlcvLIEY"
      },
      "execution_count": 23,
      "outputs": []
    },
    {
      "cell_type": "code",
      "source": [
        "instDates.show()"
      ],
      "metadata": {
        "colab": {
          "base_uri": "https://localhost:8080/"
        },
        "id": "1BtV9RzY_6oc",
        "outputId": "494f932e-710b-4e76-8b24-3eb8634fb1b9"
      },
      "execution_count": 24,
      "outputs": [
        {
          "output_type": "stream",
          "name": "stdout",
          "text": [
            "+----+----------+----------+\n",
            "|Year|   PmtDue1|   PmtDue2|\n",
            "+----+----------+----------+\n",
            "|2017|2018-03-01|2018-08-01|\n",
            "|2018|2019-03-01|2019-08-01|\n",
            "|2019|2020-03-03|2020-08-03|\n",
            "|2020|2021-03-02|2021-10-01|\n",
            "|2021|2022-03-01|2023-01-03|\n",
            "|2022|2023-04-03|      null|\n",
            "+----+----------+----------+\n",
            "\n"
          ]
        }
      ]
    },
    {
      "cell_type": "code",
      "source": [
        "data=data.filter(data.LastPaymentDate2!='00000000')\n"
      ],
      "metadata": {
        "id": "qwPM3iuL7dRT"
      },
      "execution_count": 25,
      "outputs": []
    },
    {
      "cell_type": "code",
      "source": [
        "data.filter(data.LastPaymentDate2=='00000000').count()\n"
      ],
      "metadata": {
        "colab": {
          "base_uri": "https://localhost:8080/"
        },
        "id": "yhtAEExo70jS",
        "outputId": "2ebf5b1d-732d-4532-e3ad-50a547420044"
      },
      "execution_count": 29,
      "outputs": [
        {
          "output_type": "execute_result",
          "data": {
            "text/plain": [
              "0"
            ]
          },
          "metadata": {},
          "execution_count": 29
        }
      ]
    },
    {
      "cell_type": "code",
      "source": [
        "data.filter(data.LastPaymentDate1=='00000000').count()"
      ],
      "metadata": {
        "colab": {
          "base_uri": "https://localhost:8080/"
        },
        "id": "OR1sj18Igaxx",
        "outputId": "48ad0285-60d6-4b30-aa8f-b77e7cc94451"
      },
      "execution_count": 30,
      "outputs": [
        {
          "output_type": "execute_result",
          "data": {
            "text/plain": [
              "31614"
            ]
          },
          "metadata": {},
          "execution_count": 30
        }
      ]
    },
    {
      "cell_type": "code",
      "source": [
        "data.filter((col('AdjustedTaxDue2') == 0)).count()"
      ],
      "metadata": {
        "colab": {
          "base_uri": "https://localhost:8080/"
        },
        "id": "Di4cRPqn8Nfs",
        "outputId": "e07cd758-1798-4649-dfc8-5aa40f48d76d"
      },
      "execution_count": 31,
      "outputs": [
        {
          "output_type": "execute_result",
          "data": {
            "text/plain": [
              "4773"
            ]
          },
          "metadata": {},
          "execution_count": 31
        }
      ]
    },
    {
      "cell_type": "code",
      "source": [
        "data = data.join(instDates, data.TaxYear==instDates.Year, \"left\")\n",
        "data = data.withColumn(\"LastPaymentDate1\", to_date(col(\"LastPaymentDate1\"), \"MMddyyyy\"))\n",
        "data = data.withColumn(\"LastPaymentDate2\", to_date(col(\"LastPaymentDate2\"), \"MMddyyyy\"))\n",
        "data = data.withColumn(\"PmtDue1\", to_date(col(\"PmtDue1\"), \"yyyy-MM-dd\"))\n",
        "data = data.withColumn(\"PmtDue2\", to_date(col(\"PmtDue2\"), \"yyyy-MM-dd\"))\n",
        "data = data.withColumn(\"LatePmt1\", when(col(\"LastPaymentDate1\")>col(\"PmtDue1\"), 1).otherwise(0))\n",
        "data = data.withColumn(\"LatePmt2\", when(col(\"LastPaymentDate2\")>col(\"PmtDue2\"), 1).otherwise(0))\n"
      ],
      "metadata": {
        "id": "cPU8y9a8Z0ZP"
      },
      "execution_count": 26,
      "outputs": []
    },
    {
      "cell_type": "code",
      "source": [
        "# Persist data in disk/memory\n",
        "# Until this point Spark does not actually execute any of the above statements (Lazy loading). It only creates a plan\n",
        "# Persist does not get executed until an 'action' command is called on the dataframe\n",
        "#data1 = data.persist()"
      ],
      "metadata": {
        "id": "GZpf0TBf95Kc"
      },
      "execution_count": null,
      "outputs": []
    },
    {
      "cell_type": "code",
      "source": [
        "# The below action with persist called above will ensure that all the steps until data.persist() is run and stored in memory/disk\n",
        "# Only the first run takes approx 10 mins. If you run it again, it will only take 3 secs as the data is now stored in memory/disk\n",
        "# It helps in using the modified dataframe directly\n",
        "# If you do not persist, Spark is going to run all the steps right from read_csv whenever you call an action\n",
        "#print([data1.count(), len(data1.columns)])"
      ],
      "metadata": {
        "id": "88QBnsW84a7y"
      },
      "execution_count": 33,
      "outputs": []
    },
    {
      "cell_type": "code",
      "source": [
        "data1 = data.persist()"
      ],
      "metadata": {
        "id": "IAPqTq0lcJe8"
      },
      "execution_count": 27,
      "outputs": []
    },
    {
      "cell_type": "code",
      "source": [
        "data1.show(10)"
      ],
      "metadata": {
        "colab": {
          "base_uri": "https://localhost:8080/"
        },
        "id": "lh9UKpzrAImA",
        "outputId": "1b34ae6a-180a-4060-d86e-58d5dcfdb21b"
      },
      "execution_count": 28,
      "outputs": [
        {
          "output_type": "stream",
          "name": "stdout",
          "text": [
            "+-----------+--------------+------+--------------+--------------------+----------------------+--------------------+--------------------+------------------+---------------------+-------------------------+----------------------+----------------------+--------------------+---------------------+-------------------+--------------------+-------+---------+---------------+------------+------------------+------------------------+-----------+-------+-------+--------+-------------+--------+------------+------------------+------------------+-------------+----------------------------+------------------+---------------------------+--------------+-----------------------+---------------+------------------------+----------------+------------------+------------------+---------------+---------------+-------------+----------------------------+------------------+---------------------------+--------------+-----------------------+---------------+----------------------+----------------+------------------+----------+-----------------+-----------------+-------------------+-------+-----------+------------------+--------------------------+-----------------+------------+--------------+------------+--------------------------+--------------------------+---------+----------------+---------------------------+-----------------------------+--------------------------+--------------------------------+---------------------+------------------+------------------------+------------------------------+-------------+----------------------+----+----------+----------+--------+--------+\n",
            "|SegmentCode|           PIN|Volume|Classification|        TaxpayerName|TaxpayerMailingAddress| TaxpayerMailingCity|TaxpayerMailingState|TaxpayerMailingZip|TaxpayerPropertyHouse|TaxpayerPropertyDirection|TaxpayerPropertyStreet|TaxpayerPropertySuffix|TaxpayerPropertyCity|TaxpayerPropertyState|TaxpayerPropertyZip|TaxpayerPropertyTown|TaxCode|TaxStatus|HomeownerExempt|SeniorExempt|SeniorFreezeExempt|LongtimeHomeownersExempt|TaxInfoType|TaxType|TaxYear|BillYear|AccountStatus|BillType|SegmentCode2|InstallmentNumber1|AdjustedAmountDue1|TaxAmountDue1|RefundTaxAmountDueIndicator1|InterestAmountDue1|RefundInterestDueIndicator1|CostAmountDue1|RefundCostDueIndicator1|TotalAmountDue1|RefundTotalDueIndicator1|LastPaymentDate1|LastPaymentSource1|InstallmentNumber2|OriginalTaxDue2|AdjustedTaxDue2|TaxAmountDue2|RefundTaxAmountDueIndicator2|InterestAmountDue2|RefundInterestDueIndicator2|CostAmountDue2|RefundCostDueIndicator2|TotalAmountDue2|RefundTaxDueIndicator2|LastPaymentDate2|LastPaymentSource2|CofENumber|PastTaxSaleStatus|AssessedValuation|EqualizedEvaluation|TaxRate|RecordCount|CondemnationStatus|MunicipalAcquisitionStatus|AcquisitionStatus|ExemptStatus|BankruptStatus|RefundStatus|LastPaymentReceivedAmount1|LastPaymentReceivedAmount2|EndMarker|TaxDueEstimated1|ReturningVetExemptionAmount|DisabledPersonExemptionAmount|DisabledVetExemptionAmount|DisabledPersonVetExemptionAmount|HomeownerExemptAmount|SeniorExemptAmount|SeniorFreezeExemptAmount|LongtimeHomeownersExemptAmount|VeteranExempt|AdjustedAmountDue1_Org|Year|   PmtDue1|   PmtDue2|LatePmt1|LatePmt2|\n",
            "+-----------+--------------+------+--------------+--------------------+----------------------+--------------------+--------------------+------------------+---------------------+-------------------------+----------------------+----------------------+--------------------+---------------------+-------------------+--------------------+-------+---------+---------------+------------+------------------+------------------------+-----------+-------+-------+--------+-------------+--------+------------+------------------+------------------+-------------+----------------------------+------------------+---------------------------+--------------+-----------------------+---------------+------------------------+----------------+------------------+------------------+---------------+---------------+-------------+----------------------------+------------------+---------------------------+--------------+-----------------------+---------------+----------------------+----------------+------------------+----------+-----------------+-----------------+-------------------+-------+-----------+------------------+--------------------------+-----------------+------------+--------------+------------+--------------------------+--------------------------+---------+----------------+---------------------------+-----------------------------+--------------------------+--------------------------------+---------------------+------------------+------------------------+------------------------------+-------------+----------------------+----+----------+----------+--------+--------+\n",
            "|         PH|07151000371056|   187|           299|YU NING LIU      ...|  304 GRISSOM CRT  ...|HOFFMAN EST      ...|                  IL|         601691669|           0000000304|                         |       GRISSOM        |                  CT  |HOFFMAN ESTATES  ...|                   IL|          601691669|     SCHAUMBURG     |  35013|       00|              1|           0|                 0|                       0|          R|     00|   2021|    2021|            P|       1|          PD|                01|          227431.0|          0.0|                           P|               0.0|                          P|           0.0|                      P|            0.0|                       P|      2022-02-16|               444|                02|       188338.0|       188338.0|          0.0|                           P|               0.0|                          P|           0.0|                      P|            0.0|                     P|      2022-12-21|               444|   0000000|                N|          15740.0|            37262.0|11158.0|  000218132|                 0|                         0|                0|           0|             0|           0|                  227431.0|                  188338.0|        X|        227431.0|                        0.0|                          0.0|                       0.0|                             0.0|              10000.0|               0.0|                     0.0|                           0.0|          0.0|              227431.0|2021|2022-03-01|2023-01-03|       0|       0|\n",
            "|         PH|07151000371059|   187|           299|NAYEED RABBANI   ...|  352 GRISSOM CT   ...|HOFFMAN ESTS     ...|                  IL|         601691600|           0000000352|                         |       GRISSOM        |                  CT  |HOFFMAN ESTATES  ...|                   IL|          601691600|     SCHAUMBURG     |  35013|       03|              1|           1|                 0|                       0|          R|     00|   2021|    2021|            P|       1|          PD|                01|          206037.0|          0.0|                           P|               0.0|                          P|           0.0|                      P|            0.0|                       P|      2022-03-01|               431|                02|       163795.0|       163795.0|          0.0|                           P|               0.0|                          P|           0.0|                      P|            0.0|                     P|      2022-12-07|               436|   0000000|                N|          17033.0|            33145.0|11158.0|  000218135|                 0|                         0|                0|           1|             0|           0|                  206037.0|                  163795.0|        X|        206037.0|                        0.0|                          0.0|                       0.0|                             0.0|              10000.0|            8000.0|                     0.0|                           0.0|          0.0|              206037.0|2021|2022-03-01|2023-01-03|       0|       0|\n",
            "|         PH|07151000371060|   187|           299|LEONORA M WURTZIN...|  348 GRISSOM CT   ...|HOFFMAN ESTS     ...|                  IL|         601691600|           0000000348|                         |       GRISSOM        |                  CT  |HOFFMAN ESTATES  ...|                   IL|          601691600|     SCHAUMBURG     |  35013|       03|              1|           1|                 0|                       0|          R|     00|   2021|    2021|            P|       1|          PD|                01|          186401.0|          0.0|                           P|               0.0|                          P|           0.0|                      P|            0.0|                       P|      2022-02-26|               444|                02|       146877.0|       146877.0|          0.0|                           P|               0.0|                          P|           0.0|                      P|            0.0|                     P|      2022-12-21|               700|   0000000|                N|          15942.0|            29869.0|11158.0|  000218136|                 0|                         0|                0|           1|             0|           0|                  186401.0|                  146877.0|        X|        186401.0|                        0.0|                          0.0|                       0.0|                             0.0|              10000.0|            8000.0|                     0.0|                           0.0|          0.0|              186401.0|2021|2022-03-01|2023-01-03|       0|       0|\n",
            "|         PH|07151000371062|   187|           299|VASILE LUP JENO R...|  340 GRISSOM CT   ...|HOFFMAN ESTS     ...|                  IL|         601691600|           0000000340|                         |       GRISSOM        |                  CT  |HOFFMAN ESTATES  ...|                   IL|          601691600|     SCHAUMBURG     |  35013|       00|              1|           0|                 0|                       0|          R|     00|   2021|    2021|            P|       1|          PD|                01|          250702.0|          0.0|                           P|               0.0|                          P|           0.0|                      P|            0.0|                       P|      2022-02-28|               700|                02|       208394.0|       208394.0|          0.0|                           P|               0.0|                          P|           0.0|                      P|            0.0|                     P|      2022-12-26|               700|   0000000|                N|          17033.0|            41145.0|11158.0|  000218138|                 0|                         0|                0|           0|             0|           0|                  250702.0|                  208394.0|        X|        250702.0|                        0.0|                          0.0|                       0.0|                             0.0|              10000.0|               0.0|                     0.0|                           0.0|          0.0|              250702.0|2021|2022-03-01|2023-01-03|       0|       0|\n",
            "|         PH|07151000371063|   187|           299|NANDITA S SINGH  ...|  7511 BALDWIN XING...|SUGAR LAND       ...|                  TX|         774795690|           0000000332|                         |       GRISSOM        |                  CT  |HOFFMAN ESTATES  ...|                   IL|          601691600|     SCHAUMBURG     |  35013|       00|              0|           0|                 0|                       0|          R|     00|   2021|    2021|            P|       1|          PD|                01|          150860.0|          0.0|                           P|               0.0|                          P|           0.0|                      P|            0.0|                       P|      2022-02-20|               700|                02|       233935.0|       233935.0|          0.0|                           P|               0.0|                          P|           0.0|                      P|            0.0|                     P|      2022-12-25|               700|   0000000|                N|          11485.0|            34486.0|11158.0|  000218139|                 0|                         0|                0|           0|             0|           0|                  150860.0|                  233935.0|        X|        150860.0|                        0.0|                          0.0|                       0.0|                             0.0|                  0.0|               0.0|                     0.0|                           0.0|          0.0|              150860.0|2021|2022-03-01|2023-01-03|       0|       0|\n",
            "|         PH|07151000371066|   187|           299|RYOICHI YAMAJI   ...|  5714 MONTERREY SP...|HOUSTON          ...|                  TX|         770415751|           0000000388|                         |       GRISSOM        |                  CT  |HOFFMAN ESTATES  ...|                   IL|          601691600|     SCHAUMBURG     |  35013|       00|              0|           0|                 0|                       0|          R|     00|   2021|    2021|            P|       1|          PD|                01|          283262.0|          0.0|                           P|               0.0|                          P|           0.0|                      P|            0.0|                       P|      2022-02-16|               700|                02|       244087.0|       244087.0|          0.0|                           P|               0.0|                          P|           0.0|                      P|            0.0|                     P|      2022-12-14|               436|   0000000|                N|          15740.0|            47262.0|11158.0|  000218142|                 0|                         0|                0|           0|             0|           0|                  283262.0|                  244087.0|        X|        283262.0|                        0.0|                          0.0|                       0.0|                             0.0|                  0.0|               0.0|                     0.0|                           0.0|          0.0|              283262.0|2021|2022-03-01|2023-01-03|       0|       0|\n",
            "|         PH|07151000371067|   187|           299|JONG HEE SEO     ...|  272 DORAL CT     ...|ELK GROVE VL     ...|                  IL|         600072793|           0000000384|                         |       GRISSOM        |                  CT  |HOFFMAN ESTATES  ...|                   IL|          601691600|     SCHAUMBURG     |  35013|       00|              0|           0|                 0|                       0|          R|     00|   2021|    2021|            P|       1|          PD|                01|          250702.0|          0.0|                           P|               0.0|                          P|           0.0|                      P|            0.0|                       P|      2022-02-25|               700|                02|       319974.0|       319974.0|          0.0|                           P|               0.0|                          P|           0.0|                      P|            0.0|                     P|      2022-12-22|               700|   0000000|                N|          17033.0|            51145.0|11158.0|  000218143|                 0|                         0|                0|           0|             0|           0|                  250702.0|                  319974.0|        X|        250702.0|                        0.0|                          0.0|                       0.0|                             0.0|                  0.0|               0.0|                     0.0|                           0.0|          0.0|              250702.0|2021|2022-03-01|2023-01-03|       0|       0|\n",
            "|         PH|07151000371068|   187|           299|YURIY KUCHERYAVYY...|  380 GRISSOM CT   ...|HOFFMAN ESTS     ...|                  IL|         601691600|           0000000380|                         |       GRISSOM        |                  CT  |HOFFMAN ESTATES  ...|                   IL|          601691600|     SCHAUMBURG     |  35013|       00|              1|           0|                 0|                       0|          R|     00|   2021|    2021|            P|       1|          PD|                01|          231065.0|          0.0|                           P|               0.0|                          P|           0.0|                      P|            0.0|                       P|      2022-02-11|               700|                02|       191477.0|       191477.0|          0.0|                           P|               0.0|                          P|           0.0|                      P|            0.0|                     P|      2022-12-10|               700|   0000000|                N|          15942.0|            37869.0|11158.0|  000218144|                 0|                         0|                0|           0|             0|           0|                  231065.0|                  191477.0|        X|        231065.0|                        0.0|                          0.0|                       0.0|                             0.0|              10000.0|               0.0|                     0.0|                           0.0|          0.0|              231065.0|2021|2022-03-01|2023-01-03|       0|       0|\n",
            "|         PH|08321010301029|   050|           299|ROBERT JOYCE     ...|  356 TIOSA TRAIL  ...|WOODDALE         ...|                  IL|         601912434|           0000000520|                         |       BIESTERFIELD   |                  RD  |ELK GROVE VILLAGE...|                   IL|          600077327|     ELK GROVE      |  16035|       00|              0|           0|                 0|                       0|          R|     00|   2021|    2021|            P|       1|          PD|                01|          197245.0|          0.0|                           P|               0.0|                          P|           0.0|                      P|            0.0|                       P|      2022-02-07|               431|                02|       175042.0|       175042.0|          0.0|                           P|               0.0|                          P|           0.0|                      P|            0.0|                     P|      2022-12-07|               436|   0000000|                N|          13411.0|            40269.0| 9245.0|  000284244|                 0|                         0|                0|           0|             0|           0|                  197245.0|                  175042.0|        X|        197245.0|                        0.0|                          0.0|                       0.0|                             0.0|                  0.0|               0.0|                     0.0|                           0.0|          0.0|              197245.0|2021|2022-03-01|2023-01-03|       0|       0|\n",
            "|         PH|08321010301030|   050|           299|MARGRET C LOWRY  ...|  197 SMETHWICK LN ...|ELK GROVE VL     ...|                  IL|         600073521|           0000000520|                         |       BIESTERFIELD   |                  RD  |ELK GROVE VILLAGE...|                   IL|          600077327|     ELK GROVE      |  16035|       00|              0|           0|                 0|                       0|          R|     00|   2021|    2021|            P|       1|          PD|                01|          197245.0|          0.0|                           P|               0.0|                          P|           0.0|                      P|            0.0|                       P|      2022-02-06|               431|                02|       175042.0|       175042.0|          0.0|                           P|               0.0|                          P|           0.0|                      P|            0.0|                     P|      2022-12-08|               436|   0000000|                N|          13411.0|            40269.0| 9245.0|  000284245|                 0|                         0|                0|           0|             0|           0|                  197245.0|                  175042.0|        X|        197245.0|                        0.0|                          0.0|                       0.0|                             0.0|                  0.0|               0.0|                     0.0|                           0.0|          0.0|              197245.0|2021|2022-03-01|2023-01-03|       0|       0|\n",
            "+-----------+--------------+------+--------------+--------------------+----------------------+--------------------+--------------------+------------------+---------------------+-------------------------+----------------------+----------------------+--------------------+---------------------+-------------------+--------------------+-------+---------+---------------+------------+------------------+------------------------+-----------+-------+-------+--------+-------------+--------+------------+------------------+------------------+-------------+----------------------------+------------------+---------------------------+--------------+-----------------------+---------------+------------------------+----------------+------------------+------------------+---------------+---------------+-------------+----------------------------+------------------+---------------------------+--------------+-----------------------+---------------+----------------------+----------------+------------------+----------+-----------------+-----------------+-------------------+-------+-----------+------------------+--------------------------+-----------------+------------+--------------+------------+--------------------------+--------------------------+---------+----------------+---------------------------+-----------------------------+--------------------------+--------------------------------+---------------------+------------------+------------------------+------------------------------+-------------+----------------------+----+----------+----------+--------+--------+\n",
            "only showing top 10 rows\n",
            "\n"
          ]
        }
      ]
    },
    {
      "cell_type": "code",
      "source": [
        "data1.count()"
      ],
      "metadata": {
        "colab": {
          "base_uri": "https://localhost:8080/"
        },
        "id": "3-9ZzMTVA3CV",
        "outputId": "aae9575e-ad87-4c83-ae90-39d279c10649"
      },
      "execution_count": 30,
      "outputs": [
        {
          "output_type": "execute_result",
          "data": {
            "text/plain": [
              "4245372"
            ]
          },
          "metadata": {},
          "execution_count": 30
        }
      ]
    },
    {
      "cell_type": "markdown",
      "source": [
        "## Data Cleaning and Transformation"
      ],
      "metadata": {
        "id": "owdXDjckXTXo"
      }
    },
    {
      "cell_type": "code",
      "source": [
        "data1 = data1.withColumn(\"AdjustedAmountDue1\", when(col(\"AdjustedAmountDue1\")>3186751,3186751).otherwise(col(\"AdjustedAmountDue1\")))"
      ],
      "metadata": {
        "id": "fQZVsI05YQB4"
      },
      "execution_count": 31,
      "outputs": []
    },
    {
      "cell_type": "markdown",
      "source": [
        "### Drop columns\n",
        "\n",
        "- drop_cols_inst2 - Drop metrics related to installment2. This is needed for model 1 where we predict Late Payment for 2nd installment at Feb/Mar where we dont have this information yet\n",
        "- drop_cols_univariate (Univariate analysis) - Group by categorical variables and get the count & %count of each category. If one of the categories in the feature is >95%, then remove this feature as it will not be very useful in the model. Some exceptions are present where the feature makes good business sense to be included\n",
        "- drop_cols_numric_corr - Drop numerical columns that are correlated with Pearsons correlation >0.5\n"
      ],
      "metadata": {
        "id": "w_FSVDuRtPHb"
      }
    },
    {
      "cell_type": "code",
      "source": [
        "data1.columns"
      ],
      "metadata": {
        "colab": {
          "base_uri": "https://localhost:8080/"
        },
        "id": "HHrcd3CKZ4y3",
        "outputId": "cf43b5f7-0321-441c-d82b-b0b52d45ab2e"
      },
      "execution_count": 32,
      "outputs": [
        {
          "output_type": "execute_result",
          "data": {
            "text/plain": [
              "['SegmentCode',\n",
              " 'PIN',\n",
              " 'Volume',\n",
              " 'Classification',\n",
              " 'TaxpayerName',\n",
              " 'TaxpayerMailingAddress',\n",
              " 'TaxpayerMailingCity',\n",
              " 'TaxpayerMailingState',\n",
              " 'TaxpayerMailingZip',\n",
              " 'TaxpayerPropertyHouse',\n",
              " 'TaxpayerPropertyDirection',\n",
              " 'TaxpayerPropertyStreet',\n",
              " 'TaxpayerPropertySuffix',\n",
              " 'TaxpayerPropertyCity',\n",
              " 'TaxpayerPropertyState',\n",
              " 'TaxpayerPropertyZip',\n",
              " 'TaxpayerPropertyTown',\n",
              " 'TaxCode',\n",
              " 'TaxStatus',\n",
              " 'HomeownerExempt',\n",
              " 'SeniorExempt',\n",
              " 'SeniorFreezeExempt',\n",
              " 'LongtimeHomeownersExempt',\n",
              " 'TaxInfoType',\n",
              " 'TaxType',\n",
              " 'TaxYear',\n",
              " 'BillYear',\n",
              " 'AccountStatus',\n",
              " 'BillType',\n",
              " 'SegmentCode2',\n",
              " 'InstallmentNumber1',\n",
              " 'AdjustedAmountDue1',\n",
              " 'TaxAmountDue1',\n",
              " 'RefundTaxAmountDueIndicator1',\n",
              " 'InterestAmountDue1',\n",
              " 'RefundInterestDueIndicator1',\n",
              " 'CostAmountDue1',\n",
              " 'RefundCostDueIndicator1',\n",
              " 'TotalAmountDue1',\n",
              " 'RefundTotalDueIndicator1',\n",
              " 'LastPaymentDate1',\n",
              " 'LastPaymentSource1',\n",
              " 'InstallmentNumber2',\n",
              " 'OriginalTaxDue2',\n",
              " 'AdjustedTaxDue2',\n",
              " 'TaxAmountDue2',\n",
              " 'RefundTaxAmountDueIndicator2',\n",
              " 'InterestAmountDue2',\n",
              " 'RefundInterestDueIndicator2',\n",
              " 'CostAmountDue2',\n",
              " 'RefundCostDueIndicator2',\n",
              " 'TotalAmountDue2',\n",
              " 'RefundTaxDueIndicator2',\n",
              " 'LastPaymentDate2',\n",
              " 'LastPaymentSource2',\n",
              " 'CofENumber',\n",
              " 'PastTaxSaleStatus',\n",
              " 'AssessedValuation',\n",
              " 'EqualizedEvaluation',\n",
              " 'TaxRate',\n",
              " 'RecordCount',\n",
              " 'CondemnationStatus',\n",
              " 'MunicipalAcquisitionStatus',\n",
              " 'AcquisitionStatus',\n",
              " 'ExemptStatus',\n",
              " 'BankruptStatus',\n",
              " 'RefundStatus',\n",
              " 'LastPaymentReceivedAmount1',\n",
              " 'LastPaymentReceivedAmount2',\n",
              " 'EndMarker',\n",
              " 'TaxDueEstimated1',\n",
              " 'ReturningVetExemptionAmount',\n",
              " 'DisabledPersonExemptionAmount',\n",
              " 'DisabledVetExemptionAmount',\n",
              " 'DisabledPersonVetExemptionAmount',\n",
              " 'HomeownerExemptAmount',\n",
              " 'SeniorExemptAmount',\n",
              " 'SeniorFreezeExemptAmount',\n",
              " 'LongtimeHomeownersExemptAmount',\n",
              " 'VeteranExempt',\n",
              " 'AdjustedAmountDue1_Org',\n",
              " 'Year',\n",
              " 'PmtDue1',\n",
              " 'PmtDue2',\n",
              " 'LatePmt1',\n",
              " 'LatePmt2']"
            ]
          },
          "metadata": {},
          "execution_count": 32
        }
      ]
    },
    {
      "cell_type": "code",
      "source": [
        "drop_cols_inst2 = data1.columns[42:53] + [\"LastPaymentSource2\"]\n",
        "drop_cols_unrelated = [\"SegmentCode\", \"TaxpayerName\", \"TaxpayerMailingAddress\", \"TaxpayerMailingZip\",\n",
        "                       \"TaxpayerPropertyHouse\",\"TaxpayerPropertyDirection\", \"TaxpayerPropertyStreet\",\n",
        "                       \"TaxpayerPropertyZip\", \"RecordCount\"\n",
        "                       ]\n",
        "drop_cols_univariate = [\"LongtimeHomeownersExempt\", \"TaxInfoType\", \"TaxType\", \"TaxpayerPropertyState\", \"BillYear\", \"SegmentCode2\",\n",
        "                        \"InstallmentNumber1\", \"RefundTaxAmountDueIndicator1\", \"RefundInterestDueIndicator1\",\n",
        "                        \"RefundTotalDueIndicator1\", \"RefundCostDueIndicator1\", \"EndMarker\", \"TaxpayerMailingCity\"\n",
        "                        ]\n",
        "drop_cols_numeric_corr = [\"OriginalTaxDue2\", \"AdjustedTaxDue2\", \"AssessedValuation\", \"EqualizedEvaluation\",\n",
        "                          \"LastPaymentReceivedAmount2\", \"TaxDueEstimated1\", \"LastPaymentReceivedAmount1\",\n",
        "                          \"AdjustedAmountDue1_Org\", \"InterestAmountDue1\", \"TotalAmountDue1\", \"InterestAmountDue2\",\n",
        "                          \"TotalAmountDue2\", \"SeniorExemptAmount\", \"VeteranExempt\"]\n",
        "drop_cols_unverfied = [\"Volume\", \"Classification\"] # dropped due to high cardinality but not verified by other reasons"
      ],
      "metadata": {
        "id": "8ToTkGb3Xcgt"
      },
      "execution_count": 33,
      "outputs": []
    },
    {
      "cell_type": "code",
      "source": [
        "data1 = data1.drop(*drop_cols_inst2)\n",
        "data1 = data1.drop(*drop_cols_unrelated)\n",
        "data1 = data1.drop(*drop_cols_univariate)\n",
        "data1 = data1.drop(*drop_cols_numeric_corr)\n",
        "data1 = data1.drop(*drop_cols_unverfied)"
      ],
      "metadata": {
        "id": "QREyti09j7mt"
      },
      "execution_count": 34,
      "outputs": []
    },
    {
      "cell_type": "markdown",
      "source": [
        "### Data Transformation"
      ],
      "metadata": {
        "id": "nTBJi-x-u5eZ"
      }
    },
    {
      "cell_type": "code",
      "source": [
        "data1=data1.withColumn('TaxpayerMailingState', F.upper(F.col('TaxpayerMailingState')))"
      ],
      "metadata": {
        "id": "a0UdQXcU9DWn"
      },
      "execution_count": 35,
      "outputs": []
    },
    {
      "cell_type": "code",
      "source": [
        "data2=data1.persist()"
      ],
      "metadata": {
        "id": "vCjph_SzTb_U"
      },
      "execution_count": 36,
      "outputs": []
    },
    {
      "cell_type": "code",
      "source": [
        "# Persist data in disk/memory\n",
        "# Until this point Spark does not actually execute any of the above statements (Lazy loading). It only creates a plan\n",
        "# Persist does not get executed until an 'action' command is called on the dataframe (action is count() here)\n",
        "\n",
        "print([data2.count(), len(data2.columns)])"
      ],
      "metadata": {
        "colab": {
          "base_uri": "https://localhost:8080/"
        },
        "id": "wF4j3sMlKQoU",
        "outputId": "8d0799ce-41ae-4a98-b26d-affc429482a7"
      },
      "execution_count": 37,
      "outputs": [
        {
          "output_type": "stream",
          "name": "stdout",
          "text": [
            "[4245372, 40]\n"
          ]
        }
      ]
    },
    {
      "cell_type": "code",
      "source": [
        "data2.columns"
      ],
      "metadata": {
        "colab": {
          "base_uri": "https://localhost:8080/"
        },
        "id": "96yV2-nPaIUh",
        "outputId": "04b5715b-fedb-47ea-9718-5dad6a310962"
      },
      "execution_count": 38,
      "outputs": [
        {
          "output_type": "execute_result",
          "data": {
            "text/plain": [
              "['PIN',\n",
              " 'TaxpayerMailingState',\n",
              " 'TaxpayerPropertySuffix',\n",
              " 'TaxpayerPropertyCity',\n",
              " 'TaxpayerPropertyTown',\n",
              " 'TaxCode',\n",
              " 'TaxStatus',\n",
              " 'HomeownerExempt',\n",
              " 'SeniorExempt',\n",
              " 'SeniorFreezeExempt',\n",
              " 'TaxYear',\n",
              " 'AccountStatus',\n",
              " 'BillType',\n",
              " 'AdjustedAmountDue1',\n",
              " 'TaxAmountDue1',\n",
              " 'CostAmountDue1',\n",
              " 'LastPaymentDate1',\n",
              " 'LastPaymentSource1',\n",
              " 'LastPaymentDate2',\n",
              " 'CofENumber',\n",
              " 'PastTaxSaleStatus',\n",
              " 'TaxRate',\n",
              " 'CondemnationStatus',\n",
              " 'MunicipalAcquisitionStatus',\n",
              " 'AcquisitionStatus',\n",
              " 'ExemptStatus',\n",
              " 'BankruptStatus',\n",
              " 'RefundStatus',\n",
              " 'ReturningVetExemptionAmount',\n",
              " 'DisabledPersonExemptionAmount',\n",
              " 'DisabledVetExemptionAmount',\n",
              " 'DisabledPersonVetExemptionAmount',\n",
              " 'HomeownerExemptAmount',\n",
              " 'SeniorFreezeExemptAmount',\n",
              " 'LongtimeHomeownersExemptAmount',\n",
              " 'Year',\n",
              " 'PmtDue1',\n",
              " 'PmtDue2',\n",
              " 'LatePmt1',\n",
              " 'LatePmt2']"
            ]
          },
          "metadata": {},
          "execution_count": 38
        }
      ]
    },
    {
      "cell_type": "code",
      "source": [
        "data2.show()"
      ],
      "metadata": {
        "colab": {
          "base_uri": "https://localhost:8080/"
        },
        "id": "xF8XQOKCrHK8",
        "outputId": "036bd3cd-4b6c-4566-d208-7c1713bf9398"
      },
      "execution_count": 44,
      "outputs": [
        {
          "output_type": "stream",
          "name": "stdout",
          "text": [
            "+--------------+--------------------+----------------------+--------------------+--------------------+-------+---------+---------------+------------+------------------+-------+-------------+--------+------------------+-------------+--------------+----------------+------------------+----------------+----------+-----------------+-------+------------------+--------------------------+-----------------+------------+--------------+------------+---------------------------+-----------------------------+--------------------------+--------------------------------+---------------------+------------------------+------------------------------+----+----------+----------+--------+--------+\n",
            "|           PIN|TaxpayerMailingState|TaxpayerPropertySuffix|TaxpayerPropertyCity|TaxpayerPropertyTown|TaxCode|TaxStatus|HomeownerExempt|SeniorExempt|SeniorFreezeExempt|TaxYear|AccountStatus|BillType|AdjustedAmountDue1|TaxAmountDue1|CostAmountDue1|LastPaymentDate1|LastPaymentSource1|LastPaymentDate2|CofENumber|PastTaxSaleStatus|TaxRate|CondemnationStatus|MunicipalAcquisitionStatus|AcquisitionStatus|ExemptStatus|BankruptStatus|RefundStatus|ReturningVetExemptionAmount|DisabledPersonExemptionAmount|DisabledVetExemptionAmount|DisabledPersonVetExemptionAmount|HomeownerExemptAmount|SeniorFreezeExemptAmount|LongtimeHomeownersExemptAmount|Year|   PmtDue1|   PmtDue2|LatePmt1|LatePmt2|\n",
            "+--------------+--------------------+----------------------+--------------------+--------------------+-------+---------+---------------+------------+------------------+-------+-------------+--------+------------------+-------------+--------------+----------------+------------------+----------------+----------+-----------------+-------+------------------+--------------------------+-----------------+------------+--------------+------------+---------------------------+-----------------------------+--------------------------+--------------------------------+---------------------+------------------------+------------------------------+----+----------+----------+--------+--------+\n",
            "|07151000371056|                  IL|                  CT  |HOFFMAN ESTATES  ...|     SCHAUMBURG     |  35013|       00|              1|           0|                 0|   2021|            P|       1|          227431.0|          0.0|           0.0|      2022-02-16|               444|      2022-12-21|   0000000|                N|11158.0|                 0|                         0|                0|           0|             0|           0|                        0.0|                          0.0|                       0.0|                             0.0|              10000.0|                     0.0|                           0.0|2021|2022-03-01|2023-01-03|       0|       0|\n",
            "|07151000371059|                  IL|                  CT  |HOFFMAN ESTATES  ...|     SCHAUMBURG     |  35013|       03|              1|           1|                 0|   2021|            P|       1|          206037.0|          0.0|           0.0|      2022-03-01|               431|      2022-12-07|   0000000|                N|11158.0|                 0|                         0|                0|           1|             0|           0|                        0.0|                          0.0|                       0.0|                             0.0|              10000.0|                     0.0|                           0.0|2021|2022-03-01|2023-01-03|       0|       0|\n",
            "|07151000371060|                  IL|                  CT  |HOFFMAN ESTATES  ...|     SCHAUMBURG     |  35013|       03|              1|           1|                 0|   2021|            P|       1|          186401.0|          0.0|           0.0|      2022-02-26|               444|      2022-12-21|   0000000|                N|11158.0|                 0|                         0|                0|           1|             0|           0|                        0.0|                          0.0|                       0.0|                             0.0|              10000.0|                     0.0|                           0.0|2021|2022-03-01|2023-01-03|       0|       0|\n",
            "|07151000371062|                  IL|                  CT  |HOFFMAN ESTATES  ...|     SCHAUMBURG     |  35013|       00|              1|           0|                 0|   2021|            P|       1|          250702.0|          0.0|           0.0|      2022-02-28|               700|      2022-12-26|   0000000|                N|11158.0|                 0|                         0|                0|           0|             0|           0|                        0.0|                          0.0|                       0.0|                             0.0|              10000.0|                     0.0|                           0.0|2021|2022-03-01|2023-01-03|       0|       0|\n",
            "|07151000371063|                  TX|                  CT  |HOFFMAN ESTATES  ...|     SCHAUMBURG     |  35013|       00|              0|           0|                 0|   2021|            P|       1|          150860.0|          0.0|           0.0|      2022-02-20|               700|      2022-12-25|   0000000|                N|11158.0|                 0|                         0|                0|           0|             0|           0|                        0.0|                          0.0|                       0.0|                             0.0|                  0.0|                     0.0|                           0.0|2021|2022-03-01|2023-01-03|       0|       0|\n",
            "|07151000371066|                  TX|                  CT  |HOFFMAN ESTATES  ...|     SCHAUMBURG     |  35013|       00|              0|           0|                 0|   2021|            P|       1|          283262.0|          0.0|           0.0|      2022-02-16|               700|      2022-12-14|   0000000|                N|11158.0|                 0|                         0|                0|           0|             0|           0|                        0.0|                          0.0|                       0.0|                             0.0|                  0.0|                     0.0|                           0.0|2021|2022-03-01|2023-01-03|       0|       0|\n",
            "|07151000371067|                  IL|                  CT  |HOFFMAN ESTATES  ...|     SCHAUMBURG     |  35013|       00|              0|           0|                 0|   2021|            P|       1|          250702.0|          0.0|           0.0|      2022-02-25|               700|      2022-12-22|   0000000|                N|11158.0|                 0|                         0|                0|           0|             0|           0|                        0.0|                          0.0|                       0.0|                             0.0|                  0.0|                     0.0|                           0.0|2021|2022-03-01|2023-01-03|       0|       0|\n",
            "|07151000371068|                  IL|                  CT  |HOFFMAN ESTATES  ...|     SCHAUMBURG     |  35013|       00|              1|           0|                 0|   2021|            P|       1|          231065.0|          0.0|           0.0|      2022-02-11|               700|      2022-12-10|   0000000|                N|11158.0|                 0|                         0|                0|           0|             0|           0|                        0.0|                          0.0|                       0.0|                             0.0|              10000.0|                     0.0|                           0.0|2021|2022-03-01|2023-01-03|       0|       0|\n",
            "|08321010301029|                  IL|                  RD  |ELK GROVE VILLAGE...|     ELK GROVE      |  16035|       00|              0|           0|                 0|   2021|            P|       1|          197245.0|          0.0|           0.0|      2022-02-07|               431|      2022-12-07|   0000000|                N| 9245.0|                 0|                         0|                0|           0|             0|           0|                        0.0|                          0.0|                       0.0|                             0.0|                  0.0|                     0.0|                           0.0|2021|2022-03-01|2023-01-03|       0|       0|\n",
            "|08321010301030|                  IL|                  RD  |ELK GROVE VILLAGE...|     ELK GROVE      |  16035|       00|              0|           0|                 0|   2021|            P|       1|          197245.0|          0.0|           0.0|      2022-02-06|               431|      2022-12-08|   0000000|                N| 9245.0|                 0|                         0|                0|           0|             0|           0|                        0.0|                          0.0|                       0.0|                             0.0|                  0.0|                     0.0|                           0.0|2021|2022-03-01|2023-01-03|       0|       0|\n",
            "|08321010301032|                  IL|                  RD  |ELK GROVE VILLAGE...|     ELK GROVE      |  16035|       00|              0|           0|                 0|   2021|            P|       1|          197245.0|          0.0|           0.0|      2022-02-06|               431|      2022-12-07|   0000000|                N| 9245.0|                 0|                         0|                0|           0|             0|           0|                        0.0|                          0.0|                       0.0|                             0.0|                  0.0|                     0.0|                           0.0|2021|2022-03-01|2023-01-03|       0|       0|\n",
            "|08321010301034|                  IL|                  RD  |ELK GROVE VILLAGE...|     ELK GROVE      |  16035|       00|              1|           0|                 0|   2021|            P|       1|          151617.0|          0.0|           0.0|      2022-02-28|               444|      2022-12-12|   0000000|                N| 9245.0|                 0|                         0|                0|           0|             0|           0|                        0.0|                          0.0|                       0.0|                             0.0|              10000.0|                     0.0|                           0.0|2021|2022-03-01|2023-01-03|       0|       0|\n",
            "|08321010301035|                  IL|                  RD  |ELK GROVE VILLAGE...|     ELK GROVE      |  16035|       00|              1|           0|                 0|   2021|            P|       1|          151617.0|          0.0|           0.0|      2022-02-18|               444|      2022-12-06|   0000000|                N| 9245.0|                 0|                         0|                0|           0|             0|           0|                        0.0|                          0.0|                       0.0|                             0.0|              10000.0|                     0.0|                           0.0|2021|2022-03-01|2023-01-03|       0|       0|\n",
            "|08321010301037|                  IL|                  RD  |ELK GROVE VILLAGE...|     ELK GROVE      |  16035|       00|              0|           0|                 0|   2021|            P|       1|          197245.0|          0.0|           0.0|      2022-09-28|               801|      2023-01-30|   0000000|                N| 9245.0|                 0|                         0|                0|           0|             0|           0|                        0.0|                          0.0|                       0.0|                             0.0|                  0.0|                     0.0|                           0.0|2021|2022-03-01|2023-01-03|       1|       1|\n",
            "|08321010301041|                  IL|                  RD  |ELK GROVE VILLAGE...|     ELK GROVE      |  16035|       00|              1|           0|                 0|   2021|            P|       1|          151617.0|          0.0|           0.0|      2022-03-01|               444|      2022-12-27|   0000000|                N| 9245.0|                 0|                         0|                0|           0|             0|           0|                        0.0|                          0.0|                       0.0|                             0.0|              10000.0|                     0.0|                           0.0|2021|2022-03-01|2023-01-03|       0|       0|\n",
            "|08321010301016|                  IL|                  RD  |ELK GROVE VILLAGE...|     ELK GROVE      |  16035|       03|              1|           1|                 0|   2021|            P|       1|           57195.0|          0.0|           0.0|      2022-02-23|               700|      2022-12-19|   0000000|                N| 9245.0|                 0|                         0|                0|           1|             0|           0|                        0.0|                          0.0|                       0.0|                             0.0|              10000.0|                     0.0|                           0.0|2021|2022-03-01|2023-01-03|       0|       0|\n",
            "|08321010301017|                  IL|                  RD  |ELK GROVE VILLAGE...|     ELK GROVE      |  16035|       00|              0|           0|                 0|   2021|            P|       1|          139325.0|          0.0|           0.0|      2022-02-03|               700|      2022-12-04|   0000000|                N| 9245.0|                 0|                         0|                0|           0|             0|           0|                        0.0|                          0.0|                       0.0|                             0.0|                  0.0|                     0.0|                           0.0|2021|2022-03-01|2023-01-03|       0|       0|\n",
            "|08321010301020|                  IL|                  RD  |ELK GROVE VILLAGE...|     ELK GROVE      |  16035|       00|              1|           0|                 0|   2021|            P|       1|           93697.0|          0.0|           0.0|      2022-02-04|               444|      2022-12-06|   0000000|                N| 9245.0|                 0|                         0|                0|           0|             0|           0|                        0.0|                          0.0|                       0.0|                             0.0|              10000.0|                     0.0|                           0.0|2021|2022-03-01|2023-01-03|       0|       0|\n",
            "|08321010301021|                  IL|                  RD  |ELK GROVE VILLAGE...|     ELK GROVE      |  16035|       00|              0|           0|                 0|   2021|            P|       1|          139325.0|          0.0|           0.0|      2022-02-28|               444|      2022-12-21|   0000000|                N| 9245.0|                 0|                         0|                0|           0|             0|           0|                        0.0|                          0.0|                       0.0|                             0.0|                  0.0|                     0.0|                           0.0|2021|2022-03-01|2023-01-03|       0|       0|\n",
            "|08321010301022|                  IL|                  RD  |ELK GROVE VILLAGE...|     ELK GROVE      |  16035|       00|              0|           0|                 0|   2021|            P|       1|          139325.0|          0.0|           0.0|      2022-02-11|               700|      2022-11-29|   0000000|                N| 9245.0|                 0|                         0|                0|           0|             0|           0|                        0.0|                          0.0|                       0.0|                             0.0|                  0.0|                     0.0|                           0.0|2021|2022-03-01|2023-01-03|       0|       0|\n",
            "+--------------+--------------------+----------------------+--------------------+--------------------+-------+---------+---------------+------------+------------------+-------+-------------+--------+------------------+-------------+--------------+----------------+------------------+----------------+----------+-----------------+-------+------------------+--------------------------+-----------------+------------+--------------+------------+---------------------------+-----------------------------+--------------------------+--------------------------------+---------------------+------------------------+------------------------------+----+----------+----------+--------+--------+\n",
            "only showing top 20 rows\n",
            "\n"
          ]
        }
      ]
    },
    {
      "cell_type": "code",
      "source": [
        "data2.select(count_distinct('TaxCode')).show()"
      ],
      "metadata": {
        "colab": {
          "base_uri": "https://localhost:8080/"
        },
        "id": "XN2C5dnnrwex",
        "outputId": "99e80765-5d4d-4693-e948-d81c70bd4f1f"
      },
      "execution_count": 60,
      "outputs": [
        {
          "output_type": "stream",
          "name": "stdout",
          "text": [
            "+-----------------------+\n",
            "|count(DISTINCT TaxCode)|\n",
            "+-----------------------+\n",
            "|                   3143|\n",
            "+-----------------------+\n",
            "\n"
          ]
        }
      ]
    },
    {
      "cell_type": "code",
      "source": [
        "data2=data2.withColumn(\"AreaFromPin\", substring(col(\"PIN\"), 1, 2))"
      ],
      "metadata": {
        "id": "W9ckmFjCtQ9E"
      },
      "execution_count": 39,
      "outputs": []
    },
    {
      "cell_type": "code",
      "source": [
        "data2.select(count_distinct('AreaFromPin')).show()"
      ],
      "metadata": {
        "colab": {
          "base_uri": "https://localhost:8080/"
        },
        "id": "R8NE-JFMzNNB",
        "outputId": "e7b4cc5f-a14c-4b75-a539-609e6bd7b0b4"
      },
      "execution_count": 62,
      "outputs": [
        {
          "output_type": "stream",
          "name": "stdout",
          "text": [
            "+---------------------------+\n",
            "|count(DISTINCT AreaFromPin)|\n",
            "+---------------------------+\n",
            "|                         33|\n",
            "+---------------------------+\n",
            "\n"
          ]
        }
      ]
    },
    {
      "cell_type": "code",
      "source": [
        "data2.select('AreaFromPin').distinct().collect()"
      ],
      "metadata": {
        "colab": {
          "base_uri": "https://localhost:8080/"
        },
        "id": "xyQxRHk3zT5q",
        "outputId": "4373d2db-00f5-4277-ebc3-de6aa313d69e"
      },
      "execution_count": 40,
      "outputs": [
        {
          "output_type": "execute_result",
          "data": {
            "text/plain": [
              "[Row(AreaFromPin='07'),\n",
              " Row(AreaFromPin='11'),\n",
              " Row(AreaFromPin='01'),\n",
              " Row(AreaFromPin='09'),\n",
              " Row(AreaFromPin='08'),\n",
              " Row(AreaFromPin='03'),\n",
              " Row(AreaFromPin='02'),\n",
              " Row(AreaFromPin='10'),\n",
              " Row(AreaFromPin='12'),\n",
              " Row(AreaFromPin='13'),\n",
              " Row(AreaFromPin='05'),\n",
              " Row(AreaFromPin='06'),\n",
              " Row(AreaFromPin='04'),\n",
              " Row(AreaFromPin='14'),\n",
              " Row(AreaFromPin='15'),\n",
              " Row(AreaFromPin='22'),\n",
              " Row(AreaFromPin='16'),\n",
              " Row(AreaFromPin='18'),\n",
              " Row(AreaFromPin='17'),\n",
              " Row(AreaFromPin='19'),\n",
              " Row(AreaFromPin='23'),\n",
              " Row(AreaFromPin='24'),\n",
              " Row(AreaFromPin='20'),\n",
              " Row(AreaFromPin='21'),\n",
              " Row(AreaFromPin='29'),\n",
              " Row(AreaFromPin='28'),\n",
              " Row(AreaFromPin='27'),\n",
              " Row(AreaFromPin='26'),\n",
              " Row(AreaFromPin='25'),\n",
              " Row(AreaFromPin='30'),\n",
              " Row(AreaFromPin='31'),\n",
              " Row(AreaFromPin='33'),\n",
              " Row(AreaFromPin='32')]"
            ]
          },
          "metadata": {},
          "execution_count": 40
        }
      ]
    },
    {
      "cell_type": "code",
      "source": [
        "data2.select('BillType').distinct().collect()"
      ],
      "metadata": {
        "colab": {
          "base_uri": "https://localhost:8080/"
        },
        "id": "Hh9OINxuEzII",
        "outputId": "937bdc99-5fd4-4009-c72b-4e1f81cbdac1"
      },
      "execution_count": 41,
      "outputs": [
        {
          "output_type": "execute_result",
          "data": {
            "text/plain": [
              "[Row(BillType='3'), Row(BillType='1'), Row(BillType='4')]"
            ]
          },
          "metadata": {},
          "execution_count": 41
        }
      ]
    },
    {
      "cell_type": "code",
      "source": [
        "#data2 = data2.withColumn(\"TaxpayerPropertyCity\", when(data2.TaxpayerPropertyCity=='CHICAGO               ', 1).otherwise(0))\n",
        "data2 = data2.withColumn(\"TaxpayerMailingState\", when(data2.TaxpayerMailingState==\"IL\", 1).otherwise(0))\n",
        "#data2 = data2.withColumn(\"BillType\", when(data2.BillType==\"1\", 1).otherwise(0))\n",
        "#data2 = data2.withColumn(\"TaxSale\", when(data2.LastPaymentDate2==\"00000000\", 1).otherwise(0))\n",
        "data2 = data2.withColumn(\"CofENumber\", when(data2.CofENumber==\"0000000\", 0).otherwise(1))\n",
        "#data1 = data1.withColumn(\"DiffPmt1\", f.datediff(col(\"LastPaymentDate1\"), col(\"PmtDue1\")))\n",
        "#data1 = data1.withColumn(\"DiffPmt1\", when(col(\"DiffPmt1\")<0,0).otherwise(col(\"DiffPmt1\")))\n",
        "#data2 = data2.withColumn(\"Volume\", col(\"Volume\").cast(\"int\"))\n",
        "#data2 = data2.withColumn(\"TaxStatus\", col(\"TaxStatus\").cast(\"int\"))\n",
        "data2 = data2.withColumn(\"PastTaxSaleStatus\", when(col(\"PastTaxSaleStatus\")==\"Y\", 1).otherwise(0))"
      ],
      "metadata": {
        "id": "kidacUDxjpVZ"
      },
      "execution_count": 42,
      "outputs": []
    },
    {
      "cell_type": "code",
      "source": [
        "data2.dtypes"
      ],
      "metadata": {
        "colab": {
          "base_uri": "https://localhost:8080/"
        },
        "id": "jMnQGEFvdzbL",
        "outputId": "8c2cf417-5d86-4be1-a722-b34ad504815c"
      },
      "execution_count": 43,
      "outputs": [
        {
          "output_type": "execute_result",
          "data": {
            "text/plain": [
              "[('PIN', 'string'),\n",
              " ('TaxpayerMailingState', 'int'),\n",
              " ('TaxpayerPropertySuffix', 'string'),\n",
              " ('TaxpayerPropertyCity', 'string'),\n",
              " ('TaxpayerPropertyTown', 'string'),\n",
              " ('TaxCode', 'string'),\n",
              " ('TaxStatus', 'string'),\n",
              " ('HomeownerExempt', 'string'),\n",
              " ('SeniorExempt', 'string'),\n",
              " ('SeniorFreezeExempt', 'string'),\n",
              " ('TaxYear', 'string'),\n",
              " ('AccountStatus', 'string'),\n",
              " ('BillType', 'string'),\n",
              " ('AdjustedAmountDue1', 'float'),\n",
              " ('TaxAmountDue1', 'float'),\n",
              " ('CostAmountDue1', 'float'),\n",
              " ('LastPaymentDate1', 'date'),\n",
              " ('LastPaymentSource1', 'string'),\n",
              " ('LastPaymentDate2', 'date'),\n",
              " ('CofENumber', 'int'),\n",
              " ('PastTaxSaleStatus', 'int'),\n",
              " ('TaxRate', 'float'),\n",
              " ('CondemnationStatus', 'string'),\n",
              " ('MunicipalAcquisitionStatus', 'string'),\n",
              " ('AcquisitionStatus', 'string'),\n",
              " ('ExemptStatus', 'string'),\n",
              " ('BankruptStatus', 'string'),\n",
              " ('RefundStatus', 'string'),\n",
              " ('ReturningVetExemptionAmount', 'float'),\n",
              " ('DisabledPersonExemptionAmount', 'float'),\n",
              " ('DisabledVetExemptionAmount', 'float'),\n",
              " ('DisabledPersonVetExemptionAmount', 'float'),\n",
              " ('HomeownerExemptAmount', 'float'),\n",
              " ('SeniorFreezeExemptAmount', 'float'),\n",
              " ('LongtimeHomeownersExemptAmount', 'float'),\n",
              " ('Year', 'int'),\n",
              " ('PmtDue1', 'date'),\n",
              " ('PmtDue2', 'date'),\n",
              " ('LatePmt1', 'int'),\n",
              " ('LatePmt2', 'int'),\n",
              " ('AreaFromPin', 'string')]"
            ]
          },
          "metadata": {},
          "execution_count": 43
        }
      ]
    },
    {
      "cell_type": "code",
      "source": [
        "data2.select('LastPaymentSource1').distinct().collect()"
      ],
      "metadata": {
        "colab": {
          "base_uri": "https://localhost:8080/"
        },
        "id": "CMchYNIQ0j4a",
        "outputId": "61c6f3f8-cd0b-4e77-f26b-5412d559bba3"
      },
      "execution_count": 44,
      "outputs": [
        {
          "output_type": "execute_result",
          "data": {
            "text/plain": [
              "[Row(LastPaymentSource1='700'),\n",
              " Row(LastPaymentSource1='521'),\n",
              " Row(LastPaymentSource1='428'),\n",
              " Row(LastPaymentSource1='422'),\n",
              " Row(LastPaymentSource1='432'),\n",
              " Row(LastPaymentSource1='423'),\n",
              " Row(LastPaymentSource1='421'),\n",
              " Row(LastPaymentSource1='505'),\n",
              " Row(LastPaymentSource1='801'),\n",
              " Row(LastPaymentSource1='501'),\n",
              " Row(LastPaymentSource1='525'),\n",
              " Row(LastPaymentSource1='436'),\n",
              " Row(LastPaymentSource1='437'),\n",
              " Row(LastPaymentSource1='526'),\n",
              " Row(LastPaymentSource1='427'),\n",
              " Row(LastPaymentSource1='444'),\n",
              " Row(LastPaymentSource1='750'),\n",
              " Row(LastPaymentSource1='463'),\n",
              " Row(LastPaymentSource1='431'),\n",
              " Row(LastPaymentSource1='426'),\n",
              " Row(LastPaymentSource1='000'),\n",
              " Row(LastPaymentSource1='831'),\n",
              " Row(LastPaymentSource1='476'),\n",
              " Row(LastPaymentSource1='407'),\n",
              " Row(LastPaymentSource1='823'),\n",
              " Row(LastPaymentSource1='481'),\n",
              " Row(LastPaymentSource1='477'),\n",
              " Row(LastPaymentSource1='486'),\n",
              " Row(LastPaymentSource1='471'),\n",
              " Row(LastPaymentSource1='482'),\n",
              " Row(LastPaymentSource1='472'),\n",
              " Row(LastPaymentSource1='487'),\n",
              " Row(LastPaymentSource1='478'),\n",
              " Row(LastPaymentSource1='473'),\n",
              " Row(LastPaymentSource1='522')]"
            ]
          },
          "metadata": {},
          "execution_count": 44
        }
      ]
    },
    {
      "cell_type": "code",
      "source": [
        "#further deciding to drop TaxpayerPropertyCity,TaxpayerPropertySuffix,TaxpayerPropertyTown, TaxCode.\n",
        "# too much cardinality and 'AreafromPin' could  possibly be enough (havent done any real analysis)"
      ],
      "metadata": {
        "id": "3p4jOJO45F7w"
      },
      "execution_count": null,
      "outputs": []
    },
    {
      "cell_type": "markdown",
      "source": [
        "### Drop other columns"
      ],
      "metadata": {
        "id": "YAmQF1O514m9"
      }
    },
    {
      "cell_type": "code",
      "source": [
        "other_cols = [\"LastPaymentDate1\", \"LastPaymentDate2\", \"PmtDue1\", \"PmtDue2\", \"PIN\", \"Year\"]"
      ],
      "metadata": {
        "id": "xvX9PiPiSrw4"
      },
      "execution_count": 45,
      "outputs": []
    },
    {
      "cell_type": "code",
      "source": [
        "#data4 = data4.drop(*woe_transform_cols)\n",
        "data2 = data2.drop(*other_cols)"
      ],
      "metadata": {
        "id": "shckPBQOQB88"
      },
      "execution_count": 46,
      "outputs": []
    },
    {
      "cell_type": "code",
      "source": [
        "# for c in string_cols:\n",
        "#   data4 = data4.withColumn(c, data4[c].cast('int'))"
      ],
      "metadata": {
        "id": "RWS0ddPOwTYp"
      },
      "execution_count": null,
      "outputs": []
    },
    {
      "cell_type": "code",
      "source": [
        "data2 = data2.drop('LatePmt1') #drop since not part of original dataset"
      ],
      "metadata": {
        "id": "RdGjRAjjOEBd"
      },
      "execution_count": 47,
      "outputs": []
    },
    {
      "cell_type": "code",
      "source": [
        "data2=data2.drop('RefundStatus')#drop since univariate"
      ],
      "metadata": {
        "id": "AyHIRGjXOO5r"
      },
      "execution_count": 48,
      "outputs": []
    },
    {
      "cell_type": "code",
      "source": [
        "data2=data2.drop('TaxCode')#drop for reasons explained earlier\n",
        "data2=data2.drop('TaxpayerPropertySuffix')\n",
        "data2=data2.drop('TaxpayerPropertyTown')\n",
        "data2=data2.drop('TaxpayerPropertyCity')"
      ],
      "metadata": {
        "id": "o8RV0uwiAkQW"
      },
      "execution_count": 49,
      "outputs": []
    },
    {
      "cell_type": "code",
      "source": [
        "data2.dtypes"
      ],
      "metadata": {
        "colab": {
          "base_uri": "https://localhost:8080/"
        },
        "id": "nTc0lfx5A0id",
        "outputId": "89fa91a9-5e29-474b-9e38-d723213c4229"
      },
      "execution_count": 50,
      "outputs": [
        {
          "output_type": "execute_result",
          "data": {
            "text/plain": [
              "[('TaxpayerMailingState', 'int'),\n",
              " ('TaxStatus', 'string'),\n",
              " ('HomeownerExempt', 'string'),\n",
              " ('SeniorExempt', 'string'),\n",
              " ('SeniorFreezeExempt', 'string'),\n",
              " ('TaxYear', 'string'),\n",
              " ('AccountStatus', 'string'),\n",
              " ('BillType', 'string'),\n",
              " ('AdjustedAmountDue1', 'float'),\n",
              " ('TaxAmountDue1', 'float'),\n",
              " ('CostAmountDue1', 'float'),\n",
              " ('LastPaymentSource1', 'string'),\n",
              " ('CofENumber', 'int'),\n",
              " ('PastTaxSaleStatus', 'int'),\n",
              " ('TaxRate', 'float'),\n",
              " ('CondemnationStatus', 'string'),\n",
              " ('MunicipalAcquisitionStatus', 'string'),\n",
              " ('AcquisitionStatus', 'string'),\n",
              " ('ExemptStatus', 'string'),\n",
              " ('BankruptStatus', 'string'),\n",
              " ('ReturningVetExemptionAmount', 'float'),\n",
              " ('DisabledPersonExemptionAmount', 'float'),\n",
              " ('DisabledVetExemptionAmount', 'float'),\n",
              " ('DisabledPersonVetExemptionAmount', 'float'),\n",
              " ('HomeownerExemptAmount', 'float'),\n",
              " ('SeniorFreezeExemptAmount', 'float'),\n",
              " ('LongtimeHomeownersExemptAmount', 'float'),\n",
              " ('LatePmt2', 'int'),\n",
              " ('AreaFromPin', 'string')]"
            ]
          },
          "metadata": {},
          "execution_count": 50
        }
      ]
    },
    {
      "cell_type": "markdown",
      "source": [
        "## Model Building"
      ],
      "metadata": {
        "id": "7R1I5YAO_ttn"
      }
    },
    {
      "cell_type": "code",
      "source": [
        "#feature_cols = data4.columns\n",
        "#feature_cols.remove(\"LatePmt2\")"
      ],
      "metadata": {
        "id": "uuA9NbDywooA"
      },
      "execution_count": null,
      "outputs": []
    },
    {
      "cell_type": "code",
      "source": [
        "from pyspark.ml.feature import OneHotEncoder, StringIndexer, VectorAssembler\n",
        "\n",
        "# Convert all features into a vector with name 'features'\n",
        "#assembler = VectorAssembler(inputCols=feature_cols, outputCol=\"features\")\n",
        "#data4 = assembler.transform(data4)"
      ],
      "metadata": {
        "id": "VZSG5lcjvIu2"
      },
      "execution_count": 54,
      "outputs": []
    },
    {
      "cell_type": "code",
      "source": [
        "categorical_feats=['TaxpayerMailingState','TaxStatus',\n",
        "                                   'HomeownerExempt','SeniorExempt', 'SeniorFreezeExempt',\n",
        "                                    'AccountStatus', 'BillType','LastPaymentSource1','CofENumber',\n",
        "                                    'PastTaxSaleStatus', 'CondemnationStatus',\n",
        "                                   'MunicipalAcquisitionStatus', 'AcquisitionStatus','ExemptStatus','BankruptStatus',\n",
        "                                    'AreaFromPin']"
      ],
      "metadata": {
        "id": "wHGUJSj6Wfcy"
      },
      "execution_count": 55,
      "outputs": []
    },
    {
      "cell_type": "code",
      "source": [
        "for col in categorical_feats:\n",
        "  print(data2.select(col).distinct().collect())\n"
      ],
      "metadata": {
        "colab": {
          "base_uri": "https://localhost:8080/"
        },
        "id": "sTfxOjj17SB5",
        "outputId": "67d8b2e6-d1fe-4aff-f580-2022ade193a2"
      },
      "execution_count": 57,
      "outputs": [
        {
          "output_type": "stream",
          "name": "stdout",
          "text": [
            "[Row(TaxpayerMailingState=1), Row(TaxpayerMailingState=0)]\n",
            "[Row(TaxStatus='00'), Row(TaxStatus='05'), Row(TaxStatus='03')]\n",
            "[Row(HomeownerExempt='0'), Row(HomeownerExempt='1'), Row(HomeownerExempt='2')]\n",
            "[Row(SeniorExempt='0'), Row(SeniorExempt='1'), Row(SeniorExempt='2')]\n",
            "[Row(SeniorFreezeExempt='0'), Row(SeniorFreezeExempt='1'), Row(SeniorFreezeExempt='2')]\n",
            "[Row(AccountStatus='O'), Row(AccountStatus='P')]\n",
            "[Row(BillType='3'), Row(BillType='1'), Row(BillType='4')]\n",
            "[Row(LastPaymentSource1='700'), Row(LastPaymentSource1='521'), Row(LastPaymentSource1='428'), Row(LastPaymentSource1='422'), Row(LastPaymentSource1='432'), Row(LastPaymentSource1='423'), Row(LastPaymentSource1='421'), Row(LastPaymentSource1='505'), Row(LastPaymentSource1='801'), Row(LastPaymentSource1='501'), Row(LastPaymentSource1='525'), Row(LastPaymentSource1='436'), Row(LastPaymentSource1='437'), Row(LastPaymentSource1='526'), Row(LastPaymentSource1='427'), Row(LastPaymentSource1='444'), Row(LastPaymentSource1='750'), Row(LastPaymentSource1='463'), Row(LastPaymentSource1='431'), Row(LastPaymentSource1='426'), Row(LastPaymentSource1='000'), Row(LastPaymentSource1='831'), Row(LastPaymentSource1='476'), Row(LastPaymentSource1='407'), Row(LastPaymentSource1='823'), Row(LastPaymentSource1='481'), Row(LastPaymentSource1='477'), Row(LastPaymentSource1='486'), Row(LastPaymentSource1='471'), Row(LastPaymentSource1='482'), Row(LastPaymentSource1='472'), Row(LastPaymentSource1='487'), Row(LastPaymentSource1='478'), Row(LastPaymentSource1='473'), Row(LastPaymentSource1='522')]\n",
            "[Row(CofENumber=1), Row(CofENumber=0)]\n",
            "[Row(PastTaxSaleStatus=1), Row(PastTaxSaleStatus=0)]\n",
            "[Row(CondemnationStatus='0'), Row(CondemnationStatus='1')]\n",
            "[Row(MunicipalAcquisitionStatus='0'), Row(MunicipalAcquisitionStatus='1')]\n",
            "[Row(AcquisitionStatus='0'), Row(AcquisitionStatus='1')]\n",
            "[Row(ExemptStatus='0'), Row(ExemptStatus='1'), Row(ExemptStatus='2')]\n",
            "[Row(BankruptStatus='0'), Row(BankruptStatus='1')]\n",
            "[Row(AreaFromPin='07'), Row(AreaFromPin='11'), Row(AreaFromPin='01'), Row(AreaFromPin='09'), Row(AreaFromPin='08'), Row(AreaFromPin='03'), Row(AreaFromPin='02'), Row(AreaFromPin='10'), Row(AreaFromPin='12'), Row(AreaFromPin='13'), Row(AreaFromPin='05'), Row(AreaFromPin='06'), Row(AreaFromPin='04'), Row(AreaFromPin='14'), Row(AreaFromPin='15'), Row(AreaFromPin='22'), Row(AreaFromPin='16'), Row(AreaFromPin='18'), Row(AreaFromPin='17'), Row(AreaFromPin='19'), Row(AreaFromPin='23'), Row(AreaFromPin='24'), Row(AreaFromPin='20'), Row(AreaFromPin='21'), Row(AreaFromPin='29'), Row(AreaFromPin='28'), Row(AreaFromPin='27'), Row(AreaFromPin='26'), Row(AreaFromPin='25'), Row(AreaFromPin='30'), Row(AreaFromPin='31'), Row(AreaFromPin='33'), Row(AreaFromPin='32')]\n"
          ]
        }
      ]
    },
    {
      "cell_type": "markdown",
      "source": [
        "### very, extremely inefficient way of one-hot encoding"
      ],
      "metadata": {
        "id": "gAp4uKGTEqs1"
      }
    },
    {
      "cell_type": "code",
      "source": [
        "data2 = data2.withColumn(\"TaxpayerMailingState_IL\", when(data2.TaxpayerMailingState == 1, 1).otherwise(0))\n",
        "data2 = data2.withColumn('TaxpayerMailingState_nonIL', when(col('TaxpayerMailingState') == 0, 1).otherwise(0))\n",
        "\n",
        "data2 = data2.withColumn('TaxStatus_00', when(col('TaxStatus') == '00', 1).otherwise(0))\n",
        "data2 = data2.withColumn('TaxStatus_05', when(col('TaxStatus') == '05', 1).otherwise(0))\n",
        "data2 = data2.withColumn('TaxStatus_03', when(col('TaxStatus') == '03', 1).otherwise(0))\n",
        "\n",
        "data2 = data2.withColumn('HomeownerExempt_0', when(col('HomeownerExempt') == '0', 1).otherwise(0))\n",
        "data2 = data2.withColumn('HomeownerExempt_1', when(col('HomeownerExempt') == '1', 1).otherwise(0))\n",
        "data2 = data2.withColumn('HomeownerExempt_2', when(col('HomeownerExempt') == '2', 1).otherwise(0))\n",
        "\n",
        "data2 = data2.withColumn('SeniorExempt_0', when(col('SeniorExempt') == '0', 1).otherwise(0))\n",
        "data2 = data2.withColumn('SeniorExempt_1', when(col('SeniorExempt') == '1', 1).otherwise(0))\n",
        "data2 = data2.withColumn('SeniorExempt_2', when(col('SeniorExempt') == '2', 1).otherwise(0))\n",
        "\n",
        "data2 = data2.withColumn('SeniorFreezeExempt_0', when(col('SeniorFreezeExempt') == '0', 1).otherwise(0))\n",
        "data2 = data2.withColumn('SeniorFreezeExempt_1', when(col('SeniorFreezeExempt') == '1', 1).otherwise(0))\n",
        "data2 = data2.withColumn('SeniorFreezeExempt_2', when(col('SeniorFreezeExempt') == '2', 1).otherwise(0))\n",
        "\n",
        "data2 = data2.withColumn('AccountStatus_O', when(col('AccountStatus') == 'O', 1).otherwise(0))\n",
        "data2 = data2.withColumn('AccountStatus_P', when(col('AccountStatus') == 'P', 1).otherwise(0))\n",
        "\n",
        "data2 = data2.withColumn('BillType_3', when(col('BillType') == '3', 1).otherwise(0))\n",
        "data2 = data2.withColumn('BillType_1', when(col('BillType') == '1', 1).otherwise(0))\n",
        "data2 = data2.withColumn('BillType_4', when(col('BillType') == '4', 1).otherwise(0))\n"
      ],
      "metadata": {
        "id": "vNpuMW5pzER7"
      },
      "execution_count": 73,
      "outputs": []
    },
    {
      "cell_type": "code",
      "source": [
        "data2 = data2.withColumn('LastPaymentSource1_700', when(col('LastPaymentSource1') == '700', 1).otherwise(0))\n",
        "data2 = data2.withColumn('LastPaymentSource1_521', when(col('LastPaymentSource1') == '521', 1).otherwise(0))\n",
        "data2 = data2.withColumn('LastPaymentSource1_428', when(col('LastPaymentSource1') == '428', 1).otherwise(0))\n",
        "data2 = data2.withColumn('LastPaymentSource1_422', when(col('LastPaymentSource1') == '422', 1).otherwise(0))\n",
        "data2 = data2.withColumn('LastPaymentSource1_432', when(col('LastPaymentSource1') == '432', 1).otherwise(0))\n",
        "data2 = data2.withColumn('LastPaymentSource1_423', when(col('LastPaymentSource1') == '423', 1).otherwise(0))\n",
        "data2 = data2.withColumn('LastPaymentSource1_421', when(col('LastPaymentSource1') == '421', 1).otherwise(0))\n",
        "data2 = data2.withColumn('LastPaymentSource1_505', when(col('LastPaymentSource1') == '505', 1).otherwise(0))\n",
        "data2 = data2.withColumn('LastPaymentSource1_801', when(col('LastPaymentSource1') == '801', 1).otherwise(0))\n",
        "data2 = data2.withColumn('LastPaymentSource1_501', when(col('LastPaymentSource1') == '501', 1).otherwise(0))\n",
        "data2 = data2.withColumn('LastPaymentSource1_525', when(col('LastPaymentSource1') == '525', 1).otherwise(0))\n",
        "data2 = data2.withColumn('LastPaymentSource1_436', when(col('LastPaymentSource1') == '436', 1).otherwise(0))\n",
        "data2 = data2.withColumn('LastPaymentSource1_437', when(col('LastPaymentSource1') == '437', 1).otherwise(0))\n",
        "data2 = data2.withColumn('LastPaymentSource1_526', when(col('LastPaymentSource1') == '526', 1).otherwise(0))\n",
        "data2 = data2.withColumn('LastPaymentSource1_427', when(col('LastPaymentSource1') == '427', 1).otherwise(0))\n",
        "data2 = data2.withColumn('LastPaymentSource1_444', when(col('LastPaymentSource1') == '444', 1).otherwise(0))\n",
        "data2 = data2.withColumn('LastPaymentSource1_750', when(col('LastPaymentSource1') == '750', 1).otherwise(0))\n",
        "data2 = data2.withColumn('LastPaymentSource1_463', when(col('LastPaymentSource1') == '463', 1).otherwise(0))\n",
        "data2 = data2.withColumn('LastPaymentSource1_431', when(col('LastPaymentSource1') == '431', 1).otherwise(0))\n",
        "data2 = data2.withColumn('LastPaymentSource1_426', when(col('LastPaymentSource1') == '426', 1).otherwise(0))\n",
        "data2 = data2.withColumn('LastPaymentSource1_000', when(col('LastPaymentSource1') == '000', 1).otherwise(0))\n",
        "data2 = data2.withColumn('LastPaymentSource1_831', when(col('LastPaymentSource1') == '831', 1).otherwise(0))\n",
        "data2 = data2.withColumn('LastPaymentSource1_476', when(col('LastPaymentSource1') == '476', 1).otherwise(0))\n",
        "data2 = data2.withColumn('LastPaymentSource1_407', when(col('LastPaymentSource1') == '407', 1).otherwise(0))\n",
        "data2 = data2.withColumn('LastPaymentSource1_823', when(col('LastPaymentSource1') == '823', 1).otherwise(0))\n",
        "data2 = data2.withColumn('LastPaymentSource1_481', when(col('LastPaymentSource1') == '481', 1).otherwise(0))\n",
        "data2 = data2.withColumn('LastPaymentSource1_477', when(col('LastPaymentSource1') == '477', 1).otherwise(0))\n",
        "data2 = data2.withColumn('LastPaymentSource1_486', when(col('LastPaymentSource1') == '486', 1).otherwise(0))\n",
        "data2 = data2.withColumn('LastPaymentSource1_471', when(col('LastPaymentSource1') == '471', 1).otherwise(0))\n",
        "data2 = data2.withColumn('LastPaymentSource1_482', when(col('LastPaymentSource1') == '482', 1).otherwise(0))\n",
        "data2 = data2.withColumn('LastPaymentSource1_472', when(col('LastPaymentSource1') == '472', 1).otherwise(0))\n",
        "data2 = data2.withColumn('LastPaymentSource1_487', when(col('LastPaymentSource1') == '487', 1).otherwise(0))\n",
        "data2 = data2.withColumn('LastPaymentSource1_478', when(col('LastPaymentSource1') == '478', 1).otherwise(0))\n",
        "data2 = data2.withColumn('LastPaymentSource1_473', when(col('LastPaymentSource1') == '473', 1).otherwise(0))\n",
        "data2 = data2.withColumn('LastPaymentSource1_522', when(col('LastPaymentSource1') == '522', 1).otherwise(0))\n"
      ],
      "metadata": {
        "id": "J2vjaNBCAm2m"
      },
      "execution_count": 74,
      "outputs": []
    },
    {
      "cell_type": "code",
      "source": [
        "data2 = data2.withColumn('CofENumber_0', when(col('CofENumber') == 0, 1).otherwise(0))\n",
        "data2 = data2.withColumn('CofENumber_non0', when(col('CofENumber') == 1, 1).otherwise(0))\n",
        "\n",
        "data2 = data2.withColumn('PastTaxSaleStatus_Y', when(col('PastTaxSaleStatus') == 1, 1).otherwise(0))\n",
        "data2 = data2.withColumn('PastTaxSaleStatus_N', when(col('PastTaxSaleStatus') == 0, 1).otherwise(0))\n",
        "\n",
        "data2 = data2.withColumn('CondemnationStatus_0', when(col('CondemnationStatus') == '0', 1).otherwise(0))\n",
        "data2 = data2.withColumn('CondemnationStatus_1', when(col('CondemnationStatus') == '1', 1).otherwise(0))\n",
        "\n",
        "data2 = data2.withColumn('MunicipalAcquisitionStatus_0', when(col('MunicipalAcquisitionStatus') == '0', 1).otherwise(0))\n",
        "data2 = data2.withColumn('MunicipalAcquisitionStatus_1', when(col('MunicipalAcquisitionStatus') == '1', 1).otherwise(0))\n",
        "\n",
        "data2 = data2.withColumn('MunicipalAcquisitionStatus_1', when(col('MunicipalAcquisitionStatus') == '1', 1).otherwise(0))\n",
        "data2 = data2.withColumn('MunicipalAcquisitionStatus_1', when(col('MunicipalAcquisitionStatus') == '1', 1).otherwise(0))\n",
        "\n",
        "data2 = data2.withColumn('ExemptStatus_0', when(col('ExemptStatus') == '0', 1).otherwise(0))\n",
        "data2 = data2.withColumn('ExemptStatus_1', when(col('ExemptStatus') == '1', 1).otherwise(0))\n",
        "data2 = data2.withColumn('ExemptStatus_2', when(col('ExemptStatus') == '2', 1).otherwise(0))\n",
        "\n",
        "data2 = data2.withColumn('BankruptStatus_0', when(col('BankruptStatus') == '0', 1).otherwise(0))\n",
        "data2 = data2.withColumn('BankruptStatus_1', when(col('BankruptStatus') == '1', 1).otherwise(0))\n",
        "\n"
      ],
      "metadata": {
        "id": "qyW1c0wYC4jb"
      },
      "execution_count": 75,
      "outputs": []
    },
    {
      "cell_type": "code",
      "source": [
        "data2 = data2.withColumn('AreaFromPin_01', when(col('AreaFromPin') == '01', 1).otherwise(0))\n",
        "data2 = data2.withColumn('AreaFromPin_02', when(col('AreaFromPin') == '02', 1).otherwise(0))\n",
        "data2 = data2.withColumn('AreaFromPin_03', when(col('AreaFromPin') == '03', 1).otherwise(0))\n",
        "data2 = data2.withColumn('AreaFromPin_04', when(col('AreaFromPin') == '04', 1).otherwise(0))\n",
        "data2 = data2.withColumn('AreaFromPin_05', when(col('AreaFromPin') == '05', 1).otherwise(0))\n",
        "data2 = data2.withColumn('AreaFromPin_06', when(col('AreaFromPin') == '06', 1).otherwise(0))\n",
        "data2 = data2.withColumn('AreaFromPin_07', when(col('AreaFromPin') == '07', 1).otherwise(0))\n",
        "data2 = data2.withColumn('AreaFromPin_08', when(col('AreaFromPin') == '08', 1).otherwise(0))\n",
        "data2 = data2.withColumn('AreaFromPin_09', when(col('AreaFromPin') == '09', 1).otherwise(0))\n",
        "data2 = data2.withColumn('AreaFromPin_10', when(col('AreaFromPin') == '10', 1).otherwise(0))\n",
        "data2 = data2.withColumn('AreaFromPin_11', when(col('AreaFromPin') == '11', 1).otherwise(0))\n",
        "data2 = data2.withColumn('AreaFromPin_12', when(col('AreaFromPin') == '12', 1).otherwise(0))\n",
        "data2 = data2.withColumn('AreaFromPin_13', when(col('AreaFromPin') == '13', 1).otherwise(0))\n",
        "data2 = data2.withColumn('AreaFromPin_14', when(col('AreaFromPin') == '14', 1).otherwise(0))\n",
        "data2 = data2.withColumn('AreaFromPin_15', when(col('AreaFromPin') == '15', 1).otherwise(0))\n",
        "data2 = data2.withColumn('AreaFromPin_16', when(col('AreaFromPin') == '16', 1).otherwise(0))\n",
        "data2 = data2.withColumn('AreaFromPin_17', when(col('AreaFromPin') == '17', 1).otherwise(0))\n",
        "data2 = data2.withColumn('AreaFromPin_18', when(col('AreaFromPin') == '18', 1).otherwise(0))\n",
        "data2 = data2.withColumn('AreaFromPin_19', when(col('AreaFromPin') == '19', 1).otherwise(0))\n",
        "data2 = data2.withColumn('AreaFromPin_20', when(col('AreaFromPin') == '20', 1).otherwise(0))\n",
        "data2 = data2.withColumn('AreaFromPin_21', when(col('AreaFromPin') == '21', 1).otherwise(0))\n",
        "data2 = data2.withColumn('AreaFromPin_22', when(col('AreaFromPin') == '22', 1).otherwise(0))\n",
        "data2 = data2.withColumn('AreaFromPin_23', when(col('AreaFromPin') == '23', 1).otherwise(0))\n",
        "data2 = data2.withColumn('AreaFromPin_24', when(col('AreaFromPin') == '24', 1).otherwise(0))\n",
        "data2 = data2.withColumn('AreaFromPin_25', when(col('AreaFromPin') == '25', 1).otherwise(0))\n",
        "data2 = data2.withColumn('AreaFromPin_26', when(col('AreaFromPin') == '26', 1).otherwise(0))\n",
        "data2 = data2.withColumn('AreaFromPin_27', when(col('AreaFromPin') == '27', 1).otherwise(0))\n",
        "data2 = data2.withColumn('AreaFromPin_28', when(col('AreaFromPin') == '28', 1).otherwise(0))\n",
        "data2 = data2.withColumn('AreaFromPin_29', when(col('AreaFromPin') == '29', 1).otherwise(0))\n",
        "data2 = data2.withColumn('AreaFromPin_30', when(col('AreaFromPin') == '30', 1).otherwise(0))\n",
        "data2 = data2.withColumn('AreaFromPin_31', when(col('AreaFromPin') == '31', 1).otherwise(0))\n",
        "data2 = data2.withColumn('AreaFromPin_32', when(col('AreaFromPin') == '32', 1).otherwise(0))\n",
        "data2 = data2.withColumn('AreaFromPin_33', when(col('AreaFromPin') == '33', 1).otherwise(0))\n"
      ],
      "metadata": {
        "id": "T4f5bpVAFZnp"
      },
      "execution_count": 78,
      "outputs": []
    },
    {
      "cell_type": "code",
      "source": [
        "data2.show()"
      ],
      "metadata": {
        "colab": {
          "base_uri": "https://localhost:8080/"
        },
        "id": "N--deylUz41R",
        "outputId": "06c4f4b2-8e7e-4de1-ba52-1a014110cbed"
      },
      "execution_count": 79,
      "outputs": [
        {
          "output_type": "stream",
          "name": "stdout",
          "text": [
            "+--------------------+---------+---------------+------------+------------------+-------+-------------+--------+------------------+-------------+--------------+------------------+----------+-----------------+-------+------------------+--------------------------+-----------------+------------+--------------+---------------------------+-----------------------------+--------------------------+--------------------------------+---------------------+------------------------+------------------------------+--------+-----------+-----------------------+--------------------------+------------+------------+------------+--------------+--------------+--------------+-----------------+-----------------+-----------------+--------------+--------------+--------------+--------------------+--------------------+--------------------+---------------+---------------+----------+----------+----------+----------------------+----------------------+----------------------+----------------------+----------------------+----------------------+----------------------+----------------------+----------------------+----------------------+----------------------+----------------------+----------------------+----------------------+----------------------+----------------------+----------------------+----------------------+----------------------+----------------------+----------------------+----------------------+----------------------+----------------------+----------------------+----------------------+----------------------+----------------------+----------------------+----------------------+----------------------+----------------------+----------------------+----------------------+----------------------+------------+---------------+-------------------+-------------------+--------------------+--------------------+----------------------------+----------------------------+--------------+--------------+--------------+----------------+----------------+--------------+--------------+--------------+--------------+--------------+--------------+--------------+--------------+--------------+--------------+--------------+--------------+--------------+--------------+--------------+--------------+--------------+--------------+--------------+--------------+--------------+--------------+--------------+--------------+--------------+--------------+--------------+--------------+--------------+--------------+\n",
            "|TaxpayerMailingState|TaxStatus|HomeownerExempt|SeniorExempt|SeniorFreezeExempt|TaxYear|AccountStatus|BillType|AdjustedAmountDue1|TaxAmountDue1|CostAmountDue1|LastPaymentSource1|CofENumber|PastTaxSaleStatus|TaxRate|CondemnationStatus|MunicipalAcquisitionStatus|AcquisitionStatus|ExemptStatus|BankruptStatus|ReturningVetExemptionAmount|DisabledPersonExemptionAmount|DisabledVetExemptionAmount|DisabledPersonVetExemptionAmount|HomeownerExemptAmount|SeniorFreezeExemptAmount|LongtimeHomeownersExemptAmount|LatePmt2|AreaFromPin|TaxpayerMailingState_IL|TaxpayerMailingState_nonIL|TaxStatus_00|TaxStatus_05|TaxStatus_03|AreaFromPin_01|AreaFromPin_02|AreaFromPin_07|HomeownerExempt_0|HomeownerExempt_1|HomeownerExempt_2|SeniorExempt_0|SeniorExempt_1|SeniorExempt_2|SeniorFreezeExempt_0|SeniorFreezeExempt_1|SeniorFreezeExempt_2|AccountStatus_O|AccountStatus_P|BillType_3|BillType_1|BillType_4|LastPaymentSource1_700|LastPaymentSource1_521|LastPaymentSource1_428|LastPaymentSource1_422|LastPaymentSource1_432|LastPaymentSource1_423|LastPaymentSource1_421|LastPaymentSource1_505|LastPaymentSource1_801|LastPaymentSource1_501|LastPaymentSource1_525|LastPaymentSource1_436|LastPaymentSource1_437|LastPaymentSource1_526|LastPaymentSource1_427|LastPaymentSource1_444|LastPaymentSource1_750|LastPaymentSource1_463|LastPaymentSource1_431|LastPaymentSource1_426|LastPaymentSource1_000|LastPaymentSource1_831|LastPaymentSource1_476|LastPaymentSource1_407|LastPaymentSource1_823|LastPaymentSource1_481|LastPaymentSource1_477|LastPaymentSource1_486|LastPaymentSource1_471|LastPaymentSource1_482|LastPaymentSource1_472|LastPaymentSource1_487|LastPaymentSource1_478|LastPaymentSource1_473|LastPaymentSource1_522|CofENumber_0|CofENumber_non0|PastTaxSaleStatus_Y|PastTaxSaleStatus_N|CondemnationStatus_0|CondemnationStatus_1|MunicipalAcquisitionStatus_0|MunicipalAcquisitionStatus_1|ExemptStatus_0|ExemptStatus_1|ExemptStatus_2|BankruptStatus_0|BankruptStatus_1|AreaFromPin_03|AreaFromPin_04|AreaFromPin_05|AreaFromPin_06|AreaFromPin_08|AreaFromPin_09|AreaFromPin_10|AreaFromPin_11|AreaFromPin_12|AreaFromPin_13|AreaFromPin_14|AreaFromPin_15|AreaFromPin_16|AreaFromPin_17|AreaFromPin_18|AreaFromPin_19|AreaFromPin_20|AreaFromPin_21|AreaFromPin_22|AreaFromPin_23|AreaFromPin_24|AreaFromPin_25|AreaFromPin_26|AreaFromPin_27|AreaFromPin_28|AreaFromPin_29|AreaFromPin_30|AreaFromPin_31|AreaFromPin_32|AreaFromPin_33|\n",
            "+--------------------+---------+---------------+------------+------------------+-------+-------------+--------+------------------+-------------+--------------+------------------+----------+-----------------+-------+------------------+--------------------------+-----------------+------------+--------------+---------------------------+-----------------------------+--------------------------+--------------------------------+---------------------+------------------------+------------------------------+--------+-----------+-----------------------+--------------------------+------------+------------+------------+--------------+--------------+--------------+-----------------+-----------------+-----------------+--------------+--------------+--------------+--------------------+--------------------+--------------------+---------------+---------------+----------+----------+----------+----------------------+----------------------+----------------------+----------------------+----------------------+----------------------+----------------------+----------------------+----------------------+----------------------+----------------------+----------------------+----------------------+----------------------+----------------------+----------------------+----------------------+----------------------+----------------------+----------------------+----------------------+----------------------+----------------------+----------------------+----------------------+----------------------+----------------------+----------------------+----------------------+----------------------+----------------------+----------------------+----------------------+----------------------+----------------------+------------+---------------+-------------------+-------------------+--------------------+--------------------+----------------------------+----------------------------+--------------+--------------+--------------+----------------+----------------+--------------+--------------+--------------+--------------+--------------+--------------+--------------+--------------+--------------+--------------+--------------+--------------+--------------+--------------+--------------+--------------+--------------+--------------+--------------+--------------+--------------+--------------+--------------+--------------+--------------+--------------+--------------+--------------+--------------+--------------+\n",
            "|                   1|       00|              1|           0|                 0|   2021|            P|       1|          227431.0|          0.0|           0.0|               444|         0|                0|11158.0|                 0|                         0|                0|           0|             0|                        0.0|                          0.0|                       0.0|                             0.0|              10000.0|                     0.0|                           0.0|       0|         07|                      1|                         0|           1|           0|           0|             0|             0|             1|                0|                1|                0|             1|             0|             0|                   1|                   0|                   0|              0|              1|         0|         1|         0|                     0|                     0|                     0|                     0|                     0|                     0|                     0|                     0|                     0|                     0|                     0|                     0|                     0|                     0|                     0|                     1|                     0|                     0|                     0|                     0|                     0|                     0|                     0|                     0|                     0|                     0|                     0|                     0|                     0|                     0|                     0|                     0|                     0|                     0|                     0|           1|              0|                  0|                  1|                   1|                   0|                           1|                           0|             1|             0|             0|               1|               0|             0|             0|             0|             0|             0|             0|             0|             0|             0|             0|             0|             0|             0|             0|             0|             0|             0|             0|             0|             0|             0|             0|             0|             0|             0|             0|             0|             0|             0|             0|\n",
            "|                   1|       03|              1|           1|                 0|   2021|            P|       1|          206037.0|          0.0|           0.0|               431|         0|                0|11158.0|                 0|                         0|                0|           1|             0|                        0.0|                          0.0|                       0.0|                             0.0|              10000.0|                     0.0|                           0.0|       0|         07|                      1|                         0|           0|           0|           1|             0|             0|             1|                0|                1|                0|             0|             1|             0|                   1|                   0|                   0|              0|              1|         0|         1|         0|                     0|                     0|                     0|                     0|                     0|                     0|                     0|                     0|                     0|                     0|                     0|                     0|                     0|                     0|                     0|                     0|                     0|                     0|                     1|                     0|                     0|                     0|                     0|                     0|                     0|                     0|                     0|                     0|                     0|                     0|                     0|                     0|                     0|                     0|                     0|           1|              0|                  0|                  1|                   1|                   0|                           1|                           0|             0|             1|             0|               1|               0|             0|             0|             0|             0|             0|             0|             0|             0|             0|             0|             0|             0|             0|             0|             0|             0|             0|             0|             0|             0|             0|             0|             0|             0|             0|             0|             0|             0|             0|             0|\n",
            "|                   1|       03|              1|           1|                 0|   2021|            P|       1|          186401.0|          0.0|           0.0|               444|         0|                0|11158.0|                 0|                         0|                0|           1|             0|                        0.0|                          0.0|                       0.0|                             0.0|              10000.0|                     0.0|                           0.0|       0|         07|                      1|                         0|           0|           0|           1|             0|             0|             1|                0|                1|                0|             0|             1|             0|                   1|                   0|                   0|              0|              1|         0|         1|         0|                     0|                     0|                     0|                     0|                     0|                     0|                     0|                     0|                     0|                     0|                     0|                     0|                     0|                     0|                     0|                     1|                     0|                     0|                     0|                     0|                     0|                     0|                     0|                     0|                     0|                     0|                     0|                     0|                     0|                     0|                     0|                     0|                     0|                     0|                     0|           1|              0|                  0|                  1|                   1|                   0|                           1|                           0|             0|             1|             0|               1|               0|             0|             0|             0|             0|             0|             0|             0|             0|             0|             0|             0|             0|             0|             0|             0|             0|             0|             0|             0|             0|             0|             0|             0|             0|             0|             0|             0|             0|             0|             0|\n",
            "|                   1|       00|              1|           0|                 0|   2021|            P|       1|          250702.0|          0.0|           0.0|               700|         0|                0|11158.0|                 0|                         0|                0|           0|             0|                        0.0|                          0.0|                       0.0|                             0.0|              10000.0|                     0.0|                           0.0|       0|         07|                      1|                         0|           1|           0|           0|             0|             0|             1|                0|                1|                0|             1|             0|             0|                   1|                   0|                   0|              0|              1|         0|         1|         0|                     1|                     0|                     0|                     0|                     0|                     0|                     0|                     0|                     0|                     0|                     0|                     0|                     0|                     0|                     0|                     0|                     0|                     0|                     0|                     0|                     0|                     0|                     0|                     0|                     0|                     0|                     0|                     0|                     0|                     0|                     0|                     0|                     0|                     0|                     0|           1|              0|                  0|                  1|                   1|                   0|                           1|                           0|             1|             0|             0|               1|               0|             0|             0|             0|             0|             0|             0|             0|             0|             0|             0|             0|             0|             0|             0|             0|             0|             0|             0|             0|             0|             0|             0|             0|             0|             0|             0|             0|             0|             0|             0|\n",
            "|                   0|       00|              0|           0|                 0|   2021|            P|       1|          150860.0|          0.0|           0.0|               700|         0|                0|11158.0|                 0|                         0|                0|           0|             0|                        0.0|                          0.0|                       0.0|                             0.0|                  0.0|                     0.0|                           0.0|       0|         07|                      0|                         1|           1|           0|           0|             0|             0|             1|                1|                0|                0|             1|             0|             0|                   1|                   0|                   0|              0|              1|         0|         1|         0|                     1|                     0|                     0|                     0|                     0|                     0|                     0|                     0|                     0|                     0|                     0|                     0|                     0|                     0|                     0|                     0|                     0|                     0|                     0|                     0|                     0|                     0|                     0|                     0|                     0|                     0|                     0|                     0|                     0|                     0|                     0|                     0|                     0|                     0|                     0|           1|              0|                  0|                  1|                   1|                   0|                           1|                           0|             1|             0|             0|               1|               0|             0|             0|             0|             0|             0|             0|             0|             0|             0|             0|             0|             0|             0|             0|             0|             0|             0|             0|             0|             0|             0|             0|             0|             0|             0|             0|             0|             0|             0|             0|\n",
            "|                   0|       00|              0|           0|                 0|   2021|            P|       1|          283262.0|          0.0|           0.0|               700|         0|                0|11158.0|                 0|                         0|                0|           0|             0|                        0.0|                          0.0|                       0.0|                             0.0|                  0.0|                     0.0|                           0.0|       0|         07|                      0|                         1|           1|           0|           0|             0|             0|             1|                1|                0|                0|             1|             0|             0|                   1|                   0|                   0|              0|              1|         0|         1|         0|                     1|                     0|                     0|                     0|                     0|                     0|                     0|                     0|                     0|                     0|                     0|                     0|                     0|                     0|                     0|                     0|                     0|                     0|                     0|                     0|                     0|                     0|                     0|                     0|                     0|                     0|                     0|                     0|                     0|                     0|                     0|                     0|                     0|                     0|                     0|           1|              0|                  0|                  1|                   1|                   0|                           1|                           0|             1|             0|             0|               1|               0|             0|             0|             0|             0|             0|             0|             0|             0|             0|             0|             0|             0|             0|             0|             0|             0|             0|             0|             0|             0|             0|             0|             0|             0|             0|             0|             0|             0|             0|             0|\n",
            "|                   1|       00|              0|           0|                 0|   2021|            P|       1|          250702.0|          0.0|           0.0|               700|         0|                0|11158.0|                 0|                         0|                0|           0|             0|                        0.0|                          0.0|                       0.0|                             0.0|                  0.0|                     0.0|                           0.0|       0|         07|                      1|                         0|           1|           0|           0|             0|             0|             1|                1|                0|                0|             1|             0|             0|                   1|                   0|                   0|              0|              1|         0|         1|         0|                     1|                     0|                     0|                     0|                     0|                     0|                     0|                     0|                     0|                     0|                     0|                     0|                     0|                     0|                     0|                     0|                     0|                     0|                     0|                     0|                     0|                     0|                     0|                     0|                     0|                     0|                     0|                     0|                     0|                     0|                     0|                     0|                     0|                     0|                     0|           1|              0|                  0|                  1|                   1|                   0|                           1|                           0|             1|             0|             0|               1|               0|             0|             0|             0|             0|             0|             0|             0|             0|             0|             0|             0|             0|             0|             0|             0|             0|             0|             0|             0|             0|             0|             0|             0|             0|             0|             0|             0|             0|             0|             0|\n",
            "|                   1|       00|              1|           0|                 0|   2021|            P|       1|          231065.0|          0.0|           0.0|               700|         0|                0|11158.0|                 0|                         0|                0|           0|             0|                        0.0|                          0.0|                       0.0|                             0.0|              10000.0|                     0.0|                           0.0|       0|         07|                      1|                         0|           1|           0|           0|             0|             0|             1|                0|                1|                0|             1|             0|             0|                   1|                   0|                   0|              0|              1|         0|         1|         0|                     1|                     0|                     0|                     0|                     0|                     0|                     0|                     0|                     0|                     0|                     0|                     0|                     0|                     0|                     0|                     0|                     0|                     0|                     0|                     0|                     0|                     0|                     0|                     0|                     0|                     0|                     0|                     0|                     0|                     0|                     0|                     0|                     0|                     0|                     0|           1|              0|                  0|                  1|                   1|                   0|                           1|                           0|             1|             0|             0|               1|               0|             0|             0|             0|             0|             0|             0|             0|             0|             0|             0|             0|             0|             0|             0|             0|             0|             0|             0|             0|             0|             0|             0|             0|             0|             0|             0|             0|             0|             0|             0|\n",
            "|                   1|       00|              0|           0|                 0|   2021|            P|       1|          197245.0|          0.0|           0.0|               431|         0|                0| 9245.0|                 0|                         0|                0|           0|             0|                        0.0|                          0.0|                       0.0|                             0.0|                  0.0|                     0.0|                           0.0|       0|         08|                      1|                         0|           1|           0|           0|             0|             0|             0|                1|                0|                0|             1|             0|             0|                   1|                   0|                   0|              0|              1|         0|         1|         0|                     0|                     0|                     0|                     0|                     0|                     0|                     0|                     0|                     0|                     0|                     0|                     0|                     0|                     0|                     0|                     0|                     0|                     0|                     1|                     0|                     0|                     0|                     0|                     0|                     0|                     0|                     0|                     0|                     0|                     0|                     0|                     0|                     0|                     0|                     0|           1|              0|                  0|                  1|                   1|                   0|                           1|                           0|             1|             0|             0|               1|               0|             0|             0|             0|             0|             1|             0|             0|             0|             0|             0|             0|             0|             0|             0|             0|             0|             0|             0|             0|             0|             0|             0|             0|             0|             0|             0|             0|             0|             0|             0|\n",
            "|                   1|       00|              0|           0|                 0|   2021|            P|       1|          197245.0|          0.0|           0.0|               431|         0|                0| 9245.0|                 0|                         0|                0|           0|             0|                        0.0|                          0.0|                       0.0|                             0.0|                  0.0|                     0.0|                           0.0|       0|         08|                      1|                         0|           1|           0|           0|             0|             0|             0|                1|                0|                0|             1|             0|             0|                   1|                   0|                   0|              0|              1|         0|         1|         0|                     0|                     0|                     0|                     0|                     0|                     0|                     0|                     0|                     0|                     0|                     0|                     0|                     0|                     0|                     0|                     0|                     0|                     0|                     1|                     0|                     0|                     0|                     0|                     0|                     0|                     0|                     0|                     0|                     0|                     0|                     0|                     0|                     0|                     0|                     0|           1|              0|                  0|                  1|                   1|                   0|                           1|                           0|             1|             0|             0|               1|               0|             0|             0|             0|             0|             1|             0|             0|             0|             0|             0|             0|             0|             0|             0|             0|             0|             0|             0|             0|             0|             0|             0|             0|             0|             0|             0|             0|             0|             0|             0|\n",
            "|                   1|       00|              0|           0|                 0|   2021|            P|       1|          197245.0|          0.0|           0.0|               431|         0|                0| 9245.0|                 0|                         0|                0|           0|             0|                        0.0|                          0.0|                       0.0|                             0.0|                  0.0|                     0.0|                           0.0|       0|         08|                      1|                         0|           1|           0|           0|             0|             0|             0|                1|                0|                0|             1|             0|             0|                   1|                   0|                   0|              0|              1|         0|         1|         0|                     0|                     0|                     0|                     0|                     0|                     0|                     0|                     0|                     0|                     0|                     0|                     0|                     0|                     0|                     0|                     0|                     0|                     0|                     1|                     0|                     0|                     0|                     0|                     0|                     0|                     0|                     0|                     0|                     0|                     0|                     0|                     0|                     0|                     0|                     0|           1|              0|                  0|                  1|                   1|                   0|                           1|                           0|             1|             0|             0|               1|               0|             0|             0|             0|             0|             1|             0|             0|             0|             0|             0|             0|             0|             0|             0|             0|             0|             0|             0|             0|             0|             0|             0|             0|             0|             0|             0|             0|             0|             0|             0|\n",
            "|                   1|       00|              1|           0|                 0|   2021|            P|       1|          151617.0|          0.0|           0.0|               444|         0|                0| 9245.0|                 0|                         0|                0|           0|             0|                        0.0|                          0.0|                       0.0|                             0.0|              10000.0|                     0.0|                           0.0|       0|         08|                      1|                         0|           1|           0|           0|             0|             0|             0|                0|                1|                0|             1|             0|             0|                   1|                   0|                   0|              0|              1|         0|         1|         0|                     0|                     0|                     0|                     0|                     0|                     0|                     0|                     0|                     0|                     0|                     0|                     0|                     0|                     0|                     0|                     1|                     0|                     0|                     0|                     0|                     0|                     0|                     0|                     0|                     0|                     0|                     0|                     0|                     0|                     0|                     0|                     0|                     0|                     0|                     0|           1|              0|                  0|                  1|                   1|                   0|                           1|                           0|             1|             0|             0|               1|               0|             0|             0|             0|             0|             1|             0|             0|             0|             0|             0|             0|             0|             0|             0|             0|             0|             0|             0|             0|             0|             0|             0|             0|             0|             0|             0|             0|             0|             0|             0|\n",
            "|                   1|       00|              1|           0|                 0|   2021|            P|       1|          151617.0|          0.0|           0.0|               444|         0|                0| 9245.0|                 0|                         0|                0|           0|             0|                        0.0|                          0.0|                       0.0|                             0.0|              10000.0|                     0.0|                           0.0|       0|         08|                      1|                         0|           1|           0|           0|             0|             0|             0|                0|                1|                0|             1|             0|             0|                   1|                   0|                   0|              0|              1|         0|         1|         0|                     0|                     0|                     0|                     0|                     0|                     0|                     0|                     0|                     0|                     0|                     0|                     0|                     0|                     0|                     0|                     1|                     0|                     0|                     0|                     0|                     0|                     0|                     0|                     0|                     0|                     0|                     0|                     0|                     0|                     0|                     0|                     0|                     0|                     0|                     0|           1|              0|                  0|                  1|                   1|                   0|                           1|                           0|             1|             0|             0|               1|               0|             0|             0|             0|             0|             1|             0|             0|             0|             0|             0|             0|             0|             0|             0|             0|             0|             0|             0|             0|             0|             0|             0|             0|             0|             0|             0|             0|             0|             0|             0|\n",
            "|                   1|       00|              0|           0|                 0|   2021|            P|       1|          197245.0|          0.0|           0.0|               801|         0|                0| 9245.0|                 0|                         0|                0|           0|             0|                        0.0|                          0.0|                       0.0|                             0.0|                  0.0|                     0.0|                           0.0|       1|         08|                      1|                         0|           1|           0|           0|             0|             0|             0|                1|                0|                0|             1|             0|             0|                   1|                   0|                   0|              0|              1|         0|         1|         0|                     0|                     0|                     0|                     0|                     0|                     0|                     0|                     0|                     1|                     0|                     0|                     0|                     0|                     0|                     0|                     0|                     0|                     0|                     0|                     0|                     0|                     0|                     0|                     0|                     0|                     0|                     0|                     0|                     0|                     0|                     0|                     0|                     0|                     0|                     0|           1|              0|                  0|                  1|                   1|                   0|                           1|                           0|             1|             0|             0|               1|               0|             0|             0|             0|             0|             1|             0|             0|             0|             0|             0|             0|             0|             0|             0|             0|             0|             0|             0|             0|             0|             0|             0|             0|             0|             0|             0|             0|             0|             0|             0|\n",
            "|                   1|       00|              1|           0|                 0|   2021|            P|       1|          151617.0|          0.0|           0.0|               444|         0|                0| 9245.0|                 0|                         0|                0|           0|             0|                        0.0|                          0.0|                       0.0|                             0.0|              10000.0|                     0.0|                           0.0|       0|         08|                      1|                         0|           1|           0|           0|             0|             0|             0|                0|                1|                0|             1|             0|             0|                   1|                   0|                   0|              0|              1|         0|         1|         0|                     0|                     0|                     0|                     0|                     0|                     0|                     0|                     0|                     0|                     0|                     0|                     0|                     0|                     0|                     0|                     1|                     0|                     0|                     0|                     0|                     0|                     0|                     0|                     0|                     0|                     0|                     0|                     0|                     0|                     0|                     0|                     0|                     0|                     0|                     0|           1|              0|                  0|                  1|                   1|                   0|                           1|                           0|             1|             0|             0|               1|               0|             0|             0|             0|             0|             1|             0|             0|             0|             0|             0|             0|             0|             0|             0|             0|             0|             0|             0|             0|             0|             0|             0|             0|             0|             0|             0|             0|             0|             0|             0|\n",
            "|                   1|       03|              1|           1|                 0|   2021|            P|       1|           57195.0|          0.0|           0.0|               700|         0|                0| 9245.0|                 0|                         0|                0|           1|             0|                        0.0|                          0.0|                       0.0|                             0.0|              10000.0|                     0.0|                           0.0|       0|         08|                      1|                         0|           0|           0|           1|             0|             0|             0|                0|                1|                0|             0|             1|             0|                   1|                   0|                   0|              0|              1|         0|         1|         0|                     1|                     0|                     0|                     0|                     0|                     0|                     0|                     0|                     0|                     0|                     0|                     0|                     0|                     0|                     0|                     0|                     0|                     0|                     0|                     0|                     0|                     0|                     0|                     0|                     0|                     0|                     0|                     0|                     0|                     0|                     0|                     0|                     0|                     0|                     0|           1|              0|                  0|                  1|                   1|                   0|                           1|                           0|             0|             1|             0|               1|               0|             0|             0|             0|             0|             1|             0|             0|             0|             0|             0|             0|             0|             0|             0|             0|             0|             0|             0|             0|             0|             0|             0|             0|             0|             0|             0|             0|             0|             0|             0|\n",
            "|                   1|       00|              0|           0|                 0|   2021|            P|       1|          139325.0|          0.0|           0.0|               700|         0|                0| 9245.0|                 0|                         0|                0|           0|             0|                        0.0|                          0.0|                       0.0|                             0.0|                  0.0|                     0.0|                           0.0|       0|         08|                      1|                         0|           1|           0|           0|             0|             0|             0|                1|                0|                0|             1|             0|             0|                   1|                   0|                   0|              0|              1|         0|         1|         0|                     1|                     0|                     0|                     0|                     0|                     0|                     0|                     0|                     0|                     0|                     0|                     0|                     0|                     0|                     0|                     0|                     0|                     0|                     0|                     0|                     0|                     0|                     0|                     0|                     0|                     0|                     0|                     0|                     0|                     0|                     0|                     0|                     0|                     0|                     0|           1|              0|                  0|                  1|                   1|                   0|                           1|                           0|             1|             0|             0|               1|               0|             0|             0|             0|             0|             1|             0|             0|             0|             0|             0|             0|             0|             0|             0|             0|             0|             0|             0|             0|             0|             0|             0|             0|             0|             0|             0|             0|             0|             0|             0|\n",
            "|                   1|       00|              1|           0|                 0|   2021|            P|       1|           93697.0|          0.0|           0.0|               444|         0|                0| 9245.0|                 0|                         0|                0|           0|             0|                        0.0|                          0.0|                       0.0|                             0.0|              10000.0|                     0.0|                           0.0|       0|         08|                      1|                         0|           1|           0|           0|             0|             0|             0|                0|                1|                0|             1|             0|             0|                   1|                   0|                   0|              0|              1|         0|         1|         0|                     0|                     0|                     0|                     0|                     0|                     0|                     0|                     0|                     0|                     0|                     0|                     0|                     0|                     0|                     0|                     1|                     0|                     0|                     0|                     0|                     0|                     0|                     0|                     0|                     0|                     0|                     0|                     0|                     0|                     0|                     0|                     0|                     0|                     0|                     0|           1|              0|                  0|                  1|                   1|                   0|                           1|                           0|             1|             0|             0|               1|               0|             0|             0|             0|             0|             1|             0|             0|             0|             0|             0|             0|             0|             0|             0|             0|             0|             0|             0|             0|             0|             0|             0|             0|             0|             0|             0|             0|             0|             0|             0|\n",
            "|                   1|       00|              0|           0|                 0|   2021|            P|       1|          139325.0|          0.0|           0.0|               444|         0|                0| 9245.0|                 0|                         0|                0|           0|             0|                        0.0|                          0.0|                       0.0|                             0.0|                  0.0|                     0.0|                           0.0|       0|         08|                      1|                         0|           1|           0|           0|             0|             0|             0|                1|                0|                0|             1|             0|             0|                   1|                   0|                   0|              0|              1|         0|         1|         0|                     0|                     0|                     0|                     0|                     0|                     0|                     0|                     0|                     0|                     0|                     0|                     0|                     0|                     0|                     0|                     1|                     0|                     0|                     0|                     0|                     0|                     0|                     0|                     0|                     0|                     0|                     0|                     0|                     0|                     0|                     0|                     0|                     0|                     0|                     0|           1|              0|                  0|                  1|                   1|                   0|                           1|                           0|             1|             0|             0|               1|               0|             0|             0|             0|             0|             1|             0|             0|             0|             0|             0|             0|             0|             0|             0|             0|             0|             0|             0|             0|             0|             0|             0|             0|             0|             0|             0|             0|             0|             0|             0|\n",
            "|                   1|       00|              0|           0|                 0|   2021|            P|       1|          139325.0|          0.0|           0.0|               700|         0|                0| 9245.0|                 0|                         0|                0|           0|             0|                        0.0|                          0.0|                       0.0|                             0.0|                  0.0|                     0.0|                           0.0|       0|         08|                      1|                         0|           1|           0|           0|             0|             0|             0|                1|                0|                0|             1|             0|             0|                   1|                   0|                   0|              0|              1|         0|         1|         0|                     1|                     0|                     0|                     0|                     0|                     0|                     0|                     0|                     0|                     0|                     0|                     0|                     0|                     0|                     0|                     0|                     0|                     0|                     0|                     0|                     0|                     0|                     0|                     0|                     0|                     0|                     0|                     0|                     0|                     0|                     0|                     0|                     0|                     0|                     0|           1|              0|                  0|                  1|                   1|                   0|                           1|                           0|             1|             0|             0|               1|               0|             0|             0|             0|             0|             1|             0|             0|             0|             0|             0|             0|             0|             0|             0|             0|             0|             0|             0|             0|             0|             0|             0|             0|             0|             0|             0|             0|             0|             0|             0|\n",
            "+--------------------+---------+---------------+------------+------------------+-------+-------------+--------+------------------+-------------+--------------+------------------+----------+-----------------+-------+------------------+--------------------------+-----------------+------------+--------------+---------------------------+-----------------------------+--------------------------+--------------------------------+---------------------+------------------------+------------------------------+--------+-----------+-----------------------+--------------------------+------------+------------+------------+--------------+--------------+--------------+-----------------+-----------------+-----------------+--------------+--------------+--------------+--------------------+--------------------+--------------------+---------------+---------------+----------+----------+----------+----------------------+----------------------+----------------------+----------------------+----------------------+----------------------+----------------------+----------------------+----------------------+----------------------+----------------------+----------------------+----------------------+----------------------+----------------------+----------------------+----------------------+----------------------+----------------------+----------------------+----------------------+----------------------+----------------------+----------------------+----------------------+----------------------+----------------------+----------------------+----------------------+----------------------+----------------------+----------------------+----------------------+----------------------+----------------------+------------+---------------+-------------------+-------------------+--------------------+--------------------+----------------------------+----------------------------+--------------+--------------+--------------+----------------+----------------+--------------+--------------+--------------+--------------+--------------+--------------+--------------+--------------+--------------+--------------+--------------+--------------+--------------+--------------+--------------+--------------+--------------+--------------+--------------+--------------+--------------+--------------+--------------+--------------+--------------+--------------+--------------+--------------+--------------+--------------+\n",
            "only showing top 20 rows\n",
            "\n"
          ]
        }
      ]
    },
    {
      "cell_type": "code",
      "source": [
        "data2.columns # still includes original non-ohe categorical columns"
      ],
      "metadata": {
        "colab": {
          "base_uri": "https://localhost:8080/"
        },
        "id": "SgtHwtOCIQ5z",
        "outputId": "0fef2242-5354-4f27-8e41-7504850b9321"
      },
      "execution_count": 82,
      "outputs": [
        {
          "output_type": "execute_result",
          "data": {
            "text/plain": [
              "['TaxpayerMailingState',\n",
              " 'TaxStatus',\n",
              " 'HomeownerExempt',\n",
              " 'SeniorExempt',\n",
              " 'SeniorFreezeExempt',\n",
              " 'TaxYear',\n",
              " 'AccountStatus',\n",
              " 'BillType',\n",
              " 'AdjustedAmountDue1',\n",
              " 'TaxAmountDue1',\n",
              " 'CostAmountDue1',\n",
              " 'LastPaymentSource1',\n",
              " 'CofENumber',\n",
              " 'PastTaxSaleStatus',\n",
              " 'TaxRate',\n",
              " 'CondemnationStatus',\n",
              " 'MunicipalAcquisitionStatus',\n",
              " 'AcquisitionStatus',\n",
              " 'ExemptStatus',\n",
              " 'BankruptStatus',\n",
              " 'ReturningVetExemptionAmount',\n",
              " 'DisabledPersonExemptionAmount',\n",
              " 'DisabledVetExemptionAmount',\n",
              " 'DisabledPersonVetExemptionAmount',\n",
              " 'HomeownerExemptAmount',\n",
              " 'SeniorFreezeExemptAmount',\n",
              " 'LongtimeHomeownersExemptAmount',\n",
              " 'LatePmt2',\n",
              " 'AreaFromPin',\n",
              " 'TaxpayerMailingState_IL',\n",
              " 'TaxpayerMailingState_nonIL',\n",
              " 'TaxStatus_00',\n",
              " 'TaxStatus_05',\n",
              " 'TaxStatus_03',\n",
              " 'AreaFromPin_01',\n",
              " 'AreaFromPin_02',\n",
              " 'AreaFromPin_07',\n",
              " 'HomeownerExempt_0',\n",
              " 'HomeownerExempt_1',\n",
              " 'HomeownerExempt_2',\n",
              " 'SeniorExempt_0',\n",
              " 'SeniorExempt_1',\n",
              " 'SeniorExempt_2',\n",
              " 'SeniorFreezeExempt_0',\n",
              " 'SeniorFreezeExempt_1',\n",
              " 'SeniorFreezeExempt_2',\n",
              " 'AccountStatus_O',\n",
              " 'AccountStatus_P',\n",
              " 'BillType_3',\n",
              " 'BillType_1',\n",
              " 'BillType_4',\n",
              " 'LastPaymentSource1_700',\n",
              " 'LastPaymentSource1_521',\n",
              " 'LastPaymentSource1_428',\n",
              " 'LastPaymentSource1_422',\n",
              " 'LastPaymentSource1_432',\n",
              " 'LastPaymentSource1_423',\n",
              " 'LastPaymentSource1_421',\n",
              " 'LastPaymentSource1_505',\n",
              " 'LastPaymentSource1_801',\n",
              " 'LastPaymentSource1_501',\n",
              " 'LastPaymentSource1_525',\n",
              " 'LastPaymentSource1_436',\n",
              " 'LastPaymentSource1_437',\n",
              " 'LastPaymentSource1_526',\n",
              " 'LastPaymentSource1_427',\n",
              " 'LastPaymentSource1_444',\n",
              " 'LastPaymentSource1_750',\n",
              " 'LastPaymentSource1_463',\n",
              " 'LastPaymentSource1_431',\n",
              " 'LastPaymentSource1_426',\n",
              " 'LastPaymentSource1_000',\n",
              " 'LastPaymentSource1_831',\n",
              " 'LastPaymentSource1_476',\n",
              " 'LastPaymentSource1_407',\n",
              " 'LastPaymentSource1_823',\n",
              " 'LastPaymentSource1_481',\n",
              " 'LastPaymentSource1_477',\n",
              " 'LastPaymentSource1_486',\n",
              " 'LastPaymentSource1_471',\n",
              " 'LastPaymentSource1_482',\n",
              " 'LastPaymentSource1_472',\n",
              " 'LastPaymentSource1_487',\n",
              " 'LastPaymentSource1_478',\n",
              " 'LastPaymentSource1_473',\n",
              " 'LastPaymentSource1_522',\n",
              " 'CofENumber_0',\n",
              " 'CofENumber_non0',\n",
              " 'PastTaxSaleStatus_Y',\n",
              " 'PastTaxSaleStatus_N',\n",
              " 'CondemnationStatus_0',\n",
              " 'CondemnationStatus_1',\n",
              " 'MunicipalAcquisitionStatus_0',\n",
              " 'MunicipalAcquisitionStatus_1',\n",
              " 'ExemptStatus_0',\n",
              " 'ExemptStatus_1',\n",
              " 'ExemptStatus_2',\n",
              " 'BankruptStatus_0',\n",
              " 'BankruptStatus_1',\n",
              " 'AreaFromPin_03',\n",
              " 'AreaFromPin_04',\n",
              " 'AreaFromPin_05',\n",
              " 'AreaFromPin_06',\n",
              " 'AreaFromPin_08',\n",
              " 'AreaFromPin_09',\n",
              " 'AreaFromPin_10',\n",
              " 'AreaFromPin_11',\n",
              " 'AreaFromPin_12',\n",
              " 'AreaFromPin_13',\n",
              " 'AreaFromPin_14',\n",
              " 'AreaFromPin_15',\n",
              " 'AreaFromPin_16',\n",
              " 'AreaFromPin_17',\n",
              " 'AreaFromPin_18',\n",
              " 'AreaFromPin_19',\n",
              " 'AreaFromPin_20',\n",
              " 'AreaFromPin_21',\n",
              " 'AreaFromPin_22',\n",
              " 'AreaFromPin_23',\n",
              " 'AreaFromPin_24',\n",
              " 'AreaFromPin_25',\n",
              " 'AreaFromPin_26',\n",
              " 'AreaFromPin_27',\n",
              " 'AreaFromPin_28',\n",
              " 'AreaFromPin_29',\n",
              " 'AreaFromPin_30',\n",
              " 'AreaFromPin_31',\n",
              " 'AreaFromPin_32',\n",
              " 'AreaFromPin_33']"
            ]
          },
          "metadata": {},
          "execution_count": 82
        }
      ]
    },
    {
      "cell_type": "code",
      "source": [
        "# remove original non-ohe categorical columns but left with label column and tax year\n",
        "features_list = [x for x in data2.columns if x not in categorical_feats]\n",
        "features_list"
      ],
      "metadata": {
        "colab": {
          "base_uri": "https://localhost:8080/"
        },
        "id": "Qw4VFtd9I_Gi",
        "outputId": "bc85b077-73ba-433d-9fa4-3826b7aa5b9c"
      },
      "execution_count": 83,
      "outputs": [
        {
          "output_type": "execute_result",
          "data": {
            "text/plain": [
              "['TaxYear',\n",
              " 'AdjustedAmountDue1',\n",
              " 'TaxAmountDue1',\n",
              " 'CostAmountDue1',\n",
              " 'TaxRate',\n",
              " 'ReturningVetExemptionAmount',\n",
              " 'DisabledPersonExemptionAmount',\n",
              " 'DisabledVetExemptionAmount',\n",
              " 'DisabledPersonVetExemptionAmount',\n",
              " 'HomeownerExemptAmount',\n",
              " 'SeniorFreezeExemptAmount',\n",
              " 'LongtimeHomeownersExemptAmount',\n",
              " 'LatePmt2',\n",
              " 'TaxpayerMailingState_IL',\n",
              " 'TaxpayerMailingState_nonIL',\n",
              " 'TaxStatus_00',\n",
              " 'TaxStatus_05',\n",
              " 'TaxStatus_03',\n",
              " 'AreaFromPin_01',\n",
              " 'AreaFromPin_02',\n",
              " 'AreaFromPin_07',\n",
              " 'HomeownerExempt_0',\n",
              " 'HomeownerExempt_1',\n",
              " 'HomeownerExempt_2',\n",
              " 'SeniorExempt_0',\n",
              " 'SeniorExempt_1',\n",
              " 'SeniorExempt_2',\n",
              " 'SeniorFreezeExempt_0',\n",
              " 'SeniorFreezeExempt_1',\n",
              " 'SeniorFreezeExempt_2',\n",
              " 'AccountStatus_O',\n",
              " 'AccountStatus_P',\n",
              " 'BillType_3',\n",
              " 'BillType_1',\n",
              " 'BillType_4',\n",
              " 'LastPaymentSource1_700',\n",
              " 'LastPaymentSource1_521',\n",
              " 'LastPaymentSource1_428',\n",
              " 'LastPaymentSource1_422',\n",
              " 'LastPaymentSource1_432',\n",
              " 'LastPaymentSource1_423',\n",
              " 'LastPaymentSource1_421',\n",
              " 'LastPaymentSource1_505',\n",
              " 'LastPaymentSource1_801',\n",
              " 'LastPaymentSource1_501',\n",
              " 'LastPaymentSource1_525',\n",
              " 'LastPaymentSource1_436',\n",
              " 'LastPaymentSource1_437',\n",
              " 'LastPaymentSource1_526',\n",
              " 'LastPaymentSource1_427',\n",
              " 'LastPaymentSource1_444',\n",
              " 'LastPaymentSource1_750',\n",
              " 'LastPaymentSource1_463',\n",
              " 'LastPaymentSource1_431',\n",
              " 'LastPaymentSource1_426',\n",
              " 'LastPaymentSource1_000',\n",
              " 'LastPaymentSource1_831',\n",
              " 'LastPaymentSource1_476',\n",
              " 'LastPaymentSource1_407',\n",
              " 'LastPaymentSource1_823',\n",
              " 'LastPaymentSource1_481',\n",
              " 'LastPaymentSource1_477',\n",
              " 'LastPaymentSource1_486',\n",
              " 'LastPaymentSource1_471',\n",
              " 'LastPaymentSource1_482',\n",
              " 'LastPaymentSource1_472',\n",
              " 'LastPaymentSource1_487',\n",
              " 'LastPaymentSource1_478',\n",
              " 'LastPaymentSource1_473',\n",
              " 'LastPaymentSource1_522',\n",
              " 'CofENumber_0',\n",
              " 'CofENumber_non0',\n",
              " 'PastTaxSaleStatus_Y',\n",
              " 'PastTaxSaleStatus_N',\n",
              " 'CondemnationStatus_0',\n",
              " 'CondemnationStatus_1',\n",
              " 'MunicipalAcquisitionStatus_0',\n",
              " 'MunicipalAcquisitionStatus_1',\n",
              " 'ExemptStatus_0',\n",
              " 'ExemptStatus_1',\n",
              " 'ExemptStatus_2',\n",
              " 'BankruptStatus_0',\n",
              " 'BankruptStatus_1',\n",
              " 'AreaFromPin_03',\n",
              " 'AreaFromPin_04',\n",
              " 'AreaFromPin_05',\n",
              " 'AreaFromPin_06',\n",
              " 'AreaFromPin_08',\n",
              " 'AreaFromPin_09',\n",
              " 'AreaFromPin_10',\n",
              " 'AreaFromPin_11',\n",
              " 'AreaFromPin_12',\n",
              " 'AreaFromPin_13',\n",
              " 'AreaFromPin_14',\n",
              " 'AreaFromPin_15',\n",
              " 'AreaFromPin_16',\n",
              " 'AreaFromPin_17',\n",
              " 'AreaFromPin_18',\n",
              " 'AreaFromPin_19',\n",
              " 'AreaFromPin_20',\n",
              " 'AreaFromPin_21',\n",
              " 'AreaFromPin_22',\n",
              " 'AreaFromPin_23',\n",
              " 'AreaFromPin_24',\n",
              " 'AreaFromPin_25',\n",
              " 'AreaFromPin_26',\n",
              " 'AreaFromPin_27',\n",
              " 'AreaFromPin_28',\n",
              " 'AreaFromPin_29',\n",
              " 'AreaFromPin_30',\n",
              " 'AreaFromPin_31',\n",
              " 'AreaFromPin_32',\n",
              " 'AreaFromPin_33']"
            ]
          },
          "metadata": {},
          "execution_count": 83
        }
      ]
    },
    {
      "cell_type": "code",
      "source": [
        "# feature list has all features to be used in model\n",
        "features_list = [x for x in features_list if x not in ['TaxYear','LatePmt2']]\n",
        "features_list"
      ],
      "metadata": {
        "colab": {
          "base_uri": "https://localhost:8080/"
        },
        "id": "VMew-QPGJkr-",
        "outputId": "3ef8bf0f-1baf-485f-b65d-cd27f4685082"
      },
      "execution_count": 84,
      "outputs": [
        {
          "output_type": "execute_result",
          "data": {
            "text/plain": [
              "['AdjustedAmountDue1',\n",
              " 'TaxAmountDue1',\n",
              " 'CostAmountDue1',\n",
              " 'TaxRate',\n",
              " 'ReturningVetExemptionAmount',\n",
              " 'DisabledPersonExemptionAmount',\n",
              " 'DisabledVetExemptionAmount',\n",
              " 'DisabledPersonVetExemptionAmount',\n",
              " 'HomeownerExemptAmount',\n",
              " 'SeniorFreezeExemptAmount',\n",
              " 'LongtimeHomeownersExemptAmount',\n",
              " 'TaxpayerMailingState_IL',\n",
              " 'TaxpayerMailingState_nonIL',\n",
              " 'TaxStatus_00',\n",
              " 'TaxStatus_05',\n",
              " 'TaxStatus_03',\n",
              " 'AreaFromPin_01',\n",
              " 'AreaFromPin_02',\n",
              " 'AreaFromPin_07',\n",
              " 'HomeownerExempt_0',\n",
              " 'HomeownerExempt_1',\n",
              " 'HomeownerExempt_2',\n",
              " 'SeniorExempt_0',\n",
              " 'SeniorExempt_1',\n",
              " 'SeniorExempt_2',\n",
              " 'SeniorFreezeExempt_0',\n",
              " 'SeniorFreezeExempt_1',\n",
              " 'SeniorFreezeExempt_2',\n",
              " 'AccountStatus_O',\n",
              " 'AccountStatus_P',\n",
              " 'BillType_3',\n",
              " 'BillType_1',\n",
              " 'BillType_4',\n",
              " 'LastPaymentSource1_700',\n",
              " 'LastPaymentSource1_521',\n",
              " 'LastPaymentSource1_428',\n",
              " 'LastPaymentSource1_422',\n",
              " 'LastPaymentSource1_432',\n",
              " 'LastPaymentSource1_423',\n",
              " 'LastPaymentSource1_421',\n",
              " 'LastPaymentSource1_505',\n",
              " 'LastPaymentSource1_801',\n",
              " 'LastPaymentSource1_501',\n",
              " 'LastPaymentSource1_525',\n",
              " 'LastPaymentSource1_436',\n",
              " 'LastPaymentSource1_437',\n",
              " 'LastPaymentSource1_526',\n",
              " 'LastPaymentSource1_427',\n",
              " 'LastPaymentSource1_444',\n",
              " 'LastPaymentSource1_750',\n",
              " 'LastPaymentSource1_463',\n",
              " 'LastPaymentSource1_431',\n",
              " 'LastPaymentSource1_426',\n",
              " 'LastPaymentSource1_000',\n",
              " 'LastPaymentSource1_831',\n",
              " 'LastPaymentSource1_476',\n",
              " 'LastPaymentSource1_407',\n",
              " 'LastPaymentSource1_823',\n",
              " 'LastPaymentSource1_481',\n",
              " 'LastPaymentSource1_477',\n",
              " 'LastPaymentSource1_486',\n",
              " 'LastPaymentSource1_471',\n",
              " 'LastPaymentSource1_482',\n",
              " 'LastPaymentSource1_472',\n",
              " 'LastPaymentSource1_487',\n",
              " 'LastPaymentSource1_478',\n",
              " 'LastPaymentSource1_473',\n",
              " 'LastPaymentSource1_522',\n",
              " 'CofENumber_0',\n",
              " 'CofENumber_non0',\n",
              " 'PastTaxSaleStatus_Y',\n",
              " 'PastTaxSaleStatus_N',\n",
              " 'CondemnationStatus_0',\n",
              " 'CondemnationStatus_1',\n",
              " 'MunicipalAcquisitionStatus_0',\n",
              " 'MunicipalAcquisitionStatus_1',\n",
              " 'ExemptStatus_0',\n",
              " 'ExemptStatus_1',\n",
              " 'ExemptStatus_2',\n",
              " 'BankruptStatus_0',\n",
              " 'BankruptStatus_1',\n",
              " 'AreaFromPin_03',\n",
              " 'AreaFromPin_04',\n",
              " 'AreaFromPin_05',\n",
              " 'AreaFromPin_06',\n",
              " 'AreaFromPin_08',\n",
              " 'AreaFromPin_09',\n",
              " 'AreaFromPin_10',\n",
              " 'AreaFromPin_11',\n",
              " 'AreaFromPin_12',\n",
              " 'AreaFromPin_13',\n",
              " 'AreaFromPin_14',\n",
              " 'AreaFromPin_15',\n",
              " 'AreaFromPin_16',\n",
              " 'AreaFromPin_17',\n",
              " 'AreaFromPin_18',\n",
              " 'AreaFromPin_19',\n",
              " 'AreaFromPin_20',\n",
              " 'AreaFromPin_21',\n",
              " 'AreaFromPin_22',\n",
              " 'AreaFromPin_23',\n",
              " 'AreaFromPin_24',\n",
              " 'AreaFromPin_25',\n",
              " 'AreaFromPin_26',\n",
              " 'AreaFromPin_27',\n",
              " 'AreaFromPin_28',\n",
              " 'AreaFromPin_29',\n",
              " 'AreaFromPin_30',\n",
              " 'AreaFromPin_31',\n",
              " 'AreaFromPin_32',\n",
              " 'AreaFromPin_33']"
            ]
          },
          "metadata": {},
          "execution_count": 84
        }
      ]
    },
    {
      "cell_type": "code",
      "source": [
        "# create vector of features\n",
        "vec_assembler = VectorAssembler(inputCols=features_list,outputCol='features')\n",
        "vec_df = vec_assembler.transform(data2)\n"
      ],
      "metadata": {
        "id": "2W4CG4YjIgOb"
      },
      "execution_count": 85,
      "outputs": []
    },
    {
      "cell_type": "code",
      "source": [
        "vec_df.show(5,truncate=False)"
      ],
      "metadata": {
        "colab": {
          "base_uri": "https://localhost:8080/"
        },
        "id": "IHHqudWIJEwo",
        "outputId": "b7f8bdc7-3b29-4840-8aa9-b45296afde7a"
      },
      "execution_count": 87,
      "outputs": [
        {
          "output_type": "stream",
          "name": "stdout",
          "text": [
            "+--------------------+---------+---------------+------------+------------------+-------+-------------+--------+------------------+-------------+--------------+------------------+----------+-----------------+-------+------------------+--------------------------+-----------------+------------+--------------+---------------------------+-----------------------------+--------------------------+--------------------------------+---------------------+------------------------+------------------------------+--------+-----------+-----------------------+--------------------------+------------+------------+------------+--------------+--------------+--------------+-----------------+-----------------+-----------------+--------------+--------------+--------------+--------------------+--------------------+--------------------+---------------+---------------+----------+----------+----------+----------------------+----------------------+----------------------+----------------------+----------------------+----------------------+----------------------+----------------------+----------------------+----------------------+----------------------+----------------------+----------------------+----------------------+----------------------+----------------------+----------------------+----------------------+----------------------+----------------------+----------------------+----------------------+----------------------+----------------------+----------------------+----------------------+----------------------+----------------------+----------------------+----------------------+----------------------+----------------------+----------------------+----------------------+----------------------+------------+---------------+-------------------+-------------------+--------------------+--------------------+----------------------------+----------------------------+--------------+--------------+--------------+----------------+----------------+--------------+--------------+--------------+--------------+--------------+--------------+--------------+--------------+--------------+--------------+--------------+--------------+--------------+--------------+--------------+--------------+--------------+--------------+--------------+--------------+--------------+--------------+--------------+--------------+--------------+--------------+--------------+--------------+--------------+--------------+-------------------------------------------------------------------------------------------------------------------------------------------------+\n",
            "|TaxpayerMailingState|TaxStatus|HomeownerExempt|SeniorExempt|SeniorFreezeExempt|TaxYear|AccountStatus|BillType|AdjustedAmountDue1|TaxAmountDue1|CostAmountDue1|LastPaymentSource1|CofENumber|PastTaxSaleStatus|TaxRate|CondemnationStatus|MunicipalAcquisitionStatus|AcquisitionStatus|ExemptStatus|BankruptStatus|ReturningVetExemptionAmount|DisabledPersonExemptionAmount|DisabledVetExemptionAmount|DisabledPersonVetExemptionAmount|HomeownerExemptAmount|SeniorFreezeExemptAmount|LongtimeHomeownersExemptAmount|LatePmt2|AreaFromPin|TaxpayerMailingState_IL|TaxpayerMailingState_nonIL|TaxStatus_00|TaxStatus_05|TaxStatus_03|AreaFromPin_01|AreaFromPin_02|AreaFromPin_07|HomeownerExempt_0|HomeownerExempt_1|HomeownerExempt_2|SeniorExempt_0|SeniorExempt_1|SeniorExempt_2|SeniorFreezeExempt_0|SeniorFreezeExempt_1|SeniorFreezeExempt_2|AccountStatus_O|AccountStatus_P|BillType_3|BillType_1|BillType_4|LastPaymentSource1_700|LastPaymentSource1_521|LastPaymentSource1_428|LastPaymentSource1_422|LastPaymentSource1_432|LastPaymentSource1_423|LastPaymentSource1_421|LastPaymentSource1_505|LastPaymentSource1_801|LastPaymentSource1_501|LastPaymentSource1_525|LastPaymentSource1_436|LastPaymentSource1_437|LastPaymentSource1_526|LastPaymentSource1_427|LastPaymentSource1_444|LastPaymentSource1_750|LastPaymentSource1_463|LastPaymentSource1_431|LastPaymentSource1_426|LastPaymentSource1_000|LastPaymentSource1_831|LastPaymentSource1_476|LastPaymentSource1_407|LastPaymentSource1_823|LastPaymentSource1_481|LastPaymentSource1_477|LastPaymentSource1_486|LastPaymentSource1_471|LastPaymentSource1_482|LastPaymentSource1_472|LastPaymentSource1_487|LastPaymentSource1_478|LastPaymentSource1_473|LastPaymentSource1_522|CofENumber_0|CofENumber_non0|PastTaxSaleStatus_Y|PastTaxSaleStatus_N|CondemnationStatus_0|CondemnationStatus_1|MunicipalAcquisitionStatus_0|MunicipalAcquisitionStatus_1|ExemptStatus_0|ExemptStatus_1|ExemptStatus_2|BankruptStatus_0|BankruptStatus_1|AreaFromPin_03|AreaFromPin_04|AreaFromPin_05|AreaFromPin_06|AreaFromPin_08|AreaFromPin_09|AreaFromPin_10|AreaFromPin_11|AreaFromPin_12|AreaFromPin_13|AreaFromPin_14|AreaFromPin_15|AreaFromPin_16|AreaFromPin_17|AreaFromPin_18|AreaFromPin_19|AreaFromPin_20|AreaFromPin_21|AreaFromPin_22|AreaFromPin_23|AreaFromPin_24|AreaFromPin_25|AreaFromPin_26|AreaFromPin_27|AreaFromPin_28|AreaFromPin_29|AreaFromPin_30|AreaFromPin_31|AreaFromPin_32|AreaFromPin_33|features                                                                                                                                         |\n",
            "+--------------------+---------+---------------+------------+------------------+-------+-------------+--------+------------------+-------------+--------------+------------------+----------+-----------------+-------+------------------+--------------------------+-----------------+------------+--------------+---------------------------+-----------------------------+--------------------------+--------------------------------+---------------------+------------------------+------------------------------+--------+-----------+-----------------------+--------------------------+------------+------------+------------+--------------+--------------+--------------+-----------------+-----------------+-----------------+--------------+--------------+--------------+--------------------+--------------------+--------------------+---------------+---------------+----------+----------+----------+----------------------+----------------------+----------------------+----------------------+----------------------+----------------------+----------------------+----------------------+----------------------+----------------------+----------------------+----------------------+----------------------+----------------------+----------------------+----------------------+----------------------+----------------------+----------------------+----------------------+----------------------+----------------------+----------------------+----------------------+----------------------+----------------------+----------------------+----------------------+----------------------+----------------------+----------------------+----------------------+----------------------+----------------------+----------------------+------------+---------------+-------------------+-------------------+--------------------+--------------------+----------------------------+----------------------------+--------------+--------------+--------------+----------------+----------------+--------------+--------------+--------------+--------------+--------------+--------------+--------------+--------------+--------------+--------------+--------------+--------------+--------------+--------------+--------------+--------------+--------------+--------------+--------------+--------------+--------------+--------------+--------------+--------------+--------------+--------------+--------------+--------------+--------------+--------------+-------------------------------------------------------------------------------------------------------------------------------------------------+\n",
            "|1                   |00       |1              |0           |0                 |2021   |P            |1       |227431.0          |0.0          |0.0           |444               |0         |0                |11158.0|0                 |0                         |0                |0           |0             |0.0                        |0.0                          |0.0                       |0.0                             |10000.0              |0.0                     |0.0                           |0       |07         |1                      |0                         |1           |0           |0           |0             |0             |1             |0                |1                |0                |1             |0             |0             |1                   |0                   |0                   |0              |1              |0         |1         |0         |0                     |0                     |0                     |0                     |0                     |0                     |0                     |0                     |0                     |0                     |0                     |0                     |0                     |0                     |0                     |1                     |0                     |0                     |0                     |0                     |0                     |0                     |0                     |0                     |0                     |0                     |0                     |0                     |0                     |0                     |0                     |0                     |0                     |0                     |0                     |1           |0              |0                  |1                  |1                   |0                   |1                           |0                           |1             |0             |0             |1               |0               |0             |0             |0             |0             |0             |0             |0             |0             |0             |0             |0             |0             |0             |0             |0             |0             |0             |0             |0             |0             |0             |0             |0             |0             |0             |0             |0             |0             |0             |0             |(111,[0,3,8,11,13,18,20,22,25,29,31,48,68,71,72,74,76,79],[227431.0,11158.0,10000.0,1.0,1.0,1.0,1.0,1.0,1.0,1.0,1.0,1.0,1.0,1.0,1.0,1.0,1.0,1.0])|\n",
            "|1                   |03       |1              |1           |0                 |2021   |P            |1       |206037.0          |0.0          |0.0           |431               |0         |0                |11158.0|0                 |0                         |0                |1           |0             |0.0                        |0.0                          |0.0                       |0.0                             |10000.0              |0.0                     |0.0                           |0       |07         |1                      |0                         |0           |0           |1           |0             |0             |1             |0                |1                |0                |0             |1             |0             |1                   |0                   |0                   |0              |1              |0         |1         |0         |0                     |0                     |0                     |0                     |0                     |0                     |0                     |0                     |0                     |0                     |0                     |0                     |0                     |0                     |0                     |0                     |0                     |0                     |1                     |0                     |0                     |0                     |0                     |0                     |0                     |0                     |0                     |0                     |0                     |0                     |0                     |0                     |0                     |0                     |0                     |1           |0              |0                  |1                  |1                   |0                   |1                           |0                           |0             |1             |0             |1               |0               |0             |0             |0             |0             |0             |0             |0             |0             |0             |0             |0             |0             |0             |0             |0             |0             |0             |0             |0             |0             |0             |0             |0             |0             |0             |0             |0             |0             |0             |0             |(111,[0,3,8,11,15,18,20,23,25,29,31,51,68,71,72,74,77,79],[206037.0,11158.0,10000.0,1.0,1.0,1.0,1.0,1.0,1.0,1.0,1.0,1.0,1.0,1.0,1.0,1.0,1.0,1.0])|\n",
            "|1                   |03       |1              |1           |0                 |2021   |P            |1       |186401.0          |0.0          |0.0           |444               |0         |0                |11158.0|0                 |0                         |0                |1           |0             |0.0                        |0.0                          |0.0                       |0.0                             |10000.0              |0.0                     |0.0                           |0       |07         |1                      |0                         |0           |0           |1           |0             |0             |1             |0                |1                |0                |0             |1             |0             |1                   |0                   |0                   |0              |1              |0         |1         |0         |0                     |0                     |0                     |0                     |0                     |0                     |0                     |0                     |0                     |0                     |0                     |0                     |0                     |0                     |0                     |1                     |0                     |0                     |0                     |0                     |0                     |0                     |0                     |0                     |0                     |0                     |0                     |0                     |0                     |0                     |0                     |0                     |0                     |0                     |0                     |1           |0              |0                  |1                  |1                   |0                   |1                           |0                           |0             |1             |0             |1               |0               |0             |0             |0             |0             |0             |0             |0             |0             |0             |0             |0             |0             |0             |0             |0             |0             |0             |0             |0             |0             |0             |0             |0             |0             |0             |0             |0             |0             |0             |0             |(111,[0,3,8,11,15,18,20,23,25,29,31,48,68,71,72,74,77,79],[186401.0,11158.0,10000.0,1.0,1.0,1.0,1.0,1.0,1.0,1.0,1.0,1.0,1.0,1.0,1.0,1.0,1.0,1.0])|\n",
            "|1                   |00       |1              |0           |0                 |2021   |P            |1       |250702.0          |0.0          |0.0           |700               |0         |0                |11158.0|0                 |0                         |0                |0           |0             |0.0                        |0.0                          |0.0                       |0.0                             |10000.0              |0.0                     |0.0                           |0       |07         |1                      |0                         |1           |0           |0           |0             |0             |1             |0                |1                |0                |1             |0             |0             |1                   |0                   |0                   |0              |1              |0         |1         |0         |1                     |0                     |0                     |0                     |0                     |0                     |0                     |0                     |0                     |0                     |0                     |0                     |0                     |0                     |0                     |0                     |0                     |0                     |0                     |0                     |0                     |0                     |0                     |0                     |0                     |0                     |0                     |0                     |0                     |0                     |0                     |0                     |0                     |0                     |0                     |1           |0              |0                  |1                  |1                   |0                   |1                           |0                           |1             |0             |0             |1               |0               |0             |0             |0             |0             |0             |0             |0             |0             |0             |0             |0             |0             |0             |0             |0             |0             |0             |0             |0             |0             |0             |0             |0             |0             |0             |0             |0             |0             |0             |0             |(111,[0,3,8,11,13,18,20,22,25,29,31,33,68,71,72,74,76,79],[250702.0,11158.0,10000.0,1.0,1.0,1.0,1.0,1.0,1.0,1.0,1.0,1.0,1.0,1.0,1.0,1.0,1.0,1.0])|\n",
            "|0                   |00       |0              |0           |0                 |2021   |P            |1       |150860.0          |0.0          |0.0           |700               |0         |0                |11158.0|0                 |0                         |0                |0           |0             |0.0                        |0.0                          |0.0                       |0.0                             |0.0                  |0.0                     |0.0                           |0       |07         |0                      |1                         |1           |0           |0           |0             |0             |1             |1                |0                |0                |1             |0             |0             |1                   |0                   |0                   |0              |1              |0         |1         |0         |1                     |0                     |0                     |0                     |0                     |0                     |0                     |0                     |0                     |0                     |0                     |0                     |0                     |0                     |0                     |0                     |0                     |0                     |0                     |0                     |0                     |0                     |0                     |0                     |0                     |0                     |0                     |0                     |0                     |0                     |0                     |0                     |0                     |0                     |0                     |1           |0              |0                  |1                  |1                   |0                   |1                           |0                           |1             |0             |0             |1               |0               |0             |0             |0             |0             |0             |0             |0             |0             |0             |0             |0             |0             |0             |0             |0             |0             |0             |0             |0             |0             |0             |0             |0             |0             |0             |0             |0             |0             |0             |0             |(111,[0,3,12,13,18,19,22,25,29,31,33,68,71,72,74,76,79],[150860.0,11158.0,1.0,1.0,1.0,1.0,1.0,1.0,1.0,1.0,1.0,1.0,1.0,1.0,1.0,1.0,1.0])          |\n",
            "+--------------------+---------+---------------+------------+------------------+-------+-------------+--------+------------------+-------------+--------------+------------------+----------+-----------------+-------+------------------+--------------------------+-----------------+------------+--------------+---------------------------+-----------------------------+--------------------------+--------------------------------+---------------------+------------------------+------------------------------+--------+-----------+-----------------------+--------------------------+------------+------------+------------+--------------+--------------+--------------+-----------------+-----------------+-----------------+--------------+--------------+--------------+--------------------+--------------------+--------------------+---------------+---------------+----------+----------+----------+----------------------+----------------------+----------------------+----------------------+----------------------+----------------------+----------------------+----------------------+----------------------+----------------------+----------------------+----------------------+----------------------+----------------------+----------------------+----------------------+----------------------+----------------------+----------------------+----------------------+----------------------+----------------------+----------------------+----------------------+----------------------+----------------------+----------------------+----------------------+----------------------+----------------------+----------------------+----------------------+----------------------+----------------------+----------------------+------------+---------------+-------------------+-------------------+--------------------+--------------------+----------------------------+----------------------------+--------------+--------------+--------------+----------------+----------------+--------------+--------------+--------------+--------------+--------------+--------------+--------------+--------------+--------------+--------------+--------------+--------------+--------------+--------------+--------------+--------------+--------------+--------------+--------------+--------------+--------------+--------------+--------------+--------------+--------------+--------------+--------------+--------------+--------------+--------------+-------------------------------------------------------------------------------------------------------------------------------------------------+\n",
            "only showing top 5 rows\n",
            "\n"
          ]
        }
      ]
    },
    {
      "cell_type": "code",
      "source": [
        "#train test split based on years\n",
        "test2021=vec_df.filter(col('TaxYear')==2021) # used with train4year\n",
        "test2020=vec_df.filter(col('TaxYear')==2020) #used with train3year\n",
        "train3year=vec_df.filter((col('TaxYear')==2017) |(col('TaxYear')==2018)|(col('TaxYear')==2019))\n",
        "train4year=vec_df.filter(col('TaxYear')!=2021)"
      ],
      "metadata": {
        "id": "VOcR30JTKgr0"
      },
      "execution_count": 91,
      "outputs": []
    },
    {
      "cell_type": "code",
      "source": [
        "# Test train split\n",
        "# train, test = vec_df.randomSplit([0.8,0.2], seed=100)"
      ],
      "metadata": {
        "id": "1qlfXV3--dZ8"
      },
      "execution_count": null,
      "outputs": []
    },
    {
      "cell_type": "code",
      "source": [
        "train4year.columns"
      ],
      "metadata": {
        "colab": {
          "base_uri": "https://localhost:8080/"
        },
        "id": "sZmMVQEjXcFU",
        "outputId": "6567fa4a-dca9-4af2-ae24-9f4ca78d2fbb"
      },
      "execution_count": 94,
      "outputs": [
        {
          "output_type": "execute_result",
          "data": {
            "text/plain": [
              "['TaxpayerMailingState',\n",
              " 'TaxStatus',\n",
              " 'HomeownerExempt',\n",
              " 'SeniorExempt',\n",
              " 'SeniorFreezeExempt',\n",
              " 'TaxYear',\n",
              " 'AccountStatus',\n",
              " 'BillType',\n",
              " 'AdjustedAmountDue1',\n",
              " 'TaxAmountDue1',\n",
              " 'CostAmountDue1',\n",
              " 'LastPaymentSource1',\n",
              " 'CofENumber',\n",
              " 'PastTaxSaleStatus',\n",
              " 'TaxRate',\n",
              " 'CondemnationStatus',\n",
              " 'MunicipalAcquisitionStatus',\n",
              " 'AcquisitionStatus',\n",
              " 'ExemptStatus',\n",
              " 'BankruptStatus',\n",
              " 'ReturningVetExemptionAmount',\n",
              " 'DisabledPersonExemptionAmount',\n",
              " 'DisabledVetExemptionAmount',\n",
              " 'DisabledPersonVetExemptionAmount',\n",
              " 'HomeownerExemptAmount',\n",
              " 'SeniorFreezeExemptAmount',\n",
              " 'LongtimeHomeownersExemptAmount',\n",
              " 'LatePmt2',\n",
              " 'AreaFromPin',\n",
              " 'TaxpayerMailingState_IL',\n",
              " 'TaxpayerMailingState_nonIL',\n",
              " 'TaxStatus_00',\n",
              " 'TaxStatus_05',\n",
              " 'TaxStatus_03',\n",
              " 'AreaFromPin_01',\n",
              " 'AreaFromPin_02',\n",
              " 'AreaFromPin_07',\n",
              " 'HomeownerExempt_0',\n",
              " 'HomeownerExempt_1',\n",
              " 'HomeownerExempt_2',\n",
              " 'SeniorExempt_0',\n",
              " 'SeniorExempt_1',\n",
              " 'SeniorExempt_2',\n",
              " 'SeniorFreezeExempt_0',\n",
              " 'SeniorFreezeExempt_1',\n",
              " 'SeniorFreezeExempt_2',\n",
              " 'AccountStatus_O',\n",
              " 'AccountStatus_P',\n",
              " 'BillType_3',\n",
              " 'BillType_1',\n",
              " 'BillType_4',\n",
              " 'LastPaymentSource1_700',\n",
              " 'LastPaymentSource1_521',\n",
              " 'LastPaymentSource1_428',\n",
              " 'LastPaymentSource1_422',\n",
              " 'LastPaymentSource1_432',\n",
              " 'LastPaymentSource1_423',\n",
              " 'LastPaymentSource1_421',\n",
              " 'LastPaymentSource1_505',\n",
              " 'LastPaymentSource1_801',\n",
              " 'LastPaymentSource1_501',\n",
              " 'LastPaymentSource1_525',\n",
              " 'LastPaymentSource1_436',\n",
              " 'LastPaymentSource1_437',\n",
              " 'LastPaymentSource1_526',\n",
              " 'LastPaymentSource1_427',\n",
              " 'LastPaymentSource1_444',\n",
              " 'LastPaymentSource1_750',\n",
              " 'LastPaymentSource1_463',\n",
              " 'LastPaymentSource1_431',\n",
              " 'LastPaymentSource1_426',\n",
              " 'LastPaymentSource1_000',\n",
              " 'LastPaymentSource1_831',\n",
              " 'LastPaymentSource1_476',\n",
              " 'LastPaymentSource1_407',\n",
              " 'LastPaymentSource1_823',\n",
              " 'LastPaymentSource1_481',\n",
              " 'LastPaymentSource1_477',\n",
              " 'LastPaymentSource1_486',\n",
              " 'LastPaymentSource1_471',\n",
              " 'LastPaymentSource1_482',\n",
              " 'LastPaymentSource1_472',\n",
              " 'LastPaymentSource1_487',\n",
              " 'LastPaymentSource1_478',\n",
              " 'LastPaymentSource1_473',\n",
              " 'LastPaymentSource1_522',\n",
              " 'CofENumber_0',\n",
              " 'CofENumber_non0',\n",
              " 'PastTaxSaleStatus_Y',\n",
              " 'PastTaxSaleStatus_N',\n",
              " 'CondemnationStatus_0',\n",
              " 'CondemnationStatus_1',\n",
              " 'MunicipalAcquisitionStatus_0',\n",
              " 'MunicipalAcquisitionStatus_1',\n",
              " 'ExemptStatus_0',\n",
              " 'ExemptStatus_1',\n",
              " 'ExemptStatus_2',\n",
              " 'BankruptStatus_0',\n",
              " 'BankruptStatus_1',\n",
              " 'AreaFromPin_03',\n",
              " 'AreaFromPin_04',\n",
              " 'AreaFromPin_05',\n",
              " 'AreaFromPin_06',\n",
              " 'AreaFromPin_08',\n",
              " 'AreaFromPin_09',\n",
              " 'AreaFromPin_10',\n",
              " 'AreaFromPin_11',\n",
              " 'AreaFromPin_12',\n",
              " 'AreaFromPin_13',\n",
              " 'AreaFromPin_14',\n",
              " 'AreaFromPin_15',\n",
              " 'AreaFromPin_16',\n",
              " 'AreaFromPin_17',\n",
              " 'AreaFromPin_18',\n",
              " 'AreaFromPin_19',\n",
              " 'AreaFromPin_20',\n",
              " 'AreaFromPin_21',\n",
              " 'AreaFromPin_22',\n",
              " 'AreaFromPin_23',\n",
              " 'AreaFromPin_24',\n",
              " 'AreaFromPin_25',\n",
              " 'AreaFromPin_26',\n",
              " 'AreaFromPin_27',\n",
              " 'AreaFromPin_28',\n",
              " 'AreaFromPin_29',\n",
              " 'AreaFromPin_30',\n",
              " 'AreaFromPin_31',\n",
              " 'AreaFromPin_32',\n",
              " 'AreaFromPin_33',\n",
              " 'features']"
            ]
          },
          "metadata": {},
          "execution_count": 94
        }
      ]
    },
    {
      "cell_type": "code",
      "source": [
        "train = train4year.persist()\n",
        "train.count()"
      ],
      "metadata": {
        "id": "yZrqOGeBCBil",
        "colab": {
          "base_uri": "https://localhost:8080/"
        },
        "outputId": "5f0a41a1-4235-4ab3-9f87-781eeb83e16a"
      },
      "execution_count": 95,
      "outputs": [
        {
          "output_type": "execute_result",
          "data": {
            "text/plain": [
              "3450763"
            ]
          },
          "metadata": {},
          "execution_count": 95
        }
      ]
    },
    {
      "cell_type": "code",
      "source": [
        "train.show(5)"
      ],
      "metadata": {
        "id": "8WsxqEFiutxt",
        "colab": {
          "base_uri": "https://localhost:8080/"
        },
        "outputId": "801665a6-66f2-4ace-c20a-335a9bb454bb"
      },
      "execution_count": 96,
      "outputs": [
        {
          "output_type": "stream",
          "name": "stdout",
          "text": [
            "+--------------------+---------+---------------+------------+------------------+-------+-------------+--------+------------------+-------------+--------------+------------------+----------+-----------------+-------+------------------+--------------------------+-----------------+------------+--------------+---------------------------+-----------------------------+--------------------------+--------------------------------+---------------------+------------------------+------------------------------+--------+-----------+-----------------------+--------------------------+------------+------------+------------+--------------+--------------+--------------+-----------------+-----------------+-----------------+--------------+--------------+--------------+--------------------+--------------------+--------------------+---------------+---------------+----------+----------+----------+----------------------+----------------------+----------------------+----------------------+----------------------+----------------------+----------------------+----------------------+----------------------+----------------------+----------------------+----------------------+----------------------+----------------------+----------------------+----------------------+----------------------+----------------------+----------------------+----------------------+----------------------+----------------------+----------------------+----------------------+----------------------+----------------------+----------------------+----------------------+----------------------+----------------------+----------------------+----------------------+----------------------+----------------------+----------------------+------------+---------------+-------------------+-------------------+--------------------+--------------------+----------------------------+----------------------------+--------------+--------------+--------------+----------------+----------------+--------------+--------------+--------------+--------------+--------------+--------------+--------------+--------------+--------------+--------------+--------------+--------------+--------------+--------------+--------------+--------------+--------------+--------------+--------------+--------------+--------------+--------------+--------------+--------------+--------------+--------------+--------------+--------------+--------------+--------------+--------------------+\n",
            "|TaxpayerMailingState|TaxStatus|HomeownerExempt|SeniorExempt|SeniorFreezeExempt|TaxYear|AccountStatus|BillType|AdjustedAmountDue1|TaxAmountDue1|CostAmountDue1|LastPaymentSource1|CofENumber|PastTaxSaleStatus|TaxRate|CondemnationStatus|MunicipalAcquisitionStatus|AcquisitionStatus|ExemptStatus|BankruptStatus|ReturningVetExemptionAmount|DisabledPersonExemptionAmount|DisabledVetExemptionAmount|DisabledPersonVetExemptionAmount|HomeownerExemptAmount|SeniorFreezeExemptAmount|LongtimeHomeownersExemptAmount|LatePmt2|AreaFromPin|TaxpayerMailingState_IL|TaxpayerMailingState_nonIL|TaxStatus_00|TaxStatus_05|TaxStatus_03|AreaFromPin_01|AreaFromPin_02|AreaFromPin_07|HomeownerExempt_0|HomeownerExempt_1|HomeownerExempt_2|SeniorExempt_0|SeniorExempt_1|SeniorExempt_2|SeniorFreezeExempt_0|SeniorFreezeExempt_1|SeniorFreezeExempt_2|AccountStatus_O|AccountStatus_P|BillType_3|BillType_1|BillType_4|LastPaymentSource1_700|LastPaymentSource1_521|LastPaymentSource1_428|LastPaymentSource1_422|LastPaymentSource1_432|LastPaymentSource1_423|LastPaymentSource1_421|LastPaymentSource1_505|LastPaymentSource1_801|LastPaymentSource1_501|LastPaymentSource1_525|LastPaymentSource1_436|LastPaymentSource1_437|LastPaymentSource1_526|LastPaymentSource1_427|LastPaymentSource1_444|LastPaymentSource1_750|LastPaymentSource1_463|LastPaymentSource1_431|LastPaymentSource1_426|LastPaymentSource1_000|LastPaymentSource1_831|LastPaymentSource1_476|LastPaymentSource1_407|LastPaymentSource1_823|LastPaymentSource1_481|LastPaymentSource1_477|LastPaymentSource1_486|LastPaymentSource1_471|LastPaymentSource1_482|LastPaymentSource1_472|LastPaymentSource1_487|LastPaymentSource1_478|LastPaymentSource1_473|LastPaymentSource1_522|CofENumber_0|CofENumber_non0|PastTaxSaleStatus_Y|PastTaxSaleStatus_N|CondemnationStatus_0|CondemnationStatus_1|MunicipalAcquisitionStatus_0|MunicipalAcquisitionStatus_1|ExemptStatus_0|ExemptStatus_1|ExemptStatus_2|BankruptStatus_0|BankruptStatus_1|AreaFromPin_03|AreaFromPin_04|AreaFromPin_05|AreaFromPin_06|AreaFromPin_08|AreaFromPin_09|AreaFromPin_10|AreaFromPin_11|AreaFromPin_12|AreaFromPin_13|AreaFromPin_14|AreaFromPin_15|AreaFromPin_16|AreaFromPin_17|AreaFromPin_18|AreaFromPin_19|AreaFromPin_20|AreaFromPin_21|AreaFromPin_22|AreaFromPin_23|AreaFromPin_24|AreaFromPin_25|AreaFromPin_26|AreaFromPin_27|AreaFromPin_28|AreaFromPin_29|AreaFromPin_30|AreaFromPin_31|AreaFromPin_32|AreaFromPin_33|            features|\n",
            "+--------------------+---------+---------------+------------+------------------+-------+-------------+--------+------------------+-------------+--------------+------------------+----------+-----------------+-------+------------------+--------------------------+-----------------+------------+--------------+---------------------------+-----------------------------+--------------------------+--------------------------------+---------------------+------------------------+------------------------------+--------+-----------+-----------------------+--------------------------+------------+------------+------------+--------------+--------------+--------------+-----------------+-----------------+-----------------+--------------+--------------+--------------+--------------------+--------------------+--------------------+---------------+---------------+----------+----------+----------+----------------------+----------------------+----------------------+----------------------+----------------------+----------------------+----------------------+----------------------+----------------------+----------------------+----------------------+----------------------+----------------------+----------------------+----------------------+----------------------+----------------------+----------------------+----------------------+----------------------+----------------------+----------------------+----------------------+----------------------+----------------------+----------------------+----------------------+----------------------+----------------------+----------------------+----------------------+----------------------+----------------------+----------------------+----------------------+------------+---------------+-------------------+-------------------+--------------------+--------------------+----------------------------+----------------------------+--------------+--------------+--------------+----------------+----------------+--------------+--------------+--------------+--------------+--------------+--------------+--------------+--------------+--------------+--------------+--------------+--------------+--------------+--------------+--------------+--------------+--------------+--------------+--------------+--------------+--------------+--------------+--------------+--------------+--------------+--------------+--------------+--------------+--------------+--------------+--------------------+\n",
            "|                   1|       03|              1|           1|                 0|   2020|            P|       1|          388554.0|          0.0|           0.0|               700|         0|                0| 7384.0|                 0|                         0|                0|           1|             0|                        0.0|                          0.0|                       0.0|                             0.0|              10000.0|                     0.0|                           0.0|       0|         01|                      1|                         0|           0|           0|           1|             1|             0|             0|                0|                1|                0|             0|             1|             0|                   1|                   0|                   0|              0|              1|         0|         1|         0|                     1|                     0|                     0|                     0|                     0|                     0|                     0|                     0|                     0|                     0|                     0|                     0|                     0|                     0|                     0|                     0|                     0|                     0|                     0|                     0|                     0|                     0|                     0|                     0|                     0|                     0|                     0|                     0|                     0|                     0|                     0|                     0|                     0|                     0|                     0|           1|              0|                  0|                  1|                   1|                   0|                           1|                           0|             0|             1|             0|               1|               0|             0|             0|             0|             0|             0|             0|             0|             0|             0|             0|             0|             0|             0|             0|             0|             0|             0|             0|             0|             0|             0|             0|             0|             0|             0|             0|             0|             0|             0|             0|(111,[0,3,8,11,15...|\n",
            "|                   1|       03|              1|           1|                 0|   2020|            P|       1|          388925.0|          0.0|           0.0|               481|         0|                0| 9925.0|                 0|                         0|                0|           1|             0|                        0.0|                          0.0|                       0.0|                             0.0|              10000.0|                     0.0|                           0.0|       0|         02|                      1|                         0|           0|           0|           1|             0|             1|             0|                0|                1|                0|             0|             1|             0|                   1|                   0|                   0|              0|              1|         0|         1|         0|                     0|                     0|                     0|                     0|                     0|                     0|                     0|                     0|                     0|                     0|                     0|                     0|                     0|                     0|                     0|                     0|                     0|                     0|                     0|                     0|                     0|                     0|                     0|                     0|                     0|                     1|                     0|                     0|                     0|                     0|                     0|                     0|                     0|                     0|                     0|           1|              0|                  0|                  1|                   1|                   0|                           1|                           0|             0|             1|             0|               1|               0|             0|             0|             0|             0|             0|             0|             0|             0|             0|             0|             0|             0|             0|             0|             0|             0|             0|             0|             0|             0|             0|             0|             0|             0|             0|             0|             0|             0|             0|             0|(111,[0,3,8,11,15...|\n",
            "|                   1|       03|              1|           1|                 0|   2020|            P|       1|          395757.0|          0.0|           0.0|               700|         0|                0| 9925.0|                 0|                         0|                0|           1|             0|                        0.0|                          0.0|                       0.0|                             0.0|              10000.0|                     0.0|                           0.0|       0|         02|                      1|                         0|           0|           0|           1|             0|             1|             0|                0|                1|                0|             0|             1|             0|                   1|                   0|                   0|              0|              1|         0|         1|         0|                     1|                     0|                     0|                     0|                     0|                     0|                     0|                     0|                     0|                     0|                     0|                     0|                     0|                     0|                     0|                     0|                     0|                     0|                     0|                     0|                     0|                     0|                     0|                     0|                     0|                     0|                     0|                     0|                     0|                     0|                     0|                     0|                     0|                     0|                     0|           1|              0|                  0|                  1|                   1|                   0|                           1|                           0|             0|             1|             0|               1|               0|             0|             0|             0|             0|             0|             0|             0|             0|             0|             0|             0|             0|             0|             0|             0|             0|             0|             0|             0|             0|             0|             0|             0|             0|             0|             0|             0|             0|             0|             0|(111,[0,3,8,11,15...|\n",
            "|                   1|       03|              1|           1|                 0|   2020|            P|       1|          450255.0|          0.0|           0.0|               700|         0|                0| 9925.0|                 0|                         0|                0|           1|             0|                        0.0|                          0.0|                       0.0|                             0.0|              10000.0|                     0.0|                           0.0|       0|         02|                      1|                         0|           0|           0|           1|             0|             1|             0|                0|                1|                0|             0|             1|             0|                   1|                   0|                   0|              0|              1|         0|         1|         0|                     1|                     0|                     0|                     0|                     0|                     0|                     0|                     0|                     0|                     0|                     0|                     0|                     0|                     0|                     0|                     0|                     0|                     0|                     0|                     0|                     0|                     0|                     0|                     0|                     0|                     0|                     0|                     0|                     0|                     0|                     0|                     0|                     0|                     0|                     0|           1|              0|                  0|                  1|                   1|                   0|                           1|                           0|             0|             1|             0|               1|               0|             0|             0|             0|             0|             0|             0|             0|             0|             0|             0|             0|             0|             0|             0|             0|             0|             0|             0|             0|             0|             0|             0|             0|             0|             0|             0|             0|             0|             0|             0|(111,[0,3,8,11,15...|\n",
            "|                   1|       00|              1|           0|                 0|   2020|            P|       1|          493529.0|          0.0|           0.0|               700|         0|                0| 9925.0|                 0|                         0|                0|           0|             0|                        0.0|                          0.0|                       0.0|                             0.0|              10000.0|                     0.0|                           0.0|       0|         02|                      1|                         0|           1|           0|           0|             0|             1|             0|                0|                1|                0|             1|             0|             0|                   1|                   0|                   0|              0|              1|         0|         1|         0|                     1|                     0|                     0|                     0|                     0|                     0|                     0|                     0|                     0|                     0|                     0|                     0|                     0|                     0|                     0|                     0|                     0|                     0|                     0|                     0|                     0|                     0|                     0|                     0|                     0|                     0|                     0|                     0|                     0|                     0|                     0|                     0|                     0|                     0|                     0|           1|              0|                  0|                  1|                   1|                   0|                           1|                           0|             1|             0|             0|               1|               0|             0|             0|             0|             0|             0|             0|             0|             0|             0|             0|             0|             0|             0|             0|             0|             0|             0|             0|             0|             0|             0|             0|             0|             0|             0|             0|             0|             0|             0|             0|(111,[0,3,8,11,13...|\n",
            "+--------------------+---------+---------------+------------+------------------+-------+-------------+--------+------------------+-------------+--------------+------------------+----------+-----------------+-------+------------------+--------------------------+-----------------+------------+--------------+---------------------------+-----------------------------+--------------------------+--------------------------------+---------------------+------------------------+------------------------------+--------+-----------+-----------------------+--------------------------+------------+------------+------------+--------------+--------------+--------------+-----------------+-----------------+-----------------+--------------+--------------+--------------+--------------------+--------------------+--------------------+---------------+---------------+----------+----------+----------+----------------------+----------------------+----------------------+----------------------+----------------------+----------------------+----------------------+----------------------+----------------------+----------------------+----------------------+----------------------+----------------------+----------------------+----------------------+----------------------+----------------------+----------------------+----------------------+----------------------+----------------------+----------------------+----------------------+----------------------+----------------------+----------------------+----------------------+----------------------+----------------------+----------------------+----------------------+----------------------+----------------------+----------------------+----------------------+------------+---------------+-------------------+-------------------+--------------------+--------------------+----------------------------+----------------------------+--------------+--------------+--------------+----------------+----------------+--------------+--------------+--------------+--------------+--------------+--------------+--------------+--------------+--------------+--------------+--------------+--------------+--------------+--------------+--------------+--------------+--------------+--------------+--------------+--------------+--------------+--------------+--------------+--------------+--------------+--------------+--------------+--------------+--------------+--------------+--------------------+\n",
            "only showing top 5 rows\n",
            "\n"
          ]
        }
      ]
    },
    {
      "cell_type": "code",
      "source": [
        "#from pyspark.ml.classification import LogisticRegression\n",
        "#logit = LogisticRegression(labelCol=\"LatePmt2\")\n",
        "#logit = logit.fit(train)"
      ],
      "metadata": {
        "id": "S0SL41Ye9pDW"
      },
      "execution_count": null,
      "outputs": []
    },
    {
      "cell_type": "markdown",
      "source": [
        "## 4 year window model\n"
      ],
      "metadata": {
        "id": "Qx48ihlvZ2P6"
      }
    },
    {
      "cell_type": "code",
      "source": [
        "rf = RandomForestClassifier(featuresCol = 'features', labelCol = 'LatePmt2')\n",
        "rfModel = rf.fit(train)\n",
        "predictions = rfModel.transform(test2021)"
      ],
      "metadata": {
        "id": "z_u8hp6buvzG"
      },
      "execution_count": 97,
      "outputs": []
    },
    {
      "cell_type": "code",
      "source": [
        "actual = test2021.select(test2021.LatePmt2).toPandas()['LatePmt2']"
      ],
      "metadata": {
        "id": "ipXeoNTG4wxc"
      },
      "execution_count": 98,
      "outputs": []
    },
    {
      "cell_type": "code",
      "source": [
        "predictions.where(col(\"prediction\")==1).show(5, truncate=False)"
      ],
      "metadata": {
        "colab": {
          "base_uri": "https://localhost:8080/"
        },
        "id": "AAb0NaswOHDM",
        "outputId": "fca06e57-f689-47f1-e75b-8791b53f97eb"
      },
      "execution_count": 99,
      "outputs": [
        {
          "output_type": "stream",
          "name": "stdout",
          "text": [
            "+--------------------+---------+---------------+------------+------------------+-------+-------------+--------+------------------+-------------+--------------+------------------+----------+-----------------+-------+------------------+--------------------------+-----------------+------------+--------------+---------------------------+-----------------------------+--------------------------+--------------------------------+---------------------+------------------------+------------------------------+--------+-----------+-----------------------+--------------------------+------------+------------+------------+--------------+--------------+--------------+-----------------+-----------------+-----------------+--------------+--------------+--------------+--------------------+--------------------+--------------------+---------------+---------------+----------+----------+----------+----------------------+----------------------+----------------------+----------------------+----------------------+----------------------+----------------------+----------------------+----------------------+----------------------+----------------------+----------------------+----------------------+----------------------+----------------------+----------------------+----------------------+----------------------+----------------------+----------------------+----------------------+----------------------+----------------------+----------------------+----------------------+----------------------+----------------------+----------------------+----------------------+----------------------+----------------------+----------------------+----------------------+----------------------+----------------------+------------+---------------+-------------------+-------------------+--------------------+--------------------+----------------------------+----------------------------+--------------+--------------+--------------+----------------+----------------+--------------+--------------+--------------+--------------+--------------+--------------+--------------+--------------+--------------+--------------+--------------+--------------+--------------+--------------+--------------+--------------+--------------+--------------+--------------+--------------+--------------+--------------+--------------+--------------+--------------+--------------+--------------+--------------+--------------+--------------+----------------------------------------------------------------------------------------------------------------------------------------+--------------------------------------+----------------------------------------+----------+\n",
            "|TaxpayerMailingState|TaxStatus|HomeownerExempt|SeniorExempt|SeniorFreezeExempt|TaxYear|AccountStatus|BillType|AdjustedAmountDue1|TaxAmountDue1|CostAmountDue1|LastPaymentSource1|CofENumber|PastTaxSaleStatus|TaxRate|CondemnationStatus|MunicipalAcquisitionStatus|AcquisitionStatus|ExemptStatus|BankruptStatus|ReturningVetExemptionAmount|DisabledPersonExemptionAmount|DisabledVetExemptionAmount|DisabledPersonVetExemptionAmount|HomeownerExemptAmount|SeniorFreezeExemptAmount|LongtimeHomeownersExemptAmount|LatePmt2|AreaFromPin|TaxpayerMailingState_IL|TaxpayerMailingState_nonIL|TaxStatus_00|TaxStatus_05|TaxStatus_03|AreaFromPin_01|AreaFromPin_02|AreaFromPin_07|HomeownerExempt_0|HomeownerExempt_1|HomeownerExempt_2|SeniorExempt_0|SeniorExempt_1|SeniorExempt_2|SeniorFreezeExempt_0|SeniorFreezeExempt_1|SeniorFreezeExempt_2|AccountStatus_O|AccountStatus_P|BillType_3|BillType_1|BillType_4|LastPaymentSource1_700|LastPaymentSource1_521|LastPaymentSource1_428|LastPaymentSource1_422|LastPaymentSource1_432|LastPaymentSource1_423|LastPaymentSource1_421|LastPaymentSource1_505|LastPaymentSource1_801|LastPaymentSource1_501|LastPaymentSource1_525|LastPaymentSource1_436|LastPaymentSource1_437|LastPaymentSource1_526|LastPaymentSource1_427|LastPaymentSource1_444|LastPaymentSource1_750|LastPaymentSource1_463|LastPaymentSource1_431|LastPaymentSource1_426|LastPaymentSource1_000|LastPaymentSource1_831|LastPaymentSource1_476|LastPaymentSource1_407|LastPaymentSource1_823|LastPaymentSource1_481|LastPaymentSource1_477|LastPaymentSource1_486|LastPaymentSource1_471|LastPaymentSource1_482|LastPaymentSource1_472|LastPaymentSource1_487|LastPaymentSource1_478|LastPaymentSource1_473|LastPaymentSource1_522|CofENumber_0|CofENumber_non0|PastTaxSaleStatus_Y|PastTaxSaleStatus_N|CondemnationStatus_0|CondemnationStatus_1|MunicipalAcquisitionStatus_0|MunicipalAcquisitionStatus_1|ExemptStatus_0|ExemptStatus_1|ExemptStatus_2|BankruptStatus_0|BankruptStatus_1|AreaFromPin_03|AreaFromPin_04|AreaFromPin_05|AreaFromPin_06|AreaFromPin_08|AreaFromPin_09|AreaFromPin_10|AreaFromPin_11|AreaFromPin_12|AreaFromPin_13|AreaFromPin_14|AreaFromPin_15|AreaFromPin_16|AreaFromPin_17|AreaFromPin_18|AreaFromPin_19|AreaFromPin_20|AreaFromPin_21|AreaFromPin_22|AreaFromPin_23|AreaFromPin_24|AreaFromPin_25|AreaFromPin_26|AreaFromPin_27|AreaFromPin_28|AreaFromPin_29|AreaFromPin_30|AreaFromPin_31|AreaFromPin_32|AreaFromPin_33|features                                                                                                                                |rawPrediction                         |probability                             |prediction|\n",
            "+--------------------+---------+---------------+------------+------------------+-------+-------------+--------+------------------+-------------+--------------+------------------+----------+-----------------+-------+------------------+--------------------------+-----------------+------------+--------------+---------------------------+-----------------------------+--------------------------+--------------------------------+---------------------+------------------------+------------------------------+--------+-----------+-----------------------+--------------------------+------------+------------+------------+--------------+--------------+--------------+-----------------+-----------------+-----------------+--------------+--------------+--------------+--------------------+--------------------+--------------------+---------------+---------------+----------+----------+----------+----------------------+----------------------+----------------------+----------------------+----------------------+----------------------+----------------------+----------------------+----------------------+----------------------+----------------------+----------------------+----------------------+----------------------+----------------------+----------------------+----------------------+----------------------+----------------------+----------------------+----------------------+----------------------+----------------------+----------------------+----------------------+----------------------+----------------------+----------------------+----------------------+----------------------+----------------------+----------------------+----------------------+----------------------+----------------------+------------+---------------+-------------------+-------------------+--------------------+--------------------+----------------------------+----------------------------+--------------+--------------+--------------+----------------+----------------+--------------+--------------+--------------+--------------+--------------+--------------+--------------+--------------+--------------+--------------+--------------+--------------+--------------+--------------+--------------+--------------+--------------+--------------+--------------+--------------+--------------+--------------+--------------+--------------+--------------+--------------+--------------+--------------+--------------+--------------+----------------------------------------------------------------------------------------------------------------------------------------+--------------------------------------+----------------------------------------+----------+\n",
            "|1                   |00       |0              |0           |0                 |2021   |P            |1       |197245.0          |0.0          |0.0           |801               |0         |0                |9245.0 |0                 |0                         |0                |0           |0             |0.0                        |0.0                          |0.0                       |0.0                             |0.0                  |0.0                     |0.0                           |1       |08         |1                      |0                         |1           |0           |0           |0             |0             |0             |1                |0                |0                |1             |0             |0             |1                   |0                   |0                   |0              |1              |0         |1         |0         |0                     |0                     |0                     |0                     |0                     |0                     |0                     |0                     |1                     |0                     |0                     |0                     |0                     |0                     |0                     |0                     |0                     |0                     |0                     |0                     |0                     |0                     |0                     |0                     |0                     |0                     |0                     |0                     |0                     |0                     |0                     |0                     |0                     |0                     |0                     |1           |0              |0                  |1                  |1                   |0                   |1                           |0                           |1             |0             |0             |1               |0               |0             |0             |0             |0             |1             |0             |0             |0             |0             |0             |0             |0             |0             |0             |0             |0             |0             |0             |0             |0             |0             |0             |0             |0             |0             |0             |0             |0             |0             |0             |(111,[0,3,11,13,19,22,25,29,31,41,68,71,72,74,76,79,85],[197245.0,9245.0,1.0,1.0,1.0,1.0,1.0,1.0,1.0,1.0,1.0,1.0,1.0,1.0,1.0,1.0,1.0])  |[9.650327415669098,10.349672584330904]|[0.4825163707834549,0.5174836292165452] |1.0       |\n",
            "|1                   |00       |0              |0           |0                 |2021   |P            |1       |3186751.0         |0.0          |0.0           |801               |0         |0                |11158.0|0                 |0                         |0                |0           |0             |0.0                        |0.0                          |0.0                       |0.0                             |0.0                  |0.0                     |0.0                           |1       |07         |1                      |0                         |1           |0           |0           |0             |0             |1             |1                |0                |0                |1             |0             |0             |1                   |0                   |0                   |0              |1              |0         |1         |0         |0                     |0                     |0                     |0                     |0                     |0                     |0                     |0                     |1                     |0                     |0                     |0                     |0                     |0                     |0                     |0                     |0                     |0                     |0                     |0                     |0                     |0                     |0                     |0                     |0                     |0                     |0                     |0                     |0                     |0                     |0                     |0                     |0                     |0                     |0                     |1           |0              |0                  |1                  |1                   |0                   |1                           |0                           |1             |0             |0             |1               |0               |0             |0             |0             |0             |0             |0             |0             |0             |0             |0             |0             |0             |0             |0             |0             |0             |0             |0             |0             |0             |0             |0             |0             |0             |0             |0             |0             |0             |0             |0             |(111,[0,3,11,13,18,19,22,25,29,31,41,68,71,72,74,76,79],[3186751.0,11158.0,1.0,1.0,1.0,1.0,1.0,1.0,1.0,1.0,1.0,1.0,1.0,1.0,1.0,1.0,1.0])|[8.992623475943832,11.00737652405617] |[0.4496311737971916,0.5503688262028085] |1.0       |\n",
            "|1                   |00       |0              |0           |0                 |2021   |P            |1       |124765.0          |0.0          |0.0           |801               |0         |1                |9245.0 |0                 |0                         |0                |0           |0             |0.0                        |0.0                          |0.0                       |0.0                             |0.0                  |0.0                     |0.0                           |1       |08         |1                      |0                         |1           |0           |0           |0             |0             |0             |1                |0                |0                |1             |0             |0             |1                   |0                   |0                   |0              |1              |0         |1         |0         |0                     |0                     |0                     |0                     |0                     |0                     |0                     |0                     |1                     |0                     |0                     |0                     |0                     |0                     |0                     |0                     |0                     |0                     |0                     |0                     |0                     |0                     |0                     |0                     |0                     |0                     |0                     |0                     |0                     |0                     |0                     |0                     |0                     |0                     |0                     |1           |0              |1                  |0                  |1                   |0                   |1                           |0                           |1             |0             |0             |1               |0               |0             |0             |0             |0             |1             |0             |0             |0             |0             |0             |0             |0             |0             |0             |0             |0             |0             |0             |0             |0             |0             |0             |0             |0             |0             |0             |0             |0             |0             |0             |(111,[0,3,11,13,19,22,25,29,31,41,68,70,72,74,76,79,85],[124765.0,9245.0,1.0,1.0,1.0,1.0,1.0,1.0,1.0,1.0,1.0,1.0,1.0,1.0,1.0,1.0,1.0])  |[3.749147754156444,16.250852245843557]|[0.18745738770782222,0.8125426122921778]|1.0       |\n",
            "|1                   |00       |0              |0           |0                 |2021   |P            |1       |242203.0          |0.0          |0.0           |750               |0         |1                |9664.0 |0                 |0                         |0                |0           |0             |0.0                        |0.0                          |0.0                       |0.0                             |0.0                  |0.0                     |0.0                           |1       |09         |1                      |0                         |1           |0           |0           |0             |0             |0             |1                |0                |0                |1             |0             |0             |1                   |0                   |0                   |0              |1              |0         |1         |0         |0                     |0                     |0                     |0                     |0                     |0                     |0                     |0                     |0                     |0                     |0                     |0                     |0                     |0                     |0                     |0                     |1                     |0                     |0                     |0                     |0                     |0                     |0                     |0                     |0                     |0                     |0                     |0                     |0                     |0                     |0                     |0                     |0                     |0                     |0                     |1           |0              |1                  |0                  |1                   |0                   |1                           |0                           |1             |0             |0             |1               |0               |0             |0             |0             |0             |0             |1             |0             |0             |0             |0             |0             |0             |0             |0             |0             |0             |0             |0             |0             |0             |0             |0             |0             |0             |0             |0             |0             |0             |0             |0             |(111,[0,3,11,13,19,22,25,29,31,49,68,70,72,74,76,79,86],[242203.0,9664.0,1.0,1.0,1.0,1.0,1.0,1.0,1.0,1.0,1.0,1.0,1.0,1.0,1.0,1.0,1.0])  |[6.867167895682432,13.132832104317568]|[0.34335839478412156,0.6566416052158784]|1.0       |\n",
            "|1                   |00       |0              |0           |0                 |2021   |P            |1       |84293.0           |0.0          |0.0           |801               |0         |0                |9664.0 |0                 |0                         |0                |0           |0             |0.0                        |0.0                          |0.0                       |0.0                             |0.0                  |0.0                     |0.0                           |1       |09         |1                      |0                         |1           |0           |0           |0             |0             |0             |1                |0                |0                |1             |0             |0             |1                   |0                   |0                   |0              |1              |0         |1         |0         |0                     |0                     |0                     |0                     |0                     |0                     |0                     |0                     |1                     |0                     |0                     |0                     |0                     |0                     |0                     |0                     |0                     |0                     |0                     |0                     |0                     |0                     |0                     |0                     |0                     |0                     |0                     |0                     |0                     |0                     |0                     |0                     |0                     |0                     |0                     |1           |0              |0                  |1                  |1                   |0                   |1                           |0                           |1             |0             |0             |1               |0               |0             |0             |0             |0             |0             |1             |0             |0             |0             |0             |0             |0             |0             |0             |0             |0             |0             |0             |0             |0             |0             |0             |0             |0             |0             |0             |0             |0             |0             |0             |(111,[0,3,11,13,19,22,25,29,31,41,68,71,72,74,76,79,86],[84293.0,9664.0,1.0,1.0,1.0,1.0,1.0,1.0,1.0,1.0,1.0,1.0,1.0,1.0,1.0,1.0,1.0])   |[9.650327415669098,10.349672584330904]|[0.4825163707834549,0.5174836292165452] |1.0       |\n",
            "+--------------------+---------+---------------+------------+------------------+-------+-------------+--------+------------------+-------------+--------------+------------------+----------+-----------------+-------+------------------+--------------------------+-----------------+------------+--------------+---------------------------+-----------------------------+--------------------------+--------------------------------+---------------------+------------------------+------------------------------+--------+-----------+-----------------------+--------------------------+------------+------------+------------+--------------+--------------+--------------+-----------------+-----------------+-----------------+--------------+--------------+--------------+--------------------+--------------------+--------------------+---------------+---------------+----------+----------+----------+----------------------+----------------------+----------------------+----------------------+----------------------+----------------------+----------------------+----------------------+----------------------+----------------------+----------------------+----------------------+----------------------+----------------------+----------------------+----------------------+----------------------+----------------------+----------------------+----------------------+----------------------+----------------------+----------------------+----------------------+----------------------+----------------------+----------------------+----------------------+----------------------+----------------------+----------------------+----------------------+----------------------+----------------------+----------------------+------------+---------------+-------------------+-------------------+--------------------+--------------------+----------------------------+----------------------------+--------------+--------------+--------------+----------------+----------------+--------------+--------------+--------------+--------------+--------------+--------------+--------------+--------------+--------------+--------------+--------------+--------------+--------------+--------------+--------------+--------------+--------------+--------------+--------------+--------------+--------------+--------------+--------------+--------------+--------------+--------------+--------------+--------------+--------------+--------------+----------------------------------------------------------------------------------------------------------------------------------------+--------------------------------------+----------------------------------------+----------+\n",
            "only showing top 5 rows\n",
            "\n"
          ]
        }
      ]
    },
    {
      "cell_type": "code",
      "source": [
        "element=f.udf(lambda v:float(v[1]),FloatType())\n",
        "nums = [0.2, 0.25, 0.3, 0.35, 0.4, 0.5]\n",
        "acc = []\n",
        "f1 = []\n",
        "rec = []\n",
        "prec = []\n",
        "for num in nums:\n",
        "  print(num)\n",
        "  predictions2 = predictions.withColumn(\"prob_prediction\", when(element(\"probability\")>num, 1).otherwise(0))\n",
        "  pred = predictions2.select(predictions2.prob_prediction).toPandas()[\"prob_prediction\"]\n",
        "  pred = pred.tolist()\n",
        "  acc.append(accuracy_score(actual, pred))\n",
        "  f1.append(f1_score(actual, pred))\n",
        "  rec.append(recall_score(actual, pred))\n",
        "  prec.append(precision_score(actual, pred))\n"
      ],
      "metadata": {
        "colab": {
          "base_uri": "https://localhost:8080/"
        },
        "id": "_KSWAKldNgXk",
        "outputId": "2c3a3cb1-17dc-49d9-b690-899f3d5fc0cb"
      },
      "execution_count": 100,
      "outputs": [
        {
          "output_type": "stream",
          "name": "stdout",
          "text": [
            "0.2\n",
            "0.25\n",
            "0.3\n",
            "0.35\n",
            "0.4\n",
            "0.5\n"
          ]
        }
      ]
    },
    {
      "cell_type": "code",
      "source": [
        "predictions2.where(col(\"prediction\")==0).show(5, truncate=False)"
      ],
      "metadata": {
        "colab": {
          "base_uri": "https://localhost:8080/"
        },
        "id": "kJua2K-9f8RS",
        "outputId": "783a938b-723a-4cfc-cb69-df0202efca8a"
      },
      "execution_count": 101,
      "outputs": [
        {
          "output_type": "stream",
          "name": "stdout",
          "text": [
            "+--------------------+---------+---------------+------------+------------------+-------+-------------+--------+------------------+-------------+--------------+------------------+----------+-----------------+-------+------------------+--------------------------+-----------------+------------+--------------+---------------------------+-----------------------------+--------------------------+--------------------------------+---------------------+------------------------+------------------------------+--------+-----------+-----------------------+--------------------------+------------+------------+------------+--------------+--------------+--------------+-----------------+-----------------+-----------------+--------------+--------------+--------------+--------------------+--------------------+--------------------+---------------+---------------+----------+----------+----------+----------------------+----------------------+----------------------+----------------------+----------------------+----------------------+----------------------+----------------------+----------------------+----------------------+----------------------+----------------------+----------------------+----------------------+----------------------+----------------------+----------------------+----------------------+----------------------+----------------------+----------------------+----------------------+----------------------+----------------------+----------------------+----------------------+----------------------+----------------------+----------------------+----------------------+----------------------+----------------------+----------------------+----------------------+----------------------+------------+---------------+-------------------+-------------------+--------------------+--------------------+----------------------------+----------------------------+--------------+--------------+--------------+----------------+----------------+--------------+--------------+--------------+--------------+--------------+--------------+--------------+--------------+--------------+--------------+--------------+--------------+--------------+--------------+--------------+--------------+--------------+--------------+--------------+--------------+--------------+--------------+--------------+--------------+--------------+--------------+--------------+--------------+--------------+--------------+-------------------------------------------------------------------------------------------------------------------------------------------------+---------------------------------------+----------------------------------------+----------+---------------+\n",
            "|TaxpayerMailingState|TaxStatus|HomeownerExempt|SeniorExempt|SeniorFreezeExempt|TaxYear|AccountStatus|BillType|AdjustedAmountDue1|TaxAmountDue1|CostAmountDue1|LastPaymentSource1|CofENumber|PastTaxSaleStatus|TaxRate|CondemnationStatus|MunicipalAcquisitionStatus|AcquisitionStatus|ExemptStatus|BankruptStatus|ReturningVetExemptionAmount|DisabledPersonExemptionAmount|DisabledVetExemptionAmount|DisabledPersonVetExemptionAmount|HomeownerExemptAmount|SeniorFreezeExemptAmount|LongtimeHomeownersExemptAmount|LatePmt2|AreaFromPin|TaxpayerMailingState_IL|TaxpayerMailingState_nonIL|TaxStatus_00|TaxStatus_05|TaxStatus_03|AreaFromPin_01|AreaFromPin_02|AreaFromPin_07|HomeownerExempt_0|HomeownerExempt_1|HomeownerExempt_2|SeniorExempt_0|SeniorExempt_1|SeniorExempt_2|SeniorFreezeExempt_0|SeniorFreezeExempt_1|SeniorFreezeExempt_2|AccountStatus_O|AccountStatus_P|BillType_3|BillType_1|BillType_4|LastPaymentSource1_700|LastPaymentSource1_521|LastPaymentSource1_428|LastPaymentSource1_422|LastPaymentSource1_432|LastPaymentSource1_423|LastPaymentSource1_421|LastPaymentSource1_505|LastPaymentSource1_801|LastPaymentSource1_501|LastPaymentSource1_525|LastPaymentSource1_436|LastPaymentSource1_437|LastPaymentSource1_526|LastPaymentSource1_427|LastPaymentSource1_444|LastPaymentSource1_750|LastPaymentSource1_463|LastPaymentSource1_431|LastPaymentSource1_426|LastPaymentSource1_000|LastPaymentSource1_831|LastPaymentSource1_476|LastPaymentSource1_407|LastPaymentSource1_823|LastPaymentSource1_481|LastPaymentSource1_477|LastPaymentSource1_486|LastPaymentSource1_471|LastPaymentSource1_482|LastPaymentSource1_472|LastPaymentSource1_487|LastPaymentSource1_478|LastPaymentSource1_473|LastPaymentSource1_522|CofENumber_0|CofENumber_non0|PastTaxSaleStatus_Y|PastTaxSaleStatus_N|CondemnationStatus_0|CondemnationStatus_1|MunicipalAcquisitionStatus_0|MunicipalAcquisitionStatus_1|ExemptStatus_0|ExemptStatus_1|ExemptStatus_2|BankruptStatus_0|BankruptStatus_1|AreaFromPin_03|AreaFromPin_04|AreaFromPin_05|AreaFromPin_06|AreaFromPin_08|AreaFromPin_09|AreaFromPin_10|AreaFromPin_11|AreaFromPin_12|AreaFromPin_13|AreaFromPin_14|AreaFromPin_15|AreaFromPin_16|AreaFromPin_17|AreaFromPin_18|AreaFromPin_19|AreaFromPin_20|AreaFromPin_21|AreaFromPin_22|AreaFromPin_23|AreaFromPin_24|AreaFromPin_25|AreaFromPin_26|AreaFromPin_27|AreaFromPin_28|AreaFromPin_29|AreaFromPin_30|AreaFromPin_31|AreaFromPin_32|AreaFromPin_33|features                                                                                                                                         |rawPrediction                          |probability                             |prediction|prob_prediction|\n",
            "+--------------------+---------+---------------+------------+------------------+-------+-------------+--------+------------------+-------------+--------------+------------------+----------+-----------------+-------+------------------+--------------------------+-----------------+------------+--------------+---------------------------+-----------------------------+--------------------------+--------------------------------+---------------------+------------------------+------------------------------+--------+-----------+-----------------------+--------------------------+------------+------------+------------+--------------+--------------+--------------+-----------------+-----------------+-----------------+--------------+--------------+--------------+--------------------+--------------------+--------------------+---------------+---------------+----------+----------+----------+----------------------+----------------------+----------------------+----------------------+----------------------+----------------------+----------------------+----------------------+----------------------+----------------------+----------------------+----------------------+----------------------+----------------------+----------------------+----------------------+----------------------+----------------------+----------------------+----------------------+----------------------+----------------------+----------------------+----------------------+----------------------+----------------------+----------------------+----------------------+----------------------+----------------------+----------------------+----------------------+----------------------+----------------------+----------------------+------------+---------------+-------------------+-------------------+--------------------+--------------------+----------------------------+----------------------------+--------------+--------------+--------------+----------------+----------------+--------------+--------------+--------------+--------------+--------------+--------------+--------------+--------------+--------------+--------------+--------------+--------------+--------------+--------------+--------------+--------------+--------------+--------------+--------------+--------------+--------------+--------------+--------------+--------------+--------------+--------------+--------------+--------------+--------------+--------------+-------------------------------------------------------------------------------------------------------------------------------------------------+---------------------------------------+----------------------------------------+----------+---------------+\n",
            "|1                   |00       |1              |0           |0                 |2021   |P            |1       |227431.0          |0.0          |0.0           |444               |0         |0                |11158.0|0                 |0                         |0                |0           |0             |0.0                        |0.0                          |0.0                       |0.0                             |10000.0              |0.0                     |0.0                           |0       |07         |1                      |0                         |1           |0           |0           |0             |0             |1             |0                |1                |0                |1             |0             |0             |1                   |0                   |0                   |0              |1              |0         |1         |0         |0                     |0                     |0                     |0                     |0                     |0                     |0                     |0                     |0                     |0                     |0                     |0                     |0                     |0                     |0                     |1                     |0                     |0                     |0                     |0                     |0                     |0                     |0                     |0                     |0                     |0                     |0                     |0                     |0                     |0                     |0                     |0                     |0                     |0                     |0                     |1           |0              |0                  |1                  |1                   |0                   |1                           |0                           |1             |0             |0             |1               |0               |0             |0             |0             |0             |0             |0             |0             |0             |0             |0             |0             |0             |0             |0             |0             |0             |0             |0             |0             |0             |0             |0             |0             |0             |0             |0             |0             |0             |0             |0             |(111,[0,3,8,11,13,18,20,22,25,29,31,48,68,71,72,74,76,79],[227431.0,11158.0,10000.0,1.0,1.0,1.0,1.0,1.0,1.0,1.0,1.0,1.0,1.0,1.0,1.0,1.0,1.0,1.0])|[15.728359812091858,4.2716401879081385]|[0.786417990604593,0.21358200939540697] |0.0       |0              |\n",
            "|1                   |03       |1              |1           |0                 |2021   |P            |1       |206037.0          |0.0          |0.0           |431               |0         |0                |11158.0|0                 |0                         |0                |1           |0             |0.0                        |0.0                          |0.0                       |0.0                             |10000.0              |0.0                     |0.0                           |0       |07         |1                      |0                         |0           |0           |1           |0             |0             |1             |0                |1                |0                |0             |1             |0             |1                   |0                   |0                   |0              |1              |0         |1         |0         |0                     |0                     |0                     |0                     |0                     |0                     |0                     |0                     |0                     |0                     |0                     |0                     |0                     |0                     |0                     |0                     |0                     |0                     |1                     |0                     |0                     |0                     |0                     |0                     |0                     |0                     |0                     |0                     |0                     |0                     |0                     |0                     |0                     |0                     |0                     |1           |0              |0                  |1                  |1                   |0                   |1                           |0                           |0             |1             |0             |1               |0               |0             |0             |0             |0             |0             |0             |0             |0             |0             |0             |0             |0             |0             |0             |0             |0             |0             |0             |0             |0             |0             |0             |0             |0             |0             |0             |0             |0             |0             |0             |(111,[0,3,8,11,15,18,20,23,25,29,31,51,68,71,72,74,77,79],[206037.0,11158.0,10000.0,1.0,1.0,1.0,1.0,1.0,1.0,1.0,1.0,1.0,1.0,1.0,1.0,1.0,1.0,1.0])|[17.848428758265843,2.151571241734159] |[0.892421437913292,0.10757856208670794] |0.0       |0              |\n",
            "|1                   |03       |1              |1           |0                 |2021   |P            |1       |186401.0          |0.0          |0.0           |444               |0         |0                |11158.0|0                 |0                         |0                |1           |0             |0.0                        |0.0                          |0.0                       |0.0                             |10000.0              |0.0                     |0.0                           |0       |07         |1                      |0                         |0           |0           |1           |0             |0             |1             |0                |1                |0                |0             |1             |0             |1                   |0                   |0                   |0              |1              |0         |1         |0         |0                     |0                     |0                     |0                     |0                     |0                     |0                     |0                     |0                     |0                     |0                     |0                     |0                     |0                     |0                     |1                     |0                     |0                     |0                     |0                     |0                     |0                     |0                     |0                     |0                     |0                     |0                     |0                     |0                     |0                     |0                     |0                     |0                     |0                     |0                     |1           |0              |0                  |1                  |1                   |0                   |1                           |0                           |0             |1             |0             |1               |0               |0             |0             |0             |0             |0             |0             |0             |0             |0             |0             |0             |0             |0             |0             |0             |0             |0             |0             |0             |0             |0             |0             |0             |0             |0             |0             |0             |0             |0             |0             |(111,[0,3,8,11,15,18,20,23,25,29,31,48,68,71,72,74,77,79],[186401.0,11158.0,10000.0,1.0,1.0,1.0,1.0,1.0,1.0,1.0,1.0,1.0,1.0,1.0,1.0,1.0,1.0,1.0])|[17.78935043027989,2.2106495697201116] |[0.8894675215139944,0.11053247848600559]|0.0       |0              |\n",
            "|1                   |00       |1              |0           |0                 |2021   |P            |1       |250702.0          |0.0          |0.0           |700               |0         |0                |11158.0|0                 |0                         |0                |0           |0             |0.0                        |0.0                          |0.0                       |0.0                             |10000.0              |0.0                     |0.0                           |0       |07         |1                      |0                         |1           |0           |0           |0             |0             |1             |0                |1                |0                |1             |0             |0             |1                   |0                   |0                   |0              |1              |0         |1         |0         |1                     |0                     |0                     |0                     |0                     |0                     |0                     |0                     |0                     |0                     |0                     |0                     |0                     |0                     |0                     |0                     |0                     |0                     |0                     |0                     |0                     |0                     |0                     |0                     |0                     |0                     |0                     |0                     |0                     |0                     |0                     |0                     |0                     |0                     |0                     |1           |0              |0                  |1                  |1                   |0                   |1                           |0                           |1             |0             |0             |1               |0               |0             |0             |0             |0             |0             |0             |0             |0             |0             |0             |0             |0             |0             |0             |0             |0             |0             |0             |0             |0             |0             |0             |0             |0             |0             |0             |0             |0             |0             |0             |(111,[0,3,8,11,13,18,20,22,25,29,31,33,68,71,72,74,76,79],[250702.0,11158.0,10000.0,1.0,1.0,1.0,1.0,1.0,1.0,1.0,1.0,1.0,1.0,1.0,1.0,1.0,1.0,1.0])|[15.550473668008726,4.4495263319912715]|[0.7775236834004364,0.2224763165995636] |0.0       |0              |\n",
            "|0                   |00       |0              |0           |0                 |2021   |P            |1       |150860.0          |0.0          |0.0           |700               |0         |0                |11158.0|0                 |0                         |0                |0           |0             |0.0                        |0.0                          |0.0                       |0.0                             |0.0                  |0.0                     |0.0                           |0       |07         |0                      |1                         |1           |0           |0           |0             |0             |1             |1                |0                |0                |1             |0             |0             |1                   |0                   |0                   |0              |1              |0         |1         |0         |1                     |0                     |0                     |0                     |0                     |0                     |0                     |0                     |0                     |0                     |0                     |0                     |0                     |0                     |0                     |0                     |0                     |0                     |0                     |0                     |0                     |0                     |0                     |0                     |0                     |0                     |0                     |0                     |0                     |0                     |0                     |0                     |0                     |0                     |0                     |1           |0              |0                  |1                  |1                   |0                   |1                           |0                           |1             |0             |0             |1               |0               |0             |0             |0             |0             |0             |0             |0             |0             |0             |0             |0             |0             |0             |0             |0             |0             |0             |0             |0             |0             |0             |0             |0             |0             |0             |0             |0             |0             |0             |0             |(111,[0,3,12,13,18,19,22,25,29,31,33,68,71,72,74,76,79],[150860.0,11158.0,1.0,1.0,1.0,1.0,1.0,1.0,1.0,1.0,1.0,1.0,1.0,1.0,1.0,1.0,1.0])          |[15.414362714972109,4.585637285027889] |[0.7707181357486056,0.22928186425139446]|0.0       |0              |\n",
            "+--------------------+---------+---------------+------------+------------------+-------+-------------+--------+------------------+-------------+--------------+------------------+----------+-----------------+-------+------------------+--------------------------+-----------------+------------+--------------+---------------------------+-----------------------------+--------------------------+--------------------------------+---------------------+------------------------+------------------------------+--------+-----------+-----------------------+--------------------------+------------+------------+------------+--------------+--------------+--------------+-----------------+-----------------+-----------------+--------------+--------------+--------------+--------------------+--------------------+--------------------+---------------+---------------+----------+----------+----------+----------------------+----------------------+----------------------+----------------------+----------------------+----------------------+----------------------+----------------------+----------------------+----------------------+----------------------+----------------------+----------------------+----------------------+----------------------+----------------------+----------------------+----------------------+----------------------+----------------------+----------------------+----------------------+----------------------+----------------------+----------------------+----------------------+----------------------+----------------------+----------------------+----------------------+----------------------+----------------------+----------------------+----------------------+----------------------+------------+---------------+-------------------+-------------------+--------------------+--------------------+----------------------------+----------------------------+--------------+--------------+--------------+----------------+----------------+--------------+--------------+--------------+--------------+--------------+--------------+--------------+--------------+--------------+--------------+--------------+--------------+--------------+--------------+--------------+--------------+--------------+--------------+--------------+--------------+--------------+--------------+--------------+--------------+--------------+--------------+--------------+--------------+--------------+--------------+-------------------------------------------------------------------------------------------------------------------------------------------------+---------------------------------------+----------------------------------------+----------+---------------+\n",
            "only showing top 5 rows\n",
            "\n"
          ]
        }
      ]
    },
    {
      "cell_type": "code",
      "source": [
        "res_df = pd.DataFrame(nums, columns=[\"Threshold\"])\n",
        "res_df[\"Acc\"] = acc\n",
        "res_df[\"F1\"] = f1\n",
        "res_df[\"Rec\"] = rec\n",
        "res_df[\"Prec\"] = prec\n",
        "res_df"
      ],
      "metadata": {
        "id": "-Fqy64pE4OvG",
        "colab": {
          "base_uri": "https://localhost:8080/",
          "height": 237
        },
        "outputId": "7f478485-beea-4661-bc09-48f9796a3f78"
      },
      "execution_count": 102,
      "outputs": [
        {
          "output_type": "execute_result",
          "data": {
            "text/plain": [
              "   Threshold       Acc        F1       Rec      Prec\n",
              "0       0.20  0.352779  0.234879  0.867862  0.135819\n",
              "1       0.25  0.875632  0.321813  0.257778  0.428178\n",
              "2       0.30  0.900249  0.262128  0.154786  0.855190\n",
              "3       0.35  0.900165  0.253491  0.148079  0.879752\n",
              "4       0.40  0.899690  0.244820  0.142044  0.885599\n",
              "5       0.50  0.896553  0.193501  0.108413  0.899398"
            ],
            "text/html": [
              "\n",
              "\n",
              "  <div id=\"df-0acadb34-a279-4c20-9dc7-d36ce070e170\">\n",
              "    <div class=\"colab-df-container\">\n",
              "      <div>\n",
              "<style scoped>\n",
              "    .dataframe tbody tr th:only-of-type {\n",
              "        vertical-align: middle;\n",
              "    }\n",
              "\n",
              "    .dataframe tbody tr th {\n",
              "        vertical-align: top;\n",
              "    }\n",
              "\n",
              "    .dataframe thead th {\n",
              "        text-align: right;\n",
              "    }\n",
              "</style>\n",
              "<table border=\"1\" class=\"dataframe\">\n",
              "  <thead>\n",
              "    <tr style=\"text-align: right;\">\n",
              "      <th></th>\n",
              "      <th>Threshold</th>\n",
              "      <th>Acc</th>\n",
              "      <th>F1</th>\n",
              "      <th>Rec</th>\n",
              "      <th>Prec</th>\n",
              "    </tr>\n",
              "  </thead>\n",
              "  <tbody>\n",
              "    <tr>\n",
              "      <th>0</th>\n",
              "      <td>0.20</td>\n",
              "      <td>0.352779</td>\n",
              "      <td>0.234879</td>\n",
              "      <td>0.867862</td>\n",
              "      <td>0.135819</td>\n",
              "    </tr>\n",
              "    <tr>\n",
              "      <th>1</th>\n",
              "      <td>0.25</td>\n",
              "      <td>0.875632</td>\n",
              "      <td>0.321813</td>\n",
              "      <td>0.257778</td>\n",
              "      <td>0.428178</td>\n",
              "    </tr>\n",
              "    <tr>\n",
              "      <th>2</th>\n",
              "      <td>0.30</td>\n",
              "      <td>0.900249</td>\n",
              "      <td>0.262128</td>\n",
              "      <td>0.154786</td>\n",
              "      <td>0.855190</td>\n",
              "    </tr>\n",
              "    <tr>\n",
              "      <th>3</th>\n",
              "      <td>0.35</td>\n",
              "      <td>0.900165</td>\n",
              "      <td>0.253491</td>\n",
              "      <td>0.148079</td>\n",
              "      <td>0.879752</td>\n",
              "    </tr>\n",
              "    <tr>\n",
              "      <th>4</th>\n",
              "      <td>0.40</td>\n",
              "      <td>0.899690</td>\n",
              "      <td>0.244820</td>\n",
              "      <td>0.142044</td>\n",
              "      <td>0.885599</td>\n",
              "    </tr>\n",
              "    <tr>\n",
              "      <th>5</th>\n",
              "      <td>0.50</td>\n",
              "      <td>0.896553</td>\n",
              "      <td>0.193501</td>\n",
              "      <td>0.108413</td>\n",
              "      <td>0.899398</td>\n",
              "    </tr>\n",
              "  </tbody>\n",
              "</table>\n",
              "</div>\n",
              "      <button class=\"colab-df-convert\" onclick=\"convertToInteractive('df-0acadb34-a279-4c20-9dc7-d36ce070e170')\"\n",
              "              title=\"Convert this dataframe to an interactive table.\"\n",
              "              style=\"display:none;\">\n",
              "\n",
              "  <svg xmlns=\"http://www.w3.org/2000/svg\" height=\"24px\"viewBox=\"0 0 24 24\"\n",
              "       width=\"24px\">\n",
              "    <path d=\"M0 0h24v24H0V0z\" fill=\"none\"/>\n",
              "    <path d=\"M18.56 5.44l.94 2.06.94-2.06 2.06-.94-2.06-.94-.94-2.06-.94 2.06-2.06.94zm-11 1L8.5 8.5l.94-2.06 2.06-.94-2.06-.94L8.5 2.5l-.94 2.06-2.06.94zm10 10l.94 2.06.94-2.06 2.06-.94-2.06-.94-.94-2.06-.94 2.06-2.06.94z\"/><path d=\"M17.41 7.96l-1.37-1.37c-.4-.4-.92-.59-1.43-.59-.52 0-1.04.2-1.43.59L10.3 9.45l-7.72 7.72c-.78.78-.78 2.05 0 2.83L4 21.41c.39.39.9.59 1.41.59.51 0 1.02-.2 1.41-.59l7.78-7.78 2.81-2.81c.8-.78.8-2.07 0-2.86zM5.41 20L4 18.59l7.72-7.72 1.47 1.35L5.41 20z\"/>\n",
              "  </svg>\n",
              "      </button>\n",
              "\n",
              "\n",
              "\n",
              "    <div id=\"df-c431362b-a4df-4752-9ce6-4f6789fce653\">\n",
              "      <button class=\"colab-df-quickchart\" onclick=\"quickchart('df-c431362b-a4df-4752-9ce6-4f6789fce653')\"\n",
              "              title=\"Suggest charts.\"\n",
              "              style=\"display:none;\">\n",
              "\n",
              "<svg xmlns=\"http://www.w3.org/2000/svg\" height=\"24px\"viewBox=\"0 0 24 24\"\n",
              "     width=\"24px\">\n",
              "    <g>\n",
              "        <path d=\"M19 3H5c-1.1 0-2 .9-2 2v14c0 1.1.9 2 2 2h14c1.1 0 2-.9 2-2V5c0-1.1-.9-2-2-2zM9 17H7v-7h2v7zm4 0h-2V7h2v10zm4 0h-2v-4h2v4z\"/>\n",
              "    </g>\n",
              "</svg>\n",
              "      </button>\n",
              "    </div>\n",
              "\n",
              "<style>\n",
              "  .colab-df-quickchart {\n",
              "    background-color: #E8F0FE;\n",
              "    border: none;\n",
              "    border-radius: 50%;\n",
              "    cursor: pointer;\n",
              "    display: none;\n",
              "    fill: #1967D2;\n",
              "    height: 32px;\n",
              "    padding: 0 0 0 0;\n",
              "    width: 32px;\n",
              "  }\n",
              "\n",
              "  .colab-df-quickchart:hover {\n",
              "    background-color: #E2EBFA;\n",
              "    box-shadow: 0px 1px 2px rgba(60, 64, 67, 0.3), 0px 1px 3px 1px rgba(60, 64, 67, 0.15);\n",
              "    fill: #174EA6;\n",
              "  }\n",
              "\n",
              "  [theme=dark] .colab-df-quickchart {\n",
              "    background-color: #3B4455;\n",
              "    fill: #D2E3FC;\n",
              "  }\n",
              "\n",
              "  [theme=dark] .colab-df-quickchart:hover {\n",
              "    background-color: #434B5C;\n",
              "    box-shadow: 0px 1px 3px 1px rgba(0, 0, 0, 0.15);\n",
              "    filter: drop-shadow(0px 1px 2px rgba(0, 0, 0, 0.3));\n",
              "    fill: #FFFFFF;\n",
              "  }\n",
              "</style>\n",
              "\n",
              "    <script>\n",
              "      async function quickchart(key) {\n",
              "        const containerElement = document.querySelector('#' + key);\n",
              "        const charts = await google.colab.kernel.invokeFunction(\n",
              "            'suggestCharts', [key], {});\n",
              "      }\n",
              "    </script>\n",
              "\n",
              "      <script>\n",
              "\n",
              "function displayQuickchartButton(domScope) {\n",
              "  let quickchartButtonEl =\n",
              "    domScope.querySelector('#df-c431362b-a4df-4752-9ce6-4f6789fce653 button.colab-df-quickchart');\n",
              "  quickchartButtonEl.style.display =\n",
              "    google.colab.kernel.accessAllowed ? 'block' : 'none';\n",
              "}\n",
              "\n",
              "        displayQuickchartButton(document);\n",
              "      </script>\n",
              "      <style>\n",
              "    .colab-df-container {\n",
              "      display:flex;\n",
              "      flex-wrap:wrap;\n",
              "      gap: 12px;\n",
              "    }\n",
              "\n",
              "    .colab-df-convert {\n",
              "      background-color: #E8F0FE;\n",
              "      border: none;\n",
              "      border-radius: 50%;\n",
              "      cursor: pointer;\n",
              "      display: none;\n",
              "      fill: #1967D2;\n",
              "      height: 32px;\n",
              "      padding: 0 0 0 0;\n",
              "      width: 32px;\n",
              "    }\n",
              "\n",
              "    .colab-df-convert:hover {\n",
              "      background-color: #E2EBFA;\n",
              "      box-shadow: 0px 1px 2px rgba(60, 64, 67, 0.3), 0px 1px 3px 1px rgba(60, 64, 67, 0.15);\n",
              "      fill: #174EA6;\n",
              "    }\n",
              "\n",
              "    [theme=dark] .colab-df-convert {\n",
              "      background-color: #3B4455;\n",
              "      fill: #D2E3FC;\n",
              "    }\n",
              "\n",
              "    [theme=dark] .colab-df-convert:hover {\n",
              "      background-color: #434B5C;\n",
              "      box-shadow: 0px 1px 3px 1px rgba(0, 0, 0, 0.15);\n",
              "      filter: drop-shadow(0px 1px 2px rgba(0, 0, 0, 0.3));\n",
              "      fill: #FFFFFF;\n",
              "    }\n",
              "  </style>\n",
              "\n",
              "      <script>\n",
              "        const buttonEl =\n",
              "          document.querySelector('#df-0acadb34-a279-4c20-9dc7-d36ce070e170 button.colab-df-convert');\n",
              "        buttonEl.style.display =\n",
              "          google.colab.kernel.accessAllowed ? 'block' : 'none';\n",
              "\n",
              "        async function convertToInteractive(key) {\n",
              "          const element = document.querySelector('#df-0acadb34-a279-4c20-9dc7-d36ce070e170');\n",
              "          const dataTable =\n",
              "            await google.colab.kernel.invokeFunction('convertToInteractive',\n",
              "                                                     [key], {});\n",
              "          if (!dataTable) return;\n",
              "\n",
              "          const docLinkHtml = 'Like what you see? Visit the ' +\n",
              "            '<a target=\"_blank\" href=https://colab.research.google.com/notebooks/data_table.ipynb>data table notebook</a>'\n",
              "            + ' to learn more about interactive tables.';\n",
              "          element.innerHTML = '';\n",
              "          dataTable['output_type'] = 'display_data';\n",
              "          await google.colab.output.renderOutput(dataTable, element);\n",
              "          const docLink = document.createElement('div');\n",
              "          docLink.innerHTML = docLinkHtml;\n",
              "          element.appendChild(docLink);\n",
              "        }\n",
              "      </script>\n",
              "    </div>\n",
              "  </div>\n"
            ]
          },
          "metadata": {},
          "execution_count": 102
        }
      ]
    },
    {
      "cell_type": "code",
      "source": [
        "cm = confusion_matrix(actual, pred)\n",
        "tn, fp, fn, tp = cm.ravel()"
      ],
      "metadata": {
        "id": "AKmzRl_C1dmP"
      },
      "execution_count": 103,
      "outputs": []
    },
    {
      "cell_type": "code",
      "source": [
        "print(\"Accuracy: \", accuracy_score(actual, pred))\n",
        "print(\"F1 Score: \", f1_score(actual, pred))\n",
        "print(\"Precision: \", precision_score(actual, pred))\n",
        "print(\"Recall: \", recall_score(actual, pred))"
      ],
      "metadata": {
        "id": "6mxKIv8O5Dba",
        "colab": {
          "base_uri": "https://localhost:8080/"
        },
        "outputId": "e4db33dd-ea62-4210-b1a4-dfbbbbedc418"
      },
      "execution_count": 104,
      "outputs": [
        {
          "output_type": "stream",
          "name": "stdout",
          "text": [
            "Accuracy:  0.8965528958267526\n",
            "F1 Score:  0.19350091246247128\n",
            "Precision:  0.899398029916089\n",
            "Recall:  0.108412673981398\n"
          ]
        }
      ]
    },
    {
      "cell_type": "code",
      "source": [
        "print(\"True Negatives: \", tn)\n",
        "print(\"False Positives: \", fp)\n",
        "print(\"False Negatives: \", fn)\n",
        "print(\"True Positives: \", tp)"
      ],
      "metadata": {
        "id": "nwNW5M9u2m-V",
        "colab": {
          "base_uri": "https://localhost:8080/"
        },
        "outputId": "ad830141-17ae-431a-a572-0d40a99f0164"
      },
      "execution_count": 105,
      "outputs": [
        {
          "output_type": "stream",
          "name": "stdout",
          "text": [
            "True Negatives:  702548\n",
            "False Positives:  1103\n",
            "False Negatives:  81097\n",
            "True Positives:  9861\n"
          ]
        }
      ]
    },
    {
      "cell_type": "code",
      "source": [
        "disp = ConfusionMatrixDisplay(confusion_matrix=cm)\n",
        "disp.plot()\n",
        "plt.show()"
      ],
      "metadata": {
        "colab": {
          "base_uri": "https://localhost:8080/",
          "height": 454
        },
        "id": "Tlcperik4Gw0",
        "outputId": "180156eb-7d6b-418f-c96e-79f4e478a715"
      },
      "execution_count": 106,
      "outputs": [
        {
          "output_type": "display_data",
          "data": {
            "text/plain": [
              "<Figure size 640x480 with 2 Axes>"
            ],
            "image/png": "[encoded data removed]"
          },
          "metadata": {}
        }
      ]
    },
    {
      "cell_type": "code",
      "source": [
        "rfModel.featureImportances"
      ],
      "metadata": {
        "colab": {
          "base_uri": "https://localhost:8080/"
        },
        "id": "aBPpSkckU4_B",
        "outputId": "b35256c4-719f-46ea-c716-cc7dabcd5581"
      },
      "execution_count": 107,
      "outputs": [
        {
          "output_type": "execute_result",
          "data": {
            "text/plain": [
              "SparseVector(111, {0: 0.0123, 1: 0.0, 3: 0.0082, 11: 0.0, 12: 0.0002, 13: 0.0055, 14: 0.0, 15: 0.0273, 17: 0.0, 18: 0.0, 19: 0.0, 20: 0.0053, 22: 0.0341, 23: 0.0719, 25: 0.0, 26: 0.0, 28: 0.019, 29: 0.0123, 30: 0.0001, 31: 0.0001, 32: 0.0003, 33: 0.0015, 41: 0.1247, 42: 0.0003, 43: 0.0005, 44: 0.0004, 48: 0.0112, 49: 0.0075, 51: 0.0145, 53: 0.028, 55: 0.0, 57: 0.0769, 58: 0.048, 60: 0.0002, 68: 0.003, 69: 0.0015, 70: 0.1076, 71: 0.2618, 73: 0.0, 75: 0.0, 76: 0.0014, 77: 0.061, 79: 0.0001, 80: 0.0013, 82: 0.0, 84: 0.0, 86: 0.0, 88: 0.0, 91: 0.0001, 92: 0.0, 93: 0.001, 94: 0.0011, 96: 0.0, 97: 0.0353, 98: 0.0, 99: 0.0, 101: 0.0, 102: 0.01, 104: 0.0, 106: 0.0042})"
            ]
          },
          "metadata": {},
          "execution_count": 107
        }
      ]
    },
    {
      "cell_type": "code",
      "source": [
        "feat_imp = rfModel.featureImportances"
      ],
      "metadata": {
        "id": "CM_GrHvQ6I-C"
      },
      "execution_count": 108,
      "outputs": []
    },
    {
      "cell_type": "code",
      "source": [
        "feat_imp = [c for c in feat_imp]"
      ],
      "metadata": {
        "id": "yRbnKkjwNxEC"
      },
      "execution_count": 109,
      "outputs": []
    },
    {
      "cell_type": "code",
      "source": [
        "feat_imp"
      ],
      "metadata": {
        "id": "DvKaLGuuSDWb",
        "colab": {
          "base_uri": "https://localhost:8080/"
        },
        "outputId": "b7a3fb6b-ea77-4334-e65c-0435353d182a"
      },
      "execution_count": 110,
      "outputs": [
        {
          "output_type": "execute_result",
          "data": {
            "text/plain": [
              "[0.012293417111857148,\n",
              " 3.724385193295515e-05,\n",
              " 0.0,\n",
              " 0.008238135485749604,\n",
              " 0.0,\n",
              " 0.0,\n",
              " 0.0,\n",
              " 0.0,\n",
              " 0.0,\n",
              " 0.0,\n",
              " 0.0,\n",
              " 1.7451815720204202e-06,\n",
              " 0.00022752485542215233,\n",
              " 0.005528248406774612,\n",
              " 2.8756742337959178e-06,\n",
              " 0.027286509338812024,\n",
              " 0.0,\n",
              " 1.1337339766327152e-06,\n",
              " 4.140024506455164e-06,\n",
              " 2.1118635588946942e-05,\n",
              " 0.005316162062349902,\n",
              " 0.0,\n",
              " 0.034098797457971106,\n",
              " 0.07191542968678512,\n",
              " 0.0,\n",
              " 2.4366906162638287e-07,\n",
              " 1.3925893212584093e-05,\n",
              " 0.0,\n",
              " 0.018988667937178457,\n",
              " 0.012278420889647368,\n",
              " 9.745399829085893e-05,\n",
              " 0.00011505892342972693,\n",
              " 0.00027084827309150126,\n",
              " 0.0014789251822851395,\n",
              " 0.0,\n",
              " 0.0,\n",
              " 0.0,\n",
              " 0.0,\n",
              " 0.0,\n",
              " 0.0,\n",
              " 0.0,\n",
              " 0.12470900981438118,\n",
              " 0.00029672430371160426,\n",
              " 0.0005367110450600511,\n",
              " 0.0003980069406734202,\n",
              " 0.0,\n",
              " 0.0,\n",
              " 0.0,\n",
              " 0.011212719176870592,\n",
              " 0.007450086574702278,\n",
              " 0.0,\n",
              " 0.014519319925834833,\n",
              " 0.0,\n",
              " 0.027972315589765068,\n",
              " 0.0,\n",
              " 6.346290941010957e-06,\n",
              " 0.0,\n",
              " 0.07685506423409015,\n",
              " 0.047969186826251786,\n",
              " 0.0,\n",
              " 0.00017409743203681185,\n",
              " 0.0,\n",
              " 0.0,\n",
              " 0.0,\n",
              " 0.0,\n",
              " 0.0,\n",
              " 0.0,\n",
              " 0.0,\n",
              " 0.0029955750496688735,\n",
              " 0.0015138221879462785,\n",
              " 0.10763819748381954,\n",
              " 0.2617617893163656,\n",
              " 0.0,\n",
              " 9.199820604968777e-08,\n",
              " 0.0,\n",
              " 1.3948529524528529e-05,\n",
              " 0.0014318409726971387,\n",
              " 0.06104070097364982,\n",
              " 0.0,\n",
              " 0.0001251587524781481,\n",
              " 0.0013406888716406223,\n",
              " 0.0,\n",
              " 9.030552430645106e-07,\n",
              " 0.0,\n",
              " 2.1415873296986777e-06,\n",
              " 0.0,\n",
              " 3.60161533664783e-06,\n",
              " 0.0,\n",
              " 4.791035109521445e-07,\n",
              " 0.0,\n",
              " 0.0,\n",
              " 0.00010742595188169496,\n",
              " 7.718082930356153e-07,\n",
              " 0.0010020847016373384,\n",
              " 0.0010858307860592263,\n",
              " 0.0,\n",
              " 2.5335056150220392e-05,\n",
              " 0.035332802714518045,\n",
              " 2.2074852466693797e-06,\n",
              " 1.7081440185386636e-09,\n",
              " 0.0,\n",
              " 5.448535838056147e-06,\n",
              " 0.010049698438232339,\n",
              " 0.0,\n",
              " 2.5743033254492978e-06,\n",
              " 0.0,\n",
              " 0.0042012645852087215,\n",
              " 0.0,\n",
              " 0.0,\n",
              " 0.0,\n",
              " 0.0]"
            ]
          },
          "metadata": {},
          "execution_count": 110
        }
      ]
    },
    {
      "cell_type": "code",
      "source": [
        "features_imp_pd = (\n",
        "     pd.DataFrame(\n",
        "       rfModel.featureImportances.toArray(),\n",
        "       index=features_list,\n",
        "       columns=['importance'])\n",
        ")"
      ],
      "metadata": {
        "id": "RYoeAVHvWgRV"
      },
      "execution_count": 112,
      "outputs": []
    },
    {
      "cell_type": "code",
      "source": [
        "features_imp_pd.sort_values(by=['importance'],ascending=False)\n"
      ],
      "metadata": {
        "colab": {
          "base_uri": "https://localhost:8080/",
          "height": 2531
        },
        "id": "aI0q9S2nadtg",
        "outputId": "a4b4f27f-2fd2-4593-88ef-c2d772bf5b37"
      },
      "execution_count": 113,
      "outputs": [
        {
          "output_type": "execute_result",
          "data": {
            "text/plain": [
              "                              importance\n",
              "PastTaxSaleStatus_N             0.261762\n",
              "LastPaymentSource1_801          0.124709\n",
              "PastTaxSaleStatus_Y             0.107638\n",
              "LastPaymentSource1_823          0.076855\n",
              "SeniorExempt_1                  0.071915\n",
              "...                                  ...\n",
              "HomeownerExempt_2               0.000000\n",
              "CondemnationStatus_0            0.000000\n",
              "MunicipalAcquisitionStatus_0    0.000000\n",
              "AreaFromPin_01                  0.000000\n",
              "AreaFromPin_33                  0.000000\n",
              "\n",
              "[111 rows x 1 columns]"
            ],
            "text/html": [
              "\n",
              "\n",
              "  <div id=\"df-6260aa11-7437-49df-974b-be434fbbf1a9\">\n",
              "    <div class=\"colab-df-container\">\n",
              "      <div>\n",
              "<style scoped>\n",
              "    .dataframe tbody tr th:only-of-type {\n",
              "        vertical-align: middle;\n",
              "    }\n",
              "\n",
              "    .dataframe tbody tr th {\n",
              "        vertical-align: top;\n",
              "    }\n",
              "\n",
              "    .dataframe thead th {\n",
              "        text-align: right;\n",
              "    }\n",
              "</style>\n",
              "<table border=\"1\" class=\"dataframe\">\n",
              "  <thead>\n",
              "    <tr style=\"text-align: right;\">\n",
              "      <th></th>\n",
              "      <th>importance</th>\n",
              "    </tr>\n",
              "  </thead>\n",
              "  <tbody>\n",
              "    <tr>\n",
              "      <th>PastTaxSaleStatus_N</th>\n",
              "      <td>0.261762</td>\n",
              "    </tr>\n",
              "    <tr>\n",
              "      <th>LastPaymentSource1_801</th>\n",
              "      <td>0.124709</td>\n",
              "    </tr>\n",
              "    <tr>\n",
              "      <th>PastTaxSaleStatus_Y</th>\n",
              "      <td>0.107638</td>\n",
              "    </tr>\n",
              "    <tr>\n",
              "      <th>LastPaymentSource1_823</th>\n",
              "      <td>0.076855</td>\n",
              "    </tr>\n",
              "    <tr>\n",
              "      <th>SeniorExempt_1</th>\n",
              "      <td>0.071915</td>\n",
              "    </tr>\n",
              "    <tr>\n",
              "      <th>...</th>\n",
              "      <td>...</td>\n",
              "    </tr>\n",
              "    <tr>\n",
              "      <th>HomeownerExempt_2</th>\n",
              "      <td>0.000000</td>\n",
              "    </tr>\n",
              "    <tr>\n",
              "      <th>CondemnationStatus_0</th>\n",
              "      <td>0.000000</td>\n",
              "    </tr>\n",
              "    <tr>\n",
              "      <th>MunicipalAcquisitionStatus_0</th>\n",
              "      <td>0.000000</td>\n",
              "    </tr>\n",
              "    <tr>\n",
              "      <th>AreaFromPin_01</th>\n",
              "      <td>0.000000</td>\n",
              "    </tr>\n",
              "    <tr>\n",
              "      <th>AreaFromPin_33</th>\n",
              "      <td>0.000000</td>\n",
              "    </tr>\n",
              "  </tbody>\n",
              "</table>\n",
              "<p>111 rows × 1 columns</p>\n",
              "</div>\n",
              "      <button class=\"colab-df-convert\" onclick=\"convertToInteractive('df-6260aa11-7437-49df-974b-be434fbbf1a9')\"\n",
              "              title=\"Convert this dataframe to an interactive table.\"\n",
              "              style=\"display:none;\">\n",
              "\n",
              "  <svg xmlns=\"http://www.w3.org/2000/svg\" height=\"24px\"viewBox=\"0 0 24 24\"\n",
              "       width=\"24px\">\n",
              "    <path d=\"M0 0h24v24H0V0z\" fill=\"none\"/>\n",
              "    <path d=\"M18.56 5.44l.94 2.06.94-2.06 2.06-.94-2.06-.94-.94-2.06-.94 2.06-2.06.94zm-11 1L8.5 8.5l.94-2.06 2.06-.94-2.06-.94L8.5 2.5l-.94 2.06-2.06.94zm10 10l.94 2.06.94-2.06 2.06-.94-2.06-.94-.94-2.06-.94 2.06-2.06.94z\"/><path d=\"M17.41 7.96l-1.37-1.37c-.4-.4-.92-.59-1.43-.59-.52 0-1.04.2-1.43.59L10.3 9.45l-7.72 7.72c-.78.78-.78 2.05 0 2.83L4 21.41c.39.39.9.59 1.41.59.51 0 1.02-.2 1.41-.59l7.78-7.78 2.81-2.81c.8-.78.8-2.07 0-2.86zM5.41 20L4 18.59l7.72-7.72 1.47 1.35L5.41 20z\"/>\n",
              "  </svg>\n",
              "      </button>\n",
              "\n",
              "\n",
              "\n",
              "    <div id=\"df-daf5e593-9fc6-478e-9043-fd5b60346d35\">\n",
              "      <button class=\"colab-df-quickchart\" onclick=\"quickchart('df-daf5e593-9fc6-478e-9043-fd5b60346d35')\"\n",
              "              title=\"Suggest charts.\"\n",
              "              style=\"display:none;\">\n",
              "\n",
              "<svg xmlns=\"http://www.w3.org/2000/svg\" height=\"24px\"viewBox=\"0 0 24 24\"\n",
              "     width=\"24px\">\n",
              "    <g>\n",
              "        <path d=\"M19 3H5c-1.1 0-2 .9-2 2v14c0 1.1.9 2 2 2h14c1.1 0 2-.9 2-2V5c0-1.1-.9-2-2-2zM9 17H7v-7h2v7zm4 0h-2V7h2v10zm4 0h-2v-4h2v4z\"/>\n",
              "    </g>\n",
              "</svg>\n",
              "      </button>\n",
              "    </div>\n",
              "\n",
              "<style>\n",
              "  .colab-df-quickchart {\n",
              "    background-color: #E8F0FE;\n",
              "    border: none;\n",
              "    border-radius: 50%;\n",
              "    cursor: pointer;\n",
              "    display: none;\n",
              "    fill: #1967D2;\n",
              "    height: 32px;\n",
              "    padding: 0 0 0 0;\n",
              "    width: 32px;\n",
              "  }\n",
              "\n",
              "  .colab-df-quickchart:hover {\n",
              "    background-color: #E2EBFA;\n",
              "    box-shadow: 0px 1px 2px rgba(60, 64, 67, 0.3), 0px 1px 3px 1px rgba(60, 64, 67, 0.15);\n",
              "    fill: #174EA6;\n",
              "  }\n",
              "\n",
              "  [theme=dark] .colab-df-quickchart {\n",
              "    background-color: #3B4455;\n",
              "    fill: #D2E3FC;\n",
              "  }\n",
              "\n",
              "  [theme=dark] .colab-df-quickchart:hover {\n",
              "    background-color: #434B5C;\n",
              "    box-shadow: 0px 1px 3px 1px rgba(0, 0, 0, 0.15);\n",
              "    filter: drop-shadow(0px 1px 2px rgba(0, 0, 0, 0.3));\n",
              "    fill: #FFFFFF;\n",
              "  }\n",
              "</style>\n",
              "\n",
              "    <script>\n",
              "      async function quickchart(key) {\n",
              "        const containerElement = document.querySelector('#' + key);\n",
              "        const charts = await google.colab.kernel.invokeFunction(\n",
              "            'suggestCharts', [key], {});\n",
              "      }\n",
              "    </script>\n",
              "\n",
              "      <script>\n",
              "\n",
              "function displayQuickchartButton(domScope) {\n",
              "  let quickchartButtonEl =\n",
              "    domScope.querySelector('#df-daf5e593-9fc6-478e-9043-fd5b60346d35 button.colab-df-quickchart');\n",
              "  quickchartButtonEl.style.display =\n",
              "    google.colab.kernel.accessAllowed ? 'block' : 'none';\n",
              "}\n",
              "\n",
              "        displayQuickchartButton(document);\n",
              "      </script>\n",
              "      <style>\n",
              "    .colab-df-container {\n",
              "      display:flex;\n",
              "      flex-wrap:wrap;\n",
              "      gap: 12px;\n",
              "    }\n",
              "\n",
              "    .colab-df-convert {\n",
              "      background-color: #E8F0FE;\n",
              "      border: none;\n",
              "      border-radius: 50%;\n",
              "      cursor: pointer;\n",
              "      display: none;\n",
              "      fill: #1967D2;\n",
              "      height: 32px;\n",
              "      padding: 0 0 0 0;\n",
              "      width: 32px;\n",
              "    }\n",
              "\n",
              "    .colab-df-convert:hover {\n",
              "      background-color: #E2EBFA;\n",
              "      box-shadow: 0px 1px 2px rgba(60, 64, 67, 0.3), 0px 1px 3px 1px rgba(60, 64, 67, 0.15);\n",
              "      fill: #174EA6;\n",
              "    }\n",
              "\n",
              "    [theme=dark] .colab-df-convert {\n",
              "      background-color: #3B4455;\n",
              "      fill: #D2E3FC;\n",
              "    }\n",
              "\n",
              "    [theme=dark] .colab-df-convert:hover {\n",
              "      background-color: #434B5C;\n",
              "      box-shadow: 0px 1px 3px 1px rgba(0, 0, 0, 0.15);\n",
              "      filter: drop-shadow(0px 1px 2px rgba(0, 0, 0, 0.3));\n",
              "      fill: #FFFFFF;\n",
              "    }\n",
              "  </style>\n",
              "\n",
              "      <script>\n",
              "        const buttonEl =\n",
              "          document.querySelector('#df-6260aa11-7437-49df-974b-be434fbbf1a9 button.colab-df-convert');\n",
              "        buttonEl.style.display =\n",
              "          google.colab.kernel.accessAllowed ? 'block' : 'none';\n",
              "\n",
              "        async function convertToInteractive(key) {\n",
              "          const element = document.querySelector('#df-6260aa11-7437-49df-974b-be434fbbf1a9');\n",
              "          const dataTable =\n",
              "            await google.colab.kernel.invokeFunction('convertToInteractive',\n",
              "                                                     [key], {});\n",
              "          if (!dataTable) return;\n",
              "\n",
              "          const docLinkHtml = 'Like what you see? Visit the ' +\n",
              "            '<a target=\"_blank\" href=https://colab.research.google.com/notebooks/data_table.ipynb>data table notebook</a>'\n",
              "            + ' to learn more about interactive tables.';\n",
              "          element.innerHTML = '';\n",
              "          dataTable['output_type'] = 'display_data';\n",
              "          await google.colab.output.renderOutput(dataTable, element);\n",
              "          const docLink = document.createElement('div');\n",
              "          docLink.innerHTML = docLinkHtml;\n",
              "          element.appendChild(docLink);\n",
              "        }\n",
              "      </script>\n",
              "    </div>\n",
              "  </div>\n"
            ]
          },
          "metadata": {},
          "execution_count": 113
        },
        {
          "output_type": "display_data",
          "data": {
            "text/plain": [
              "<google.colab._quickchart_helpers.SectionTitle at 0x7cb64ab76380>"
            ],
            "text/html": [
              "<h4 class=\"colab-quickchart-section-title\">Values</h4>\n",
              "<style>\n",
              "  .colab-quickchart-section-title {\n",
              "      clear: both;\n",
              "  }\n",
              "</style>"
            ]
          },
          "metadata": {}
        },
        {
          "output_type": "display_data",
          "data": {
            "text/plain": [
              "import numpy as np\n",
              "from google.colab import autoviz\n",
              "df_5228875291759184124 = autoviz.get_df('df_5228875291759184124')\n",
              "\n",
              "def value_plot(df, y, sort_ascending=False, figsize=(2, 1)):\n",
              "  from matplotlib import pyplot as plt\n",
              "  if sort_ascending:\n",
              "    df = df.sort_values(y).reset_index(drop=True)\n",
              "  _, ax = plt.subplots(figsize=figsize)\n",
              "  df[y].plot(kind='line')\n",
              "  plt.title(y)\n",
              "  ax.spines[['top', 'right',]].set_visible(False)\n",
              "  plt.tight_layout()\n",
              "  return autoviz.MplChart.from_current_mpl_state()\n",
              "\n",
              "chart = value_plot(df_5228875291759184124, *['importance'], **{})\n",
              "chart"
            ],
            "text/html": [
              "      <div class=\"colab-quickchart-chart-with-code\" id=\"chart-d83b770e-f39d-4020-915f-d1d94afe5449\">\n",
              "        <img src=\"data:image/png;base64,iVBORw0KGgoAAAANSUhEUgAAANIAAABgCAYAAABomyw8AAAAOXRFWHRTb2Z0d2FyZQBNYXRwbG90\n",
              "bGliIHZlcnNpb24zLjcuMSwgaHR0cHM6Ly9tYXRwbG90bGliLm9yZy/bCgiHAAAACXBIWXMAAA9h\n",
              "AAAPYQGoP6dpAAAZJklEQVR4nO3deVRTZ/4/8PcNSxYgCRGospg0gOwSNqugIG64L1XL0bHaw2Dr\n",
              "tIqOMi6jjktHqrX6O5apRzsqamutFXXqVhcUB5hDB7UVtK1WEQYUFKtsAgkk+fz+QO+XCFVCM5Na\n",
              "n9c5OYfc57n3+dybfHjuvbnPvRwRERiG+UUE1g6AYX4LWCIxjAWwRGIYC2CJxDAWwBKJYSyAJRLD\n",
              "WABLJIaxAJZIDGMBLJEYxgJe+EQaMWIE3n33XWuHwTznOHaJ0K/TypUrkZWVhby8PGuHwnSCrbUD\n",
              "YEwREQwGg7XDYMz0wu/aDRw4EMuWLQMAcByHTZs2oV+/fnBwcEBoaCguX76M/fv3w8/PD1KpFJMm\n",
              "TcLDhw/5+VUqFVasWIFBgwbB0dERwcHBOHnypEkbO3fuRHBwMKRSKYKDg7Fr1y6+rLS0FBzHYfv2\n",
              "7QgNDYVEIsG6deuQlpaG/Px8ODo6wtHREbm5udBqtZg8eTI8PDzg5OQEPz8/fPTRRyZtqVQqrF69\n",
              "GiNHjoSTkxO8vb1x6NAhkzrHjh1D37594ezsjG7dumHSpEl82e3btzF16lR4eHjAzc0NU6ZMwb17\n",
              "9yy2vX+z6AUXFxdHS5cuJSIiAKTRaOjmzZuk0+lo8uTJpFar6Y033qC6ujq6c+cOqdVqSktL4+dX\n",
              "KpXk4uJCeXl51NLSQtu2bSN7e3u6efMmERFlZmaSk5MTZWVlkV6vp9OnT5ODgwMdOnSIiIhKSkoI\n",
              "AEVHR1NZWRnp9XrSarW0YsUKiomJMYm1sbGRduzYQdXV1WQwGOjo0aNkb29PJ06cMInHy8uLLl68\n",
              "SAaDgTZs2EBOTk5UW1tLRESnTp0ikUhEX3zxBel0OmpqaqKsrCwiItJqteTn50cLFiyghw8fUn19\n",
              "PU2bNo2GDBnyX9v+vxUskZ5IpN27d/Nl//jHPwgAVVRU8NNmz55N48eP598rlUqaP3++yTL79OlD\n",
              "q1evJiKiYcOG0bx580zKU1JSKCEhgYj+L5HaJgMRdZhIHRk7dqxJ+0qlklatWsW/f/jwIQGgr7/+\n",
              "moiIRo0aRe+8806Hyzpw4AC5u7uT0Wjkp926dYsAUHl5+TNjeZG98Lt2T+rRowf/t4ODQ4fT6uvr\n",
              "TeZ5+eWX270vLy8HAJSXl8Pb29uk3MfHB2VlZU9dRkd0Oh1SU1PRq1cvyGQyyOVyfPXVV6iqqjKp\n",
              "5+7u3m4dHsdcUlICPz+/Dpd//fp13L17F87OzpDL5ZDL5QgKCoJQKGwXL2OKnWywgNLS0nbvR44c\n",
              "CQDw8vJCcXGxSXlxcTF69uxpMk0gEDz1PQBs3LgRR44cwZEjR+Dr6wuBQIBx48aBzDjxqlKp8OOP\n",
              "P3ZY1r17dyiVynbxMs/GeiQL2L17N/Lz86HX67Fz5058++23+N3vfgcASE5Oxo4dO3Du3DkYDAac\n",
              "PXsW27dvx5tvvvnUZXbv3h1lZWXQarX8tNraWgiFQri6usJoNGL//v04deqUWbHOnTsX27dvx4ED\n",
              "B9Dc3AytVoszZ84AAF599VW0tLRg+fLlqK2tBQBUVVVh3759ZrXxImKJZAGzZs3C0qVLIZfLsX79\n",
              "ehw6dIjfnZs8eTI2bNiAt99+G3K5HHPmzMGmTZvw6quvPnWZiYmJ8PPzg7u7O+RyOfLy8pCamgov\n",
              "Ly8olUq4u7vjzJkzGD9+vFmxDhs2DHv37sXatWvh6uoKT09PbN26FQDg5OSE/Px8lJWVISQkBFKp\n",
              "FNHR0cjJyenSdnmRsB9kfyGVSoVly5YhOTnZ2qEwVsR6JIaxAJZIDGMBbNeOYSyA9UgMYwEskRjG\n",
              "AlgiMYwFsERiGAuweiJdv34d0dHR6NWrF6KiovDdd9+1q3P27Fn06dMHgYGBCAoKwsKFC2E0GgG0\n",
              "Xo5jY2MDjUbDv8y5xGXTpk0AWscBNeuN0LawsUBMF1jzilkiovj4eMrIyCAiov3791NkZGS7Ot98\n",
              "8w0VFxcTEVFTUxPFxMTw85SUlJBMJuty+3/84x+JiGhb7k1SLjpKcz77psvLYl5cVu2RqqqqcOHC\n",
              "BUybNg0AMHHiRJSXl+PGjRsm9cLCwqBWqwEAIpEIGo2m3YWiv5TQtnVTsB6J6QqrJlJ5eTl69OgB\n",
              "W9vWi9A5jkPPnj2fesn+nTt3kJmZidGjR/PTGhoaEBUVhfDwcKxevfpnh2rrdDrU1dWZvB7XFdnZ\n",
              "tNbRGy21eswLxOrHSOaoq6vDmDFjsHDhQkRGRgJoHSt0+/ZtnD9/HllZWcjNzcWGDRs6nP+9996D\n",
              "TCYzeRUUFAAARHasR2K6zqqJ5OXlhcrKSuj1egCtB/xlZWXtxuoArQPThg8fjnHjxmH+/Pn8dKFQ\n",
              "CDc3NwCAQqFAUlIScnNzO2xvyZIlqK2tNXn16dMHACCybe2RtKxHYrrAqonk5uaG8PBwfPrppwCA\n",
              "AwcOwNPTEz4+Pib1Hj58iOHDh2P48OH8jUoeq6qqQktLC4DWXbeDBw8iLCysw/aEQiGkUqnJy8am\n",
              "NYGEj3okHeuRmC6w+q7d1q1bsXXrVvTq1Qtr165FRkYGgNYBcYcPHwbQeoq6oKAABw8e5E9xr1mz\n",
              "BgCQl5eHsLAwhIaGIjw8HN27d8fSpUvNjuPxMRLbtWO64oW/aHX+/PnYuHEjLt+qxZi/5aGHTIT8\n",
              "JYOtHRbznLF6j/RrwU42ML8ES6RHhI9PNrSwkw2M+VgiPcL3SHqDWXflYRiAJRJP+OhkAxHQYmCJ\n",
              "xJiHJdIjj3skoLVXYhhzsER6xN5GAI5r/ZudcGDMxRLpEY7j+AtXdeyEA2MmlkhtsB9lma5iidTG\n",
              "4+vt2BXgjLlYIrXBfpRluoolUhuPd+1qm1qsHAnzvGGJ1EawhwwA8O+SB1aOhHnesERqY4CvCwAg\n",
              "7/pPVo6Eed6wRGojvKczAOBG1UMYjOzqBqbzWCK14S4Xw95WgGaDEbeqG60dDvMcYYnUho2Aw8vd\n",
              "Wp+5evNeg5WjYZ4nLJGeoHZtTaR/XLpt5UiY5wlLpCe8FukFAPjyUgUu36q1cjTM84Il0hPi/d0w\n",
              "TuMOANiVX2rdYJjnBkukDrzeVwkA+OpyJZqa2VUOzLOxROpAhNIZXgoxGpoNOPX9HWuHwzwHWCJ1\n",
              "gOM4TAjzBACk7i/Ejap6K0fE/NqxRPoZkyM8YW8rQIuBMPT/5eD45Uprh8T8ilk9kTrzfCQA2L59\n",
              "O3x9feHt7Y2ZM2fyd1d9VllXeSkk+GruAHjIxSACFmYW4T/32W9LTMesnkhvvfUW3nzzTfz4449Y\n",
              "tGgR3njjjXZ1SkpKsHz5cuTm5uLGjRu4e/cuPv7442eW/VLero44syAO3q4OeKjTI/6Dc4hbn42F\n",
              "mYU4caUStY3sKnGmlVXvtFpVVQUfHx88ePAAtra2ICL06NEDeXl5Jvf/Xr9+PYqLi7FlyxYAwPHj\n",
              "x5GWloa8vLynlnXG4zutPs3dOi3e+uQiLpXXtCvzdBajr7obFA72sLPhILG3hZPIFnY2Agg4QMBx\n",
              "4DgOHACBAGj96/kwPszD2iE8N2yt2fjTno/UNpHKysqgVCr59yqVin+G0tPKnqTT6aDT6Uym/dyz\n",
              "lNp6SSrCobejcau6CTd/akDW93eRc/0e/nO/Ebeqm5B58VbnV/o5whKp86yaSP9r7733HlatWmUy\n",
              "rW/fvp2al+M4eCkk8FJIENfLFUSEep0eF/9TjYul1dDpDWgxEBqb9ahr0kNvNIII0D+6ipwAkxtP\n",
              "sntQ/rZYNZHaPh/p8a5dR89H6tmzp8kDlktLS/k6Tyt70pIlS0yerQQA06dP56cZDAYUFBSgT58+\n",
              "/ONeukJiZn1LtWuuZ7U7f/4+AIBSqcTcuXP/Z3E9l6z18NrH4uLiTB7GHBER0a5OcXEx9ejRgyor\n",
              "K8loNNKYMWMoPT39mWXmqq2tJQBUW1vb5fVh7b6YrJ5IV69epb59+5Kvry9FRERQUVERERH9/ve/\n",
              "py+//JKv9/HHH5NarSa1Wk1JSUnU3NzcqTJzvGhfaJZIlvPCPx+prbq6OshkMtTW1kIqlbJ2mU6z\n",
              "+u9IDPNbwBKpDaFQiBUrVkAoFLJ2GbOwXTuGsQDWIzGMBbBEYhgLYInEMBbAEolhLMCsRFKpVPDz\n",
              "84NGo0FgYCA++ugjsxusqanB2rVr+ffJycnQaDTQaDSwt7fnl6/RaFBfb97I1JaWFqSkpCAoKAih\n",
              "oaHw8/ODUCiEk5MTLl269LPz7dy5E+PHj39m3GvWrOGXHxAQAI7jYGNjA7FYDKFQCB8fn06PhVq5\n",
              "ciW0Wm2n123lypVwdXWFRqNBQEAAEhMTUV1djYqKCgwYMMCkLsdxGDJkiMk0FxcXFBUVmWx7ADhw\n",
              "4ADkcjlEIhFEIhFcXV1x4cIFvnzSpElwd3cHx3GoqanpdLy/VGlpKQYOHAiZTAaNRmPWvD/88AMk\n",
              "EgnmzZvHT3vnnXf475VGo4FIJMKHH34IAPj888+h0WgQHByM4OBgbNiwwfyAzfn1VqlU0rfffktE\n",
              "RKWlpSSVSqmwsNCsX4BLSkpIJpM9c/ldsX79epo4cSK1tLQQEdHmzZspMjKSOI6jf/3rXx3Oo9fr\n",
              "KSMjg8aNG/fMuEUiEb/8kpISsrOzo0WLFhER0cmTJ0kikdCHH37Iz/M4jo4AoOrq6k6v24oVK2ju\n",
              "3Ll8zBMmTKD58+f/7LJVKhWdOHGCn9atWzfKzc1tt+19fX1p48aN/HJHjx5NqampfPnp06fp7t27\n",
              "Zsf72NO2wdPcv3+fcnNz6ejRoxQaGtrp+Zqbm6l///40depUfns9qbKykkQiEVVWVhIRUV5eHv93\n",
              "TU0NeXt7U3Z2tlnxdnnXTqlUws/PDydOnEBUVBQ0Gg2ioqKQn58PADAajZg9ezYCAgIQGhqKiIgI\n",
              "aLVazJo1C/X19dBoNIiMjPzZ5aempvLLjY2NxbVr1wAA165dg6enJ27evAkA+OCDDzB8+HAYjUbc\n",
              "unULbm5u/LCM3bt3Y9WqVRCJRDhw4ADi4+OhUqng4OCAbt26QSKRICAgAH/+859x7tw5REZGQqPR\n",
              "oHfv3hCLxRCLxbC1tUVAQACCg4Oh1WqRnZ1tcsV49+7dAQApKSnQ6XT405/+BDc3N0ilUohEIojF\n",
              "Ysjlcjg4OECtVkMsFuP1118HAPTq1Qv29vYICAiATCYDx3FISUmBTCaDjY0NlEol0tLS4Ovri7/+\n",
              "9a/IyMhAcHAwjh49Cnd3d2RkZCAkJAS2trbIzs4G0NobAcCDBw8wYsQIeHh48D3M0qVL2237qqoq\n",
              "xMTEAABsbGwQFxeHe/fu8WWbN2/G4MGDAQAZGRn8eqtUKpNePjIyEufOnQMADBw4ECkpKejXrx+G\n",
              "DRsGAFi3bh1CQkIQGhqKvn37orGx9ZbQn3zyCV555RWEh4cjNjYWhYWFAACFQoH+/fvDwcHhmd/F\n",
              "tlavXo3JkyfD19f3Z+vs2rULCQkJ/GcXExPD/y2TyeDv74/S0lKz2u1yj1RUVEROTk5UUFDAl+fn\n",
              "55Ofnx8REX3zzTfk7+9PBoOBz3SDwdDpHqmqqoqfvnfvXkpISODff/bZZxQREUHZ2dmkUqn4uleu\n",
              "XCFPT0/y9/eniRMnkkKhIJ1OR25ubhQcHEz19fWUkZFBYrGY+vXrR3v37qXq6mp66aWXyMHBgYiI\n",
              "Nm3aRBzH0fXr18loNNLnn39OAQEBdPPmTbKzsyOpVEr+/v6UmJhIAMjd3Z1CQ0NJpVKRUCik6Oho\n",
              "CgwMpOrqaqqqqqJ9+/aRra0tvf/++5SQkEDe3t4UGxtLAGj27NkkEAiorKyMpk+fTgBIqVRSXV0d\n",
              "TZw4kTiOo3nz5lHv3r0pPj6e3NzcyGAwUH5+PslkMlq0aBGVlJSQo6Mjde/enbRaLeHRiI3Tp09T\n",
              "eHg42dra0tChQ3+2R/rggw9IIpHQoEGDKDU1lZRKJR08eJCIiF577TVavHgxERG/rvn5+e0+KyLi\n",
              "Pw+i1guRExIS+Gsed+7cSVFRUVRTU0NERA8ePCC9Xk95eXk0YsQI0mq1RESUk5NDgYGBJvFlZ2d3\n",
              "ukf6+uuvafDgwWQ0Gk168Cf16tWLDh8+3GHZd999RwqFgsrLyzvV5mNmD6NITEyEWCyGRCLBjh07\n",
              "UF1djbi4ONy/fx+2tra4du0ampqaoFarodfrkZSUhPj4eIwaNQoCQec7wNOnTyM9PR319fUwGo14\n",
              "8OD/nlk0ZcoUZGdnIyEhAWfOnIGrqysAICgoCMXFxcjLy8Py5csBABMmTIBYLEZFRQVmzpyJvLw8\n",
              "CAQC/PDDD1i4cCEWL16MqqoqEBF69+6NiooKEBHCwsIgl8uh1WpRU1ODhIQE6PV6JCQkYNasWTh2\n",
              "7BgA4P79+3B1dYWdnR3kcjl8fHygUCiQlJSE8+fP486dO9Dr9UhPT0dzczPWr1+P5ORkAEBhYSEC\n",
              "AwPh5eXF9ySjR4+Gk5MTevToASKCu7s7Bg8ejD179qCqqgqBgYFoaGhAc3Mzjh8/jsOHD6OxsRFS\n",
              "qdRkQGNkZCTS09PRv39/vjfvyIIFCzBt2jScOnUKy5YtQ2VlJZqbmwEAWVlZuHjxIl93zJgxyMrK\n",
              "6tQYrmnTpsHOzg4AcPToUcyaNQsyWevzp5ydW5/68eWXX6KwsBCvvPIKP9+DBw/Q1NQEsVj8zDba\n",
              "amxsxNtvv43MzEx+W3YkNzcX9fX1GDlyZLuyW7duYdy4cdiyZQs8PT3Nat/sRNq3bx9/8Nfc3AyF\n",
              "QoHs7GxERUXxF0HqdDrI5XJcuXIF//znP5GdnY0lS5YgJyeH3+16mrKyMsyePRvnz5+Ht7c3ioqK\n",
              "EBsby5fr9XpcuXIFCoUCt2+b3qPb3t4eAwYMwPXr12Fvb4/jx4/DxsYGAoEAFy9exF/+8hccOXIE\n",
              "J06cQEJCAl5//XXMmTMHJSUlyMnJwZo1a/iD9fT0dJw8eRIFBQVwdnZGYGAgmpubMWjQIKjVaqSn\n",
              "p0On0+Hs2bMoKirCvHnzwHEcjh07hsTERGRnZ2P69Ok4fvw45s+fj5UrVyIkJIT/oC9duoQJEya0\n",
              "fhCPtoujoyMA8CN5OY7Dxo0b8dNPP2HPnj0QCoXw9/eHRCLBZ599htLSUmg0mnbbAQCio6NhY2OD\n",
              "2trap253hUKBgwcPYtiwYVCr1dizZw8SExPb1Wv7BbW1tTUZXfzkiZPH6/E0RIQZM2YgLS3tmXWf\n",
              "pbi4GGVlZYiPjwfQenLIaDSiuroau3bt4utt374dM2bMaDf+qqKiAkOGDMGyZcswefJks9v/Rae/\n",
              "tVotmpub+YF06enpfNm9e/fQ0NCAYcOGIS0tDSqVCt9//z2kUimampr4/3odqa2thZ2dHf9f+W9/\n",
              "+5tJ+eLFi+Hn54fc3Fykpqbixo0bAICcnBxUVlbi8OHDUKvV2LZtGxQKBTw9PTF8+HDcutU6JLyx\n",
              "sREtLS1wcnJCdHQ0Kioq+GXHxsZi586dUKvVGDp0KBwdHXH27FlwHAetVsvv2wOtXwSJRAK5XA6p\n",
              "VIra2tZ7hTc1NcHZ2Rn29vZ4+eWXcefOHRw+fBgAsHXrVgwYMAAcx8HZ2Zn/79x2aP39+/dx6tQp\n",
              "/v3Vq1fh4uICGxsb/OEPf0BjYyOysrJQVFTE1ykoKOhwW4rFYtTX10On08HR0bHdts/MzMRrr70G\n",
              "hUKBzZs34/Lly/D29gYADBkyBH//+9/5ukeOHMHQoUP5eP/973/zbT+t1xs7diy2bNnCb5+amhoY\n",
              "DAaMHTsWn376Kd+TGo1GkzOG5ggJCcG9e/dQWlqK0tJSzJs3D0lJSSZJVFdXh8zMTCQlJZnMW1lZ\n",
              "icGDB2PRokWYMWNGl9rv8jHSY+vWraOePXtSeHg4vf/++/zZnYsXL1J4eDiFhIRQYGAgzZw5k99n\n",
              "Tk5OJj8/v3aD+NouPyUlhVQqFUVERNC7777L79sfOXKEgoKCqKGhgYiIvvjiCwoLC6Ompib65JNP\n",
              "KCwsjBwcHMjd3Z1iYmIoNzeXlEolubi4EMdxJBAISCAQkEajIScnJwoPD6chQ4YQAAoKCiKVSkVi\n",
              "sZhEIhEJhUKysbEhuVxOMTEx5OHhQQKBgEQiEQUEBBDHcTRnzhwiaj07NWrUKJLL5aRUKsnHx4dc\n",
              "XFzIwcGB7O3tSSqVkkAgoKlTp9JPP/1EIpGIHB0dycXFhe7evUv3798nAOTs7EwjR46kSZMmEQBa\n",
              "v349TZgwgZydnQkARUdHU2FhIZ0+fZr69u1L/v7+JBAIaMqUKURE/DHS4zNsMpmMJBIJAaCSkpJ2\n",
              "2z4mJoYA8Ovr7OxMycnJRER0584deumll8jW1pYAkEwmo7i4OCIiOn/+PAUGBlLv3r3prbfeotDQ\n",
              "UJNjpEOHDpl8tmvXruXr9+vXj//89u7dS+Hh4dS7d2/y9/enBQsWEBFRQ0MDeXh4kIuLC9nZ2ZGH\n",
              "hwd/vNYZHR0jbd26lWJjY9vVTU5OJolEQqGhofxrx44dnW6LiI1HsooLFy5g6tSpuHr1qlnHjcyv\n",
              "1wt185Nfg+TkZJw6dQrbtm1jSfQbwnqk59TYsWPb3XbM2dmZ/z3pSZGRkdDr9SbTgoKCsGfPnv9a\n",
              "jP8N27Zta3fMDLQenz95hcf/EkskhrEAtm/BMBbAEolhLIAlEsNYAEskhrEAlkgMYwEskRjGAlgi\n",
              "MYwFsERiGAv4/ylEdon9xfoMAAAAAElFTkSuQmCC\n",
              "\">\n",
              "        \n",
              "      </div>\n",
              "      <script></script>\n",
              "      <script type=\"text/javascript\">\n",
              "        (() => {\n",
              "          const chartElement = document.getElementById(\"chart-d83b770e-f39d-4020-915f-d1d94afe5449\");\n",
              "          async function getCodeForChartHandler(event) {\n",
              "            const chartCodeResponse =  await google.colab.kernel.invokeFunction(\n",
              "                'getCodeForChart', [\"chart-d83b770e-f39d-4020-915f-d1d94afe5449\"], {});\n",
              "            const responseJson = chartCodeResponse.data['application/json'];\n",
              "            await google.colab.notebook.addCell(responseJson.code, 'code');\n",
              "          }\n",
              "          chartElement.onclick = getCodeForChartHandler;\n",
              "        })();\n",
              "      </script>\n",
              "      <style>\n",
              "        .colab-quickchart-chart-with-code  {\n",
              "            display: block;\n",
              "            float: left;\n",
              "            border: 1px solid transparent;\n",
              "        }\n",
              "\n",
              "        .colab-quickchart-chart-with-code:hover {\n",
              "            cursor: pointer;\n",
              "            border: 1px solid #aaa;\n",
              "        }\n",
              "      </style>"
            ]
          },
          "metadata": {}
        },
        {
          "output_type": "display_data",
          "data": {
            "text/plain": [
              "<google.colab._quickchart_helpers.SectionTitle at 0x7cb64ab77dc0>"
            ],
            "text/html": [
              "<h4 class=\"colab-quickchart-section-title\">Distributions</h4>\n",
              "<style>\n",
              "  .colab-quickchart-section-title {\n",
              "      clear: both;\n",
              "  }\n",
              "</style>"
            ]
          },
          "metadata": {}
        },
        {
          "output_type": "display_data",
          "data": {
            "text/plain": [
              "import numpy as np\n",
              "from google.colab import autoviz\n",
              "df_5228875291759184124 = autoviz.get_df('df_5228875291759184124')\n",
              "\n",
              "def histogram(df, colname, num_bins=20, figsize=(2, 1)):\n",
              "  from matplotlib import pyplot as plt\n",
              "  _, ax = plt.subplots(figsize=figsize)\n",
              "  plt.hist(df[colname], bins=num_bins, histtype='stepfilled')\n",
              "  plt.ylabel('count')\n",
              "  plt.title(colname)\n",
              "  ax.spines[['top', 'right',]].set_visible(False)\n",
              "  plt.tight_layout()\n",
              "  return autoviz.MplChart.from_current_mpl_state()\n",
              "\n",
              "chart = histogram(df_5228875291759184124, *['importance'], **{})\n",
              "chart"
            ],
            "text/html": [
              "      <div class=\"colab-quickchart-chart-with-code\" id=\"chart-09f46c37-686a-4821-b911-30f1991b37dd\">\n",
              "        <img src=\"data:image/png;base64,iVBORw0KGgoAAAANSUhEUgAAAMQAAABgCAYAAABCK92TAAAAOXRFWHRTb2Z0d2FyZQBNYXRwbG90\n",
              "bGliIHZlcnNpb24zLjcuMSwgaHR0cHM6Ly9tYXRwbG90bGliLm9yZy/bCgiHAAAACXBIWXMAAA9h\n",
              "AAAPYQGoP6dpAAAMdklEQVR4nO3df0zU9R8H8OcRek24H6xD+eFxF7/OBQUrZHL8kbamhKkEsn65\n",
              "xcqkZUqRYzZgJDo0G037sWULQdbmCghLWWVgPyRxatl0LheCdFdwXFbjh8IJd6/vH83P98478D51\n",
              "v3s9ttv8vN+f+3yex3zt8/587nOft4SICIwxAECYvwMwFki4IBizwwXBmB0uCMbscEEwZocLgjE7\n",
              "XBCM2eGCYMwOFwRjdrggPOShhx7C9u3b/R2D/UsSvnUjtL366qvo7OxEd3e3v6MEhXB/B2DeQUSw\n",
              "Wq3+jhF0eMjkIUuXLkVVVRUAQCKRYO/evcjJyUFERAQyMjJw/vx5tLS0QKfTQS6XY+3atRgfHxfe\n",
              "r9VqUVNTgwceeACRkZFIT0/HF1984bCPpqYmpKenQy6XIz09HQcOHBD6BgYGIJFI0NDQgIyMDMyb\n",
              "Nw+vvfYa6urq0NPTg8jISERGRuL48eOYnJxEcXEx4uPjIZPJoNPp8M477zjsS6vVora2Fvn5+ZDJ\n",
              "ZEhKSkJ7e7vDOh0dHViyZAmioqJwxx13YO3atULfb7/9hieeeALx8fGYP38+Hn/8cfz+++8e+3t7\n",
              "DTGPuP/++6myspKIiABQZmYm9ff3k8VioeLiYkpMTKSSkhIaHR0lk8lEiYmJVFdXJ7xfo9GQSqWi\n",
              "7u5umpqaovfff5/mzp1L/f39RETU2tpKMpmMOjs7aXp6mr788kuKiIig9vZ2IiK6fPkyASC9Xk8G\n",
              "g4Gmp6dpcnKSampqKDc31yHrtWvXaP/+/fTXX3+R1WqlI0eO0Ny5c+nzzz93yKNWq+n7778nq9VK\n",
              "9fX1JJPJaGRkhIiIjh49Srfffjt99NFHZLFYaGJigjo7O4mIaHJyknQ6Hb388ss0Pj5OY2NjtG7d\n",
              "OnrwwQe99vf3FC4ID7m5IJqbm4W+Q4cOEQAaHBwU2l544QUqKCgQljUaDZWXlztsMzs7m2pra4mI\n",
              "aPny5fTiiy869G/evJlWrFhBRP8vCPv/1ETksiBcWb16tcP+NRoNbdu2TVgeHx8nAHTy5EkiIlq5\n",
              "ciVt3LjR5bba2tooLi6ObDab0Pbrr78SADIajbfM4k88ZPKS2NhY4d8REREu28bGxhzec+eddzot\n",
              "G41GAIDRaERSUpJDf3JyMgwGw6zbcMVisWDLli1ITU2FQqGAUqnEZ599BrPZ7LBeXFyc02e4kfny\n",
              "5cvQ6XQut9/b24vh4WFERUVBqVRCqVQiLS0NUqnUKW+g4ZPqADIwMOC0nJ+fDwBQq9Xo6+tz6O/r\n",
              "60NCQoJDW1hY2KzLAPDGG2/g8OHDOHz4MFJSUhAWFoY1a9aARFxw1Gq1+Pnnn132xcTEQKPROOUN\n",
              "BnyECCDNzc3o6enB9PQ0mpqacPbsWTz55JMAgPXr12P//v34+uuvYbVacezYMTQ0NGDDhg2zbjMm\n",
              "JgYGgwGTk5NC28jICKRSKaKjo2Gz2dDS0oKjR4+KylpWVoaGhga0tbXh+vXrmJycRFdXFwCgsLAQ\n",
              "U1NTqK6uxsjICADAbDbjww8/FLUPf+CCCCDPPfccKisroVQq8frrr6O9vV0YJhUXF6O+vh7PP/88\n",
              "lEolNm3ahL1796KwsHDWbT766KPQ6XSIi4uDUqlEd3c3tmzZArVaDY1Gg7i4OHR1daGgoEBU1uXL\n",
              "l+PgwYPYtWsXoqOjsXDhQuzbtw8AIJPJ0NPTA4PBgLvvvhtyuRx6vR7ffvvtP/q7+BJ/MRcgtFot\n",
              "qqqqsH79en9H+U/jIwRjdrggGLPDQybG7PARgjE7Xi2IzZs3Q6vVQiKR4McffxTae3t7odfrkZqa\n",
              "isWLF+PChQtu9THmdd78Gvybb74ho9FIGo2Gzp49K7QvW7aMGhsbiYiopaWFsrKy3OpjzNt8cg6h\n",
              "1Wpx6NAhZGZmwmw2Izk5GX/++SfCw8NBRIiNjUV3dzfkcvmMfcnJyd6OyZjvzyGMRiNiY2MRHv73\n",
              "XSMSiQQJCQkwGAyz9rlisVgwOjrq8Kqvr/fZZ2GhJ6hPqnfu3AmFQuHwam1t9XcsFsR8fnOfWq3G\n",
              "0NAQpqenhWGRwWBAQkIC5HL5jH2uvPLKKygvL3doq66udrmudmuHy/aBXSv/3QdiIcXnR4j58+fj\n",
              "3nvvxQcffAAAaGtrw8KFC5GcnDxrnytSqRRyudzhddttt/nss7DQ49UjRGlpKTo6OmAymbBixQrI\n",
              "ZDJcunQJ+/btQ0lJCerq6iCXy9HY2Ci8Z7Y+xrxNdEGcO3cO99xzzy3bAAh3P95Mp9Ohp6dHdB9j\n",
              "3iZ6yFRSUuJWG2PByO0jhNlshslkwsTEBM6fPy/8umpkZARXr171WkDGfMntgjh48CD27NmDwcFB\n",
              "rF69WmhXKBSoqKjwSjjGfM3tgigrK0NZWRm2b98+46VNxoKd6JPq6upq2Gw2mEwmTE9PC+0zfVfA\n",
              "WDARXRAHDhzApk2bMGfOHOGJDhKJxOkRJowFI9EFUVtbi9OnT8/4TB7Ggpnoy64qlYqLgYUs0QVR\n",
              "UFCAPXv2wGw2O9xlylgoED1kqqysBACUl5dDIpGAiCCRSPjR6ywkiC4Im83mjRyMBYSg/j0EY54m\n",
              "+ggRFhYGiUTi1M5DJhYKRBeE/SPcJyYm0NzczMXAQoboIVNERITwUqlUKC8v559tspDxr88hLl68\n",
              "iCtXrngiC2N+J3rIFBUVJZxD3LiX6a233vJsKsb8RHRB2D+BLzw8HDExMfw7ZhYyRBeERqPBtWvX\n",
              "hMKIiorCvHnzPJ2LMb8QXRAnTpxAUVERYmJiAADDw8Noa2tDTk6Ox8Mx5muiC+LGVaXc3FwAfxfI\n",
              "Sy+9hJMnT3o8HGO+Jvoq08TEhFAMAKDX6x0m9GMsmIkuiMjISHR2dgrLXV1dwhzGjAU70UOmN998\n",
              "E4WFhcKVJZvNho8//tjjwRjzB9EFMTg4iDNnzmB4eBgAsGDBApw6dcrjwRjzB9FDpurqakRHRyM9\n",
              "PR3p6elQqVT8FA4WMv71rRv84yAWSkQXhEwmw4kTJ4Tl7777DjKZzKOhGPMX0ecQu3fvxiOPPIJF\n",
              "ixYB+HuSxPb2do+G6u3txVNPPYUrV65AoVCgqakJaWlpHt0HY66ILoicnBz89NNPwhO69Xo9lEql\n",
              "R0OVlpZiw4YNKCkpQWtrK0pKSnD69GmP7oMxV/7ROURUVBTy8/ORn5/v8WIwm804c+YM1q1bBwAo\n",
              "KiqC0WjEpUuXPLofxlzx+ZRatzLbxIs3zyRksVhgsVgc2jx1gs9TcP03BVxBiLFz505s27bNoW3R\n",
              "okVO885ZrVbEnjqF7Oxsp1vVy8u7XG67cIZ9zrS+t1itVpyaIXsgC7TcGo0GZWVlt1zPJ/NUizHb\n",
              "PNbuHCGkUimkUqlD2+joKBQKBUZGRiCXy73+GTwpWLMHa+6AewyNmIkXXU26eHMxMCZGQA6ZeOJF\n",
              "5i8BWRA88SLzl4AbMnmDVCpFTU1NUA6ngjV7sOYOuJNqxvzpP3GEYMxdXBCM2eGCYMxOSBVEb28v\n",
              "9Ho9UlNTsXjxYly4cMHleg0NDUhJSUFSUhKeffZZTE1N+TipM3eyDwwMYOnSpVAoFMjMzPR9SBfc\n",
              "yX3s2DFkZ2fjrrvuQlpaGioqKgJ3nhEKIcuWLaPGxkYiImppaaGsrCyndfr7+yk2NpaGhobIZrPR\n",
              "qlWr6O233/ZxUmfuZP/jjz/o+PHjdOTIEcrIyPBtwBm4k/uHH36gvr4+IiKamJig3Nxc4T2BJmQK\n",
              "Ynh4mGQyGU1NTRERkc1mowULFlBvb6/Dert376bS0lJhuaOjg3Jzc32a9WbuZr/hq6++CoiCEJv7\n",
              "ho0bN1JNTY0PEooXMkOm2e6StWcwGKDRaIRlrVbrtI6vuZs90PyT3CaTCa2trXj44Yd9FVOUkCkI\n",
              "FvhGR0exatUqVFRUICsry99xXAqZglCr1RgaGhIe0U9EMBgMSEhIcFgvISEBv/zyi7A8MDDgtI6v\n",
              "uZs90IjJPTY2hry8PKxZs8bp9vxAEjIF4e5dskVFRfj0009hMplARHj33Xfx2GOP+SOyQMwdvoHE\n",
              "3dzj4+PIy8tDXl4eqqqq/BHVff49hfGsixcv0pIlSyglJYXuu+8+OnfuHBERPfPMM/TJJ58I6733\n",
              "3nuUmJhIiYmJ9PTTT9P169f9FVngTvarV69SfHw8qVQqmjNnDsXHx9PWrVv9Gdut3Dt27KDw8HDK\n",
              "yMgQXjt27PBn7BnxvUyM2QmZIRNjnsAFwZgdLgjG7HBBMGaHC4IxO1wQjNnhgmDMDhcEY3a4IBiz\n",
              "wwXBmB0uCMbs/A++8sgfzSmrqwAAAABJRU5ErkJggg==\n",
              "\">\n",
              "        \n",
              "      </div>\n",
              "      <script></script>\n",
              "      <script type=\"text/javascript\">\n",
              "        (() => {\n",
              "          const chartElement = document.getElementById(\"chart-09f46c37-686a-4821-b911-30f1991b37dd\");\n",
              "          async function getCodeForChartHandler(event) {\n",
              "            const chartCodeResponse =  await google.colab.kernel.invokeFunction(\n",
              "                'getCodeForChart', [\"chart-09f46c37-686a-4821-b911-30f1991b37dd\"], {});\n",
              "            const responseJson = chartCodeResponse.data['application/json'];\n",
              "            await google.colab.notebook.addCell(responseJson.code, 'code');\n",
              "          }\n",
              "          chartElement.onclick = getCodeForChartHandler;\n",
              "        })();\n",
              "      </script>\n",
              "      <style>\n",
              "        .colab-quickchart-chart-with-code  {\n",
              "            display: block;\n",
              "            float: left;\n",
              "            border: 1px solid transparent;\n",
              "        }\n",
              "\n",
              "        .colab-quickchart-chart-with-code:hover {\n",
              "            cursor: pointer;\n",
              "            border: 1px solid #aaa;\n",
              "        }\n",
              "      </style>"
            ]
          },
          "metadata": {}
        }
      ]
    },
    {
      "cell_type": "markdown",
      "source": [
        "# 3 year window model"
      ],
      "metadata": {
        "id": "s8YsjXSIZ_Nk"
      }
    },
    {
      "cell_type": "code",
      "source": [
        "train3y = train3year.persist()\n",
        "train3y.count()"
      ],
      "metadata": {
        "colab": {
          "base_uri": "https://localhost:8080/"
        },
        "id": "kHH8eff9abD1",
        "outputId": "6827cfa1-5d08-45d7-9f40-675d8ceaf2d3"
      },
      "execution_count": 114,
      "outputs": [
        {
          "output_type": "execute_result",
          "data": {
            "text/plain": [
              "2596449"
            ]
          },
          "metadata": {},
          "execution_count": 114
        }
      ]
    },
    {
      "cell_type": "code",
      "source": [
        "rf3 = RandomForestClassifier(featuresCol = 'features', labelCol = 'LatePmt2')\n",
        "rfModel3 = rf3.fit(train3y)\n",
        "predictions3 = rfModel3.transform(test2020)"
      ],
      "metadata": {
        "id": "dYmBtUCraGi9"
      },
      "execution_count": 116,
      "outputs": []
    },
    {
      "cell_type": "code",
      "source": [
        "actual3y = test2020.select(test2020.LatePmt2).toPandas()['LatePmt2']"
      ],
      "metadata": {
        "id": "ZG1uT0brajVh"
      },
      "execution_count": 117,
      "outputs": []
    },
    {
      "cell_type": "code",
      "source": [
        "element3y=f.udf(lambda v:float(v[1]),FloatType())\n",
        "nums3y = [0.2, 0.25, 0.3, 0.35, 0.4, 0.5]\n",
        "acc3y = []\n",
        "f13y = []\n",
        "rec3y = []\n",
        "prec3y = []\n",
        "for num3y in nums3y:\n",
        "  print(num3y)\n",
        "  predictions23y = predictions3.withColumn(\"prob_prediction\", when(element3y(\"probability\")>num3y, 1).otherwise(0))\n",
        "  pred3y = predictions23y.select(predictions23y.prob_prediction).toPandas()[\"prob_prediction\"]\n",
        "  pred3y = pred3y.tolist()\n",
        "  acc3y.append(accuracy_score(actual3y, pred3y))\n",
        "  f13y.append(f1_score(actual3y, pred3y))\n",
        "  rec3y.append(recall_score(actual3y, pred3y))\n",
        "  prec3y.append(precision_score(actual3y, pred3y))"
      ],
      "metadata": {
        "colab": {
          "base_uri": "https://localhost:8080/"
        },
        "id": "LyeabuqUal0H",
        "outputId": "cbc2e7d1-8bc6-4331-fc34-3403faa3719e"
      },
      "execution_count": 118,
      "outputs": [
        {
          "output_type": "stream",
          "name": "stdout",
          "text": [
            "0.2\n",
            "0.25\n",
            "0.3\n",
            "0.35\n",
            "0.4\n",
            "0.5\n"
          ]
        }
      ]
    },
    {
      "cell_type": "code",
      "source": [
        "res_df3y = pd.DataFrame(nums3y, columns=[\"Threshold\"])\n",
        "res_df3y[\"Acc\"] = acc3y\n",
        "res_df3y[\"F1\"] = f13y\n",
        "res_df3y[\"Rec\"] = rec3y\n",
        "res_df3y[\"Prec\"] = prec3y\n",
        "res_df3y"
      ],
      "metadata": {
        "colab": {
          "base_uri": "https://localhost:8080/",
          "height": 237
        },
        "id": "mxciAh3ibeOl",
        "outputId": "84bdbd97-1caf-47b9-8016-1c9b769e20c9"
      },
      "execution_count": 119,
      "outputs": [
        {
          "output_type": "execute_result",
          "data": {
            "text/plain": [
              "   Threshold       Acc        F1       Rec      Prec\n",
              "0       0.20  0.455980  0.354916  0.857654  0.223755\n",
              "1       0.25  0.825413  0.375327  0.300578  0.499560\n",
              "2       0.30  0.842983  0.241416  0.143185  0.768940\n",
              "3       0.35  0.843854  0.217515  0.124375  0.866119\n",
              "4       0.40  0.844471  0.199972  0.111395  0.976249\n",
              "5       0.50  0.837909  0.135162  0.072589  0.979631"
            ],
            "text/html": [
              "\n",
              "\n",
              "  <div id=\"df-026a14a7-1f2e-479e-b923-6c48df751daa\">\n",
              "    <div class=\"colab-df-container\">\n",
              "      <div>\n",
              "<style scoped>\n",
              "    .dataframe tbody tr th:only-of-type {\n",
              "        vertical-align: middle;\n",
              "    }\n",
              "\n",
              "    .dataframe tbody tr th {\n",
              "        vertical-align: top;\n",
              "    }\n",
              "\n",
              "    .dataframe thead th {\n",
              "        text-align: right;\n",
              "    }\n",
              "</style>\n",
              "<table border=\"1\" class=\"dataframe\">\n",
              "  <thead>\n",
              "    <tr style=\"text-align: right;\">\n",
              "      <th></th>\n",
              "      <th>Threshold</th>\n",
              "      <th>Acc</th>\n",
              "      <th>F1</th>\n",
              "      <th>Rec</th>\n",
              "      <th>Prec</th>\n",
              "    </tr>\n",
              "  </thead>\n",
              "  <tbody>\n",
              "    <tr>\n",
              "      <th>0</th>\n",
              "      <td>0.20</td>\n",
              "      <td>0.455980</td>\n",
              "      <td>0.354916</td>\n",
              "      <td>0.857654</td>\n",
              "      <td>0.223755</td>\n",
              "    </tr>\n",
              "    <tr>\n",
              "      <th>1</th>\n",
              "      <td>0.25</td>\n",
              "      <td>0.825413</td>\n",
              "      <td>0.375327</td>\n",
              "      <td>0.300578</td>\n",
              "      <td>0.499560</td>\n",
              "    </tr>\n",
              "    <tr>\n",
              "      <th>2</th>\n",
              "      <td>0.30</td>\n",
              "      <td>0.842983</td>\n",
              "      <td>0.241416</td>\n",
              "      <td>0.143185</td>\n",
              "      <td>0.768940</td>\n",
              "    </tr>\n",
              "    <tr>\n",
              "      <th>3</th>\n",
              "      <td>0.35</td>\n",
              "      <td>0.843854</td>\n",
              "      <td>0.217515</td>\n",
              "      <td>0.124375</td>\n",
              "      <td>0.866119</td>\n",
              "    </tr>\n",
              "    <tr>\n",
              "      <th>4</th>\n",
              "      <td>0.40</td>\n",
              "      <td>0.844471</td>\n",
              "      <td>0.199972</td>\n",
              "      <td>0.111395</td>\n",
              "      <td>0.976249</td>\n",
              "    </tr>\n",
              "    <tr>\n",
              "      <th>5</th>\n",
              "      <td>0.50</td>\n",
              "      <td>0.837909</td>\n",
              "      <td>0.135162</td>\n",
              "      <td>0.072589</td>\n",
              "      <td>0.979631</td>\n",
              "    </tr>\n",
              "  </tbody>\n",
              "</table>\n",
              "</div>\n",
              "      <button class=\"colab-df-convert\" onclick=\"convertToInteractive('df-026a14a7-1f2e-479e-b923-6c48df751daa')\"\n",
              "              title=\"Convert this dataframe to an interactive table.\"\n",
              "              style=\"display:none;\">\n",
              "\n",
              "  <svg xmlns=\"http://www.w3.org/2000/svg\" height=\"24px\"viewBox=\"0 0 24 24\"\n",
              "       width=\"24px\">\n",
              "    <path d=\"M0 0h24v24H0V0z\" fill=\"none\"/>\n",
              "    <path d=\"M18.56 5.44l.94 2.06.94-2.06 2.06-.94-2.06-.94-.94-2.06-.94 2.06-2.06.94zm-11 1L8.5 8.5l.94-2.06 2.06-.94-2.06-.94L8.5 2.5l-.94 2.06-2.06.94zm10 10l.94 2.06.94-2.06 2.06-.94-2.06-.94-.94-2.06-.94 2.06-2.06.94z\"/><path d=\"M17.41 7.96l-1.37-1.37c-.4-.4-.92-.59-1.43-.59-.52 0-1.04.2-1.43.59L10.3 9.45l-7.72 7.72c-.78.78-.78 2.05 0 2.83L4 21.41c.39.39.9.59 1.41.59.51 0 1.02-.2 1.41-.59l7.78-7.78 2.81-2.81c.8-.78.8-2.07 0-2.86zM5.41 20L4 18.59l7.72-7.72 1.47 1.35L5.41 20z\"/>\n",
              "  </svg>\n",
              "      </button>\n",
              "\n",
              "\n",
              "\n",
              "    <div id=\"df-424b279a-b600-4e3b-aaf2-eaefdf67561e\">\n",
              "      <button class=\"colab-df-quickchart\" onclick=\"quickchart('df-424b279a-b600-4e3b-aaf2-eaefdf67561e')\"\n",
              "              title=\"Suggest charts.\"\n",
              "              style=\"display:none;\">\n",
              "\n",
              "<svg xmlns=\"http://www.w3.org/2000/svg\" height=\"24px\"viewBox=\"0 0 24 24\"\n",
              "     width=\"24px\">\n",
              "    <g>\n",
              "        <path d=\"M19 3H5c-1.1 0-2 .9-2 2v14c0 1.1.9 2 2 2h14c1.1 0 2-.9 2-2V5c0-1.1-.9-2-2-2zM9 17H7v-7h2v7zm4 0h-2V7h2v10zm4 0h-2v-4h2v4z\"/>\n",
              "    </g>\n",
              "</svg>\n",
              "      </button>\n",
              "    </div>\n",
              "\n",
              "<style>\n",
              "  .colab-df-quickchart {\n",
              "    background-color: #E8F0FE;\n",
              "    border: none;\n",
              "    border-radius: 50%;\n",
              "    cursor: pointer;\n",
              "    display: none;\n",
              "    fill: #1967D2;\n",
              "    height: 32px;\n",
              "    padding: 0 0 0 0;\n",
              "    width: 32px;\n",
              "  }\n",
              "\n",
              "  .colab-df-quickchart:hover {\n",
              "    background-color: #E2EBFA;\n",
              "    box-shadow: 0px 1px 2px rgba(60, 64, 67, 0.3), 0px 1px 3px 1px rgba(60, 64, 67, 0.15);\n",
              "    fill: #174EA6;\n",
              "  }\n",
              "\n",
              "  [theme=dark] .colab-df-quickchart {\n",
              "    background-color: #3B4455;\n",
              "    fill: #D2E3FC;\n",
              "  }\n",
              "\n",
              "  [theme=dark] .colab-df-quickchart:hover {\n",
              "    background-color: #434B5C;\n",
              "    box-shadow: 0px 1px 3px 1px rgba(0, 0, 0, 0.15);\n",
              "    filter: drop-shadow(0px 1px 2px rgba(0, 0, 0, 0.3));\n",
              "    fill: #FFFFFF;\n",
              "  }\n",
              "</style>\n",
              "\n",
              "    <script>\n",
              "      async function quickchart(key) {\n",
              "        const containerElement = document.querySelector('#' + key);\n",
              "        const charts = await google.colab.kernel.invokeFunction(\n",
              "            'suggestCharts', [key], {});\n",
              "      }\n",
              "    </script>\n",
              "\n",
              "      <script>\n",
              "\n",
              "function displayQuickchartButton(domScope) {\n",
              "  let quickchartButtonEl =\n",
              "    domScope.querySelector('#df-424b279a-b600-4e3b-aaf2-eaefdf67561e button.colab-df-quickchart');\n",
              "  quickchartButtonEl.style.display =\n",
              "    google.colab.kernel.accessAllowed ? 'block' : 'none';\n",
              "}\n",
              "\n",
              "        displayQuickchartButton(document);\n",
              "      </script>\n",
              "      <style>\n",
              "    .colab-df-container {\n",
              "      display:flex;\n",
              "      flex-wrap:wrap;\n",
              "      gap: 12px;\n",
              "    }\n",
              "\n",
              "    .colab-df-convert {\n",
              "      background-color: #E8F0FE;\n",
              "      border: none;\n",
              "      border-radius: 50%;\n",
              "      cursor: pointer;\n",
              "      display: none;\n",
              "      fill: #1967D2;\n",
              "      height: 32px;\n",
              "      padding: 0 0 0 0;\n",
              "      width: 32px;\n",
              "    }\n",
              "\n",
              "    .colab-df-convert:hover {\n",
              "      background-color: #E2EBFA;\n",
              "      box-shadow: 0px 1px 2px rgba(60, 64, 67, 0.3), 0px 1px 3px 1px rgba(60, 64, 67, 0.15);\n",
              "      fill: #174EA6;\n",
              "    }\n",
              "\n",
              "    [theme=dark] .colab-df-convert {\n",
              "      background-color: #3B4455;\n",
              "      fill: #D2E3FC;\n",
              "    }\n",
              "\n",
              "    [theme=dark] .colab-df-convert:hover {\n",
              "      background-color: #434B5C;\n",
              "      box-shadow: 0px 1px 3px 1px rgba(0, 0, 0, 0.15);\n",
              "      filter: drop-shadow(0px 1px 2px rgba(0, 0, 0, 0.3));\n",
              "      fill: #FFFFFF;\n",
              "    }\n",
              "  </style>\n",
              "\n",
              "      <script>\n",
              "        const buttonEl =\n",
              "          document.querySelector('#df-026a14a7-1f2e-479e-b923-6c48df751daa button.colab-df-convert');\n",
              "        buttonEl.style.display =\n",
              "          google.colab.kernel.accessAllowed ? 'block' : 'none';\n",
              "\n",
              "        async function convertToInteractive(key) {\n",
              "          const element = document.querySelector('#df-026a14a7-1f2e-479e-b923-6c48df751daa');\n",
              "          const dataTable =\n",
              "            await google.colab.kernel.invokeFunction('convertToInteractive',\n",
              "                                                     [key], {});\n",
              "          if (!dataTable) return;\n",
              "\n",
              "          const docLinkHtml = 'Like what you see? Visit the ' +\n",
              "            '<a target=\"_blank\" href=https://colab.research.google.com/notebooks/data_table.ipynb>data table notebook</a>'\n",
              "            + ' to learn more about interactive tables.';\n",
              "          element.innerHTML = '';\n",
              "          dataTable['output_type'] = 'display_data';\n",
              "          await google.colab.output.renderOutput(dataTable, element);\n",
              "          const docLink = document.createElement('div');\n",
              "          docLink.innerHTML = docLinkHtml;\n",
              "          element.appendChild(docLink);\n",
              "        }\n",
              "      </script>\n",
              "    </div>\n",
              "  </div>\n"
            ]
          },
          "metadata": {},
          "execution_count": 119
        }
      ]
    },
    {
      "cell_type": "code",
      "source": [
        "cm3y = confusion_matrix(actual3y, pred3y)\n",
        "tn3y, fp3y, fn3y, tp3y = cm3y.ravel()"
      ],
      "metadata": {
        "id": "ju5-ndA9bOul"
      },
      "execution_count": 120,
      "outputs": []
    },
    {
      "cell_type": "code",
      "source": [
        "disp3y = ConfusionMatrixDisplay(confusion_matrix=cm3y)\n",
        "disp3y.plot()\n",
        "plt.show()"
      ],
      "metadata": {
        "colab": {
          "base_uri": "https://localhost:8080/",
          "height": 452
        },
        "id": "zi2aN_wVbTfu",
        "outputId": "1df7a878-3dae-4ea6-8759-b894c1ef4b49"
      },
      "execution_count": 121,
      "outputs": [
        {
          "output_type": "display_data",
          "data": {
            "text/plain": [
              "<Figure size 640x480 with 2 Axes>"
            ],
            "image/png": "[encoded data removed]"
          },
          "metadata": {}
        }
      ]
    },
    {
      "cell_type": "code",
      "source": [
        "feat_imp3y = rfModel3.featureImportances"
      ],
      "metadata": {
        "id": "wMAXcLiccGDM"
      },
      "execution_count": 122,
      "outputs": []
    },
    {
      "cell_type": "code",
      "source": [
        "feat_imp3y = [c for c in feat_imp3y]"
      ],
      "metadata": {
        "id": "XUlk-1oMcI3Z"
      },
      "execution_count": 123,
      "outputs": []
    },
    {
      "cell_type": "code",
      "source": [
        "features_imp_pd3y = (\n",
        "     pd.DataFrame(\n",
        "       rfModel3.featureImportances.toArray(),\n",
        "       index=features_list,\n",
        "       columns=['importance'])\n",
        ")"
      ],
      "metadata": {
        "id": "otpm7EF6cNMN"
      },
      "execution_count": 124,
      "outputs": []
    },
    {
      "cell_type": "code",
      "source": [
        "features_imp_pd3y.sort_values(by=['importance'],ascending=False)\n"
      ],
      "metadata": {
        "colab": {
          "base_uri": "https://localhost:8080/",
          "height": 2267
        },
        "id": "gkAdu14Phm6i",
        "outputId": "cf62fa5e-3d46-4864-da8b-1dbccf2bcdd7"
      },
      "execution_count": 125,
      "outputs": [
        {
          "output_type": "execute_result",
          "data": {
            "text/plain": [
              "                        importance\n",
              "PastTaxSaleStatus_N       0.260798\n",
              "LastPaymentSource1_801    0.127288\n",
              "PastTaxSaleStatus_Y       0.096366\n",
              "SeniorExempt_1            0.089392\n",
              "LastPaymentSource1_000    0.081735\n",
              "...                            ...\n",
              "SeniorFreezeExempt_2      0.000000\n",
              "SeniorExempt_2            0.000000\n",
              "ExemptStatus_2            0.000000\n",
              "HomeownerExempt_2         0.000000\n",
              "AreaFromPin_33            0.000000\n",
              "\n",
              "[111 rows x 1 columns]"
            ],
            "text/html": [
              "\n",
              "\n",
              "  <div id=\"df-e7d4e3fd-956d-485e-bea5-5f5acb1e266b\">\n",
              "    <div class=\"colab-df-container\">\n",
              "      <div>\n",
              "<style scoped>\n",
              "    .dataframe tbody tr th:only-of-type {\n",
              "        vertical-align: middle;\n",
              "    }\n",
              "\n",
              "    .dataframe tbody tr th {\n",
              "        vertical-align: top;\n",
              "    }\n",
              "\n",
              "    .dataframe thead th {\n",
              "        text-align: right;\n",
              "    }\n",
              "</style>\n",
              "<table border=\"1\" class=\"dataframe\">\n",
              "  <thead>\n",
              "    <tr style=\"text-align: right;\">\n",
              "      <th></th>\n",
              "      <th>importance</th>\n",
              "    </tr>\n",
              "  </thead>\n",
              "  <tbody>\n",
              "    <tr>\n",
              "      <th>PastTaxSaleStatus_N</th>\n",
              "      <td>0.260798</td>\n",
              "    </tr>\n",
              "    <tr>\n",
              "      <th>LastPaymentSource1_801</th>\n",
              "      <td>0.127288</td>\n",
              "    </tr>\n",
              "    <tr>\n",
              "      <th>PastTaxSaleStatus_Y</th>\n",
              "      <td>0.096366</td>\n",
              "    </tr>\n",
              "    <tr>\n",
              "      <th>SeniorExempt_1</th>\n",
              "      <td>0.089392</td>\n",
              "    </tr>\n",
              "    <tr>\n",
              "      <th>LastPaymentSource1_000</th>\n",
              "      <td>0.081735</td>\n",
              "    </tr>\n",
              "    <tr>\n",
              "      <th>...</th>\n",
              "      <td>...</td>\n",
              "    </tr>\n",
              "    <tr>\n",
              "      <th>SeniorFreezeExempt_2</th>\n",
              "      <td>0.000000</td>\n",
              "    </tr>\n",
              "    <tr>\n",
              "      <th>SeniorExempt_2</th>\n",
              "      <td>0.000000</td>\n",
              "    </tr>\n",
              "    <tr>\n",
              "      <th>ExemptStatus_2</th>\n",
              "      <td>0.000000</td>\n",
              "    </tr>\n",
              "    <tr>\n",
              "      <th>HomeownerExempt_2</th>\n",
              "      <td>0.000000</td>\n",
              "    </tr>\n",
              "    <tr>\n",
              "      <th>AreaFromPin_33</th>\n",
              "      <td>0.000000</td>\n",
              "    </tr>\n",
              "  </tbody>\n",
              "</table>\n",
              "<p>111 rows × 1 columns</p>\n",
              "</div>\n",
              "      <button class=\"colab-df-convert\" onclick=\"convertToInteractive('df-e7d4e3fd-956d-485e-bea5-5f5acb1e266b')\"\n",
              "              title=\"Convert this dataframe to an interactive table.\"\n",
              "              style=\"display:none;\">\n",
              "\n",
              "  <svg xmlns=\"http://www.w3.org/2000/svg\" height=\"24px\"viewBox=\"0 0 24 24\"\n",
              "       width=\"24px\">\n",
              "    <path d=\"M0 0h24v24H0V0z\" fill=\"none\"/>\n",
              "    <path d=\"M18.56 5.44l.94 2.06.94-2.06 2.06-.94-2.06-.94-.94-2.06-.94 2.06-2.06.94zm-11 1L8.5 8.5l.94-2.06 2.06-.94-2.06-.94L8.5 2.5l-.94 2.06-2.06.94zm10 10l.94 2.06.94-2.06 2.06-.94-2.06-.94-.94-2.06-.94 2.06-2.06.94z\"/><path d=\"M17.41 7.96l-1.37-1.37c-.4-.4-.92-.59-1.43-.59-.52 0-1.04.2-1.43.59L10.3 9.45l-7.72 7.72c-.78.78-.78 2.05 0 2.83L4 21.41c.39.39.9.59 1.41.59.51 0 1.02-.2 1.41-.59l7.78-7.78 2.81-2.81c.8-.78.8-2.07 0-2.86zM5.41 20L4 18.59l7.72-7.72 1.47 1.35L5.41 20z\"/>\n",
              "  </svg>\n",
              "      </button>\n",
              "\n",
              "\n",
              "\n",
              "    <div id=\"df-c549cc4a-1073-46a7-bf56-04f379daa472\">\n",
              "      <button class=\"colab-df-quickchart\" onclick=\"quickchart('df-c549cc4a-1073-46a7-bf56-04f379daa472')\"\n",
              "              title=\"Suggest charts.\"\n",
              "              style=\"display:none;\">\n",
              "\n",
              "<svg xmlns=\"http://www.w3.org/2000/svg\" height=\"24px\"viewBox=\"0 0 24 24\"\n",
              "     width=\"24px\">\n",
              "    <g>\n",
              "        <path d=\"M19 3H5c-1.1 0-2 .9-2 2v14c0 1.1.9 2 2 2h14c1.1 0 2-.9 2-2V5c0-1.1-.9-2-2-2zM9 17H7v-7h2v7zm4 0h-2V7h2v10zm4 0h-2v-4h2v4z\"/>\n",
              "    </g>\n",
              "</svg>\n",
              "      </button>\n",
              "    </div>\n",
              "\n",
              "<style>\n",
              "  .colab-df-quickchart {\n",
              "    background-color: #E8F0FE;\n",
              "    border: none;\n",
              "    border-radius: 50%;\n",
              "    cursor: pointer;\n",
              "    display: none;\n",
              "    fill: #1967D2;\n",
              "    height: 32px;\n",
              "    padding: 0 0 0 0;\n",
              "    width: 32px;\n",
              "  }\n",
              "\n",
              "  .colab-df-quickchart:hover {\n",
              "    background-color: #E2EBFA;\n",
              "    box-shadow: 0px 1px 2px rgba(60, 64, 67, 0.3), 0px 1px 3px 1px rgba(60, 64, 67, 0.15);\n",
              "    fill: #174EA6;\n",
              "  }\n",
              "\n",
              "  [theme=dark] .colab-df-quickchart {\n",
              "    background-color: #3B4455;\n",
              "    fill: #D2E3FC;\n",
              "  }\n",
              "\n",
              "  [theme=dark] .colab-df-quickchart:hover {\n",
              "    background-color: #434B5C;\n",
              "    box-shadow: 0px 1px 3px 1px rgba(0, 0, 0, 0.15);\n",
              "    filter: drop-shadow(0px 1px 2px rgba(0, 0, 0, 0.3));\n",
              "    fill: #FFFFFF;\n",
              "  }\n",
              "</style>\n",
              "\n",
              "    <script>\n",
              "      async function quickchart(key) {\n",
              "        const containerElement = document.querySelector('#' + key);\n",
              "        const charts = await google.colab.kernel.invokeFunction(\n",
              "            'suggestCharts', [key], {});\n",
              "      }\n",
              "    </script>\n",
              "\n",
              "      <script>\n",
              "\n",
              "function displayQuickchartButton(domScope) {\n",
              "  let quickchartButtonEl =\n",
              "    domScope.querySelector('#df-c549cc4a-1073-46a7-bf56-04f379daa472 button.colab-df-quickchart');\n",
              "  quickchartButtonEl.style.display =\n",
              "    google.colab.kernel.accessAllowed ? 'block' : 'none';\n",
              "}\n",
              "\n",
              "        displayQuickchartButton(document);\n",
              "      </script>\n",
              "      <style>\n",
              "    .colab-df-container {\n",
              "      display:flex;\n",
              "      flex-wrap:wrap;\n",
              "      gap: 12px;\n",
              "    }\n",
              "\n",
              "    .colab-df-convert {\n",
              "      background-color: #E8F0FE;\n",
              "      border: none;\n",
              "      border-radius: 50%;\n",
              "      cursor: pointer;\n",
              "      display: none;\n",
              "      fill: #1967D2;\n",
              "      height: 32px;\n",
              "      padding: 0 0 0 0;\n",
              "      width: 32px;\n",
              "    }\n",
              "\n",
              "    .colab-df-convert:hover {\n",
              "      background-color: #E2EBFA;\n",
              "      box-shadow: 0px 1px 2px rgba(60, 64, 67, 0.3), 0px 1px 3px 1px rgba(60, 64, 67, 0.15);\n",
              "      fill: #174EA6;\n",
              "    }\n",
              "\n",
              "    [theme=dark] .colab-df-convert {\n",
              "      background-color: #3B4455;\n",
              "      fill: #D2E3FC;\n",
              "    }\n",
              "\n",
              "    [theme=dark] .colab-df-convert:hover {\n",
              "      background-color: #434B5C;\n",
              "      box-shadow: 0px 1px 3px 1px rgba(0, 0, 0, 0.15);\n",
              "      filter: drop-shadow(0px 1px 2px rgba(0, 0, 0, 0.3));\n",
              "      fill: #FFFFFF;\n",
              "    }\n",
              "  </style>\n",
              "\n",
              "      <script>\n",
              "        const buttonEl =\n",
              "          document.querySelector('#df-e7d4e3fd-956d-485e-bea5-5f5acb1e266b button.colab-df-convert');\n",
              "        buttonEl.style.display =\n",
              "          google.colab.kernel.accessAllowed ? 'block' : 'none';\n",
              "\n",
              "        async function convertToInteractive(key) {\n",
              "          const element = document.querySelector('#df-e7d4e3fd-956d-485e-bea5-5f5acb1e266b');\n",
              "          const dataTable =\n",
              "            await google.colab.kernel.invokeFunction('convertToInteractive',\n",
              "                                                     [key], {});\n",
              "          if (!dataTable) return;\n",
              "\n",
              "          const docLinkHtml = 'Like what you see? Visit the ' +\n",
              "            '<a target=\"_blank\" href=https://colab.research.google.com/notebooks/data_table.ipynb>data table notebook</a>'\n",
              "            + ' to learn more about interactive tables.';\n",
              "          element.innerHTML = '';\n",
              "          dataTable['output_type'] = 'display_data';\n",
              "          await google.colab.output.renderOutput(dataTable, element);\n",
              "          const docLink = document.createElement('div');\n",
              "          docLink.innerHTML = docLinkHtml;\n",
              "          element.appendChild(docLink);\n",
              "        }\n",
              "      </script>\n",
              "    </div>\n",
              "  </div>\n"
            ]
          },
          "metadata": {},
          "execution_count": 125
        }
      ]
    }
  ]
}
