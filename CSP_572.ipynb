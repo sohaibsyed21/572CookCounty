{
  "nbformat": 4,
  "nbformat_minor": 0,
  "metadata": {
    "colab": {
      "provenance": []
    },
    "kernelspec": {
      "name": "python3",
      "display_name": "Python 3"
    },
    "language_info": {
      "name": "python"
    }
  },
  "cells": [
    {
      "cell_type": "code",
      "execution_count": 16,
      "metadata": {
        "colab": {
          "base_uri": "https://localhost:8080/"
        },
        "id": "FuRXIO8jTrbi",
        "outputId": "e836718a-cde5-4594-c2ad-59bf9c721fe9"
      },
      "outputs": [
        {
          "output_type": "stream",
          "name": "stdout",
          "text": [
            "Drive already mounted at /content/gdrive; to attempt to forcibly remount, call drive.mount(\"/content/gdrive\", force_remount=True).\n"
          ]
        }
      ],
      "source": [
        "# Mount to google drive where data is stored\n",
        "from google.colab import drive\n",
        "drive.mount('/content/gdrive')"
      ]
    },
    {
      "cell_type": "code",
      "source": [
        "# If you encounter any problems visit the apache.org link and ensure you have selected the right tgz file\n",
        "!apt-get install openjdk-8-jdk-headless -qq > /dev/null\n",
        "!wget -q https://www.apache.org/dist/spark/spark-3.2.4/spark-3.2.4-bin-hadoop2.7.tgz\n",
        "!tar xf spark-3.2.4-bin-hadoop2.7.tgz\n"
      ],
      "metadata": {
        "id": "zCPeiUI9AQtn",
        "colab": {
          "base_uri": "https://localhost:8080/"
        },
        "outputId": "0e3cfc48-cbf8-4009-d04b-479b6351912f"
      },
      "execution_count": 17,
      "outputs": [
        {
          "output_type": "stream",
          "name": "stdout",
          "text": [
            "shell-init: error retrieving current directory: getcwd: cannot access parent directories: Transport endpoint is not connected\n",
            "shell-init: error retrieving current directory: getcwd: cannot access parent directories: Transport endpoint is not connected\n",
            "pathconf: Transport endpoint is not connected\n",
            "pathconf: Transport endpoint is not connected\n",
            "shell-init: error retrieving current directory: getcwd: cannot access parent directories: Transport endpoint is not connected\n",
            "tar: spark-3.2.4-bin-hadoop2.7.tgz: Cannot open: Transport endpoint is not connected\n",
            "tar: Error is not recoverable: exiting now\n"
          ]
        }
      ]
    },
    {
      "cell_type": "code",
      "source": [
        "# Setting the appropriate paths for Spark\n",
        "import os\n",
        "os.environ[\"JAVA_HOME\"] = \"/usr/lib/jvm/java-8-openjdk-amd64\"\n",
        "os.environ[\"SPARK_HOME\"] = \"/content/spark-3.2.4-bin-hadoop2.7\"\n",
        "\n",
        "!pip install -q findspark\n",
        "import findspark\n",
        "findspark.init()"
      ],
      "metadata": {
        "id": "_EbDt5I71w23"
      },
      "execution_count": null,
      "outputs": []
    },
    {
      "cell_type": "code",
      "source": [
        "# Import libraries\n",
        "from pyspark.sql.functions import *\n",
        "from pyspark.sql import SparkSession\n",
        "from pyspark.sql.functions import col, lit, to_timestamp\n",
        "from pyspark.sql import Window\n",
        "import pyspark.sql.functions as f\n",
        "from pyspark.sql.types import StringType\n",
        "import pandas as pd"
      ],
      "metadata": {
        "id": "msPS2l2x4C7N"
      },
      "execution_count": 19,
      "outputs": []
    },
    {
      "cell_type": "code",
      "source": [
        "# Change directory\n",
        "import os\n",
        "os.chdir(\"/content/gdrive/MyDrive/CSP 572/\")"
      ],
      "metadata": {
        "id": "gPEJS7FD4HH0"
      },
      "execution_count": 20,
      "outputs": []
    },
    {
      "cell_type": "code",
      "source": [
        "# Create a spark session\n",
        "spark = SparkSession.builder\\\n",
        "        .master(\"local\")\\\n",
        "        .appName(\"Colab\")\\\n",
        "        .config('spark.ui.port', '4050')\\\n",
        "        .getOrCreate()\n"
      ],
      "metadata": {
        "id": "ib2wLRBD4J1w"
      },
      "execution_count": 21,
      "outputs": []
    },
    {
      "cell_type": "code",
      "source": [
        "# Read 2022 data\n",
        "data = spark.read.csv(\"2022.rpt\", header=None, sep=\"|\")"
      ],
      "metadata": {
        "id": "9VYaBrvX4RFc"
      },
      "execution_count": 22,
      "outputs": []
    },
    {
      "cell_type": "code",
      "source": [
        "# Read the header file\n",
        "header = pd.read_csv(\"Header.rpt\", sep=\"|\")\n",
        "cols = header.columns\n",
        "data = data.toDF(*cols)\n"
      ],
      "metadata": {
        "id": "HVR-a9Em84jH"
      },
      "execution_count": 23,
      "outputs": []
    },
    {
      "cell_type": "code",
      "source": [
        "# Read all other data files\n",
        "data_2021 = spark.read.csv(\"2021.rpt\", header=None, sep=\"|\")\n",
        "data_2020 = spark.read.csv(\"2020.rpt\", header=None, sep=\"|\")\n",
        "data_2019 = spark.read.csv(\"2019.rpt\", header=None, sep=\"|\")\n",
        "data_2018 = spark.read.csv(\"2018.rpt\", header=None, sep=\"|\")\n",
        "data_2017 = spark.read.csv(\"2017.rpt\", header=None, sep=\"|\")"
      ],
      "metadata": {
        "id": "xZLp4QWi4weP"
      },
      "execution_count": 24,
      "outputs": []
    },
    {
      "cell_type": "code",
      "source": [
        "# Combine all data\n",
        "data = data.union(data_2021)\n",
        "data = data.union(data_2020)\n",
        "data = data.union(data_2019)\n",
        "data = data.union(data_2018)\n",
        "data = data.union(data_2017)"
      ],
      "metadata": {
        "id": "fXy29qJa5EWo"
      },
      "execution_count": 25,
      "outputs": []
    },
    {
      "cell_type": "code",
      "source": [
        "# Numeric columns list - add to this as you see fit\n",
        "numeric_cols = [\"AdjustedAmountDue1\", \"TaxAmountDue1\", \"InterestAmountDue1\", \"CostAmountDue1\", \"TotalAmountDue1\", \"OriginalTaxDue2\",\n",
        "        \"AdjustedTaxDue2\", \"TaxAmountDue2\", \"InterestAmountDue2\", \"CostAmountDue2\", \"TotalAmountDue2\", \"AssessedValuation\",\n",
        "        \"EqualizedEvaluation\", \"TaxRate\", \"LastPaymentReceivedAmount1\", \"LastPaymentReceivedAmount2\"\n",
        "        ] + list(data.columns)[70:80]"
      ],
      "metadata": {
        "id": "LSDbhNsZ81CN"
      },
      "execution_count": 52,
      "outputs": []
    },
    {
      "cell_type": "code",
      "source": [
        "# Convert to numeric columns\n",
        "for col_name in numeric_cols:\n",
        "    data = data.withColumn(col_name, col(col_name).cast('float'))"
      ],
      "metadata": {
        "id": "DShj7KV56qi2"
      },
      "execution_count": 53,
      "outputs": []
    },
    {
      "cell_type": "code",
      "source": [
        "# Persist data in disk/memory\n",
        "# Until this point Spark does not actually execute any of the above statements (Lazy loading). It only creates a plan\n",
        "# Persist does not get executed until an 'action' command is called on the dataframe\n",
        "data1 = data.persist()"
      ],
      "metadata": {
        "id": "GZpf0TBf95Kc"
      },
      "execution_count": 54,
      "outputs": []
    },
    {
      "cell_type": "code",
      "source": [
        "# The below action with persist called above will ensure that all the steps until data.persist() is run and stored in memory/disk\n",
        "# Only the first run takes approx 10 mins. If you run it again, it will only take 3 secs as the data is now stored in memory/disk\n",
        "# It helps in using the modified dataframe directly\n",
        "# If you do not persist, Spark is going to run all the steps right from read_csv whenever you call an action\n",
        "print([data1.count(), len(data1.columns)])"
      ],
      "metadata": {
        "colab": {
          "base_uri": "https://localhost:8080/"
        },
        "id": "88QBnsW84a7y",
        "outputId": "16cb6542-778f-4cde-9f92-1e8ceab460f8"
      },
      "execution_count": 57,
      "outputs": [
        {
          "output_type": "stream",
          "name": "stdout",
          "text": [
            "[11191850, 81]\n"
          ]
        }
      ]
    },
    {
      "cell_type": "code",
      "source": [
        "data1.dtypes"
      ],
      "metadata": {
        "id": "JzipvIdk_rgK"
      },
      "execution_count": null,
      "outputs": []
    },
    {
      "cell_type": "code",
      "source": [
        "tot = data1.count()"
      ],
      "metadata": {
        "id": "z3ZJW88uGszN"
      },
      "execution_count": null,
      "outputs": []
    },
    {
      "cell_type": "code",
      "source": [
        "var = \"PastTaxSaleStatus\"\n",
        "data1.groupBy(var).agg(count(var), count(var)/tot).show()"
      ],
      "metadata": {
        "colab": {
          "base_uri": "https://localhost:8080/"
        },
        "id": "kqUkJeCx5-Re",
        "outputId": "8157752e-9843-4fab-95c8-b92aa11d1185"
      },
      "execution_count": 44,
      "outputs": [
        {
          "output_type": "stream",
          "name": "stdout",
          "text": [
            "+-----------------+------------------------+-------------------------------------+\n",
            "|PastTaxSaleStatus|count(PastTaxSaleStatus)|(count(PastTaxSaleStatus) / 11191850)|\n",
            "+-----------------+------------------------+-------------------------------------+\n",
            "|                Y|                  272729|                  0.02436853603291681|\n",
            "|                N|                10919119|                   0.9756312852656174|\n",
            "|             null|                       0|                                  0.0|\n",
            "+-----------------+------------------------+-------------------------------------+\n",
            "\n"
          ]
        }
      ]
    },
    {
      "cell_type": "code",
      "source": [
        "cols = list(data1.columns)[60:81]\n",
        "data1.where(data1.AdjustedAmountDue1>0).select(*cols).show()"
      ],
      "metadata": {
        "colab": {
          "base_uri": "https://localhost:8080/"
        },
        "id": "VV3Krby46j37",
        "outputId": "58c87cff-23ee-4406-bef6-46e396654536"
      },
      "execution_count": 50,
      "outputs": [
        {
          "output_type": "stream",
          "name": "stdout",
          "text": [
            "+-----------+------------------+--------------------------+-----------------+------------+--------------+------------+--------------------------+--------------------------+---------+----------------+---------------------------+-----------------------------+--------------------------+--------------------------------+---------------------+------------------+------------------------+------------------------------+-------------+----------------------+\n",
            "|RecordCount|CondemnationStatus|MunicipalAcquisitionStatus|AcquisitionStatus|ExemptStatus|BankruptStatus|RefundStatus|LastPaymentReceivedAmount1|LastPaymentReceivedAmount2|EndMarker|TaxDueEstimated1|ReturningVetExemptionAmount|DisabledPersonExemptionAmount|DisabledVetExemptionAmount|DisabledPersonVetExemptionAmount|HomeownerExemptAmount|SeniorExemptAmount|SeniorFreezeExemptAmount|LongtimeHomeownersExemptAmount|VeteranExempt|AdjustedAmountDue1_Org|\n",
            "+-----------+------------------+--------------------------+-----------------+------------+--------------+------------+--------------------------+--------------------------+---------+----------------+---------------------------+-----------------------------+--------------------------+--------------------------------+---------------------+------------------+------------------------+------------------------------+-------------+----------------------+\n",
            "|  000133551|                 0|                         0|                0|           0|             0|           0|               00000578166|               00000000000|        X|     00000578166|                       0.00|                         0.00|                      0.00|                            0.00|                 0.00|              0.00|                    0.00|                          0.00|            0|           00000578166|\n",
            "|  000133552|                 0|                         0|                0|           0|             0|           0|               00000632322|               00000000000|        X|     00000632322|                       0.00|                         0.00|                      0.00|                            0.00|                 0.00|              0.00|                    0.00|                          0.00|            0|           00000632322|\n",
            "|  000133553|                 0|                         0|                0|           0|             0|           0|               00000632294|               00000000000|        X|     00000632294|                       0.00|                         0.00|                      0.00|                            0.00|                 0.00|              0.00|                    0.00|                          0.00|            0|           00000632294|\n",
            "|  000133554|                 0|                         0|                0|           0|             0|           0|               00000669760|               00000000000|        X|     00000669760|                       0.00|                         0.00|                      0.00|                            0.00|                 0.00|              0.00|                    0.00|                          0.00|            0|           00000669760|\n",
            "|  000133555|                 0|                         0|                0|           0|             0|           0|               00000727618|               00000000000|        X|     00000727618|                       0.00|                         0.00|                      0.00|                            0.00|                 0.00|              0.00|                    0.00|                          0.00|            0|           00000727618|\n",
            "|  000133556|                 0|                         0|                0|           0|             0|           0|               00000714383|               00000000000|        X|     00000714383|                       0.00|                         0.00|                      0.00|                            0.00|                 0.00|              0.00|                    0.00|                          0.00|            0|           00000714383|\n",
            "|  000133557|                 0|                         0|                0|           0|             0|           0|               00000616831|               00000000000|        X|     00000616831|                       0.00|                         0.00|                      0.00|                            0.00|                 0.00|              0.00|                    0.00|                          0.00|            0|           00000616831|\n",
            "|  000133558|                 0|                         0|                0|           0|             0|           0|               00000580359|               00000000000|        X|     00000580359|                       0.00|                         0.00|                      0.00|                            0.00|                 0.00|              0.00|                    0.00|                          0.00|            0|           00000580359|\n",
            "|  000133559|                 0|                         0|                0|           0|             0|           0|               00000646765|               00000000000|        X|     00000646765|                       0.00|                         0.00|                      0.00|                            0.00|                 0.00|              0.00|                    0.00|                          0.00|            0|           00000646765|\n",
            "|  000453061|                 0|                         0|                0|           0|             0|           0|               00000335634|               00000000000|        X|     00000335634|                       0.00|                         0.00|                      0.00|                            0.00|                 0.00|              0.00|                    0.00|                          0.00|            0|           00000335634|\n",
            "|  000453062|                 0|                         0|                0|           0|             0|           0|               00000320764|               00000000000|        X|     00000320764|                       0.00|                         0.00|                      0.00|                            0.00|                 0.00|              0.00|                    0.00|                          0.00|            0|           00000320764|\n",
            "|  000453063|                 0|                         0|                0|           0|             0|           0|               00000264604|               00000000000|        X|     00000264604|                       0.00|                         0.00|                      0.00|                            0.00|                 0.00|              0.00|                    0.00|                          0.00|            0|           00000264604|\n",
            "|  000453064|                 0|                         0|                0|           0|             0|           0|               00000206791|               00000000000|        X|     00000206791|                       0.00|                         0.00|                      0.00|                            0.00|                 0.00|              0.00|                    0.00|                          0.00|            0|           00000206791|\n",
            "|  000453065|                 0|                         0|                0|           0|             0|           0|               00000416627|               00000000000|        X|     00000416627|                       0.00|                         0.00|                      0.00|                            0.00|                 0.00|              0.00|                    0.00|                          0.00|            0|           00000416627|\n",
            "|  000453066|                 0|                         0|                0|           0|             0|           0|               00000331884|               00000000000|        X|     00000331884|                       0.00|                         0.00|                      0.00|                            0.00|                 0.00|              0.00|                    0.00|                          0.00|            0|           00000331884|\n",
            "|  000453067|                 0|                         0|                0|           0|             0|           0|               00000309707|               00000000000|        X|     00000309707|                       0.00|                         0.00|                      0.00|                            0.00|                 0.00|              0.00|                    0.00|                          0.00|            0|           00000309707|\n",
            "|  000453068|                 0|                         0|                0|           0|             0|           0|               00000527227|               00000000000|        X|     00000527227|                       0.00|                         0.00|                      0.00|                            0.00|                 0.00|              0.00|                    0.00|                          0.00|            0|           00000527227|\n",
            "|  000453069|                 0|                         0|                0|           0|             0|           0|               00000696779|               00000000000|        X|     00000696779|                       0.00|                         0.00|                      0.00|                            0.00|                 0.00|              0.00|                    0.00|                          0.00|            0|           00000696779|\n",
            "|  000452005|                 0|                         0|                0|           0|             0|           0|               00000071881|               00000000000|        X|     00000071881|                       0.00|                         0.00|                      0.00|                            0.00|                 0.00|              0.00|                    0.00|                          0.00|            0|           00000071881|\n",
            "|  000452006|                 0|                         0|                0|           0|             0|           0|               00000000000|               00000000000|        X|     00000071881|                       0.00|                         0.00|                      0.00|                            0.00|                 0.00|              0.00|                    0.00|                          0.00|            0|           00000071881|\n",
            "+-----------+------------------+--------------------------+-----------------+------------+--------------+------------+--------------------------+--------------------------+---------+----------------+---------------------------+-----------------------------+--------------------------+--------------------------------+---------------------+------------------+------------------------+------------------------------+-------------+----------------------+\n",
            "only showing top 20 rows\n",
            "\n"
          ]
        }
      ]
    },
    {
      "cell_type": "code",
      "source": [
        "var = \"TaxType\"\n",
        "data.groupby(var)[\"SegmentCode\"].count().reset_index().sort_values(\"SegmentCode\", ascending=False)#.head(50)\n"
      ],
      "metadata": {
        "colab": {
          "base_uri": "https://localhost:8080/",
          "height": 112
        },
        "id": "vTjK4kQB9kLO",
        "outputId": "fac0ac0e-92ea-4b57-d2d6-3149bff24538"
      },
      "execution_count": null,
      "outputs": [
        {
          "output_type": "execute_result",
          "data": {
            "text/plain": [
              "   TaxType  SegmentCode\n",
              "0        0      1864306\n",
              "1        1         2042"
            ],
            "text/html": [
              "\n",
              "  <div id=\"df-4f3b4bea-b234-4859-9aaf-6ea405152146\">\n",
              "    <div class=\"colab-df-container\">\n",
              "      <div>\n",
              "<style scoped>\n",
              "    .dataframe tbody tr th:only-of-type {\n",
              "        vertical-align: middle;\n",
              "    }\n",
              "\n",
              "    .dataframe tbody tr th {\n",
              "        vertical-align: top;\n",
              "    }\n",
              "\n",
              "    .dataframe thead th {\n",
              "        text-align: right;\n",
              "    }\n",
              "</style>\n",
              "<table border=\"1\" class=\"dataframe\">\n",
              "  <thead>\n",
              "    <tr style=\"text-align: right;\">\n",
              "      <th></th>\n",
              "      <th>TaxType</th>\n",
              "      <th>SegmentCode</th>\n",
              "    </tr>\n",
              "  </thead>\n",
              "  <tbody>\n",
              "    <tr>\n",
              "      <th>0</th>\n",
              "      <td>0</td>\n",
              "      <td>1864306</td>\n",
              "    </tr>\n",
              "    <tr>\n",
              "      <th>1</th>\n",
              "      <td>1</td>\n",
              "      <td>2042</td>\n",
              "    </tr>\n",
              "  </tbody>\n",
              "</table>\n",
              "</div>\n",
              "      <button class=\"colab-df-convert\" onclick=\"convertToInteractive('df-4f3b4bea-b234-4859-9aaf-6ea405152146')\"\n",
              "              title=\"Convert this dataframe to an interactive table.\"\n",
              "              style=\"display:none;\">\n",
              "        \n",
              "  <svg xmlns=\"http://www.w3.org/2000/svg\" height=\"24px\"viewBox=\"0 0 24 24\"\n",
              "       width=\"24px\">\n",
              "    <path d=\"M0 0h24v24H0V0z\" fill=\"none\"/>\n",
              "    <path d=\"M18.56 5.44l.94 2.06.94-2.06 2.06-.94-2.06-.94-.94-2.06-.94 2.06-2.06.94zm-11 1L8.5 8.5l.94-2.06 2.06-.94-2.06-.94L8.5 2.5l-.94 2.06-2.06.94zm10 10l.94 2.06.94-2.06 2.06-.94-2.06-.94-.94-2.06-.94 2.06-2.06.94z\"/><path d=\"M17.41 7.96l-1.37-1.37c-.4-.4-.92-.59-1.43-.59-.52 0-1.04.2-1.43.59L10.3 9.45l-7.72 7.72c-.78.78-.78 2.05 0 2.83L4 21.41c.39.39.9.59 1.41.59.51 0 1.02-.2 1.41-.59l7.78-7.78 2.81-2.81c.8-.78.8-2.07 0-2.86zM5.41 20L4 18.59l7.72-7.72 1.47 1.35L5.41 20z\"/>\n",
              "  </svg>\n",
              "      </button>\n",
              "      \n",
              "  <style>\n",
              "    .colab-df-container {\n",
              "      display:flex;\n",
              "      flex-wrap:wrap;\n",
              "      gap: 12px;\n",
              "    }\n",
              "\n",
              "    .colab-df-convert {\n",
              "      background-color: #E8F0FE;\n",
              "      border: none;\n",
              "      border-radius: 50%;\n",
              "      cursor: pointer;\n",
              "      display: none;\n",
              "      fill: #1967D2;\n",
              "      height: 32px;\n",
              "      padding: 0 0 0 0;\n",
              "      width: 32px;\n",
              "    }\n",
              "\n",
              "    .colab-df-convert:hover {\n",
              "      background-color: #E2EBFA;\n",
              "      box-shadow: 0px 1px 2px rgba(60, 64, 67, 0.3), 0px 1px 3px 1px rgba(60, 64, 67, 0.15);\n",
              "      fill: #174EA6;\n",
              "    }\n",
              "\n",
              "    [theme=dark] .colab-df-convert {\n",
              "      background-color: #3B4455;\n",
              "      fill: #D2E3FC;\n",
              "    }\n",
              "\n",
              "    [theme=dark] .colab-df-convert:hover {\n",
              "      background-color: #434B5C;\n",
              "      box-shadow: 0px 1px 3px 1px rgba(0, 0, 0, 0.15);\n",
              "      filter: drop-shadow(0px 1px 2px rgba(0, 0, 0, 0.3));\n",
              "      fill: #FFFFFF;\n",
              "    }\n",
              "  </style>\n",
              "\n",
              "      <script>\n",
              "        const buttonEl =\n",
              "          document.querySelector('#df-4f3b4bea-b234-4859-9aaf-6ea405152146 button.colab-df-convert');\n",
              "        buttonEl.style.display =\n",
              "          google.colab.kernel.accessAllowed ? 'block' : 'none';\n",
              "\n",
              "        async function convertToInteractive(key) {\n",
              "          const element = document.querySelector('#df-4f3b4bea-b234-4859-9aaf-6ea405152146');\n",
              "          const dataTable =\n",
              "            await google.colab.kernel.invokeFunction('convertToInteractive',\n",
              "                                                     [key], {});\n",
              "          if (!dataTable) return;\n",
              "\n",
              "          const docLinkHtml = 'Like what you see? Visit the ' +\n",
              "            '<a target=\"_blank\" href=https://colab.research.google.com/notebooks/data_table.ipynb>data table notebook</a>'\n",
              "            + ' to learn more about interactive tables.';\n",
              "          element.innerHTML = '';\n",
              "          dataTable['output_type'] = 'display_data';\n",
              "          await google.colab.output.renderOutput(dataTable, element);\n",
              "          const docLink = document.createElement('div');\n",
              "          docLink.innerHTML = docLinkHtml;\n",
              "          element.appendChild(docLink);\n",
              "        }\n",
              "      </script>\n",
              "    </div>\n",
              "  </div>\n",
              "  "
            ]
          },
          "metadata": {},
          "execution_count": 18
        }
      ]
    },
    {
      "cell_type": "code",
      "source": [
        "\n",
        "90000/data.shape[0]"
      ],
      "metadata": {
        "colab": {
          "base_uri": "https://localhost:8080/"
        },
        "id": "GUm56bnbKdGE",
        "outputId": "1d239dbd-e290-44d5-be89-962d4e7fa9cc"
      },
      "execution_count": null,
      "outputs": [
        {
          "output_type": "execute_result",
          "data": {
            "text/plain": [
              "0.04822251798699921"
            ]
          },
          "metadata": {},
          "execution_count": 45
        }
      ]
    },
    {
      "cell_type": "code",
      "source": [
        "len(data1.columns)"
      ],
      "metadata": {
        "colab": {
          "base_uri": "https://localhost:8080/"
        },
        "id": "f3wf5hIW8Kij",
        "outputId": "38833518-f50e-4d44-fb29-08ee5a8f918d"
      },
      "execution_count": 43,
      "outputs": [
        {
          "output_type": "execute_result",
          "data": {
            "text/plain": [
              "81"
            ]
          },
          "metadata": {},
          "execution_count": 43
        }
      ]
    }
  ]
}