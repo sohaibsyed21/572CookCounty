{
 "cells": [
  {
   "cell_type": "code",
   "execution_count": 1,
   "metadata": {},
   "outputs": [],
   "source": [
    "import pandas as pd\n",
    "import time\n",
    "start = time.time()"
   ]
  },
  {
   "cell_type": "code",
   "execution_count": 2,
   "metadata": {},
   "outputs": [
    {
     "name": "stderr",
     "output_type": "stream",
     "text": [
      "/usr/local/lib/python2.7/site-packages/IPython/core/interactiveshell.py:2714: DtypeWarning: Columns (9) have mixed types. Specify dtype option on import or set low_memory=False.\n",
      "  interactivity=interactivity, compiler=compiler, result=result)\n",
      "Skipping line 1528882: expected 81 fields, saw 83\n",
      "\n",
      "/usr/local/lib/python2.7/site-packages/IPython/core/interactiveshell.py:2714: DtypeWarning: Columns (9,21,25,31,44,67) have mixed types. Specify dtype option on import or set low_memory=False.\n",
      "  interactivity=interactivity, compiler=compiler, result=result)\n"
     ]
    }
   ],
   "source": [
    "df17 = pd.read_csv('/Users/harrisonchen/Desktop/CCTO Property/2017.rpt',sep='|',header=None,dtype = {8: str, 15: str, 41: str,54:str},error_bad_lines=False)\n",
    "df18 = pd.read_csv('/Users/harrisonchen/Desktop/CCTO Property/2018.rpt',sep='|',header=None,dtype = {8: str, 15: str, 41: str,54:str},error_bad_lines=False)\n",
    "df19 = pd.read_csv('/Users/harrisonchen/Desktop/CCTO Property/2019.rpt',sep='|',header=None,dtype = {8: str, 15: str, 41: str,54:str},error_bad_lines=False)\n",
    "df20 = pd.read_csv('/Users/harrisonchen/Desktop/CCTO Property/2020.rpt',sep='|',header=None,dtype = {8: str, 15: str, 41: str,54:str},error_bad_lines=False)\n",
    "df21 = pd.read_csv('/Users/harrisonchen/Desktop/CCTO Property/2021.rpt',sep='|',header=None,dtype = {8: str, 15: str, 41: str,54:str},error_bad_lines=False)\n",
    "df22 = pd.read_csv('/Users/harrisonchen/Desktop/CCTO Property/2022.rpt',sep='|',header=None,dtype = {8: str, 15: str, 41: str,54:str},error_bad_lines=False)"
   ]
  },
  {
   "cell_type": "code",
   "execution_count": 3,
   "metadata": {},
   "outputs": [],
   "source": [
    "#df17 = pd.read_csv('C:/CookCountyTreasurer/2017.rpt',sep='|',header=None,dtype = {8: str, 15: str, 41: str,54:str})\n",
    "#df18 = pd.read_csv('C:/CookCountyTreasurer/2018.rpt',sep='|',header=None,dtype = {8: str, 15: str, 41: str,54:str})\n",
    "#df19 = pd.read_csv('C:/CookCountyTreasurer/2019.rpt',sep='|',header=None,dtype = {8: str, 15: str, 41: str,54:str})\n",
    "#df20 = pd.read_csv('C:/CookCountyTreasurer/2020.rpt',sep='|',header=None,dtype = {8: str, 15: str, 41: str,54:str})\n",
    "#df21 = pd.read_csv('C:/CookCountyTreasurer/2021.rpt',sep='|',header=None,dtype = {8: str, 15: str, 41: str,54:str})\n",
    "#df22 = pd.read_csv('C:/CookCountyTreasurer/2022.rpt',sep='|',header=None,dtype = {8: str, 15: str, 41: str,54:str})\n",
    "#for windows"
   ]
  },
  {
   "cell_type": "code",
   "execution_count": 4,
   "metadata": {},
   "outputs": [],
   "source": [
    "header = pd.read_csv('/Users/harrisonchen/Desktop/CCTO Property/Header.rpt', sep='|', header=None)\n",
    "head = header.iloc[0].to_list()\n",
    "df17.columns = head\n",
    "df18.columns = head\n",
    "df19.columns = head\n",
    "df20.columns = head\n",
    "df21.columns = head\n",
    "df22.columns = head"
   ]
  },
  {
   "cell_type": "code",
   "execution_count": 5,
   "metadata": {
    "scrolled": false
   },
   "outputs": [],
   "source": [
    "df19 = df19.iloc[:-2 , :]\n",
    "#getting rid of the last 2 rows of 2019.rpt, they are error data"
   ]
  },
  {
   "cell_type": "code",
   "execution_count": 6,
   "metadata": {},
   "outputs": [
    {
     "data": {
      "text/plain": [
       "array(['SegmentCode', 'PIN', 'Volume', 'Classification', 'TaxpayerName',\n",
       "       'TaxpayerMailingAddress', 'TaxpayerMailingCity',\n",
       "       'TaxpayerMailingState', 'TaxpayerMailingZip',\n",
       "       'TaxpayerPropertyHouse', 'TaxpayerPropertyDirection',\n",
       "       'TaxpayerPropertyStreet', 'TaxpayerPropertySuffix',\n",
       "       'TaxpayerPropertyCity', 'TaxpayerPropertyState',\n",
       "       'TaxpayerPropertyZip', 'TaxpayerPropertyTown', 'TaxCode',\n",
       "       'TaxStatus', 'HomeownerExempt', 'SeniorExempt',\n",
       "       'SeniorFreezeExempt', 'LongtimeHomeownersExempt', 'TaxInfoType',\n",
       "       'TaxType', 'TaxYear', 'BillYear', 'AccountStatus', 'BillType',\n",
       "       'SegmentCode2', 'InstallmentNumber1', 'AdjustedAmountDue1',\n",
       "       'TaxAmountDue1', 'RefundTaxAmountDueIndicator1',\n",
       "       'InterestAmountDue1', 'RefundInterestDueIndicator1',\n",
       "       'CostAmountDue1', 'RefundCostDueIndicator1', 'TotalAmountDue1',\n",
       "       'RefundTotalDueIndicator1', 'LastPaymentDate1',\n",
       "       'LastPaymentSource1', 'InstallmentNumber2', 'OriginalTaxDue2',\n",
       "       'AdjustedTaxDue2', 'TaxAmountDue2', 'RefundTaxAmountDueIndicator2',\n",
       "       'InterestAmountDue2', 'RefundInterestDueIndicator2',\n",
       "       'CostAmountDue2', 'RefundCostDueIndicator2', 'TotalAmountDue2',\n",
       "       'RefundTaxDueIndicator2', 'LastPaymentDate2', 'LastPaymentSource2',\n",
       "       'CofENumber', 'PastTaxSaleStatus', 'AssessedValuation',\n",
       "       'EqualizedEvaluation', 'TaxRate', 'RecordCount',\n",
       "       'CondemnationStatus', 'MunicipalAcquisitionStatus',\n",
       "       'AcquisitionStatus', 'ExemptStatus', 'BankruptStatus',\n",
       "       'RefundStatus', 'LastPaymentReceivedAmount1',\n",
       "       'LastPaymentReceivedAmount2', 'EndMarker', 'TaxDueEstimated1',\n",
       "       'ReturningVetExemptionAmount', 'DisabledPersonExemptionAmount',\n",
       "       'DisabledVetExemptionAmount', 'DisabledPersonVetExemptionAmount',\n",
       "       'HomeownerExemptAmount', 'SeniorExemptAmount',\n",
       "       'SeniorFreezeExemptAmount', 'LongtimeHomeownersExemptAmount',\n",
       "       'VeteranExempt', 'AdjustedAmountDue1_Org'], dtype=object)"
      ]
     },
     "execution_count": 6,
     "metadata": {},
     "output_type": "execute_result"
    }
   ],
   "source": [
    "df17.columns.values"
   ]
  },
  {
   "cell_type": "code",
   "execution_count": 7,
   "metadata": {},
   "outputs": [],
   "source": [
    "#choosing effective columns only\n",
    "df17 = df17[['PIN','TaxStatus','HomeownerExempt', 'SeniorExempt','SeniorFreezeExempt', 'LongtimeHomeownersExempt',\n",
    "            'TaxType', 'BillYear', 'BillType','AdjustedAmountDue1','TaxAmountDue1','InterestAmountDue1','CostAmountDue1',\n",
    "            'TotalAmountDue1','LastPaymentDate1','LastPaymentSource1','OriginalTaxDue2','AdjustedTaxDue2','TaxAmountDue2',\n",
    "            'InterestAmountDue2','CostAmountDue2','TotalAmountDue2','LastPaymentDate2','LastPaymentSource2','CofENumber',\n",
    "            'PastTaxSaleStatus','EqualizedEvaluation','AssessedValuation','TaxRate','CondemnationStatus', 'MunicipalAcquisitionStatus',\n",
    "            'AcquisitionStatus', 'ExemptStatus', 'BankruptStatus','RefundStatus', 'LastPaymentReceivedAmount1',\n",
    "            'LastPaymentReceivedAmount2','HomeownerExemptAmount', 'SeniorExemptAmount','SeniorFreezeExemptAmount', 'LongtimeHomeownersExemptAmount',\n",
    "            'VeteranExempt','TaxDueEstimated1']]\n",
    "df18 = df18[['PIN','TaxStatus','HomeownerExempt', 'SeniorExempt','SeniorFreezeExempt', 'LongtimeHomeownersExempt',\n",
    "            'TaxType', 'BillYear', 'BillType','AdjustedAmountDue1','TaxAmountDue1','InterestAmountDue1','CostAmountDue1',\n",
    "            'TotalAmountDue1','LastPaymentDate1','LastPaymentSource1','OriginalTaxDue2','AdjustedTaxDue2','TaxAmountDue2',\n",
    "            'InterestAmountDue2','CostAmountDue2','TotalAmountDue2','LastPaymentDate2','LastPaymentSource2','CofENumber',\n",
    "            'PastTaxSaleStatus','EqualizedEvaluation','AssessedValuation','TaxRate','CondemnationStatus', 'MunicipalAcquisitionStatus',\n",
    "            'AcquisitionStatus', 'ExemptStatus', 'BankruptStatus','RefundStatus', 'LastPaymentReceivedAmount1',\n",
    "            'LastPaymentReceivedAmount2','HomeownerExemptAmount', 'SeniorExemptAmount','SeniorFreezeExemptAmount', 'LongtimeHomeownersExemptAmount',\n",
    "            'VeteranExempt','TaxDueEstimated1']]\n",
    "df19 = df19[['PIN','TaxStatus','HomeownerExempt', 'SeniorExempt','SeniorFreezeExempt', 'LongtimeHomeownersExempt',\n",
    "            'TaxType', 'BillYear', 'BillType','AdjustedAmountDue1','TaxAmountDue1','InterestAmountDue1','CostAmountDue1',\n",
    "            'TotalAmountDue1','LastPaymentDate1','LastPaymentSource1','OriginalTaxDue2','AdjustedTaxDue2','TaxAmountDue2',\n",
    "            'InterestAmountDue2','CostAmountDue2','TotalAmountDue2','LastPaymentDate2','LastPaymentSource2','CofENumber',\n",
    "            'PastTaxSaleStatus','EqualizedEvaluation','AssessedValuation','TaxRate','CondemnationStatus', 'MunicipalAcquisitionStatus',\n",
    "            'AcquisitionStatus', 'ExemptStatus', 'BankruptStatus','RefundStatus', 'LastPaymentReceivedAmount1',\n",
    "            'LastPaymentReceivedAmount2','HomeownerExemptAmount', 'SeniorExemptAmount','SeniorFreezeExemptAmount', 'LongtimeHomeownersExemptAmount',\n",
    "            'VeteranExempt','TaxDueEstimated1']]\n",
    "df20 = df20[['PIN','TaxStatus','HomeownerExempt', 'SeniorExempt','SeniorFreezeExempt', 'LongtimeHomeownersExempt',\n",
    "            'TaxType', 'BillYear', 'BillType','AdjustedAmountDue1','TaxAmountDue1','InterestAmountDue1','CostAmountDue1',\n",
    "            'TotalAmountDue1','LastPaymentDate1','LastPaymentSource1','OriginalTaxDue2','AdjustedTaxDue2','TaxAmountDue2',\n",
    "            'InterestAmountDue2','CostAmountDue2','TotalAmountDue2','LastPaymentDate2','LastPaymentSource2','CofENumber',\n",
    "            'PastTaxSaleStatus','EqualizedEvaluation','AssessedValuation','TaxRate','CondemnationStatus', 'MunicipalAcquisitionStatus',\n",
    "            'AcquisitionStatus', 'ExemptStatus', 'BankruptStatus','RefundStatus', 'LastPaymentReceivedAmount1',\n",
    "            'LastPaymentReceivedAmount2','HomeownerExemptAmount', 'SeniorExemptAmount','SeniorFreezeExemptAmount', 'LongtimeHomeownersExemptAmount',\n",
    "            'VeteranExempt','TaxDueEstimated1']]\n",
    "df21 = df21[['PIN','TaxStatus','HomeownerExempt', 'SeniorExempt','SeniorFreezeExempt', 'LongtimeHomeownersExempt',\n",
    "            'TaxType', 'BillYear', 'BillType','AdjustedAmountDue1','TaxAmountDue1','InterestAmountDue1','CostAmountDue1',\n",
    "            'TotalAmountDue1','LastPaymentDate1','LastPaymentSource1','OriginalTaxDue2','AdjustedTaxDue2','TaxAmountDue2',\n",
    "            'InterestAmountDue2','CostAmountDue2','TotalAmountDue2','LastPaymentDate2','LastPaymentSource2','CofENumber',\n",
    "            'PastTaxSaleStatus','EqualizedEvaluation','AssessedValuation','TaxRate','CondemnationStatus', 'MunicipalAcquisitionStatus',\n",
    "            'AcquisitionStatus', 'ExemptStatus', 'BankruptStatus','RefundStatus', 'LastPaymentReceivedAmount1',\n",
    "            'LastPaymentReceivedAmount2','HomeownerExemptAmount', 'SeniorExemptAmount','SeniorFreezeExemptAmount', 'LongtimeHomeownersExemptAmount',\n",
    "            'VeteranExempt','TaxDueEstimated1']]\n",
    "df22 = df22[['PIN','TaxStatus','HomeownerExempt', 'SeniorExempt','SeniorFreezeExempt', 'LongtimeHomeownersExempt',\n",
    "            'TaxType', 'BillYear', 'BillType','AdjustedAmountDue1','TaxAmountDue1','InterestAmountDue1','CostAmountDue1',\n",
    "            'TotalAmountDue1','LastPaymentDate1','LastPaymentSource1','OriginalTaxDue2','AdjustedTaxDue2','TaxAmountDue2',\n",
    "            'InterestAmountDue2','CostAmountDue2','TotalAmountDue2','LastPaymentDate2','LastPaymentSource2','CofENumber',\n",
    "            'PastTaxSaleStatus','EqualizedEvaluation','AssessedValuation','TaxRate','CondemnationStatus', 'MunicipalAcquisitionStatus',\n",
    "            'AcquisitionStatus', 'ExemptStatus', 'BankruptStatus','RefundStatus', 'LastPaymentReceivedAmount1',\n",
    "            'LastPaymentReceivedAmount2','HomeownerExemptAmount', 'SeniorExemptAmount','SeniorFreezeExemptAmount', 'LongtimeHomeownersExemptAmount',\n",
    "            'VeteranExempt','TaxDueEstimated1']]"
   ]
  },
  {
   "cell_type": "code",
   "execution_count": 8,
   "metadata": {},
   "outputs": [
    {
     "data": {
      "text/plain": [
       "array(['PIN', 'TaxStatus', 'HomeownerExempt', 'SeniorExempt',\n",
       "       'SeniorFreezeExempt', 'LongtimeHomeownersExempt', 'TaxType',\n",
       "       'BillYear', 'BillType', 'AdjustedAmountDue1', 'TaxAmountDue1',\n",
       "       'InterestAmountDue1', 'CostAmountDue1', 'TotalAmountDue1',\n",
       "       'LastPaymentDate1', 'LastPaymentSource1', 'OriginalTaxDue2',\n",
       "       'AdjustedTaxDue2', 'TaxAmountDue2', 'InterestAmountDue2',\n",
       "       'CostAmountDue2', 'TotalAmountDue2', 'LastPaymentDate2',\n",
       "       'LastPaymentSource2', 'CofENumber', 'PastTaxSaleStatus',\n",
       "       'EqualizedEvaluation', 'AssessedValuation', 'TaxRate',\n",
       "       'CondemnationStatus', 'MunicipalAcquisitionStatus',\n",
       "       'AcquisitionStatus', 'ExemptStatus', 'BankruptStatus',\n",
       "       'RefundStatus', 'LastPaymentReceivedAmount1',\n",
       "       'LastPaymentReceivedAmount2', 'HomeownerExemptAmount',\n",
       "       'SeniorExemptAmount', 'SeniorFreezeExemptAmount',\n",
       "       'LongtimeHomeownersExemptAmount', 'VeteranExempt',\n",
       "       'TaxDueEstimated1', 'Year'], dtype=object)"
      ]
     },
     "execution_count": 8,
     "metadata": {},
     "output_type": "execute_result"
    }
   ],
   "source": [
    "df17['Year'] = 2017\n",
    "df18['Year'] = 2018\n",
    "df19['Year'] = 2019\n",
    "df20['Year'] = 2020\n",
    "df21['Year'] = 2021\n",
    "df22['Year'] = 2022\n",
    "df17.columns.values"
   ]
  },
  {
   "cell_type": "code",
   "execution_count": 9,
   "metadata": {},
   "outputs": [],
   "source": [
    "instDates = pd.read_csv(\"/Users/harrisonchen/Desktop/CCTO Property/InstDates.csv\")\n",
    "dates = instDates.tail(6).head(5)\n",
    "df17['PmtDue1'] = dates['Inst1'].iloc[0]\n",
    "df18['PmtDue1'] = dates['Inst1'].iloc[1]\n",
    "df19['PmtDue1'] = dates['Inst1'].iloc[2]\n",
    "df20['PmtDue1'] = dates['Inst1'].iloc[3]\n",
    "df21['PmtDue1'] = dates['Inst1'].iloc[4]\n",
    "df17['PmtDue2'] = dates['Inst2'].iloc[0]\n",
    "df18['PmtDue2'] = dates['Inst2'].iloc[1]\n",
    "df19['PmtDue2'] = dates['Inst2'].iloc[2]\n",
    "df20['PmtDue2'] = dates['Inst2'].iloc[3]\n",
    "df21['PmtDue2'] = dates['Inst2'].iloc[4]"
   ]
  },
  {
   "cell_type": "code",
   "execution_count": 10,
   "metadata": {
    "scrolled": false
   },
   "outputs": [],
   "source": [
    "y5 = pd.concat([df17,df18,df19,df20,df21])"
   ]
  },
  {
   "cell_type": "code",
   "execution_count": 11,
   "metadata": {},
   "outputs": [],
   "source": [
    "df17=1\n",
    "df18=1\n",
    "df19=1\n",
    "df20=1\n",
    "df21=1"
   ]
  },
  {
   "cell_type": "code",
   "execution_count": 12,
   "metadata": {},
   "outputs": [
    {
     "data": {
      "text/plain": [
       "4828105"
      ]
     },
     "execution_count": 12,
     "metadata": {},
     "output_type": "execute_result"
    }
   ],
   "source": [
    "y5 = y5[(y5['LastPaymentSource1'] != '600') &(y5['LastPaymentSource1'] != '527') & (y5['LastPaymentSource1'] != '800') &\n",
    "       (y5['LastPaymentSource1'] != '802') & (y5['LastPaymentSource1'] != '830')]\n",
    "y5 = y5[(y5['LastPaymentSource2'] != '600') &(y5['LastPaymentSource2'] != '527') & (y5['LastPaymentSource2'] != '800') &\n",
    "       (y5['LastPaymentSource2'] != '802') & (y5['LastPaymentSource2'] != '830')]\n",
    "y5 = y5[y5['TaxStatus']!=1]\n",
    "len(y5)"
   ]
  },
  {
   "cell_type": "code",
   "execution_count": 13,
   "metadata": {},
   "outputs": [],
   "source": [
    "y5['PIN'] = y5['PIN'].astype(str)\n",
    "y5['Location']= y5['PIN'].str[0:2]\n"
   ]
  },
  {
   "cell_type": "code",
   "execution_count": 14,
   "metadata": {},
   "outputs": [
    {
     "data": {
      "text/plain": [
       "array(['TaxStatus', 'HomeownerExempt', 'SeniorExempt',\n",
       "       'LongtimeHomeownersExempt', 'TaxType', 'BillYear', 'BillType',\n",
       "       'TaxAmountDue1', 'InterestAmountDue1', 'CostAmountDue1',\n",
       "       'TotalAmountDue1', 'LastPaymentDate1', 'OriginalTaxDue2',\n",
       "       'TaxAmountDue2', 'InterestAmountDue2', 'CostAmountDue2',\n",
       "       'TotalAmountDue2', 'LastPaymentDate2', 'CofENumber',\n",
       "       'EqualizedEvaluation', 'AssessedValuation', 'TaxRate',\n",
       "       'CondemnationStatus', 'MunicipalAcquisitionStatus',\n",
       "       'AcquisitionStatus', 'ExemptStatus', 'BankruptStatus',\n",
       "       'RefundStatus', 'LastPaymentReceivedAmount2',\n",
       "       'HomeownerExemptAmount', 'SeniorExemptAmount',\n",
       "       'SeniorFreezeExemptAmount', 'LongtimeHomeownersExemptAmount',\n",
       "       'VeteranExempt', 'TaxDueEstimated1', 'Year'], dtype=object)"
      ]
     },
     "execution_count": 14,
     "metadata": {},
     "output_type": "execute_result"
    }
   ],
   "source": [
    "y5.select_dtypes(exclude=object).columns.values"
   ]
  },
  {
   "cell_type": "code",
   "execution_count": 15,
   "metadata": {},
   "outputs": [],
   "source": [
    "y5 = y5[y5['BankruptStatus']<3]\n",
    "y5 = y5.drop('RefundStatus', axis=1)\n"
   ]
  },
  {
   "cell_type": "code",
   "execution_count": 16,
   "metadata": {},
   "outputs": [],
   "source": [
    "y5['BillType'] = y5['BillType'].astype(str)\n",
    "y5['LastPaymentDate1'] = y5['LastPaymentDate1'].astype(str)\n",
    "y5['LastPaymentDate2'] = y5['LastPaymentDate2'].astype(str)\n",
    "y5['CofENumber'] = y5['CofENumber'].astype(str)\n"
   ]
  },
  {
   "cell_type": "code",
   "execution_count": 17,
   "metadata": {},
   "outputs": [
    {
     "data": {
      "text/plain": [
       "array(['PIN', 'SeniorFreezeExempt', 'BillType', 'AdjustedAmountDue1',\n",
       "       'LastPaymentDate1', 'LastPaymentSource1', 'AdjustedTaxDue2',\n",
       "       'LastPaymentDate2', 'LastPaymentSource2', 'CofENumber',\n",
       "       'PastTaxSaleStatus', 'LastPaymentReceivedAmount1', 'PmtDue1',\n",
       "       'PmtDue2', 'Location'], dtype=object)"
      ]
     },
     "execution_count": 17,
     "metadata": {},
     "output_type": "execute_result"
    }
   ],
   "source": [
    "y5.select_dtypes(include=object).columns.values"
   ]
  },
  {
   "cell_type": "code",
   "execution_count": 18,
   "metadata": {},
   "outputs": [],
   "source": [
    "y5 = y5.drop('SeniorFreezeExempt',axis=1)\n",
    "y5['AdjustedAmountDue1'] = y5['AdjustedAmountDue1'].astype(float)\n",
    "y5['AdjustedTaxDue2'] = y5['AdjustedTaxDue2'].astype(float)\n",
    "y5['PastTaxSaleStatus'] = y5['PastTaxSaleStatus'].map({'Y': 1, 'N': 0})\n",
    "y5['LastPaymentReceivedAmount1'] = y5['LastPaymentReceivedAmount1'].astype(float)\n"
   ]
  },
  {
   "cell_type": "code",
   "execution_count": 19,
   "metadata": {},
   "outputs": [
    {
     "data": {
      "text/plain": [
       "array(['PIN', 'BillType', 'LastPaymentDate1', 'LastPaymentSource1',\n",
       "       'LastPaymentDate2', 'LastPaymentSource2', 'CofENumber', 'PmtDue1',\n",
       "       'PmtDue2', 'Location'], dtype=object)"
      ]
     },
     "execution_count": 19,
     "metadata": {},
     "output_type": "execute_result"
    }
   ],
   "source": [
    "y5.select_dtypes(include=object).columns.values"
   ]
  },
  {
   "cell_type": "code",
   "execution_count": 20,
   "metadata": {},
   "outputs": [],
   "source": [
    "y5['LastPaymentDate1'] = y5['LastPaymentDate1'].astype(str)\n",
    "y5['LastPaymentDate2'] = y5['LastPaymentDate2'].astype(str)\n"
   ]
  },
  {
   "cell_type": "code",
   "execution_count": 21,
   "metadata": {},
   "outputs": [],
   "source": [
    "y5['LastPaymentDate1'] = y5['LastPaymentDate1'].str[:-2]\n",
    "y5['LastPaymentDate2'] = y5['LastPaymentDate2'].str[:-2]\n"
   ]
  },
  {
   "cell_type": "code",
   "execution_count": 22,
   "metadata": {},
   "outputs": [],
   "source": [
    "#changed missing dates to 11/11/1991 so that datetime can read it in\n",
    "from datetime import datetime\n",
    "import numpy as np\n",
    "y5['LastPaymentDate1'] = y5['LastPaymentDate1'].str.zfill(8)\n",
    "y5['LastPaymentDate2'] = y5['LastPaymentDate2'].str.zfill(8)\n",
    "y5['LastPaymentDate1'] = y5['LastPaymentDate1'].replace(['00000000'], '11111991')\n",
    "y5['LastPaymentDate2'] = y5['LastPaymentDate2'].replace(['00000000'], '11111991')\n",
    "y5['LastPaymentDate1'] = pd.to_datetime(y5['LastPaymentDate1'], format='%m%d%Y')\n",
    "y5['LastPaymentDate2'] = pd.to_datetime(y5['LastPaymentDate2'], format='%m%d%Y')\n",
    "y5['PmtDue1'] = pd.to_datetime(y5['PmtDue1'], format='%Y-%m-%d')\n",
    "y5['PmtDue2'] = pd.to_datetime(y5['PmtDue2'], format='%Y-%m-%d')"
   ]
  },
  {
   "cell_type": "code",
   "execution_count": 23,
   "metadata": {},
   "outputs": [],
   "source": [
    "y5['DiffPmt1'] = (y5['LastPaymentDate1'] - y5['PmtDue1']).dt.days\n",
    "y5.loc[y5[\"DiffPmt1\"] < 0, \"DiffPmt1\"] = 0\n",
    "y5['DiffPmt2'] = (y5['LastPaymentDate2'] - y5['PmtDue2']).dt.days\n",
    "y5.loc[y5[\"DiffPmt2\"] < 0, \"DiffPmt2\"] = 0"
   ]
  },
  {
   "cell_type": "code",
   "execution_count": 24,
   "metadata": {},
   "outputs": [],
   "source": [
    "y5[\"CofENumber\"] = y5['CofENumber'].astype(float)\n",
    "y5.loc[y5[\"CofENumber\"] == 0, \"CofENumber\"] = 0\n",
    "y5.loc[y5[\"CofENumber\"] != 0, \"CofENumber\"] = 1\n",
    "y5[\"CofENumber\"] = y5['CofENumber'].astype(int)\n",
    "y5.loc[y5[\"HomeownerExempt\"] > 0, \"HomeownerExempt\"] = 1\n",
    "y5.loc[y5[\"SeniorExempt\"] > 0, \"SeniorExempt\"] = 1\n",
    "y5.loc[y5[\"LongtimeHomeownersExempt\"] > 0, \"LongtimeHomeownersExempt\"] = 1\n",
    "y5 = y5.drop(['LastPaymentDate1','LastPaymentDate2','PmtDue1','PmtDue2','Year'],axis=1)\n",
    "y5.loc[y5[\"ExemptStatus\"] > 0, \"ExemptStatus\"] = 1\n",
    "y5.loc[y5[\"VeteranExempt\"] > 0, \"VeteranExempt\"] = 1\n"
   ]
  },
  {
   "cell_type": "code",
   "execution_count": 25,
   "metadata": {},
   "outputs": [
    {
     "data": {
      "text/plain": [
       "array(['TaxStatus', 'HomeownerExempt', 'SeniorExempt',\n",
       "       'LongtimeHomeownersExempt', 'TaxType', 'BillYear',\n",
       "       'AdjustedAmountDue1', 'TaxAmountDue1', 'InterestAmountDue1',\n",
       "       'CostAmountDue1', 'TotalAmountDue1', 'OriginalTaxDue2',\n",
       "       'AdjustedTaxDue2', 'TaxAmountDue2', 'InterestAmountDue2',\n",
       "       'CostAmountDue2', 'TotalAmountDue2', 'CofENumber',\n",
       "       'PastTaxSaleStatus', 'EqualizedEvaluation', 'AssessedValuation',\n",
       "       'TaxRate', 'CondemnationStatus', 'MunicipalAcquisitionStatus',\n",
       "       'AcquisitionStatus', 'ExemptStatus', 'BankruptStatus',\n",
       "       'LastPaymentReceivedAmount1', 'LastPaymentReceivedAmount2',\n",
       "       'HomeownerExemptAmount', 'SeniorExemptAmount',\n",
       "       'SeniorFreezeExemptAmount', 'LongtimeHomeownersExemptAmount',\n",
       "       'VeteranExempt', 'TaxDueEstimated1', 'DiffPmt1', 'DiffPmt2'],\n",
       "      dtype=object)"
      ]
     },
     "execution_count": 25,
     "metadata": {},
     "output_type": "execute_result"
    }
   ],
   "source": [
    "y5.select_dtypes(exclude=object).columns.values"
   ]
  },
  {
   "cell_type": "code",
   "execution_count": 26,
   "metadata": {},
   "outputs": [],
   "source": [
    "numbers = y5[['BillYear','AdjustedAmountDue1', 'InterestAmountDue1',\n",
    "       'CostAmountDue1', 'TotalAmountDue1', 'AssessedValuation', 'AdjustedTaxDue2', 'TaxRate',\n",
    "       'InterestAmountDue2', 'CostAmountDue2', 'TotalAmountDue2',]]"
   ]
  },
  {
   "cell_type": "code",
   "execution_count": 27,
   "metadata": {
    "scrolled": false
   },
   "outputs": [
    {
     "data": {
      "text/plain": [
       "<matplotlib.axes._subplots.AxesSubplot at 0x1329c1190>"
      ]
     },
     "execution_count": 27,
     "metadata": {},
     "output_type": "execute_result"
    }
   ],
   "source": [
    "import numpy as np\n",
    "import matplotlib.pyplot as plt\n",
    "import seaborn as sns\n",
    "\n",
    "f, ax = plt.subplots(figsize=(12, 10))\n",
    "matrix = np.triu(numbers.corr())\n",
    "sns.heatmap(numbers.corr(),cmap = sns.diverging_palette(230, 20, as_cmap=True),annot=True,mask=matrix)\n"
   ]
  },
  {
   "cell_type": "code",
   "execution_count": 28,
   "metadata": {},
   "outputs": [
    {
     "data": {
      "text/plain": [
       "array(['PIN', 'TaxStatus', 'HomeownerExempt', 'SeniorExempt',\n",
       "       'LongtimeHomeownersExempt', 'TaxType', 'BillYear', 'BillType',\n",
       "       'AdjustedAmountDue1', 'InterestAmountDue1', 'CostAmountDue1',\n",
       "       'TotalAmountDue1', 'LastPaymentSource1', 'AdjustedTaxDue2',\n",
       "       'InterestAmountDue2', 'CostAmountDue2', 'TotalAmountDue2',\n",
       "       'LastPaymentSource2', 'CofENumber', 'PastTaxSaleStatus',\n",
       "       'AssessedValuation', 'TaxRate', 'CondemnationStatus',\n",
       "       'MunicipalAcquisitionStatus', 'AcquisitionStatus', 'ExemptStatus',\n",
       "       'BankruptStatus', 'LastPaymentReceivedAmount1',\n",
       "       'LastPaymentReceivedAmount2', 'HomeownerExemptAmount',\n",
       "       'SeniorExemptAmount', 'SeniorFreezeExemptAmount',\n",
       "       'LongtimeHomeownersExemptAmount', 'VeteranExempt',\n",
       "       'TaxDueEstimated1', 'Location', 'DiffPmt1', 'DiffPmt2'],\n",
       "      dtype=object)"
      ]
     },
     "execution_count": 28,
     "metadata": {},
     "output_type": "execute_result"
    }
   ],
   "source": [
    "y5 = y5.drop(['EqualizedEvaluation','TaxAmountDue1','TaxAmountDue2','OriginalTaxDue2'],axis=1)\n",
    "y5.columns.values"
   ]
  },
  {
   "cell_type": "code",
   "execution_count": 29,
   "metadata": {},
   "outputs": [],
   "source": [
    "y5 = y5.astype({\"SeniorExempt\":'int',\"LongtimeHomeownersExempt\":'int',\"BillYear\":'int',\"CondemnationStatus\":'int',\n",
    "               \"MunicipalAcquisitionStatus\":'int',\"AcquisitionStatus\":'int',\"ExemptStatus\":'int',\"BankruptStatus\":'int',\n",
    "               \"VeteranExempt\":'int'}) "
   ]
  },
  {
   "cell_type": "code",
   "execution_count": 30,
   "metadata": {},
   "outputs": [],
   "source": [
    "yr5 = y5.drop('PIN',axis=1)\n",
    "yr5 = pd.get_dummies(yr5, prefix=['BillType', 'TaxStatus','LastPaymentSource1','LastPaymentSource2','Location',\n",
    "                           'HomeownerExempt','TaxType'], columns=['BillType', 'TaxStatus','LastPaymentSource1',\n",
    "                           'LastPaymentSource2','Location', 'HomeownerExempt','TaxType'])"
   ]
  },
  {
   "cell_type": "code",
   "execution_count": 31,
   "metadata": {
    "scrolled": false
   },
   "outputs": [
    {
     "data": {
      "text/plain": [
       "(4828105, 163)"
      ]
     },
     "execution_count": 31,
     "metadata": {},
     "output_type": "execute_result"
    }
   ],
   "source": [
    "yr5.shape"
   ]
  },
  {
   "cell_type": "code",
   "execution_count": 32,
   "metadata": {},
   "outputs": [],
   "source": [
    "from sklearn.model_selection import train_test_split\n",
    "\n",
    "X_train, X_test, y_train, y_test = train_test_split(yr5.drop('DiffPmt2',axis=1), yr5['DiffPmt2'],\n",
    "                                                    test_size=0.2, random_state=42)"
   ]
  },
  {
   "cell_type": "code",
   "execution_count": 33,
   "metadata": {},
   "outputs": [
    {
     "name": "stderr",
     "output_type": "stream",
     "text": [
      "/usr/local/lib/python2.7/site-packages/sklearn/ensemble/forest.py:246: FutureWarning: The default value of n_estimators will change from 10 in version 0.20 to 100 in 0.22.\n",
      "  \"10 in version 0.20 to 100 in 0.22.\", FutureWarning)\n"
     ]
    },
    {
     "name": "stdout",
     "output_type": "stream",
     "text": [
      "RandomForestRegressor(bootstrap=True, criterion='mse', max_depth=10,\n",
      "           max_features='auto', max_leaf_nodes=None,\n",
      "           min_impurity_decrease=0.0, min_impurity_split=None,\n",
      "           min_samples_leaf=1, min_samples_split=2,\n",
      "           min_weight_fraction_leaf=0.0, n_estimators=10, n_jobs=None,\n",
      "           oob_score=False, random_state=None, verbose=0, warm_start=False)\n",
      "('Execution time in Min: ', 10.954503683249156)\n"
     ]
    }
   ],
   "source": [
    "from sklearn.ensemble import RandomForestRegressor\n",
    "\n",
    "st = time.time()\n",
    "rfc = RandomForestRegressor(max_depth=10)\n",
    "rfc.fit(X_train,y_train)\n",
    "et = time.time()\n",
    "print(rfc)\n",
    "print('Execution time in Min: ', (et-st)/60)"
   ]
  },
  {
   "cell_type": "code",
   "execution_count": 34,
   "metadata": {},
   "outputs": [
    {
     "name": "stdout",
     "output_type": "stream",
     "text": [
      "('train data score: ', 0.8571982678111989)\n",
      "('test data score: ', 0.8538303972738222)\n",
      "8.32238483429\n"
     ]
    }
   ],
   "source": [
    "ss= time.time()\n",
    "print('train data score: ', rfc.score(X_train,y_train))\n",
    "print('test data score: ', rfc.score(X_test,y_test))\n",
    "ee = time.time()\n",
    "print(ee-ss)"
   ]
  },
  {
   "cell_type": "code",
   "execution_count": 35,
   "metadata": {},
   "outputs": [
    {
     "data": {
      "text/plain": [
       "Text(0.5,0,'Random Forest Feature Importance')"
      ]
     },
     "execution_count": 35,
     "metadata": {},
     "output_type": "execute_result"
    },
    {
     "data": {
      "image/png": "[encoded data removed]",
      "text/plain": [
       "<Figure size 432x288 with 1 Axes>"
      ]
     },
     "metadata": {
      "needs_background": "light"
     },
     "output_type": "display_data"
    }
   ],
   "source": [
    "sorted_idx = rfc.feature_importances_.argsort()\n",
    "imp = pd.DataFrame()\n",
    "imp['col'] = yr5.drop('DiffPmt2',axis=1).columns[sorted_idx]\n",
    "imp['imp'] = rfc.feature_importances_[sorted_idx]\n",
    "imp = imp.sort_values('imp',ascending=False)\n",
    "finalimp = imp.head(30).sort_values('imp',ascending=True)\n",
    "plt.barh(finalimp['col'],finalimp['imp'])\n",
    "plt.xlabel(\"Random Forest Feature Importance\")"
   ]
  },
  {
   "cell_type": "code",
   "execution_count": 36,
   "metadata": {},
   "outputs": [
    {
     "data": {
      "text/html": [
       "<div>\n",
       "<style scoped>\n",
       "    .dataframe tbody tr th:only-of-type {\n",
       "        vertical-align: middle;\n",
       "    }\n",
       "\n",
       "    .dataframe tbody tr th {\n",
       "        vertical-align: top;\n",
       "    }\n",
       "\n",
       "    .dataframe thead th {\n",
       "        text-align: right;\n",
       "    }\n",
       "</style>\n",
       "<table border=\"1\" class=\"dataframe\">\n",
       "  <thead>\n",
       "    <tr style=\"text-align: right;\">\n",
       "      <th></th>\n",
       "      <th>col</th>\n",
       "      <th>imp</th>\n",
       "    </tr>\n",
       "  </thead>\n",
       "  <tbody>\n",
       "    <tr>\n",
       "      <th>161</th>\n",
       "      <td>DiffPmt1</td>\n",
       "      <td>0.730261</td>\n",
       "    </tr>\n",
       "    <tr>\n",
       "      <th>160</th>\n",
       "      <td>LastPaymentSource2_000</td>\n",
       "      <td>0.080274</td>\n",
       "    </tr>\n",
       "    <tr>\n",
       "      <th>159</th>\n",
       "      <td>LastPaymentReceivedAmount2</td>\n",
       "      <td>0.072620</td>\n",
       "    </tr>\n",
       "    <tr>\n",
       "      <th>158</th>\n",
       "      <td>LastPaymentSource2_823</td>\n",
       "      <td>0.047528</td>\n",
       "    </tr>\n",
       "    <tr>\n",
       "      <th>157</th>\n",
       "      <td>BillYear</td>\n",
       "      <td>0.038195</td>\n",
       "    </tr>\n",
       "    <tr>\n",
       "      <th>156</th>\n",
       "      <td>AdjustedTaxDue2</td>\n",
       "      <td>0.011898</td>\n",
       "    </tr>\n",
       "    <tr>\n",
       "      <th>155</th>\n",
       "      <td>CostAmountDue1</td>\n",
       "      <td>0.004225</td>\n",
       "    </tr>\n",
       "    <tr>\n",
       "      <th>154</th>\n",
       "      <td>TotalAmountDue2</td>\n",
       "      <td>0.002281</td>\n",
       "    </tr>\n",
       "    <tr>\n",
       "      <th>153</th>\n",
       "      <td>TaxType_0.0</td>\n",
       "      <td>0.001807</td>\n",
       "    </tr>\n",
       "    <tr>\n",
       "      <th>152</th>\n",
       "      <td>LastPaymentSource2_431</td>\n",
       "      <td>0.001541</td>\n",
       "    </tr>\n",
       "    <tr>\n",
       "      <th>151</th>\n",
       "      <td>LastPaymentSource2_522</td>\n",
       "      <td>0.001380</td>\n",
       "    </tr>\n",
       "    <tr>\n",
       "      <th>150</th>\n",
       "      <td>InterestAmountDue2</td>\n",
       "      <td>0.001158</td>\n",
       "    </tr>\n",
       "    <tr>\n",
       "      <th>149</th>\n",
       "      <td>TotalAmountDue1</td>\n",
       "      <td>0.001026</td>\n",
       "    </tr>\n",
       "    <tr>\n",
       "      <th>148</th>\n",
       "      <td>LastPaymentSource1_823</td>\n",
       "      <td>0.000619</td>\n",
       "    </tr>\n",
       "    <tr>\n",
       "      <th>147</th>\n",
       "      <td>BankruptStatus</td>\n",
       "      <td>0.000602</td>\n",
       "    </tr>\n",
       "    <tr>\n",
       "      <th>146</th>\n",
       "      <td>LastPaymentReceivedAmount1</td>\n",
       "      <td>0.000553</td>\n",
       "    </tr>\n",
       "    <tr>\n",
       "      <th>145</th>\n",
       "      <td>TaxRate</td>\n",
       "      <td>0.000488</td>\n",
       "    </tr>\n",
       "    <tr>\n",
       "      <th>144</th>\n",
       "      <td>LastPaymentSource2_436</td>\n",
       "      <td>0.000439</td>\n",
       "    </tr>\n",
       "    <tr>\n",
       "      <th>143</th>\n",
       "      <td>AssessedValuation</td>\n",
       "      <td>0.000343</td>\n",
       "    </tr>\n",
       "    <tr>\n",
       "      <th>142</th>\n",
       "      <td>InterestAmountDue1</td>\n",
       "      <td>0.000309</td>\n",
       "    </tr>\n",
       "    <tr>\n",
       "      <th>141</th>\n",
       "      <td>LastPaymentSource1_000</td>\n",
       "      <td>0.000244</td>\n",
       "    </tr>\n",
       "    <tr>\n",
       "      <th>140</th>\n",
       "      <td>AcquisitionStatus</td>\n",
       "      <td>0.000237</td>\n",
       "    </tr>\n",
       "    <tr>\n",
       "      <th>139</th>\n",
       "      <td>AdjustedAmountDue1</td>\n",
       "      <td>0.000186</td>\n",
       "    </tr>\n",
       "    <tr>\n",
       "      <th>138</th>\n",
       "      <td>PastTaxSaleStatus</td>\n",
       "      <td>0.000148</td>\n",
       "    </tr>\n",
       "    <tr>\n",
       "      <th>137</th>\n",
       "      <td>LastPaymentSource2_750</td>\n",
       "      <td>0.000136</td>\n",
       "    </tr>\n",
       "    <tr>\n",
       "      <th>136</th>\n",
       "      <td>TaxDueEstimated1</td>\n",
       "      <td>0.000096</td>\n",
       "    </tr>\n",
       "    <tr>\n",
       "      <th>135</th>\n",
       "      <td>LastPaymentSource2_700</td>\n",
       "      <td>0.000094</td>\n",
       "    </tr>\n",
       "    <tr>\n",
       "      <th>134</th>\n",
       "      <td>LastPaymentSource2_526</td>\n",
       "      <td>0.000086</td>\n",
       "    </tr>\n",
       "    <tr>\n",
       "      <th>133</th>\n",
       "      <td>LastPaymentSource2_501</td>\n",
       "      <td>0.000085</td>\n",
       "    </tr>\n",
       "    <tr>\n",
       "      <th>132</th>\n",
       "      <td>TaxType_1.0</td>\n",
       "      <td>0.000080</td>\n",
       "    </tr>\n",
       "    <tr>\n",
       "      <th>...</th>\n",
       "      <td>...</td>\n",
       "      <td>...</td>\n",
       "    </tr>\n",
       "    <tr>\n",
       "      <th>4</th>\n",
       "      <td>LastPaymentSource1_463</td>\n",
       "      <td>0.000000</td>\n",
       "    </tr>\n",
       "    <tr>\n",
       "      <th>3</th>\n",
       "      <td>LastPaymentSource1_471</td>\n",
       "      <td>0.000000</td>\n",
       "    </tr>\n",
       "    <tr>\n",
       "      <th>2</th>\n",
       "      <td>LastPaymentSource1_472</td>\n",
       "      <td>0.000000</td>\n",
       "    </tr>\n",
       "    <tr>\n",
       "      <th>25</th>\n",
       "      <td>LastPaymentSource2_437</td>\n",
       "      <td>0.000000</td>\n",
       "    </tr>\n",
       "    <tr>\n",
       "      <th>24</th>\n",
       "      <td>LastPaymentSource2_432</td>\n",
       "      <td>0.000000</td>\n",
       "    </tr>\n",
       "    <tr>\n",
       "      <th>41</th>\n",
       "      <td>Location_72</td>\n",
       "      <td>0.000000</td>\n",
       "    </tr>\n",
       "    <tr>\n",
       "      <th>26</th>\n",
       "      <td>LastPaymentSource2_463</td>\n",
       "      <td>0.000000</td>\n",
       "    </tr>\n",
       "    <tr>\n",
       "      <th>27</th>\n",
       "      <td>LastPaymentSource2_471</td>\n",
       "      <td>0.000000</td>\n",
       "    </tr>\n",
       "    <tr>\n",
       "      <th>49</th>\n",
       "      <td>BillType_2.0</td>\n",
       "      <td>0.000000</td>\n",
       "    </tr>\n",
       "    <tr>\n",
       "      <th>48</th>\n",
       "      <td>BillType_7.0</td>\n",
       "      <td>0.000000</td>\n",
       "    </tr>\n",
       "    <tr>\n",
       "      <th>47</th>\n",
       "      <td>LastPaymentSource2_505</td>\n",
       "      <td>0.000000</td>\n",
       "    </tr>\n",
       "    <tr>\n",
       "      <th>46</th>\n",
       "      <td>LastPaymentSource2_427</td>\n",
       "      <td>0.000000</td>\n",
       "    </tr>\n",
       "    <tr>\n",
       "      <th>45</th>\n",
       "      <td>Location_33</td>\n",
       "      <td>0.000000</td>\n",
       "    </tr>\n",
       "    <tr>\n",
       "      <th>44</th>\n",
       "      <td>TaxStatus_4.0</td>\n",
       "      <td>0.000000</td>\n",
       "    </tr>\n",
       "    <tr>\n",
       "      <th>43</th>\n",
       "      <td>CondemnationStatus</td>\n",
       "      <td>0.000000</td>\n",
       "    </tr>\n",
       "    <tr>\n",
       "      <th>42</th>\n",
       "      <td>Location_61</td>\n",
       "      <td>0.000000</td>\n",
       "    </tr>\n",
       "    <tr>\n",
       "      <th>40</th>\n",
       "      <td>Location_81</td>\n",
       "      <td>0.000000</td>\n",
       "    </tr>\n",
       "    <tr>\n",
       "      <th>39</th>\n",
       "      <td>Location_83</td>\n",
       "      <td>0.000000</td>\n",
       "    </tr>\n",
       "    <tr>\n",
       "      <th>38</th>\n",
       "      <td>Location_90</td>\n",
       "      <td>0.000000</td>\n",
       "    </tr>\n",
       "    <tr>\n",
       "      <th>37</th>\n",
       "      <td>MunicipalAcquisitionStatus</td>\n",
       "      <td>0.000000</td>\n",
       "    </tr>\n",
       "    <tr>\n",
       "      <th>36</th>\n",
       "      <td>LastPaymentSource1_407</td>\n",
       "      <td>0.000000</td>\n",
       "    </tr>\n",
       "    <tr>\n",
       "      <th>35</th>\n",
       "      <td>TaxStatus_5.0</td>\n",
       "      <td>0.000000</td>\n",
       "    </tr>\n",
       "    <tr>\n",
       "      <th>34</th>\n",
       "      <td>LastPaymentSource2_487</td>\n",
       "      <td>0.000000</td>\n",
       "    </tr>\n",
       "    <tr>\n",
       "      <th>33</th>\n",
       "      <td>LastPaymentSource1_482</td>\n",
       "      <td>0.000000</td>\n",
       "    </tr>\n",
       "    <tr>\n",
       "      <th>32</th>\n",
       "      <td>LastPaymentSource2_477</td>\n",
       "      <td>0.000000</td>\n",
       "    </tr>\n",
       "    <tr>\n",
       "      <th>31</th>\n",
       "      <td>LastPaymentSource2_476</td>\n",
       "      <td>0.000000</td>\n",
       "    </tr>\n",
       "    <tr>\n",
       "      <th>30</th>\n",
       "      <td>LastPaymentSource2_473</td>\n",
       "      <td>0.000000</td>\n",
       "    </tr>\n",
       "    <tr>\n",
       "      <th>29</th>\n",
       "      <td>LastPaymentSource1_522</td>\n",
       "      <td>0.000000</td>\n",
       "    </tr>\n",
       "    <tr>\n",
       "      <th>28</th>\n",
       "      <td>LastPaymentSource2_472</td>\n",
       "      <td>0.000000</td>\n",
       "    </tr>\n",
       "    <tr>\n",
       "      <th>0</th>\n",
       "      <td>LastPaymentSource2_428</td>\n",
       "      <td>0.000000</td>\n",
       "    </tr>\n",
       "  </tbody>\n",
       "</table>\n",
       "<p>162 rows × 2 columns</p>\n",
       "</div>"
      ],
      "text/plain": [
       "                            col       imp\n",
       "161                    DiffPmt1  0.730261\n",
       "160      LastPaymentSource2_000  0.080274\n",
       "159  LastPaymentReceivedAmount2  0.072620\n",
       "158      LastPaymentSource2_823  0.047528\n",
       "157                    BillYear  0.038195\n",
       "156             AdjustedTaxDue2  0.011898\n",
       "155              CostAmountDue1  0.004225\n",
       "154             TotalAmountDue2  0.002281\n",
       "153                 TaxType_0.0  0.001807\n",
       "152      LastPaymentSource2_431  0.001541\n",
       "151      LastPaymentSource2_522  0.001380\n",
       "150          InterestAmountDue2  0.001158\n",
       "149             TotalAmountDue1  0.001026\n",
       "148      LastPaymentSource1_823  0.000619\n",
       "147              BankruptStatus  0.000602\n",
       "146  LastPaymentReceivedAmount1  0.000553\n",
       "145                     TaxRate  0.000488\n",
       "144      LastPaymentSource2_436  0.000439\n",
       "143           AssessedValuation  0.000343\n",
       "142          InterestAmountDue1  0.000309\n",
       "141      LastPaymentSource1_000  0.000244\n",
       "140           AcquisitionStatus  0.000237\n",
       "139          AdjustedAmountDue1  0.000186\n",
       "138           PastTaxSaleStatus  0.000148\n",
       "137      LastPaymentSource2_750  0.000136\n",
       "136            TaxDueEstimated1  0.000096\n",
       "135      LastPaymentSource2_700  0.000094\n",
       "134      LastPaymentSource2_526  0.000086\n",
       "133      LastPaymentSource2_501  0.000085\n",
       "132                 TaxType_1.0  0.000080\n",
       "..                          ...       ...\n",
       "4        LastPaymentSource1_463  0.000000\n",
       "3        LastPaymentSource1_471  0.000000\n",
       "2        LastPaymentSource1_472  0.000000\n",
       "25       LastPaymentSource2_437  0.000000\n",
       "24       LastPaymentSource2_432  0.000000\n",
       "41                  Location_72  0.000000\n",
       "26       LastPaymentSource2_463  0.000000\n",
       "27       LastPaymentSource2_471  0.000000\n",
       "49                 BillType_2.0  0.000000\n",
       "48                 BillType_7.0  0.000000\n",
       "47       LastPaymentSource2_505  0.000000\n",
       "46       LastPaymentSource2_427  0.000000\n",
       "45                  Location_33  0.000000\n",
       "44                TaxStatus_4.0  0.000000\n",
       "43           CondemnationStatus  0.000000\n",
       "42                  Location_61  0.000000\n",
       "40                  Location_81  0.000000\n",
       "39                  Location_83  0.000000\n",
       "38                  Location_90  0.000000\n",
       "37   MunicipalAcquisitionStatus  0.000000\n",
       "36       LastPaymentSource1_407  0.000000\n",
       "35                TaxStatus_5.0  0.000000\n",
       "34       LastPaymentSource2_487  0.000000\n",
       "33       LastPaymentSource1_482  0.000000\n",
       "32       LastPaymentSource2_477  0.000000\n",
       "31       LastPaymentSource2_476  0.000000\n",
       "30       LastPaymentSource2_473  0.000000\n",
       "29       LastPaymentSource1_522  0.000000\n",
       "28       LastPaymentSource2_472  0.000000\n",
       "0        LastPaymentSource2_428  0.000000\n",
       "\n",
       "[162 rows x 2 columns]"
      ]
     },
     "execution_count": 36,
     "metadata": {},
     "output_type": "execute_result"
    }
   ],
   "source": [
    "imp"
   ]
  },
  {
   "cell_type": "code",
   "execution_count": 37,
   "metadata": {},
   "outputs": [
    {
     "name": "stdout",
     "output_type": "stream",
     "text": [
      "('Final Time: ', 15.228749732176462)\n"
     ]
    }
   ],
   "source": [
    "end = time.time()\n",
    "print('Final Time: ', (end-start)/60)"
   ]
  },
  {
   "cell_type": "code",
   "execution_count": null,
   "metadata": {},
   "outputs": [],
   "source": []
  },
  {
   "cell_type": "code",
   "execution_count": 38,
   "metadata": {},
   "outputs": [
    {
     "data": {
      "text/plain": [
       "4828105"
      ]
     },
     "execution_count": 38,
     "metadata": {},
     "output_type": "execute_result"
    }
   ],
   "source": [
    "len(yr5)"
   ]
  },
  {
   "cell_type": "code",
   "execution_count": 39,
   "metadata": {},
   "outputs": [],
   "source": [
    "#from sklearn.model_selection import GridSearchCV\n",
    "#param = {'n_estimators':[50,100,150], 'max_depth':[20,25,30]}\n",
    "#rf1 = RandomForestClassifier()\n",
    "#grid = GridSearchCV(rf1, param, cv=5)\n",
    "#grid.fit(X_train,y_train)\n",
    "\n",
    "#print(grid.best_params_)\n",
    "#print(grid.best_score_)"
   ]
  }
 ],
 "metadata": {
  "kernelspec": {
   "display_name": "Python 2",
   "language": "python",
   "name": "python2"
  },
  "language_info": {
   "codemirror_mode": {
    "name": "ipython",
    "version": 2
   },
   "file_extension": ".py",
   "mimetype": "text/x-python",
   "name": "python",
   "nbconvert_exporter": "python",
   "pygments_lexer": "ipython2",
   "version": "2.7.15"
  }
 },
 "nbformat": 4,
 "nbformat_minor": 5
}
