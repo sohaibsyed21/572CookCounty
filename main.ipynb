{
 "cells": [
  {
   "cell_type": "code",
   "execution_count": 1,
   "metadata": {},
   "outputs": [],
   "source": [
    "import pandas as pd\n",
    "import time\n",
    "start = time.time()"
   ]
  },
  {
   "cell_type": "code",
   "execution_count": 2,
   "metadata": {},
   "outputs": [
    {
     "name": "stderr",
     "output_type": "stream",
     "text": [
      "/usr/local/lib/python2.7/site-packages/IPython/core/interactiveshell.py:2714: DtypeWarning: Columns (9) have mixed types. Specify dtype option on import or set low_memory=False.\n",
      "  interactivity=interactivity, compiler=compiler, result=result)\n",
      "Skipping line 1528882: expected 81 fields, saw 83\n",
      "\n",
      "/usr/local/lib/python2.7/site-packages/IPython/core/interactiveshell.py:2714: DtypeWarning: Columns (9,21,25,31,44,67) have mixed types. Specify dtype option on import or set low_memory=False.\n",
      "  interactivity=interactivity, compiler=compiler, result=result)\n"
     ]
    }
   ],
   "source": [
    "df17 = pd.read_csv('/Users/harrisonchen/Desktop/CCTO Property/2017.rpt',sep='|',header=None,dtype = {8: str, 15: str, 41: str,54:str},error_bad_lines=False)\n",
    "df18 = pd.read_csv('/Users/harrisonchen/Desktop/CCTO Property/2018.rpt',sep='|',header=None,dtype = {8: str, 15: str, 41: str,54:str},error_bad_lines=False)\n",
    "df19 = pd.read_csv('/Users/harrisonchen/Desktop/CCTO Property/2019.rpt',sep='|',header=None,dtype = {8: str, 15: str, 41: str,54:str},error_bad_lines=False)\n",
    "df20 = pd.read_csv('/Users/harrisonchen/Desktop/CCTO Property/2020.rpt',sep='|',header=None,dtype = {8: str, 15: str, 41: str,54:str},error_bad_lines=False)\n",
    "df21 = pd.read_csv('/Users/harrisonchen/Desktop/CCTO Property/2021.rpt',sep='|',header=None,dtype = {8: str, 15: str, 41: str,54:str},error_bad_lines=False)\n",
    "df22 = pd.read_csv('/Users/harrisonchen/Desktop/CCTO Property/2022.rpt',sep='|',header=None,dtype = {8: str, 15: str, 41: str,54:str},error_bad_lines=False)"
   ]
  },
  {
   "cell_type": "code",
   "execution_count": 3,
   "metadata": {},
   "outputs": [],
   "source": [
    "#df17 = pd.read_csv('C:/CookCountyTreasurer/2017.rpt',sep='|',header=None,dtype = {8: str, 15: str, 41: str,54:str})\n",
    "#df18 = pd.read_csv('C:/CookCountyTreasurer/2018.rpt',sep='|',header=None,dtype = {8: str, 15: str, 41: str,54:str})\n",
    "#df19 = pd.read_csv('C:/CookCountyTreasurer/2019.rpt',sep='|',header=None,dtype = {8: str, 15: str, 41: str,54:str})\n",
    "#df20 = pd.read_csv('C:/CookCountyTreasurer/2020.rpt',sep='|',header=None,dtype = {8: str, 15: str, 41: str,54:str})\n",
    "#df21 = pd.read_csv('C:/CookCountyTreasurer/2021.rpt',sep='|',header=None,dtype = {8: str, 15: str, 41: str,54:str})\n",
    "#df22 = pd.read_csv('C:/CookCountyTreasurer/2022.rpt',sep='|',header=None,dtype = {8: str, 15: str, 41: str,54:str})\n",
    "#for windows"
   ]
  },
  {
   "cell_type": "code",
   "execution_count": 4,
   "metadata": {},
   "outputs": [],
   "source": [
    "header = pd.read_csv('/Users/harrisonchen/Desktop/CCTO Property/Header.rpt', sep='|', header=None)\n",
    "head = header.iloc[0].to_list()\n",
    "df17.columns = head\n",
    "df18.columns = head\n",
    "df19.columns = head\n",
    "df20.columns = head\n",
    "df21.columns = head\n",
    "df22.columns = head"
   ]
  },
  {
   "cell_type": "code",
   "execution_count": 5,
   "metadata": {
    "scrolled": false
   },
   "outputs": [],
   "source": [
    "df19 = df19.iloc[:-2 , :]\n",
    "#getting rid of the last 2 rows of 2019.rpt, they are error data"
   ]
  },
  {
   "cell_type": "code",
   "execution_count": 6,
   "metadata": {},
   "outputs": [
    {
     "data": {
      "text/plain": [
       "array(['SegmentCode', 'PIN', 'Volume', 'Classification', 'TaxpayerName',\n",
       "       'TaxpayerMailingAddress', 'TaxpayerMailingCity',\n",
       "       'TaxpayerMailingState', 'TaxpayerMailingZip',\n",
       "       'TaxpayerPropertyHouse', 'TaxpayerPropertyDirection',\n",
       "       'TaxpayerPropertyStreet', 'TaxpayerPropertySuffix',\n",
       "       'TaxpayerPropertyCity', 'TaxpayerPropertyState',\n",
       "       'TaxpayerPropertyZip', 'TaxpayerPropertyTown', 'TaxCode',\n",
       "       'TaxStatus', 'HomeownerExempt', 'SeniorExempt',\n",
       "       'SeniorFreezeExempt', 'LongtimeHomeownersExempt', 'TaxInfoType',\n",
       "       'TaxType', 'TaxYear', 'BillYear', 'AccountStatus', 'BillType',\n",
       "       'SegmentCode2', 'InstallmentNumber1', 'AdjustedAmountDue1',\n",
       "       'TaxAmountDue1', 'RefundTaxAmountDueIndicator1',\n",
       "       'InterestAmountDue1', 'RefundInterestDueIndicator1',\n",
       "       'CostAmountDue1', 'RefundCostDueIndicator1', 'TotalAmountDue1',\n",
       "       'RefundTotalDueIndicator1', 'LastPaymentDate1',\n",
       "       'LastPaymentSource1', 'InstallmentNumber2', 'OriginalTaxDue2',\n",
       "       'AdjustedTaxDue2', 'TaxAmountDue2', 'RefundTaxAmountDueIndicator2',\n",
       "       'InterestAmountDue2', 'RefundInterestDueIndicator2',\n",
       "       'CostAmountDue2', 'RefundCostDueIndicator2', 'TotalAmountDue2',\n",
       "       'RefundTaxDueIndicator2', 'LastPaymentDate2', 'LastPaymentSource2',\n",
       "       'CofENumber', 'PastTaxSaleStatus', 'AssessedValuation',\n",
       "       'EqualizedEvaluation', 'TaxRate', 'RecordCount',\n",
       "       'CondemnationStatus', 'MunicipalAcquisitionStatus',\n",
       "       'AcquisitionStatus', 'ExemptStatus', 'BankruptStatus',\n",
       "       'RefundStatus', 'LastPaymentReceivedAmount1',\n",
       "       'LastPaymentReceivedAmount2', 'EndMarker', 'TaxDueEstimated1',\n",
       "       'ReturningVetExemptionAmount', 'DisabledPersonExemptionAmount',\n",
       "       'DisabledVetExemptionAmount', 'DisabledPersonVetExemptionAmount',\n",
       "       'HomeownerExemptAmount', 'SeniorExemptAmount',\n",
       "       'SeniorFreezeExemptAmount', 'LongtimeHomeownersExemptAmount',\n",
       "       'VeteranExempt', 'AdjustedAmountDue1_Org'], dtype=object)"
      ]
     },
     "execution_count": 6,
     "metadata": {},
     "output_type": "execute_result"
    }
   ],
   "source": [
    "df17.columns.values"
   ]
  },
  {
   "cell_type": "code",
   "execution_count": 7,
   "metadata": {},
   "outputs": [],
   "source": [
    "#choosing effective columns only\n",
    "df17 = df17[['PIN','TaxStatus','HomeownerExempt', 'SeniorExempt','SeniorFreezeExempt', 'LongtimeHomeownersExempt',\n",
    "            'TaxType', 'BillYear', 'BillType','AdjustedAmountDue1','TaxAmountDue1','InterestAmountDue1','CostAmountDue1',\n",
    "            'TotalAmountDue1','LastPaymentDate1','LastPaymentSource1','OriginalTaxDue2','AdjustedTaxDue2','TaxAmountDue2',\n",
    "            'InterestAmountDue2','CostAmountDue2','TotalAmountDue2','LastPaymentDate2','LastPaymentSource2','CofENumber',\n",
    "            'PastTaxSaleStatus','EqualizedEvaluation','AssessedValuation','TaxRate','CondemnationStatus', 'MunicipalAcquisitionStatus',\n",
    "            'AcquisitionStatus', 'ExemptStatus', 'BankruptStatus','RefundStatus', 'LastPaymentReceivedAmount1',\n",
    "            'LastPaymentReceivedAmount2','HomeownerExemptAmount', 'SeniorExemptAmount','SeniorFreezeExemptAmount', 'LongtimeHomeownersExemptAmount',\n",
    "            'VeteranExempt','TaxDueEstimated1']]\n",
    "df18 = df18[['PIN','TaxStatus','HomeownerExempt', 'SeniorExempt','SeniorFreezeExempt', 'LongtimeHomeownersExempt',\n",
    "            'TaxType', 'BillYear', 'BillType','AdjustedAmountDue1','TaxAmountDue1','InterestAmountDue1','CostAmountDue1',\n",
    "            'TotalAmountDue1','LastPaymentDate1','LastPaymentSource1','OriginalTaxDue2','AdjustedTaxDue2','TaxAmountDue2',\n",
    "            'InterestAmountDue2','CostAmountDue2','TotalAmountDue2','LastPaymentDate2','LastPaymentSource2','CofENumber',\n",
    "            'PastTaxSaleStatus','EqualizedEvaluation','AssessedValuation','TaxRate','CondemnationStatus', 'MunicipalAcquisitionStatus',\n",
    "            'AcquisitionStatus', 'ExemptStatus', 'BankruptStatus','RefundStatus', 'LastPaymentReceivedAmount1',\n",
    "            'LastPaymentReceivedAmount2','HomeownerExemptAmount', 'SeniorExemptAmount','SeniorFreezeExemptAmount', 'LongtimeHomeownersExemptAmount',\n",
    "            'VeteranExempt','TaxDueEstimated1']]\n",
    "df19 = df19[['PIN','TaxStatus','HomeownerExempt', 'SeniorExempt','SeniorFreezeExempt', 'LongtimeHomeownersExempt',\n",
    "            'TaxType', 'BillYear', 'BillType','AdjustedAmountDue1','TaxAmountDue1','InterestAmountDue1','CostAmountDue1',\n",
    "            'TotalAmountDue1','LastPaymentDate1','LastPaymentSource1','OriginalTaxDue2','AdjustedTaxDue2','TaxAmountDue2',\n",
    "            'InterestAmountDue2','CostAmountDue2','TotalAmountDue2','LastPaymentDate2','LastPaymentSource2','CofENumber',\n",
    "            'PastTaxSaleStatus','EqualizedEvaluation','AssessedValuation','TaxRate','CondemnationStatus', 'MunicipalAcquisitionStatus',\n",
    "            'AcquisitionStatus', 'ExemptStatus', 'BankruptStatus','RefundStatus', 'LastPaymentReceivedAmount1',\n",
    "            'LastPaymentReceivedAmount2','HomeownerExemptAmount', 'SeniorExemptAmount','SeniorFreezeExemptAmount', 'LongtimeHomeownersExemptAmount',\n",
    "            'VeteranExempt','TaxDueEstimated1']]\n",
    "df20 = df20[['PIN','TaxStatus','HomeownerExempt', 'SeniorExempt','SeniorFreezeExempt', 'LongtimeHomeownersExempt',\n",
    "            'TaxType', 'BillYear', 'BillType','AdjustedAmountDue1','TaxAmountDue1','InterestAmountDue1','CostAmountDue1',\n",
    "            'TotalAmountDue1','LastPaymentDate1','LastPaymentSource1','OriginalTaxDue2','AdjustedTaxDue2','TaxAmountDue2',\n",
    "            'InterestAmountDue2','CostAmountDue2','TotalAmountDue2','LastPaymentDate2','LastPaymentSource2','CofENumber',\n",
    "            'PastTaxSaleStatus','EqualizedEvaluation','AssessedValuation','TaxRate','CondemnationStatus', 'MunicipalAcquisitionStatus',\n",
    "            'AcquisitionStatus', 'ExemptStatus', 'BankruptStatus','RefundStatus', 'LastPaymentReceivedAmount1',\n",
    "            'LastPaymentReceivedAmount2','HomeownerExemptAmount', 'SeniorExemptAmount','SeniorFreezeExemptAmount', 'LongtimeHomeownersExemptAmount',\n",
    "            'VeteranExempt','TaxDueEstimated1']]\n",
    "df21 = df21[['PIN','TaxStatus','HomeownerExempt', 'SeniorExempt','SeniorFreezeExempt', 'LongtimeHomeownersExempt',\n",
    "            'TaxType', 'BillYear', 'BillType','AdjustedAmountDue1','TaxAmountDue1','InterestAmountDue1','CostAmountDue1',\n",
    "            'TotalAmountDue1','LastPaymentDate1','LastPaymentSource1','OriginalTaxDue2','AdjustedTaxDue2','TaxAmountDue2',\n",
    "            'InterestAmountDue2','CostAmountDue2','TotalAmountDue2','LastPaymentDate2','LastPaymentSource2','CofENumber',\n",
    "            'PastTaxSaleStatus','EqualizedEvaluation','AssessedValuation','TaxRate','CondemnationStatus', 'MunicipalAcquisitionStatus',\n",
    "            'AcquisitionStatus', 'ExemptStatus', 'BankruptStatus','RefundStatus', 'LastPaymentReceivedAmount1',\n",
    "            'LastPaymentReceivedAmount2','HomeownerExemptAmount', 'SeniorExemptAmount','SeniorFreezeExemptAmount', 'LongtimeHomeownersExemptAmount',\n",
    "            'VeteranExempt','TaxDueEstimated1']]\n",
    "df22 = df22[['PIN','TaxStatus','HomeownerExempt', 'SeniorExempt','SeniorFreezeExempt', 'LongtimeHomeownersExempt',\n",
    "            'TaxType', 'BillYear', 'BillType','AdjustedAmountDue1','TaxAmountDue1','InterestAmountDue1','CostAmountDue1',\n",
    "            'TotalAmountDue1','LastPaymentDate1','LastPaymentSource1','OriginalTaxDue2','AdjustedTaxDue2','TaxAmountDue2',\n",
    "            'InterestAmountDue2','CostAmountDue2','TotalAmountDue2','LastPaymentDate2','LastPaymentSource2','CofENumber',\n",
    "            'PastTaxSaleStatus','EqualizedEvaluation','AssessedValuation','TaxRate','CondemnationStatus', 'MunicipalAcquisitionStatus',\n",
    "            'AcquisitionStatus', 'ExemptStatus', 'BankruptStatus','RefundStatus', 'LastPaymentReceivedAmount1',\n",
    "            'LastPaymentReceivedAmount2','HomeownerExemptAmount', 'SeniorExemptAmount','SeniorFreezeExemptAmount', 'LongtimeHomeownersExemptAmount',\n",
    "            'VeteranExempt','TaxDueEstimated1']]"
   ]
  },
  {
   "cell_type": "code",
   "execution_count": 8,
   "metadata": {},
   "outputs": [
    {
     "data": {
      "text/plain": [
       "array(['PIN', 'TaxStatus', 'HomeownerExempt', 'SeniorExempt',\n",
       "       'SeniorFreezeExempt', 'LongtimeHomeownersExempt', 'TaxType',\n",
       "       'BillYear', 'BillType', 'AdjustedAmountDue1', 'TaxAmountDue1',\n",
       "       'InterestAmountDue1', 'CostAmountDue1', 'TotalAmountDue1',\n",
       "       'LastPaymentDate1', 'LastPaymentSource1', 'OriginalTaxDue2',\n",
       "       'AdjustedTaxDue2', 'TaxAmountDue2', 'InterestAmountDue2',\n",
       "       'CostAmountDue2', 'TotalAmountDue2', 'LastPaymentDate2',\n",
       "       'LastPaymentSource2', 'CofENumber', 'PastTaxSaleStatus',\n",
       "       'EqualizedEvaluation', 'AssessedValuation', 'TaxRate',\n",
       "       'CondemnationStatus', 'MunicipalAcquisitionStatus',\n",
       "       'AcquisitionStatus', 'ExemptStatus', 'BankruptStatus',\n",
       "       'RefundStatus', 'LastPaymentReceivedAmount1',\n",
       "       'LastPaymentReceivedAmount2', 'HomeownerExemptAmount',\n",
       "       'SeniorExemptAmount', 'SeniorFreezeExemptAmount',\n",
       "       'LongtimeHomeownersExemptAmount', 'VeteranExempt',\n",
       "       'TaxDueEstimated1', 'Year'], dtype=object)"
      ]
     },
     "execution_count": 8,
     "metadata": {},
     "output_type": "execute_result"
    }
   ],
   "source": [
    "df17['Year'] = 2017\n",
    "df18['Year'] = 2018\n",
    "df19['Year'] = 2019\n",
    "df20['Year'] = 2020\n",
    "df21['Year'] = 2021\n",
    "df22['Year'] = 2022\n",
    "df17.columns.values"
   ]
  },
  {
   "cell_type": "code",
   "execution_count": 9,
   "metadata": {},
   "outputs": [],
   "source": [
    "instDates = pd.read_csv(\"/Users/harrisonchen/Desktop/CCTO Property/InstDates.csv\")\n",
    "dates = instDates.tail(6).head(5)\n",
    "df17['PmtDue1'] = dates['Inst1'].iloc[0]\n",
    "df18['PmtDue1'] = dates['Inst1'].iloc[1]\n",
    "df19['PmtDue1'] = dates['Inst1'].iloc[2]\n",
    "df20['PmtDue1'] = dates['Inst1'].iloc[3]\n",
    "df21['PmtDue1'] = dates['Inst1'].iloc[4]\n",
    "df17['PmtDue2'] = dates['Inst2'].iloc[0]\n",
    "df18['PmtDue2'] = dates['Inst2'].iloc[1]\n",
    "df19['PmtDue2'] = dates['Inst2'].iloc[2]\n",
    "df20['PmtDue2'] = dates['Inst2'].iloc[3]\n",
    "df21['PmtDue2'] = dates['Inst2'].iloc[4]"
   ]
  },
  {
   "cell_type": "code",
   "execution_count": 10,
   "metadata": {
    "scrolled": false
   },
   "outputs": [],
   "source": [
    "y5 = pd.concat([df17,df18,df19,df20,df21])"
   ]
  },
  {
   "cell_type": "code",
   "execution_count": 11,
   "metadata": {},
   "outputs": [],
   "source": [
    "df17=1\n",
    "df18=1\n",
    "df19=1\n",
    "df20=1\n",
    "df21=1"
   ]
  },
  {
   "cell_type": "code",
   "execution_count": 12,
   "metadata": {},
   "outputs": [
    {
     "data": {
      "text/plain": [
       "4828105"
      ]
     },
     "execution_count": 12,
     "metadata": {},
     "output_type": "execute_result"
    }
   ],
   "source": [
    "y5 = y5[(y5['LastPaymentSource1'] != '600') &(y5['LastPaymentSource1'] != '527') & (y5['LastPaymentSource1'] != '800') &\n",
    "       (y5['LastPaymentSource1'] != '802') & (y5['LastPaymentSource1'] != '830')]\n",
    "y5 = y5[(y5['LastPaymentSource2'] != '600') &(y5['LastPaymentSource2'] != '527') & (y5['LastPaymentSource2'] != '800') &\n",
    "       (y5['LastPaymentSource2'] != '802') & (y5['LastPaymentSource2'] != '830')]\n",
    "y5 = y5[y5['TaxStatus']!=1]\n",
    "len(y5)"
   ]
  },
  {
   "cell_type": "code",
   "execution_count": 13,
   "metadata": {},
   "outputs": [],
   "source": [
    "y5['PIN'] = y5['PIN'].astype(str)\n",
    "y5['Location']= y5['PIN'].str[0:2]\n"
   ]
  },
  {
   "cell_type": "code",
   "execution_count": 14,
   "metadata": {},
   "outputs": [
    {
     "data": {
      "text/plain": [
       "array(['TaxStatus', 'HomeownerExempt', 'SeniorExempt',\n",
       "       'LongtimeHomeownersExempt', 'TaxType', 'BillYear', 'BillType',\n",
       "       'TaxAmountDue1', 'InterestAmountDue1', 'CostAmountDue1',\n",
       "       'TotalAmountDue1', 'LastPaymentDate1', 'OriginalTaxDue2',\n",
       "       'TaxAmountDue2', 'InterestAmountDue2', 'CostAmountDue2',\n",
       "       'TotalAmountDue2', 'LastPaymentDate2', 'CofENumber',\n",
       "       'EqualizedEvaluation', 'AssessedValuation', 'TaxRate',\n",
       "       'CondemnationStatus', 'MunicipalAcquisitionStatus',\n",
       "       'AcquisitionStatus', 'ExemptStatus', 'BankruptStatus',\n",
       "       'RefundStatus', 'LastPaymentReceivedAmount2',\n",
       "       'HomeownerExemptAmount', 'SeniorExemptAmount',\n",
       "       'SeniorFreezeExemptAmount', 'LongtimeHomeownersExemptAmount',\n",
       "       'VeteranExempt', 'TaxDueEstimated1', 'Year'], dtype=object)"
      ]
     },
     "execution_count": 14,
     "metadata": {},
     "output_type": "execute_result"
    }
   ],
   "source": [
    "y5.select_dtypes(exclude=object).columns.values"
   ]
  },
  {
   "cell_type": "code",
   "execution_count": 15,
   "metadata": {},
   "outputs": [],
   "source": [
    "y5 = y5[y5['BankruptStatus']<3]\n",
    "y5 = y5.drop('RefundStatus', axis=1)\n"
   ]
  },
  {
   "cell_type": "code",
   "execution_count": 16,
   "metadata": {},
   "outputs": [],
   "source": [
    "y5['BillType'] = y5['BillType'].astype(str)\n",
    "y5['LastPaymentDate1'] = y5['LastPaymentDate1'].astype(str)\n",
    "y5['LastPaymentDate2'] = y5['LastPaymentDate2'].astype(str)\n",
    "y5['CofENumber'] = y5['CofENumber'].astype(str)\n"
   ]
  },
  {
   "cell_type": "code",
   "execution_count": 17,
   "metadata": {},
   "outputs": [
    {
     "data": {
      "text/plain": [
       "array(['PIN', 'SeniorFreezeExempt', 'BillType', 'AdjustedAmountDue1',\n",
       "       'LastPaymentDate1', 'LastPaymentSource1', 'AdjustedTaxDue2',\n",
       "       'LastPaymentDate2', 'LastPaymentSource2', 'CofENumber',\n",
       "       'PastTaxSaleStatus', 'LastPaymentReceivedAmount1', 'PmtDue1',\n",
       "       'PmtDue2', 'Location'], dtype=object)"
      ]
     },
     "execution_count": 17,
     "metadata": {},
     "output_type": "execute_result"
    }
   ],
   "source": [
    "y5.select_dtypes(include=object).columns.values"
   ]
  },
  {
   "cell_type": "code",
   "execution_count": 18,
   "metadata": {},
   "outputs": [],
   "source": [
    "y5 = y5.drop('SeniorFreezeExempt',axis=1)\n",
    "y5['AdjustedAmountDue1'] = y5['AdjustedAmountDue1'].astype(float)\n",
    "y5['AdjustedTaxDue2'] = y5['AdjustedTaxDue2'].astype(float)\n",
    "y5['PastTaxSaleStatus'] = y5['PastTaxSaleStatus'].map({'Y': 1, 'N': 0})\n",
    "y5['LastPaymentReceivedAmount1'] = y5['LastPaymentReceivedAmount1'].astype(float)\n"
   ]
  },
  {
   "cell_type": "code",
   "execution_count": 19,
   "metadata": {},
   "outputs": [
    {
     "data": {
      "text/plain": [
       "array(['PIN', 'BillType', 'LastPaymentDate1', 'LastPaymentSource1',\n",
       "       'LastPaymentDate2', 'LastPaymentSource2', 'CofENumber', 'PmtDue1',\n",
       "       'PmtDue2', 'Location'], dtype=object)"
      ]
     },
     "execution_count": 19,
     "metadata": {},
     "output_type": "execute_result"
    }
   ],
   "source": [
    "y5.select_dtypes(include=object).columns.values"
   ]
  },
  {
   "cell_type": "code",
   "execution_count": 20,
   "metadata": {},
   "outputs": [],
   "source": [
    "y5['LastPaymentDate1'] = y5['LastPaymentDate1'].astype(str)\n",
    "y5['LastPaymentDate2'] = y5['LastPaymentDate2'].astype(str)\n"
   ]
  },
  {
   "cell_type": "code",
   "execution_count": 21,
   "metadata": {},
   "outputs": [],
   "source": [
    "y5['LastPaymentDate1'] = y5['LastPaymentDate1'].str[:-2]\n",
    "y5['LastPaymentDate2'] = y5['LastPaymentDate2'].str[:-2]\n"
   ]
  },
  {
   "cell_type": "code",
   "execution_count": 22,
   "metadata": {},
   "outputs": [],
   "source": [
    "y5 = y5[y5['LastPaymentDate1']!='0']\n",
    "y5 = y5[y5['LastPaymentDate2']!='0']\n"
   ]
  },
  {
   "cell_type": "code",
   "execution_count": 23,
   "metadata": {},
   "outputs": [],
   "source": [
    "from datetime import datetime\n",
    "import numpy as np\n",
    "y5['LastPaymentDate1'] = y5['LastPaymentDate1'].str.zfill(8)\n",
    "y5['LastPaymentDate2'] = y5['LastPaymentDate2'].str.zfill(8)\n",
    "y5['LastPaymentDate1'] = pd.to_datetime(y5['LastPaymentDate1'], format='%m%d%Y')\n",
    "y5['LastPaymentDate2'] = pd.to_datetime(y5['LastPaymentDate2'], format='%m%d%Y')\n",
    "y5['PmtDue1'] = pd.to_datetime(y5['PmtDue1'], format='%Y-%m-%d')\n",
    "y5['PmtDue2'] = pd.to_datetime(y5['PmtDue2'], format='%Y-%m-%d')"
   ]
  },
  {
   "cell_type": "code",
   "execution_count": 24,
   "metadata": {},
   "outputs": [],
   "source": [
    "y5['DiffPmt1'] = (y5['LastPaymentDate1'] - y5['PmtDue1']).dt.days\n",
    "y5.loc[y5[\"DiffPmt1\"] < 0, \"DiffPmt1\"] = 0\n",
    "y5['DiffPmt2'] = (y5['LastPaymentDate2'] - y5['PmtDue2']).dt.days\n",
    "y5.loc[y5[\"DiffPmt2\"] < 0, \"DiffPmt2\"] = 0"
   ]
  },
  {
   "cell_type": "code",
   "execution_count": 25,
   "metadata": {
    "scrolled": false
   },
   "outputs": [],
   "source": [
    "y5 = y5[(y5['DiffPmt2']>0) & (y5['DiffPmt1']>0)]"
   ]
  },
  {
   "cell_type": "code",
   "execution_count": 26,
   "metadata": {},
   "outputs": [],
   "source": [
    "y5[\"CofENumber\"] = y5['CofENumber'].astype(float)\n",
    "y5.loc[y5[\"CofENumber\"] == 0, \"CofENumber\"] = 0\n",
    "y5.loc[y5[\"CofENumber\"] != 0, \"CofENumber\"] = 1\n",
    "y5[\"CofENumber\"] = y5['CofENumber'].astype(int)\n",
    "y5.loc[y5[\"HomeownerExempt\"] > 0, \"HomeownerExempt\"] = 1\n",
    "y5.loc[y5[\"SeniorExempt\"] > 0, \"SeniorExempt\"] = 1\n",
    "y5.loc[y5[\"LongtimeHomeownersExempt\"] > 0, \"LongtimeHomeownersExempt\"] = 1\n",
    "y5 = y5.drop(['LastPaymentDate1','LastPaymentDate2','PmtDue1','PmtDue2','Year'],axis=1)\n",
    "y5.loc[y5[\"ExemptStatus\"] > 0, \"ExemptStatus\"] = 1\n",
    "y5.loc[y5[\"VeteranExempt\"] > 0, \"VeteranExempt\"] = 1\n"
   ]
  },
  {
   "cell_type": "code",
   "execution_count": 27,
   "metadata": {},
   "outputs": [
    {
     "data": {
      "text/plain": [
       "array(['TaxStatus', 'HomeownerExempt', 'SeniorExempt',\n",
       "       'LongtimeHomeownersExempt', 'TaxType', 'BillYear',\n",
       "       'AdjustedAmountDue1', 'TaxAmountDue1', 'InterestAmountDue1',\n",
       "       'CostAmountDue1', 'TotalAmountDue1', 'OriginalTaxDue2',\n",
       "       'AdjustedTaxDue2', 'TaxAmountDue2', 'InterestAmountDue2',\n",
       "       'CostAmountDue2', 'TotalAmountDue2', 'CofENumber',\n",
       "       'PastTaxSaleStatus', 'EqualizedEvaluation', 'AssessedValuation',\n",
       "       'TaxRate', 'CondemnationStatus', 'MunicipalAcquisitionStatus',\n",
       "       'AcquisitionStatus', 'ExemptStatus', 'BankruptStatus',\n",
       "       'LastPaymentReceivedAmount1', 'LastPaymentReceivedAmount2',\n",
       "       'HomeownerExemptAmount', 'SeniorExemptAmount',\n",
       "       'SeniorFreezeExemptAmount', 'LongtimeHomeownersExemptAmount',\n",
       "       'VeteranExempt', 'TaxDueEstimated1', 'DiffPmt1', 'DiffPmt2'],\n",
       "      dtype=object)"
      ]
     },
     "execution_count": 27,
     "metadata": {},
     "output_type": "execute_result"
    }
   ],
   "source": [
    "y5.select_dtypes(exclude=object).columns.values"
   ]
  },
  {
   "cell_type": "code",
   "execution_count": 28,
   "metadata": {},
   "outputs": [],
   "source": [
    "numbers = y5[['BillYear','AdjustedAmountDue1', 'InterestAmountDue1',\n",
    "       'CostAmountDue1', 'TotalAmountDue1', 'AssessedValuation', 'AdjustedTaxDue2', 'TaxRate',\n",
    "       'InterestAmountDue2', 'CostAmountDue2', 'TotalAmountDue2',]]"
   ]
  },
  {
   "cell_type": "code",
   "execution_count": 29,
   "metadata": {
    "scrolled": false
   },
   "outputs": [
    {
     "data": {
      "text/plain": [
       "<matplotlib.axes._subplots.AxesSubplot at 0x1428292d0>"
      ]
     },
     "execution_count": 29,
     "metadata": {},
     "output_type": "execute_result"
    }
   ],
   "source": [
    "import numpy as np\n",
    "import matplotlib.pyplot as plt\n",
    "import seaborn as sns\n",
    "\n",
    "f, ax = plt.subplots(figsize=(12, 10))\n",
    "matrix = np.triu(numbers.corr())\n",
    "sns.heatmap(numbers.corr(),cmap = sns.diverging_palette(230, 20, as_cmap=True),annot=True,mask=matrix)\n"
   ]
  },
  {
   "cell_type": "code",
   "execution_count": 30,
   "metadata": {},
   "outputs": [
    {
     "data": {
      "text/plain": [
       "array(['PIN', 'TaxStatus', 'HomeownerExempt', 'SeniorExempt',\n",
       "       'LongtimeHomeownersExempt', 'TaxType', 'BillYear', 'BillType',\n",
       "       'AdjustedAmountDue1', 'InterestAmountDue1', 'CostAmountDue1',\n",
       "       'TotalAmountDue1', 'LastPaymentSource1', 'AdjustedTaxDue2',\n",
       "       'InterestAmountDue2', 'CostAmountDue2', 'TotalAmountDue2',\n",
       "       'LastPaymentSource2', 'CofENumber', 'PastTaxSaleStatus',\n",
       "       'AssessedValuation', 'TaxRate', 'CondemnationStatus',\n",
       "       'MunicipalAcquisitionStatus', 'AcquisitionStatus', 'ExemptStatus',\n",
       "       'BankruptStatus', 'LastPaymentReceivedAmount1',\n",
       "       'LastPaymentReceivedAmount2', 'HomeownerExemptAmount',\n",
       "       'SeniorExemptAmount', 'SeniorFreezeExemptAmount',\n",
       "       'LongtimeHomeownersExemptAmount', 'VeteranExempt',\n",
       "       'TaxDueEstimated1', 'Location', 'DiffPmt1', 'DiffPmt2'],\n",
       "      dtype=object)"
      ]
     },
     "execution_count": 30,
     "metadata": {},
     "output_type": "execute_result"
    }
   ],
   "source": [
    "y5 = y5.drop(['EqualizedEvaluation','TaxAmountDue1','TaxAmountDue2','OriginalTaxDue2'],axis=1)\n",
    "y5.columns.values"
   ]
  },
  {
   "cell_type": "code",
   "execution_count": 31,
   "metadata": {},
   "outputs": [],
   "source": [
    "y5 = y5.astype({\"SeniorExempt\":'int',\"LongtimeHomeownersExempt\":'int',\"BillYear\":'int',\"CondemnationStatus\":'int',\n",
    "               \"MunicipalAcquisitionStatus\":'int',\"AcquisitionStatus\":'int',\"ExemptStatus\":'int',\"BankruptStatus\":'int',\n",
    "               \"VeteranExempt\":'int'}) "
   ]
  },
  {
   "cell_type": "code",
   "execution_count": 32,
   "metadata": {},
   "outputs": [],
   "source": [
    "y5 = y5.drop(['LastPaymentSource2','LastPaymentReceivedAmount2'], axis=1)"
   ]
  },
  {
   "cell_type": "code",
   "execution_count": 33,
   "metadata": {},
   "outputs": [],
   "source": [
    "yr5 = y5.drop('PIN',axis=1)\n",
    "yr5 = pd.get_dummies(yr5, prefix=['BillType', 'TaxStatus','LastPaymentSource1','Location',\n",
    "                           'HomeownerExempt','TaxType'], columns=['BillType', 'TaxStatus','LastPaymentSource1',\n",
    "                            'Location', 'HomeownerExempt','TaxType'])"
   ]
  },
  {
   "cell_type": "code",
   "execution_count": 34,
   "metadata": {
    "scrolled": false
   },
   "outputs": [
    {
     "data": {
      "text/plain": [
       "(459296, 120)"
      ]
     },
     "execution_count": 34,
     "metadata": {},
     "output_type": "execute_result"
    }
   ],
   "source": [
    "yr5.shape"
   ]
  },
  {
   "cell_type": "code",
   "execution_count": 35,
   "metadata": {},
   "outputs": [
    {
     "data": {
      "text/plain": [
       "array(['PIN', 'TaxStatus', 'HomeownerExempt', 'SeniorExempt',\n",
       "       'LongtimeHomeownersExempt', 'TaxType', 'BillYear', 'BillType',\n",
       "       'AdjustedAmountDue1', 'InterestAmountDue1', 'CostAmountDue1',\n",
       "       'TotalAmountDue1', 'LastPaymentSource1', 'AdjustedTaxDue2',\n",
       "       'InterestAmountDue2', 'CostAmountDue2', 'TotalAmountDue2',\n",
       "       'CofENumber', 'PastTaxSaleStatus', 'AssessedValuation', 'TaxRate',\n",
       "       'CondemnationStatus', 'MunicipalAcquisitionStatus',\n",
       "       'AcquisitionStatus', 'ExemptStatus', 'BankruptStatus',\n",
       "       'LastPaymentReceivedAmount1', 'HomeownerExemptAmount',\n",
       "       'SeniorExemptAmount', 'SeniorFreezeExemptAmount',\n",
       "       'LongtimeHomeownersExemptAmount', 'VeteranExempt',\n",
       "       'TaxDueEstimated1', 'Location', 'DiffPmt1', 'DiffPmt2'],\n",
       "      dtype=object)"
      ]
     },
     "execution_count": 35,
     "metadata": {},
     "output_type": "execute_result"
    }
   ],
   "source": [
    "y5.columns.values"
   ]
  },
  {
   "cell_type": "code",
   "execution_count": 36,
   "metadata": {},
   "outputs": [],
   "source": [
    "from sklearn.model_selection import train_test_split\n",
    "\n",
    "X_train, X_test, y_train, y_test = train_test_split(yr5.drop('DiffPmt2',axis=1), yr5['DiffPmt2'],\n",
    "                                                    test_size=0.2, random_state=42)"
   ]
  },
  {
   "cell_type": "code",
   "execution_count": 37,
   "metadata": {},
   "outputs": [
    {
     "name": "stdout",
     "output_type": "stream",
     "text": [
      "RandomForestRegressor(bootstrap=True, criterion='mse', max_depth=15,\n",
      "           max_features='auto', max_leaf_nodes=None,\n",
      "           min_impurity_decrease=0.0, min_impurity_split=None,\n",
      "           min_samples_leaf=1, min_samples_split=2,\n",
      "           min_weight_fraction_leaf=0.0, n_estimators=100, n_jobs=None,\n",
      "           oob_score=False, random_state=None, verbose=0, warm_start=False)\n",
      "('Execution time in Min: ', 8.360067649682362)\n"
     ]
    }
   ],
   "source": [
    "from sklearn.ensemble import RandomForestRegressor\n",
    "\n",
    "st = time.time()\n",
    "rfr = RandomForestRegressor(max_depth=15, n_estimators=100)\n",
    "rfr.fit(X_train,y_train)\n",
    "et = time.time()\n",
    "print(rfr)\n",
    "print('Execution time in Min: ', (et-st)/60)"
   ]
  },
  {
   "cell_type": "code",
   "execution_count": 38,
   "metadata": {},
   "outputs": [
    {
     "name": "stdout",
     "output_type": "stream",
     "text": [
      "('train data r2: ', 0.8194024417699266)\n",
      "('test data r2: ', 0.7810973408826125)\n"
     ]
    }
   ],
   "source": [
    "print('train data r2: ', rfr.score(X_train,y_train))\n",
    "print('test data r2: ', rfr.score(X_test,y_test))\n"
   ]
  },
  {
   "cell_type": "code",
   "execution_count": 39,
   "metadata": {},
   "outputs": [
    {
     "data": {
      "text/plain": [
       "Text(0.5,0,'Random Forest Feature Importance')"
      ]
     },
     "execution_count": 39,
     "metadata": {},
     "output_type": "execute_result"
    },
    {
     "data": {
      "image/png": "[encoded data removed]",
      "text/plain": [
       "<Figure size 432x288 with 1 Axes>"
      ]
     },
     "metadata": {
      "needs_background": "light"
     },
     "output_type": "display_data"
    }
   ],
   "source": [
    "sorted_idx = rfr.feature_importances_.argsort()\n",
    "imp = pd.DataFrame()\n",
    "imp['col'] = yr5.drop('DiffPmt2',axis=1).columns[sorted_idx]\n",
    "imp['imp'] = rfr.feature_importances_[sorted_idx]\n",
    "imp = imp.sort_values('imp',ascending=False)\n",
    "finalimp = imp.head(30).sort_values('imp',ascending=True)\n",
    "plt.barh(finalimp['col'],finalimp['imp'])\n",
    "plt.xlabel(\"Random Forest Feature Importance\")"
   ]
  },
  {
   "cell_type": "code",
   "execution_count": 40,
   "metadata": {},
   "outputs": [
    {
     "data": {
      "text/html": [
       "<div>\n",
       "<style scoped>\n",
       "    .dataframe tbody tr th:only-of-type {\n",
       "        vertical-align: middle;\n",
       "    }\n",
       "\n",
       "    .dataframe tbody tr th {\n",
       "        vertical-align: top;\n",
       "    }\n",
       "\n",
       "    .dataframe thead th {\n",
       "        text-align: right;\n",
       "    }\n",
       "</style>\n",
       "<table border=\"1\" class=\"dataframe\">\n",
       "  <thead>\n",
       "    <tr style=\"text-align: right;\">\n",
       "      <th></th>\n",
       "      <th>col</th>\n",
       "      <th>imp</th>\n",
       "    </tr>\n",
       "  </thead>\n",
       "  <tbody>\n",
       "    <tr>\n",
       "      <th>118</th>\n",
       "      <td>DiffPmt1</td>\n",
       "      <td>9.094700e-01</td>\n",
       "    </tr>\n",
       "    <tr>\n",
       "      <th>117</th>\n",
       "      <td>BillYear</td>\n",
       "      <td>3.195047e-02</td>\n",
       "    </tr>\n",
       "    <tr>\n",
       "      <th>116</th>\n",
       "      <td>AssessedValuation</td>\n",
       "      <td>6.717092e-03</td>\n",
       "    </tr>\n",
       "    <tr>\n",
       "      <th>115</th>\n",
       "      <td>AdjustedTaxDue2</td>\n",
       "      <td>5.536739e-03</td>\n",
       "    </tr>\n",
       "    <tr>\n",
       "      <th>114</th>\n",
       "      <td>LastPaymentReceivedAmount1</td>\n",
       "      <td>5.053040e-03</td>\n",
       "    </tr>\n",
       "    <tr>\n",
       "      <th>113</th>\n",
       "      <td>TaxRate</td>\n",
       "      <td>4.631895e-03</td>\n",
       "    </tr>\n",
       "    <tr>\n",
       "      <th>112</th>\n",
       "      <td>InterestAmountDue2</td>\n",
       "      <td>4.158227e-03</td>\n",
       "    </tr>\n",
       "    <tr>\n",
       "      <th>111</th>\n",
       "      <td>TaxDueEstimated1</td>\n",
       "      <td>3.531924e-03</td>\n",
       "    </tr>\n",
       "    <tr>\n",
       "      <th>110</th>\n",
       "      <td>TotalAmountDue2</td>\n",
       "      <td>2.875028e-03</td>\n",
       "    </tr>\n",
       "    <tr>\n",
       "      <th>109</th>\n",
       "      <td>AdjustedAmountDue1</td>\n",
       "      <td>2.538137e-03</td>\n",
       "    </tr>\n",
       "    <tr>\n",
       "      <th>108</th>\n",
       "      <td>LastPaymentSource1_801</td>\n",
       "      <td>1.988437e-03</td>\n",
       "    </tr>\n",
       "    <tr>\n",
       "      <th>107</th>\n",
       "      <td>PastTaxSaleStatus</td>\n",
       "      <td>1.891820e-03</td>\n",
       "    </tr>\n",
       "    <tr>\n",
       "      <th>106</th>\n",
       "      <td>LastPaymentSource1_444</td>\n",
       "      <td>1.278000e-03</td>\n",
       "    </tr>\n",
       "    <tr>\n",
       "      <th>105</th>\n",
       "      <td>CofENumber</td>\n",
       "      <td>1.009466e-03</td>\n",
       "    </tr>\n",
       "    <tr>\n",
       "      <th>104</th>\n",
       "      <td>BankruptStatus</td>\n",
       "      <td>9.181037e-04</td>\n",
       "    </tr>\n",
       "    <tr>\n",
       "      <th>103</th>\n",
       "      <td>HomeownerExemptAmount</td>\n",
       "      <td>8.255134e-04</td>\n",
       "    </tr>\n",
       "    <tr>\n",
       "      <th>102</th>\n",
       "      <td>SeniorFreezeExemptAmount</td>\n",
       "      <td>8.105768e-04</td>\n",
       "    </tr>\n",
       "    <tr>\n",
       "      <th>101</th>\n",
       "      <td>Location_25</td>\n",
       "      <td>7.263777e-04</td>\n",
       "    </tr>\n",
       "    <tr>\n",
       "      <th>100</th>\n",
       "      <td>Location_20</td>\n",
       "      <td>6.823349e-04</td>\n",
       "    </tr>\n",
       "    <tr>\n",
       "      <th>99</th>\n",
       "      <td>LastPaymentSource1_501</td>\n",
       "      <td>6.156521e-04</td>\n",
       "    </tr>\n",
       "    <tr>\n",
       "      <th>98</th>\n",
       "      <td>LastPaymentSource1_436</td>\n",
       "      <td>5.524654e-04</td>\n",
       "    </tr>\n",
       "    <tr>\n",
       "      <th>97</th>\n",
       "      <td>TotalAmountDue1</td>\n",
       "      <td>5.200493e-04</td>\n",
       "    </tr>\n",
       "    <tr>\n",
       "      <th>96</th>\n",
       "      <td>Location_19</td>\n",
       "      <td>4.907095e-04</td>\n",
       "    </tr>\n",
       "    <tr>\n",
       "      <th>95</th>\n",
       "      <td>Location_16</td>\n",
       "      <td>4.647981e-04</td>\n",
       "    </tr>\n",
       "    <tr>\n",
       "      <th>94</th>\n",
       "      <td>LastPaymentSource1_700</td>\n",
       "      <td>3.988537e-04</td>\n",
       "    </tr>\n",
       "    <tr>\n",
       "      <th>93</th>\n",
       "      <td>LastPaymentSource1_000</td>\n",
       "      <td>3.976183e-04</td>\n",
       "    </tr>\n",
       "    <tr>\n",
       "      <th>92</th>\n",
       "      <td>LastPaymentSource1_486</td>\n",
       "      <td>3.701753e-04</td>\n",
       "    </tr>\n",
       "    <tr>\n",
       "      <th>91</th>\n",
       "      <td>Location_26</td>\n",
       "      <td>3.323883e-04</td>\n",
       "    </tr>\n",
       "    <tr>\n",
       "      <th>90</th>\n",
       "      <td>Location_17</td>\n",
       "      <td>3.233645e-04</td>\n",
       "    </tr>\n",
       "    <tr>\n",
       "      <th>89</th>\n",
       "      <td>HomeownerExempt_1.0</td>\n",
       "      <td>3.005324e-04</td>\n",
       "    </tr>\n",
       "    <tr>\n",
       "      <th>...</th>\n",
       "      <td>...</td>\n",
       "      <td>...</td>\n",
       "    </tr>\n",
       "    <tr>\n",
       "      <th>29</th>\n",
       "      <td>Location_63</td>\n",
       "      <td>2.959168e-05</td>\n",
       "    </tr>\n",
       "    <tr>\n",
       "      <th>28</th>\n",
       "      <td>Location_70</td>\n",
       "      <td>2.858378e-05</td>\n",
       "    </tr>\n",
       "    <tr>\n",
       "      <th>27</th>\n",
       "      <td>MunicipalAcquisitionStatus</td>\n",
       "      <td>2.748055e-05</td>\n",
       "    </tr>\n",
       "    <tr>\n",
       "      <th>26</th>\n",
       "      <td>Location_61</td>\n",
       "      <td>2.739993e-05</td>\n",
       "    </tr>\n",
       "    <tr>\n",
       "      <th>25</th>\n",
       "      <td>LastPaymentSource1_422</td>\n",
       "      <td>2.463748e-05</td>\n",
       "    </tr>\n",
       "    <tr>\n",
       "      <th>24</th>\n",
       "      <td>Location_51</td>\n",
       "      <td>2.232291e-05</td>\n",
       "    </tr>\n",
       "    <tr>\n",
       "      <th>23</th>\n",
       "      <td>Location_90</td>\n",
       "      <td>2.216775e-05</td>\n",
       "    </tr>\n",
       "    <tr>\n",
       "      <th>22</th>\n",
       "      <td>LastPaymentSource1_426</td>\n",
       "      <td>1.724586e-05</td>\n",
       "    </tr>\n",
       "    <tr>\n",
       "      <th>21</th>\n",
       "      <td>LastPaymentSource1_437</td>\n",
       "      <td>1.600817e-05</td>\n",
       "    </tr>\n",
       "    <tr>\n",
       "      <th>20</th>\n",
       "      <td>LastPaymentSource1_476</td>\n",
       "      <td>1.341372e-05</td>\n",
       "    </tr>\n",
       "    <tr>\n",
       "      <th>19</th>\n",
       "      <td>LastPaymentSource1_823</td>\n",
       "      <td>4.513739e-06</td>\n",
       "    </tr>\n",
       "    <tr>\n",
       "      <th>18</th>\n",
       "      <td>LastPaymentSource1_487</td>\n",
       "      <td>4.254145e-06</td>\n",
       "    </tr>\n",
       "    <tr>\n",
       "      <th>17</th>\n",
       "      <td>TaxType_1.0</td>\n",
       "      <td>4.222295e-06</td>\n",
       "    </tr>\n",
       "    <tr>\n",
       "      <th>16</th>\n",
       "      <td>TaxType_0.0</td>\n",
       "      <td>3.543570e-06</td>\n",
       "    </tr>\n",
       "    <tr>\n",
       "      <th>15</th>\n",
       "      <td>LastPaymentSource1_407</td>\n",
       "      <td>2.348056e-06</td>\n",
       "    </tr>\n",
       "    <tr>\n",
       "      <th>14</th>\n",
       "      <td>AcquisitionStatus</td>\n",
       "      <td>1.864385e-06</td>\n",
       "    </tr>\n",
       "    <tr>\n",
       "      <th>13</th>\n",
       "      <td>LastPaymentSource1_472</td>\n",
       "      <td>1.580371e-06</td>\n",
       "    </tr>\n",
       "    <tr>\n",
       "      <th>12</th>\n",
       "      <td>LastPaymentSource1_428</td>\n",
       "      <td>1.024704e-06</td>\n",
       "    </tr>\n",
       "    <tr>\n",
       "      <th>11</th>\n",
       "      <td>LastPaymentSource1_478</td>\n",
       "      <td>6.080334e-07</td>\n",
       "    </tr>\n",
       "    <tr>\n",
       "      <th>10</th>\n",
       "      <td>LastPaymentSource1_463</td>\n",
       "      <td>4.147460e-07</td>\n",
       "    </tr>\n",
       "    <tr>\n",
       "      <th>9</th>\n",
       "      <td>TaxStatus_5.0</td>\n",
       "      <td>1.209413e-07</td>\n",
       "    </tr>\n",
       "    <tr>\n",
       "      <th>8</th>\n",
       "      <td>CondemnationStatus</td>\n",
       "      <td>1.582834e-08</td>\n",
       "    </tr>\n",
       "    <tr>\n",
       "      <th>7</th>\n",
       "      <td>LastPaymentSource1_505</td>\n",
       "      <td>5.200256e-09</td>\n",
       "    </tr>\n",
       "    <tr>\n",
       "      <th>2</th>\n",
       "      <td>LastPaymentSource1_482</td>\n",
       "      <td>0.000000e+00</td>\n",
       "    </tr>\n",
       "    <tr>\n",
       "      <th>4</th>\n",
       "      <td>LastPaymentSource1_473</td>\n",
       "      <td>0.000000e+00</td>\n",
       "    </tr>\n",
       "    <tr>\n",
       "      <th>3</th>\n",
       "      <td>BillType_4.0</td>\n",
       "      <td>0.000000e+00</td>\n",
       "    </tr>\n",
       "    <tr>\n",
       "      <th>1</th>\n",
       "      <td>BillType_1.0</td>\n",
       "      <td>0.000000e+00</td>\n",
       "    </tr>\n",
       "    <tr>\n",
       "      <th>5</th>\n",
       "      <td>LastPaymentSource1_471</td>\n",
       "      <td>0.000000e+00</td>\n",
       "    </tr>\n",
       "    <tr>\n",
       "      <th>6</th>\n",
       "      <td>LastPaymentSource1_421</td>\n",
       "      <td>0.000000e+00</td>\n",
       "    </tr>\n",
       "    <tr>\n",
       "      <th>0</th>\n",
       "      <td>LastPaymentSource1_522</td>\n",
       "      <td>0.000000e+00</td>\n",
       "    </tr>\n",
       "  </tbody>\n",
       "</table>\n",
       "<p>119 rows × 2 columns</p>\n",
       "</div>"
      ],
      "text/plain": [
       "                            col           imp\n",
       "118                    DiffPmt1  9.094700e-01\n",
       "117                    BillYear  3.195047e-02\n",
       "116           AssessedValuation  6.717092e-03\n",
       "115             AdjustedTaxDue2  5.536739e-03\n",
       "114  LastPaymentReceivedAmount1  5.053040e-03\n",
       "113                     TaxRate  4.631895e-03\n",
       "112          InterestAmountDue2  4.158227e-03\n",
       "111            TaxDueEstimated1  3.531924e-03\n",
       "110             TotalAmountDue2  2.875028e-03\n",
       "109          AdjustedAmountDue1  2.538137e-03\n",
       "108      LastPaymentSource1_801  1.988437e-03\n",
       "107           PastTaxSaleStatus  1.891820e-03\n",
       "106      LastPaymentSource1_444  1.278000e-03\n",
       "105                  CofENumber  1.009466e-03\n",
       "104              BankruptStatus  9.181037e-04\n",
       "103       HomeownerExemptAmount  8.255134e-04\n",
       "102    SeniorFreezeExemptAmount  8.105768e-04\n",
       "101                 Location_25  7.263777e-04\n",
       "100                 Location_20  6.823349e-04\n",
       "99       LastPaymentSource1_501  6.156521e-04\n",
       "98       LastPaymentSource1_436  5.524654e-04\n",
       "97              TotalAmountDue1  5.200493e-04\n",
       "96                  Location_19  4.907095e-04\n",
       "95                  Location_16  4.647981e-04\n",
       "94       LastPaymentSource1_700  3.988537e-04\n",
       "93       LastPaymentSource1_000  3.976183e-04\n",
       "92       LastPaymentSource1_486  3.701753e-04\n",
       "91                  Location_26  3.323883e-04\n",
       "90                  Location_17  3.233645e-04\n",
       "89          HomeownerExempt_1.0  3.005324e-04\n",
       "..                          ...           ...\n",
       "29                  Location_63  2.959168e-05\n",
       "28                  Location_70  2.858378e-05\n",
       "27   MunicipalAcquisitionStatus  2.748055e-05\n",
       "26                  Location_61  2.739993e-05\n",
       "25       LastPaymentSource1_422  2.463748e-05\n",
       "24                  Location_51  2.232291e-05\n",
       "23                  Location_90  2.216775e-05\n",
       "22       LastPaymentSource1_426  1.724586e-05\n",
       "21       LastPaymentSource1_437  1.600817e-05\n",
       "20       LastPaymentSource1_476  1.341372e-05\n",
       "19       LastPaymentSource1_823  4.513739e-06\n",
       "18       LastPaymentSource1_487  4.254145e-06\n",
       "17                  TaxType_1.0  4.222295e-06\n",
       "16                  TaxType_0.0  3.543570e-06\n",
       "15       LastPaymentSource1_407  2.348056e-06\n",
       "14            AcquisitionStatus  1.864385e-06\n",
       "13       LastPaymentSource1_472  1.580371e-06\n",
       "12       LastPaymentSource1_428  1.024704e-06\n",
       "11       LastPaymentSource1_478  6.080334e-07\n",
       "10       LastPaymentSource1_463  4.147460e-07\n",
       "9                 TaxStatus_5.0  1.209413e-07\n",
       "8            CondemnationStatus  1.582834e-08\n",
       "7        LastPaymentSource1_505  5.200256e-09\n",
       "2        LastPaymentSource1_482  0.000000e+00\n",
       "4        LastPaymentSource1_473  0.000000e+00\n",
       "3                  BillType_4.0  0.000000e+00\n",
       "1                  BillType_1.0  0.000000e+00\n",
       "5        LastPaymentSource1_471  0.000000e+00\n",
       "6        LastPaymentSource1_421  0.000000e+00\n",
       "0        LastPaymentSource1_522  0.000000e+00\n",
       "\n",
       "[119 rows x 2 columns]"
      ]
     },
     "execution_count": 40,
     "metadata": {},
     "output_type": "execute_result"
    }
   ],
   "source": [
    "imp"
   ]
  },
  {
   "cell_type": "code",
   "execution_count": 41,
   "metadata": {},
   "outputs": [
    {
     "name": "stdout",
     "output_type": "stream",
     "text": [
      "('Final Time: ', 11.52086438337962)\n"
     ]
    }
   ],
   "source": [
    "end = time.time()\n",
    "print('Final Time: ', (end-start)/60)"
   ]
  },
  {
   "cell_type": "code",
   "execution_count": 42,
   "metadata": {},
   "outputs": [],
   "source": [
    "#MAE, MAPE, R2"
   ]
  },
  {
   "cell_type": "code",
   "execution_count": 43,
   "metadata": {},
   "outputs": [
    {
     "data": {
      "text/plain": [
       "459296"
      ]
     },
     "execution_count": 43,
     "metadata": {},
     "output_type": "execute_result"
    }
   ],
   "source": [
    "len(yr5)"
   ]
  },
  {
   "cell_type": "code",
   "execution_count": 44,
   "metadata": {},
   "outputs": [],
   "source": [
    "#from sklearn.model_selection import GridSearchCV\n",
    "#param = {'n_estimators':[100,200], 'max_depth':[15,20,25] }\n",
    "#rf1 = RandomForestRegressor()\n",
    "#grid = GridSearchCV(rf1, param, cv=5)\n",
    "#grid.fit(X_train,y_train)\n",
    "\n",
    "#print(grid.best_params_)\n",
    "#print(grid.best_score_)"
   ]
  },
  {
   "cell_type": "code",
   "execution_count": 49,
   "metadata": {},
   "outputs": [
    {
     "name": "stdout",
     "output_type": "stream",
     "text": [
      "RandomForestRegressor(bootstrap=True, criterion='mse', max_depth=15,\n",
      "           max_features='auto', max_leaf_nodes=None,\n",
      "           min_impurity_decrease=0.0, min_impurity_split=None,\n",
      "           min_samples_leaf=1, min_samples_split=2,\n",
      "           min_weight_fraction_leaf=0.0, n_estimators=100, n_jobs=None,\n",
      "           oob_score=False, random_state=None, verbose=0, warm_start=False)\n",
      "('train data r2: ', 0.7129789703220679)\n",
      "('test data r2: ', 0.6301280943728182)\n"
     ]
    }
   ],
   "source": [
    "\n",
    "X_train2, X_test2, y_train2, y_test2 = train_test_split(yr5.drop(['DiffPmt1','DiffPmt2'],axis=1), yr5['DiffPmt2'],\n",
    "                                                    test_size=0.2, random_state=42)\n",
    "rfr2 = RandomForestRegressor(max_depth=20,max_features=0.8,n_estimators=60)\n",
    "rfr2.fit(X_train2,y_train2)\n",
    "print(rfr)\n",
    "print('train data r2: ', rfr2.score(X_train2,y_train2))\n",
    "print('test data r2: ', rfr2.score(X_test2,y_test2))"
   ]
  },
  {
   "cell_type": "code",
   "execution_count": null,
   "metadata": {},
   "outputs": [],
   "source": []
  }
 ],
 "metadata": {
  "kernelspec": {
   "display_name": "Python 2",
   "language": "python",
   "name": "python2"
  },
  "language_info": {
   "codemirror_mode": {
    "name": "ipython",
    "version": 2
   },
   "file_extension": ".py",
   "mimetype": "text/x-python",
   "name": "python",
   "nbconvert_exporter": "python",
   "pygments_lexer": "ipython2",
   "version": "2.7.15"
  }
 },
 "nbformat": 4,
 "nbformat_minor": 5
}
